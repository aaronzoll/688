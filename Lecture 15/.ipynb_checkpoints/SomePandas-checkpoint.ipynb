{
 "cells": [
  {
   "cell_type": "markdown",
   "id": "1ad5d020-7377-47ac-bd3c-1ef95c66ffb1",
   "metadata": {},
   "source": [
    "**Some Pandas**\n",
    "\n",
    "We use the pandas package to deal with flat/rectangular datasets.\n",
    "Pandas calls these data frames (a term that comes from R).\n",
    "We'll only introduce a few things one can do with these for now.\n",
    "\n",
    "- read a .csv file as a pandas data frame\n",
    "- apply a function to every row to produce a pandas *Series*\n",
    "- create a new data frame by selecting rows satisfying some criterion\n"
   ]
  },
  {
   "cell_type": "code",
   "execution_count": 8,
   "id": "6a731181-45b2-4141-a61e-403ae784d4bb",
   "metadata": {
    "tags": []
   },
   "outputs": [
    {
     "name": "stdout",
     "output_type": "stream",
     "text": [
      "(9864, 5)\n"
     ]
    },
    {
     "data": {
      "text/html": [
       "<div>\n",
       "<style scoped>\n",
       "    .dataframe tbody tr th:only-of-type {\n",
       "        vertical-align: middle;\n",
       "    }\n",
       "\n",
       "    .dataframe tbody tr th {\n",
       "        vertical-align: top;\n",
       "    }\n",
       "\n",
       "    .dataframe thead th {\n",
       "        text-align: right;\n",
       "    }\n",
       "</style>\n",
       "<table border=\"1\" class=\"dataframe\">\n",
       "  <thead>\n",
       "    <tr style=\"text-align: right;\">\n",
       "      <th></th>\n",
       "      <th>location</th>\n",
       "      <th>princ</th>\n",
       "      <th>irate</th>\n",
       "      <th>cscore</th>\n",
       "      <th>result</th>\n",
       "    </tr>\n",
       "  </thead>\n",
       "  <tbody>\n",
       "    <tr>\n",
       "      <th>9857</th>\n",
       "      <td>suburban</td>\n",
       "      <td>507</td>\n",
       "      <td>7.25</td>\n",
       "      <td>641</td>\n",
       "      <td>non-default</td>\n",
       "    </tr>\n",
       "    <tr>\n",
       "      <th>9858</th>\n",
       "      <td>suburban</td>\n",
       "      <td>809</td>\n",
       "      <td>7.00</td>\n",
       "      <td>764</td>\n",
       "      <td>non-default</td>\n",
       "    </tr>\n",
       "    <tr>\n",
       "      <th>9859</th>\n",
       "      <td>suburban</td>\n",
       "      <td>769</td>\n",
       "      <td>7.75</td>\n",
       "      <td>586</td>\n",
       "      <td>non-default</td>\n",
       "    </tr>\n",
       "    <tr>\n",
       "      <th>9860</th>\n",
       "      <td>suburban</td>\n",
       "      <td>451</td>\n",
       "      <td>7.25</td>\n",
       "      <td>684</td>\n",
       "      <td>non-default</td>\n",
       "    </tr>\n",
       "    <tr>\n",
       "      <th>9861</th>\n",
       "      <td>suburban</td>\n",
       "      <td>410</td>\n",
       "      <td>7.00</td>\n",
       "      <td>702</td>\n",
       "      <td>non-default</td>\n",
       "    </tr>\n",
       "    <tr>\n",
       "      <th>9862</th>\n",
       "      <td>suburban</td>\n",
       "      <td>851</td>\n",
       "      <td>7.00</td>\n",
       "      <td>774</td>\n",
       "      <td>non-default</td>\n",
       "    </tr>\n",
       "    <tr>\n",
       "      <th>9863</th>\n",
       "      <td>suburban</td>\n",
       "      <td>260</td>\n",
       "      <td>7.50</td>\n",
       "      <td>657</td>\n",
       "      <td>default</td>\n",
       "    </tr>\n",
       "  </tbody>\n",
       "</table>\n",
       "</div>"
      ],
      "text/plain": [
       "      location  princ  irate  cscore       result\n",
       "9857  suburban    507   7.25     641  non-default\n",
       "9858  suburban    809   7.00     764  non-default\n",
       "9859  suburban    769   7.75     586  non-default\n",
       "9860  suburban    451   7.25     684  non-default\n",
       "9861  suburban    410   7.00     702  non-default\n",
       "9862  suburban    851   7.00     774  non-default\n",
       "9863  suburban    260   7.50     657      default"
      ]
     },
     "execution_count": 8,
     "metadata": {},
     "output_type": "execute_result"
    }
   ],
   "source": [
    "import pandas as pd\n",
    "df=pd.read_csv(\"mortgage_data.csv\")\n",
    "print(df.shape)\n",
    "df.tail(7)"
   ]
  },
  {
   "cell_type": "markdown",
   "id": "cd99d0cf-2027-43e4-a71c-5b598cc7514c",
   "metadata": {},
   "source": [
    "We can get a row of a pandas data frame using the iloc function. Here iloc's argument refers to position in a list of rows. "
   ]
  },
  {
   "cell_type": "code",
   "execution_count": 10,
   "id": "0022d738-268a-4cba-98ed-113e1bf39e19",
   "metadata": {
    "tags": []
   },
   "outputs": [
    {
     "name": "stdout",
     "output_type": "stream",
     "text": [
      "<class 'pandas.core.series.Series'>\n",
      "location    suburban\n",
      "princ            574\n",
      "irate           7.25\n",
      "cscore           715\n",
      "result       default\n",
      "Name: 5, dtype: object\n"
     ]
    }
   ],
   "source": [
    "row=df.iloc[5]\n",
    "print(type(row))\n",
    "print(row)"
   ]
  },
  {
   "cell_type": "markdown",
   "id": "4cd6835e-765d-481a-b7ce-c7ace5fcffed",
   "metadata": {
    "tags": []
   },
   "source": [
    "The resulting pandas series can be thought of as name value pairs.\n",
    "The names of the rows (the first column) is the *index* of the series.\n",
    "We can access the values using a dot."
   ]
  },
  {
   "cell_type": "code",
   "execution_count": 11,
   "id": "27f508a2-a44a-466d-ba43-3b735d09824e",
   "metadata": {
    "tags": []
   },
   "outputs": [
    {
     "data": {
      "text/plain": [
       "'suburban'"
      ]
     },
     "execution_count": 11,
     "metadata": {},
     "output_type": "execute_result"
    }
   ],
   "source": [
    "row.location"
   ]
  },
  {
   "cell_type": "markdown",
   "id": "253c507a-4c09-4e48-9ba9-d1aa5ae8c9f9",
   "metadata": {},
   "source": [
    "Square brackets work as well, and this is important because sometimes our indices are strings with spaces in them."
   ]
  },
  {
   "cell_type": "code",
   "execution_count": 15,
   "id": "60d75732-8c8a-420e-812b-5d1adcea4db1",
   "metadata": {
    "tags": []
   },
   "outputs": [
    {
     "data": {
      "text/plain": [
       "'suburban'"
      ]
     },
     "execution_count": 15,
     "metadata": {},
     "output_type": "execute_result"
    }
   ],
   "source": [
    "row[\"location\"]"
   ]
  },
  {
   "cell_type": "markdown",
   "id": "b0f4dded-9b9b-48b3-a1f6-e819f25ac946",
   "metadata": {},
   "source": [
    "We can have a function that takes a row as an argument and returns a value. "
   ]
  },
  {
   "cell_type": "code",
   "execution_count": 16,
   "id": "f99e1b4d-e265-407c-8755-bd71a26eaa6e",
   "metadata": {
    "tags": []
   },
   "outputs": [
    {
     "data": {
      "text/plain": [
       "True"
      ]
     },
     "execution_count": 16,
     "metadata": {},
     "output_type": "execute_result"
    }
   ],
   "source": [
    "def f(row):\n",
    "    return(row.irate>7.2)\n",
    "f(df.iloc[131])"
   ]
  },
  {
   "cell_type": "markdown",
   "id": "8e72fb91-660b-4bb3-93ef-6654a9716690",
   "metadata": {
    "tags": []
   },
   "source": [
    "We can apply a function to every element of a pandas series to produce another pandas series."
   ]
  },
  {
   "cell_type": "code",
   "execution_count": 18,
   "id": "247d7d40-fa10-4039-89c0-cf3b35a2ff40",
   "metadata": {
    "tags": []
   },
   "outputs": [
    {
     "name": "stdout",
     "output_type": "stream",
     "text": [
      "0       False\n",
      "1        True\n",
      "2        True\n",
      "3        True\n",
      "4        True\n",
      "        ...  \n",
      "9859     True\n",
      "9860     True\n",
      "9861    False\n",
      "9862    False\n",
      "9863     True\n",
      "Length: 9864, dtype: bool\n",
      "<class 'pandas.core.series.Series'>\n"
     ]
    }
   ],
   "source": [
    "s=df.apply(f,axis=1)\n",
    "print(s)\n",
    "print(type(s))"
   ]
  },
  {
   "cell_type": "code",
   "execution_count": 11,
   "id": "ae6f0eaa-cd39-4007-b3ba-a5fae375c6e5",
   "metadata": {},
   "outputs": [
    {
     "data": {
      "text/plain": [
       "0       False\n",
       "1       False\n",
       "2       False\n",
       "3       False\n",
       "4       False\n",
       "        ...  \n",
       "9859    False\n",
       "9860    False\n",
       "9861    False\n",
       "9862    False\n",
       "9863    False\n",
       "Length: 9864, dtype: bool"
      ]
     },
     "execution_count": 11,
     "metadata": {},
     "output_type": "execute_result"
    }
   ],
   "source": [
    "def f(row):\n",
    "    return(row.location==\"urban\")\n",
    "df.apply(f,axis=1)"
   ]
  },
  {
   "cell_type": "code",
   "execution_count": 19,
   "id": "c457de7c-aef8-4f1d-8a94-065708e6955f",
   "metadata": {
    "tags": []
   },
   "outputs": [
    {
     "data": {
      "text/plain": [
       "0       True\n",
       "1       True\n",
       "2       True\n",
       "3       True\n",
       "4       True\n",
       "        ... \n",
       "9859    True\n",
       "9860    True\n",
       "9861    True\n",
       "9862    True\n",
       "9863    True\n",
       "Length: 9864, dtype: bool"
      ]
     },
     "execution_count": 19,
     "metadata": {},
     "output_type": "execute_result"
    }
   ],
   "source": [
    "def f(row):\n",
    "    return(row.location in [\"urban\",\"suburban\"])\n",
    "df.apply(f,axis=1)"
   ]
  },
  {
   "cell_type": "markdown",
   "id": "26171db9-3f8d-4270-a214-ea345d0d0ca4",
   "metadata": {},
   "source": [
    "Finally, we can use a Boolean series of the same length as the number of rows in our dataframe to\n",
    "produce a new data frame of rows for which the Boolean evaluates to True."
   ]
  },
  {
   "cell_type": "code",
   "execution_count": 21,
   "id": "08d6f86e-2d0f-412a-8dc3-be1fec087db5",
   "metadata": {
    "tags": []
   },
   "outputs": [
    {
     "name": "stdout",
     "output_type": "stream",
     "text": [
      "0       False\n",
      "1       False\n",
      "2       False\n",
      "3       False\n",
      "4       False\n",
      "        ...  \n",
      "9859    False\n",
      "9860    False\n",
      "9861    False\n",
      "9862     True\n",
      "9863    False\n",
      "Length: 9864, dtype: bool\n",
      "(617, 5)\n",
      "(9247, 5)\n",
      "      location  princ  irate  cscore       result\n",
      "10    suburban    494   7.25     753  non-default\n",
      "26    suburban    293   7.00     799  non-default\n",
      "40       urban    580   6.75     816  non-default\n",
      "43    suburban    588   7.00     758      default\n",
      "48    suburban    329   6.50     786  non-default\n",
      "...        ...    ...    ...     ...          ...\n",
      "9825     urban    268   6.50     823  non-default\n",
      "9828  suburban    822   7.00     766      default\n",
      "9855  suburban    377   7.00     792      default\n",
      "9858  suburban    809   7.00     764  non-default\n",
      "9862  suburban    851   7.00     774  non-default\n",
      "\n",
      "[617 rows x 5 columns]\n"
     ]
    }
   ],
   "source": [
    "def f(row):\n",
    "    return(row.cscore>750)\n",
    "res=df.apply(f,axis=1) # True/False Series\n",
    "print(res)\n",
    "dfnew1=df.loc[res] # rows of df that give res==True\n",
    "dfnew2=df.loc[~res] # rows of df that give res=False\n",
    "print(dfnew1.shape)\n",
    "print(dfnew2.shape)\n",
    "\n",
    "print(dfnew1)"
   ]
  },
  {
   "cell_type": "code",
   "execution_count": null,
   "id": "1cb77984-869d-4f0f-ae5f-bb1c1e3b4024",
   "metadata": {},
   "outputs": [],
   "source": []
  }
 ],
 "metadata": {
  "kernelspec": {
   "display_name": "Python 3 (ipykernel)",
   "language": "python",
   "name": "python3"
  },
  "language_info": {
   "codemirror_mode": {
    "name": "ipython",
    "version": 3
   },
   "file_extension": ".py",
   "mimetype": "text/x-python",
   "name": "python",
   "nbconvert_exporter": "python",
   "pygments_lexer": "ipython3",
   "version": "3.11.5"
  }
 },
 "nbformat": 4,
 "nbformat_minor": 5
}
