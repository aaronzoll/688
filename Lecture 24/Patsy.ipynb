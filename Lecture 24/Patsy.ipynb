{
 "cells": [
  {
   "cell_type": "markdown",
   "metadata": {},
   "source": [
    "**Patsy**\n",
    "\n",
    "Patsy is a nice package for setting up linear models for fitting in sklearn.\n",
    "\n",
    "It creates the matrices needed for modeling various methods (like regression) in sklearn\n",
    "\n",
    "- the matrix of predictor variable columns aka the *design matrix*\n",
    "- the column of response variable values\n",
    "\n",
    "It allows us to specify models using *formulas* (as in R) rather than by creating design matrices by hand.\n",
    "\n",
    "To illustrate its use, we return to the traffic prediction problem. \n",
    "\n",
    "We'll recode weekdays as strings (object) to illustrate what patsy does with a categorical variable."
   ]
  },
  {
   "cell_type": "code",
   "execution_count": null,
   "metadata": {
    "tags": []
   },
   "outputs": [],
   "source": [
    "import pandas as pd\n",
    "import numpy as np\n",
    "import datetime\n",
    "import os\n",
    "import mylib as my\n",
    "from sklearn.linear_model import LinearRegression\n",
    "df=pd.read_csv(\"TRAFFIC_VOLUME2.csv\")"
   ]
  },
  {
   "cell_type": "code",
   "execution_count": null,
   "metadata": {
    "tags": []
   },
   "outputs": [],
   "source": [
    "df.drop(columns=[\"weather_description\",\"time_diff\",\"snow_1h\",\"holiday\"],inplace=True)\n",
    "df[\"dayofweek\"]=df.weekday.map({0:\"Mon\",1:\"Tue\",2:\"Wed\",3:\"Thu\",4:\"Fri\",5:\"Sat\",6:\"Sun\"})\n",
    "N=df.shape[0] # number of rows\n",
    "perm=np.random.permutation(range(N))\n",
    "Itrain1=perm[0:int(N/3)]\n",
    "Itrain2=perm[int(N/3):int(2*N/3)]\n",
    "Itest=perm[int(2*N/3):N]\n",
    "dfTrain1=df.loc[Itrain1]\n",
    "dfTrain2=df.loc[Itrain2]\n",
    "dfTest=df.loc[Itest]\n",
    "df.dayofweek"
   ]
  },
  {
   "cell_type": "markdown",
   "metadata": {},
   "source": [
    "**Simple example**\n",
    "\n",
    "In the following we tell patsy to create the matrices for predicting traffic_volume \n",
    "using a combination of numerical and categorical predictor variables.\n",
    "\n",
    "Patsy automatically includes an intercept in the model.\n"
   ]
  },
  {
   "cell_type": "code",
   "execution_count": null,
   "metadata": {
    "tags": []
   },
   "outputs": [],
   "source": [
    "import patsy as ps\n",
    "\n",
    "formula=\"traffic_volume~dayofweek+dayofyear\"\n",
    "Ytrain1,Xtrain1=ps.dmatrices(formula, dfTrain1)"
   ]
  },
  {
   "cell_type": "code",
   "execution_count": null,
   "metadata": {
    "tags": []
   },
   "outputs": [],
   "source": [
    "Ytrain1"
   ]
  },
  {
   "cell_type": "code",
   "execution_count": null,
   "metadata": {
    "tags": []
   },
   "outputs": [],
   "source": [
    "print(Xtrain1)"
   ]
  },
  {
   "cell_type": "markdown",
   "metadata": {},
   "source": [
    "Here, we see that patsy created a design matrix that has a column of 1's for the intercept parameter and 6 dummy variables, one for each weekday, leaving out friday as reference day, and a column for day of the year (numerical variable).\n",
    "\n",
    "The matrix has type that is particular to patsy."
   ]
  },
  {
   "cell_type": "code",
   "execution_count": null,
   "metadata": {
    "tags": []
   },
   "outputs": [],
   "source": [
    "type(Xtrain1)"
   ]
  },
  {
   "cell_type": "markdown",
   "metadata": {
    "tags": []
   },
   "source": [
    "Numpy has a function that allows us to convert this to a numpy array."
   ]
  },
  {
   "cell_type": "code",
   "execution_count": null,
   "metadata": {
    "tags": []
   },
   "outputs": [],
   "source": [
    "np.asarray(Xtrain1).shape"
   ]
  },
  {
   "cell_type": "code",
   "execution_count": null,
   "metadata": {
    "tags": []
   },
   "outputs": [],
   "source": [
    "np.asarray(Xtrain1)[0:100,1]"
   ]
  },
  {
   "cell_type": "code",
   "execution_count": null,
   "metadata": {
    "tags": []
   },
   "outputs": [],
   "source": [
    "Next, as usual we can use the X, Y values to fit a model."
   ]
  },
  {
   "cell_type": "code",
   "execution_count": null,
   "metadata": {
    "tags": []
   },
   "outputs": [],
   "source": [
    "Ytrain1.shape"
   ]
  },
  {
   "cell_type": "code",
   "execution_count": null,
   "metadata": {
    "tags": []
   },
   "outputs": [],
   "source": [
    "fit=LinearRegression().fit(Xtrain1,Ytrain1)"
   ]
  },
  {
   "cell_type": "markdown",
   "metadata": {},
   "source": [
    "**Creating the test matrices**\n",
    "\n",
    "Important: we need to apply the same algorithm for creating the design matrix for the test data (or the second training dataset) that was applied to the first training set.\n",
    "\n",
    "Be careful!!! Consider the following example of what can go wrong."
   ]
  },
  {
   "cell_type": "code",
   "execution_count": null,
   "metadata": {
    "tags": []
   },
   "outputs": [],
   "source": [
    "dt1=pd.DataFrame({\"day\":[\"Mon\",\"Tue\",\"Wed\",\"Thu\",\"Mon\",\"Tue\",\"Wed\",\"Thu\"],\n",
    "                  \"calories\":[1400,1800,2100,2000,1900,1800,1500,1800],\n",
    "                  \"wt\":[145,147,149,148,147,148,150,149]})\n",
    "print(dt1)\n",
    "Y1,X1=ps.dmatrices(\"wt~day+calories\",dt1)\n",
    "X1\n",
    "fit=LinearRegression().fit(X1,Y1)\n",
    "fit.coef_"
   ]
  },
  {
   "cell_type": "code",
   "execution_count": null,
   "metadata": {
    "tags": []
   },
   "outputs": [],
   "source": [
    "print(X1)"
   ]
  },
  {
   "cell_type": "markdown",
   "metadata": {},
   "source": [
    "We see that Monday was made the reference day.\n",
    "Now consider data we want to make predictions for."
   ]
  },
  {
   "cell_type": "code",
   "execution_count": null,
   "metadata": {
    "tags": []
   },
   "outputs": [],
   "source": [
    "dt2=pd.DataFrame({\"day\":[\"Thu\",\"Mon\",\"Thu\",\"Mon\",\"Thu\",\"Mon\",\"Thu\",\"Mon\"],\n",
    "                  \"calories\":[1500,1300,1700,2000,1900,1800,1800,1900],\n",
    "                  \"wt\":[148,147,146,149,147,149,150,151]})\n",
    "print(dt2)\n",
    "Y2,X2=ps.dmatrices(\"wt~day+calories\",dt2)\n",
    "X2"
   ]
  },
  {
   "cell_type": "code",
   "execution_count": null,
   "metadata": {
    "tags": []
   },
   "outputs": [],
   "source": [
    "fit.predict(X2)"
   ]
  },
  {
   "cell_type": "markdown",
   "metadata": {},
   "source": [
    "This is a problem. We want to make sure that the same process is applied to the new data for creating the design matrix. \n",
    "\n",
    "We can do that using the following approach which basically says to use info about how X1 was created (formula and the data frame) to build a design matrix for a new data frame."
   ]
  },
  {
   "cell_type": "code",
   "execution_count": null,
   "metadata": {
    "tags": []
   },
   "outputs": [],
   "source": [
    "X2=ps.build_design_matrices([X1.design_info], dt2)[0]"
   ]
  },
  {
   "cell_type": "code",
   "execution_count": null,
   "metadata": {
    "tags": []
   },
   "outputs": [],
   "source": [
    "X2"
   ]
  },
  {
   "cell_type": "code",
   "execution_count": null,
   "metadata": {
    "tags": []
   },
   "outputs": [],
   "source": [
    "fit.predict(X2)"
   ]
  },
  {
   "cell_type": "markdown",
   "metadata": {},
   "source": [
    "**Additional things you can do with patsy formulas**\n",
    "\n",
    "We can tell patsy not to include an interecept parameter:"
   ]
  },
  {
   "cell_type": "code",
   "execution_count": null,
   "metadata": {
    "tags": []
   },
   "outputs": [],
   "source": [
    "formula=\"traffic_volume~0+day+dayofweek\"\n",
    "Ytrain1,Xtrain1=ps.dmatrices(formula, dfTrain1)\n",
    "Xtrain1"
   ]
  },
  {
   "cell_type": "markdown",
   "metadata": {
    "tags": []
   },
   "source": [
    "We can include transformations of columns."
   ]
  },
  {
   "cell_type": "code",
   "execution_count": null,
   "metadata": {
    "tags": []
   },
   "outputs": [],
   "source": [
    "formula=\"traffic_volume~day+np.sin(2*np.pi*dayofyear/365)+np.cos(2*np.pi*dayofyear/365)\"\n",
    "Ytrain1,Xtrain1=ps.dmatrices(formula, dfTrain1)\n",
    "Xtrain1"
   ]
  },
  {
   "cell_type": "code",
   "execution_count": null,
   "metadata": {},
   "outputs": [],
   "source": [
    "We can include interactions between categorical variables."
   ]
  },
  {
   "cell_type": "code",
   "execution_count": null,
   "metadata": {},
   "outputs": [],
   "source": [
    "dfTrain1.columns"
   ]
  },
  {
   "cell_type": "code",
   "execution_count": null,
   "metadata": {},
   "outputs": [],
   "source": [
    "formula=\"traffic_volume~day+weather_main*dayofweek\"\n",
    "Ytrain1,Xtrain1=ps.dmatrices(formula, dfTrain1)\n",
    "Xtrain1"
   ]
  },
  {
   "cell_type": "markdown",
   "metadata": {},
   "source": [
    "**Normalizing**\n",
    "\n",
    "For some procedures you are advised to normalize your variables before fitting a model.\n",
    "Again, whatever normalization you use should be first defined on the training data and that normalization should be applied to the test data.\n",
    "\n",
    "This is best explained in an example.\n",
    "\n",
    "Q: If we normalize the rain_1h variable by subtracing the mean and dividing by the standard deviation of that variable, which mean and std deviation should we use?"
   ]
  }
 ],
 "metadata": {
  "kernelspec": {
   "display_name": "Python 3 (ipykernel)",
   "language": "python",
   "name": "python3"
  },
  "language_info": {
   "codemirror_mode": {
    "name": "ipython",
    "version": 3
   },
   "file_extension": ".py",
   "mimetype": "text/x-python",
   "name": "python",
   "nbconvert_exporter": "python",
   "pygments_lexer": "ipython3",
   "version": "3.11.5"
  }
 },
 "nbformat": 4,
 "nbformat_minor": 4
}
