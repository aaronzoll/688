{
 "cells": [
  {
   "cell_type": "code",
   "execution_count": 2,
   "id": "76d90706-92be-4a2d-b0b8-62280f11ed09",
   "metadata": {},
   "outputs": [],
   "source": [
    "import re\n",
    "def Search(pattern,text):\n",
    "    m=re.search(pattern,text)\n",
    "    if m:\n",
    "        print(text[m.start():m.end()])\n",
    "    else:\n",
    "        print(\"no match\")"
   ]
  },
  {
   "cell_type": "code",
   "execution_count": 8,
   "id": "1e8e91e8-3d58-4577-9ccc-da12d35f9bc8",
   "metadata": {},
   "outputs": [
    {
     "name": "stdout",
     "output_type": "stream",
     "text": [
      "no match\n"
     ]
    }
   ],
   "source": [
    "Search(\"er/W[/d]{3}.*sto\", \"lawyer 729 stock\")"
   ]
  }
 ],
 "metadata": {
  "kernelspec": {
   "display_name": "Python 3 (ipykernel)",
   "language": "python",
   "name": "python3"
  },
  "language_info": {
   "codemirror_mode": {
    "name": "ipython",
    "version": 3
   },
   "file_extension": ".py",
   "mimetype": "text/x-python",
   "name": "python",
   "nbconvert_exporter": "python",
   "pygments_lexer": "ipython3",
   "version": "3.10.9"
  }
 },
 "nbformat": 4,
 "nbformat_minor": 5
}
