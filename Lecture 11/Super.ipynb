{
 "cells": [
  {
   "cell_type": "markdown",
   "id": "a02cd6de-97eb-4ee0-bec7-f16f8c6b193c",
   "metadata": {},
   "source": [
    "## Use of super() in a class\n",
    "\n",
    "There are times when we create a derived class from a base class and over-ride the constructor on the base class. \n",
    "\n",
    "However, sometimes we need some of the attributes of class instances that base class's constructor creates.\n",
    "\n",
    "The following code produces an error."
   ]
  },
  {
   "cell_type": "code",
   "execution_count": 6,
   "id": "b60955c7-9ec2-4a0e-9365-2ebe7daa1623",
   "metadata": {},
   "outputs": [
    {
     "name": "stdout",
     "output_type": "stream",
     "text": [
      "0\n",
      "1\n"
     ]
    },
    {
     "ename": "AttributeError",
     "evalue": "'myclass' object has no attribute 'pi'",
     "output_type": "error",
     "traceback": [
      "\u001b[1;31m---------------------------------------------------------------------------\u001b[0m",
      "\u001b[1;31mAttributeError\u001b[0m                            Traceback (most recent call last)",
      "Input \u001b[1;32mIn [6]\u001b[0m, in \u001b[0;36m<cell line: 12>\u001b[1;34m()\u001b[0m\n\u001b[0;32m     10\u001b[0m \u001b[38;5;28mprint\u001b[39m(myclassinstance\u001b[38;5;241m.\u001b[39mzero)\n\u001b[0;32m     11\u001b[0m \u001b[38;5;28mprint\u001b[39m(myclassinstance\u001b[38;5;241m.\u001b[39mone)\n\u001b[1;32m---> 12\u001b[0m \u001b[38;5;28mprint\u001b[39m(\u001b[43mmyclassinstance\u001b[49m\u001b[38;5;241;43m.\u001b[39;49m\u001b[43mpi\u001b[49m)\n\u001b[0;32m     13\u001b[0m \u001b[38;5;28mprint\u001b[39m(myclassinstance\u001b[38;5;241m.\u001b[39me)\n",
      "\u001b[1;31mAttributeError\u001b[0m: 'myclass' object has no attribute 'pi'"
     ]
    }
   ],
   "source": [
    "class base:\n",
    "    def __init__(self):\n",
    "        self.pi=3.14159\n",
    "        self.e=2.71828\n",
    "class myclass(base):\n",
    "    def __init__(self):\n",
    "        self.zero=0\n",
    "        self.one=1\n",
    "myclassinstance=myclass()\n",
    "print(myclassinstance.zero)\n",
    "print(myclassinstance.one)\n",
    "print(myclassinstance.pi)\n",
    "print(myclassinstance.e)\n",
    "\n"
   ]
  },
  {
   "cell_type": "markdown",
   "id": "dc2ebe53-344a-40a6-b123-ea9a4a8a7974",
   "metadata": {},
   "source": [
    "To address this issue, we use super in the derived class's constructor to call the super class's constructor."
   ]
  },
  {
   "cell_type": "code",
   "execution_count": 1,
   "id": "a51dbd30-4974-460c-aa15-929c37326958",
   "metadata": {},
   "outputs": [
    {
     "name": "stdout",
     "output_type": "stream",
     "text": [
      "0\n",
      "1\n",
      "3.14159\n",
      "2.71828\n"
     ]
    }
   ],
   "source": [
    "class base:\n",
    "    def __init__(self):\n",
    "        self.pi=3.14159\n",
    "        self.e=2.71828\n",
    "class myclass(base):\n",
    "    def __init__(self):\n",
    "        super().__init__() # Use of super!!!\n",
    "        self.zero=0\n",
    "        self.one=1\n",
    "myclassinstance=myclass()\n",
    "print(myclassinstance.zero)\n",
    "print(myclassinstance.one)\n",
    "print(myclassinstance.pi)\n",
    "print(myclassinstance.e)\n"
   ]
  },
  {
   "cell_type": "code",
   "execution_count": null,
   "id": "f8d5a0d5-8dfa-4fab-8ee1-bdd8f442abf6",
   "metadata": {},
   "outputs": [],
   "source": []
  }
 ],
 "metadata": {
  "kernelspec": {
   "display_name": "Python 3 (ipykernel)",
   "language": "python",
   "name": "python3"
  },
  "language_info": {
   "codemirror_mode": {
    "name": "ipython",
    "version": 3
   },
   "file_extension": ".py",
   "mimetype": "text/x-python",
   "name": "python",
   "nbconvert_exporter": "python",
   "pygments_lexer": "ipython3",
   "version": "3.9.11"
  }
 },
 "nbformat": 4,
 "nbformat_minor": 5
}
