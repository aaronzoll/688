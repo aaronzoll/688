{
 "cells": [
  {
   "cell_type": "markdown",
   "id": "70485cf0-0ee0-4be8-9979-6bf99c2cdb2c",
   "metadata": {},
   "source": [
    "**Datetime objects in Python**\n",
    "\n",
    "There are at least 3 versions of datetime objects one can work with.\n",
    "\n",
    "- datetime objects in python using the datetime package\n",
    "- datetime arrays in numpy\n",
    "- datetime series in pandas\n",
    "\n",
    "There are also different types of objects to be aware of:\n",
    "\n",
    "- date objects\n",
    "- time objects\n",
    "- datetime objects\n",
    "- time delta objects (differences between dates, times, datetimes)\n",
    "\n",
    "The following is a brief overview of some capabilities\n",
    "\n",
    "Here, we will ignore time zone issues, but it is worth mentioning that datetime objects allow for time zones to be specified."
   ]
  },
  {
   "cell_type": "code",
   "execution_count": 1,
   "id": "88c4b24c-9982-450c-8868-357d5a30f048",
   "metadata": {},
   "outputs": [
    {
     "name": "stdout",
     "output_type": "stream",
     "text": [
      "1971-10-18 00:00:00\n",
      "1971-10-18 07:23:56.139212\n",
      "2022-11-09 14:21:06.360768\n"
     ]
    }
   ],
   "source": [
    "import datetime\n",
    "\n",
    "year=1971\n",
    "month=10\n",
    "day=18\n",
    "hour=7\n",
    "minute=23\n",
    "second=56\n",
    "microsecond=139212\n",
    "\n",
    "d1=datetime.datetime(year,month,day)\n",
    "print(d1)\n",
    "d2=datetime.datetime(year, month, day, hour, minute, second,microsecond)\n",
    "print(d2)\n",
    "d3=datetime.datetime.now()\n",
    "print(d3)"
   ]
  },
  {
   "cell_type": "markdown",
   "id": "d34d16a7-5d25-47f8-a94f-a43e47d8b863",
   "metadata": {},
   "source": [
    "**The ISO 8601 format is a common one for datetime stamps**"
   ]
  },
  {
   "cell_type": "code",
   "execution_count": 2,
   "id": "d5d387b0-0010-44a9-ad1c-1da02fd95389",
   "metadata": {},
   "outputs": [
    {
     "name": "stdout",
     "output_type": "stream",
     "text": [
      "2022-11-09 14:21:35.071561\n",
      "2022-11-09T14:21:35.071561\n",
      "2022-11-09 19:21:35.072155\n"
     ]
    }
   ],
   "source": [
    "d=datetime.datetime.now()\n",
    "print(d)\n",
    "print(d.isoformat())\n",
    "d=datetime.datetime.utcnow()\n",
    "print(d)"
   ]
  },
  {
   "cell_type": "markdown",
   "id": "39c25882-503c-4bf3-85c9-96cd08d1951c",
   "metadata": {},
   "source": [
    "**strptime** is a string parser that converts a string to a datetime object\n",
    "\n",
    "**strftime** is a formatter that converts a date timeobject to some specified format\n",
    "\n",
    "Details for strptime can be found here:\n",
    "https://docs.python.org/3/library/datetime.html#strftime-strptime-behavior"
   ]
  },
  {
   "cell_type": "code",
   "execution_count": 3,
   "id": "913e5018-dbbf-40d3-97bf-59a24a819b20",
   "metadata": {},
   "outputs": [
    {
     "name": "stdout",
     "output_type": "stream",
     "text": [
      "1931-05-24 00:00:00\n",
      "2031-05-24 09:23:57\n"
     ]
    }
   ],
   "source": [
    "d=datetime.datetime.strptime(\"05:24:1931\",\"%m:%d:%Y\")\n",
    "print(d)\n",
    "d=datetime.datetime.strptime(\"05:24:31 09:23:57\",\"%m:%d:%y %H:%M:%S\")\n",
    "print(d)"
   ]
  },
  {
   "cell_type": "code",
   "execution_count": 4,
   "id": "b3dbb1d1-3bd1-4799-a552-b741c0516c37",
   "metadata": {},
   "outputs": [
    {
     "name": "stdout",
     "output_type": "stream",
     "text": [
      "2022-11-09 14:24:49.485159\n",
      "11/09/22\n",
      "November 09, 2022 at 14:24 PM\n"
     ]
    }
   ],
   "source": [
    "d=datetime.datetime.now()\n",
    "print(d)\n",
    "print(d.strftime(\"%m/%d/%y\"))\n",
    "print(d.strftime(\"%B %d, %Y at %H:%M %p\"))\n"
   ]
  },
  {
   "cell_type": "markdown",
   "id": "812d75c4-cf7b-449e-a273-2676e982f897",
   "metadata": {},
   "source": [
    "**Extracting pieces of the datetime**\n",
    "\n",
    "We can create a date or time object from a datetime object"
   ]
  },
  {
   "cell_type": "code",
   "execution_count": 5,
   "id": "e83d5133-8b83-4970-ba50-11f31298c218",
   "metadata": {},
   "outputs": [
    {
     "name": "stdout",
     "output_type": "stream",
     "text": [
      "2022-11-09 14:26:00.912573\n",
      "<class 'datetime.datetime'>\n",
      "2022-11-09\n",
      "<class 'datetime.date'>\n",
      "14:26:00.912573\n",
      "<class 'datetime.time'>\n"
     ]
    }
   ],
   "source": [
    "d=datetime.datetime.now()\n",
    "print(d)\n",
    "print(type(d))\n",
    "print(d.date())\n",
    "print(type(d.date()))\n",
    "print(d.time())\n",
    "print(type(d.time()))"
   ]
  },
  {
   "cell_type": "markdown",
   "id": "424587fc-3a7d-44cf-b39c-f195e4a02d15",
   "metadata": {},
   "source": [
    "**Extract year, month, day, hour minute, second**"
   ]
  },
  {
   "cell_type": "code",
   "execution_count": 6,
   "id": "9cf9b45f-c629-4f84-80b6-a1649646fd2b",
   "metadata": {},
   "outputs": [
    {
     "name": "stdout",
     "output_type": "stream",
     "text": [
      "2022\n",
      "11\n",
      "9\n",
      "14\n",
      "26\n",
      "33\n"
     ]
    }
   ],
   "source": [
    "d=datetime.datetime.now()\n",
    "print(d.year)\n",
    "print(d.month)\n",
    "print(d.day)\n",
    "print(d.hour)\n",
    "print(d.minute)\n",
    "print(d.second)"
   ]
  },
  {
   "cell_type": "markdown",
   "id": "9df9a0c3-ccf7-46b0-9b14-615f55dee165",
   "metadata": {},
   "source": [
    "**Time deltas**\n",
    "\n",
    "We can create a timedelta object using the constructor as in the following examples.\n",
    "\n",
    "Internally, these are stored in days, seconds and microseconds"
   ]
  },
  {
   "cell_type": "code",
   "execution_count": 7,
   "id": "2c40d4e2-bc13-4ee4-ba7e-6f1a835ae4a8",
   "metadata": {},
   "outputs": [
    {
     "name": "stdout",
     "output_type": "stream",
     "text": [
      "4 days, 0:00:00\n",
      "350 days, 0:00:00\n",
      "7 days, 5:08:15\n"
     ]
    }
   ],
   "source": [
    "dt1=datetime.timedelta(days=4)\n",
    "print(dt1)\n",
    "dt2=datetime.timedelta(weeks=50)\n",
    "print(dt2)\n",
    "dt3=datetime.timedelta(days=7,hours=5, minutes=8, seconds=15)\n",
    "print(dt3)"
   ]
  },
  {
   "cell_type": "markdown",
   "id": "c245adc0-63a2-4b38-9fd4-91f7b18cf29b",
   "metadata": {},
   "source": [
    "Date differences lead to timedelta objects."
   ]
  },
  {
   "cell_type": "code",
   "execution_count": 8,
   "id": "01430bc0-a0d6-4dfc-ac9b-8eaea357592e",
   "metadata": {},
   "outputs": [
    {
     "name": "stdout",
     "output_type": "stream",
     "text": [
      "1955-04-12 03:00:00\n",
      "2022-11-09 14:27:40.238370\n",
      "24683 days, 11:27:40.238370\n",
      "<class 'datetime.timedelta'>\n"
     ]
    }
   ],
   "source": [
    "d1=datetime.datetime(1955,4,12,3)\n",
    "print(d1)\n",
    "d2=datetime.datetime.now()\n",
    "print(d2)\n",
    "dt=d2-d1\n",
    "print(dt)\n",
    "print(type(dt))"
   ]
  },
  {
   "cell_type": "markdown",
   "id": "c078bd02-efeb-4f62-8163-cbce6537ee20",
   "metadata": {},
   "source": [
    "**Adding**\n",
    "\n",
    "We can also add time deltas to one another and to datetime objects."
   ]
  },
  {
   "cell_type": "code",
   "execution_count": 9,
   "id": "a0ebeedb-1bfd-46fe-9e62-512ef964b08c",
   "metadata": {},
   "outputs": [
    {
     "name": "stdout",
     "output_type": "stream",
     "text": [
      "15:12:00\n"
     ]
    }
   ],
   "source": [
    "dt1=datetime.timedelta(hours=12, minutes=5)\n",
    "dt2=datetime.timedelta(hours=3, minutes=7)\n",
    "dt3=dt1+dt2\n",
    "print(dt3)"
   ]
  },
  {
   "cell_type": "code",
   "execution_count": 10,
   "id": "b128b237-ef15-4f27-b459-36d6644a945c",
   "metadata": {},
   "outputs": [
    {
     "name": "stdout",
     "output_type": "stream",
     "text": [
      "2050-03-27 14:28:11.166069\n"
     ]
    }
   ],
   "source": [
    "d=datetime.datetime.now()\n",
    "dt=datetime.timedelta(days=10000)\n",
    "dnew=d+dt\n",
    "print(dnew)"
   ]
  },
  {
   "cell_type": "markdown",
   "id": "75fc3935-99a3-4e8f-8d4c-2d7cc307f639",
   "metadata": {},
   "source": [
    "**Time delta units**"
   ]
  },
  {
   "cell_type": "code",
   "execution_count": 11,
   "id": "6b8117e2-cd49-408c-8f01-f7ed6692fd90",
   "metadata": {},
   "outputs": [
    {
     "name": "stdout",
     "output_type": "stream",
     "text": [
      "24683 days, 14:28:32.654187\n",
      "24683\n",
      "52112\n",
      "654187\n"
     ]
    },
    {
     "data": {
      "text/plain": [
       "55173"
      ]
     },
     "execution_count": 11,
     "metadata": {},
     "output_type": "execute_result"
    }
   ],
   "source": [
    "d1=datetime.datetime(1955,4,12)\n",
    "d2=datetime.datetime.now()\n",
    "dt=d2-d1\n",
    "print(dt)\n",
    "print(dt.days)\n",
    "print(dt.seconds)\n",
    "print(dt.microseconds)\n",
    "15*3600+19*60+33"
   ]
  },
  {
   "cell_type": "markdown",
   "id": "5e859c2b-9df8-4211-b873-83397d975add",
   "metadata": {},
   "source": [
    "**How many hours have you been living?**"
   ]
  },
  {
   "cell_type": "code",
   "execution_count": 12,
   "id": "4ed2b8cf-1877-4697-bea5-33c642428a87",
   "metadata": {},
   "outputs": [
    {
     "data": {
      "text/plain": [
       "592406.4755555555"
      ]
     },
     "execution_count": 12,
     "metadata": {},
     "output_type": "execute_result"
    }
   ],
   "source": [
    "dt.days*24+dt.seconds/3600"
   ]
  },
  {
   "cell_type": "markdown",
   "id": "3ee46965-2b05-441f-a2f5-4ba9801b5562",
   "metadata": {},
   "source": [
    "**Pandas**\n",
    "\n",
    "In pandas, when you read in a datetime column, it gets read in as a python object."
   ]
  },
  {
   "cell_type": "code",
   "execution_count": 13,
   "id": "11c08887-bf2a-4746-8dde-76f4631c4795",
   "metadata": {},
   "outputs": [
    {
     "name": "stdout",
     "output_type": "stream",
     "text": [
      "holiday                 object\n",
      "temp                   float64\n",
      "rain_1h                float64\n",
      "snow_1h                float64\n",
      "clouds_all               int64\n",
      "weather_main            object\n",
      "weather_description     object\n",
      "date_time               object\n",
      "traffic_volume           int64\n",
      "dtype: object\n"
     ]
    }
   ],
   "source": [
    "import pandas as pd\n",
    "df=pd.read_csv(\"TRAFFIC_VOLUME.csv\")\n",
    "#df\n",
    "print(df.dtypes)"
   ]
  },
  {
   "cell_type": "code",
   "execution_count": null,
   "id": "78b7ad62-52a9-4112-9d6a-c41a21ec8f56",
   "metadata": {},
   "outputs": [],
   "source": [
    "print(df[\"datetimestamp\"])\n",
    "print(type(df[\"datetimestamp\"][0]))"
   ]
  },
  {
   "cell_type": "markdown",
   "id": "3cf058e5-52de-42d9-85ff-daf073b0d3dc",
   "metadata": {},
   "source": [
    "**We can convert it to a datetime object using the pd.todatetime() function**"
   ]
  },
  {
   "cell_type": "code",
   "execution_count": 14,
   "id": "e4a08c50-1041-4dc2-a635-97fba6165168",
   "metadata": {},
   "outputs": [],
   "source": [
    "df[\"datetimestamp\"]=pd.to_datetime(df[\"date_time\"])"
   ]
  },
  {
   "cell_type": "code",
   "execution_count": 15,
   "id": "85abfac3-e34b-490e-b14c-2a614eb44258",
   "metadata": {},
   "outputs": [
    {
     "data": {
      "text/plain": [
       "holiday                        object\n",
       "temp                          float64\n",
       "rain_1h                       float64\n",
       "snow_1h                       float64\n",
       "clouds_all                      int64\n",
       "weather_main                   object\n",
       "weather_description            object\n",
       "date_time                      object\n",
       "traffic_volume                  int64\n",
       "datetimestamp          datetime64[ns]\n",
       "dtype: object"
      ]
     },
     "execution_count": 15,
     "metadata": {},
     "output_type": "execute_result"
    }
   ],
   "source": [
    "df.dtypes"
   ]
  },
  {
   "cell_type": "markdown",
   "id": "0f173f5d-cc34-452a-9fa7-03be382a70a6",
   "metadata": {},
   "source": [
    "**Formatting options**"
   ]
  },
  {
   "cell_type": "code",
   "execution_count": null,
   "id": "6618df1f-289d-459f-9e4b-e2074939500c",
   "metadata": {},
   "outputs": [],
   "source": [
    "?pd.to_datetime"
   ]
  },
  {
   "cell_type": "code",
   "execution_count": null,
   "id": "94140cf8-1586-4dfd-a912-5ede820188ca",
   "metadata": {},
   "outputs": [],
   "source": [
    "type(df.datetimestamp.iloc[0])"
   ]
  },
  {
   "cell_type": "markdown",
   "id": "7b21eb08-5dd1-4fdc-a28a-15f945c6e6f5",
   "metadata": {},
   "source": [
    "**The dt accessor**\n",
    "\n",
    "One of the attributes of a pandas datetime series object is the dt \"accessor\""
   ]
  },
  {
   "cell_type": "code",
   "execution_count": 16,
   "id": "ec386491-e3ca-428c-ad1c-4e7b55b5d887",
   "metadata": {},
   "outputs": [
    {
     "data": {
      "text/plain": [
       "0         9\n",
       "1        10\n",
       "2        11\n",
       "3        12\n",
       "4        13\n",
       "         ..\n",
       "48199    19\n",
       "48200    20\n",
       "48201    21\n",
       "48202    22\n",
       "48203    23\n",
       "Name: datetimestamp, Length: 48204, dtype: int64"
      ]
     },
     "execution_count": 16,
     "metadata": {},
     "output_type": "execute_result"
    }
   ],
   "source": [
    "df.datetimestamp.dt.hour"
   ]
  },
  {
   "cell_type": "code",
   "execution_count": 17,
   "id": "8f09d082-ab6c-4592-ab5c-994defbaf7b4",
   "metadata": {},
   "outputs": [
    {
     "data": {
      "text/plain": [
       "0        0\n",
       "1        0\n",
       "2        0\n",
       "3        0\n",
       "4        0\n",
       "        ..\n",
       "48199    0\n",
       "48200    0\n",
       "48201    0\n",
       "48202    0\n",
       "48203    0\n",
       "Name: datetimestamp, Length: 48204, dtype: int64"
      ]
     },
     "execution_count": 17,
     "metadata": {},
     "output_type": "execute_result"
    }
   ],
   "source": [
    "df.datetimestamp.dt.minute"
   ]
  },
  {
   "cell_type": "code",
   "execution_count": 18,
   "id": "e432f6b8-8650-4784-bad5-7a9d3361abca",
   "metadata": {},
   "outputs": [
    {
     "data": {
      "text/plain": [
       "0        2012\n",
       "1        2012\n",
       "2        2012\n",
       "3        2012\n",
       "4        2012\n",
       "         ... \n",
       "48199    2018\n",
       "48200    2018\n",
       "48201    2018\n",
       "48202    2018\n",
       "48203    2018\n",
       "Name: datetimestamp, Length: 48204, dtype: int64"
      ]
     },
     "execution_count": 18,
     "metadata": {},
     "output_type": "execute_result"
    }
   ],
   "source": [
    "df.datetimestamp.dt.year"
   ]
  },
  {
   "cell_type": "code",
   "execution_count": 19,
   "id": "a8b1a781-6a09-4ee8-b718-b703515aa9cd",
   "metadata": {},
   "outputs": [
    {
     "data": {
      "text/plain": [
       "0        10\n",
       "1        10\n",
       "2        10\n",
       "3        10\n",
       "4        10\n",
       "         ..\n",
       "48199     9\n",
       "48200     9\n",
       "48201     9\n",
       "48202     9\n",
       "48203     9\n",
       "Name: datetimestamp, Length: 48204, dtype: int64"
      ]
     },
     "execution_count": 19,
     "metadata": {},
     "output_type": "execute_result"
    }
   ],
   "source": [
    "df.datetimestamp.dt.month"
   ]
  },
  {
   "cell_type": "markdown",
   "id": "a30afa81-c0e1-4cfc-a53b-41811be9e8d4",
   "metadata": {},
   "source": [
    "**Creating time deltas**\n",
    "\n",
    "We can create time deltas by differencing with a datetime object"
   ]
  },
  {
   "cell_type": "code",
   "execution_count": 20,
   "id": "3a0ee12f-c343-46fe-99b8-7d21155f3a28",
   "metadata": {},
   "outputs": [
    {
     "name": "stdout",
     "output_type": "stream",
     "text": [
      "2012-10-02 09:00:00\n"
     ]
    },
    {
     "data": {
      "text/html": [
       "<div>\n",
       "<style scoped>\n",
       "    .dataframe tbody tr th:only-of-type {\n",
       "        vertical-align: middle;\n",
       "    }\n",
       "\n",
       "    .dataframe tbody tr th {\n",
       "        vertical-align: top;\n",
       "    }\n",
       "\n",
       "    .dataframe thead th {\n",
       "        text-align: right;\n",
       "    }\n",
       "</style>\n",
       "<table border=\"1\" class=\"dataframe\">\n",
       "  <thead>\n",
       "    <tr style=\"text-align: right;\">\n",
       "      <th></th>\n",
       "      <th>holiday</th>\n",
       "      <th>temp</th>\n",
       "      <th>rain_1h</th>\n",
       "      <th>snow_1h</th>\n",
       "      <th>clouds_all</th>\n",
       "      <th>weather_main</th>\n",
       "      <th>weather_description</th>\n",
       "      <th>date_time</th>\n",
       "      <th>traffic_volume</th>\n",
       "      <th>datetimestamp</th>\n",
       "      <th>diff</th>\n",
       "    </tr>\n",
       "  </thead>\n",
       "  <tbody>\n",
       "    <tr>\n",
       "      <th>0</th>\n",
       "      <td>None</td>\n",
       "      <td>288.28</td>\n",
       "      <td>0.0</td>\n",
       "      <td>0.0</td>\n",
       "      <td>40</td>\n",
       "      <td>Clouds</td>\n",
       "      <td>scattered clouds</td>\n",
       "      <td>10/2/2012 9:00</td>\n",
       "      <td>5545</td>\n",
       "      <td>2012-10-02 09:00:00</td>\n",
       "      <td>0 days 00:00:00</td>\n",
       "    </tr>\n",
       "    <tr>\n",
       "      <th>1</th>\n",
       "      <td>None</td>\n",
       "      <td>289.36</td>\n",
       "      <td>0.0</td>\n",
       "      <td>0.0</td>\n",
       "      <td>75</td>\n",
       "      <td>Clouds</td>\n",
       "      <td>broken clouds</td>\n",
       "      <td>10/2/2012 10:00</td>\n",
       "      <td>4516</td>\n",
       "      <td>2012-10-02 10:00:00</td>\n",
       "      <td>0 days 01:00:00</td>\n",
       "    </tr>\n",
       "    <tr>\n",
       "      <th>2</th>\n",
       "      <td>None</td>\n",
       "      <td>289.58</td>\n",
       "      <td>0.0</td>\n",
       "      <td>0.0</td>\n",
       "      <td>90</td>\n",
       "      <td>Clouds</td>\n",
       "      <td>overcast clouds</td>\n",
       "      <td>10/2/2012 11:00</td>\n",
       "      <td>4767</td>\n",
       "      <td>2012-10-02 11:00:00</td>\n",
       "      <td>0 days 02:00:00</td>\n",
       "    </tr>\n",
       "    <tr>\n",
       "      <th>3</th>\n",
       "      <td>None</td>\n",
       "      <td>290.13</td>\n",
       "      <td>0.0</td>\n",
       "      <td>0.0</td>\n",
       "      <td>90</td>\n",
       "      <td>Clouds</td>\n",
       "      <td>overcast clouds</td>\n",
       "      <td>10/2/2012 12:00</td>\n",
       "      <td>5026</td>\n",
       "      <td>2012-10-02 12:00:00</td>\n",
       "      <td>0 days 03:00:00</td>\n",
       "    </tr>\n",
       "    <tr>\n",
       "      <th>4</th>\n",
       "      <td>None</td>\n",
       "      <td>291.14</td>\n",
       "      <td>0.0</td>\n",
       "      <td>0.0</td>\n",
       "      <td>75</td>\n",
       "      <td>Clouds</td>\n",
       "      <td>broken clouds</td>\n",
       "      <td>10/2/2012 13:00</td>\n",
       "      <td>4918</td>\n",
       "      <td>2012-10-02 13:00:00</td>\n",
       "      <td>0 days 04:00:00</td>\n",
       "    </tr>\n",
       "    <tr>\n",
       "      <th>...</th>\n",
       "      <td>...</td>\n",
       "      <td>...</td>\n",
       "      <td>...</td>\n",
       "      <td>...</td>\n",
       "      <td>...</td>\n",
       "      <td>...</td>\n",
       "      <td>...</td>\n",
       "      <td>...</td>\n",
       "      <td>...</td>\n",
       "      <td>...</td>\n",
       "      <td>...</td>\n",
       "    </tr>\n",
       "    <tr>\n",
       "      <th>48199</th>\n",
       "      <td>None</td>\n",
       "      <td>283.45</td>\n",
       "      <td>0.0</td>\n",
       "      <td>0.0</td>\n",
       "      <td>75</td>\n",
       "      <td>Clouds</td>\n",
       "      <td>broken clouds</td>\n",
       "      <td>9/30/2018 19:00</td>\n",
       "      <td>3543</td>\n",
       "      <td>2018-09-30 19:00:00</td>\n",
       "      <td>2189 days 10:00:00</td>\n",
       "    </tr>\n",
       "    <tr>\n",
       "      <th>48200</th>\n",
       "      <td>None</td>\n",
       "      <td>282.76</td>\n",
       "      <td>0.0</td>\n",
       "      <td>0.0</td>\n",
       "      <td>90</td>\n",
       "      <td>Clouds</td>\n",
       "      <td>overcast clouds</td>\n",
       "      <td>9/30/2018 20:00</td>\n",
       "      <td>2781</td>\n",
       "      <td>2018-09-30 20:00:00</td>\n",
       "      <td>2189 days 11:00:00</td>\n",
       "    </tr>\n",
       "    <tr>\n",
       "      <th>48201</th>\n",
       "      <td>None</td>\n",
       "      <td>282.73</td>\n",
       "      <td>0.0</td>\n",
       "      <td>0.0</td>\n",
       "      <td>90</td>\n",
       "      <td>Thunderstorm</td>\n",
       "      <td>proximity thunderstorm</td>\n",
       "      <td>9/30/2018 21:00</td>\n",
       "      <td>2159</td>\n",
       "      <td>2018-09-30 21:00:00</td>\n",
       "      <td>2189 days 12:00:00</td>\n",
       "    </tr>\n",
       "    <tr>\n",
       "      <th>48202</th>\n",
       "      <td>None</td>\n",
       "      <td>282.09</td>\n",
       "      <td>0.0</td>\n",
       "      <td>0.0</td>\n",
       "      <td>90</td>\n",
       "      <td>Clouds</td>\n",
       "      <td>overcast clouds</td>\n",
       "      <td>9/30/2018 22:00</td>\n",
       "      <td>1450</td>\n",
       "      <td>2018-09-30 22:00:00</td>\n",
       "      <td>2189 days 13:00:00</td>\n",
       "    </tr>\n",
       "    <tr>\n",
       "      <th>48203</th>\n",
       "      <td>None</td>\n",
       "      <td>282.12</td>\n",
       "      <td>0.0</td>\n",
       "      <td>0.0</td>\n",
       "      <td>90</td>\n",
       "      <td>Clouds</td>\n",
       "      <td>overcast clouds</td>\n",
       "      <td>9/30/2018 23:00</td>\n",
       "      <td>954</td>\n",
       "      <td>2018-09-30 23:00:00</td>\n",
       "      <td>2189 days 14:00:00</td>\n",
       "    </tr>\n",
       "  </tbody>\n",
       "</table>\n",
       "<p>48204 rows × 11 columns</p>\n",
       "</div>"
      ],
      "text/plain": [
       "      holiday    temp  rain_1h  snow_1h  clouds_all  weather_main  \\\n",
       "0        None  288.28      0.0      0.0          40        Clouds   \n",
       "1        None  289.36      0.0      0.0          75        Clouds   \n",
       "2        None  289.58      0.0      0.0          90        Clouds   \n",
       "3        None  290.13      0.0      0.0          90        Clouds   \n",
       "4        None  291.14      0.0      0.0          75        Clouds   \n",
       "...       ...     ...      ...      ...         ...           ...   \n",
       "48199    None  283.45      0.0      0.0          75        Clouds   \n",
       "48200    None  282.76      0.0      0.0          90        Clouds   \n",
       "48201    None  282.73      0.0      0.0          90  Thunderstorm   \n",
       "48202    None  282.09      0.0      0.0          90        Clouds   \n",
       "48203    None  282.12      0.0      0.0          90        Clouds   \n",
       "\n",
       "          weather_description        date_time  traffic_volume  \\\n",
       "0            scattered clouds   10/2/2012 9:00            5545   \n",
       "1               broken clouds  10/2/2012 10:00            4516   \n",
       "2             overcast clouds  10/2/2012 11:00            4767   \n",
       "3             overcast clouds  10/2/2012 12:00            5026   \n",
       "4               broken clouds  10/2/2012 13:00            4918   \n",
       "...                       ...              ...             ...   \n",
       "48199           broken clouds  9/30/2018 19:00            3543   \n",
       "48200         overcast clouds  9/30/2018 20:00            2781   \n",
       "48201  proximity thunderstorm  9/30/2018 21:00            2159   \n",
       "48202         overcast clouds  9/30/2018 22:00            1450   \n",
       "48203         overcast clouds  9/30/2018 23:00             954   \n",
       "\n",
       "            datetimestamp               diff  \n",
       "0     2012-10-02 09:00:00    0 days 00:00:00  \n",
       "1     2012-10-02 10:00:00    0 days 01:00:00  \n",
       "2     2012-10-02 11:00:00    0 days 02:00:00  \n",
       "3     2012-10-02 12:00:00    0 days 03:00:00  \n",
       "4     2012-10-02 13:00:00    0 days 04:00:00  \n",
       "...                   ...                ...  \n",
       "48199 2018-09-30 19:00:00 2189 days 10:00:00  \n",
       "48200 2018-09-30 20:00:00 2189 days 11:00:00  \n",
       "48201 2018-09-30 21:00:00 2189 days 12:00:00  \n",
       "48202 2018-09-30 22:00:00 2189 days 13:00:00  \n",
       "48203 2018-09-30 23:00:00 2189 days 14:00:00  \n",
       "\n",
       "[48204 rows x 11 columns]"
      ]
     },
     "execution_count": 20,
     "metadata": {},
     "output_type": "execute_result"
    }
   ],
   "source": [
    "firstday=df[\"datetimestamp\"].min()\n",
    "print(firstday)\n",
    "df[\"diff\"]=df[\"datetimestamp\"]-firstday\n",
    "df"
   ]
  },
  {
   "cell_type": "code",
   "execution_count": 22,
   "id": "0fa7ebc4-6258-4050-ad06-b78c612e94c0",
   "metadata": {},
   "outputs": [
    {
     "data": {
      "text/plain": [
       "holiday                         object\n",
       "temp                           float64\n",
       "rain_1h                        float64\n",
       "snow_1h                        float64\n",
       "clouds_all                       int64\n",
       "weather_main                    object\n",
       "weather_description             object\n",
       "date_time                       object\n",
       "traffic_volume                   int64\n",
       "datetimestamp           datetime64[ns]\n",
       "diff                   timedelta64[ns]\n",
       "dtype: object"
      ]
     },
     "execution_count": 22,
     "metadata": {},
     "output_type": "execute_result"
    }
   ],
   "source": [
    "df.dtypes"
   ]
  },
  {
   "cell_type": "code",
   "execution_count": null,
   "id": "a33288b4-19cf-40d0-aff8-3445b96ba56d",
   "metadata": {},
   "outputs": [],
   "source": [
    "type(df[\"diff\"].iloc[0])"
   ]
  },
  {
   "cell_type": "code",
   "execution_count": null,
   "id": "59528c90-865d-4077-9a8f-ff73967e1627",
   "metadata": {},
   "outputs": [],
   "source": [
    "dir(df[\"diff\"].iloc[0])"
   ]
  },
  {
   "cell_type": "code",
   "execution_count": 23,
   "id": "01294d91-b932-43f8-b719-8f277435cdc2",
   "metadata": {},
   "outputs": [
    {
     "data": {
      "text/plain": [
       "0           0\n",
       "1           0\n",
       "2           0\n",
       "3           0\n",
       "4           0\n",
       "         ... \n",
       "48199    2189\n",
       "48200    2189\n",
       "48201    2189\n",
       "48202    2189\n",
       "48203    2189\n",
       "Name: diff, Length: 48204, dtype: int64"
      ]
     },
     "execution_count": 23,
     "metadata": {},
     "output_type": "execute_result"
    }
   ],
   "source": [
    "df[\"diff\"].apply(lambda x:x.days)"
   ]
  },
  {
   "cell_type": "code",
   "execution_count": 24,
   "id": "8c2130ce-c5e7-4cc7-84ab-bb7ac5e5a966",
   "metadata": {},
   "outputs": [
    {
     "data": {
      "text/plain": [
       "0            0\n",
       "1         3600\n",
       "2         7200\n",
       "3        10800\n",
       "4        14400\n",
       "         ...  \n",
       "48199    36000\n",
       "48200    39600\n",
       "48201    43200\n",
       "48202    46800\n",
       "48203    50400\n",
       "Name: diff, Length: 48204, dtype: int64"
      ]
     },
     "execution_count": 24,
     "metadata": {},
     "output_type": "execute_result"
    }
   ],
   "source": [
    "df[\"diff\"].apply(lambda x:x.seconds)"
   ]
  },
  {
   "cell_type": "code",
   "execution_count": null,
   "id": "ade27868-90a0-4aef-8572-55852113af94",
   "metadata": {},
   "outputs": [],
   "source": [
    "df.datetimestamp.dt.time"
   ]
  },
  {
   "cell_type": "code",
   "execution_count": 25,
   "id": "296458c2-1cb0-4555-b2b3-8137702846bb",
   "metadata": {},
   "outputs": [
    {
     "data": {
      "text/plain": [
       "1"
      ]
     },
     "execution_count": 25,
     "metadata": {},
     "output_type": "execute_result"
    }
   ],
   "source": [
    "df.datetimestamp.iloc[0].weekday()"
   ]
  },
  {
   "cell_type": "code",
   "execution_count": 26,
   "id": "29542b44-c247-446a-a7ab-16fd65ed9031",
   "metadata": {},
   "outputs": [
    {
     "data": {
      "text/plain": [
       "0        1\n",
       "1        1\n",
       "2        1\n",
       "3        1\n",
       "4        1\n",
       "        ..\n",
       "48199    6\n",
       "48200    6\n",
       "48201    6\n",
       "48202    6\n",
       "48203    6\n",
       "Name: datetimestamp, Length: 48204, dtype: int64"
      ]
     },
     "execution_count": 26,
     "metadata": {},
     "output_type": "execute_result"
    }
   ],
   "source": [
    "df.datetimestamp.apply(lambda x:x.weekday())"
   ]
  },
  {
   "cell_type": "code",
   "execution_count": null,
   "id": "e7c9dad0-214c-4280-a519-efb5ef77b0df",
   "metadata": {},
   "outputs": [],
   "source": [
    "datetime.datetime.now().weekday()"
   ]
  },
  {
   "cell_type": "code",
   "execution_count": null,
   "id": "8d77e457-bb41-47a0-bf21-6aa2ae463cef",
   "metadata": {},
   "outputs": [],
   "source": []
  }
 ],
 "metadata": {
  "kernelspec": {
   "display_name": "Python 3 (ipykernel)",
   "language": "python",
   "name": "python3"
  },
  "language_info": {
   "codemirror_mode": {
    "name": "ipython",
    "version": 3
   },
   "file_extension": ".py",
   "mimetype": "text/x-python",
   "name": "python",
   "nbconvert_exporter": "python",
   "pygments_lexer": "ipython3",
   "version": "3.11.5"
  }
 },
 "nbformat": 4,
 "nbformat_minor": 5
}
