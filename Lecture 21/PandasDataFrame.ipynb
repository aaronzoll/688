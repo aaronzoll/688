{
 "cells": [
  {
   "cell_type": "markdown",
   "metadata": {},
   "source": [
    "**Pandas Data Frames**\n",
    "\n",
    "A pandas data frame is a 2-dimensional array in which the columns have common indices. We usually use such an object when we have a collection of observations/items and a fixed collection of variables/attributes that describe each of the observations.\n",
    "\n",
    "Consider a convenience store and data for each possible transaction. A transaction has a transaction ID, a customer ID, the amount of money associated with the sale, the amount of tax associated with the sale, and a date time stamp.\n",
    "\n",
    "The data can be stored as 3 separate dictionaries with the transcation ID as the key. A key point here is that the key is common to all of the variables."
   ]
  },
  {
   "cell_type": "code",
   "execution_count": 5,
   "metadata": {},
   "outputs": [],
   "source": [
    "import mylib as my\n",
    "import os\n",
    "os.chdir(my.onedrive+\"//CurrentCourses//553.688.Spring.2023//Lectures//\")\"April//Lecture19//\")"
   ]
  },
  {
   "cell_type": "code",
   "execution_count": 2,
   "metadata": {},
   "outputs": [],
   "source": [
    "customer={'T12341':\"George\",'T12342':\"Thomas\",'T12343':\"Josephine\",'T12344':\"Steve\",'T12345':\"James\"}\n",
    "amount={'T12341':12.75,'T12342':10.89,'T12343':4.67,'T12344':11.21,'T12345':4.00}\n",
    "tax={'T12341':.64,'T12342':.55,'T12343':.24,'T12344':.46,'T12345':.15}\n",
    "newcol={'T12341':[.64,.35],'T12342':55,'T12343':.24,'T12344':\"dwjdkw\",'T12345':{\"g\":.15,\"h\":20}}\n",
    "datetime={'T12341':'12:23:2018:12:38','T12342':'12:23:2018:12:45','T12343':'12:23:2018:12:45','T12344':'12:23:2018:12:47','T12345':'12:23:2018:12:49'}"
   ]
  },
  {
   "cell_type": "code",
   "execution_count": 3,
   "metadata": {},
   "outputs": [
    {
     "name": "stdout",
     "output_type": "stream",
     "text": [
      "         customer  amount   tax          datetime\n",
      "T12341     George   12.75  0.64  12:23:2018:12:38\n",
      "T12342     Thomas   10.89  0.55  12:23:2018:12:45\n",
      "T12343  Josephine    4.67  0.24  12:23:2018:12:45\n",
      "T12344      Steve   11.21  0.46  12:23:2018:12:47\n",
      "T12345      James    4.00  0.15  12:23:2018:12:49\n"
     ]
    }
   ],
   "source": [
    "import pandas as pd\n",
    "df=pd.DataFrame({'customer':customer,'amount':amount,'tax':tax, 'datetime':datetime}) # \"newcol\":newcol})\n",
    "print(df)"
   ]
  },
  {
   "cell_type": "code",
   "execution_count": null,
   "metadata": {},
   "outputs": [],
   "source": [
    "## We can write a data frame out to a comma delimited file"
   ]
  },
  {
   "cell_type": "code",
   "execution_count": 4,
   "metadata": {},
   "outputs": [],
   "source": [
    "df.to_csv(\"customer_data.csv\")"
   ]
  },
  {
   "cell_type": "code",
   "execution_count": null,
   "metadata": {},
   "outputs": [],
   "source": [
    "## By default, the index is included."
   ]
  },
  {
   "cell_type": "code",
   "execution_count": 5,
   "metadata": {},
   "outputs": [],
   "source": [
    "df.to_csv(\"customer_data.csv\",index=False)"
   ]
  },
  {
   "cell_type": "markdown",
   "metadata": {},
   "source": [
    "**csv files**\n",
    "\n",
    "We can read a comma delimited file to create a data frame."
   ]
  },
  {
   "cell_type": "code",
   "execution_count": null,
   "metadata": {},
   "outputs": [],
   "source": [
    "df=pd.read_csv(\"customer_data.csv\")\n",
    "df.head()"
   ]
  },
  {
   "cell_type": "markdown",
   "metadata": {},
   "source": [
    "We can also include an index and specify which column becomes the index."
   ]
  },
  {
   "cell_type": "code",
   "execution_count": null,
   "metadata": {},
   "outputs": [],
   "source": [
    "df=pd.read_csv(\"customer_data.csv\",index_col=0)\n",
    "df.head()"
   ]
  },
  {
   "cell_type": "markdown",
   "metadata": {},
   "source": [
    "The _shape_ attribute tells us the number of rows and columns"
   ]
  },
  {
   "cell_type": "code",
   "execution_count": 6,
   "metadata": {},
   "outputs": [
    {
     "data": {
      "text/plain": [
       "(5, 4)"
      ]
     },
     "execution_count": 6,
     "metadata": {},
     "output_type": "execute_result"
    }
   ],
   "source": [
    "df.shape"
   ]
  },
  {
   "cell_type": "markdown",
   "metadata": {},
   "source": [
    "**Data types**\n",
    "\n",
    "The data types of the columns are stored in the dtypes attribute as a pandas series."
   ]
  },
  {
   "cell_type": "code",
   "execution_count": 7,
   "metadata": {},
   "outputs": [
    {
     "data": {
      "text/plain": [
       "customer     object\n",
       "amount      float64\n",
       "tax         float64\n",
       "datetime     object\n",
       "dtype: object"
      ]
     },
     "execution_count": 7,
     "metadata": {},
     "output_type": "execute_result"
    }
   ],
   "source": [
    "df.dtypes"
   ]
  },
  {
   "cell_type": "markdown",
   "metadata": {},
   "source": [
    "The column names are stored in the _columns_ attribute. "
   ]
  },
  {
   "cell_type": "code",
   "execution_count": 8,
   "metadata": {},
   "outputs": [
    {
     "name": "stdout",
     "output_type": "stream",
     "text": [
      "Index(['customer', 'amount', 'tax', 'datetime'], dtype='object')\n"
     ]
    }
   ],
   "source": [
    "print(df.columns)"
   ]
  },
  {
   "cell_type": "code",
   "execution_count": 9,
   "metadata": {},
   "outputs": [
    {
     "data": {
      "text/plain": [
       "['customer', 'amount', 'tax', 'datetime']"
      ]
     },
     "execution_count": 9,
     "metadata": {},
     "output_type": "execute_result"
    }
   ],
   "source": [
    "list(df.columns)"
   ]
  },
  {
   "cell_type": "code",
   "execution_count": null,
   "metadata": {},
   "outputs": [],
   "source": [
    "print(type(df.columns))"
   ]
  },
  {
   "cell_type": "code",
   "execution_count": null,
   "metadata": {},
   "outputs": [],
   "source": [
    "for x in df.columns:\n",
    "    print(x)\n",
    "\n",
    "for i in range(df.columns.size):\n",
    "    print(str(i)+\" \"+df.columns[i])"
   ]
  },
  {
   "cell_type": "markdown",
   "metadata": {},
   "source": [
    "**index**\n",
    "\n",
    "The _index_ is stored in the index attribute. This is also an index object."
   ]
  },
  {
   "cell_type": "code",
   "execution_count": 10,
   "metadata": {},
   "outputs": [
    {
     "name": "stdout",
     "output_type": "stream",
     "text": [
      "Index(['T12341', 'T12342', 'T12343', 'T12344', 'T12345'], dtype='object')\n"
     ]
    }
   ],
   "source": [
    "print(df.index)"
   ]
  },
  {
   "cell_type": "markdown",
   "metadata": {},
   "source": [
    "We can get a column as a Series in two different ways: \n",
    "\n",
    "- using the dot\n",
    "- using square brackets with the variable name in quotes "
   ]
  },
  {
   "cell_type": "code",
   "execution_count": 11,
   "metadata": {},
   "outputs": [
    {
     "data": {
      "text/plain": [
       "T12341    0.64\n",
       "T12342    0.55\n",
       "T12343    0.24\n",
       "T12344    0.46\n",
       "T12345    0.15\n",
       "Name: tax, dtype: float64"
      ]
     },
     "execution_count": 11,
     "metadata": {},
     "output_type": "execute_result"
    }
   ],
   "source": [
    "df.tax"
   ]
  },
  {
   "cell_type": "code",
   "execution_count": 12,
   "metadata": {},
   "outputs": [
    {
     "data": {
      "text/plain": [
       "T12341    0.64\n",
       "T12342    0.55\n",
       "T12343    0.24\n",
       "T12344    0.46\n",
       "T12345    0.15\n",
       "Name: tax, dtype: float64"
      ]
     },
     "execution_count": 12,
     "metadata": {},
     "output_type": "execute_result"
    }
   ],
   "source": [
    "df[\"tax\"]"
   ]
  },
  {
   "cell_type": "markdown",
   "metadata": {},
   "source": [
    "We can create a data frame with a subset of the columns using a list."
   ]
  },
  {
   "cell_type": "code",
   "execution_count": 13,
   "metadata": {},
   "outputs": [
    {
     "data": {
      "text/html": [
       "<div>\n",
       "<style scoped>\n",
       "    .dataframe tbody tr th:only-of-type {\n",
       "        vertical-align: middle;\n",
       "    }\n",
       "\n",
       "    .dataframe tbody tr th {\n",
       "        vertical-align: top;\n",
       "    }\n",
       "\n",
       "    .dataframe thead th {\n",
       "        text-align: right;\n",
       "    }\n",
       "</style>\n",
       "<table border=\"1\" class=\"dataframe\">\n",
       "  <thead>\n",
       "    <tr style=\"text-align: right;\">\n",
       "      <th></th>\n",
       "      <th>customer</th>\n",
       "      <th>tax</th>\n",
       "    </tr>\n",
       "  </thead>\n",
       "  <tbody>\n",
       "    <tr>\n",
       "      <th>T12341</th>\n",
       "      <td>George</td>\n",
       "      <td>0.64</td>\n",
       "    </tr>\n",
       "    <tr>\n",
       "      <th>T12342</th>\n",
       "      <td>Thomas</td>\n",
       "      <td>0.55</td>\n",
       "    </tr>\n",
       "    <tr>\n",
       "      <th>T12343</th>\n",
       "      <td>Josephine</td>\n",
       "      <td>0.24</td>\n",
       "    </tr>\n",
       "    <tr>\n",
       "      <th>T12344</th>\n",
       "      <td>Steve</td>\n",
       "      <td>0.46</td>\n",
       "    </tr>\n",
       "    <tr>\n",
       "      <th>T12345</th>\n",
       "      <td>James</td>\n",
       "      <td>0.15</td>\n",
       "    </tr>\n",
       "  </tbody>\n",
       "</table>\n",
       "</div>"
      ],
      "text/plain": [
       "         customer   tax\n",
       "T12341     George  0.64\n",
       "T12342     Thomas  0.55\n",
       "T12343  Josephine  0.24\n",
       "T12344      Steve  0.46\n",
       "T12345      James  0.15"
      ]
     },
     "execution_count": 13,
     "metadata": {},
     "output_type": "execute_result"
    }
   ],
   "source": [
    "df[[\"customer\",\"tax\"]]"
   ]
  },
  {
   "cell_type": "markdown",
   "metadata": {},
   "source": [
    "We can also construct a data frame from a 2-dimensional numpy array. \n",
    "\n",
    "Here we create a data frame from a 10 x 3 array of standard normal random variables. \n",
    "\n",
    "When we use this method, by default the index is 0,1,...n-1 where n is the number of rows in the input 2-d array."
   ]
  },
  {
   "cell_type": "code",
   "execution_count": 14,
   "metadata": {},
   "outputs": [
    {
     "name": "stdout",
     "output_type": "stream",
     "text": [
      "[[-0.60043489 10.73173496  5.65106913]\n",
      " [ 6.38534765 14.94361885  6.9675459 ]\n",
      " [17.34318193  9.54015735 11.31136799]\n",
      " [14.77130166 11.46022436  9.95936316]\n",
      " [19.27907697 13.5453974   2.09131505]\n",
      " [14.90667213  2.03322577 14.75359079]\n",
      " [ 9.48613827 16.40032659  7.37573111]\n",
      " [12.59954367 16.43105435  8.38050486]\n",
      " [ 7.21379782 16.01622974  8.70337493]\n",
      " [12.6270695  -1.0650933  11.06809386]]\n"
     ]
    },
    {
     "data": {
      "text/html": [
       "<div>\n",
       "<style scoped>\n",
       "    .dataframe tbody tr th:only-of-type {\n",
       "        vertical-align: middle;\n",
       "    }\n",
       "\n",
       "    .dataframe tbody tr th {\n",
       "        vertical-align: top;\n",
       "    }\n",
       "\n",
       "    .dataframe thead th {\n",
       "        text-align: right;\n",
       "    }\n",
       "</style>\n",
       "<table border=\"1\" class=\"dataframe\">\n",
       "  <thead>\n",
       "    <tr style=\"text-align: right;\">\n",
       "      <th></th>\n",
       "      <th>x</th>\n",
       "      <th>y</th>\n",
       "      <th>z</th>\n",
       "    </tr>\n",
       "  </thead>\n",
       "  <tbody>\n",
       "    <tr>\n",
       "      <th>0</th>\n",
       "      <td>-0.600435</td>\n",
       "      <td>10.731735</td>\n",
       "      <td>5.651069</td>\n",
       "    </tr>\n",
       "    <tr>\n",
       "      <th>1</th>\n",
       "      <td>6.385348</td>\n",
       "      <td>14.943619</td>\n",
       "      <td>6.967546</td>\n",
       "    </tr>\n",
       "    <tr>\n",
       "      <th>2</th>\n",
       "      <td>17.343182</td>\n",
       "      <td>9.540157</td>\n",
       "      <td>11.311368</td>\n",
       "    </tr>\n",
       "    <tr>\n",
       "      <th>3</th>\n",
       "      <td>14.771302</td>\n",
       "      <td>11.460224</td>\n",
       "      <td>9.959363</td>\n",
       "    </tr>\n",
       "    <tr>\n",
       "      <th>4</th>\n",
       "      <td>19.279077</td>\n",
       "      <td>13.545397</td>\n",
       "      <td>2.091315</td>\n",
       "    </tr>\n",
       "    <tr>\n",
       "      <th>5</th>\n",
       "      <td>14.906672</td>\n",
       "      <td>2.033226</td>\n",
       "      <td>14.753591</td>\n",
       "    </tr>\n",
       "    <tr>\n",
       "      <th>6</th>\n",
       "      <td>9.486138</td>\n",
       "      <td>16.400327</td>\n",
       "      <td>7.375731</td>\n",
       "    </tr>\n",
       "    <tr>\n",
       "      <th>7</th>\n",
       "      <td>12.599544</td>\n",
       "      <td>16.431054</td>\n",
       "      <td>8.380505</td>\n",
       "    </tr>\n",
       "    <tr>\n",
       "      <th>8</th>\n",
       "      <td>7.213798</td>\n",
       "      <td>16.016230</td>\n",
       "      <td>8.703375</td>\n",
       "    </tr>\n",
       "    <tr>\n",
       "      <th>9</th>\n",
       "      <td>12.627070</td>\n",
       "      <td>-1.065093</td>\n",
       "      <td>11.068094</td>\n",
       "    </tr>\n",
       "  </tbody>\n",
       "</table>\n",
       "</div>"
      ],
      "text/plain": [
       "           x          y          z\n",
       "0  -0.600435  10.731735   5.651069\n",
       "1   6.385348  14.943619   6.967546\n",
       "2  17.343182   9.540157  11.311368\n",
       "3  14.771302  11.460224   9.959363\n",
       "4  19.279077  13.545397   2.091315\n",
       "5  14.906672   2.033226  14.753591\n",
       "6   9.486138  16.400327   7.375731\n",
       "7  12.599544  16.431054   8.380505\n",
       "8   7.213798  16.016230   8.703375\n",
       "9  12.627070  -1.065093  11.068094"
      ]
     },
     "execution_count": 14,
     "metadata": {},
     "output_type": "execute_result"
    }
   ],
   "source": [
    "import numpy as np\n",
    "import pandas as pd\n",
    "M=np.random.normal(10, 5, (10,3))\n",
    "print(M)\n",
    "df=pd.DataFrame(M, columns=['x', 'y','z'])\n",
    "df"
   ]
  },
  {
   "cell_type": "markdown",
   "metadata": {},
   "source": [
    "We can also specify the index in the constructor."
   ]
  },
  {
   "cell_type": "code",
   "execution_count": 15,
   "metadata": {},
   "outputs": [
    {
     "data": {
      "text/html": [
       "<div>\n",
       "<style scoped>\n",
       "    .dataframe tbody tr th:only-of-type {\n",
       "        vertical-align: middle;\n",
       "    }\n",
       "\n",
       "    .dataframe tbody tr th {\n",
       "        vertical-align: top;\n",
       "    }\n",
       "\n",
       "    .dataframe thead th {\n",
       "        text-align: right;\n",
       "    }\n",
       "</style>\n",
       "<table border=\"1\" class=\"dataframe\">\n",
       "  <thead>\n",
       "    <tr style=\"text-align: right;\">\n",
       "      <th></th>\n",
       "      <th>x</th>\n",
       "      <th>y</th>\n",
       "      <th>z</th>\n",
       "    </tr>\n",
       "  </thead>\n",
       "  <tbody>\n",
       "    <tr>\n",
       "      <th>a</th>\n",
       "      <td>11.982355</td>\n",
       "      <td>13.754252</td>\n",
       "      <td>4.197758</td>\n",
       "    </tr>\n",
       "    <tr>\n",
       "      <th>b</th>\n",
       "      <td>11.666802</td>\n",
       "      <td>5.224240</td>\n",
       "      <td>7.546153</td>\n",
       "    </tr>\n",
       "    <tr>\n",
       "      <th>c</th>\n",
       "      <td>9.118848</td>\n",
       "      <td>6.249172</td>\n",
       "      <td>6.792994</td>\n",
       "    </tr>\n",
       "    <tr>\n",
       "      <th>d</th>\n",
       "      <td>8.851631</td>\n",
       "      <td>21.102466</td>\n",
       "      <td>15.946509</td>\n",
       "    </tr>\n",
       "    <tr>\n",
       "      <th>e</th>\n",
       "      <td>9.816698</td>\n",
       "      <td>6.417140</td>\n",
       "      <td>5.906496</td>\n",
       "    </tr>\n",
       "    <tr>\n",
       "      <th>f</th>\n",
       "      <td>3.072211</td>\n",
       "      <td>11.623233</td>\n",
       "      <td>14.723038</td>\n",
       "    </tr>\n",
       "    <tr>\n",
       "      <th>g</th>\n",
       "      <td>7.191691</td>\n",
       "      <td>6.302813</td>\n",
       "      <td>6.503380</td>\n",
       "    </tr>\n",
       "    <tr>\n",
       "      <th>h</th>\n",
       "      <td>7.053001</td>\n",
       "      <td>15.505428</td>\n",
       "      <td>9.256247</td>\n",
       "    </tr>\n",
       "    <tr>\n",
       "      <th>i</th>\n",
       "      <td>9.449183</td>\n",
       "      <td>8.694107</td>\n",
       "      <td>6.646410</td>\n",
       "    </tr>\n",
       "    <tr>\n",
       "      <th>j</th>\n",
       "      <td>7.862480</td>\n",
       "      <td>12.826298</td>\n",
       "      <td>14.011987</td>\n",
       "    </tr>\n",
       "  </tbody>\n",
       "</table>\n",
       "</div>"
      ],
      "text/plain": [
       "           x          y          z\n",
       "a  11.982355  13.754252   4.197758\n",
       "b  11.666802   5.224240   7.546153\n",
       "c   9.118848   6.249172   6.792994\n",
       "d   8.851631  21.102466  15.946509\n",
       "e   9.816698   6.417140   5.906496\n",
       "f   3.072211  11.623233  14.723038\n",
       "g   7.191691   6.302813   6.503380\n",
       "h   7.053001  15.505428   9.256247\n",
       "i   9.449183   8.694107   6.646410\n",
       "j   7.862480  12.826298  14.011987"
      ]
     },
     "execution_count": 15,
     "metadata": {},
     "output_type": "execute_result"
    }
   ],
   "source": [
    "import numpy as np\n",
    "import pandas as pd\n",
    "df=pd.DataFrame(np.random.normal(10, 5, (10,3)),\n",
    "             columns=['x', 'y','z'],\n",
    "               index=['a','b','c','d','e','f','g','h','i','j'])\n",
    "df"
   ]
  },
  {
   "cell_type": "markdown",
   "metadata": {},
   "source": [
    "**Assigning an index**\n",
    "\n",
    "We can assign an index to a data frame after it is constructed. This approach creates the new index _positionally_, that is, the order of assignment is according to the ordering of the rows."
   ]
  },
  {
   "cell_type": "code",
   "execution_count": 16,
   "metadata": {},
   "outputs": [
    {
     "name": "stdout",
     "output_type": "stream",
     "text": [
      "           x          y          z\n",
      "0   3.808573   8.222364   8.999643\n",
      "1   8.319182  18.778179  16.622375\n",
      "2   5.661015  18.590159   9.876612\n",
      "3  12.831437   1.877926  16.049012\n",
      "4   5.936901   3.238578  16.317290\n",
      "           x          y          z\n",
      "c   3.808573   8.222364   8.999643\n",
      "d   8.319182  18.778179  16.622375\n",
      "e   5.661015  18.590159   9.876612\n",
      "f  12.831437   1.877926  16.049012\n",
      "g   5.936901   3.238578  16.317290\n"
     ]
    }
   ],
   "source": [
    "import numpy as np\n",
    "import pandas as pd\n",
    "df=pd.DataFrame(np.random.normal(10, 5, (5,3)),\n",
    "             columns=['x', 'y','z'])\n",
    "#             index=['a','b','c','d','e'])\n",
    "print(df)\n",
    "df.index=['c','d','e','f','g']\n",
    "print(df)"
   ]
  },
  {
   "cell_type": "markdown",
   "metadata": {},
   "source": [
    "We can use an existing column to create a new index. We can do this \"inplace\" meaning that we modify the existing data frame, or we can create a new data frame object."
   ]
  },
  {
   "cell_type": "code",
   "execution_count": 17,
   "metadata": {},
   "outputs": [
    {
     "data": {
      "text/html": [
       "<div>\n",
       "<style scoped>\n",
       "    .dataframe tbody tr th:only-of-type {\n",
       "        vertical-align: middle;\n",
       "    }\n",
       "\n",
       "    .dataframe tbody tr th {\n",
       "        vertical-align: top;\n",
       "    }\n",
       "\n",
       "    .dataframe thead th {\n",
       "        text-align: right;\n",
       "    }\n",
       "</style>\n",
       "<table border=\"1\" class=\"dataframe\">\n",
       "  <thead>\n",
       "    <tr style=\"text-align: right;\">\n",
       "      <th></th>\n",
       "      <th>x</th>\n",
       "      <th>y</th>\n",
       "      <th>z</th>\n",
       "    </tr>\n",
       "  </thead>\n",
       "  <tbody>\n",
       "    <tr>\n",
       "      <th>0</th>\n",
       "      <td>13.328179</td>\n",
       "      <td>16.811139</td>\n",
       "      <td>8.102287</td>\n",
       "    </tr>\n",
       "    <tr>\n",
       "      <th>1</th>\n",
       "      <td>17.027778</td>\n",
       "      <td>3.473851</td>\n",
       "      <td>8.990559</td>\n",
       "    </tr>\n",
       "    <tr>\n",
       "      <th>2</th>\n",
       "      <td>14.218391</td>\n",
       "      <td>14.868016</td>\n",
       "      <td>9.480588</td>\n",
       "    </tr>\n",
       "    <tr>\n",
       "      <th>3</th>\n",
       "      <td>7.605404</td>\n",
       "      <td>15.559195</td>\n",
       "      <td>9.047861</td>\n",
       "    </tr>\n",
       "    <tr>\n",
       "      <th>4</th>\n",
       "      <td>13.908400</td>\n",
       "      <td>11.277981</td>\n",
       "      <td>9.985178</td>\n",
       "    </tr>\n",
       "    <tr>\n",
       "      <th>5</th>\n",
       "      <td>11.836899</td>\n",
       "      <td>23.910585</td>\n",
       "      <td>2.018541</td>\n",
       "    </tr>\n",
       "    <tr>\n",
       "      <th>6</th>\n",
       "      <td>6.824768</td>\n",
       "      <td>11.514617</td>\n",
       "      <td>7.454956</td>\n",
       "    </tr>\n",
       "    <tr>\n",
       "      <th>7</th>\n",
       "      <td>22.051282</td>\n",
       "      <td>3.879606</td>\n",
       "      <td>8.388539</td>\n",
       "    </tr>\n",
       "    <tr>\n",
       "      <th>8</th>\n",
       "      <td>16.645641</td>\n",
       "      <td>19.103593</td>\n",
       "      <td>13.613959</td>\n",
       "    </tr>\n",
       "    <tr>\n",
       "      <th>9</th>\n",
       "      <td>10.029491</td>\n",
       "      <td>12.015391</td>\n",
       "      <td>14.964004</td>\n",
       "    </tr>\n",
       "  </tbody>\n",
       "</table>\n",
       "</div>"
      ],
      "text/plain": [
       "           x          y          z\n",
       "0  13.328179  16.811139   8.102287\n",
       "1  17.027778   3.473851   8.990559\n",
       "2  14.218391  14.868016   9.480588\n",
       "3   7.605404  15.559195   9.047861\n",
       "4  13.908400  11.277981   9.985178\n",
       "5  11.836899  23.910585   2.018541\n",
       "6   6.824768  11.514617   7.454956\n",
       "7  22.051282   3.879606   8.388539\n",
       "8  16.645641  19.103593  13.613959\n",
       "9  10.029491  12.015391  14.964004"
      ]
     },
     "execution_count": 17,
     "metadata": {},
     "output_type": "execute_result"
    }
   ],
   "source": [
    "import numpy as np\n",
    "df=pd.DataFrame(np.random.normal(10, 5, (10,3)),\n",
    "            columns=['x', 'y','z'])\n",
    "df"
   ]
  },
  {
   "cell_type": "code",
   "execution_count": 18,
   "metadata": {},
   "outputs": [
    {
     "data": {
      "text/html": [
       "<div>\n",
       "<style scoped>\n",
       "    .dataframe tbody tr th:only-of-type {\n",
       "        vertical-align: middle;\n",
       "    }\n",
       "\n",
       "    .dataframe tbody tr th {\n",
       "        vertical-align: top;\n",
       "    }\n",
       "\n",
       "    .dataframe thead th {\n",
       "        text-align: right;\n",
       "    }\n",
       "</style>\n",
       "<table border=\"1\" class=\"dataframe\">\n",
       "  <thead>\n",
       "    <tr style=\"text-align: right;\">\n",
       "      <th></th>\n",
       "      <th>y</th>\n",
       "      <th>z</th>\n",
       "    </tr>\n",
       "    <tr>\n",
       "      <th>x</th>\n",
       "      <th></th>\n",
       "      <th></th>\n",
       "    </tr>\n",
       "  </thead>\n",
       "  <tbody>\n",
       "    <tr>\n",
       "      <th>7.796663</th>\n",
       "      <td>11.029757</td>\n",
       "      <td>13.632137</td>\n",
       "    </tr>\n",
       "    <tr>\n",
       "      <th>5.189702</th>\n",
       "      <td>5.844675</td>\n",
       "      <td>13.793459</td>\n",
       "    </tr>\n",
       "    <tr>\n",
       "      <th>6.088915</th>\n",
       "      <td>7.318521</td>\n",
       "      <td>8.861079</td>\n",
       "    </tr>\n",
       "    <tr>\n",
       "      <th>6.304395</th>\n",
       "      <td>3.705188</td>\n",
       "      <td>12.693479</td>\n",
       "    </tr>\n",
       "    <tr>\n",
       "      <th>7.288680</th>\n",
       "      <td>18.546115</td>\n",
       "      <td>11.974123</td>\n",
       "    </tr>\n",
       "    <tr>\n",
       "      <th>13.103748</th>\n",
       "      <td>11.188231</td>\n",
       "      <td>10.118542</td>\n",
       "    </tr>\n",
       "    <tr>\n",
       "      <th>11.430031</th>\n",
       "      <td>-0.131952</td>\n",
       "      <td>8.569990</td>\n",
       "    </tr>\n",
       "    <tr>\n",
       "      <th>8.578265</th>\n",
       "      <td>8.934822</td>\n",
       "      <td>12.381737</td>\n",
       "    </tr>\n",
       "    <tr>\n",
       "      <th>8.913076</th>\n",
       "      <td>-0.781033</td>\n",
       "      <td>11.436991</td>\n",
       "    </tr>\n",
       "    <tr>\n",
       "      <th>11.420092</th>\n",
       "      <td>4.544826</td>\n",
       "      <td>2.480288</td>\n",
       "    </tr>\n",
       "  </tbody>\n",
       "</table>\n",
       "</div>"
      ],
      "text/plain": [
       "                   y          z\n",
       "x                              \n",
       "7.796663   11.029757  13.632137\n",
       "5.189702    5.844675  13.793459\n",
       "6.088915    7.318521   8.861079\n",
       "6.304395    3.705188  12.693479\n",
       "7.288680   18.546115  11.974123\n",
       "13.103748  11.188231  10.118542\n",
       "11.430031  -0.131952   8.569990\n",
       "8.578265    8.934822  12.381737\n",
       "8.913076   -0.781033  11.436991\n",
       "11.420092   4.544826   2.480288"
      ]
     },
     "execution_count": 18,
     "metadata": {},
     "output_type": "execute_result"
    }
   ],
   "source": [
    "import numpy as np\n",
    "df=pd.DataFrame(np.random.normal(10, 5, (10,3)),\n",
    "             columns=['x', 'y','z'])\n",
    "df2=df.set_index('x')\n",
    "df2"
   ]
  },
  {
   "cell_type": "code",
   "execution_count": null,
   "metadata": {},
   "outputs": [],
   "source": [
    "import numpy as np\n",
    "df=pd.DataFrame(np.random.normal(10, 5, (10,3)),\n",
    "             columns=['x', 'y','z'])\n",
    "df.set_index('x',inplace=True)\n",
    "df.head(10)"
   ]
  },
  {
   "cell_type": "markdown",
   "metadata": {},
   "source": [
    "We can add an index that is not an existing column by creating a new column first."
   ]
  },
  {
   "cell_type": "code",
   "execution_count": 19,
   "metadata": {},
   "outputs": [
    {
     "name": "stdout",
     "output_type": "stream",
     "text": [
      "           x          y          z newcolumn\n",
      "0  10.443746  10.732672  12.478161         a\n",
      "1  15.619251   4.116326  11.792088         b\n",
      "2   5.241283   3.567649  -1.558814         c\n",
      "3   6.607825  15.279013  10.384250         d\n",
      "4   9.509347  18.310627   5.638552         e\n",
      "5  13.547912  14.356490  16.391716         f\n",
      "6   3.652935  16.739815  20.574360         g\n",
      "7   1.524651   6.623581   6.350933         h\n",
      "8   8.902497   3.068381   6.668083         i\n",
      "9  10.536462  10.973034   3.609080         j\n",
      "                   x          y          z\n",
      "newcolumn                                 \n",
      "a          10.443746  10.732672  12.478161\n",
      "b          15.619251   4.116326  11.792088\n",
      "c           5.241283   3.567649  -1.558814\n",
      "d           6.607825  15.279013  10.384250\n",
      "e           9.509347  18.310627   5.638552\n",
      "f          13.547912  14.356490  16.391716\n",
      "g           3.652935  16.739815  20.574360\n",
      "h           1.524651   6.623581   6.350933\n",
      "i           8.902497   3.068381   6.668083\n",
      "j          10.536462  10.973034   3.609080\n"
     ]
    }
   ],
   "source": [
    "import numpy as np\n",
    "df=pd.DataFrame(np.random.normal(10, 5, (10,3)),\n",
    "             columns=['x', 'y','z'])\n",
    "\n",
    "\n",
    "df['newcolumn']=['a','b','c','d','e','f','g','h','i','j']\n",
    "print(df)\n",
    "df.set_index('newcolumn',inplace=True)\n",
    "print(df)"
   ]
  },
  {
   "cell_type": "markdown",
   "metadata": {},
   "source": [
    "This does the same thing."
   ]
  },
  {
   "cell_type": "code",
   "execution_count": 20,
   "metadata": {},
   "outputs": [
    {
     "name": "stdout",
     "output_type": "stream",
     "text": [
      "           x          y          z\n",
      "a  20.724844   8.199320   8.843872\n",
      "b  12.274561  16.234458   6.997941\n",
      "c  11.238885  14.084491   1.976333\n",
      "d  11.719350  11.017946  15.764897\n",
      "e   9.644725   0.983373  17.626776\n",
      "f   6.334839  15.921011   9.652054\n",
      "g   5.082531  13.059999  14.827436\n",
      "h  13.573711   9.656660  12.123568\n",
      "i  11.952524   7.566422   9.980512\n",
      "j   8.205263   9.173130  11.568216\n"
     ]
    }
   ],
   "source": [
    "import numpy as np\n",
    "df=pd.DataFrame(np.random.normal(10, 5, (10,3)),\n",
    "             columns=['x', 'y','z'])\n",
    "\n",
    "df.index=['a','b','c','d','e','f','g','h','i','j']\n",
    "print(df)"
   ]
  },
  {
   "cell_type": "markdown",
   "metadata": {},
   "source": [
    "Note that we can't create a new column using the dot notation."
   ]
  },
  {
   "cell_type": "code",
   "execution_count": null,
   "metadata": {},
   "outputs": [],
   "source": [
    "import numpy as np\n",
    "df=pd.DataFrame(np.random.normal(10, 5, (10,3)),\n",
    "             columns=['x', 'y','z'])\n",
    "df.newcolumn=['a','b','c','d','e','f','g','h','i','j']\n",
    "print(df)"
   ]
  },
  {
   "cell_type": "code",
   "execution_count": null,
   "metadata": {},
   "outputs": [],
   "source": [
    "import numpy as np\n",
    "df=pd.DataFrame(np.random.normal(10, 5, (10,3)),\n",
    "             columns=['x', 'y','z'])\n",
    "df[\"newcolumn\"]=['a' for i in range(10)]\n",
    "print(df)\n",
    "df.index=df.newcolumn\n",
    "print(df)"
   ]
  },
  {
   "cell_type": "markdown",
   "metadata": {},
   "source": [
    "**Copying**\n",
    "\n",
    "As usual, remember you might want to copy!"
   ]
  },
  {
   "cell_type": "code",
   "execution_count": 21,
   "metadata": {},
   "outputs": [
    {
     "name": "stdout",
     "output_type": "stream",
     "text": [
      "                 x          y          z\n",
      "myindex                                 \n",
      "a        11.600138  12.189171  17.727250\n",
      "b        13.540448  13.842041  16.509940\n",
      "c         8.935494  10.698063  13.346725\n",
      "d        12.735797   7.773211  11.325655\n",
      "e        11.832691   4.826676   7.165023\n",
      "f         6.938914  12.379760  12.506489\n",
      "g         8.028788  11.836189  11.175921\n",
      "h         8.831659  15.315747  10.201756\n",
      "i        11.320055  10.526377  17.560307\n",
      "j        13.551762   5.065426  18.434085\n"
     ]
    }
   ],
   "source": [
    "import numpy as np\n",
    "df=pd.DataFrame(np.random.normal(10, 5, (10,3)),\n",
    "             columns=['x', 'y','z'])\n",
    "df['myindex']=['a','b','c','d','e','f','g','h','i','j']\n",
    "df2=df # df2 is a reference to the same object as df\n",
    "df2.set_index('myindex',inplace=True)\n",
    "df.head()\n",
    "print(df)"
   ]
  },
  {
   "cell_type": "code",
   "execution_count": 22,
   "metadata": {},
   "outputs": [
    {
     "name": "stdout",
     "output_type": "stream",
     "text": [
      "           x          y          z myindex\n",
      "0  -0.106734   1.757769   1.002131       a\n",
      "1  13.649289  21.731076   7.668331       b\n",
      "2  11.302302   7.504953   8.435466       c\n",
      "3  -1.100326  12.012646   4.116923       d\n",
      "4   6.628965  13.095527   8.103989       e\n",
      "5   7.201744  14.997500  10.163402       f\n",
      "6   8.829424   7.526975  10.907920       g\n",
      "7  14.596004   2.572379  15.377307       h\n",
      "8  14.626773  10.599624   5.921168       i\n",
      "9  14.816968   8.407309  12.273626       j\n"
     ]
    }
   ],
   "source": [
    "import numpy as np\n",
    "df=pd.DataFrame(np.random.normal(10, 5, (10,3)),\n",
    "             columns=['x', 'y','z'])\n",
    "df['myindex']=['a','b','c','d','e','f','g','h','i','j']\n",
    "df2=df.copy()\n",
    "df2.set_index('myindex',inplace=True)\n",
    "df.head()\n",
    "print(df)"
   ]
  },
  {
   "cell_type": "markdown",
   "metadata": {},
   "source": [
    "A good index usually has the property that it identifies a unique observation. So when setting the index, we might wish to perform an integrity check."
   ]
  },
  {
   "cell_type": "code",
   "execution_count": 23,
   "metadata": {},
   "outputs": [
    {
     "name": "stdout",
     "output_type": "stream",
     "text": [
      "integrity check failed\n"
     ]
    },
    {
     "data": {
      "text/html": [
       "<div>\n",
       "<style scoped>\n",
       "    .dataframe tbody tr th:only-of-type {\n",
       "        vertical-align: middle;\n",
       "    }\n",
       "\n",
       "    .dataframe tbody tr th {\n",
       "        vertical-align: top;\n",
       "    }\n",
       "\n",
       "    .dataframe thead th {\n",
       "        text-align: right;\n",
       "    }\n",
       "</style>\n",
       "<table border=\"1\" class=\"dataframe\">\n",
       "  <thead>\n",
       "    <tr style=\"text-align: right;\">\n",
       "      <th></th>\n",
       "      <th>x</th>\n",
       "      <th>y</th>\n",
       "      <th>z</th>\n",
       "      <th>myindex</th>\n",
       "    </tr>\n",
       "  </thead>\n",
       "  <tbody>\n",
       "    <tr>\n",
       "      <th>0</th>\n",
       "      <td>5.783496</td>\n",
       "      <td>12.010168</td>\n",
       "      <td>7.744012</td>\n",
       "      <td>a</td>\n",
       "    </tr>\n",
       "    <tr>\n",
       "      <th>1</th>\n",
       "      <td>0.288021</td>\n",
       "      <td>14.127683</td>\n",
       "      <td>10.146290</td>\n",
       "      <td>b</td>\n",
       "    </tr>\n",
       "    <tr>\n",
       "      <th>2</th>\n",
       "      <td>10.743895</td>\n",
       "      <td>9.233010</td>\n",
       "      <td>6.501808</td>\n",
       "      <td>c</td>\n",
       "    </tr>\n",
       "    <tr>\n",
       "      <th>3</th>\n",
       "      <td>4.315514</td>\n",
       "      <td>6.022782</td>\n",
       "      <td>12.946163</td>\n",
       "      <td>d</td>\n",
       "    </tr>\n",
       "    <tr>\n",
       "      <th>4</th>\n",
       "      <td>5.559030</td>\n",
       "      <td>16.176096</td>\n",
       "      <td>12.178700</td>\n",
       "      <td>e</td>\n",
       "    </tr>\n",
       "    <tr>\n",
       "      <th>5</th>\n",
       "      <td>9.243145</td>\n",
       "      <td>11.227480</td>\n",
       "      <td>6.348335</td>\n",
       "      <td>f</td>\n",
       "    </tr>\n",
       "    <tr>\n",
       "      <th>6</th>\n",
       "      <td>6.664602</td>\n",
       "      <td>14.173572</td>\n",
       "      <td>14.779938</td>\n",
       "      <td>g</td>\n",
       "    </tr>\n",
       "    <tr>\n",
       "      <th>7</th>\n",
       "      <td>9.421780</td>\n",
       "      <td>8.819010</td>\n",
       "      <td>10.544122</td>\n",
       "      <td>h</td>\n",
       "    </tr>\n",
       "    <tr>\n",
       "      <th>8</th>\n",
       "      <td>11.716613</td>\n",
       "      <td>15.361831</td>\n",
       "      <td>18.286150</td>\n",
       "      <td>a</td>\n",
       "    </tr>\n",
       "    <tr>\n",
       "      <th>9</th>\n",
       "      <td>11.054544</td>\n",
       "      <td>18.908229</td>\n",
       "      <td>6.799764</td>\n",
       "      <td>j</td>\n",
       "    </tr>\n",
       "  </tbody>\n",
       "</table>\n",
       "</div>"
      ],
      "text/plain": [
       "           x          y          z myindex\n",
       "0   5.783496  12.010168   7.744012       a\n",
       "1   0.288021  14.127683  10.146290       b\n",
       "2  10.743895   9.233010   6.501808       c\n",
       "3   4.315514   6.022782  12.946163       d\n",
       "4   5.559030  16.176096  12.178700       e\n",
       "5   9.243145  11.227480   6.348335       f\n",
       "6   6.664602  14.173572  14.779938       g\n",
       "7   9.421780   8.819010  10.544122       h\n",
       "8  11.716613  15.361831  18.286150       a\n",
       "9  11.054544  18.908229   6.799764       j"
      ]
     },
     "execution_count": 23,
     "metadata": {},
     "output_type": "execute_result"
    }
   ],
   "source": [
    "import numpy as np\n",
    "df=pd.DataFrame(np.random.normal(10, 5, (10,3)),\n",
    "             columns=['x', 'y','z'])\n",
    "df['myindex']=['a','b','c','d','e','f','g','h','a','j']\n",
    "\n",
    "try:\n",
    "    df.set_index('myindex',inplace=True,verify_integrity=True)\n",
    "except ValueError:\n",
    "    print(\"integrity check failed\")\n",
    "df\n"
   ]
  },
  {
   "cell_type": "markdown",
   "metadata": {},
   "source": [
    "That said, uniqueness is not a strict requirement."
   ]
  },
  {
   "cell_type": "code",
   "execution_count": null,
   "metadata": {},
   "outputs": [],
   "source": [
    "import numpy as np\n",
    "df=pd.DataFrame(np.random.normal(10, 5, (10,3)),\n",
    "             columns=['x', 'y','z'])\n",
    "df['myindex']=['a','b','c','d','e','f','g','h','a','j']\n",
    "try:\n",
    "    df.set_index('myindex',inplace=True,verify_integrity=False)\n",
    "except ValueError:\n",
    "    print(\"integrity check failed\")\n",
    "df"
   ]
  },
  {
   "cell_type": "markdown",
   "metadata": {},
   "source": [
    "We can revert back to the default index (0,1,...) using the reset_index method.\n",
    "\n",
    "When we do this, the old index is retained as a column."
   ]
  },
  {
   "cell_type": "code",
   "execution_count": 24,
   "metadata": {},
   "outputs": [
    {
     "name": "stdout",
     "output_type": "stream",
     "text": [
      "           x          y          z\n",
      "a   4.506940   4.525327  10.422189\n",
      "b  11.528840  10.823148  10.528653\n",
      "c   9.577567  12.770474  17.631923\n",
      "d  10.488932   8.242022  12.627924\n",
      "e  15.207455  14.795386  10.201545\n",
      "f   9.107228  13.618833  13.331245\n",
      "g   5.130633  15.323087  12.014781\n",
      "h  13.083845  10.559684  13.130431\n",
      "i  14.108936   6.747988   3.444035\n",
      "j  15.334993   6.093962  13.564625\n",
      "Index(['x', 'y', 'z'], dtype='object')\n",
      "  index          x          y          z\n",
      "0     a   4.506940   4.525327  10.422189\n",
      "1     b  11.528840  10.823148  10.528653\n",
      "2     c   9.577567  12.770474  17.631923\n",
      "3     d  10.488932   8.242022  12.627924\n",
      "4     e  15.207455  14.795386  10.201545\n",
      "5     f   9.107228  13.618833  13.331245\n",
      "6     g   5.130633  15.323087  12.014781\n",
      "7     h  13.083845  10.559684  13.130431\n",
      "8     i  14.108936   6.747988   3.444035\n",
      "9     j  15.334993   6.093962  13.564625\n",
      "Index(['index', 'x', 'y', 'z'], dtype='object')\n"
     ]
    }
   ],
   "source": [
    "import numpy as np\n",
    "import pandas as pd\n",
    "df=pd.DataFrame(np.random.normal(10, 5, (10,3)),\n",
    "             columns=['x', 'y','z'],\n",
    "               index=['a','b','c','d','e','f','g','h','i','j'])\n",
    "print(df)\n",
    "print(df.columns)\n",
    "\n",
    "df.reset_index(inplace=True)\n",
    "print(df)\n",
    "print(df.columns)"
   ]
  },
  {
   "cell_type": "markdown",
   "metadata": {},
   "source": [
    "We can _reindex_ a data frame by supplying a list of values.\n",
    "\n",
    "In the following example, we sort the index and use that as the new index.\n",
    "\n",
    "Key point: this does not change which index value is associated with which row of values in the data frame."
   ]
  },
  {
   "cell_type": "code",
   "execution_count": 25,
   "metadata": {},
   "outputs": [
    {
     "name": "stdout",
     "output_type": "stream",
     "text": [
      "           x          y          z\n",
      "g  12.966630   9.584956   8.886095\n",
      "c   0.876345  17.419395  13.696239\n",
      "h   4.336917   3.103108   8.429176\n",
      "b  16.875621   9.445366   8.456519\n",
      "a  14.987151   3.336191  12.939643\n",
      "e   8.487375   7.699992   7.386159\n",
      "f  14.382734  11.174197  13.342960\n",
      "i  15.845151   6.956576   9.865940\n",
      "d  23.127316   8.071907   4.004636\n",
      "j   8.734888  11.078268   4.892849\n",
      "['g', 'c', 'h', 'b', 'a', 'e', 'f', 'i', 'd', 'j']\n",
      "['a', 'b', 'c', 'd', 'e', 'f', 'g', 'h', 'i', 'j']\n",
      "           x          y          z\n",
      "a  14.987151   3.336191  12.939643\n",
      "b  16.875621   9.445366   8.456519\n",
      "c   0.876345  17.419395  13.696239\n",
      "d  23.127316   8.071907   4.004636\n",
      "e   8.487375   7.699992   7.386159\n",
      "f  14.382734  11.174197  13.342960\n",
      "g  12.966630   9.584956   8.886095\n",
      "h   4.336917   3.103108   8.429176\n",
      "i  15.845151   6.956576   9.865940\n",
      "j   8.734888  11.078268   4.892849\n"
     ]
    }
   ],
   "source": [
    "import numpy as np\n",
    "import pandas as pd\n",
    "df=pd.DataFrame(np.random.normal(10, 5, (10,3)),\n",
    "             columns=['x', 'y','z'],\n",
    "             index=['g','c','h','b','a','e','f','i','d','j'])\n",
    "print(df)\n",
    "L=list(df.index) # list of index values\n",
    "print(L)\n",
    "print(sorted(L))\n",
    "df=df.reindex(sorted(L))\n",
    "print(df)"
   ]
  },
  {
   "cell_type": "markdown",
   "metadata": {},
   "source": [
    "The indices do not have to all be included."
   ]
  },
  {
   "cell_type": "code",
   "execution_count": null,
   "metadata": {},
   "outputs": [],
   "source": [
    "import numpy as np\n",
    "df=pd.DataFrame(np.random.normal(10, 5, (10,3)),\n",
    "             columns=['x', 'y','z'],\n",
    "             index=['g','c','h','b','a','e','f','i','d','j'])\n",
    "print(df)\n",
    "L=['g','a','e']\n",
    "print(L)\n",
    "df=df.reindex(L)\n",
    "print(df)"
   ]
  },
  {
   "cell_type": "markdown",
   "metadata": {},
   "source": [
    "Repeats are allowed."
   ]
  },
  {
   "cell_type": "code",
   "execution_count": null,
   "metadata": {},
   "outputs": [],
   "source": [
    "import numpy as np\n",
    "df=pd.DataFrame(np.random.normal(10, 5, (10,3)),\n",
    "             columns=['x', 'y','z'],\n",
    "             index=['g','c','h','b','a','e','f','i','d','j'])\n",
    "print(df)\n",
    "L=['a','g','a','g','b','b']\n",
    "print(L)\n",
    "df=df.reindex(L)\n",
    "print(df)"
   ]
  },
  {
   "cell_type": "code",
   "execution_count": null,
   "metadata": {},
   "outputs": [],
   "source": [
    "df.reindex(['a','g'])"
   ]
  },
  {
   "cell_type": "markdown",
   "metadata": {},
   "source": [
    "When an new index value is used, missing values are filled in."
   ]
  },
  {
   "cell_type": "code",
   "execution_count": null,
   "metadata": {},
   "outputs": [],
   "source": [
    "import numpy as np\n",
    "df=pd.DataFrame(np.random.normal(10, 5, (10,3)),\n",
    "             columns=['x', 'y','z'],\n",
    "             index=['a','c','d','f','g','e','b','j','h','i'])\n",
    "print(df)\n",
    "df=df.reindex(['f','g','t','s','c'])\n",
    "print(df)"
   ]
  },
  {
   "cell_type": "markdown",
   "metadata": {},
   "source": [
    "the __head()__ and __tail()__ methods are useful for inspecting a small portion of a data frame."
   ]
  },
  {
   "cell_type": "code",
   "execution_count": 26,
   "metadata": {},
   "outputs": [
    {
     "data": {
      "text/html": [
       "<div>\n",
       "<style scoped>\n",
       "    .dataframe tbody tr th:only-of-type {\n",
       "        vertical-align: middle;\n",
       "    }\n",
       "\n",
       "    .dataframe tbody tr th {\n",
       "        vertical-align: top;\n",
       "    }\n",
       "\n",
       "    .dataframe thead th {\n",
       "        text-align: right;\n",
       "    }\n",
       "</style>\n",
       "<table border=\"1\" class=\"dataframe\">\n",
       "  <thead>\n",
       "    <tr style=\"text-align: right;\">\n",
       "      <th></th>\n",
       "      <th>x</th>\n",
       "      <th>y</th>\n",
       "      <th>z</th>\n",
       "    </tr>\n",
       "  </thead>\n",
       "  <tbody>\n",
       "    <tr>\n",
       "      <th>a</th>\n",
       "      <td>14.987151</td>\n",
       "      <td>3.336191</td>\n",
       "      <td>12.939643</td>\n",
       "    </tr>\n",
       "    <tr>\n",
       "      <th>b</th>\n",
       "      <td>16.875621</td>\n",
       "      <td>9.445366</td>\n",
       "      <td>8.456519</td>\n",
       "    </tr>\n",
       "    <tr>\n",
       "      <th>c</th>\n",
       "      <td>0.876345</td>\n",
       "      <td>17.419395</td>\n",
       "      <td>13.696239</td>\n",
       "    </tr>\n",
       "  </tbody>\n",
       "</table>\n",
       "</div>"
      ],
      "text/plain": [
       "           x          y          z\n",
       "a  14.987151   3.336191  12.939643\n",
       "b  16.875621   9.445366   8.456519\n",
       "c   0.876345  17.419395  13.696239"
      ]
     },
     "execution_count": 26,
     "metadata": {},
     "output_type": "execute_result"
    }
   ],
   "source": [
    "df.head(3)"
   ]
  },
  {
   "cell_type": "code",
   "execution_count": null,
   "metadata": {},
   "outputs": [],
   "source": [
    "df.head(2)"
   ]
  },
  {
   "cell_type": "code",
   "execution_count": 27,
   "metadata": {},
   "outputs": [
    {
     "data": {
      "text/html": [
       "<div>\n",
       "<style scoped>\n",
       "    .dataframe tbody tr th:only-of-type {\n",
       "        vertical-align: middle;\n",
       "    }\n",
       "\n",
       "    .dataframe tbody tr th {\n",
       "        vertical-align: top;\n",
       "    }\n",
       "\n",
       "    .dataframe thead th {\n",
       "        text-align: right;\n",
       "    }\n",
       "</style>\n",
       "<table border=\"1\" class=\"dataframe\">\n",
       "  <thead>\n",
       "    <tr style=\"text-align: right;\">\n",
       "      <th></th>\n",
       "      <th>x</th>\n",
       "      <th>y</th>\n",
       "      <th>z</th>\n",
       "    </tr>\n",
       "  </thead>\n",
       "  <tbody>\n",
       "    <tr>\n",
       "      <th>h</th>\n",
       "      <td>4.336917</td>\n",
       "      <td>3.103108</td>\n",
       "      <td>8.429176</td>\n",
       "    </tr>\n",
       "    <tr>\n",
       "      <th>i</th>\n",
       "      <td>15.845151</td>\n",
       "      <td>6.956576</td>\n",
       "      <td>9.865940</td>\n",
       "    </tr>\n",
       "    <tr>\n",
       "      <th>j</th>\n",
       "      <td>8.734888</td>\n",
       "      <td>11.078268</td>\n",
       "      <td>4.892849</td>\n",
       "    </tr>\n",
       "  </tbody>\n",
       "</table>\n",
       "</div>"
      ],
      "text/plain": [
       "           x          y         z\n",
       "h   4.336917   3.103108  8.429176\n",
       "i  15.845151   6.956576  9.865940\n",
       "j   8.734888  11.078268  4.892849"
      ]
     },
     "execution_count": 27,
     "metadata": {},
     "output_type": "execute_result"
    }
   ],
   "source": [
    "df.tail(3)"
   ]
  },
  {
   "cell_type": "code",
   "execution_count": 28,
   "metadata": {},
   "outputs": [
    {
     "data": {
      "text/html": [
       "<div>\n",
       "<style scoped>\n",
       "    .dataframe tbody tr th:only-of-type {\n",
       "        vertical-align: middle;\n",
       "    }\n",
       "\n",
       "    .dataframe tbody tr th {\n",
       "        vertical-align: top;\n",
       "    }\n",
       "\n",
       "    .dataframe thead th {\n",
       "        text-align: right;\n",
       "    }\n",
       "</style>\n",
       "<table border=\"1\" class=\"dataframe\">\n",
       "  <thead>\n",
       "    <tr style=\"text-align: right;\">\n",
       "      <th></th>\n",
       "      <th>x</th>\n",
       "      <th>y</th>\n",
       "      <th>z</th>\n",
       "    </tr>\n",
       "  </thead>\n",
       "  <tbody>\n",
       "    <tr>\n",
       "      <th>f</th>\n",
       "      <td>14.382734</td>\n",
       "      <td>11.174197</td>\n",
       "      <td>13.342960</td>\n",
       "    </tr>\n",
       "    <tr>\n",
       "      <th>g</th>\n",
       "      <td>12.966630</td>\n",
       "      <td>9.584956</td>\n",
       "      <td>8.886095</td>\n",
       "    </tr>\n",
       "    <tr>\n",
       "      <th>h</th>\n",
       "      <td>4.336917</td>\n",
       "      <td>3.103108</td>\n",
       "      <td>8.429176</td>\n",
       "    </tr>\n",
       "    <tr>\n",
       "      <th>i</th>\n",
       "      <td>15.845151</td>\n",
       "      <td>6.956576</td>\n",
       "      <td>9.865940</td>\n",
       "    </tr>\n",
       "    <tr>\n",
       "      <th>j</th>\n",
       "      <td>8.734888</td>\n",
       "      <td>11.078268</td>\n",
       "      <td>4.892849</td>\n",
       "    </tr>\n",
       "  </tbody>\n",
       "</table>\n",
       "</div>"
      ],
      "text/plain": [
       "           x          y          z\n",
       "f  14.382734  11.174197  13.342960\n",
       "g  12.966630   9.584956   8.886095\n",
       "h   4.336917   3.103108   8.429176\n",
       "i  15.845151   6.956576   9.865940\n",
       "j   8.734888  11.078268   4.892849"
      ]
     },
     "execution_count": 28,
     "metadata": {},
     "output_type": "execute_result"
    }
   ],
   "source": [
    "df.tail()"
   ]
  },
  {
   "cell_type": "code",
   "execution_count": null,
   "metadata": {},
   "outputs": [],
   "source": []
  }
 ],
 "metadata": {
  "kernelspec": {
   "display_name": "Python 3 (ipykernel)",
   "language": "python",
   "name": "python3"
  },
  "language_info": {
   "codemirror_mode": {
    "name": "ipython",
    "version": 3
   },
   "file_extension": ".py",
   "mimetype": "text/x-python",
   "name": "python",
   "nbconvert_exporter": "python",
   "pygments_lexer": "ipython3",
   "version": "3.9.12"
  }
 },
 "nbformat": 4,
 "nbformat_minor": 4
}
