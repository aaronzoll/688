{
 "cells": [
  {
   "cell_type": "markdown",
   "metadata": {},
   "source": [
    "**Pandas Data Frames**\n",
    "\n",
    "A pandas data frame is a 2-dimensional array in which the columns have common indices. We usually use such an object when we have a collection of observations/items and a fixed collection of variables/attributes that describe each of the observations.\n",
    "\n",
    "Consider a convenience store and data for each possible transaction. A transaction has a transaction ID, a customer ID, the amount of money associated with the sale, the amount of tax associated with the sale, and a date time stamp.\n",
    "\n",
    "The data can be stored as 3 separate dictionaries with the transcation ID as the key. A key point here is that the key is common to all of the variables."
   ]
  },
  {
   "cell_type": "code",
   "execution_count": 5,
   "metadata": {},
   "outputs": [],
   "source": [
    "import mylib as my\n",
    "import os\n",
    "os.chdir(my.onedrive+\"//CurrentCourses//553.688.Spring.2023//Lectures//\")\"April//Lecture19//\")"
   ]
  },
  {
   "cell_type": "code",
   "execution_count": 1,
   "metadata": {},
   "outputs": [],
   "source": [
    "customer={'T12341':\"George\",'T12342':\"Thomas\",'T12343':\"Josephine\",'T12344':\"Steve\",'T12345':\"James\"}\n",
    "amount={'T12341':12.75,'T12342':10.89,'T12343':4.67,'T12344':11.21,'T12345':4.00}\n",
    "tax={'T12341':.64,'T12342':.55,'T12343':.24,'T12344':.46,'T12345':.15}\n",
    "newcol={'T12341':[.64,.35],'T12342':55,'T12343':.24,'T12344':\"dwjdkw\",'T12345':{\"g\":.15,\"h\":20}}\n",
    "datetime={'T12341':'12:23:2018:12:38','T12342':'12:23:2018:12:45','T12343':'12:23:2018:12:45','T12344':'12:23:2018:12:47','T12345':'12:23:2018:12:49'}"
   ]
  },
  {
   "cell_type": "code",
   "execution_count": 1,
   "metadata": {},
   "outputs": [
    {
     "ename": "NameError",
     "evalue": "name 'customer' is not defined",
     "output_type": "error",
     "traceback": [
      "\u001b[1;31m---------------------------------------------------------------------------\u001b[0m",
      "\u001b[1;31mNameError\u001b[0m                                 Traceback (most recent call last)",
      "Cell \u001b[1;32mIn[1], line 2\u001b[0m\n\u001b[0;32m      1\u001b[0m \u001b[38;5;28;01mimport\u001b[39;00m \u001b[38;5;21;01mpandas\u001b[39;00m \u001b[38;5;28;01mas\u001b[39;00m \u001b[38;5;21;01mpd\u001b[39;00m\n\u001b[1;32m----> 2\u001b[0m df\u001b[38;5;241m=\u001b[39mpd\u001b[38;5;241m.\u001b[39mDataFrame({\u001b[38;5;124m'\u001b[39m\u001b[38;5;124mcustomer\u001b[39m\u001b[38;5;124m'\u001b[39m:\u001b[43mcustomer\u001b[49m,\u001b[38;5;124m'\u001b[39m\u001b[38;5;124mamount\u001b[39m\u001b[38;5;124m'\u001b[39m:amount,\u001b[38;5;124m'\u001b[39m\u001b[38;5;124mtax\u001b[39m\u001b[38;5;124m'\u001b[39m:tax, \u001b[38;5;124m'\u001b[39m\u001b[38;5;124mdatetime\u001b[39m\u001b[38;5;124m'\u001b[39m:datetime}) \u001b[38;5;66;03m# \"newcol\":newcol})\u001b[39;00m\n\u001b[0;32m      3\u001b[0m df\n",
      "\u001b[1;31mNameError\u001b[0m: name 'customer' is not defined"
     ]
    }
   ],
   "source": [
    "import pandas as pd\n",
    "df=pd.DataFrame({'customer':customer,'amount':amount,'tax':tax, 'datetime':datetime}) # \"newcol\":newcol})\n"
   ]
  },
  {
   "cell_type": "code",
   "execution_count": null,
   "metadata": {},
   "outputs": [],
   "source": [
    "## We can write a data frame out to a comma delimited file"
   ]
  },
  {
   "cell_type": "code",
   "execution_count": 8,
   "metadata": {},
   "outputs": [],
   "source": [
    "df.to_csv(\"customer_data1.csv\")"
   ]
  },
  {
   "cell_type": "code",
   "execution_count": null,
   "metadata": {},
   "outputs": [],
   "source": [
    "## By default, the index is included."
   ]
  },
  {
   "cell_type": "code",
   "execution_count": 4,
   "metadata": {},
   "outputs": [],
   "source": [
    "df.to_csv(\"customer_data.csv\",index=False)"
   ]
  },
  {
   "cell_type": "markdown",
   "metadata": {},
   "source": [
    "**csv files**\n",
    "\n",
    "We can read a comma delimited file to create a data frame."
   ]
  },
  {
   "cell_type": "code",
   "execution_count": 11,
   "metadata": {},
   "outputs": [
    {
     "data": {
      "text/html": [
       "<div>\n",
       "<style scoped>\n",
       "    .dataframe tbody tr th:only-of-type {\n",
       "        vertical-align: middle;\n",
       "    }\n",
       "\n",
       "    .dataframe tbody tr th {\n",
       "        vertical-align: top;\n",
       "    }\n",
       "\n",
       "    .dataframe thead th {\n",
       "        text-align: right;\n",
       "    }\n",
       "</style>\n",
       "<table border=\"1\" class=\"dataframe\">\n",
       "  <thead>\n",
       "    <tr style=\"text-align: right;\">\n",
       "      <th></th>\n",
       "      <th>Unnamed: 0.1</th>\n",
       "      <th>Unnamed: 0</th>\n",
       "      <th>customer</th>\n",
       "      <th>amount</th>\n",
       "      <th>tax</th>\n",
       "      <th>datetime</th>\n",
       "    </tr>\n",
       "  </thead>\n",
       "  <tbody>\n",
       "    <tr>\n",
       "      <th>0</th>\n",
       "      <td>0</td>\n",
       "      <td>0</td>\n",
       "      <td>George</td>\n",
       "      <td>12.75</td>\n",
       "      <td>0.64</td>\n",
       "      <td>12:23:2018:12:38</td>\n",
       "    </tr>\n",
       "    <tr>\n",
       "      <th>1</th>\n",
       "      <td>1</td>\n",
       "      <td>1</td>\n",
       "      <td>Thomas</td>\n",
       "      <td>10.89</td>\n",
       "      <td>0.55</td>\n",
       "      <td>12:23:2018:12:45</td>\n",
       "    </tr>\n",
       "    <tr>\n",
       "      <th>2</th>\n",
       "      <td>2</td>\n",
       "      <td>2</td>\n",
       "      <td>Josephine</td>\n",
       "      <td>4.67</td>\n",
       "      <td>0.24</td>\n",
       "      <td>12:23:2018:12:45</td>\n",
       "    </tr>\n",
       "    <tr>\n",
       "      <th>3</th>\n",
       "      <td>3</td>\n",
       "      <td>3</td>\n",
       "      <td>Steve</td>\n",
       "      <td>11.21</td>\n",
       "      <td>0.46</td>\n",
       "      <td>12:23:2018:12:47</td>\n",
       "    </tr>\n",
       "    <tr>\n",
       "      <th>4</th>\n",
       "      <td>4</td>\n",
       "      <td>4</td>\n",
       "      <td>James</td>\n",
       "      <td>4.00</td>\n",
       "      <td>0.15</td>\n",
       "      <td>12:23:2018:12:49</td>\n",
       "    </tr>\n",
       "  </tbody>\n",
       "</table>\n",
       "</div>"
      ],
      "text/plain": [
       "   Unnamed: 0.1  Unnamed: 0   customer  amount   tax          datetime\n",
       "0             0           0     George   12.75  0.64  12:23:2018:12:38\n",
       "1             1           1     Thomas   10.89  0.55  12:23:2018:12:45\n",
       "2             2           2  Josephine    4.67  0.24  12:23:2018:12:45\n",
       "3             3           3      Steve   11.21  0.46  12:23:2018:12:47\n",
       "4             4           4      James    4.00  0.15  12:23:2018:12:49"
      ]
     },
     "execution_count": 11,
     "metadata": {},
     "output_type": "execute_result"
    }
   ],
   "source": [
    "df=pd.read_csv(\"customer_data1.csv\")\n",
    "df.head()"
   ]
  },
  {
   "cell_type": "markdown",
   "metadata": {},
   "source": [
    "We can also include an index and specify which column becomes the index."
   ]
  },
  {
   "cell_type": "code",
   "execution_count": 14,
   "metadata": {},
   "outputs": [
    {
     "data": {
      "text/html": [
       "<div>\n",
       "<style scoped>\n",
       "    .dataframe tbody tr th:only-of-type {\n",
       "        vertical-align: middle;\n",
       "    }\n",
       "\n",
       "    .dataframe tbody tr th {\n",
       "        vertical-align: top;\n",
       "    }\n",
       "\n",
       "    .dataframe thead th {\n",
       "        text-align: right;\n",
       "    }\n",
       "</style>\n",
       "<table border=\"1\" class=\"dataframe\">\n",
       "  <thead>\n",
       "    <tr style=\"text-align: right;\">\n",
       "      <th></th>\n",
       "      <th>customer</th>\n",
       "      <th>amount</th>\n",
       "      <th>tax</th>\n",
       "      <th>datetime</th>\n",
       "    </tr>\n",
       "  </thead>\n",
       "  <tbody>\n",
       "    <tr>\n",
       "      <th>0</th>\n",
       "      <td>George</td>\n",
       "      <td>12.75</td>\n",
       "      <td>0.64</td>\n",
       "      <td>12:23:2018:12:38</td>\n",
       "    </tr>\n",
       "    <tr>\n",
       "      <th>1</th>\n",
       "      <td>Thomas</td>\n",
       "      <td>10.89</td>\n",
       "      <td>0.55</td>\n",
       "      <td>12:23:2018:12:45</td>\n",
       "    </tr>\n",
       "    <tr>\n",
       "      <th>2</th>\n",
       "      <td>Josephine</td>\n",
       "      <td>4.67</td>\n",
       "      <td>0.24</td>\n",
       "      <td>12:23:2018:12:45</td>\n",
       "    </tr>\n",
       "    <tr>\n",
       "      <th>3</th>\n",
       "      <td>Steve</td>\n",
       "      <td>11.21</td>\n",
       "      <td>0.46</td>\n",
       "      <td>12:23:2018:12:47</td>\n",
       "    </tr>\n",
       "    <tr>\n",
       "      <th>4</th>\n",
       "      <td>James</td>\n",
       "      <td>4.00</td>\n",
       "      <td>0.15</td>\n",
       "      <td>12:23:2018:12:49</td>\n",
       "    </tr>\n",
       "  </tbody>\n",
       "</table>\n",
       "</div>"
      ],
      "text/plain": [
       "    customer  amount   tax          datetime\n",
       "0     George   12.75  0.64  12:23:2018:12:38\n",
       "1     Thomas   10.89  0.55  12:23:2018:12:45\n",
       "2  Josephine    4.67  0.24  12:23:2018:12:45\n",
       "3      Steve   11.21  0.46  12:23:2018:12:47\n",
       "4      James    4.00  0.15  12:23:2018:12:49"
      ]
     },
     "execution_count": 14,
     "metadata": {},
     "output_type": "execute_result"
    }
   ],
   "source": [
    "df=pd.read_csv(\"customer_data.csv\",index_col=0)\n",
    "df.head()"
   ]
  },
  {
   "cell_type": "markdown",
   "metadata": {},
   "source": [
    "The _shape_ attribute tells us the number of rows and columns"
   ]
  },
  {
   "cell_type": "code",
   "execution_count": 6,
   "metadata": {},
   "outputs": [
    {
     "data": {
      "text/plain": [
       "(5, 4)"
      ]
     },
     "execution_count": 6,
     "metadata": {},
     "output_type": "execute_result"
    }
   ],
   "source": [
    "df.shape"
   ]
  },
  {
   "cell_type": "markdown",
   "metadata": {},
   "source": [
    "**Data types**\n",
    "\n",
    "The data types of the columns are stored in the dtypes attribute as a pandas series."
   ]
  },
  {
   "cell_type": "code",
   "execution_count": 7,
   "metadata": {},
   "outputs": [
    {
     "data": {
      "text/plain": [
       "customer     object\n",
       "amount      float64\n",
       "tax         float64\n",
       "datetime     object\n",
       "dtype: object"
      ]
     },
     "execution_count": 7,
     "metadata": {},
     "output_type": "execute_result"
    }
   ],
   "source": [
    "df.dtypes"
   ]
  },
  {
   "cell_type": "markdown",
   "metadata": {},
   "source": [
    "The column names are stored in the _columns_ attribute. "
   ]
  },
  {
   "cell_type": "code",
   "execution_count": 8,
   "metadata": {},
   "outputs": [
    {
     "name": "stdout",
     "output_type": "stream",
     "text": [
      "Index(['customer', 'amount', 'tax', 'datetime'], dtype='object')\n"
     ]
    }
   ],
   "source": [
    "print(df.columns)"
   ]
  },
  {
   "cell_type": "code",
   "execution_count": 9,
   "metadata": {},
   "outputs": [
    {
     "data": {
      "text/plain": [
       "['customer', 'amount', 'tax', 'datetime']"
      ]
     },
     "execution_count": 9,
     "metadata": {},
     "output_type": "execute_result"
    }
   ],
   "source": [
    "list(df.columns)"
   ]
  },
  {
   "cell_type": "code",
   "execution_count": 15,
   "metadata": {},
   "outputs": [
    {
     "name": "stdout",
     "output_type": "stream",
     "text": [
      "<class 'pandas.core.indexes.base.Index'>\n"
     ]
    }
   ],
   "source": [
    "print(type(df.columns))"
   ]
  },
  {
   "cell_type": "code",
   "execution_count": 16,
   "metadata": {},
   "outputs": [
    {
     "name": "stdout",
     "output_type": "stream",
     "text": [
      "customer\n",
      "amount\n",
      "tax\n",
      "datetime\n",
      "0 customer\n",
      "1 amount\n",
      "2 tax\n",
      "3 datetime\n"
     ]
    }
   ],
   "source": [
    "for x in df.columns:\n",
    "    print(x)\n",
    "\n",
    "for i in range(df.columns.size):\n",
    "    print(str(i)+\" \"+df.columns[i])"
   ]
  },
  {
   "cell_type": "markdown",
   "metadata": {},
   "source": [
    "**index**\n",
    "\n",
    "The _index_ is stored in the index attribute. This is also an index object."
   ]
  },
  {
   "cell_type": "code",
   "execution_count": 17,
   "metadata": {},
   "outputs": [
    {
     "name": "stdout",
     "output_type": "stream",
     "text": [
      "Int64Index([0, 1, 2, 3, 4], dtype='int64')\n"
     ]
    }
   ],
   "source": [
    "print(df.index)"
   ]
  },
  {
   "cell_type": "markdown",
   "metadata": {},
   "source": [
    "We can get a column as a Series in two different ways: \n",
    "\n",
    "- using the dot\n",
    "- using square brackets with the variable name in quotes "
   ]
  },
  {
   "cell_type": "code",
   "execution_count": 19,
   "metadata": {},
   "outputs": [
    {
     "data": {
      "text/plain": [
       "0    0.64\n",
       "1    0.55\n",
       "2    0.24\n",
       "3    0.46\n",
       "4    0.15\n",
       "Name: tax, dtype: float64"
      ]
     },
     "execution_count": 19,
     "metadata": {},
     "output_type": "execute_result"
    }
   ],
   "source": [
    "df.tax"
   ]
  },
  {
   "cell_type": "code",
   "execution_count": 20,
   "metadata": {},
   "outputs": [
    {
     "data": {
      "text/plain": [
       "0    0.64\n",
       "1    0.55\n",
       "2    0.24\n",
       "3    0.46\n",
       "4    0.15\n",
       "Name: tax, dtype: float64"
      ]
     },
     "execution_count": 20,
     "metadata": {},
     "output_type": "execute_result"
    }
   ],
   "source": [
    "df[\"tax\"]"
   ]
  },
  {
   "cell_type": "markdown",
   "metadata": {},
   "source": [
    "We can create a data frame with a subset of the columns using a list."
   ]
  },
  {
   "cell_type": "code",
   "execution_count": 21,
   "metadata": {},
   "outputs": [
    {
     "data": {
      "text/html": [
       "<div>\n",
       "<style scoped>\n",
       "    .dataframe tbody tr th:only-of-type {\n",
       "        vertical-align: middle;\n",
       "    }\n",
       "\n",
       "    .dataframe tbody tr th {\n",
       "        vertical-align: top;\n",
       "    }\n",
       "\n",
       "    .dataframe thead th {\n",
       "        text-align: right;\n",
       "    }\n",
       "</style>\n",
       "<table border=\"1\" class=\"dataframe\">\n",
       "  <thead>\n",
       "    <tr style=\"text-align: right;\">\n",
       "      <th></th>\n",
       "      <th>customer</th>\n",
       "      <th>tax</th>\n",
       "    </tr>\n",
       "  </thead>\n",
       "  <tbody>\n",
       "    <tr>\n",
       "      <th>0</th>\n",
       "      <td>George</td>\n",
       "      <td>0.64</td>\n",
       "    </tr>\n",
       "    <tr>\n",
       "      <th>1</th>\n",
       "      <td>Thomas</td>\n",
       "      <td>0.55</td>\n",
       "    </tr>\n",
       "    <tr>\n",
       "      <th>2</th>\n",
       "      <td>Josephine</td>\n",
       "      <td>0.24</td>\n",
       "    </tr>\n",
       "    <tr>\n",
       "      <th>3</th>\n",
       "      <td>Steve</td>\n",
       "      <td>0.46</td>\n",
       "    </tr>\n",
       "    <tr>\n",
       "      <th>4</th>\n",
       "      <td>James</td>\n",
       "      <td>0.15</td>\n",
       "    </tr>\n",
       "  </tbody>\n",
       "</table>\n",
       "</div>"
      ],
      "text/plain": [
       "    customer   tax\n",
       "0     George  0.64\n",
       "1     Thomas  0.55\n",
       "2  Josephine  0.24\n",
       "3      Steve  0.46\n",
       "4      James  0.15"
      ]
     },
     "execution_count": 21,
     "metadata": {},
     "output_type": "execute_result"
    }
   ],
   "source": [
    "df[[\"customer\",\"tax\"]]"
   ]
  },
  {
   "cell_type": "markdown",
   "metadata": {},
   "source": [
    "We can also construct a data frame from a 2-dimensional numpy array. \n",
    "\n",
    "Here we create a data frame from a 10 x 3 array of standard normal random variables. \n",
    "\n",
    "When we use this method, by default the index is 0,1,...n-1 where n is the number of rows in the input 2-d array."
   ]
  },
  {
   "cell_type": "code",
   "execution_count": 22,
   "metadata": {},
   "outputs": [
    {
     "name": "stdout",
     "output_type": "stream",
     "text": [
      "[[15.09481419 15.19778296 19.20241842]\n",
      " [11.80482733  7.1450584  10.54425626]\n",
      " [ 6.94408169 13.34108913 14.50133706]\n",
      " [ 3.857651   -0.30387235  6.6539544 ]\n",
      " [15.98459961  2.96199297  7.61264132]\n",
      " [ 8.23020481 18.32837188  9.03854737]\n",
      " [13.0816169  11.45995519  2.44372734]\n",
      " [ 7.40069477 10.05798098 12.81122923]\n",
      " [15.1216967  10.4157701   8.10647268]\n",
      " [15.41987083  5.4643112   3.9193966 ]]\n"
     ]
    },
    {
     "data": {
      "text/html": [
       "<div>\n",
       "<style scoped>\n",
       "    .dataframe tbody tr th:only-of-type {\n",
       "        vertical-align: middle;\n",
       "    }\n",
       "\n",
       "    .dataframe tbody tr th {\n",
       "        vertical-align: top;\n",
       "    }\n",
       "\n",
       "    .dataframe thead th {\n",
       "        text-align: right;\n",
       "    }\n",
       "</style>\n",
       "<table border=\"1\" class=\"dataframe\">\n",
       "  <thead>\n",
       "    <tr style=\"text-align: right;\">\n",
       "      <th></th>\n",
       "      <th>x</th>\n",
       "      <th>y</th>\n",
       "      <th>z</th>\n",
       "    </tr>\n",
       "  </thead>\n",
       "  <tbody>\n",
       "    <tr>\n",
       "      <th>0</th>\n",
       "      <td>15.094814</td>\n",
       "      <td>15.197783</td>\n",
       "      <td>19.202418</td>\n",
       "    </tr>\n",
       "    <tr>\n",
       "      <th>1</th>\n",
       "      <td>11.804827</td>\n",
       "      <td>7.145058</td>\n",
       "      <td>10.544256</td>\n",
       "    </tr>\n",
       "    <tr>\n",
       "      <th>2</th>\n",
       "      <td>6.944082</td>\n",
       "      <td>13.341089</td>\n",
       "      <td>14.501337</td>\n",
       "    </tr>\n",
       "    <tr>\n",
       "      <th>3</th>\n",
       "      <td>3.857651</td>\n",
       "      <td>-0.303872</td>\n",
       "      <td>6.653954</td>\n",
       "    </tr>\n",
       "    <tr>\n",
       "      <th>4</th>\n",
       "      <td>15.984600</td>\n",
       "      <td>2.961993</td>\n",
       "      <td>7.612641</td>\n",
       "    </tr>\n",
       "    <tr>\n",
       "      <th>5</th>\n",
       "      <td>8.230205</td>\n",
       "      <td>18.328372</td>\n",
       "      <td>9.038547</td>\n",
       "    </tr>\n",
       "    <tr>\n",
       "      <th>6</th>\n",
       "      <td>13.081617</td>\n",
       "      <td>11.459955</td>\n",
       "      <td>2.443727</td>\n",
       "    </tr>\n",
       "    <tr>\n",
       "      <th>7</th>\n",
       "      <td>7.400695</td>\n",
       "      <td>10.057981</td>\n",
       "      <td>12.811229</td>\n",
       "    </tr>\n",
       "    <tr>\n",
       "      <th>8</th>\n",
       "      <td>15.121697</td>\n",
       "      <td>10.415770</td>\n",
       "      <td>8.106473</td>\n",
       "    </tr>\n",
       "    <tr>\n",
       "      <th>9</th>\n",
       "      <td>15.419871</td>\n",
       "      <td>5.464311</td>\n",
       "      <td>3.919397</td>\n",
       "    </tr>\n",
       "  </tbody>\n",
       "</table>\n",
       "</div>"
      ],
      "text/plain": [
       "           x          y          z\n",
       "0  15.094814  15.197783  19.202418\n",
       "1  11.804827   7.145058  10.544256\n",
       "2   6.944082  13.341089  14.501337\n",
       "3   3.857651  -0.303872   6.653954\n",
       "4  15.984600   2.961993   7.612641\n",
       "5   8.230205  18.328372   9.038547\n",
       "6  13.081617  11.459955   2.443727\n",
       "7   7.400695  10.057981  12.811229\n",
       "8  15.121697  10.415770   8.106473\n",
       "9  15.419871   5.464311   3.919397"
      ]
     },
     "execution_count": 22,
     "metadata": {},
     "output_type": "execute_result"
    }
   ],
   "source": [
    "import numpy as np\n",
    "import pandas as pd\n",
    "M=np.random.normal(10, 5, (10,3))\n",
    "print(M)\n",
    "df=pd.DataFrame(M, columns=['x', 'y','z'])\n",
    "df"
   ]
  },
  {
   "cell_type": "markdown",
   "metadata": {},
   "source": [
    "We can also specify the index in the constructor."
   ]
  },
  {
   "cell_type": "code",
   "execution_count": 23,
   "metadata": {},
   "outputs": [
    {
     "data": {
      "text/html": [
       "<div>\n",
       "<style scoped>\n",
       "    .dataframe tbody tr th:only-of-type {\n",
       "        vertical-align: middle;\n",
       "    }\n",
       "\n",
       "    .dataframe tbody tr th {\n",
       "        vertical-align: top;\n",
       "    }\n",
       "\n",
       "    .dataframe thead th {\n",
       "        text-align: right;\n",
       "    }\n",
       "</style>\n",
       "<table border=\"1\" class=\"dataframe\">\n",
       "  <thead>\n",
       "    <tr style=\"text-align: right;\">\n",
       "      <th></th>\n",
       "      <th>x</th>\n",
       "      <th>y</th>\n",
       "      <th>z</th>\n",
       "    </tr>\n",
       "  </thead>\n",
       "  <tbody>\n",
       "    <tr>\n",
       "      <th>a</th>\n",
       "      <td>4.283439</td>\n",
       "      <td>10.669548</td>\n",
       "      <td>12.965480</td>\n",
       "    </tr>\n",
       "    <tr>\n",
       "      <th>b</th>\n",
       "      <td>3.923138</td>\n",
       "      <td>3.513190</td>\n",
       "      <td>8.202821</td>\n",
       "    </tr>\n",
       "    <tr>\n",
       "      <th>c</th>\n",
       "      <td>9.114227</td>\n",
       "      <td>12.751014</td>\n",
       "      <td>15.756973</td>\n",
       "    </tr>\n",
       "    <tr>\n",
       "      <th>d</th>\n",
       "      <td>9.813205</td>\n",
       "      <td>1.436731</td>\n",
       "      <td>7.391404</td>\n",
       "    </tr>\n",
       "    <tr>\n",
       "      <th>e</th>\n",
       "      <td>4.112175</td>\n",
       "      <td>10.008039</td>\n",
       "      <td>18.788865</td>\n",
       "    </tr>\n",
       "    <tr>\n",
       "      <th>f</th>\n",
       "      <td>4.112234</td>\n",
       "      <td>15.571798</td>\n",
       "      <td>7.936547</td>\n",
       "    </tr>\n",
       "    <tr>\n",
       "      <th>g</th>\n",
       "      <td>-0.529463</td>\n",
       "      <td>7.525474</td>\n",
       "      <td>15.729775</td>\n",
       "    </tr>\n",
       "    <tr>\n",
       "      <th>h</th>\n",
       "      <td>11.031221</td>\n",
       "      <td>15.594405</td>\n",
       "      <td>4.718158</td>\n",
       "    </tr>\n",
       "    <tr>\n",
       "      <th>i</th>\n",
       "      <td>5.693667</td>\n",
       "      <td>19.164322</td>\n",
       "      <td>9.544229</td>\n",
       "    </tr>\n",
       "    <tr>\n",
       "      <th>j</th>\n",
       "      <td>9.181733</td>\n",
       "      <td>8.882572</td>\n",
       "      <td>10.579311</td>\n",
       "    </tr>\n",
       "  </tbody>\n",
       "</table>\n",
       "</div>"
      ],
      "text/plain": [
       "           x          y          z\n",
       "a   4.283439  10.669548  12.965480\n",
       "b   3.923138   3.513190   8.202821\n",
       "c   9.114227  12.751014  15.756973\n",
       "d   9.813205   1.436731   7.391404\n",
       "e   4.112175  10.008039  18.788865\n",
       "f   4.112234  15.571798   7.936547\n",
       "g  -0.529463   7.525474  15.729775\n",
       "h  11.031221  15.594405   4.718158\n",
       "i   5.693667  19.164322   9.544229\n",
       "j   9.181733   8.882572  10.579311"
      ]
     },
     "execution_count": 23,
     "metadata": {},
     "output_type": "execute_result"
    }
   ],
   "source": [
    "import numpy as np\n",
    "import pandas as pd\n",
    "df=pd.DataFrame(np.random.normal(10, 5, (10,3)),\n",
    "             columns=['x', 'y','z'],\n",
    "               index=['a','b','c','d','e','f','g','h','i','j'])\n",
    "df"
   ]
  },
  {
   "cell_type": "markdown",
   "metadata": {},
   "source": [
    "**Assigning an index**\n",
    "\n",
    "We can assign an index to a data frame after it is constructed. This approach creates the new index _positionally_, that is, the order of assignment is according to the ordering of the rows."
   ]
  },
  {
   "cell_type": "code",
   "execution_count": 24,
   "metadata": {},
   "outputs": [
    {
     "name": "stdout",
     "output_type": "stream",
     "text": [
      "          x         y          z\n",
      "0  5.524908  5.809753  10.777820\n",
      "1  6.978091  2.355096   8.606505\n",
      "2  8.309716 -0.171347   6.023355\n",
      "3  4.267410  7.218644  -2.684022\n",
      "4  3.319786  8.115015  11.585352\n",
      "          x         y          z\n",
      "c  5.524908  5.809753  10.777820\n",
      "d  6.978091  2.355096   8.606505\n",
      "e  8.309716 -0.171347   6.023355\n",
      "f  4.267410  7.218644  -2.684022\n",
      "g  3.319786  8.115015  11.585352\n"
     ]
    }
   ],
   "source": [
    "import numpy as np\n",
    "import pandas as pd\n",
    "df=pd.DataFrame(np.random.normal(10, 5, (5,3)),\n",
    "             columns=['x', 'y','z'])\n",
    "#             index=['a','b','c','d','e'])\n",
    "print(df)\n",
    "df.index=['c','d','e','f','g']\n",
    "print(df)"
   ]
  },
  {
   "cell_type": "markdown",
   "metadata": {},
   "source": [
    "We can use an existing column to create a new index. We can do this \"inplace\" meaning that we modify the existing data frame, or we can create a new data frame object."
   ]
  },
  {
   "cell_type": "code",
   "execution_count": 17,
   "metadata": {},
   "outputs": [
    {
     "data": {
      "text/html": [
       "<div>\n",
       "<style scoped>\n",
       "    .dataframe tbody tr th:only-of-type {\n",
       "        vertical-align: middle;\n",
       "    }\n",
       "\n",
       "    .dataframe tbody tr th {\n",
       "        vertical-align: top;\n",
       "    }\n",
       "\n",
       "    .dataframe thead th {\n",
       "        text-align: right;\n",
       "    }\n",
       "</style>\n",
       "<table border=\"1\" class=\"dataframe\">\n",
       "  <thead>\n",
       "    <tr style=\"text-align: right;\">\n",
       "      <th></th>\n",
       "      <th>x</th>\n",
       "      <th>y</th>\n",
       "      <th>z</th>\n",
       "    </tr>\n",
       "  </thead>\n",
       "  <tbody>\n",
       "    <tr>\n",
       "      <th>0</th>\n",
       "      <td>13.328179</td>\n",
       "      <td>16.811139</td>\n",
       "      <td>8.102287</td>\n",
       "    </tr>\n",
       "    <tr>\n",
       "      <th>1</th>\n",
       "      <td>17.027778</td>\n",
       "      <td>3.473851</td>\n",
       "      <td>8.990559</td>\n",
       "    </tr>\n",
       "    <tr>\n",
       "      <th>2</th>\n",
       "      <td>14.218391</td>\n",
       "      <td>14.868016</td>\n",
       "      <td>9.480588</td>\n",
       "    </tr>\n",
       "    <tr>\n",
       "      <th>3</th>\n",
       "      <td>7.605404</td>\n",
       "      <td>15.559195</td>\n",
       "      <td>9.047861</td>\n",
       "    </tr>\n",
       "    <tr>\n",
       "      <th>4</th>\n",
       "      <td>13.908400</td>\n",
       "      <td>11.277981</td>\n",
       "      <td>9.985178</td>\n",
       "    </tr>\n",
       "    <tr>\n",
       "      <th>5</th>\n",
       "      <td>11.836899</td>\n",
       "      <td>23.910585</td>\n",
       "      <td>2.018541</td>\n",
       "    </tr>\n",
       "    <tr>\n",
       "      <th>6</th>\n",
       "      <td>6.824768</td>\n",
       "      <td>11.514617</td>\n",
       "      <td>7.454956</td>\n",
       "    </tr>\n",
       "    <tr>\n",
       "      <th>7</th>\n",
       "      <td>22.051282</td>\n",
       "      <td>3.879606</td>\n",
       "      <td>8.388539</td>\n",
       "    </tr>\n",
       "    <tr>\n",
       "      <th>8</th>\n",
       "      <td>16.645641</td>\n",
       "      <td>19.103593</td>\n",
       "      <td>13.613959</td>\n",
       "    </tr>\n",
       "    <tr>\n",
       "      <th>9</th>\n",
       "      <td>10.029491</td>\n",
       "      <td>12.015391</td>\n",
       "      <td>14.964004</td>\n",
       "    </tr>\n",
       "  </tbody>\n",
       "</table>\n",
       "</div>"
      ],
      "text/plain": [
       "           x          y          z\n",
       "0  13.328179  16.811139   8.102287\n",
       "1  17.027778   3.473851   8.990559\n",
       "2  14.218391  14.868016   9.480588\n",
       "3   7.605404  15.559195   9.047861\n",
       "4  13.908400  11.277981   9.985178\n",
       "5  11.836899  23.910585   2.018541\n",
       "6   6.824768  11.514617   7.454956\n",
       "7  22.051282   3.879606   8.388539\n",
       "8  16.645641  19.103593  13.613959\n",
       "9  10.029491  12.015391  14.964004"
      ]
     },
     "execution_count": 17,
     "metadata": {},
     "output_type": "execute_result"
    }
   ],
   "source": [
    "import numpy as np\n",
    "df=pd.DataFrame(np.random.normal(10, 5, (10,3)),\n",
    "            columns=['x', 'y','z'])\n",
    "df"
   ]
  },
  {
   "cell_type": "code",
   "execution_count": 25,
   "metadata": {},
   "outputs": [
    {
     "data": {
      "text/html": [
       "<div>\n",
       "<style scoped>\n",
       "    .dataframe tbody tr th:only-of-type {\n",
       "        vertical-align: middle;\n",
       "    }\n",
       "\n",
       "    .dataframe tbody tr th {\n",
       "        vertical-align: top;\n",
       "    }\n",
       "\n",
       "    .dataframe thead th {\n",
       "        text-align: right;\n",
       "    }\n",
       "</style>\n",
       "<table border=\"1\" class=\"dataframe\">\n",
       "  <thead>\n",
       "    <tr style=\"text-align: right;\">\n",
       "      <th></th>\n",
       "      <th>y</th>\n",
       "      <th>z</th>\n",
       "    </tr>\n",
       "    <tr>\n",
       "      <th>x</th>\n",
       "      <th></th>\n",
       "      <th></th>\n",
       "    </tr>\n",
       "  </thead>\n",
       "  <tbody>\n",
       "    <tr>\n",
       "      <th>9.250579</th>\n",
       "      <td>4.443227</td>\n",
       "      <td>5.347925</td>\n",
       "    </tr>\n",
       "    <tr>\n",
       "      <th>12.532742</th>\n",
       "      <td>9.839832</td>\n",
       "      <td>12.767862</td>\n",
       "    </tr>\n",
       "    <tr>\n",
       "      <th>9.876916</th>\n",
       "      <td>9.255887</td>\n",
       "      <td>10.878407</td>\n",
       "    </tr>\n",
       "    <tr>\n",
       "      <th>9.531469</th>\n",
       "      <td>12.708833</td>\n",
       "      <td>7.729255</td>\n",
       "    </tr>\n",
       "    <tr>\n",
       "      <th>16.348739</th>\n",
       "      <td>11.060060</td>\n",
       "      <td>9.466784</td>\n",
       "    </tr>\n",
       "    <tr>\n",
       "      <th>3.911216</th>\n",
       "      <td>12.647263</td>\n",
       "      <td>11.834287</td>\n",
       "    </tr>\n",
       "    <tr>\n",
       "      <th>17.643780</th>\n",
       "      <td>12.802094</td>\n",
       "      <td>8.529804</td>\n",
       "    </tr>\n",
       "    <tr>\n",
       "      <th>7.552932</th>\n",
       "      <td>7.669257</td>\n",
       "      <td>10.242501</td>\n",
       "    </tr>\n",
       "    <tr>\n",
       "      <th>6.110540</th>\n",
       "      <td>14.837826</td>\n",
       "      <td>13.144592</td>\n",
       "    </tr>\n",
       "    <tr>\n",
       "      <th>4.276908</th>\n",
       "      <td>7.865519</td>\n",
       "      <td>10.739532</td>\n",
       "    </tr>\n",
       "  </tbody>\n",
       "</table>\n",
       "</div>"
      ],
      "text/plain": [
       "                   y          z\n",
       "x                              \n",
       "9.250579    4.443227   5.347925\n",
       "12.532742   9.839832  12.767862\n",
       "9.876916    9.255887  10.878407\n",
       "9.531469   12.708833   7.729255\n",
       "16.348739  11.060060   9.466784\n",
       "3.911216   12.647263  11.834287\n",
       "17.643780  12.802094   8.529804\n",
       "7.552932    7.669257  10.242501\n",
       "6.110540   14.837826  13.144592\n",
       "4.276908    7.865519  10.739532"
      ]
     },
     "execution_count": 25,
     "metadata": {},
     "output_type": "execute_result"
    }
   ],
   "source": [
    "import numpy as np\n",
    "df=pd.DataFrame(np.random.normal(10, 5, (10,3)),\n",
    "             columns=['x', 'y','z'])\n",
    "df2=df.set_index('x')\n",
    "df2"
   ]
  },
  {
   "cell_type": "code",
   "execution_count": 36,
   "metadata": {},
   "outputs": [
    {
     "data": {
      "text/html": [
       "<div>\n",
       "<style scoped>\n",
       "    .dataframe tbody tr th:only-of-type {\n",
       "        vertical-align: middle;\n",
       "    }\n",
       "\n",
       "    .dataframe tbody tr th {\n",
       "        vertical-align: top;\n",
       "    }\n",
       "\n",
       "    .dataframe thead th {\n",
       "        text-align: right;\n",
       "    }\n",
       "</style>\n",
       "<table border=\"1\" class=\"dataframe\">\n",
       "  <thead>\n",
       "    <tr style=\"text-align: right;\">\n",
       "      <th></th>\n",
       "      <th>y</th>\n",
       "      <th>z</th>\n",
       "    </tr>\n",
       "    <tr>\n",
       "      <th>x</th>\n",
       "      <th></th>\n",
       "      <th></th>\n",
       "    </tr>\n",
       "  </thead>\n",
       "  <tbody>\n",
       "    <tr>\n",
       "      <th>18.820262</th>\n",
       "      <td>12.000786</td>\n",
       "      <td>14.893690</td>\n",
       "    </tr>\n",
       "    <tr>\n",
       "      <th>21.204466</th>\n",
       "      <td>19.337790</td>\n",
       "      <td>5.113611</td>\n",
       "    </tr>\n",
       "    <tr>\n",
       "      <th>14.750442</th>\n",
       "      <td>9.243214</td>\n",
       "      <td>9.483906</td>\n",
       "    </tr>\n",
       "    <tr>\n",
       "      <th>12.052993</th>\n",
       "      <td>10.720218</td>\n",
       "      <td>17.271368</td>\n",
       "    </tr>\n",
       "    <tr>\n",
       "      <th>13.805189</th>\n",
       "      <td>10.608375</td>\n",
       "      <td>12.219316</td>\n",
       "    </tr>\n",
       "    <tr>\n",
       "      <th>11.668372</th>\n",
       "      <td>17.470395</td>\n",
       "      <td>8.974209</td>\n",
       "    </tr>\n",
       "    <tr>\n",
       "      <th>11.565339</th>\n",
       "      <td>5.729521</td>\n",
       "      <td>-2.764949</td>\n",
       "    </tr>\n",
       "    <tr>\n",
       "      <th>13.268093</th>\n",
       "      <td>14.322181</td>\n",
       "      <td>6.289175</td>\n",
       "    </tr>\n",
       "    <tr>\n",
       "      <th>21.348773</th>\n",
       "      <td>2.728172</td>\n",
       "      <td>10.228793</td>\n",
       "    </tr>\n",
       "    <tr>\n",
       "      <th>9.064081</th>\n",
       "      <td>17.663896</td>\n",
       "      <td>17.346794</td>\n",
       "    </tr>\n",
       "  </tbody>\n",
       "</table>\n",
       "</div>"
      ],
      "text/plain": [
       "                   y          z\n",
       "x                              \n",
       "18.820262  12.000786  14.893690\n",
       "21.204466  19.337790   5.113611\n",
       "14.750442   9.243214   9.483906\n",
       "12.052993  10.720218  17.271368\n",
       "13.805189  10.608375  12.219316\n",
       "11.668372  17.470395   8.974209\n",
       "11.565339   5.729521  -2.764949\n",
       "13.268093  14.322181   6.289175\n",
       "21.348773   2.728172  10.228793\n",
       "9.064081   17.663896  17.346794"
      ]
     },
     "execution_count": 36,
     "metadata": {},
     "output_type": "execute_result"
    }
   ],
   "source": [
    "import numpy as np\n",
    "np.random.seed(0)\n",
    "df=pd.DataFrame(np.random.normal(10, 5, (10,3)),\n",
    "             columns=['x', 'y','z'])\n",
    "df.set_index('x',inplace=True)\n",
    "df.head(10)"
   ]
  },
  {
   "cell_type": "markdown",
   "metadata": {},
   "source": [
    "We can add an index that is not an existing column by creating a new column first."
   ]
  },
  {
   "cell_type": "code",
   "execution_count": 43,
   "metadata": {},
   "outputs": [
    {
     "name": "stdout",
     "output_type": "stream",
     "text": [
      "           x          y          z newcolumn\n",
      "0  14.550895  11.586091  13.931640         a\n",
      "1   7.667905   5.277769   7.949752         b\n",
      "2   9.914898  11.895759  21.296545         c\n",
      "3   9.788714   5.220275   8.270091         d\n",
      "4   7.682020  12.407407   2.296015         e\n",
      "5  10.316310  10.782533  11.160905         f\n",
      "6   7.013420   8.810391   2.879695         g\n",
      "7   7.533401   7.285693  12.080250         h\n",
      "8   4.219088  13.905991  17.472423         i\n",
      "9  -0.349925  12.131294  13.384540         j\n",
      "                   x          y          z\n",
      "newcolumn                                 \n",
      "a          14.550895  11.586091  13.931640\n",
      "b           7.667905   5.277769   7.949752\n",
      "c           9.914898  11.895759  21.296545\n",
      "d           9.788714   5.220275   8.270091\n",
      "e           7.682020  12.407407   2.296015\n",
      "f          10.316310  10.782533  11.160905\n",
      "g           7.013420   8.810391   2.879695\n",
      "h           7.533401   7.285693  12.080250\n",
      "i           4.219088  13.905991  17.472423\n",
      "j          -0.349925  12.131294  13.384540\n"
     ]
    }
   ],
   "source": [
    "import numpy as np\n",
    "df=pd.DataFrame(np.random.normal(10, 5, (10,3)),\n",
    "             columns=['x', 'y','z'])\n",
    "\n",
    "\n",
    "df['newcolumn']=['a','b','c','d','e','f','g','h','i','j']\n",
    "print(df)\n",
    "df.set_index('newcolumn',inplace=True)\n",
    "print(df)"
   ]
  },
  {
   "cell_type": "markdown",
   "metadata": {},
   "source": [
    "This does the same thing."
   ]
  },
  {
   "cell_type": "code",
   "execution_count": 41,
   "metadata": {},
   "outputs": [
    {
     "name": "stdout",
     "output_type": "stream",
     "text": [
      "           x          y          z\n",
      "a   9.658792  18.566714   6.276226\n",
      "b   5.867807   9.507737   6.682609\n",
      "c  15.633180   4.600342   4.262657\n",
      "d   7.810900   7.509838  19.647660\n",
      "e  14.747104  10.437756   3.872822\n",
      "f  14.221815   4.998923   2.276145\n",
      "g  15.940149  11.584713  14.604294\n",
      "h  11.593638  14.284153   6.744872\n",
      "i   4.828786  13.407973   5.982952\n",
      "j   6.552251   7.722337  10.087396\n"
     ]
    }
   ],
   "source": [
    "import numpy as np\n",
    "df=pd.DataFrame(np.random.normal(10, 5, (10,3)),\n",
    "             columns=['x', 'y','z'])\n",
    "\n",
    "df.index=['a','b','c','d','e','f','g','h','i','j']\n",
    "print(df)"
   ]
  },
  {
   "cell_type": "markdown",
   "metadata": {},
   "source": [
    "Note that we can't create a new column using the dot notation."
   ]
  },
  {
   "cell_type": "code",
   "execution_count": 44,
   "metadata": {},
   "outputs": [
    {
     "name": "stdout",
     "output_type": "stream",
     "text": [
      "           x          y          z\n",
      "0   6.812815   8.013641   9.335597\n",
      "1   8.511046   8.454935   1.619981\n",
      "2  15.761658  15.398093   5.933179\n",
      "3   2.667878  12.605324   7.121060\n",
      "4  10.709766   8.403358  13.457694\n",
      "5  13.473746   6.372013   3.083180\n",
      "6   2.085308  13.051897   4.055704\n",
      "7   7.465918   7.018430   9.737164\n",
      "8   0.318601  10.943893  12.619455\n",
      "9  10.442110   8.445569  10.487001\n"
     ]
    },
    {
     "name": "stderr",
     "output_type": "stream",
     "text": [
      "C:\\Users\\Aaron Zoll\\AppData\\Local\\Temp\\ipykernel_29312\\2949484977.py:4: UserWarning: Pandas doesn't allow columns to be created via a new attribute name - see https://pandas.pydata.org/pandas-docs/stable/indexing.html#attribute-access\n",
      "  df.newcolumn=['a','b','c','d','e','f','g','h','i','j']\n"
     ]
    }
   ],
   "source": [
    "import numpy as np\n",
    "df=pd.DataFrame(np.random.normal(10, 5, (10,3)),\n",
    "             columns=['x', 'y','z'])\n",
    "df.newcolumn=['a','b','c','d','e','f','g','h','i','j']\n",
    "print(df)"
   ]
  },
  {
   "cell_type": "code",
   "execution_count": 45,
   "metadata": {},
   "outputs": [
    {
     "name": "stdout",
     "output_type": "stream",
     "text": [
      "           x          y          z newcolumn\n",
      "0  11.995232  -3.862964  19.779562         a\n",
      "1  11.950467   6.737957   8.045233         a\n",
      "2  12.468709   9.419480  -0.153422         a\n",
      "3  20.322464   9.447297  15.100864         a\n",
      "4   6.539751  17.681885  11.431718         a\n",
      "5  13.044219   4.773733  16.055726         a\n",
      "6  13.449091  16.509231   6.859562         a\n",
      "7   7.594864  21.519583   4.699921         a\n",
      "8   9.320251  15.684457  10.488625         a\n",
      "9  12.914768   8.002755  11.850279         a\n",
      "                   x          y          z newcolumn\n",
      "newcolumn                                           \n",
      "a          11.995232  -3.862964  19.779562         a\n",
      "a          11.950467   6.737957   8.045233         a\n",
      "a          12.468709   9.419480  -0.153422         a\n",
      "a          20.322464   9.447297  15.100864         a\n",
      "a           6.539751  17.681885  11.431718         a\n",
      "a          13.044219   4.773733  16.055726         a\n",
      "a          13.449091  16.509231   6.859562         a\n",
      "a           7.594864  21.519583   4.699921         a\n",
      "a           9.320251  15.684457  10.488625         a\n",
      "a          12.914768   8.002755  11.850279         a\n"
     ]
    }
   ],
   "source": [
    "import numpy as np\n",
    "df=pd.DataFrame(np.random.normal(10, 5, (10,3)),\n",
    "             columns=['x', 'y','z'])\n",
    "df[\"newcolumn\"]=['a' for i in range(10)]\n",
    "print(df)\n",
    "df.index=df.newcolumn\n",
    "print(df)"
   ]
  },
  {
   "cell_type": "markdown",
   "metadata": {},
   "source": [
    "**Copying**\n",
    "\n",
    "As usual, remember you might want to copy!"
   ]
  },
  {
   "cell_type": "code",
   "execution_count": 47,
   "metadata": {},
   "outputs": [
    {
     "name": "stdout",
     "output_type": "stream",
     "text": [
      "                 x          y          z\n",
      "myindex                                 \n",
      "a        13.735942   4.055275  13.866265\n",
      "b         4.080597  -3.295861  13.031598\n",
      "c         1.220547  12.254672   6.579946\n",
      "d        18.297754  15.342547   7.733071\n",
      "e         6.560812   3.929613   7.795387\n",
      "f         8.598223   8.176532  10.783519\n",
      "g        12.892607  11.748272   6.179280\n",
      "h         2.811043  16.822659   6.552754\n",
      "i         6.738532   7.394053   0.784652\n",
      "j         7.610130   7.601721  13.101791\n",
      "            x     y     z\n",
      "myindex                  \n",
      "a        True  True  True\n",
      "b        True  True  True\n",
      "c        True  True  True\n",
      "d        True  True  True\n",
      "e        True  True  True\n",
      "f        True  True  True\n",
      "g        True  True  True\n",
      "h        True  True  True\n",
      "i        True  True  True\n",
      "j        True  True  True\n"
     ]
    }
   ],
   "source": [
    "import numpy as np\n",
    "df=pd.DataFrame(np.random.normal(10, 5, (10,3)),\n",
    "             columns=['x', 'y','z'])\n",
    "df['myindex']=['a','b','c','d','e','f','g','h','i','j']\n",
    "df2=df # df2 is a reference to the same object as df\n",
    "df2.set_index('myindex',inplace=True)\n",
    "df.head()\n",
    "print(df)\n"
   ]
  },
  {
   "cell_type": "code",
   "execution_count": 22,
   "metadata": {},
   "outputs": [
    {
     "name": "stdout",
     "output_type": "stream",
     "text": [
      "           x          y          z myindex\n",
      "0  -0.106734   1.757769   1.002131       a\n",
      "1  13.649289  21.731076   7.668331       b\n",
      "2  11.302302   7.504953   8.435466       c\n",
      "3  -1.100326  12.012646   4.116923       d\n",
      "4   6.628965  13.095527   8.103989       e\n",
      "5   7.201744  14.997500  10.163402       f\n",
      "6   8.829424   7.526975  10.907920       g\n",
      "7  14.596004   2.572379  15.377307       h\n",
      "8  14.626773  10.599624   5.921168       i\n",
      "9  14.816968   8.407309  12.273626       j\n"
     ]
    }
   ],
   "source": [
    "import numpy as np\n",
    "df=pd.DataFrame(np.random.normal(10, 5, (10,3)),\n",
    "             columns=['x', 'y','z'])\n",
    "df['myindex']=['a','b','c','d','e','f','g','h','i','j']\n",
    "df2=df.copy()\n",
    "df2.set_index('myindex',inplace=True)\n",
    "df.head()\n",
    "print(df)"
   ]
  },
  {
   "cell_type": "markdown",
   "metadata": {},
   "source": [
    "A good index usually has the property that it identifies a unique observation. So when setting the index, we might wish to perform an integrity check."
   ]
  },
  {
   "cell_type": "code",
   "execution_count": 48,
   "metadata": {},
   "outputs": [
    {
     "name": "stdout",
     "output_type": "stream",
     "text": [
      "integrity check failed\n"
     ]
    },
    {
     "data": {
      "text/html": [
       "<div>\n",
       "<style scoped>\n",
       "    .dataframe tbody tr th:only-of-type {\n",
       "        vertical-align: middle;\n",
       "    }\n",
       "\n",
       "    .dataframe tbody tr th {\n",
       "        vertical-align: top;\n",
       "    }\n",
       "\n",
       "    .dataframe thead th {\n",
       "        text-align: right;\n",
       "    }\n",
       "</style>\n",
       "<table border=\"1\" class=\"dataframe\">\n",
       "  <thead>\n",
       "    <tr style=\"text-align: right;\">\n",
       "      <th></th>\n",
       "      <th>x</th>\n",
       "      <th>y</th>\n",
       "      <th>z</th>\n",
       "      <th>myindex</th>\n",
       "    </tr>\n",
       "  </thead>\n",
       "  <tbody>\n",
       "    <tr>\n",
       "      <th>0</th>\n",
       "      <td>13.492286</td>\n",
       "      <td>10.018854</td>\n",
       "      <td>14.659242</td>\n",
       "      <td>a</td>\n",
       "    </tr>\n",
       "    <tr>\n",
       "      <th>1</th>\n",
       "      <td>11.699825</td>\n",
       "      <td>9.921589</td>\n",
       "      <td>10.804641</td>\n",
       "      <td>b</td>\n",
       "    </tr>\n",
       "    <tr>\n",
       "      <th>2</th>\n",
       "      <td>9.046733</td>\n",
       "      <td>8.025752</td>\n",
       "      <td>8.661332</td>\n",
       "      <td>c</td>\n",
       "    </tr>\n",
       "    <tr>\n",
       "      <th>3</th>\n",
       "      <td>4.359943</td>\n",
       "      <td>11.402209</td>\n",
       "      <td>5.034382</td>\n",
       "      <td>d</td>\n",
       "    </tr>\n",
       "    <tr>\n",
       "      <th>4</th>\n",
       "      <td>14.208156</td>\n",
       "      <td>8.752707</td>\n",
       "      <td>10.247475</td>\n",
       "      <td>e</td>\n",
       "    </tr>\n",
       "    <tr>\n",
       "      <th>5</th>\n",
       "      <td>12.469184</td>\n",
       "      <td>13.216572</td>\n",
       "      <td>2.146883</td>\n",
       "      <td>f</td>\n",
       "    </tr>\n",
       "    <tr>\n",
       "      <th>6</th>\n",
       "      <td>8.965482</td>\n",
       "      <td>14.400895</td>\n",
       "      <td>1.509471</td>\n",
       "      <td>g</td>\n",
       "    </tr>\n",
       "    <tr>\n",
       "      <th>7</th>\n",
       "      <td>11.936402</td>\n",
       "      <td>-1.277821</td>\n",
       "      <td>4.887466</td>\n",
       "      <td>h</td>\n",
       "    </tr>\n",
       "    <tr>\n",
       "      <th>8</th>\n",
       "      <td>10.193153</td>\n",
       "      <td>1.716424</td>\n",
       "      <td>5.072446</td>\n",
       "      <td>a</td>\n",
       "    </tr>\n",
       "    <tr>\n",
       "      <th>9</th>\n",
       "      <td>2.640825</td>\n",
       "      <td>18.240675</td>\n",
       "      <td>10.821139</td>\n",
       "      <td>j</td>\n",
       "    </tr>\n",
       "  </tbody>\n",
       "</table>\n",
       "</div>"
      ],
      "text/plain": [
       "           x          y          z myindex\n",
       "0  13.492286  10.018854  14.659242       a\n",
       "1  11.699825   9.921589  10.804641       b\n",
       "2   9.046733   8.025752   8.661332       c\n",
       "3   4.359943  11.402209   5.034382       d\n",
       "4  14.208156   8.752707  10.247475       e\n",
       "5  12.469184  13.216572   2.146883       f\n",
       "6   8.965482  14.400895   1.509471       g\n",
       "7  11.936402  -1.277821   4.887466       h\n",
       "8  10.193153   1.716424   5.072446       a\n",
       "9   2.640825  18.240675  10.821139       j"
      ]
     },
     "execution_count": 48,
     "metadata": {},
     "output_type": "execute_result"
    }
   ],
   "source": [
    "import numpy as np\n",
    "df=pd.DataFrame(np.random.normal(10, 5, (10,3)),\n",
    "             columns=['x', 'y','z'])\n",
    "df['myindex']=['a','b','c','d','e','f','g','h','a','j']\n",
    "\n",
    "try:\n",
    "    df.set_index('myindex',inplace=True,verify_integrity=True)\n",
    "except ValueError:\n",
    "    print(\"integrity check failed\")\n",
    "df\n"
   ]
  },
  {
   "cell_type": "markdown",
   "metadata": {},
   "source": [
    "That said, uniqueness is not a strict requirement."
   ]
  },
  {
   "cell_type": "code",
   "execution_count": null,
   "metadata": {},
   "outputs": [],
   "source": [
    "import numpy as np\n",
    "df=pd.DataFrame(np.random.normal(10, 5, (10,3)),\n",
    "             columns=['x', 'y','z'])\n",
    "df['myindex']=['a','b','c','d','e','f','g','h','a','j']\n",
    "try:\n",
    "    df.set_index('myindex',inplace=True,verify_integrity=False)\n",
    "except ValueError:\n",
    "    print(\"integrity check failed\")\n",
    "df"
   ]
  },
  {
   "cell_type": "markdown",
   "metadata": {},
   "source": [
    "We can revert back to the default index (0,1,...) using the reset_index method.\n",
    "\n",
    "When we do this, the old index is retained as a column."
   ]
  },
  {
   "cell_type": "code",
   "execution_count": 24,
   "metadata": {},
   "outputs": [
    {
     "name": "stdout",
     "output_type": "stream",
     "text": [
      "           x          y          z\n",
      "a   4.506940   4.525327  10.422189\n",
      "b  11.528840  10.823148  10.528653\n",
      "c   9.577567  12.770474  17.631923\n",
      "d  10.488932   8.242022  12.627924\n",
      "e  15.207455  14.795386  10.201545\n",
      "f   9.107228  13.618833  13.331245\n",
      "g   5.130633  15.323087  12.014781\n",
      "h  13.083845  10.559684  13.130431\n",
      "i  14.108936   6.747988   3.444035\n",
      "j  15.334993   6.093962  13.564625\n",
      "Index(['x', 'y', 'z'], dtype='object')\n",
      "  index          x          y          z\n",
      "0     a   4.506940   4.525327  10.422189\n",
      "1     b  11.528840  10.823148  10.528653\n",
      "2     c   9.577567  12.770474  17.631923\n",
      "3     d  10.488932   8.242022  12.627924\n",
      "4     e  15.207455  14.795386  10.201545\n",
      "5     f   9.107228  13.618833  13.331245\n",
      "6     g   5.130633  15.323087  12.014781\n",
      "7     h  13.083845  10.559684  13.130431\n",
      "8     i  14.108936   6.747988   3.444035\n",
      "9     j  15.334993   6.093962  13.564625\n",
      "Index(['index', 'x', 'y', 'z'], dtype='object')\n"
     ]
    }
   ],
   "source": [
    "import numpy as np\n",
    "import pandas as pd\n",
    "df=pd.DataFrame(np.random.normal(10, 5, (10,3)),\n",
    "             columns=['x', 'y','z'],\n",
    "               index=['a','b','c','d','e','f','g','h','i','j'])\n",
    "print(df)\n",
    "print(df.columns)\n",
    "\n",
    "df.reset_index(inplace=True)\n",
    "print(df)\n",
    "print(df.columns)"
   ]
  },
  {
   "cell_type": "markdown",
   "metadata": {},
   "source": [
    "We can _reindex_ a data frame by supplying a list of values.\n",
    "\n",
    "In the following example, we sort the index and use that as the new index.\n",
    "\n",
    "Key point: this does not change which index value is associated with which row of values in the data frame."
   ]
  },
  {
   "cell_type": "code",
   "execution_count": 25,
   "metadata": {},
   "outputs": [
    {
     "name": "stdout",
     "output_type": "stream",
     "text": [
      "           x          y          z\n",
      "g  12.966630   9.584956   8.886095\n",
      "c   0.876345  17.419395  13.696239\n",
      "h   4.336917   3.103108   8.429176\n",
      "b  16.875621   9.445366   8.456519\n",
      "a  14.987151   3.336191  12.939643\n",
      "e   8.487375   7.699992   7.386159\n",
      "f  14.382734  11.174197  13.342960\n",
      "i  15.845151   6.956576   9.865940\n",
      "d  23.127316   8.071907   4.004636\n",
      "j   8.734888  11.078268   4.892849\n",
      "['g', 'c', 'h', 'b', 'a', 'e', 'f', 'i', 'd', 'j']\n",
      "['a', 'b', 'c', 'd', 'e', 'f', 'g', 'h', 'i', 'j']\n",
      "           x          y          z\n",
      "a  14.987151   3.336191  12.939643\n",
      "b  16.875621   9.445366   8.456519\n",
      "c   0.876345  17.419395  13.696239\n",
      "d  23.127316   8.071907   4.004636\n",
      "e   8.487375   7.699992   7.386159\n",
      "f  14.382734  11.174197  13.342960\n",
      "g  12.966630   9.584956   8.886095\n",
      "h   4.336917   3.103108   8.429176\n",
      "i  15.845151   6.956576   9.865940\n",
      "j   8.734888  11.078268   4.892849\n"
     ]
    }
   ],
   "source": [
    "import numpy as np\n",
    "import pandas as pd\n",
    "df=pd.DataFrame(np.random.normal(10, 5, (10,3)),\n",
    "             columns=['x', 'y','z'],\n",
    "             index=['g','c','h','b','a','e','f','i','d','j'])\n",
    "print(df)\n",
    "L=list(df.index) # list of index values\n",
    "print(L)\n",
    "print(sorted(L))\n",
    "df=df.reindex(sorted(L))\n",
    "print(df)"
   ]
  },
  {
   "cell_type": "markdown",
   "metadata": {},
   "source": [
    "The indices do not have to all be included."
   ]
  },
  {
   "cell_type": "code",
   "execution_count": 52,
   "metadata": {},
   "outputs": [
    {
     "name": "stdout",
     "output_type": "stream",
     "text": [
      "           x          y          z\n",
      "g  13.857030  15.147194   5.456184\n",
      "c   7.878412  14.312980  -3.278095\n",
      "h  17.566640  12.765660   9.771480\n",
      "b  11.102538   4.850324   8.250283\n",
      "a  15.501422  16.490110  23.481120\n",
      "e   9.630377   6.707235   7.428830\n",
      "f   4.909791   9.610726  11.913662\n",
      "i   9.828789  15.481734   8.828921\n",
      "d   8.262747   7.093658   1.836827\n",
      "j   2.161161   4.104210  16.507140\n",
      "['g', 'a', 'e']\n",
      "           x          y          z\n",
      "a  15.501422  16.490110  23.481120\n",
      "p        NaN        NaN        NaN\n",
      "g  13.857030  15.147194   5.456184\n"
     ]
    }
   ],
   "source": [
    "import numpy as np\n",
    "df=pd.DataFrame(np.random.normal(10, 5, (10,3)),\n",
    "             columns=['x', 'y','z'],\n",
    "             index=['g','c','h','b','a','e','f','i','d','j'])\n",
    "print(df)\n",
    "L=['g','a','e']\n",
    "print(L)\n",
    "df=df.reindex(['a','p','g'])\n",
    "print(df)"
   ]
  },
  {
   "cell_type": "markdown",
   "metadata": {},
   "source": [
    "Repeats are allowed."
   ]
  },
  {
   "cell_type": "code",
   "execution_count": null,
   "metadata": {},
   "outputs": [],
   "source": [
    "import numpy as np\n",
    "df=pd.DataFrame(np.random.normal(10, 5, (10,3)),\n",
    "             columns=['x', 'y','z'],\n",
    "             index=['g','c','h','b','a','e','f','i','d','j'])\n",
    "print(df)\n",
    "L=['a','g','a','g','b','b']\n",
    "print(L)\n",
    "df=df.reindex(L)\n",
    "print(df)"
   ]
  },
  {
   "cell_type": "code",
   "execution_count": null,
   "metadata": {},
   "outputs": [],
   "source": [
    "df.reindex(['a','g'])"
   ]
  },
  {
   "cell_type": "markdown",
   "metadata": {},
   "source": [
    "When an new index value is used, missing values are filled in."
   ]
  },
  {
   "cell_type": "code",
   "execution_count": null,
   "metadata": {},
   "outputs": [],
   "source": [
    "import numpy as np\n",
    "df=pd.DataFrame(np.random.normal(10, 5, (10,3)),\n",
    "             columns=['x', 'y','z'],\n",
    "             index=['a','c','d','f','g','e','b','j','h','i'])\n",
    "print(df)\n",
    "df=df.reindex(['f','g','t','s','c'])\n",
    "print(df)"
   ]
  },
  {
   "cell_type": "markdown",
   "metadata": {},
   "source": [
    "the __head()__ and __tail()__ methods are useful for inspecting a small portion of a data frame."
   ]
  },
  {
   "cell_type": "code",
   "execution_count": 26,
   "metadata": {},
   "outputs": [
    {
     "data": {
      "text/html": [
       "<div>\n",
       "<style scoped>\n",
       "    .dataframe tbody tr th:only-of-type {\n",
       "        vertical-align: middle;\n",
       "    }\n",
       "\n",
       "    .dataframe tbody tr th {\n",
       "        vertical-align: top;\n",
       "    }\n",
       "\n",
       "    .dataframe thead th {\n",
       "        text-align: right;\n",
       "    }\n",
       "</style>\n",
       "<table border=\"1\" class=\"dataframe\">\n",
       "  <thead>\n",
       "    <tr style=\"text-align: right;\">\n",
       "      <th></th>\n",
       "      <th>x</th>\n",
       "      <th>y</th>\n",
       "      <th>z</th>\n",
       "    </tr>\n",
       "  </thead>\n",
       "  <tbody>\n",
       "    <tr>\n",
       "      <th>a</th>\n",
       "      <td>14.987151</td>\n",
       "      <td>3.336191</td>\n",
       "      <td>12.939643</td>\n",
       "    </tr>\n",
       "    <tr>\n",
       "      <th>b</th>\n",
       "      <td>16.875621</td>\n",
       "      <td>9.445366</td>\n",
       "      <td>8.456519</td>\n",
       "    </tr>\n",
       "    <tr>\n",
       "      <th>c</th>\n",
       "      <td>0.876345</td>\n",
       "      <td>17.419395</td>\n",
       "      <td>13.696239</td>\n",
       "    </tr>\n",
       "  </tbody>\n",
       "</table>\n",
       "</div>"
      ],
      "text/plain": [
       "           x          y          z\n",
       "a  14.987151   3.336191  12.939643\n",
       "b  16.875621   9.445366   8.456519\n",
       "c   0.876345  17.419395  13.696239"
      ]
     },
     "execution_count": 26,
     "metadata": {},
     "output_type": "execute_result"
    }
   ],
   "source": [
    "df.head(3)"
   ]
  },
  {
   "cell_type": "code",
   "execution_count": null,
   "metadata": {},
   "outputs": [],
   "source": [
    "df.head(2)"
   ]
  },
  {
   "cell_type": "code",
   "execution_count": 27,
   "metadata": {},
   "outputs": [
    {
     "data": {
      "text/html": [
       "<div>\n",
       "<style scoped>\n",
       "    .dataframe tbody tr th:only-of-type {\n",
       "        vertical-align: middle;\n",
       "    }\n",
       "\n",
       "    .dataframe tbody tr th {\n",
       "        vertical-align: top;\n",
       "    }\n",
       "\n",
       "    .dataframe thead th {\n",
       "        text-align: right;\n",
       "    }\n",
       "</style>\n",
       "<table border=\"1\" class=\"dataframe\">\n",
       "  <thead>\n",
       "    <tr style=\"text-align: right;\">\n",
       "      <th></th>\n",
       "      <th>x</th>\n",
       "      <th>y</th>\n",
       "      <th>z</th>\n",
       "    </tr>\n",
       "  </thead>\n",
       "  <tbody>\n",
       "    <tr>\n",
       "      <th>h</th>\n",
       "      <td>4.336917</td>\n",
       "      <td>3.103108</td>\n",
       "      <td>8.429176</td>\n",
       "    </tr>\n",
       "    <tr>\n",
       "      <th>i</th>\n",
       "      <td>15.845151</td>\n",
       "      <td>6.956576</td>\n",
       "      <td>9.865940</td>\n",
       "    </tr>\n",
       "    <tr>\n",
       "      <th>j</th>\n",
       "      <td>8.734888</td>\n",
       "      <td>11.078268</td>\n",
       "      <td>4.892849</td>\n",
       "    </tr>\n",
       "  </tbody>\n",
       "</table>\n",
       "</div>"
      ],
      "text/plain": [
       "           x          y         z\n",
       "h   4.336917   3.103108  8.429176\n",
       "i  15.845151   6.956576  9.865940\n",
       "j   8.734888  11.078268  4.892849"
      ]
     },
     "execution_count": 27,
     "metadata": {},
     "output_type": "execute_result"
    }
   ],
   "source": [
    "df.tail(3)"
   ]
  },
  {
   "cell_type": "code",
   "execution_count": 28,
   "metadata": {},
   "outputs": [
    {
     "data": {
      "text/html": [
       "<div>\n",
       "<style scoped>\n",
       "    .dataframe tbody tr th:only-of-type {\n",
       "        vertical-align: middle;\n",
       "    }\n",
       "\n",
       "    .dataframe tbody tr th {\n",
       "        vertical-align: top;\n",
       "    }\n",
       "\n",
       "    .dataframe thead th {\n",
       "        text-align: right;\n",
       "    }\n",
       "</style>\n",
       "<table border=\"1\" class=\"dataframe\">\n",
       "  <thead>\n",
       "    <tr style=\"text-align: right;\">\n",
       "      <th></th>\n",
       "      <th>x</th>\n",
       "      <th>y</th>\n",
       "      <th>z</th>\n",
       "    </tr>\n",
       "  </thead>\n",
       "  <tbody>\n",
       "    <tr>\n",
       "      <th>f</th>\n",
       "      <td>14.382734</td>\n",
       "      <td>11.174197</td>\n",
       "      <td>13.342960</td>\n",
       "    </tr>\n",
       "    <tr>\n",
       "      <th>g</th>\n",
       "      <td>12.966630</td>\n",
       "      <td>9.584956</td>\n",
       "      <td>8.886095</td>\n",
       "    </tr>\n",
       "    <tr>\n",
       "      <th>h</th>\n",
       "      <td>4.336917</td>\n",
       "      <td>3.103108</td>\n",
       "      <td>8.429176</td>\n",
       "    </tr>\n",
       "    <tr>\n",
       "      <th>i</th>\n",
       "      <td>15.845151</td>\n",
       "      <td>6.956576</td>\n",
       "      <td>9.865940</td>\n",
       "    </tr>\n",
       "    <tr>\n",
       "      <th>j</th>\n",
       "      <td>8.734888</td>\n",
       "      <td>11.078268</td>\n",
       "      <td>4.892849</td>\n",
       "    </tr>\n",
       "  </tbody>\n",
       "</table>\n",
       "</div>"
      ],
      "text/plain": [
       "           x          y          z\n",
       "f  14.382734  11.174197  13.342960\n",
       "g  12.966630   9.584956   8.886095\n",
       "h   4.336917   3.103108   8.429176\n",
       "i  15.845151   6.956576   9.865940\n",
       "j   8.734888  11.078268   4.892849"
      ]
     },
     "execution_count": 28,
     "metadata": {},
     "output_type": "execute_result"
    }
   ],
   "source": [
    "df.tail()"
   ]
  },
  {
   "cell_type": "code",
   "execution_count": null,
   "metadata": {},
   "outputs": [],
   "source": []
  }
 ],
 "metadata": {
  "kernelspec": {
   "display_name": "Python 3 (ipykernel)",
   "language": "python",
   "name": "python3"
  },
  "language_info": {
   "codemirror_mode": {
    "name": "ipython",
    "version": 3
   },
   "file_extension": ".py",
   "mimetype": "text/x-python",
   "name": "python",
   "nbconvert_exporter": "python",
   "pygments_lexer": "ipython3",
   "version": "3.10.9"
  }
 },
 "nbformat": 4,
 "nbformat_minor": 4
}
