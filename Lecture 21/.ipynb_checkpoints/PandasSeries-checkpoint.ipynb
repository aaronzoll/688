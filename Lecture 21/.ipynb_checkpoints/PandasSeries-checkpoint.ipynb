{
 "cells": [
  {
   "cell_type": "markdown",
   "metadata": {},
   "source": [
    "**Pandas Series**\n",
    "\n",
    "The pandas module has many features that are useful in data science applications. Perhaps the most important object is a data frame, especially the 2d (spreadsheet-like) data frames.\n",
    "\n",
    "Since pandas data frames use pandas series as column, it is a good idea to first understand how to work with pandas series.\n",
    "\n",
    "**Constructing pandas series**\n",
    "\n",
    "We can construct a pandas series by providing a list of numbers, just like we do for a numpy array."
   ]
  },
  {
   "cell_type": "code",
   "execution_count": 1,
   "metadata": {},
   "outputs": [
    {
     "name": "stdout",
     "output_type": "stream",
     "text": [
      "0    1.4\n",
      "1    2.5\n",
      "2    6.9\n",
      "3    7.4\n",
      "4    1.2\n",
      "5    9.1\n",
      "6    3.5\n",
      "dtype: float64\n",
      "0    2\n",
      "1    5\n",
      "2    7\n",
      "3    3\n",
      "dtype: int64\n",
      "0     True\n",
      "1    False\n",
      "2     True\n",
      "dtype: bool\n"
     ]
    }
   ],
   "source": [
    "import pandas as pd\n",
    "\n",
    "x=pd.Series([1.4,2.5,6.9,7.4,1.2,9.1,3.5])\n",
    "u=pd.Series([2,5,7,3])\n",
    "v=pd.Series([True,False,True])\n",
    "print(x)\n",
    "print(u)\n",
    "print(v)"
   ]
  },
  {
   "cell_type": "code",
   "execution_count": 2,
   "metadata": {},
   "outputs": [
    {
     "name": "stdout",
     "output_type": "stream",
     "text": [
      "0    2.5\n",
      "1    6.7\n",
      "2    8.9\n",
      "3    2.3\n",
      "dtype: float64\n",
      "0    2\n",
      "1    5\n",
      "2    6\n",
      "3    7\n",
      "dtype: int64\n"
     ]
    }
   ],
   "source": [
    "import numpy as np\n",
    "v=np.array([2.5,6.7,8.9,2.3])\n",
    "w=pd.Series(v)\n",
    "print(w)\n",
    "\n",
    "v=np.array([2,5,6,7],dtype=np.int64)\n",
    "w=pd.Series(v)\n",
    "print(w)"
   ]
  },
  {
   "cell_type": "markdown",
   "metadata": {},
   "source": [
    "Note that when we print the series, we get an _index_ column and we get a data type. \n",
    "\n",
    "We'll have more to see about indices soon.\n",
    "\n",
    "Pandas series have much of the functionality of numpy arrays."
   ]
  },
  {
   "cell_type": "code",
   "execution_count": 3,
   "metadata": {},
   "outputs": [
    {
     "name": "stdout",
     "output_type": "stream",
     "text": [
      "0    3.2\n",
      "1    7.5\n",
      "2    6.1\n",
      "3    7.9\n",
      "4    1.4\n",
      "5    9.9\n",
      "6   -1.5\n",
      "dtype: float64\n",
      "0    22.4\n",
      "1    37.5\n",
      "2    42.1\n",
      "3    48.5\n",
      "4    16.6\n",
      "5    57.9\n",
      "6    12.5\n",
      "dtype: float64\n",
      "0    0.437500\n",
      "1    0.333333\n",
      "2    1.131148\n",
      "3    0.936709\n",
      "4    0.857143\n",
      "5    0.919192\n",
      "6   -2.333333\n",
      "dtype: float64\n",
      "0   -0.058374\n",
      "1    0.938000\n",
      "2   -0.182163\n",
      "3    0.998941\n",
      "4    0.985450\n",
      "5   -0.457536\n",
      "6   -0.997495\n",
      "dtype: float64\n"
     ]
    }
   ],
   "source": [
    "import numpy as np\n",
    "import pandas as pd\n",
    "x=pd.Series([1.4,2.5,6.9,7.4,1.2,9.1,3.5])\n",
    "y=pd.Series([3.2,7.5,6.1,7.9,1.4,9.9,-1.5])\n",
    "z=2.*x+3.*y+10\n",
    "w=x/y\n",
    "h=np.sin(y)\n",
    "print(y)\n",
    "print(z)\n",
    "print(w)\n",
    "print(h)"
   ]
  },
  {
   "cell_type": "code",
   "execution_count": 5,
   "metadata": {},
   "outputs": [
    {
     "name": "stdout",
     "output_type": "stream",
     "text": [
      "0    1.4\n",
      "1    2.5\n",
      "2    6.9\n",
      "3    7.4\n",
      "4    1.2\n",
      "5    9.1\n",
      "6    3.5\n",
      "dtype: float64\n",
      "1.4\n"
     ]
    }
   ],
   "source": [
    "print(x)\n",
    "print(x[0])"
   ]
  },
  {
   "cell_type": "markdown",
   "metadata": {},
   "source": [
    "**Referring to elements by position**\n",
    "\n",
    "We can refer to elements of a pandas series by _position_, using the .iloc method. The arguments to iloc can be an integer, a slice object, a boolean array, or a list of positions."
   ]
  },
  {
   "cell_type": "code",
   "execution_count": 8,
   "metadata": {},
   "outputs": [
    {
     "name": "stdout",
     "output_type": "stream",
     "text": [
      "0    0.160139\n",
      "1    0.575663\n",
      "2    0.406878\n",
      "3    0.369888\n",
      "4    0.034292\n",
      "5    0.379959\n",
      "6    0.442688\n",
      "7    0.889144\n",
      "8    0.354368\n",
      "9    0.728362\n",
      "dtype: float64\n",
      "\n",
      "\n",
      "0.3698875019556096\n",
      "\n",
      "\n",
      "2    0.406878\n",
      "3    0.369888\n",
      "4    0.034292\n",
      "dtype: float64\n",
      "\n",
      "\n",
      "<class 'pandas.core.series.Series'>\n",
      "2    0.406878\n",
      "4    0.034292\n",
      "7    0.889144\n",
      "2    0.406878\n",
      "dtype: float64\n",
      "\n",
      "\n"
     ]
    }
   ],
   "source": [
    "import pandas as pd\n",
    "import numpy as np\n",
    "x=pd.Series(np.random.uniform(0,1,10))\n",
    "print(x)\n",
    "print(\"\\n\")\n",
    "\n",
    "print(x.iloc[3])\n",
    "print(\"\\n\")\n",
    "\n",
    "print(x.iloc[2:5])\n",
    "print(\"\\n\")\n",
    "y=x.iloc[2:5]\n",
    "print(type(y))\n",
    "\n",
    "print(x.iloc[[2,4,7,2]])\n",
    "print(\"\\n\")"
   ]
  },
  {
   "cell_type": "code",
   "execution_count": 11,
   "metadata": {},
   "outputs": [
    {
     "name": "stdout",
     "output_type": "stream",
     "text": [
      "0    0.475951\n",
      "1    0.606454\n",
      "2    0.793832\n",
      "3    0.880111\n",
      "4    0.531582\n",
      "dtype: float64\n",
      "\n",
      "\n",
      "[True, False, True, False, False]\n",
      "0    0.475951\n",
      "2    0.793832\n",
      "dtype: float64\n"
     ]
    }
   ],
   "source": [
    "import pandas as pd\n",
    "import numpy as np\n",
    "x=pd.Series(np.random.uniform(0,1,5))\n",
    "print(x)\n",
    "print(\"\\n\")\n",
    "\n",
    "tf=list(np.random.choice([True,False],size=5,replace=True))\n",
    "print(tf)\n",
    "print(x.iloc[tf])"
   ]
  },
  {
   "cell_type": "code",
   "execution_count": 12,
   "metadata": {},
   "outputs": [
    {
     "name": "stdout",
     "output_type": "stream",
     "text": [
      "0    0.475951\n",
      "1    0.606454\n",
      "2    0.793832\n",
      "3    0.880111\n",
      "4    0.531582\n",
      "dtype: float64\n",
      "0    0.475951\n",
      "1    0.606454\n",
      "2    0.793832\n",
      "0    0.475951\n",
      "1    0.606454\n",
      "2    0.793832\n",
      "dtype: float64\n"
     ]
    }
   ],
   "source": [
    "print(x)\n",
    "y=x.iloc[[0,1,2,0,1,2]]\n",
    "print(y)"
   ]
  },
  {
   "cell_type": "code",
   "execution_count": null,
   "metadata": {},
   "outputs": [],
   "source": [
    "y.iloc[2]"
   ]
  },
  {
   "cell_type": "code",
   "execution_count": 6,
   "metadata": {},
   "outputs": [
    {
     "name": "stdout",
     "output_type": "stream",
     "text": [
      "0    0.380449\n",
      "1    0.381048\n",
      "2    0.225697\n",
      "3    0.158156\n",
      "4    0.765955\n",
      "5    0.111007\n",
      "6    0.972801\n",
      "7    0.966683\n",
      "8    0.643391\n",
      "9    0.847960\n",
      "dtype: float64\n",
      "[True, True, True, False, False, True, False, True, True, True]\n",
      "0    0.380449\n",
      "1    0.381048\n",
      "2    0.225697\n",
      "5    0.111007\n",
      "7    0.966683\n",
      "8    0.643391\n",
      "9    0.847960\n",
      "dtype: float64\n",
      "\n",
      "\n",
      "0    0.380449\n",
      "1    0.381048\n",
      "2    0.225697\n",
      "5    0.111007\n",
      "7    0.966683\n",
      "8    0.643391\n",
      "9    0.847960\n",
      "dtype: float64\n",
      "[True, True, True, False, False, True, False, True, True, True]\n",
      "0    0.380449\n",
      "1    0.381048\n",
      "2    0.225697\n",
      "5    0.111007\n",
      "7    0.966683\n",
      "8    0.643391\n",
      "9    0.847960\n",
      "dtype: float64\n"
     ]
    }
   ],
   "source": [
    "import pandas as pd\n",
    "import numpy as np\n",
    "\n",
    "x=pd.Series(np.random.uniform(0,1,10))\n",
    "print(x)\n",
    "\n",
    "# True/False numpy array\n",
    "L=list(np.random.choice([True,False],size=10,replace=True))\n",
    "\n",
    "\n",
    "print(L)\n",
    "\n",
    "print(x.iloc[L])\n",
    "print(\"\\n\")\n",
    "\n",
    "y=x.iloc[L]\n",
    "print(y)\n",
    "\n",
    "# True/False list works the same way\n",
    "L=list(L)\n",
    "print(L)\n",
    "print(x.iloc[L])\n",
    "\n",
    "y=x.iloc[L]\n"
   ]
  },
  {
   "cell_type": "code",
   "execution_count": null,
   "metadata": {},
   "outputs": [],
   "source": [
    "x.loc[L]"
   ]
  },
  {
   "cell_type": "code",
   "execution_count": null,
   "metadata": {},
   "outputs": [],
   "source": [
    "y"
   ]
  },
  {
   "cell_type": "code",
   "execution_count": null,
   "metadata": {},
   "outputs": [],
   "source": [
    "print(y.iloc[2])\n",
    "print(y[2])\n",
    "print(y.loc[2])"
   ]
  },
  {
   "cell_type": "code",
   "execution_count": null,
   "metadata": {},
   "outputs": [],
   "source": [
    "y"
   ]
  },
  {
   "cell_type": "code",
   "execution_count": null,
   "metadata": {},
   "outputs": [],
   "source": [
    "y.loc[1]"
   ]
  },
  {
   "cell_type": "markdown",
   "metadata": {},
   "source": [
    "**Referring to elements by index**\n",
    "\n",
    "We can also refer to elements by _index_. "
   ]
  },
  {
   "cell_type": "code",
   "execution_count": 13,
   "metadata": {},
   "outputs": [
    {
     "name": "stdout",
     "output_type": "stream",
     "text": [
      "0    0.059024\n",
      "1    0.898319\n",
      "2    0.101659\n",
      "3    0.360205\n",
      "4    0.314246\n",
      "5    0.963535\n",
      "6    0.842637\n",
      "7    0.024926\n",
      "8    0.942903\n",
      "9    0.796126\n",
      "dtype: float64\n",
      "RangeIndex(start=0, stop=10, step=1)\n"
     ]
    }
   ],
   "source": [
    "import pandas as pd\n",
    "import numpy as np\n",
    "x=pd.Series(np.random.uniform(0,1,10))\n",
    "print(x)\n",
    "print(x.index)"
   ]
  },
  {
   "cell_type": "code",
   "execution_count": 15,
   "metadata": {},
   "outputs": [
    {
     "name": "stdout",
     "output_type": "stream",
     "text": [
      "2    0.101659\n",
      "3    0.360205\n",
      "dtype: float64\n",
      "1    0.898319\n",
      "2    0.101659\n",
      "dtype: float64\n",
      "1    0.898319\n",
      "3    0.360205\n",
      "5    0.963535\n",
      "dtype: float64\n"
     ]
    }
   ],
   "source": [
    "print(x[2:4])\n",
    "print(x[1:3])\n",
    "I=[1,3,5]\n",
    "print(x[I])\n",
    "x2=x[I]"
   ]
  },
  {
   "cell_type": "code",
   "execution_count": 16,
   "metadata": {},
   "outputs": [
    {
     "data": {
      "text/plain": [
       "1    0.898319\n",
       "3    0.360205\n",
       "5    0.963535\n",
       "dtype: float64"
      ]
     },
     "execution_count": 16,
     "metadata": {},
     "output_type": "execute_result"
    }
   ],
   "source": [
    "x2"
   ]
  },
  {
   "cell_type": "code",
   "execution_count": 23,
   "metadata": {},
   "outputs": [
    {
     "data": {
      "text/plain": [
       "3    0.360205\n",
       "dtype: float64"
      ]
     },
     "execution_count": 23,
     "metadata": {},
     "output_type": "execute_result"
    }
   ],
   "source": [
    "x2.loc[2:4]"
   ]
  },
  {
   "cell_type": "markdown",
   "metadata": {},
   "source": [
    "**loc vs iloc**\n",
    "\n",
    "Note the important distinction between loc and iloc. We can create a new series from an existing one and look at its index."
   ]
  },
  {
   "cell_type": "code",
   "execution_count": 24,
   "metadata": {},
   "outputs": [
    {
     "name": "stdout",
     "output_type": "stream",
     "text": [
      "0    0.701502\n",
      "1    0.407706\n",
      "2    0.974883\n",
      "3    0.045091\n",
      "4    0.559654\n",
      "5    0.518332\n",
      "6    0.728289\n",
      "7    0.008092\n",
      "8    0.726999\n",
      "9    0.958390\n",
      "dtype: float64\n",
      "[False False False False False  True  True False False  True]\n",
      "5    0.518332\n",
      "6    0.728289\n",
      "9    0.958390\n",
      "dtype: float64\n"
     ]
    }
   ],
   "source": [
    "import pandas as pd\n",
    "import numpy as np\n",
    "x=pd.Series(np.random.uniform(0,1,10))\n",
    "print(x)\n",
    "y=np.random.choice([True,False],size=10,replace=True)\n",
    "print(y)\n",
    "z=x.iloc[y]\n",
    "print(z)"
   ]
  },
  {
   "cell_type": "code",
   "execution_count": 26,
   "metadata": {},
   "outputs": [
    {
     "name": "stdout",
     "output_type": "stream",
     "text": [
      "0.5183322078485066\n"
     ]
    }
   ],
   "source": [
    "print(z[5])"
   ]
  },
  {
   "cell_type": "code",
   "execution_count": 12,
   "metadata": {},
   "outputs": [
    {
     "name": "stdout",
     "output_type": "stream",
     "text": [
      "Series([], dtype: float64)\n",
      "Series([], dtype: float64)\n",
      "Series([], dtype: float64)\n"
     ]
    }
   ],
   "source": [
    "print(z[3:5])\n",
    "print(z.iloc[3:5])\n",
    "print(z.loc[3:5])"
   ]
  },
  {
   "cell_type": "markdown",
   "metadata": {},
   "source": [
    "For this new series compare loc and iloc."
   ]
  },
  {
   "cell_type": "code",
   "execution_count": 27,
   "metadata": {},
   "outputs": [
    {
     "ename": "KeyError",
     "evalue": "3",
     "output_type": "error",
     "traceback": [
      "\u001b[1;31m---------------------------------------------------------------------------\u001b[0m",
      "\u001b[1;31mKeyError\u001b[0m                                  Traceback (most recent call last)",
      "\u001b[1;32m~\\anaconda3\\lib\\site-packages\\pandas\\core\\indexes\\base.py\u001b[0m in \u001b[0;36mget_loc\u001b[1;34m(self, key, method, tolerance)\u001b[0m\n\u001b[0;32m   3628\u001b[0m             \u001b[1;32mtry\u001b[0m\u001b[1;33m:\u001b[0m\u001b[1;33m\u001b[0m\u001b[1;33m\u001b[0m\u001b[0m\n\u001b[1;32m-> 3629\u001b[1;33m                 \u001b[1;32mreturn\u001b[0m \u001b[0mself\u001b[0m\u001b[1;33m.\u001b[0m\u001b[0m_engine\u001b[0m\u001b[1;33m.\u001b[0m\u001b[0mget_loc\u001b[0m\u001b[1;33m(\u001b[0m\u001b[0mcasted_key\u001b[0m\u001b[1;33m)\u001b[0m\u001b[1;33m\u001b[0m\u001b[1;33m\u001b[0m\u001b[0m\n\u001b[0m\u001b[0;32m   3630\u001b[0m             \u001b[1;32mexcept\u001b[0m \u001b[0mKeyError\u001b[0m \u001b[1;32mas\u001b[0m \u001b[0merr\u001b[0m\u001b[1;33m:\u001b[0m\u001b[1;33m\u001b[0m\u001b[1;33m\u001b[0m\u001b[0m\n",
      "\u001b[1;32m~\\anaconda3\\lib\\site-packages\\pandas\\_libs\\index.pyx\u001b[0m in \u001b[0;36mpandas._libs.index.IndexEngine.get_loc\u001b[1;34m()\u001b[0m\n",
      "\u001b[1;32m~\\anaconda3\\lib\\site-packages\\pandas\\_libs\\index.pyx\u001b[0m in \u001b[0;36mpandas._libs.index.IndexEngine.get_loc\u001b[1;34m()\u001b[0m\n",
      "\u001b[1;32mpandas\\_libs\\hashtable_class_helper.pxi\u001b[0m in \u001b[0;36mpandas._libs.hashtable.Int64HashTable.get_item\u001b[1;34m()\u001b[0m\n",
      "\u001b[1;32mpandas\\_libs\\hashtable_class_helper.pxi\u001b[0m in \u001b[0;36mpandas._libs.hashtable.Int64HashTable.get_item\u001b[1;34m()\u001b[0m\n",
      "\u001b[1;31mKeyError\u001b[0m: 3",
      "\nThe above exception was the direct cause of the following exception:\n",
      "\u001b[1;31mKeyError\u001b[0m                                  Traceback (most recent call last)",
      "\u001b[1;32m~\\AppData\\Local\\Temp\\ipykernel_16432\\3972340498.py\u001b[0m in \u001b[0;36m<module>\u001b[1;34m\u001b[0m\n\u001b[1;32m----> 1\u001b[1;33m \u001b[0mprint\u001b[0m\u001b[1;33m(\u001b[0m\u001b[0mz\u001b[0m\u001b[1;33m.\u001b[0m\u001b[0mloc\u001b[0m\u001b[1;33m[\u001b[0m\u001b[1;36m3\u001b[0m\u001b[1;33m]\u001b[0m\u001b[1;33m)\u001b[0m\u001b[1;33m\u001b[0m\u001b[1;33m\u001b[0m\u001b[0m\n\u001b[0m\u001b[0;32m      2\u001b[0m \u001b[0mprint\u001b[0m\u001b[1;33m(\u001b[0m\u001b[0mz\u001b[0m\u001b[1;33m.\u001b[0m\u001b[0miloc\u001b[0m\u001b[1;33m[\u001b[0m\u001b[1;36m3\u001b[0m\u001b[1;33m]\u001b[0m\u001b[1;33m)\u001b[0m\u001b[1;33m\u001b[0m\u001b[1;33m\u001b[0m\u001b[0m\n",
      "\u001b[1;32m~\\anaconda3\\lib\\site-packages\\pandas\\core\\indexing.py\u001b[0m in \u001b[0;36m__getitem__\u001b[1;34m(self, key)\u001b[0m\n\u001b[0;32m    965\u001b[0m \u001b[1;33m\u001b[0m\u001b[0m\n\u001b[0;32m    966\u001b[0m             \u001b[0mmaybe_callable\u001b[0m \u001b[1;33m=\u001b[0m \u001b[0mcom\u001b[0m\u001b[1;33m.\u001b[0m\u001b[0mapply_if_callable\u001b[0m\u001b[1;33m(\u001b[0m\u001b[0mkey\u001b[0m\u001b[1;33m,\u001b[0m \u001b[0mself\u001b[0m\u001b[1;33m.\u001b[0m\u001b[0mobj\u001b[0m\u001b[1;33m)\u001b[0m\u001b[1;33m\u001b[0m\u001b[1;33m\u001b[0m\u001b[0m\n\u001b[1;32m--> 967\u001b[1;33m             \u001b[1;32mreturn\u001b[0m \u001b[0mself\u001b[0m\u001b[1;33m.\u001b[0m\u001b[0m_getitem_axis\u001b[0m\u001b[1;33m(\u001b[0m\u001b[0mmaybe_callable\u001b[0m\u001b[1;33m,\u001b[0m \u001b[0maxis\u001b[0m\u001b[1;33m=\u001b[0m\u001b[0maxis\u001b[0m\u001b[1;33m)\u001b[0m\u001b[1;33m\u001b[0m\u001b[1;33m\u001b[0m\u001b[0m\n\u001b[0m\u001b[0;32m    968\u001b[0m \u001b[1;33m\u001b[0m\u001b[0m\n\u001b[0;32m    969\u001b[0m     \u001b[1;32mdef\u001b[0m \u001b[0m_is_scalar_access\u001b[0m\u001b[1;33m(\u001b[0m\u001b[0mself\u001b[0m\u001b[1;33m,\u001b[0m \u001b[0mkey\u001b[0m\u001b[1;33m:\u001b[0m \u001b[0mtuple\u001b[0m\u001b[1;33m)\u001b[0m\u001b[1;33m:\u001b[0m\u001b[1;33m\u001b[0m\u001b[1;33m\u001b[0m\u001b[0m\n",
      "\u001b[1;32m~\\anaconda3\\lib\\site-packages\\pandas\\core\\indexing.py\u001b[0m in \u001b[0;36m_getitem_axis\u001b[1;34m(self, key, axis)\u001b[0m\n\u001b[0;32m   1203\u001b[0m         \u001b[1;31m# fall thru to straight lookup\u001b[0m\u001b[1;33m\u001b[0m\u001b[1;33m\u001b[0m\u001b[0m\n\u001b[0;32m   1204\u001b[0m         \u001b[0mself\u001b[0m\u001b[1;33m.\u001b[0m\u001b[0m_validate_key\u001b[0m\u001b[1;33m(\u001b[0m\u001b[0mkey\u001b[0m\u001b[1;33m,\u001b[0m \u001b[0maxis\u001b[0m\u001b[1;33m)\u001b[0m\u001b[1;33m\u001b[0m\u001b[1;33m\u001b[0m\u001b[0m\n\u001b[1;32m-> 1205\u001b[1;33m         \u001b[1;32mreturn\u001b[0m \u001b[0mself\u001b[0m\u001b[1;33m.\u001b[0m\u001b[0m_get_label\u001b[0m\u001b[1;33m(\u001b[0m\u001b[0mkey\u001b[0m\u001b[1;33m,\u001b[0m \u001b[0maxis\u001b[0m\u001b[1;33m=\u001b[0m\u001b[0maxis\u001b[0m\u001b[1;33m)\u001b[0m\u001b[1;33m\u001b[0m\u001b[1;33m\u001b[0m\u001b[0m\n\u001b[0m\u001b[0;32m   1206\u001b[0m \u001b[1;33m\u001b[0m\u001b[0m\n\u001b[0;32m   1207\u001b[0m     \u001b[1;32mdef\u001b[0m \u001b[0m_get_slice_axis\u001b[0m\u001b[1;33m(\u001b[0m\u001b[0mself\u001b[0m\u001b[1;33m,\u001b[0m \u001b[0mslice_obj\u001b[0m\u001b[1;33m:\u001b[0m \u001b[0mslice\u001b[0m\u001b[1;33m,\u001b[0m \u001b[0maxis\u001b[0m\u001b[1;33m:\u001b[0m \u001b[0mint\u001b[0m\u001b[1;33m)\u001b[0m\u001b[1;33m:\u001b[0m\u001b[1;33m\u001b[0m\u001b[1;33m\u001b[0m\u001b[0m\n",
      "\u001b[1;32m~\\anaconda3\\lib\\site-packages\\pandas\\core\\indexing.py\u001b[0m in \u001b[0;36m_get_label\u001b[1;34m(self, label, axis)\u001b[0m\n\u001b[0;32m   1151\u001b[0m     \u001b[1;32mdef\u001b[0m \u001b[0m_get_label\u001b[0m\u001b[1;33m(\u001b[0m\u001b[0mself\u001b[0m\u001b[1;33m,\u001b[0m \u001b[0mlabel\u001b[0m\u001b[1;33m,\u001b[0m \u001b[0maxis\u001b[0m\u001b[1;33m:\u001b[0m \u001b[0mint\u001b[0m\u001b[1;33m)\u001b[0m\u001b[1;33m:\u001b[0m\u001b[1;33m\u001b[0m\u001b[1;33m\u001b[0m\u001b[0m\n\u001b[0;32m   1152\u001b[0m         \u001b[1;31m# GH#5667 this will fail if the label is not present in the axis.\u001b[0m\u001b[1;33m\u001b[0m\u001b[1;33m\u001b[0m\u001b[0m\n\u001b[1;32m-> 1153\u001b[1;33m         \u001b[1;32mreturn\u001b[0m \u001b[0mself\u001b[0m\u001b[1;33m.\u001b[0m\u001b[0mobj\u001b[0m\u001b[1;33m.\u001b[0m\u001b[0mxs\u001b[0m\u001b[1;33m(\u001b[0m\u001b[0mlabel\u001b[0m\u001b[1;33m,\u001b[0m \u001b[0maxis\u001b[0m\u001b[1;33m=\u001b[0m\u001b[0maxis\u001b[0m\u001b[1;33m)\u001b[0m\u001b[1;33m\u001b[0m\u001b[1;33m\u001b[0m\u001b[0m\n\u001b[0m\u001b[0;32m   1154\u001b[0m \u001b[1;33m\u001b[0m\u001b[0m\n\u001b[0;32m   1155\u001b[0m     \u001b[1;32mdef\u001b[0m \u001b[0m_handle_lowerdim_multi_index_axis0\u001b[0m\u001b[1;33m(\u001b[0m\u001b[0mself\u001b[0m\u001b[1;33m,\u001b[0m \u001b[0mtup\u001b[0m\u001b[1;33m:\u001b[0m \u001b[0mtuple\u001b[0m\u001b[1;33m)\u001b[0m\u001b[1;33m:\u001b[0m\u001b[1;33m\u001b[0m\u001b[1;33m\u001b[0m\u001b[0m\n",
      "\u001b[1;32m~\\anaconda3\\lib\\site-packages\\pandas\\core\\generic.py\u001b[0m in \u001b[0;36mxs\u001b[1;34m(self, key, axis, level, drop_level)\u001b[0m\n\u001b[0;32m   3862\u001b[0m                     \u001b[0mnew_index\u001b[0m \u001b[1;33m=\u001b[0m \u001b[0mindex\u001b[0m\u001b[1;33m[\u001b[0m\u001b[0mloc\u001b[0m\u001b[1;33m]\u001b[0m\u001b[1;33m\u001b[0m\u001b[1;33m\u001b[0m\u001b[0m\n\u001b[0;32m   3863\u001b[0m         \u001b[1;32melse\u001b[0m\u001b[1;33m:\u001b[0m\u001b[1;33m\u001b[0m\u001b[1;33m\u001b[0m\u001b[0m\n\u001b[1;32m-> 3864\u001b[1;33m             \u001b[0mloc\u001b[0m \u001b[1;33m=\u001b[0m \u001b[0mindex\u001b[0m\u001b[1;33m.\u001b[0m\u001b[0mget_loc\u001b[0m\u001b[1;33m(\u001b[0m\u001b[0mkey\u001b[0m\u001b[1;33m)\u001b[0m\u001b[1;33m\u001b[0m\u001b[1;33m\u001b[0m\u001b[0m\n\u001b[0m\u001b[0;32m   3865\u001b[0m \u001b[1;33m\u001b[0m\u001b[0m\n\u001b[0;32m   3866\u001b[0m             \u001b[1;32mif\u001b[0m \u001b[0misinstance\u001b[0m\u001b[1;33m(\u001b[0m\u001b[0mloc\u001b[0m\u001b[1;33m,\u001b[0m \u001b[0mnp\u001b[0m\u001b[1;33m.\u001b[0m\u001b[0mndarray\u001b[0m\u001b[1;33m)\u001b[0m\u001b[1;33m:\u001b[0m\u001b[1;33m\u001b[0m\u001b[1;33m\u001b[0m\u001b[0m\n",
      "\u001b[1;32m~\\anaconda3\\lib\\site-packages\\pandas\\core\\indexes\\base.py\u001b[0m in \u001b[0;36mget_loc\u001b[1;34m(self, key, method, tolerance)\u001b[0m\n\u001b[0;32m   3629\u001b[0m                 \u001b[1;32mreturn\u001b[0m \u001b[0mself\u001b[0m\u001b[1;33m.\u001b[0m\u001b[0m_engine\u001b[0m\u001b[1;33m.\u001b[0m\u001b[0mget_loc\u001b[0m\u001b[1;33m(\u001b[0m\u001b[0mcasted_key\u001b[0m\u001b[1;33m)\u001b[0m\u001b[1;33m\u001b[0m\u001b[1;33m\u001b[0m\u001b[0m\n\u001b[0;32m   3630\u001b[0m             \u001b[1;32mexcept\u001b[0m \u001b[0mKeyError\u001b[0m \u001b[1;32mas\u001b[0m \u001b[0merr\u001b[0m\u001b[1;33m:\u001b[0m\u001b[1;33m\u001b[0m\u001b[1;33m\u001b[0m\u001b[0m\n\u001b[1;32m-> 3631\u001b[1;33m                 \u001b[1;32mraise\u001b[0m \u001b[0mKeyError\u001b[0m\u001b[1;33m(\u001b[0m\u001b[0mkey\u001b[0m\u001b[1;33m)\u001b[0m \u001b[1;32mfrom\u001b[0m \u001b[0merr\u001b[0m\u001b[1;33m\u001b[0m\u001b[1;33m\u001b[0m\u001b[0m\n\u001b[0m\u001b[0;32m   3632\u001b[0m             \u001b[1;32mexcept\u001b[0m \u001b[0mTypeError\u001b[0m\u001b[1;33m:\u001b[0m\u001b[1;33m\u001b[0m\u001b[1;33m\u001b[0m\u001b[0m\n\u001b[0;32m   3633\u001b[0m                 \u001b[1;31m# If we have a listlike key, _check_indexing_error will raise\u001b[0m\u001b[1;33m\u001b[0m\u001b[1;33m\u001b[0m\u001b[0m\n",
      "\u001b[1;31mKeyError\u001b[0m: 3"
     ]
    }
   ],
   "source": [
    "print(z.loc[3])\n",
    "print(z.iloc[3])"
   ]
  },
  {
   "cell_type": "markdown",
   "metadata": {},
   "source": [
    "We see that index of a pandas series is not necessarily the same as the index giving the position in the current series.\n",
    "\n",
    "The index of a series is something that we can specify when we construct the series. \n",
    "\n",
    "If no index is entered, then the default is to take the index to be the integer sequence 0,...,n-1"
   ]
  },
  {
   "cell_type": "code",
   "execution_count": 28,
   "metadata": {},
   "outputs": [
    {
     "name": "stdout",
     "output_type": "stream",
     "text": [
      "0    1.4\n",
      "1    2.5\n",
      "2    6.9\n",
      "3    7.4\n",
      "4    1.2\n",
      "5    9.1\n",
      "6    3.5\n",
      "dtype: float64\n"
     ]
    }
   ],
   "source": [
    "import pandas as pd\n",
    "x=pd.Series([1.4,2.5,6.9,7.4,1.2,9.1,3.5])\n",
    "print(x)"
   ]
  },
  {
   "cell_type": "code",
   "execution_count": 29,
   "metadata": {},
   "outputs": [
    {
     "name": "stdout",
     "output_type": "stream",
     "text": [
      "d    1.4\n",
      "g    2.5\n",
      "g    6.9\n",
      "g    7.4\n",
      "a    1.2\n",
      "b    9.1\n",
      "x    3.5\n",
      "dtype: float64\n",
      "Index(['d', 'g', 'g', 'g', 'a', 'b', 'x'], dtype='object')\n"
     ]
    }
   ],
   "source": [
    "import pandas as pd\n",
    "x=pd.Series([1.4,2.5,6.9,7.4,1.2,9.1,3.5],index=['d','g','g','g','a','b','x'])\n",
    "print(x)\n",
    "print(x.index)"
   ]
  },
  {
   "cell_type": "code",
   "execution_count": 30,
   "metadata": {},
   "outputs": [
    {
     "data": {
      "text/plain": [
       "g    2.5\n",
       "g    6.9\n",
       "g    7.4\n",
       "dtype: float64"
      ]
     },
     "execution_count": 30,
     "metadata": {},
     "output_type": "execute_result"
    }
   ],
   "source": [
    "x['g']"
   ]
  },
  {
   "cell_type": "markdown",
   "metadata": {},
   "source": [
    "The index gives us another means of selecting elements."
   ]
  },
  {
   "cell_type": "code",
   "execution_count": 31,
   "metadata": {},
   "outputs": [
    {
     "name": "stdout",
     "output_type": "stream",
     "text": [
      "d    1.4\n",
      "g    2.5\n",
      "h    6.9\n",
      "k    7.4\n",
      "d    1.2\n",
      "b    9.1\n",
      "x    3.5\n",
      "dtype: float64\n",
      "d    1.4\n",
      "d    1.2\n",
      "dtype: float64\n",
      "d    1.4\n",
      "d    1.2\n",
      "h    6.9\n",
      "b    9.1\n",
      "d    1.4\n",
      "d    1.2\n",
      "dtype: float64\n"
     ]
    }
   ],
   "source": [
    "import pandas as pd\n",
    "x=pd.Series([1.4,2.5,6.9,7.4,1.2,9.1,3.5],index=['d','g','h','k','d','b','x'])\n",
    "\n",
    "print(x)\n",
    "print(x['d'])\n",
    "print(x[['d','h','b','d']])"
   ]
  },
  {
   "cell_type": "markdown",
   "metadata": {},
   "source": [
    "**Assignment**\n",
    "\n",
    "We can select and assign new values."
   ]
  },
  {
   "cell_type": "code",
   "execution_count": 32,
   "metadata": {},
   "outputs": [
    {
     "name": "stdout",
     "output_type": "stream",
     "text": [
      "d    1.4\n",
      "g    2.5\n",
      "h    6.9\n",
      "k    7.4\n",
      "a    1.2\n",
      "d    9.1\n",
      "x    3.5\n",
      "dtype: float64\n",
      "d    2.9\n",
      "g    2.5\n",
      "h    6.9\n",
      "k    7.4\n",
      "a    1.2\n",
      "d    2.9\n",
      "x    3.5\n",
      "dtype: float64\n",
      "d    4.5\n",
      "g    2.5\n",
      "h    6.9\n",
      "k    7.4\n",
      "a    1.2\n",
      "d    4.5\n",
      "x    3.5\n",
      "dtype: float64\n"
     ]
    }
   ],
   "source": [
    "import pandas as pd\n",
    "x=pd.Series([1.4,2.5,6.9,7.4,1.2,9.1,3.5],index=['d','g','h','k','a','d','x'])\n",
    "print(x)\n",
    "x['d']=2.9\n",
    "print(x)\n",
    "x.loc['d']=4.5\n",
    "print(x)"
   ]
  },
  {
   "cell_type": "code",
   "execution_count": 33,
   "metadata": {},
   "outputs": [
    {
     "name": "stdout",
     "output_type": "stream",
     "text": [
      "d    1.4\n",
      "g    2.5\n",
      "h    6.9\n",
      "k    7.4\n",
      "a    1.2\n",
      "b    9.1\n",
      "x    3.5\n",
      "dtype: float64\n",
      "7.4\n",
      "d     1.4\n",
      "g    24.0\n",
      "h    24.0\n",
      "k     7.4\n",
      "a    24.0\n",
      "b     9.1\n",
      "x     3.5\n",
      "dtype: float64\n"
     ]
    }
   ],
   "source": [
    "import pandas as pd\n",
    "x=pd.Series([1.4,2.5,6.9,7.4,1.2,9.1,3.5],index=['d','g','h','k','a','b','x'])\n",
    "print(x)\n",
    "print(x.iloc[3])\n",
    "x.iloc[[1,2,4]]=24.\n",
    "print(x)"
   ]
  },
  {
   "cell_type": "markdown",
   "metadata": {},
   "source": [
    "**Copying**\n",
    "\n",
    "As usual, be aware of the effect of changing an object when it is not a \"copy\"."
   ]
  },
  {
   "cell_type": "code",
   "execution_count": 34,
   "metadata": {},
   "outputs": [
    {
     "name": "stdout",
     "output_type": "stream",
     "text": [
      "0    4.5\n",
      "1    3.1\n",
      "2    2.9\n",
      "dtype: float64\n",
      "0     4.5\n",
      "1    10.3\n",
      "2     2.9\n",
      "dtype: float64\n",
      "0     4.5\n",
      "1    10.3\n",
      "2     2.9\n",
      "dtype: float64\n"
     ]
    }
   ],
   "source": [
    "import pandas as pd\n",
    "x=pd.Series([4.5,3.1,2.9])\n",
    "print(x)\n",
    "y=x\n",
    "y[1]=10.3\n",
    "print(y)\n",
    "print(x)"
   ]
  },
  {
   "cell_type": "code",
   "execution_count": 35,
   "metadata": {},
   "outputs": [
    {
     "name": "stdout",
     "output_type": "stream",
     "text": [
      "0     4.5\n",
      "1    10.3\n",
      "2     2.9\n",
      "dtype: float64\n",
      "0    4.5\n",
      "1    3.1\n",
      "2    2.9\n",
      "dtype: float64\n"
     ]
    }
   ],
   "source": [
    "import pandas as pd\n",
    "x=pd.Series([4.5,3.1,2.9])\n",
    "y=x.copy()\n",
    "y[1]=10.3\n",
    "print(y)\n",
    "print(x)"
   ]
  },
  {
   "cell_type": "markdown",
   "metadata": {},
   "source": [
    "**Assigning a new index**\n",
    "\n",
    "We can assign a new index to a series."
   ]
  },
  {
   "cell_type": "code",
   "execution_count": 36,
   "metadata": {},
   "outputs": [
    {
     "name": "stdout",
     "output_type": "stream",
     "text": [
      "d    1.4\n",
      "g    2.5\n",
      "h    6.9\n",
      "k    7.4\n",
      "a    1.2\n",
      "b    9.1\n",
      "x    3.5\n",
      "dtype: float64\n",
      "o    1.4\n",
      "p    2.5\n",
      "q    6.9\n",
      "r    7.4\n",
      "s    1.2\n",
      "t    9.1\n",
      "u    3.5\n",
      "dtype: float64\n"
     ]
    }
   ],
   "source": [
    "import pandas as pd\n",
    "x=pd.Series([1.4,2.5,6.9,7.4,1.2,9.1,3.5],index=['d','g','h','k','a','b','x'])\n",
    "print(x)\n",
    "x.index=['o','p','q','r','s','t','u']\n",
    "print(x)"
   ]
  },
  {
   "cell_type": "markdown",
   "metadata": {},
   "source": [
    "And an index can hold different types of objects."
   ]
  },
  {
   "cell_type": "code",
   "execution_count": 37,
   "metadata": {},
   "outputs": [
    {
     "name": "stdout",
     "output_type": "stream",
     "text": [
      "{'dog': 3, 'cat': 2}    1.4\n",
      "7                       2.5\n",
      "d                       6.9\n",
      "[1, 2, 3]               7.4\n",
      "(8, 9)                  1.2\n",
      "b                       9.1\n",
      "x                       3.5\n",
      "dtype: float64\n"
     ]
    }
   ],
   "source": [
    "import pandas as pd\n",
    "d={'dog':3,'cat':2}\n",
    "L=[1,2,3]\n",
    "r=(8,9)\n",
    "x=pd.Series([1.4,2.5,6.9,7.4,1.2,9.1,3.5],index=[d,7,'d',L,r,'b','x'])\n",
    "print(x)"
   ]
  },
  {
   "cell_type": "markdown",
   "metadata": {},
   "source": [
    "Another way to construct a pandas series is by using a dictionary. When we do this, the index is defined from the keys."
   ]
  },
  {
   "cell_type": "code",
   "execution_count": 38,
   "metadata": {},
   "outputs": [
    {
     "name": "stdout",
     "output_type": "stream",
     "text": [
      "a    1.3\n",
      "b    4.5\n",
      "c    9.1\n",
      "d    3.4\n",
      "e    2.5\n",
      "f    8.1\n",
      "dtype: float64\n"
     ]
    }
   ],
   "source": [
    "import pandas as pd\n",
    "d={'a':1.3,'b':4.5,'c':9.1,'d':3.4,'e':2.5,'f':8.1}\n",
    "x=pd.Series(d)\n",
    "print(x)"
   ]
  },
  {
   "cell_type": "markdown",
   "metadata": {},
   "source": [
    "**Pandas Series Data Type**\n",
    "\n",
    "The values in a series can be one of the following types:\n",
    "\n",
    "object = any type\n",
    "\n",
    "int64 = integers\n",
    "\n",
    "float64 = float\n",
    "\n",
    "bool = Boolean\n",
    "\n",
    "datetime64 = date/time"
   ]
  },
  {
   "cell_type": "code",
   "execution_count": 43,
   "metadata": {},
   "outputs": [
    {
     "name": "stdout",
     "output_type": "stream",
     "text": [
      "(6,)\n"
     ]
    }
   ],
   "source": [
    "import pandas as pd\n",
    "import datetime\n",
    "d={\"a\":1,\"b\":2}\n",
    "e={\"f\":3,\"g\":4}\n",
    "L=[1,3,5,6]\n",
    "f=datetime.datetime.today()\n",
    "g=(1,2,3)\n",
    "h=set([2,3])\n",
    "#y=pd.Series([4.,5.,6.])\n",
    "x=pd.Series([d,e,L,f,g,h])\n",
    "print(x.shape)"
   ]
  },
  {
   "cell_type": "code",
   "execution_count": 45,
   "metadata": {},
   "outputs": [
    {
     "name": "stdout",
     "output_type": "stream",
     "text": [
      "0              {'a': 1, 'b': 2}\n",
      "1              {'f': 3, 'g': 4}\n",
      "2                  [1, 3, 5, 6]\n",
      "3    2023-04-04 15:55:44.641844\n",
      "4                     (1, 2, 3)\n",
      "5                        {2, 3}\n",
      "dtype: object\n",
      "object\n",
      "<class 'dict'>\n",
      "<class 'dict'>\n",
      "<class 'list'>\n",
      "<class 'datetime.datetime'>\n",
      "<class 'tuple'>\n"
     ]
    }
   ],
   "source": [
    "print(x)\n",
    "print(x.dtype)\n",
    "print(type(x[0]))\n",
    "print(type(x[1]))\n",
    "print(type(x[2]))\n",
    "print(type(x[3]))\n",
    "print(type(x[4]))"
   ]
  },
  {
   "cell_type": "markdown",
   "metadata": {},
   "source": [
    "A typical example is storage of a series of strings. Here, to do this in a pandas series, we need to use an object dtype."
   ]
  },
  {
   "cell_type": "code",
   "execution_count": 46,
   "metadata": {},
   "outputs": [
    {
     "name": "stdout",
     "output_type": "stream",
     "text": [
      "0    3.14159\n",
      "1    2.71282\n",
      "dtype: object\n"
     ]
    }
   ],
   "source": [
    "numbers=pd.Series(['3.14159','2.71282'])\n",
    "print(numbers)"
   ]
  },
  {
   "cell_type": "code",
   "execution_count": 47,
   "metadata": {},
   "outputs": [
    {
     "name": "stdout",
     "output_type": "stream",
     "text": [
      "0    04/12/1955\n",
      "1    09/06/1921\n",
      "2    08/13/1925\n",
      "3    12/15/1958\n",
      "dtype: object\n",
      "<class 'str'>\n"
     ]
    }
   ],
   "source": [
    "dates=pd.Series(['04/12/1955','09/06/1921','08/13/1925','12/15/1958'])\n",
    "print(dates)\n",
    "print(type(dates[0]))"
   ]
  },
  {
   "cell_type": "code",
   "execution_count": null,
   "metadata": {},
   "outputs": [],
   "source": [
    "pd.Series([1.,2.,3.,4.])"
   ]
  },
  {
   "cell_type": "code",
   "execution_count": null,
   "metadata": {},
   "outputs": [],
   "source": [
    "pd.Series([True,False])"
   ]
  },
  {
   "cell_type": "markdown",
   "metadata": {},
   "source": [
    "Then a common task is conversion to a dtype that is appropriate."
   ]
  },
  {
   "cell_type": "code",
   "execution_count": 48,
   "metadata": {},
   "outputs": [
    {
     "data": {
      "text/plain": [
       "0    3.14159\n",
       "1    2.71282\n",
       "dtype: float64"
      ]
     },
     "execution_count": 48,
     "metadata": {},
     "output_type": "execute_result"
    }
   ],
   "source": [
    "numbers.astype('float')"
   ]
  },
  {
   "cell_type": "code",
   "execution_count": null,
   "metadata": {},
   "outputs": [],
   "source": [
    "?numbers.astype\n"
   ]
  },
  {
   "cell_type": "markdown",
   "metadata": {},
   "source": [
    "Conversion from strings to date time object is straightforward."
   ]
  },
  {
   "cell_type": "code",
   "execution_count": 49,
   "metadata": {},
   "outputs": [
    {
     "name": "stdout",
     "output_type": "stream",
     "text": [
      "0    04/12/1955\n",
      "1    09/06/1921\n",
      "2    08/13/1925\n",
      "3    12/15/1958\n",
      "dtype: object\n"
     ]
    },
    {
     "data": {
      "text/plain": [
       "0   1955-04-12\n",
       "1   1921-09-06\n",
       "2   1925-08-13\n",
       "3   1958-12-15\n",
       "dtype: datetime64[ns]"
      ]
     },
     "execution_count": 49,
     "metadata": {},
     "output_type": "execute_result"
    }
   ],
   "source": [
    "# import pandas as pd\n",
    "print(dates)\n",
    "pd.to_datetime(dates)"
   ]
  },
  {
   "cell_type": "markdown",
   "metadata": {},
   "source": [
    "But what if an unusual format is used for the dates? Pandas has some default formats it tries to match."
   ]
  },
  {
   "cell_type": "code",
   "execution_count": 50,
   "metadata": {},
   "outputs": [
    {
     "data": {
      "text/plain": [
       "0   1955-04-12\n",
       "1   1921-09-06\n",
       "2   1925-08-13\n",
       "3   1958-12-15\n",
       "dtype: datetime64[ns]"
      ]
     },
     "execution_count": 50,
     "metadata": {},
     "output_type": "execute_result"
    }
   ],
   "source": [
    "import pandas as pd\n",
    "dates=pd.Series(['1955/04/12','1921/09/06','1925/08/13','1958/12/15'])\n",
    "pd.to_datetime(dates)"
   ]
  },
  {
   "cell_type": "code",
   "execution_count": 51,
   "metadata": {},
   "outputs": [
    {
     "ename": "ParserError",
     "evalue": "Unknown string format: 1955_04_12",
     "output_type": "error",
     "traceback": [
      "\u001b[1;31m---------------------------------------------------------------------------\u001b[0m",
      "\u001b[1;31mTypeError\u001b[0m                                 Traceback (most recent call last)",
      "\u001b[1;32m~\\anaconda3\\lib\\site-packages\\pandas\\core\\arrays\\datetimes.py\u001b[0m in \u001b[0;36mobjects_to_datetime64ns\u001b[1;34m(data, dayfirst, yearfirst, utc, errors, require_iso8601, allow_object, allow_mixed)\u001b[0m\n\u001b[0;32m   2235\u001b[0m         \u001b[1;32mtry\u001b[0m\u001b[1;33m:\u001b[0m\u001b[1;33m\u001b[0m\u001b[1;33m\u001b[0m\u001b[0m\n\u001b[1;32m-> 2236\u001b[1;33m             \u001b[0mvalues\u001b[0m\u001b[1;33m,\u001b[0m \u001b[0mtz_parsed\u001b[0m \u001b[1;33m=\u001b[0m \u001b[0mconversion\u001b[0m\u001b[1;33m.\u001b[0m\u001b[0mdatetime_to_datetime64\u001b[0m\u001b[1;33m(\u001b[0m\u001b[0mdata\u001b[0m\u001b[1;33m.\u001b[0m\u001b[0mravel\u001b[0m\u001b[1;33m(\u001b[0m\u001b[1;34m\"K\"\u001b[0m\u001b[1;33m)\u001b[0m\u001b[1;33m)\u001b[0m\u001b[1;33m\u001b[0m\u001b[1;33m\u001b[0m\u001b[0m\n\u001b[0m\u001b[0;32m   2237\u001b[0m             \u001b[1;31m# If tzaware, these values represent unix timestamps, so we\u001b[0m\u001b[1;33m\u001b[0m\u001b[1;33m\u001b[0m\u001b[0m\n",
      "\u001b[1;32m~\\anaconda3\\lib\\site-packages\\pandas\\_libs\\tslibs\\conversion.pyx\u001b[0m in \u001b[0;36mpandas._libs.tslibs.conversion.datetime_to_datetime64\u001b[1;34m()\u001b[0m\n",
      "\u001b[1;31mTypeError\u001b[0m: Unrecognized value type: <class 'str'>",
      "\nDuring handling of the above exception, another exception occurred:\n",
      "\u001b[1;31mParserError\u001b[0m                               Traceback (most recent call last)",
      "\u001b[1;32m~\\AppData\\Local\\Temp\\ipykernel_16432\\3326751808.py\u001b[0m in \u001b[0;36m<module>\u001b[1;34m\u001b[0m\n\u001b[0;32m      1\u001b[0m \u001b[0mdates\u001b[0m\u001b[1;33m=\u001b[0m\u001b[0mpd\u001b[0m\u001b[1;33m.\u001b[0m\u001b[0mSeries\u001b[0m\u001b[1;33m(\u001b[0m\u001b[1;33m[\u001b[0m\u001b[1;34m'1955_04_12'\u001b[0m\u001b[1;33m,\u001b[0m\u001b[1;34m'1921_09_06'\u001b[0m\u001b[1;33m,\u001b[0m\u001b[1;34m'1925_08_13'\u001b[0m\u001b[1;33m,\u001b[0m\u001b[1;34m'1958_12_15'\u001b[0m\u001b[1;33m]\u001b[0m\u001b[1;33m)\u001b[0m\u001b[1;33m\u001b[0m\u001b[1;33m\u001b[0m\u001b[0m\n\u001b[1;32m----> 2\u001b[1;33m \u001b[0mpd\u001b[0m\u001b[1;33m.\u001b[0m\u001b[0mto_datetime\u001b[0m\u001b[1;33m(\u001b[0m\u001b[0mdates\u001b[0m\u001b[1;33m)\u001b[0m\u001b[1;33m\u001b[0m\u001b[1;33m\u001b[0m\u001b[0m\n\u001b[0m",
      "\u001b[1;32m~\\anaconda3\\lib\\site-packages\\pandas\\core\\tools\\datetimes.py\u001b[0m in \u001b[0;36mto_datetime\u001b[1;34m(arg, errors, dayfirst, yearfirst, utc, format, exact, unit, infer_datetime_format, origin, cache)\u001b[0m\n\u001b[0;32m   1049\u001b[0m             \u001b[0mresult\u001b[0m \u001b[1;33m=\u001b[0m \u001b[0marg\u001b[0m\u001b[1;33m.\u001b[0m\u001b[0mmap\u001b[0m\u001b[1;33m(\u001b[0m\u001b[0mcache_array\u001b[0m\u001b[1;33m)\u001b[0m\u001b[1;33m\u001b[0m\u001b[1;33m\u001b[0m\u001b[0m\n\u001b[0;32m   1050\u001b[0m         \u001b[1;32melse\u001b[0m\u001b[1;33m:\u001b[0m\u001b[1;33m\u001b[0m\u001b[1;33m\u001b[0m\u001b[0m\n\u001b[1;32m-> 1051\u001b[1;33m             \u001b[0mvalues\u001b[0m \u001b[1;33m=\u001b[0m \u001b[0mconvert_listlike\u001b[0m\u001b[1;33m(\u001b[0m\u001b[0marg\u001b[0m\u001b[1;33m.\u001b[0m\u001b[0m_values\u001b[0m\u001b[1;33m,\u001b[0m \u001b[0mformat\u001b[0m\u001b[1;33m)\u001b[0m\u001b[1;33m\u001b[0m\u001b[1;33m\u001b[0m\u001b[0m\n\u001b[0m\u001b[0;32m   1052\u001b[0m             \u001b[0mresult\u001b[0m \u001b[1;33m=\u001b[0m \u001b[0marg\u001b[0m\u001b[1;33m.\u001b[0m\u001b[0m_constructor\u001b[0m\u001b[1;33m(\u001b[0m\u001b[0mvalues\u001b[0m\u001b[1;33m,\u001b[0m \u001b[0mindex\u001b[0m\u001b[1;33m=\u001b[0m\u001b[0marg\u001b[0m\u001b[1;33m.\u001b[0m\u001b[0mindex\u001b[0m\u001b[1;33m,\u001b[0m \u001b[0mname\u001b[0m\u001b[1;33m=\u001b[0m\u001b[0marg\u001b[0m\u001b[1;33m.\u001b[0m\u001b[0mname\u001b[0m\u001b[1;33m)\u001b[0m\u001b[1;33m\u001b[0m\u001b[1;33m\u001b[0m\u001b[0m\n\u001b[0;32m   1053\u001b[0m     \u001b[1;32melif\u001b[0m \u001b[0misinstance\u001b[0m\u001b[1;33m(\u001b[0m\u001b[0marg\u001b[0m\u001b[1;33m,\u001b[0m \u001b[1;33m(\u001b[0m\u001b[0mABCDataFrame\u001b[0m\u001b[1;33m,\u001b[0m \u001b[0mabc\u001b[0m\u001b[1;33m.\u001b[0m\u001b[0mMutableMapping\u001b[0m\u001b[1;33m)\u001b[0m\u001b[1;33m)\u001b[0m\u001b[1;33m:\u001b[0m\u001b[1;33m\u001b[0m\u001b[1;33m\u001b[0m\u001b[0m\n",
      "\u001b[1;32m~\\anaconda3\\lib\\site-packages\\pandas\\core\\tools\\datetimes.py\u001b[0m in \u001b[0;36m_convert_listlike_datetimes\u001b[1;34m(arg, format, name, tz, unit, errors, infer_datetime_format, dayfirst, yearfirst, exact)\u001b[0m\n\u001b[0;32m    400\u001b[0m     \u001b[1;32massert\u001b[0m \u001b[0mformat\u001b[0m \u001b[1;32mis\u001b[0m \u001b[1;32mNone\u001b[0m \u001b[1;32mor\u001b[0m \u001b[0minfer_datetime_format\u001b[0m\u001b[1;33m\u001b[0m\u001b[1;33m\u001b[0m\u001b[0m\n\u001b[0;32m    401\u001b[0m     \u001b[0mutc\u001b[0m \u001b[1;33m=\u001b[0m \u001b[0mtz\u001b[0m \u001b[1;33m==\u001b[0m \u001b[1;34m\"utc\"\u001b[0m\u001b[1;33m\u001b[0m\u001b[1;33m\u001b[0m\u001b[0m\n\u001b[1;32m--> 402\u001b[1;33m     result, tz_parsed = objects_to_datetime64ns(\n\u001b[0m\u001b[0;32m    403\u001b[0m         \u001b[0marg\u001b[0m\u001b[1;33m,\u001b[0m\u001b[1;33m\u001b[0m\u001b[1;33m\u001b[0m\u001b[0m\n\u001b[0;32m    404\u001b[0m         \u001b[0mdayfirst\u001b[0m\u001b[1;33m=\u001b[0m\u001b[0mdayfirst\u001b[0m\u001b[1;33m,\u001b[0m\u001b[1;33m\u001b[0m\u001b[1;33m\u001b[0m\u001b[0m\n",
      "\u001b[1;32m~\\anaconda3\\lib\\site-packages\\pandas\\core\\arrays\\datetimes.py\u001b[0m in \u001b[0;36mobjects_to_datetime64ns\u001b[1;34m(data, dayfirst, yearfirst, utc, errors, require_iso8601, allow_object, allow_mixed)\u001b[0m\n\u001b[0;32m   2240\u001b[0m             \u001b[1;32mreturn\u001b[0m \u001b[0mvalues\u001b[0m\u001b[1;33m.\u001b[0m\u001b[0mview\u001b[0m\u001b[1;33m(\u001b[0m\u001b[1;34m\"i8\"\u001b[0m\u001b[1;33m)\u001b[0m\u001b[1;33m,\u001b[0m \u001b[0mtz_parsed\u001b[0m\u001b[1;33m\u001b[0m\u001b[1;33m\u001b[0m\u001b[0m\n\u001b[0;32m   2241\u001b[0m         \u001b[1;32mexcept\u001b[0m \u001b[1;33m(\u001b[0m\u001b[0mValueError\u001b[0m\u001b[1;33m,\u001b[0m \u001b[0mTypeError\u001b[0m\u001b[1;33m)\u001b[0m\u001b[1;33m:\u001b[0m\u001b[1;33m\u001b[0m\u001b[1;33m\u001b[0m\u001b[0m\n\u001b[1;32m-> 2242\u001b[1;33m             \u001b[1;32mraise\u001b[0m \u001b[0merr\u001b[0m\u001b[1;33m\u001b[0m\u001b[1;33m\u001b[0m\u001b[0m\n\u001b[0m\u001b[0;32m   2243\u001b[0m \u001b[1;33m\u001b[0m\u001b[0m\n\u001b[0;32m   2244\u001b[0m     \u001b[1;32mif\u001b[0m \u001b[0mtz_parsed\u001b[0m \u001b[1;32mis\u001b[0m \u001b[1;32mnot\u001b[0m \u001b[1;32mNone\u001b[0m\u001b[1;33m:\u001b[0m\u001b[1;33m\u001b[0m\u001b[1;33m\u001b[0m\u001b[0m\n",
      "\u001b[1;32m~\\anaconda3\\lib\\site-packages\\pandas\\core\\arrays\\datetimes.py\u001b[0m in \u001b[0;36mobjects_to_datetime64ns\u001b[1;34m(data, dayfirst, yearfirst, utc, errors, require_iso8601, allow_object, allow_mixed)\u001b[0m\n\u001b[0;32m   2222\u001b[0m     \u001b[0morder\u001b[0m\u001b[1;33m:\u001b[0m \u001b[0mLiteral\u001b[0m\u001b[1;33m[\u001b[0m\u001b[1;34m\"F\"\u001b[0m\u001b[1;33m,\u001b[0m \u001b[1;34m\"C\"\u001b[0m\u001b[1;33m]\u001b[0m \u001b[1;33m=\u001b[0m \u001b[1;34m\"F\"\u001b[0m \u001b[1;32mif\u001b[0m \u001b[0mflags\u001b[0m\u001b[1;33m.\u001b[0m\u001b[0mf_contiguous\u001b[0m \u001b[1;32melse\u001b[0m \u001b[1;34m\"C\"\u001b[0m\u001b[1;33m\u001b[0m\u001b[1;33m\u001b[0m\u001b[0m\n\u001b[0;32m   2223\u001b[0m     \u001b[1;32mtry\u001b[0m\u001b[1;33m:\u001b[0m\u001b[1;33m\u001b[0m\u001b[1;33m\u001b[0m\u001b[0m\n\u001b[1;32m-> 2224\u001b[1;33m         result, tz_parsed = tslib.array_to_datetime(\n\u001b[0m\u001b[0;32m   2225\u001b[0m             \u001b[0mdata\u001b[0m\u001b[1;33m.\u001b[0m\u001b[0mravel\u001b[0m\u001b[1;33m(\u001b[0m\u001b[1;34m\"K\"\u001b[0m\u001b[1;33m)\u001b[0m\u001b[1;33m,\u001b[0m\u001b[1;33m\u001b[0m\u001b[1;33m\u001b[0m\u001b[0m\n\u001b[0;32m   2226\u001b[0m             \u001b[0merrors\u001b[0m\u001b[1;33m=\u001b[0m\u001b[0merrors\u001b[0m\u001b[1;33m,\u001b[0m\u001b[1;33m\u001b[0m\u001b[1;33m\u001b[0m\u001b[0m\n",
      "\u001b[1;32m~\\anaconda3\\lib\\site-packages\\pandas\\_libs\\tslib.pyx\u001b[0m in \u001b[0;36mpandas._libs.tslib.array_to_datetime\u001b[1;34m()\u001b[0m\n",
      "\u001b[1;32m~\\anaconda3\\lib\\site-packages\\pandas\\_libs\\tslib.pyx\u001b[0m in \u001b[0;36mpandas._libs.tslib.array_to_datetime\u001b[1;34m()\u001b[0m\n",
      "\u001b[1;32m~\\anaconda3\\lib\\site-packages\\pandas\\_libs\\tslib.pyx\u001b[0m in \u001b[0;36mpandas._libs.tslib._array_to_datetime_object\u001b[1;34m()\u001b[0m\n",
      "\u001b[1;32m~\\anaconda3\\lib\\site-packages\\pandas\\_libs\\tslib.pyx\u001b[0m in \u001b[0;36mpandas._libs.tslib._array_to_datetime_object\u001b[1;34m()\u001b[0m\n",
      "\u001b[1;32m~\\anaconda3\\lib\\site-packages\\pandas\\_libs\\tslibs\\parsing.pyx\u001b[0m in \u001b[0;36mpandas._libs.tslibs.parsing.parse_datetime_string\u001b[1;34m()\u001b[0m\n",
      "\u001b[1;32m~\\anaconda3\\lib\\site-packages\\dateutil\\parser\\_parser.py\u001b[0m in \u001b[0;36mparse\u001b[1;34m(timestr, parserinfo, **kwargs)\u001b[0m\n\u001b[0;32m   1366\u001b[0m         \u001b[1;32mreturn\u001b[0m \u001b[0mparser\u001b[0m\u001b[1;33m(\u001b[0m\u001b[0mparserinfo\u001b[0m\u001b[1;33m)\u001b[0m\u001b[1;33m.\u001b[0m\u001b[0mparse\u001b[0m\u001b[1;33m(\u001b[0m\u001b[0mtimestr\u001b[0m\u001b[1;33m,\u001b[0m \u001b[1;33m**\u001b[0m\u001b[0mkwargs\u001b[0m\u001b[1;33m)\u001b[0m\u001b[1;33m\u001b[0m\u001b[1;33m\u001b[0m\u001b[0m\n\u001b[0;32m   1367\u001b[0m     \u001b[1;32melse\u001b[0m\u001b[1;33m:\u001b[0m\u001b[1;33m\u001b[0m\u001b[1;33m\u001b[0m\u001b[0m\n\u001b[1;32m-> 1368\u001b[1;33m         \u001b[1;32mreturn\u001b[0m \u001b[0mDEFAULTPARSER\u001b[0m\u001b[1;33m.\u001b[0m\u001b[0mparse\u001b[0m\u001b[1;33m(\u001b[0m\u001b[0mtimestr\u001b[0m\u001b[1;33m,\u001b[0m \u001b[1;33m**\u001b[0m\u001b[0mkwargs\u001b[0m\u001b[1;33m)\u001b[0m\u001b[1;33m\u001b[0m\u001b[1;33m\u001b[0m\u001b[0m\n\u001b[0m\u001b[0;32m   1369\u001b[0m \u001b[1;33m\u001b[0m\u001b[0m\n\u001b[0;32m   1370\u001b[0m \u001b[1;33m\u001b[0m\u001b[0m\n",
      "\u001b[1;32m~\\anaconda3\\lib\\site-packages\\dateutil\\parser\\_parser.py\u001b[0m in \u001b[0;36mparse\u001b[1;34m(self, timestr, default, ignoretz, tzinfos, **kwargs)\u001b[0m\n\u001b[0;32m    641\u001b[0m \u001b[1;33m\u001b[0m\u001b[0m\n\u001b[0;32m    642\u001b[0m         \u001b[1;32mif\u001b[0m \u001b[0mres\u001b[0m \u001b[1;32mis\u001b[0m \u001b[1;32mNone\u001b[0m\u001b[1;33m:\u001b[0m\u001b[1;33m\u001b[0m\u001b[1;33m\u001b[0m\u001b[0m\n\u001b[1;32m--> 643\u001b[1;33m             \u001b[1;32mraise\u001b[0m \u001b[0mParserError\u001b[0m\u001b[1;33m(\u001b[0m\u001b[1;34m\"Unknown string format: %s\"\u001b[0m\u001b[1;33m,\u001b[0m \u001b[0mtimestr\u001b[0m\u001b[1;33m)\u001b[0m\u001b[1;33m\u001b[0m\u001b[1;33m\u001b[0m\u001b[0m\n\u001b[0m\u001b[0;32m    644\u001b[0m \u001b[1;33m\u001b[0m\u001b[0m\n\u001b[0;32m    645\u001b[0m         \u001b[1;32mif\u001b[0m \u001b[0mlen\u001b[0m\u001b[1;33m(\u001b[0m\u001b[0mres\u001b[0m\u001b[1;33m)\u001b[0m \u001b[1;33m==\u001b[0m \u001b[1;36m0\u001b[0m\u001b[1;33m:\u001b[0m\u001b[1;33m\u001b[0m\u001b[1;33m\u001b[0m\u001b[0m\n",
      "\u001b[1;31mParserError\u001b[0m: Unknown string format: 1955_04_12"
     ]
    }
   ],
   "source": [
    "dates=pd.Series(['1955_04_12','1921_09_06','1925_08_13','1958_12_15'])\n",
    "pd.to_datetime(dates)"
   ]
  },
  {
   "cell_type": "markdown",
   "metadata": {},
   "source": [
    "When conversion using a provided converter is not available, we can write our own converter and use the apply method."
   ]
  },
  {
   "cell_type": "code",
   "execution_count": 52,
   "metadata": {},
   "outputs": [
    {
     "data": {
      "text/plain": [
       "datetime.date(1955, 4, 12)"
      ]
     },
     "execution_count": 52,
     "metadata": {},
     "output_type": "execute_result"
    }
   ],
   "source": [
    "import datetime\n",
    "def my_str_to_date(dstr):\n",
    "    return(datetime.datetime.strptime(dstr,\"%Y_%m_%d\").date())\n",
    "my_str_to_date(\"1955_04_12\")"
   ]
  },
  {
   "cell_type": "code",
   "execution_count": 53,
   "metadata": {},
   "outputs": [
    {
     "name": "stdout",
     "output_type": "stream",
     "text": [
      "0    1955-04-12\n",
      "1    1921-09-06\n",
      "2    1925-08-13\n",
      "3    1958-12-15\n",
      "dtype: object\n",
      "<class 'datetime.date'>\n"
     ]
    }
   ],
   "source": [
    "dates=pd.Series(['1955_04_12','1921_09_06','1925_08_13','1958_12_15'])\n",
    "dates2=dates.apply(my_str_to_date)\n",
    "print(dates2)\n",
    "print(type(dates2[0]))"
   ]
  },
  {
   "cell_type": "markdown",
   "metadata": {},
   "source": [
    "We still get an object but this can be converted using the _to\\_datetime_ method"
   ]
  },
  {
   "cell_type": "code",
   "execution_count": 34,
   "metadata": {},
   "outputs": [
    {
     "data": {
      "text/plain": [
       "0   1955-04-12\n",
       "1   1921-09-06\n",
       "2   1925-08-13\n",
       "3   1958-12-15\n",
       "dtype: datetime64[ns]"
      ]
     },
     "execution_count": 34,
     "metadata": {},
     "output_type": "execute_result"
    }
   ],
   "source": [
    "pd.to_datetime(dates2)"
   ]
  },
  {
   "cell_type": "markdown",
   "metadata": {},
   "source": [
    "**Missing Values in a Series**\n",
    "\n",
    "In applications, it is unusual to have perfectly clean data without missing values. We need stategies for dealing with missing data.\n",
    "\n",
    "When a series is numerical, this can be indicated using numpy's nan."
   ]
  },
  {
   "cell_type": "code",
   "execution_count": 54,
   "metadata": {},
   "outputs": [
    {
     "name": "stdout",
     "output_type": "stream",
     "text": [
      "0    2.71828\n",
      "1    3.14159\n",
      "2        NaN\n",
      "dtype: float64\n"
     ]
    }
   ],
   "source": [
    "import numpy as np\n",
    "import pandas as pd\n",
    "numbers1=[2.71828,3.14159,np.nan]\n",
    "s1=pd.Series(numbers1)\n",
    "print(s1)"
   ]
  },
  {
   "cell_type": "code",
   "execution_count": 55,
   "metadata": {},
   "outputs": [
    {
     "name": "stdout",
     "output_type": "stream",
     "text": [
      "0    27.0\n",
      "1    39.0\n",
      "2     NaN\n",
      "dtype: float64\n"
     ]
    }
   ],
   "source": [
    "import numpy as np\n",
    "import pandas as pd\n",
    "numbers1=[27,39,np.nan]\n",
    "s1=pd.Series(numbers1)\n",
    "print(s1)"
   ]
  },
  {
   "cell_type": "code",
   "execution_count": 56,
   "metadata": {},
   "outputs": [
    {
     "name": "stdout",
     "output_type": "stream",
     "text": [
      "0        NaN\n",
      "1    2.71828\n",
      "2    3.14159\n",
      "dtype: float64\n"
     ]
    }
   ],
   "source": [
    "import numpy as np\n",
    "import pandas as pd\n",
    "numbers2=[np.nan,2.71828,3.14159]\n",
    "s2=pd.Series(numbers2)\n",
    "print(s2)"
   ]
  },
  {
   "cell_type": "markdown",
   "metadata": {},
   "source": [
    "**Binary arithmetic operations**\n",
    "\n",
    "Binary arithmetic operations lead to results we would expect."
   ]
  },
  {
   "cell_type": "code",
   "execution_count": 57,
   "metadata": {},
   "outputs": [
    {
     "name": "stdout",
     "output_type": "stream",
     "text": [
      "0         NaN\n",
      "1    41.71828\n",
      "2         NaN\n",
      "dtype: float64\n",
      "0          NaN\n",
      "1    106.01292\n",
      "2          NaN\n",
      "dtype: float64\n",
      "0          NaN\n",
      "1    14.347308\n",
      "2          NaN\n",
      "dtype: float64\n",
      "0             NaN\n",
      "1    21132.900098\n",
      "2             NaN\n",
      "dtype: float64\n"
     ]
    }
   ],
   "source": [
    "print(s1+s2)\n",
    "print(s1*s2)\n",
    "print(s1/s2)\n",
    "print(s1**s2)"
   ]
  },
  {
   "cell_type": "markdown",
   "metadata": {},
   "source": [
    "**Indicators**\n",
    "\n",
    "We can make a Boolean series that indicates which values in a given series are missing using the _isna_ and _notna_ functions."
   ]
  },
  {
   "cell_type": "code",
   "execution_count": 58,
   "metadata": {},
   "outputs": [
    {
     "name": "stdout",
     "output_type": "stream",
     "text": [
      "0    27.0\n",
      "1    39.0\n",
      "2     NaN\n",
      "dtype: float64\n",
      "0    False\n",
      "1    False\n",
      "2     True\n",
      "dtype: bool\n",
      "0     True\n",
      "1     True\n",
      "2    False\n",
      "dtype: bool\n"
     ]
    }
   ],
   "source": [
    "print(s1)\n",
    "print(pd.isna(s1))\n",
    "print(pd.notna(s1))"
   ]
  },
  {
   "cell_type": "markdown",
   "metadata": {},
   "source": [
    "In pandas, \"NaT\" indicates a missing time."
   ]
  },
  {
   "cell_type": "code",
   "execution_count": 59,
   "metadata": {},
   "outputs": [
    {
     "name": "stdout",
     "output_type": "stream",
     "text": [
      "0   1955-04-12\n",
      "1   1921-09-06\n",
      "2   1925-08-13\n",
      "3   1958-12-15\n",
      "4          NaT\n",
      "dtype: datetime64[ns]\n"
     ]
    }
   ],
   "source": [
    "dates=pd.Series(['1955/04/12','1921/09/06','1925/08/13','1958/12/15',np.nan])\n",
    "dates=pd.to_datetime(dates)\n",
    "print(dates)"
   ]
  },
  {
   "cell_type": "code",
   "execution_count": 60,
   "metadata": {},
   "outputs": [
    {
     "name": "stdout",
     "output_type": "stream",
     "text": [
      "0   1955-04-12\n",
      "1   1921-09-06\n",
      "2   1925-08-13\n",
      "3   1958-12-15\n",
      "4          NaT\n",
      "dtype: datetime64[ns]\n"
     ]
    }
   ],
   "source": [
    "dates=pd.Series(['1955/04/12','1921/09/06','1925/08/13','1958/12/15',\"\"])\n",
    "dates=pd.to_datetime(dates)\n",
    "print(dates)"
   ]
  },
  {
   "cell_type": "code",
   "execution_count": 61,
   "metadata": {},
   "outputs": [
    {
     "name": "stdout",
     "output_type": "stream",
     "text": [
      "0   1955-04-12\n",
      "1   1921-09-06\n",
      "2   1925-08-13\n",
      "3   1958-12-15\n",
      "4          NaT\n",
      "dtype: datetime64[ns]\n"
     ]
    }
   ],
   "source": [
    "dates=pd.Series(['1955/04/12','1921/09/06','1925/08/13','1958/12/15',\"NaT\"])\n",
    "dates=pd.to_datetime(dates)\n",
    "print(dates)"
   ]
  },
  {
   "cell_type": "code",
   "execution_count": 62,
   "metadata": {},
   "outputs": [
    {
     "data": {
      "text/plain": [
       "0     True\n",
       "1     True\n",
       "2     True\n",
       "3     True\n",
       "4    False\n",
       "dtype: bool"
      ]
     },
     "execution_count": 62,
     "metadata": {},
     "output_type": "execute_result"
    }
   ],
   "source": [
    "pd.notna(dates)"
   ]
  },
  {
   "cell_type": "markdown",
   "metadata": {},
   "source": [
    "We can create a Boolean arrays of indicators for missingness using _isnull_ and _notnull_."
   ]
  },
  {
   "cell_type": "code",
   "execution_count": 63,
   "metadata": {},
   "outputs": [
    {
     "data": {
      "text/plain": [
       "0    False\n",
       "1    False\n",
       "2    False\n",
       "3    False\n",
       "4     True\n",
       "dtype: bool"
      ]
     },
     "execution_count": 63,
     "metadata": {},
     "output_type": "execute_result"
    }
   ],
   "source": [
    "pd.isnull(dates)"
   ]
  },
  {
   "cell_type": "code",
   "execution_count": 64,
   "metadata": {},
   "outputs": [
    {
     "data": {
      "text/plain": [
       "0     True\n",
       "1     True\n",
       "2     True\n",
       "3     True\n",
       "4    False\n",
       "dtype: bool"
      ]
     },
     "execution_count": 64,
     "metadata": {},
     "output_type": "execute_result"
    }
   ],
   "source": [
    "pd.notnull(dates)"
   ]
  },
  {
   "cell_type": "markdown",
   "metadata": {},
   "source": [
    "**Boolean Operations on Boolean Series (&, |, ~)**"
   ]
  },
  {
   "cell_type": "code",
   "execution_count": null,
   "metadata": {},
   "outputs": [],
   "source": [
    "t=True\n",
    "not t"
   ]
  },
  {
   "cell_type": "code",
   "execution_count": 66,
   "metadata": {},
   "outputs": [
    {
     "name": "stdout",
     "output_type": "stream",
     "text": [
      "[ True False False  True  True]\n",
      "[ True False  True  True False]\n",
      "[ True False False  True False]\n",
      "[ True False  True  True  True]\n",
      "[False  True  True False False]\n"
     ]
    }
   ],
   "source": [
    "import numpy as np\n",
    "import pandas as pd\n",
    "x=np.random.choice([True,False],size=5)\n",
    "y=np.random.choice([True,False],size=5)\n",
    "print(x)\n",
    "print(y)\n",
    "print(x&y) # not and\n",
    "print(x|y) # not or\n",
    "print(~x) # not not"
   ]
  },
  {
   "cell_type": "code",
   "execution_count": 65,
   "metadata": {},
   "outputs": [
    {
     "name": "stdout",
     "output_type": "stream",
     "text": [
      "0    False\n",
      "1     True\n",
      "2    False\n",
      "3     True\n",
      "4     True\n",
      "dtype: bool\n",
      "0    False\n",
      "1     True\n",
      "2    False\n",
      "3     True\n",
      "4    False\n",
      "dtype: bool\n",
      "0    False\n",
      "1     True\n",
      "2    False\n",
      "3     True\n",
      "4    False\n",
      "dtype: bool\n",
      "0    False\n",
      "1     True\n",
      "2    False\n",
      "3     True\n",
      "4     True\n",
      "dtype: bool\n",
      "0     True\n",
      "1    False\n",
      "2     True\n",
      "3    False\n",
      "4    False\n",
      "dtype: bool\n"
     ]
    }
   ],
   "source": [
    "import numpy as np\n",
    "import pandas as pd\n",
    "x=pd.Series(np.random.choice([True,False],size=5))\n",
    "y=pd.Series(np.random.choice([True,False],size=5))\n",
    "print(x)\n",
    "print(y)\n",
    "print(x&y) # not and\n",
    "print(x|y) # not or\n",
    "print(~x) # not not"
   ]
  },
  {
   "cell_type": "markdown",
   "metadata": {},
   "source": [
    "**Other methods**\n",
    "\n",
    "There is a large collection of methods and functions available for pandas Series.\n",
    "\n",
    "Have a look at the documentation:\n",
    "\n",
    "&nbsp;&nbsp;&nbsp; https://pandas.pydata.org/pandas-docs/stable/reference/api/pandas.Series.html\n",
    "\n",
    "We review some examples below."
   ]
  },
  {
   "cell_type": "markdown",
   "metadata": {},
   "source": [
    "**Comparisons**"
   ]
  },
  {
   "cell_type": "code",
   "execution_count": 44,
   "metadata": {},
   "outputs": [
    {
     "name": "stdout",
     "output_type": "stream",
     "text": [
      "0    0.649564\n",
      "1   -0.002843\n",
      "2   -0.961656\n",
      "3    0.322398\n",
      "4    0.604554\n",
      "dtype: float64\n",
      "0    0.304146\n",
      "1    1.714652\n",
      "2   -0.167653\n",
      "3   -0.583546\n",
      "4   -2.103927\n",
      "dtype: float64\n",
      "0    False\n",
      "1     True\n",
      "2     True\n",
      "3    False\n",
      "4    False\n",
      "dtype: bool\n",
      "0     True\n",
      "1    False\n",
      "2    False\n",
      "3     True\n",
      "4     True\n",
      "dtype: bool\n",
      "0    False\n",
      "1     True\n",
      "2     True\n",
      "3    False\n",
      "4    False\n",
      "dtype: bool\n",
      "0    False\n",
      "1    False\n",
      "2    False\n",
      "3    False\n",
      "4    False\n",
      "dtype: bool\n"
     ]
    }
   ],
   "source": [
    "import numpy as np\n",
    "import pandas as pd\n",
    "x=pd.Series(np.random.normal(0,1,5))\n",
    "y=pd.Series(np.random.normal(0,1,5))\n",
    "print(x)\n",
    "print(y)\n",
    "print(x.lt(y))\n",
    "print(x.gt(y))\n",
    "print(x.le(y))\n",
    "print(x.eq(y))"
   ]
  },
  {
   "cell_type": "markdown",
   "metadata": {},
   "source": [
    "**Simple Statistics**"
   ]
  },
  {
   "cell_type": "code",
   "execution_count": 76,
   "metadata": {},
   "outputs": [
    {
     "name": "stdout",
     "output_type": "stream",
     "text": [
      "0.6\n",
      "0.5477225575051662\n",
      "False\n",
      "True\n"
     ]
    }
   ],
   "source": [
    "x=pd.Series(np.random.choice([True,False],size=5))\n",
    "print(x.mean())\n",
    "print(x.std())\n",
    "print(x.min())\n",
    "print(x.max())"
   ]
  },
  {
   "cell_type": "code",
   "execution_count": 46,
   "metadata": {},
   "outputs": [
    {
     "data": {
      "text/plain": [
       "6.5"
      ]
     },
     "execution_count": 46,
     "metadata": {},
     "output_type": "execute_result"
    }
   ],
   "source": [
    "L=[1.2,5.6,8.9,10.3]\n",
    "pd.Series(L).mean()"
   ]
  },
  {
   "cell_type": "markdown",
   "metadata": {},
   "source": [
    "**Quantiles**"
   ]
  },
  {
   "cell_type": "code",
   "execution_count": 47,
   "metadata": {},
   "outputs": [
    {
     "name": "stdout",
     "output_type": "stream",
     "text": [
      "-0.003482800614304515\n",
      "-0.003482800614304515\n",
      "0.6897376311287784\n",
      "1.636826280165857\n",
      "1.946321210563796\n"
     ]
    }
   ],
   "source": [
    "import pandas as pd\n",
    "import numpy as np\n",
    "x=pd.Series(np.random.normal(0,1,10000))\n",
    "print(x.quantile(.5))\n",
    "print(x.median())\n",
    "print(x.quantile(.75))\n",
    "print(x.quantile(.95))\n",
    "print(x.quantile(.975))"
   ]
  },
  {
   "cell_type": "markdown",
   "metadata": {},
   "source": [
    "**Summarize some statistics**"
   ]
  },
  {
   "cell_type": "code",
   "execution_count": 48,
   "metadata": {},
   "outputs": [
    {
     "data": {
      "text/plain": [
       "count    10000.000000\n",
       "mean        -0.002359\n",
       "std          1.006311\n",
       "min         -4.861223\n",
       "25%         -0.686817\n",
       "50%         -0.003483\n",
       "75%          0.689738\n",
       "max          3.694885\n",
       "dtype: float64"
      ]
     },
     "execution_count": 48,
     "metadata": {},
     "output_type": "execute_result"
    }
   ],
   "source": [
    "x.describe()"
   ]
  },
  {
   "cell_type": "code",
   "execution_count": null,
   "metadata": {},
   "outputs": [],
   "source": [
    "type(x.describe())"
   ]
  },
  {
   "cell_type": "code",
   "execution_count": null,
   "metadata": {},
   "outputs": [],
   "source": [
    "x.iloc[0]=np.nan"
   ]
  },
  {
   "cell_type": "markdown",
   "metadata": {},
   "source": [
    "**Specify the percentiles provided**"
   ]
  },
  {
   "cell_type": "code",
   "execution_count": 49,
   "metadata": {},
   "outputs": [
    {
     "data": {
      "text/plain": [
       "count    10000.000000\n",
       "mean        -0.002359\n",
       "std          1.006311\n",
       "min         -4.861223\n",
       "5%          -1.667553\n",
       "10%         -1.291923\n",
       "15%         -1.043231\n",
       "20%         -0.843615\n",
       "25%         -0.686817\n",
       "30%         -0.533170\n",
       "35%         -0.379591\n",
       "40%         -0.254873\n",
       "45%         -0.123562\n",
       "50%         -0.003483\n",
       "55%          0.122405\n",
       "60%          0.251391\n",
       "65%          0.386532\n",
       "70%          0.528265\n",
       "75%          0.689738\n",
       "80%          0.862551\n",
       "85%          1.046619\n",
       "90%          1.289442\n",
       "95%          1.636826\n",
       "max          3.694885\n",
       "dtype: float64"
      ]
     },
     "execution_count": 49,
     "metadata": {},
     "output_type": "execute_result"
    }
   ],
   "source": [
    "x.describe(percentiles=[u/20 for u in range(1,20)])"
   ]
  },
  {
   "cell_type": "markdown",
   "metadata": {},
   "source": [
    "**Histograms**"
   ]
  },
  {
   "cell_type": "code",
   "execution_count": 70,
   "metadata": {},
   "outputs": [
    {
     "data": {
      "text/plain": [
       "<AxesSubplot:>"
      ]
     },
     "execution_count": 70,
     "metadata": {},
     "output_type": "execute_result"
    },
    {
     "data": {
      "image/png": "[encoded data removed]",
      "text/plain": [
       "<Figure size 640x480 with 1 Axes>"
      ]
     },
     "metadata": {},
     "output_type": "display_data"
    }
   ],
   "source": [
    "import numpy as np\n",
    "import pandas as pd\n",
    "x=pd.Series(np.random.normal(0,1,10000))\n",
    "x.hist(bins=250)"
   ]
  },
  {
   "cell_type": "markdown",
   "metadata": {},
   "source": [
    "**Interpolation**"
   ]
  },
  {
   "cell_type": "code",
   "execution_count": 51,
   "metadata": {},
   "outputs": [
    {
     "name": "stdout",
     "output_type": "stream",
     "text": [
      "0    1.0\n",
      "1    NaN\n",
      "2    NaN\n",
      "3    3.0\n",
      "4    4.0\n",
      "5    NaN\n",
      "6    5.0\n",
      "7    6.0\n",
      "8    7.0\n",
      "dtype: float64\n"
     ]
    },
    {
     "data": {
      "text/plain": [
       "0    1.000000\n",
       "1    1.666667\n",
       "2    2.333333\n",
       "3    3.000000\n",
       "4    4.000000\n",
       "5    4.500000\n",
       "6    5.000000\n",
       "7    6.000000\n",
       "8    7.000000\n",
       "dtype: float64"
      ]
     },
     "execution_count": 51,
     "metadata": {},
     "output_type": "execute_result"
    }
   ],
   "source": [
    "x=pd.Series([1,np.NaN,np.NaN,3,4,np.NaN,5,6,7])\n",
    "print(x)\n",
    "x.interpolate()\n",
    "#?x.interpolate"
   ]
  },
  {
   "cell_type": "markdown",
   "metadata": {},
   "source": [
    "**Order statistics**"
   ]
  },
  {
   "cell_type": "code",
   "execution_count": 52,
   "metadata": {},
   "outputs": [
    {
     "name": "stdout",
     "output_type": "stream",
     "text": [
      "0    0.959101\n",
      "1   -0.142514\n",
      "2    0.348987\n",
      "3   -1.146990\n",
      "4    0.463029\n",
      "5   -0.114477\n",
      "6   -1.875281\n",
      "7   -0.618157\n",
      "8    0.210269\n",
      "9   -0.531968\n",
      "dtype: float64\n",
      "6   -1.875281\n",
      "3   -1.146990\n",
      "7   -0.618157\n",
      "dtype: float64\n"
     ]
    }
   ],
   "source": [
    "import numpy as np\n",
    "import pandas as pd\n",
    "x=pd.Series(np.random.normal(0,1,10))\n",
    "print(x)\n",
    "print(x.nsmallest(3))"
   ]
  },
  {
   "cell_type": "code",
   "execution_count": 53,
   "metadata": {},
   "outputs": [
    {
     "name": "stdout",
     "output_type": "stream",
     "text": [
      "6   -1.875281\n",
      "3   -1.146990\n",
      "7   -0.618157\n",
      "9   -0.531968\n",
      "1   -0.142514\n",
      "5   -0.114477\n",
      "8    0.210269\n",
      "2    0.348987\n",
      "4    0.463029\n",
      "0    0.959101\n",
      "dtype: float64\n"
     ]
    }
   ],
   "source": [
    "print(x.nsmallest(len(x)))"
   ]
  },
  {
   "cell_type": "code",
   "execution_count": null,
   "metadata": {},
   "outputs": [],
   "source": [
    "import numpy as np\n",
    "import pandas as pd\n",
    "x=pd.Series(np.random.normal(0,1,10))\n",
    "print(x)\n",
    "print(x.nlargest(5))"
   ]
  },
  {
   "cell_type": "code",
   "execution_count": null,
   "metadata": {},
   "outputs": [],
   "source": [
    "x.nlargest(len(x))"
   ]
  },
  {
   "cell_type": "code",
   "execution_count": null,
   "metadata": {},
   "outputs": [],
   "source": [
    "x.iloc[3]=np.nan"
   ]
  },
  {
   "cell_type": "markdown",
   "metadata": {},
   "source": [
    "**Ranks**"
   ]
  },
  {
   "cell_type": "code",
   "execution_count": 54,
   "metadata": {},
   "outputs": [
    {
     "name": "stdout",
     "output_type": "stream",
     "text": [
      "0    0.7\n",
      "1    0.7\n",
      "2    2.8\n",
      "3    2.3\n",
      "4    3.4\n",
      "5    3.4\n",
      "6    3.4\n",
      "7    5.8\n",
      "dtype: float64\n",
      "0    1.5\n",
      "1    1.5\n",
      "2    4.0\n",
      "3    3.0\n",
      "4    6.0\n",
      "5    6.0\n",
      "6    6.0\n",
      "7    8.0\n",
      "dtype: float64\n",
      "0    7.5\n",
      "1    7.5\n",
      "2    5.0\n",
      "3    6.0\n",
      "4    3.0\n",
      "5    3.0\n",
      "6    3.0\n",
      "7    1.0\n",
      "dtype: float64\n"
     ]
    }
   ],
   "source": [
    "import numpy as np\n",
    "import pandas as pd\n",
    "x=pd.Series([0.7,0.7,2.8,2.3,3.4,3.4,3.4,5.8])\n",
    "print(x)\n",
    "print(x.rank())\n",
    "print(x.rank(ascending=False))"
   ]
  },
  {
   "cell_type": "code",
   "execution_count": null,
   "metadata": {},
   "outputs": [],
   "source": [
    "x=pd.Series([1,2,1,2,1,3,1,4,2,3,4])\n",
    "x.rank()"
   ]
  },
  {
   "cell_type": "markdown",
   "metadata": {},
   "source": [
    "**Number of unique values**"
   ]
  },
  {
   "cell_type": "code",
   "execution_count": null,
   "metadata": {},
   "outputs": [],
   "source": [
    "import pandas as pd\n",
    "import numpy as np\n",
    "x=pd.Series(np.random.choice([0,1,2,3,4,5],size=5))\n",
    "print(x)\n",
    "print(x.nunique())"
   ]
  },
  {
   "cell_type": "markdown",
   "metadata": {},
   "source": [
    "**Counts**"
   ]
  },
  {
   "cell_type": "code",
   "execution_count": 55,
   "metadata": {},
   "outputs": [
    {
     "name": "stdout",
     "output_type": "stream",
     "text": [
      "0      5\n",
      "1      2\n",
      "2      1\n",
      "3      0\n",
      "4      5\n",
      "      ..\n",
      "995    0\n",
      "996    2\n",
      "997    5\n",
      "998    1\n",
      "999    1\n",
      "Length: 1000, dtype: int32\n"
     ]
    }
   ],
   "source": [
    "import pandas as pd\n",
    "import numpy as np\n",
    "x=pd.Series(np.random.choice([0,1,2,3,4,5],size=1000,p=[.15,.25,.05,.15,.1,.3]))\n",
    "print(x)"
   ]
  },
  {
   "cell_type": "code",
   "execution_count": null,
   "metadata": {},
   "outputs": [],
   "source": [
    "print(x.value_counts())"
   ]
  },
  {
   "cell_type": "markdown",
   "metadata": {},
   "source": [
    "**Values satisyfing a Boolean condition**"
   ]
  },
  {
   "cell_type": "code",
   "execution_count": 57,
   "metadata": {},
   "outputs": [
    {
     "data": {
      "text/plain": [
       "0      5\n",
       "1      2\n",
       "2      1\n",
       "3      0\n",
       "4      5\n",
       "      ..\n",
       "995    0\n",
       "996    2\n",
       "997    5\n",
       "998    1\n",
       "999    1\n",
       "Length: 1000, dtype: int32"
      ]
     },
     "execution_count": 57,
     "metadata": {},
     "output_type": "execute_result"
    }
   ],
   "source": [
    "x"
   ]
  },
  {
   "cell_type": "code",
   "execution_count": 56,
   "metadata": {},
   "outputs": [
    {
     "name": "stdout",
     "output_type": "stream",
     "text": [
      "0    5\n",
      "1    2\n",
      "2    1\n",
      "3    0\n",
      "4    5\n",
      "dtype: int32\n"
     ]
    },
    {
     "data": {
      "text/plain": [
       "0      5.0\n",
       "1      NaN\n",
       "2      NaN\n",
       "3      NaN\n",
       "4      5.0\n",
       "      ... \n",
       "995    NaN\n",
       "996    NaN\n",
       "997    5.0\n",
       "998    NaN\n",
       "999    NaN\n",
       "Length: 1000, dtype: float64"
      ]
     },
     "execution_count": 56,
     "metadata": {},
     "output_type": "execute_result"
    }
   ],
   "source": [
    "print(x[0:5])\n",
    "x.where((x>=3)&(x<=5))"
   ]
  },
  {
   "cell_type": "code",
   "execution_count": null,
   "metadata": {},
   "outputs": [],
   "source": [
    "x.where((x>=3)&(x<=5)).dropna()"
   ]
  },
  {
   "cell_type": "markdown",
   "metadata": {},
   "source": [
    "**Dot product**"
   ]
  },
  {
   "cell_type": "code",
   "execution_count": null,
   "metadata": {},
   "outputs": [],
   "source": [
    "import pandas as pd\n",
    "import numpy as np\n",
    "x=pd.Series(np.random.normal(0,1,10))\n",
    "y=pd.Series(np.random.normal(0,1,10))\n",
    "print(x.dot(y))"
   ]
  },
  {
   "cell_type": "markdown",
   "metadata": {},
   "source": [
    "**Difference a Series**"
   ]
  },
  {
   "cell_type": "code",
   "execution_count": null,
   "metadata": {},
   "outputs": [],
   "source": [
    "import pandas as pd\n",
    "import numpy as np\n",
    "x=pd.Series(range(11)).astype(float)\n",
    "x=x.apply(lambda u:u**2)\n",
    "print(x)\n",
    "xdiff=x.diff(1)\n",
    "print(xdiff)\n",
    "xdiff2=x.diff(2)\n",
    "print(xdiff2)\n",
    "x.diff(1).diff(1)"
   ]
  },
  {
   "cell_type": "markdown",
   "metadata": {},
   "source": [
    "**Cumulative sum**"
   ]
  },
  {
   "cell_type": "code",
   "execution_count": null,
   "metadata": {},
   "outputs": [],
   "source": [
    "import pandas as pd\n",
    "import numpy as np\n",
    "x=pd.Series(np.random.choice([0,1,2],10))\n",
    "print(x)\n",
    "print(x.cumsum())"
   ]
  },
  {
   "cell_type": "markdown",
   "metadata": {},
   "source": [
    "**Cumulative product**"
   ]
  },
  {
   "cell_type": "code",
   "execution_count": null,
   "metadata": {},
   "outputs": [],
   "source": [
    "import pandas as pd\n",
    "import numpy as np\n",
    "x=pd.Series(np.exp(np.random.choice([0,1,2],10)))\n",
    "print(x)\n",
    "print(x.cumprod())"
   ]
  },
  {
   "cell_type": "code",
   "execution_count": null,
   "metadata": {},
   "outputs": [],
   "source": [
    "import pandas as pd\n",
    "import numpy as np\n",
    "x=pd.Series(np.random.normal(0,1,10))\n",
    "print(x)\n",
    "print(x.shift(3))"
   ]
  },
  {
   "cell_type": "markdown",
   "metadata": {},
   "source": [
    "**Lag autocorrelation**"
   ]
  },
  {
   "cell_type": "code",
   "execution_count": null,
   "metadata": {},
   "outputs": [],
   "source": [
    "import pandas as pd\n",
    "import numpy as np\n",
    "x=pd.Series(np.random.normal(0,1,100000))\n",
    "#x.plot()\n",
    "print(x.autocorr(1))\n",
    "#x.plot()\n",
    "y=x.cumsum()\n",
    "print(y.autocorr(10000))\n",
    "y.plot()"
   ]
  },
  {
   "cell_type": "code",
   "execution_count": null,
   "metadata": {},
   "outputs": [],
   "source": [
    "import pandas as pd\n",
    "import numpy as np\n",
    "x=pd.Series(np.random.normal(0,1,1000))\n",
    "y=x+.5*x.shift(1)+.25*x.shift(2)\n",
    "[y.corr(y.shift(k)) for k in range(10)]"
   ]
  },
  {
   "cell_type": "markdown",
   "metadata": {},
   "source": [
    "**Clipping**"
   ]
  },
  {
   "cell_type": "code",
   "execution_count": null,
   "metadata": {},
   "outputs": [],
   "source": [
    "import numpy as np\n",
    "import pandas as pd\n",
    "x=np.random.normal(0,1,10)\n",
    "print(x)\n",
    "x.clip(-1,.75)\n"
   ]
  },
  {
   "cell_type": "markdown",
   "metadata": {},
   "source": [
    "**Type Conversion**"
   ]
  },
  {
   "cell_type": "code",
   "execution_count": null,
   "metadata": {},
   "outputs": [],
   "source": [
    "import pandas as pd\n",
    "x=pd.Series(['1','2','3'])\n",
    "print(x)\n",
    "x=x.astype(\"int\")\n",
    "print(x)\n",
    "x=x.astype(\"float\")\n",
    "print(x)\n",
    "x=x.astype(\"int\")\n",
    "print(x)"
   ]
  },
  {
   "cell_type": "markdown",
   "metadata": {},
   "source": [
    "**Check Monotonicity**"
   ]
  },
  {
   "cell_type": "code",
   "execution_count": null,
   "metadata": {},
   "outputs": [],
   "source": [
    "import pandas as pd\n",
    "import numpy as np\n",
    "x=pd.Series(np.random.normal(0,1,3))\n",
    "print(x)\n",
    "print(x.is_monotonic)\n",
    "if x.is_monotonic:\n",
    "    print(\"decreasing = \", str(x.is_monotonic_decreasing))\n",
    "    print(\"increasing = \", str(x.is_monotonic_increasing))\n",
    "    "
   ]
  },
  {
   "cell_type": "markdown",
   "metadata": {},
   "source": [
    "**Does monotonic increasing mean increasing or non-decreasing?**"
   ]
  },
  {
   "cell_type": "code",
   "execution_count": null,
   "metadata": {},
   "outputs": [],
   "source": [
    "import pandas as pd\n",
    "import numpy as np\n",
    "x=pd.Series([1.,2.,2.,3.])\n",
    "print(x)\n",
    "print(x.is_monotonic)"
   ]
  },
  {
   "cell_type": "markdown",
   "metadata": {},
   "source": [
    "**Aggregate functions**"
   ]
  },
  {
   "cell_type": "code",
   "execution_count": null,
   "metadata": {},
   "outputs": [],
   "source": [
    "import pandas as pd\n",
    "import numpy as np\n",
    "def sum_powers(v,k):\n",
    "    return(sum([x**k for x in v]))\n",
    "x=pd.Series([0.,1.,2.,3.,4.,5.])\n",
    "sum_powers(x,3)"
   ]
  },
  {
   "cell_type": "code",
   "execution_count": null,
   "metadata": {},
   "outputs": [],
   "source": [
    "import pandas as pd\n",
    "import numpy as np\n",
    "def sum_powers(v,k):\n",
    "    return(sum([x**k for x in v]))\n",
    "x=pd.Series([0.,1.,2.,3.,4.,5.])\n",
    "f0=lambda x: sum_powers(x,0)\n",
    "f1=lambda x: sum_powers(x,1)\n",
    "f2=lambda x: sum_powers(x,2)\n",
    "f3=lambda x: sum_powers(x,3)\n",
    "f4=lambda x: np.sin(x).sum()\n",
    "#x.agg([f0,f1,f2,f3,f4])\n",
    "\n",
    "np.sin(x).sum()\n"
   ]
  },
  {
   "cell_type": "code",
   "execution_count": null,
   "metadata": {},
   "outputs": [],
   "source": [
    "?pd.agg"
   ]
  },
  {
   "cell_type": "markdown",
   "metadata": {},
   "source": [
    "Above we had to give a name to each function to put in the list of functions for agg.\n",
    "\n",
    "Can we make a _parameterized_ list of functions and aggregate them?\n",
    "\n",
    "Here is a first attempt."
   ]
  },
  {
   "cell_type": "code",
   "execution_count": null,
   "metadata": {},
   "outputs": [],
   "source": [
    "import pandas as pd\n",
    "def sum_powers(v,k):\n",
    "    return(sum([q**k for q in v]))\n",
    "x=pd.Series([0.,1.,2.,3.,4.,5.])\n",
    "flist=[lambda u:sum_powers(u,k) for k in range(10)]\n",
    "x.agg(flist)"
   ]
  },
  {
   "cell_type": "markdown",
   "metadata": {},
   "source": [
    "Something is wrong. Try evaluating some of the functions."
   ]
  },
  {
   "cell_type": "code",
   "execution_count": null,
   "metadata": {},
   "outputs": [],
   "source": [
    "flist[0]([1,2,3])"
   ]
  },
  {
   "cell_type": "markdown",
   "metadata": {},
   "source": [
    "We can, however, use classes for this task. We create a class of functions."
   ]
  },
  {
   "cell_type": "code",
   "execution_count": null,
   "metadata": {},
   "outputs": [],
   "source": [
    "class pfunc:\n",
    "    def __init__(self,k):\n",
    "        self.f=lambda u: sum([x**k for x in u])\n",
    "p1=pfunc(1)\n",
    "p2=pfunc(2)\n",
    "print(p1.f([1,2,3]))\n",
    "print(p2.f([1,2,3]))"
   ]
  },
  {
   "cell_type": "code",
   "execution_count": null,
   "metadata": {},
   "outputs": [],
   "source": [
    "class pfunc:\n",
    "    def __init__(self,k):\n",
    "        self.f=lambda u: sum([x**k for x in u])\n",
    "p0=pfunc(0)\n",
    "p1=pfunc(1)\n",
    "p2=pfunc(2)\n",
    "p3=pfunc(3)\n",
    "x=pd.Series([0.,1.,2.,3.,4.,5.])\n",
    "x.agg([p0.f,p1.f,p2.f,p3.f])"
   ]
  },
  {
   "cell_type": "markdown",
   "metadata": {},
   "source": [
    "And now we can use list comprehension so we don't have to name all of the individual functions."
   ]
  },
  {
   "cell_type": "code",
   "execution_count": null,
   "metadata": {},
   "outputs": [],
   "source": [
    "class pfunc:\n",
    "    def __init__(self,k):\n",
    "        self.f=lambda u: sum([x**k for x in u])\n",
    "plist=[pfunc(k).f for k in range(10)]\n",
    "x=pd.Series([0.,1.,2.,3.,4.,5.])\n",
    "x.agg(plist)"
   ]
  },
  {
   "cell_type": "markdown",
   "metadata": {},
   "source": [
    "Another approach uses partial functions"
   ]
  },
  {
   "cell_type": "code",
   "execution_count": null,
   "metadata": {},
   "outputs": [],
   "source": [
    "import pandas as pd\n",
    "from functools import partial\n",
    "def f(k,x):\n",
    "    return(sum([u**k for u in x]))\n",
    "flist=[partial(f,k) for k in range(10)]\n",
    "x=pd.Series([1.,2.,3.,4.,5.])\n",
    "x.agg(flist)"
   ]
  },
  {
   "cell_type": "markdown",
   "metadata": {},
   "source": [
    "Another approach uses a generator"
   ]
  },
  {
   "cell_type": "code",
   "execution_count": null,
   "metadata": {},
   "outputs": [],
   "source": [
    "def funcs(nmax):\n",
    "    for n in range(nmax):\n",
    "        yield lambda s: sum(s**n)\n",
    "x=pd.Series([1.,2.,3.,4.,5.])\n",
    "x.agg(funcs(5))"
   ]
  },
  {
   "cell_type": "markdown",
   "metadata": {},
   "source": [
    "**Concatenation of Series**"
   ]
  },
  {
   "cell_type": "code",
   "execution_count": null,
   "metadata": {},
   "outputs": [],
   "source": [
    "import pandas as pd\n",
    "x=pd.Series([1,2,3])\n",
    "y=pd.Series([4,5,6])\n",
    "z1=x.append(y,ignore_index=False)\n",
    "print(z1)\n",
    "z2=x.append(y,ignore_index=True)\n",
    "print(z2)"
   ]
  },
  {
   "cell_type": "code",
   "execution_count": null,
   "metadata": {},
   "outputs": [],
   "source": [
    "import pandas as pd\n",
    "x=pd.Series([1,2,3])\n",
    "y=pd.Series([4,5,6])\n",
    "try:\n",
    "    z=x.append(y,ignore_index=False,verify_integrity=True)\n",
    "    print(z)\n",
    "except ValueError:\n",
    "    print(\"indices overlap\")"
   ]
  },
  {
   "cell_type": "markdown",
   "metadata": {},
   "source": [
    "**Testing Equality**"
   ]
  },
  {
   "cell_type": "code",
   "execution_count": null,
   "metadata": {},
   "outputs": [],
   "source": [
    "import pandas as pd\n",
    "x=pd.Series([1.,2.,3.])\n",
    "y=pd.Series([1.,2.,5.])\n",
    "print(x==y)\n",
    "print(x.eq(y))"
   ]
  },
  {
   "cell_type": "markdown",
   "metadata": {},
   "source": [
    "**Quick Plots**"
   ]
  },
  {
   "cell_type": "code",
   "execution_count": 71,
   "metadata": {},
   "outputs": [
    {
     "data": {
      "text/plain": [
       "<AxesSubplot:>"
      ]
     },
     "execution_count": 71,
     "metadata": {},
     "output_type": "execute_result"
    },
    {
     "data": {
      "image/png": "[encoded data removed]",
      "text/plain": [
       "<Figure size 640x480 with 1 Axes>"
      ]
     },
     "metadata": {},
     "output_type": "display_data"
    }
   ],
   "source": [
    "import pandas as pd\n",
    "import numpy as np\n",
    "x=pd.Series(np.random.normal(0,1,1000))\n",
    "x=x.cumsum()\n",
    "x.plot()"
   ]
  },
  {
   "cell_type": "markdown",
   "metadata": {},
   "source": [
    "**Replace values**"
   ]
  },
  {
   "cell_type": "code",
   "execution_count": null,
   "metadata": {},
   "outputs": [],
   "source": [
    "import pandas as pd\n",
    "x=pd.Series([1.,2.,1.,3.,1.,2.,1.,4.,5.,2.,3.,2.,5.])\n",
    "x.replace(2.,27.)"
   ]
  },
  {
   "cell_type": "markdown",
   "metadata": {},
   "source": [
    "We can specify a dictionary for replacements."
   ]
  },
  {
   "cell_type": "code",
   "execution_count": 72,
   "metadata": {},
   "outputs": [
    {
     "data": {
      "text/plain": [
       "0     31.0\n",
       "1     27.0\n",
       "2     31.0\n",
       "3      3.0\n",
       "4     31.0\n",
       "5     27.0\n",
       "6     31.0\n",
       "7      4.0\n",
       "8      5.0\n",
       "9     27.0\n",
       "10     3.0\n",
       "11    27.0\n",
       "12     5.0\n",
       "dtype: float64"
      ]
     },
     "execution_count": 72,
     "metadata": {},
     "output_type": "execute_result"
    }
   ],
   "source": [
    "import pandas as pd\n",
    "x=pd.Series([1.,2.,1.,3.,1.,2.,1.,4.,5.,2.,3.,2.,5.])\n",
    "x.replace({1.:31.,2.:27.})"
   ]
  },
  {
   "cell_type": "markdown",
   "metadata": {},
   "source": [
    "**Rolling**\n",
    "\n",
    "Rolling means create an object by grouping windows of data in a series. We typically follow up by calculating something for each group of values.\n",
    "\n",
    "For example, a moving average with a window size of 2 is obtained by taking two successive values at a time and averaging them."
   ]
  },
  {
   "cell_type": "code",
   "execution_count": 73,
   "metadata": {},
   "outputs": [
    {
     "name": "stdout",
     "output_type": "stream",
     "text": [
      "0     0.0\n",
      "1     2.0\n",
      "2     6.0\n",
      "3    11.0\n",
      "4    14.0\n",
      "5    15.0\n",
      "6    15.0\n",
      "dtype: float64\n",
      "0          NaN\n",
      "1          NaN\n",
      "2     2.666667\n",
      "3     6.333333\n",
      "4    10.333333\n",
      "5    13.333333\n",
      "6    14.666667\n",
      "dtype: float64\n"
     ]
    }
   ],
   "source": [
    "import pandas as pd\n",
    "import numpy as np\n",
    "x=pd.Series([0.,2.,4.,5.,3.,1.,0.])\n",
    "x=x.cumsum()\n",
    "print(x)\n",
    "y=x.rolling(window=3).mean()\n",
    "print(y)"
   ]
  },
  {
   "cell_type": "markdown",
   "metadata": {},
   "source": [
    "**This is a critical tool in smoothing**"
   ]
  },
  {
   "cell_type": "code",
   "execution_count": 74,
   "metadata": {},
   "outputs": [
    {
     "data": {
      "text/plain": [
       "<AxesSubplot:>"
      ]
     },
     "execution_count": 74,
     "metadata": {},
     "output_type": "execute_result"
    },
    {
     "data": {
      "image/png": "[encoded data removed]",
      "text/plain": [
       "<Figure size 640x480 with 1 Axes>"
      ]
     },
     "metadata": {},
     "output_type": "display_data"
    }
   ],
   "source": [
    "%matplotlib inline\n",
    "import pandas as pd\n",
    "import numpy as np\n",
    "x=pd.Series(np.random.normal(0,1,100)).cumsum()\n",
    "x.plot()\n",
    "y=x.rolling(window=5).mean()\n",
    "y.plot()\n",
    "z=x.rolling(window=10).mean()\n",
    "z.plot()\n",
    "w=x.rolling(window=25).mean()\n",
    "w.plot()\n"
   ]
  },
  {
   "cell_type": "markdown",
   "metadata": {},
   "source": [
    "**Rounding**"
   ]
  },
  {
   "cell_type": "code",
   "execution_count": null,
   "metadata": {},
   "outputs": [],
   "source": [
    "import pandas as pd\n",
    "x=pd.Series([3.14159,2.718281828])\n",
    "print(x.round(3))\n",
    "print(x.round(1))"
   ]
  },
  {
   "cell_type": "markdown",
   "metadata": {},
   "source": [
    "**Sorting by Index**"
   ]
  },
  {
   "cell_type": "code",
   "execution_count": null,
   "metadata": {},
   "outputs": [],
   "source": [
    "import pandas as pd\n",
    "import numpy as np\n",
    "x=pd.Series(np.random.normal(0,1,5),index=np.random.permutation(range(5)))\n",
    "print(x)\n",
    "y=x.sort_index()\n",
    "print(y)"
   ]
  },
  {
   "cell_type": "code",
   "execution_count": null,
   "metadata": {},
   "outputs": [],
   "source": [
    "y[2]=27\n",
    "print(x)"
   ]
  },
  {
   "cell_type": "markdown",
   "metadata": {},
   "source": [
    "**Conversions of a Series**"
   ]
  },
  {
   "cell_type": "code",
   "execution_count": null,
   "metadata": {},
   "outputs": [],
   "source": [
    "import pandas as pd\n",
    "import numpy as np\n",
    "x=pd.Series(np.random.normal(0,1,5),index=np.random.permutation(range(5)))\n",
    "print(x)\n",
    "print(x.to_dict())\n",
    "print(x.to_json())\n",
    "x.to_string()\n"
   ]
  },
  {
   "cell_type": "code",
   "execution_count": null,
   "metadata": {},
   "outputs": [],
   "source": [
    "x.tolist()"
   ]
  },
  {
   "cell_type": "code",
   "execution_count": null,
   "metadata": {},
   "outputs": [],
   "source": []
  }
 ],
 "metadata": {
  "kernelspec": {
   "display_name": "Python 3 (ipykernel)",
   "language": "python",
   "name": "python3"
  },
  "language_info": {
   "codemirror_mode": {
    "name": "ipython",
    "version": 3
   },
   "file_extension": ".py",
   "mimetype": "text/x-python",
   "name": "python",
   "nbconvert_exporter": "python",
   "pygments_lexer": "ipython3",
   "version": "3.11.5"
  }
 },
 "nbformat": 4,
 "nbformat_minor": 4
}
