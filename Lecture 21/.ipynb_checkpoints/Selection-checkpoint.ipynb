{
 "cells": [
  {
   "cell_type": "markdown",
   "metadata": {},
   "source": [
    "**Two Sample Data Frames**\n",
    "\n",
    "So that we don't have to keep re-defining data frames, we create a couple of them to refer to repeatedly below."
   ]
  },
  {
   "cell_type": "code",
   "execution_count": 1,
   "metadata": {
    "tags": []
   },
   "outputs": [
    {
     "name": "stdout",
     "output_type": "stream",
     "text": [
      "         customer  amount   tax  store          datetime payment_method\n",
      "T12341     George   12.75  0.64      1  12:23:2018:12:38           cash\n",
      "T12342     Thomas   10.89  0.55      2  12:23:2018:12:45         charge\n",
      "T12343  Josephine    4.67  0.24      3  12:23:2018:12:45           cash\n",
      "T12344      Steve   11.21  0.46      1  12:23:2018:12:47         charge\n",
      "T12345      James    4.00  0.15      2  12:23:2018:12:49           cash\n",
      "         customer  amount   tax  store          datetime payment_method\n",
      "T12341     George   12.75  0.64      1  12:23:2018:12:38           cash\n",
      "T12342     Thomas   10.89  0.55      2  12:23:2018:12:45         charge\n",
      "T12343  Josephine    4.67  0.24      3  12:23:2018:12:45           cash\n",
      "T12344      Steve   11.21  0.46      1  12:23:2018:12:47         charge\n",
      "T12345      James    4.00  0.15      2  12:23:2018:12:49           cash\n"
     ]
    }
   ],
   "source": [
    "import pandas as pd\n",
    "customer={'T12341':\"George\",'T12342':\"Thomas\",'T12343':\"Josephine\",'T12344':\"Steve\",'T12345':\"James\"}\n",
    "amount={'T12341':12.75,'T12342':10.89,'T12343':4.67,'T12344':11.21,'T12345':4.00}\n",
    "tax={'T12341':.64,'T12342':.55,'T12343':.24,'T12344':.46,'T12345':.15}\n",
    "store={'T12341':1,'T12342':2,'T12343':3,'T12344':1,'T12345':2}\n",
    "datetime={'T12341':'12:23:2018:12:38','T12342':'12:23:2018:12:45','T12343':'12:23:2018:12:45','T12344':'12:23:2018:12:47','T12345':'12:23:2018:12:49'}\n",
    "payment_method={'T12341':\"cash\",'T12342':\"charge\",'T12343':\"cash\",'T12344':\"charge\",'T12345':\"cash\"}\n",
    "d={\"customer\":customer,\n",
    "   \"amount\":amount,\n",
    "   \"tax\":tax,\n",
    "   \"store\":store,\n",
    "   \"datetime\":datetime,\n",
    "   \"payment_method\":payment_method\n",
    "  }\n",
    "df1=pd.DataFrame(d)\n",
    "print(df1)\n",
    "df2=df1.copy()\n",
    "#df2.set_index(['store','customer','datetime'],inplace=True)\n",
    "print(df2)"
   ]
  },
  {
   "cell_type": "markdown",
   "metadata": {},
   "source": [
    "**Boolean selections**\n",
    "\n",
    "We can select by row using a Boolean list of the same length as the number of rows in the data frame."
   ]
  },
  {
   "cell_type": "code",
   "execution_count": 2,
   "metadata": {
    "tags": []
   },
   "outputs": [
    {
     "name": "stdout",
     "output_type": "stream",
     "text": [
      "         customer  amount   tax  store          datetime payment_method\n",
      "T12341     George   12.75  0.64      1  12:23:2018:12:38           cash\n",
      "T12343  Josephine    4.67  0.24      3  12:23:2018:12:45           cash\n",
      "T12345      James    4.00  0.15      2  12:23:2018:12:49           cash\n"
     ]
    }
   ],
   "source": [
    "L=[True,False,True,False,True]\n",
    "print(df1[L])\n",
    "\n"
   ]
  },
  {
   "cell_type": "markdown",
   "metadata": {},
   "source": [
    "**Selecting Columns**\n",
    "\n",
    "We can select a column by name, in which case we get a series."
   ]
  },
  {
   "cell_type": "code",
   "execution_count": 3,
   "metadata": {
    "tags": []
   },
   "outputs": [
    {
     "name": "stdout",
     "output_type": "stream",
     "text": [
      "<class 'pandas.core.series.Series'>\n"
     ]
    },
    {
     "data": {
      "text/plain": [
       "T12341    0.64\n",
       "T12342    0.55\n",
       "T12343    0.24\n",
       "T12344    0.46\n",
       "T12345    0.15\n",
       "Name: tax, dtype: float64"
      ]
     },
     "execution_count": 3,
     "metadata": {},
     "output_type": "execute_result"
    }
   ],
   "source": [
    "df1[\"tax\"]\n",
    "print(type(df1[\"tax\"]))\n",
    "df1[\"tax\"]"
   ]
  },
  {
   "cell_type": "markdown",
   "metadata": {},
   "source": [
    "If we select a list of columns, we get a data frame."
   ]
  },
  {
   "cell_type": "code",
   "execution_count": 4,
   "metadata": {
    "tags": []
   },
   "outputs": [
    {
     "name": "stdout",
     "output_type": "stream",
     "text": [
      "         tax\n",
      "T12341  0.64\n",
      "T12342  0.55\n",
      "T12343  0.24\n",
      "T12344  0.46\n",
      "T12345  0.15\n",
      "<class 'pandas.core.frame.DataFrame'>\n",
      "         tax  amount\n",
      "T12341  0.64   12.75\n",
      "T12342  0.55   10.89\n",
      "T12343  0.24    4.67\n",
      "T12344  0.46   11.21\n",
      "T12345  0.15    4.00\n",
      "<class 'pandas.core.frame.DataFrame'>\n"
     ]
    }
   ],
   "source": [
    "print(df1[[\"tax\"]])\n",
    "print(type(df1[[\"tax\"]]))\n",
    "\n",
    "print(df1[[\"tax\",\"amount\"]])\n",
    "print(type(df1[[\"tax\",\"amount\"]]))"
   ]
  },
  {
   "cell_type": "markdown",
   "metadata": {},
   "source": [
    "**Row Selection by position**\n",
    "\n",
    "To select rows by position, we use iloc - note that we get a pandas series as a result.\n",
    "\n",
    "The column names become the indices for the series."
   ]
  },
  {
   "cell_type": "code",
   "execution_count": 5,
   "metadata": {},
   "outputs": [
    {
     "name": "stdout",
     "output_type": "stream",
     "text": [
      "         customer  amount   tax  store          datetime payment_method\n",
      "T12341     George   12.75  0.64      1  12:23:2018:12:38           cash\n",
      "T12342     Thomas   10.89  0.55      2  12:23:2018:12:45         charge\n",
      "T12343  Josephine    4.67  0.24      3  12:23:2018:12:45           cash\n",
      "T12344      Steve   11.21  0.46      1  12:23:2018:12:47         charge\n",
      "T12345      James    4.00  0.15      2  12:23:2018:12:49           cash\n",
      "customer                    Thomas\n",
      "amount                       10.89\n",
      "tax                           0.55\n",
      "store                            2\n",
      "datetime          12:23:2018:12:45\n",
      "payment_method              charge\n",
      "Name: T12342, dtype: object\n"
     ]
    }
   ],
   "source": [
    "print(df1)\n",
    "print(df1.iloc[1])"
   ]
  },
  {
   "cell_type": "code",
   "execution_count": 5,
   "metadata": {
    "tags": []
   },
   "outputs": [
    {
     "name": "stdout",
     "output_type": "stream",
     "text": [
      "T12342\n"
     ]
    },
    {
     "data": {
      "text/plain": [
       "pandas.core.series.Series"
      ]
     },
     "execution_count": 5,
     "metadata": {},
     "output_type": "execute_result"
    }
   ],
   "source": [
    "print(df1.iloc[1].name)\n",
    "s=df1.iloc[1]\n",
    "type(df1.iloc[1])"
   ]
  },
  {
   "cell_type": "code",
   "execution_count": 6,
   "metadata": {
    "tags": []
   },
   "outputs": [
    {
     "data": {
      "text/plain": [
       "'Thomas'"
      ]
     },
     "execution_count": 6,
     "metadata": {},
     "output_type": "execute_result"
    }
   ],
   "source": [
    "s.customer"
   ]
  },
  {
   "cell_type": "markdown",
   "metadata": {},
   "source": [
    "Use on left hand side in an assignment "
   ]
  },
  {
   "cell_type": "code",
   "execution_count": 7,
   "metadata": {
    "tags": []
   },
   "outputs": [
    {
     "name": "stdout",
     "output_type": "stream",
     "text": [
      "customer                     Logan\n",
      "amount                       10.89\n",
      "tax                           0.55\n",
      "store                            2\n",
      "datetime          12:23:2018:12:45\n",
      "payment_method              charge\n",
      "Name: T12342, dtype: object\n"
     ]
    },
    {
     "name": "stderr",
     "output_type": "stream",
     "text": [
      "C:\\Users\\dan\\AppData\\Local\\Temp\\ipykernel_592\\3567991176.py:1: SettingWithCopyWarning: \n",
      "A value is trying to be set on a copy of a slice from a DataFrame\n",
      "\n",
      "See the caveats in the documentation: https://pandas.pydata.org/pandas-docs/stable/user_guide/indexing.html#returning-a-view-versus-a-copy\n",
      "  s.customer='Logan'\n"
     ]
    }
   ],
   "source": [
    "s.customer='Logan'\n",
    "print(s)"
   ]
  },
  {
   "cell_type": "code",
   "execution_count": 8,
   "metadata": {
    "tags": []
   },
   "outputs": [
    {
     "data": {
      "text/html": [
       "<div>\n",
       "<style scoped>\n",
       "    .dataframe tbody tr th:only-of-type {\n",
       "        vertical-align: middle;\n",
       "    }\n",
       "\n",
       "    .dataframe tbody tr th {\n",
       "        vertical-align: top;\n",
       "    }\n",
       "\n",
       "    .dataframe thead th {\n",
       "        text-align: right;\n",
       "    }\n",
       "</style>\n",
       "<table border=\"1\" class=\"dataframe\">\n",
       "  <thead>\n",
       "    <tr style=\"text-align: right;\">\n",
       "      <th></th>\n",
       "      <th>customer</th>\n",
       "      <th>amount</th>\n",
       "      <th>tax</th>\n",
       "      <th>store</th>\n",
       "      <th>datetime</th>\n",
       "      <th>payment_method</th>\n",
       "    </tr>\n",
       "  </thead>\n",
       "  <tbody>\n",
       "    <tr>\n",
       "      <th>T12341</th>\n",
       "      <td>George</td>\n",
       "      <td>12.75</td>\n",
       "      <td>0.64</td>\n",
       "      <td>1</td>\n",
       "      <td>12:23:2018:12:38</td>\n",
       "      <td>cash</td>\n",
       "    </tr>\n",
       "    <tr>\n",
       "      <th>T12342</th>\n",
       "      <td>Thomas</td>\n",
       "      <td>10.89</td>\n",
       "      <td>0.55</td>\n",
       "      <td>2</td>\n",
       "      <td>12:23:2018:12:45</td>\n",
       "      <td>charge</td>\n",
       "    </tr>\n",
       "    <tr>\n",
       "      <th>T12343</th>\n",
       "      <td>Josephine</td>\n",
       "      <td>4.67</td>\n",
       "      <td>0.24</td>\n",
       "      <td>3</td>\n",
       "      <td>12:23:2018:12:45</td>\n",
       "      <td>cash</td>\n",
       "    </tr>\n",
       "    <tr>\n",
       "      <th>T12344</th>\n",
       "      <td>Steve</td>\n",
       "      <td>11.21</td>\n",
       "      <td>0.46</td>\n",
       "      <td>1</td>\n",
       "      <td>12:23:2018:12:47</td>\n",
       "      <td>charge</td>\n",
       "    </tr>\n",
       "    <tr>\n",
       "      <th>T12345</th>\n",
       "      <td>James</td>\n",
       "      <td>4.00</td>\n",
       "      <td>0.15</td>\n",
       "      <td>2</td>\n",
       "      <td>12:23:2018:12:49</td>\n",
       "      <td>cash</td>\n",
       "    </tr>\n",
       "  </tbody>\n",
       "</table>\n",
       "</div>"
      ],
      "text/plain": [
       "         customer  amount   tax  store          datetime payment_method\n",
       "T12341     George   12.75  0.64      1  12:23:2018:12:38           cash\n",
       "T12342     Thomas   10.89  0.55      2  12:23:2018:12:45         charge\n",
       "T12343  Josephine    4.67  0.24      3  12:23:2018:12:45           cash\n",
       "T12344      Steve   11.21  0.46      1  12:23:2018:12:47         charge\n",
       "T12345      James    4.00  0.15      2  12:23:2018:12:49           cash"
      ]
     },
     "execution_count": 8,
     "metadata": {},
     "output_type": "execute_result"
    }
   ],
   "source": [
    "df1"
   ]
  },
  {
   "cell_type": "code",
   "execution_count": 15,
   "metadata": {},
   "outputs": [
    {
     "name": "stderr",
     "output_type": "stream",
     "text": [
      "C:\\Users\\dan\\AppData\\Local\\Temp\\ipykernel_19584\\3985869810.py:2: SettingWithCopyWarning: \n",
      "A value is trying to be set on a copy of a slice from a DataFrame\n",
      "\n",
      "See the caveats in the documentation: https://pandas.pydata.org/pandas-docs/stable/user_guide/indexing.html#returning-a-view-versus-a-copy\n",
      "  s[\"customer\"]=\"Logan\"\n"
     ]
    }
   ],
   "source": [
    "s=df1.iloc[1]\n",
    "s[\"customer\"]=\"Logan\""
   ]
  },
  {
   "cell_type": "code",
   "execution_count": 9,
   "metadata": {
    "tags": []
   },
   "outputs": [
    {
     "data": {
      "text/html": [
       "<div>\n",
       "<style scoped>\n",
       "    .dataframe tbody tr th:only-of-type {\n",
       "        vertical-align: middle;\n",
       "    }\n",
       "\n",
       "    .dataframe tbody tr th {\n",
       "        vertical-align: top;\n",
       "    }\n",
       "\n",
       "    .dataframe thead th {\n",
       "        text-align: right;\n",
       "    }\n",
       "</style>\n",
       "<table border=\"1\" class=\"dataframe\">\n",
       "  <thead>\n",
       "    <tr style=\"text-align: right;\">\n",
       "      <th></th>\n",
       "      <th>customer</th>\n",
       "      <th>amount</th>\n",
       "      <th>tax</th>\n",
       "      <th>store</th>\n",
       "      <th>datetime</th>\n",
       "      <th>payment_method</th>\n",
       "    </tr>\n",
       "  </thead>\n",
       "  <tbody>\n",
       "    <tr>\n",
       "      <th>T12341</th>\n",
       "      <td>George</td>\n",
       "      <td>12.75</td>\n",
       "      <td>0.64</td>\n",
       "      <td>1</td>\n",
       "      <td>12:23:2018:12:38</td>\n",
       "      <td>cash</td>\n",
       "    </tr>\n",
       "    <tr>\n",
       "      <th>T12342</th>\n",
       "      <td>Logan</td>\n",
       "      <td>10.89</td>\n",
       "      <td>0.55</td>\n",
       "      <td>2</td>\n",
       "      <td>12:23:2018:12:45</td>\n",
       "      <td>charge</td>\n",
       "    </tr>\n",
       "    <tr>\n",
       "      <th>T12343</th>\n",
       "      <td>Josephine</td>\n",
       "      <td>4.67</td>\n",
       "      <td>0.24</td>\n",
       "      <td>3</td>\n",
       "      <td>12:23:2018:12:45</td>\n",
       "      <td>cash</td>\n",
       "    </tr>\n",
       "    <tr>\n",
       "      <th>T12344</th>\n",
       "      <td>Steve</td>\n",
       "      <td>11.21</td>\n",
       "      <td>0.46</td>\n",
       "      <td>1</td>\n",
       "      <td>12:23:2018:12:47</td>\n",
       "      <td>charge</td>\n",
       "    </tr>\n",
       "    <tr>\n",
       "      <th>T12345</th>\n",
       "      <td>James</td>\n",
       "      <td>4.00</td>\n",
       "      <td>0.15</td>\n",
       "      <td>2</td>\n",
       "      <td>12:23:2018:12:49</td>\n",
       "      <td>cash</td>\n",
       "    </tr>\n",
       "  </tbody>\n",
       "</table>\n",
       "</div>"
      ],
      "text/plain": [
       "         customer  amount   tax  store          datetime payment_method\n",
       "T12341     George   12.75  0.64      1  12:23:2018:12:38           cash\n",
       "T12342      Logan   10.89  0.55      2  12:23:2018:12:45         charge\n",
       "T12343  Josephine    4.67  0.24      3  12:23:2018:12:45           cash\n",
       "T12344      Steve   11.21  0.46      1  12:23:2018:12:47         charge\n",
       "T12345      James    4.00  0.15      2  12:23:2018:12:49           cash"
      ]
     },
     "execution_count": 9,
     "metadata": {},
     "output_type": "execute_result"
    }
   ],
   "source": [
    "df1.iloc[1,0]=\"Logan\"\n",
    "df1"
   ]
  },
  {
   "cell_type": "markdown",
   "metadata": {},
   "source": [
    "If we select multiple rows we get a data frame."
   ]
  },
  {
   "cell_type": "code",
   "execution_count": 10,
   "metadata": {
    "tags": []
   },
   "outputs": [
    {
     "data": {
      "text/html": [
       "<div>\n",
       "<style scoped>\n",
       "    .dataframe tbody tr th:only-of-type {\n",
       "        vertical-align: middle;\n",
       "    }\n",
       "\n",
       "    .dataframe tbody tr th {\n",
       "        vertical-align: top;\n",
       "    }\n",
       "\n",
       "    .dataframe thead th {\n",
       "        text-align: right;\n",
       "    }\n",
       "</style>\n",
       "<table border=\"1\" class=\"dataframe\">\n",
       "  <thead>\n",
       "    <tr style=\"text-align: right;\">\n",
       "      <th></th>\n",
       "      <th>customer</th>\n",
       "      <th>amount</th>\n",
       "      <th>tax</th>\n",
       "      <th>store</th>\n",
       "      <th>datetime</th>\n",
       "      <th>payment_method</th>\n",
       "    </tr>\n",
       "  </thead>\n",
       "  <tbody>\n",
       "    <tr>\n",
       "      <th>T12341</th>\n",
       "      <td>George</td>\n",
       "      <td>12.75</td>\n",
       "      <td>0.64</td>\n",
       "      <td>1</td>\n",
       "      <td>12:23:2018:12:38</td>\n",
       "      <td>cash</td>\n",
       "    </tr>\n",
       "    <tr>\n",
       "      <th>T12343</th>\n",
       "      <td>Josephine</td>\n",
       "      <td>4.67</td>\n",
       "      <td>0.24</td>\n",
       "      <td>3</td>\n",
       "      <td>12:23:2018:12:45</td>\n",
       "      <td>cash</td>\n",
       "    </tr>\n",
       "    <tr>\n",
       "      <th>T12344</th>\n",
       "      <td>Steve</td>\n",
       "      <td>11.21</td>\n",
       "      <td>0.46</td>\n",
       "      <td>1</td>\n",
       "      <td>12:23:2018:12:47</td>\n",
       "      <td>charge</td>\n",
       "    </tr>\n",
       "  </tbody>\n",
       "</table>\n",
       "</div>"
      ],
      "text/plain": [
       "         customer  amount   tax  store          datetime payment_method\n",
       "T12341     George   12.75  0.64      1  12:23:2018:12:38           cash\n",
       "T12343  Josephine    4.67  0.24      3  12:23:2018:12:45           cash\n",
       "T12344      Steve   11.21  0.46      1  12:23:2018:12:47         charge"
      ]
     },
     "execution_count": 10,
     "metadata": {},
     "output_type": "execute_result"
    }
   ],
   "source": [
    "df1.iloc[[0,2,3]]"
   ]
  },
  {
   "cell_type": "markdown",
   "metadata": {},
   "source": [
    "We can also specify using ranges"
   ]
  },
  {
   "cell_type": "code",
   "execution_count": 11,
   "metadata": {
    "tags": []
   },
   "outputs": [
    {
     "name": "stdout",
     "output_type": "stream",
     "text": [
      "         customer  amount   tax  store          datetime payment_method\n",
      "T12341     George   12.75  0.64      1  12:23:2018:12:38           cash\n",
      "T12342      Logan   10.89  0.55      2  12:23:2018:12:45         charge\n",
      "T12343  Josephine    4.67  0.24      3  12:23:2018:12:45           cash\n",
      "T12344      Steve   11.21  0.46      1  12:23:2018:12:47         charge\n",
      "T12345      James    4.00  0.15      2  12:23:2018:12:49           cash\n"
     ]
    },
    {
     "data": {
      "text/html": [
       "<div>\n",
       "<style scoped>\n",
       "    .dataframe tbody tr th:only-of-type {\n",
       "        vertical-align: middle;\n",
       "    }\n",
       "\n",
       "    .dataframe tbody tr th {\n",
       "        vertical-align: top;\n",
       "    }\n",
       "\n",
       "    .dataframe thead th {\n",
       "        text-align: right;\n",
       "    }\n",
       "</style>\n",
       "<table border=\"1\" class=\"dataframe\">\n",
       "  <thead>\n",
       "    <tr style=\"text-align: right;\">\n",
       "      <th></th>\n",
       "      <th>customer</th>\n",
       "      <th>amount</th>\n",
       "      <th>tax</th>\n",
       "      <th>store</th>\n",
       "      <th>datetime</th>\n",
       "      <th>payment_method</th>\n",
       "    </tr>\n",
       "  </thead>\n",
       "  <tbody>\n",
       "    <tr>\n",
       "      <th>T12342</th>\n",
       "      <td>Logan</td>\n",
       "      <td>10.89</td>\n",
       "      <td>0.55</td>\n",
       "      <td>2</td>\n",
       "      <td>12:23:2018:12:45</td>\n",
       "      <td>charge</td>\n",
       "    </tr>\n",
       "    <tr>\n",
       "      <th>T12343</th>\n",
       "      <td>Josephine</td>\n",
       "      <td>4.67</td>\n",
       "      <td>0.24</td>\n",
       "      <td>3</td>\n",
       "      <td>12:23:2018:12:45</td>\n",
       "      <td>cash</td>\n",
       "    </tr>\n",
       "  </tbody>\n",
       "</table>\n",
       "</div>"
      ],
      "text/plain": [
       "         customer  amount   tax  store          datetime payment_method\n",
       "T12342      Logan   10.89  0.55      2  12:23:2018:12:45         charge\n",
       "T12343  Josephine    4.67  0.24      3  12:23:2018:12:45           cash"
      ]
     },
     "execution_count": 11,
     "metadata": {},
     "output_type": "execute_result"
    }
   ],
   "source": [
    "print(df1)\n",
    "df1.iloc[1:3]"
   ]
  },
  {
   "cell_type": "markdown",
   "metadata": {},
   "source": [
    "iloc can also be used to select by row and column"
   ]
  },
  {
   "cell_type": "code",
   "execution_count": 23,
   "metadata": {},
   "outputs": [
    {
     "data": {
      "text/html": [
       "<div>\n",
       "<style scoped>\n",
       "    .dataframe tbody tr th:only-of-type {\n",
       "        vertical-align: middle;\n",
       "    }\n",
       "\n",
       "    .dataframe tbody tr th {\n",
       "        vertical-align: top;\n",
       "    }\n",
       "\n",
       "    .dataframe thead th {\n",
       "        text-align: right;\n",
       "    }\n",
       "</style>\n",
       "<table border=\"1\" class=\"dataframe\">\n",
       "  <thead>\n",
       "    <tr style=\"text-align: right;\">\n",
       "      <th></th>\n",
       "      <th>customer</th>\n",
       "      <th>amount</th>\n",
       "      <th>tax</th>\n",
       "      <th>store</th>\n",
       "      <th>datetime</th>\n",
       "      <th>payment_method</th>\n",
       "    </tr>\n",
       "  </thead>\n",
       "  <tbody>\n",
       "    <tr>\n",
       "      <th>T12341</th>\n",
       "      <td>George</td>\n",
       "      <td>12.75</td>\n",
       "      <td>0.64</td>\n",
       "      <td>1</td>\n",
       "      <td>12:23:2018:12:38</td>\n",
       "      <td>cash</td>\n",
       "    </tr>\n",
       "    <tr>\n",
       "      <th>T12342</th>\n",
       "      <td>Logan</td>\n",
       "      <td>10.89</td>\n",
       "      <td>0.55</td>\n",
       "      <td>2</td>\n",
       "      <td>12:23:2018:12:45</td>\n",
       "      <td>charge</td>\n",
       "    </tr>\n",
       "    <tr>\n",
       "      <th>T12343</th>\n",
       "      <td>Josephine</td>\n",
       "      <td>4.67</td>\n",
       "      <td>0.24</td>\n",
       "      <td>3</td>\n",
       "      <td>12:23:2018:12:45</td>\n",
       "      <td>cash</td>\n",
       "    </tr>\n",
       "    <tr>\n",
       "      <th>T12344</th>\n",
       "      <td>Steve</td>\n",
       "      <td>11.21</td>\n",
       "      <td>0.46</td>\n",
       "      <td>1</td>\n",
       "      <td>12:23:2018:12:47</td>\n",
       "      <td>charge</td>\n",
       "    </tr>\n",
       "    <tr>\n",
       "      <th>T12345</th>\n",
       "      <td>James</td>\n",
       "      <td>4.00</td>\n",
       "      <td>0.15</td>\n",
       "      <td>2</td>\n",
       "      <td>12:23:2018:12:49</td>\n",
       "      <td>cash</td>\n",
       "    </tr>\n",
       "  </tbody>\n",
       "</table>\n",
       "</div>"
      ],
      "text/plain": [
       "         customer  amount   tax  store          datetime payment_method\n",
       "T12341     George   12.75  0.64      1  12:23:2018:12:38           cash\n",
       "T12342      Logan   10.89  0.55      2  12:23:2018:12:45         charge\n",
       "T12343  Josephine    4.67  0.24      3  12:23:2018:12:45           cash\n",
       "T12344      Steve   11.21  0.46      1  12:23:2018:12:47         charge\n",
       "T12345      James    4.00  0.15      2  12:23:2018:12:49           cash"
      ]
     },
     "execution_count": 23,
     "metadata": {},
     "output_type": "execute_result"
    }
   ],
   "source": [
    "df1"
   ]
  },
  {
   "cell_type": "code",
   "execution_count": 20,
   "metadata": {},
   "outputs": [
    {
     "data": {
      "text/plain": [
       "'Josephine'"
      ]
     },
     "execution_count": 20,
     "metadata": {},
     "output_type": "execute_result"
    }
   ],
   "source": [
    "df1.iloc[2,0]"
   ]
  },
  {
   "cell_type": "code",
   "execution_count": 12,
   "metadata": {
    "tags": []
   },
   "outputs": [
    {
     "data": {
      "text/plain": [
       "T12343    0.24\n",
       "T12344    0.46\n",
       "Name: tax, dtype: float64"
      ]
     },
     "execution_count": 12,
     "metadata": {},
     "output_type": "execute_result"
    }
   ],
   "source": [
    "df1.iloc[2:4,2]"
   ]
  },
  {
   "cell_type": "code",
   "execution_count": 13,
   "metadata": {
    "tags": []
   },
   "outputs": [
    {
     "data": {
      "text/html": [
       "<div>\n",
       "<style scoped>\n",
       "    .dataframe tbody tr th:only-of-type {\n",
       "        vertical-align: middle;\n",
       "    }\n",
       "\n",
       "    .dataframe tbody tr th {\n",
       "        vertical-align: top;\n",
       "    }\n",
       "\n",
       "    .dataframe thead th {\n",
       "        text-align: right;\n",
       "    }\n",
       "</style>\n",
       "<table border=\"1\" class=\"dataframe\">\n",
       "  <thead>\n",
       "    <tr style=\"text-align: right;\">\n",
       "      <th></th>\n",
       "      <th>customer</th>\n",
       "      <th>amount</th>\n",
       "      <th>tax</th>\n",
       "    </tr>\n",
       "  </thead>\n",
       "  <tbody>\n",
       "    <tr>\n",
       "      <th>T12343</th>\n",
       "      <td>Josephine</td>\n",
       "      <td>4.67</td>\n",
       "      <td>0.24</td>\n",
       "    </tr>\n",
       "    <tr>\n",
       "      <th>T12344</th>\n",
       "      <td>Steve</td>\n",
       "      <td>11.21</td>\n",
       "      <td>0.46</td>\n",
       "    </tr>\n",
       "  </tbody>\n",
       "</table>\n",
       "</div>"
      ],
      "text/plain": [
       "         customer  amount   tax\n",
       "T12343  Josephine    4.67  0.24\n",
       "T12344      Steve   11.21  0.46"
      ]
     },
     "execution_count": 13,
     "metadata": {},
     "output_type": "execute_result"
    }
   ],
   "source": [
    "df1.iloc[2:4,0:3]"
   ]
  },
  {
   "cell_type": "code",
   "execution_count": 14,
   "metadata": {
    "tags": []
   },
   "outputs": [
    {
     "data": {
      "text/html": [
       "<div>\n",
       "<style scoped>\n",
       "    .dataframe tbody tr th:only-of-type {\n",
       "        vertical-align: middle;\n",
       "    }\n",
       "\n",
       "    .dataframe tbody tr th {\n",
       "        vertical-align: top;\n",
       "    }\n",
       "\n",
       "    .dataframe thead th {\n",
       "        text-align: right;\n",
       "    }\n",
       "</style>\n",
       "<table border=\"1\" class=\"dataframe\">\n",
       "  <thead>\n",
       "    <tr style=\"text-align: right;\">\n",
       "      <th></th>\n",
       "      <th>datetime</th>\n",
       "      <th>tax</th>\n",
       "      <th>payment_method</th>\n",
       "    </tr>\n",
       "  </thead>\n",
       "  <tbody>\n",
       "    <tr>\n",
       "      <th>T12341</th>\n",
       "      <td>12:23:2018:12:38</td>\n",
       "      <td>0.64</td>\n",
       "      <td>cash</td>\n",
       "    </tr>\n",
       "    <tr>\n",
       "      <th>T12342</th>\n",
       "      <td>12:23:2018:12:45</td>\n",
       "      <td>0.55</td>\n",
       "      <td>charge</td>\n",
       "    </tr>\n",
       "    <tr>\n",
       "      <th>T12344</th>\n",
       "      <td>12:23:2018:12:47</td>\n",
       "      <td>0.46</td>\n",
       "      <td>charge</td>\n",
       "    </tr>\n",
       "  </tbody>\n",
       "</table>\n",
       "</div>"
      ],
      "text/plain": [
       "                datetime   tax payment_method\n",
       "T12341  12:23:2018:12:38  0.64           cash\n",
       "T12342  12:23:2018:12:45  0.55         charge\n",
       "T12344  12:23:2018:12:47  0.46         charge"
      ]
     },
     "execution_count": 14,
     "metadata": {},
     "output_type": "execute_result"
    }
   ],
   "source": [
    "df1.iloc[[0,1,3],[4,2,5]]"
   ]
  },
  {
   "cell_type": "code",
   "execution_count": 24,
   "metadata": {},
   "outputs": [
    {
     "data": {
      "text/plain": [
       "T12342    0.55\n",
       "T12343    0.24\n",
       "Name: tax, dtype: float64"
      ]
     },
     "execution_count": 24,
     "metadata": {},
     "output_type": "execute_result"
    }
   ],
   "source": [
    "df1.tax.iloc[1:3]"
   ]
  },
  {
   "cell_type": "markdown",
   "metadata": {},
   "source": [
    "**The following fails**"
   ]
  },
  {
   "cell_type": "code",
   "execution_count": 15,
   "metadata": {
    "tags": []
   },
   "outputs": [
    {
     "ename": "ValueError",
     "evalue": "Location based indexing can only have [integer, integer slice (START point is INCLUDED, END point is EXCLUDED), listlike of integers, boolean array] types",
     "output_type": "error",
     "traceback": [
      "\u001b[1;31m---------------------------------------------------------------------------\u001b[0m",
      "\u001b[1;31mValueError\u001b[0m                                Traceback (most recent call last)",
      "File \u001b[1;32m~\\anaconda3\\Lib\\site-packages\\pandas\\core\\indexing.py:873\u001b[0m, in \u001b[0;36m_LocationIndexer._validate_tuple_indexer\u001b[1;34m(self, key)\u001b[0m\n\u001b[0;32m    872\u001b[0m \u001b[38;5;28;01mtry\u001b[39;00m:\n\u001b[1;32m--> 873\u001b[0m     \u001b[38;5;28mself\u001b[39m\u001b[38;5;241m.\u001b[39m_validate_key(k, i)\n\u001b[0;32m    874\u001b[0m \u001b[38;5;28;01mexcept\u001b[39;00m \u001b[38;5;167;01mValueError\u001b[39;00m \u001b[38;5;28;01mas\u001b[39;00m err:\n",
      "File \u001b[1;32m~\\anaconda3\\Lib\\site-packages\\pandas\\core\\indexing.py:1483\u001b[0m, in \u001b[0;36m_iLocIndexer._validate_key\u001b[1;34m(self, key, axis)\u001b[0m\n\u001b[0;32m   1482\u001b[0m \u001b[38;5;28;01melse\u001b[39;00m:\n\u001b[1;32m-> 1483\u001b[0m     \u001b[38;5;28;01mraise\u001b[39;00m \u001b[38;5;167;01mValueError\u001b[39;00m(\u001b[38;5;124mf\u001b[39m\u001b[38;5;124m\"\u001b[39m\u001b[38;5;124mCan only index by location with a [\u001b[39m\u001b[38;5;132;01m{\u001b[39;00m\u001b[38;5;28mself\u001b[39m\u001b[38;5;241m.\u001b[39m_valid_types\u001b[38;5;132;01m}\u001b[39;00m\u001b[38;5;124m]\u001b[39m\u001b[38;5;124m\"\u001b[39m)\n",
      "\u001b[1;31mValueError\u001b[0m: Can only index by location with a [integer, integer slice (START point is INCLUDED, END point is EXCLUDED), listlike of integers, boolean array]",
      "\nThe above exception was the direct cause of the following exception:\n",
      "\u001b[1;31mValueError\u001b[0m                                Traceback (most recent call last)",
      "Cell \u001b[1;32mIn[15], line 1\u001b[0m\n\u001b[1;32m----> 1\u001b[0m df1\u001b[38;5;241m.\u001b[39miloc[\u001b[38;5;241m2\u001b[39m,\u001b[38;5;124m\"\u001b[39m\u001b[38;5;124mcustomer\u001b[39m\u001b[38;5;124m\"\u001b[39m]\n",
      "File \u001b[1;32m~\\anaconda3\\Lib\\site-packages\\pandas\\core\\indexing.py:1067\u001b[0m, in \u001b[0;36m_LocationIndexer.__getitem__\u001b[1;34m(self, key)\u001b[0m\n\u001b[0;32m   1065\u001b[0m     \u001b[38;5;28;01mif\u001b[39;00m \u001b[38;5;28mself\u001b[39m\u001b[38;5;241m.\u001b[39m_is_scalar_access(key):\n\u001b[0;32m   1066\u001b[0m         \u001b[38;5;28;01mreturn\u001b[39;00m \u001b[38;5;28mself\u001b[39m\u001b[38;5;241m.\u001b[39mobj\u001b[38;5;241m.\u001b[39m_get_value(\u001b[38;5;241m*\u001b[39mkey, takeable\u001b[38;5;241m=\u001b[39m\u001b[38;5;28mself\u001b[39m\u001b[38;5;241m.\u001b[39m_takeable)\n\u001b[1;32m-> 1067\u001b[0m     \u001b[38;5;28;01mreturn\u001b[39;00m \u001b[38;5;28mself\u001b[39m\u001b[38;5;241m.\u001b[39m_getitem_tuple(key)\n\u001b[0;32m   1068\u001b[0m \u001b[38;5;28;01melse\u001b[39;00m:\n\u001b[0;32m   1069\u001b[0m     \u001b[38;5;66;03m# we by definition only have the 0th axis\u001b[39;00m\n\u001b[0;32m   1070\u001b[0m     axis \u001b[38;5;241m=\u001b[39m \u001b[38;5;28mself\u001b[39m\u001b[38;5;241m.\u001b[39maxis \u001b[38;5;129;01mor\u001b[39;00m \u001b[38;5;241m0\u001b[39m\n",
      "File \u001b[1;32m~\\anaconda3\\Lib\\site-packages\\pandas\\core\\indexing.py:1563\u001b[0m, in \u001b[0;36m_iLocIndexer._getitem_tuple\u001b[1;34m(self, tup)\u001b[0m\n\u001b[0;32m   1561\u001b[0m \u001b[38;5;28;01mdef\u001b[39;00m \u001b[38;5;21m_getitem_tuple\u001b[39m(\u001b[38;5;28mself\u001b[39m, tup: \u001b[38;5;28mtuple\u001b[39m):\n\u001b[1;32m-> 1563\u001b[0m     tup \u001b[38;5;241m=\u001b[39m \u001b[38;5;28mself\u001b[39m\u001b[38;5;241m.\u001b[39m_validate_tuple_indexer(tup)\n\u001b[0;32m   1564\u001b[0m     \u001b[38;5;28;01mwith\u001b[39;00m suppress(IndexingError):\n\u001b[0;32m   1565\u001b[0m         \u001b[38;5;28;01mreturn\u001b[39;00m \u001b[38;5;28mself\u001b[39m\u001b[38;5;241m.\u001b[39m_getitem_lowerdim(tup)\n",
      "File \u001b[1;32m~\\anaconda3\\Lib\\site-packages\\pandas\\core\\indexing.py:875\u001b[0m, in \u001b[0;36m_LocationIndexer._validate_tuple_indexer\u001b[1;34m(self, key)\u001b[0m\n\u001b[0;32m    873\u001b[0m         \u001b[38;5;28mself\u001b[39m\u001b[38;5;241m.\u001b[39m_validate_key(k, i)\n\u001b[0;32m    874\u001b[0m     \u001b[38;5;28;01mexcept\u001b[39;00m \u001b[38;5;167;01mValueError\u001b[39;00m \u001b[38;5;28;01mas\u001b[39;00m err:\n\u001b[1;32m--> 875\u001b[0m         \u001b[38;5;28;01mraise\u001b[39;00m \u001b[38;5;167;01mValueError\u001b[39;00m(\n\u001b[0;32m    876\u001b[0m             \u001b[38;5;124m\"\u001b[39m\u001b[38;5;124mLocation based indexing can only have \u001b[39m\u001b[38;5;124m\"\u001b[39m\n\u001b[0;32m    877\u001b[0m             \u001b[38;5;124mf\u001b[39m\u001b[38;5;124m\"\u001b[39m\u001b[38;5;124m[\u001b[39m\u001b[38;5;132;01m{\u001b[39;00m\u001b[38;5;28mself\u001b[39m\u001b[38;5;241m.\u001b[39m_valid_types\u001b[38;5;132;01m}\u001b[39;00m\u001b[38;5;124m] types\u001b[39m\u001b[38;5;124m\"\u001b[39m\n\u001b[0;32m    878\u001b[0m         ) \u001b[38;5;28;01mfrom\u001b[39;00m \u001b[38;5;21;01merr\u001b[39;00m\n\u001b[0;32m    879\u001b[0m \u001b[38;5;28;01mreturn\u001b[39;00m key\n",
      "\u001b[1;31mValueError\u001b[0m: Location based indexing can only have [integer, integer slice (START point is INCLUDED, END point is EXCLUDED), listlike of integers, boolean array] types"
     ]
    }
   ],
   "source": [
    "df1.iloc[2,\"customer\"]"
   ]
  },
  {
   "cell_type": "markdown",
   "metadata": {},
   "source": [
    "**iat**\n",
    "\n",
    "We can also select by position using iat, which is faster than iloc, but not as flexible as we can't use ranges.\n"
   ]
  },
  {
   "cell_type": "code",
   "execution_count": 16,
   "metadata": {
    "tags": []
   },
   "outputs": [
    {
     "data": {
      "text/plain": [
       "'12:23:2018:12:45'"
      ]
     },
     "execution_count": 16,
     "metadata": {},
     "output_type": "execute_result"
    }
   ],
   "source": [
    "df1.iat[2,4]"
   ]
  },
  {
   "cell_type": "code",
   "execution_count": 17,
   "metadata": {
    "tags": []
   },
   "outputs": [
    {
     "ename": "ValueError",
     "evalue": "iAt based indexing can only have integer indexers",
     "output_type": "error",
     "traceback": [
      "\u001b[1;31m---------------------------------------------------------------------------\u001b[0m",
      "\u001b[1;31mValueError\u001b[0m                                Traceback (most recent call last)",
      "Cell \u001b[1;32mIn[17], line 1\u001b[0m\n\u001b[1;32m----> 1\u001b[0m df1\u001b[38;5;241m.\u001b[39miat[[\u001b[38;5;241m2\u001b[39m,\u001b[38;5;241m3\u001b[39m],\u001b[38;5;241m4\u001b[39m]\n",
      "File \u001b[1;32m~\\anaconda3\\Lib\\site-packages\\pandas\\core\\indexing.py:2381\u001b[0m, in \u001b[0;36m_ScalarAccessIndexer.__getitem__\u001b[1;34m(self, key)\u001b[0m\n\u001b[0;32m   2378\u001b[0m     \u001b[38;5;28;01melse\u001b[39;00m:\n\u001b[0;32m   2379\u001b[0m         \u001b[38;5;28;01mraise\u001b[39;00m \u001b[38;5;167;01mValueError\u001b[39;00m(\u001b[38;5;124m\"\u001b[39m\u001b[38;5;124mInvalid call for scalar access (getting)!\u001b[39m\u001b[38;5;124m\"\u001b[39m)\n\u001b[1;32m-> 2381\u001b[0m key \u001b[38;5;241m=\u001b[39m \u001b[38;5;28mself\u001b[39m\u001b[38;5;241m.\u001b[39m_convert_key(key)\n\u001b[0;32m   2382\u001b[0m \u001b[38;5;28;01mreturn\u001b[39;00m \u001b[38;5;28mself\u001b[39m\u001b[38;5;241m.\u001b[39mobj\u001b[38;5;241m.\u001b[39m_get_value(\u001b[38;5;241m*\u001b[39mkey, takeable\u001b[38;5;241m=\u001b[39m\u001b[38;5;28mself\u001b[39m\u001b[38;5;241m.\u001b[39m_takeable)\n",
      "File \u001b[1;32m~\\anaconda3\\Lib\\site-packages\\pandas\\core\\indexing.py:2455\u001b[0m, in \u001b[0;36m_iAtIndexer._convert_key\u001b[1;34m(self, key)\u001b[0m\n\u001b[0;32m   2453\u001b[0m \u001b[38;5;28;01mfor\u001b[39;00m i \u001b[38;5;129;01min\u001b[39;00m key:\n\u001b[0;32m   2454\u001b[0m     \u001b[38;5;28;01mif\u001b[39;00m \u001b[38;5;129;01mnot\u001b[39;00m is_integer(i):\n\u001b[1;32m-> 2455\u001b[0m         \u001b[38;5;28;01mraise\u001b[39;00m \u001b[38;5;167;01mValueError\u001b[39;00m(\u001b[38;5;124m\"\u001b[39m\u001b[38;5;124miAt based indexing can only have integer indexers\u001b[39m\u001b[38;5;124m\"\u001b[39m)\n\u001b[0;32m   2456\u001b[0m \u001b[38;5;28;01mreturn\u001b[39;00m key\n",
      "\u001b[1;31mValueError\u001b[0m: iAt based indexing can only have integer indexers"
     ]
    }
   ],
   "source": [
    "df1.iat[[2,3],4]"
   ]
  },
  {
   "cell_type": "markdown",
   "metadata": {},
   "source": [
    "**Selection by index**\n",
    "\n",
    "To select by index, we use the loc method. \n",
    "\n",
    "(Unfortunate chosen word IMHO? \"loc\" sounds like location and \"iloc\" sounds like index)\n",
    "\n",
    "If we select a single observation we get a pandas series object."
   ]
  },
  {
   "cell_type": "code",
   "execution_count": 18,
   "metadata": {
    "tags": []
   },
   "outputs": [
    {
     "name": "stdout",
     "output_type": "stream",
     "text": [
      "         customer  amount   tax  store          datetime payment_method\n",
      "T12341     George   12.75  0.64      1  12:23:2018:12:38           cash\n",
      "T12342      Logan   10.89  0.55      2  12:23:2018:12:45         charge\n",
      "T12343  Josephine    4.67  0.24      3  12:23:2018:12:45           cash\n",
      "T12344      Steve   11.21  0.46      1  12:23:2018:12:47         charge\n",
      "T12345      James    4.00  0.15      2  12:23:2018:12:49           cash\n",
      "customer                    George\n",
      "amount                       12.75\n",
      "tax                           0.64\n",
      "store                            1\n",
      "datetime          12:23:2018:12:38\n",
      "payment_method                cash\n",
      "Name: T12341, dtype: object\n"
     ]
    }
   ],
   "source": [
    "print(df1)\n",
    "print(df1.loc[\"T12341\"])"
   ]
  },
  {
   "cell_type": "markdown",
   "metadata": {},
   "source": [
    "If we pass a list we get a data frame or a pandas series if the list has only one element."
   ]
  },
  {
   "cell_type": "code",
   "execution_count": 19,
   "metadata": {
    "tags": []
   },
   "outputs": [
    {
     "data": {
      "text/html": [
       "<div>\n",
       "<style scoped>\n",
       "    .dataframe tbody tr th:only-of-type {\n",
       "        vertical-align: middle;\n",
       "    }\n",
       "\n",
       "    .dataframe tbody tr th {\n",
       "        vertical-align: top;\n",
       "    }\n",
       "\n",
       "    .dataframe thead th {\n",
       "        text-align: right;\n",
       "    }\n",
       "</style>\n",
       "<table border=\"1\" class=\"dataframe\">\n",
       "  <thead>\n",
       "    <tr style=\"text-align: right;\">\n",
       "      <th></th>\n",
       "      <th>customer</th>\n",
       "      <th>amount</th>\n",
       "      <th>tax</th>\n",
       "      <th>store</th>\n",
       "      <th>datetime</th>\n",
       "      <th>payment_method</th>\n",
       "    </tr>\n",
       "  </thead>\n",
       "  <tbody>\n",
       "    <tr>\n",
       "      <th>T12341</th>\n",
       "      <td>George</td>\n",
       "      <td>12.75</td>\n",
       "      <td>0.64</td>\n",
       "      <td>1</td>\n",
       "      <td>12:23:2018:12:38</td>\n",
       "      <td>cash</td>\n",
       "    </tr>\n",
       "    <tr>\n",
       "      <th>T12343</th>\n",
       "      <td>Josephine</td>\n",
       "      <td>4.67</td>\n",
       "      <td>0.24</td>\n",
       "      <td>3</td>\n",
       "      <td>12:23:2018:12:45</td>\n",
       "      <td>cash</td>\n",
       "    </tr>\n",
       "  </tbody>\n",
       "</table>\n",
       "</div>"
      ],
      "text/plain": [
       "         customer  amount   tax  store          datetime payment_method\n",
       "T12341     George   12.75  0.64      1  12:23:2018:12:38           cash\n",
       "T12343  Josephine    4.67  0.24      3  12:23:2018:12:45           cash"
      ]
     },
     "execution_count": 19,
     "metadata": {},
     "output_type": "execute_result"
    }
   ],
   "source": [
    "df1.loc[[\"T12341\",\"T12343\"]]"
   ]
  },
  {
   "cell_type": "code",
   "execution_count": 30,
   "metadata": {},
   "outputs": [
    {
     "data": {
      "text/plain": [
       "pandas.core.frame.DataFrame"
      ]
     },
     "execution_count": 30,
     "metadata": {},
     "output_type": "execute_result"
    }
   ],
   "source": [
    "type(df1.loc[[\"T12341\",\"T12343\"]])"
   ]
  },
  {
   "cell_type": "code",
   "execution_count": 20,
   "metadata": {},
   "outputs": [
    {
     "data": {
      "text/html": [
       "<div>\n",
       "<style scoped>\n",
       "    .dataframe tbody tr th:only-of-type {\n",
       "        vertical-align: middle;\n",
       "    }\n",
       "\n",
       "    .dataframe tbody tr th {\n",
       "        vertical-align: top;\n",
       "    }\n",
       "\n",
       "    .dataframe thead th {\n",
       "        text-align: right;\n",
       "    }\n",
       "</style>\n",
       "<table border=\"1\" class=\"dataframe\">\n",
       "  <thead>\n",
       "    <tr style=\"text-align: right;\">\n",
       "      <th></th>\n",
       "      <th>customer</th>\n",
       "      <th>amount</th>\n",
       "      <th>tax</th>\n",
       "      <th>store</th>\n",
       "      <th>datetime</th>\n",
       "      <th>payment_method</th>\n",
       "    </tr>\n",
       "  </thead>\n",
       "  <tbody>\n",
       "    <tr>\n",
       "      <th>T12342</th>\n",
       "      <td>Logan</td>\n",
       "      <td>10.89</td>\n",
       "      <td>0.55</td>\n",
       "      <td>2</td>\n",
       "      <td>12:23:2018:12:45</td>\n",
       "      <td>charge</td>\n",
       "    </tr>\n",
       "  </tbody>\n",
       "</table>\n",
       "</div>"
      ],
      "text/plain": [
       "       customer  amount   tax  store          datetime payment_method\n",
       "T12342    Logan   10.89  0.55      2  12:23:2018:12:45         charge"
      ]
     },
     "execution_count": 20,
     "metadata": {},
     "output_type": "execute_result"
    }
   ],
   "source": [
    "df1.loc[[\"T12342\"]]"
   ]
  },
  {
   "cell_type": "markdown",
   "metadata": {},
   "source": [
    "We can use loc to select rows and columns."
   ]
  },
  {
   "cell_type": "code",
   "execution_count": 20,
   "metadata": {
    "tags": []
   },
   "outputs": [
    {
     "data": {
      "text/plain": [
       "T12341    12.75\n",
       "T12342    10.89\n",
       "Name: amount, dtype: float64"
      ]
     },
     "execution_count": 20,
     "metadata": {},
     "output_type": "execute_result"
    }
   ],
   "source": [
    "df1.loc[[\"T12341\",\"T12342\"],\"amount\"]"
   ]
  },
  {
   "cell_type": "code",
   "execution_count": 21,
   "metadata": {
    "tags": []
   },
   "outputs": [
    {
     "data": {
      "text/html": [
       "<div>\n",
       "<style scoped>\n",
       "    .dataframe tbody tr th:only-of-type {\n",
       "        vertical-align: middle;\n",
       "    }\n",
       "\n",
       "    .dataframe tbody tr th {\n",
       "        vertical-align: top;\n",
       "    }\n",
       "\n",
       "    .dataframe thead th {\n",
       "        text-align: right;\n",
       "    }\n",
       "</style>\n",
       "<table border=\"1\" class=\"dataframe\">\n",
       "  <thead>\n",
       "    <tr style=\"text-align: right;\">\n",
       "      <th></th>\n",
       "      <th>amount</th>\n",
       "      <th>tax</th>\n",
       "    </tr>\n",
       "  </thead>\n",
       "  <tbody>\n",
       "    <tr>\n",
       "      <th>T12341</th>\n",
       "      <td>12.75</td>\n",
       "      <td>0.64</td>\n",
       "    </tr>\n",
       "    <tr>\n",
       "      <th>T12342</th>\n",
       "      <td>10.89</td>\n",
       "      <td>0.55</td>\n",
       "    </tr>\n",
       "  </tbody>\n",
       "</table>\n",
       "</div>"
      ],
      "text/plain": [
       "        amount   tax\n",
       "T12341   12.75  0.64\n",
       "T12342   10.89  0.55"
      ]
     },
     "execution_count": 21,
     "metadata": {},
     "output_type": "execute_result"
    }
   ],
   "source": [
    "df1.loc[[\"T12341\",\"T12342\"],[\"amount\",\"tax\"]]"
   ]
  },
  {
   "cell_type": "code",
   "execution_count": 23,
   "metadata": {},
   "outputs": [
    {
     "data": {
      "text/html": [
       "<div>\n",
       "<style scoped>\n",
       "    .dataframe tbody tr th:only-of-type {\n",
       "        vertical-align: middle;\n",
       "    }\n",
       "\n",
       "    .dataframe tbody tr th {\n",
       "        vertical-align: top;\n",
       "    }\n",
       "\n",
       "    .dataframe thead th {\n",
       "        text-align: right;\n",
       "    }\n",
       "</style>\n",
       "<table border=\"1\" class=\"dataframe\">\n",
       "  <thead>\n",
       "    <tr style=\"text-align: right;\">\n",
       "      <th></th>\n",
       "      <th>customer</th>\n",
       "      <th>amount</th>\n",
       "      <th>tax</th>\n",
       "      <th>store</th>\n",
       "      <th>datetime</th>\n",
       "      <th>payment_method</th>\n",
       "    </tr>\n",
       "  </thead>\n",
       "  <tbody>\n",
       "    <tr>\n",
       "      <th>T12341</th>\n",
       "      <td>George</td>\n",
       "      <td>12.75</td>\n",
       "      <td>0.64</td>\n",
       "      <td>1</td>\n",
       "      <td>12:23:2018:12:38</td>\n",
       "      <td>cash</td>\n",
       "    </tr>\n",
       "    <tr>\n",
       "      <th>T12342</th>\n",
       "      <td>Thomas</td>\n",
       "      <td>10.89</td>\n",
       "      <td>0.55</td>\n",
       "      <td>2</td>\n",
       "      <td>12:23:2018:12:45</td>\n",
       "      <td>charge</td>\n",
       "    </tr>\n",
       "    <tr>\n",
       "      <th>T12343</th>\n",
       "      <td>Josephine</td>\n",
       "      <td>4.67</td>\n",
       "      <td>0.24</td>\n",
       "      <td>3</td>\n",
       "      <td>12:23:2018:12:45</td>\n",
       "      <td>cash</td>\n",
       "    </tr>\n",
       "    <tr>\n",
       "      <th>T12344</th>\n",
       "      <td>Steve</td>\n",
       "      <td>11.21</td>\n",
       "      <td>0.46</td>\n",
       "      <td>1</td>\n",
       "      <td>12:23:2018:12:47</td>\n",
       "      <td>charge</td>\n",
       "    </tr>\n",
       "    <tr>\n",
       "      <th>T12345</th>\n",
       "      <td>James</td>\n",
       "      <td>4.00</td>\n",
       "      <td>0.15</td>\n",
       "      <td>2</td>\n",
       "      <td>12:23:2018:12:49</td>\n",
       "      <td>cash</td>\n",
       "    </tr>\n",
       "  </tbody>\n",
       "</table>\n",
       "</div>"
      ],
      "text/plain": [
       "         customer  amount   tax  store          datetime payment_method\n",
       "T12341     George   12.75  0.64      1  12:23:2018:12:38           cash\n",
       "T12342     Thomas   10.89  0.55      2  12:23:2018:12:45         charge\n",
       "T12343  Josephine    4.67  0.24      3  12:23:2018:12:45           cash\n",
       "T12344      Steve   11.21  0.46      1  12:23:2018:12:47         charge\n",
       "T12345      James    4.00  0.15      2  12:23:2018:12:49           cash"
      ]
     },
     "execution_count": 23,
     "metadata": {},
     "output_type": "execute_result"
    }
   ],
   "source": [
    "df2"
   ]
  },
  {
   "cell_type": "markdown",
   "metadata": {},
   "source": [
    "**Redefining the index**"
   ]
  },
  {
   "cell_type": "code",
   "execution_count": 22,
   "metadata": {
    "tags": []
   },
   "outputs": [],
   "source": [
    "df2.set_index('store',inplace=True)"
   ]
  },
  {
   "cell_type": "code",
   "execution_count": 24,
   "metadata": {
    "tags": []
   },
   "outputs": [
    {
     "data": {
      "text/html": [
       "<div>\n",
       "<style scoped>\n",
       "    .dataframe tbody tr th:only-of-type {\n",
       "        vertical-align: middle;\n",
       "    }\n",
       "\n",
       "    .dataframe tbody tr th {\n",
       "        vertical-align: top;\n",
       "    }\n",
       "\n",
       "    .dataframe thead th {\n",
       "        text-align: right;\n",
       "    }\n",
       "</style>\n",
       "<table border=\"1\" class=\"dataframe\">\n",
       "  <thead>\n",
       "    <tr style=\"text-align: right;\">\n",
       "      <th></th>\n",
       "      <th>customer</th>\n",
       "      <th>amount</th>\n",
       "      <th>tax</th>\n",
       "      <th>datetime</th>\n",
       "      <th>payment_method</th>\n",
       "    </tr>\n",
       "    <tr>\n",
       "      <th>store</th>\n",
       "      <th></th>\n",
       "      <th></th>\n",
       "      <th></th>\n",
       "      <th></th>\n",
       "      <th></th>\n",
       "    </tr>\n",
       "  </thead>\n",
       "  <tbody>\n",
       "    <tr>\n",
       "      <th>1</th>\n",
       "      <td>George</td>\n",
       "      <td>12.75</td>\n",
       "      <td>0.64</td>\n",
       "      <td>12:23:2018:12:38</td>\n",
       "      <td>cash</td>\n",
       "    </tr>\n",
       "    <tr>\n",
       "      <th>2</th>\n",
       "      <td>Thomas</td>\n",
       "      <td>10.89</td>\n",
       "      <td>0.55</td>\n",
       "      <td>12:23:2018:12:45</td>\n",
       "      <td>charge</td>\n",
       "    </tr>\n",
       "    <tr>\n",
       "      <th>3</th>\n",
       "      <td>Josephine</td>\n",
       "      <td>4.67</td>\n",
       "      <td>0.24</td>\n",
       "      <td>12:23:2018:12:45</td>\n",
       "      <td>cash</td>\n",
       "    </tr>\n",
       "    <tr>\n",
       "      <th>1</th>\n",
       "      <td>Steve</td>\n",
       "      <td>11.21</td>\n",
       "      <td>0.46</td>\n",
       "      <td>12:23:2018:12:47</td>\n",
       "      <td>charge</td>\n",
       "    </tr>\n",
       "    <tr>\n",
       "      <th>2</th>\n",
       "      <td>James</td>\n",
       "      <td>4.00</td>\n",
       "      <td>0.15</td>\n",
       "      <td>12:23:2018:12:49</td>\n",
       "      <td>cash</td>\n",
       "    </tr>\n",
       "  </tbody>\n",
       "</table>\n",
       "</div>"
      ],
      "text/plain": [
       "        customer  amount   tax          datetime payment_method\n",
       "store                                                          \n",
       "1         George   12.75  0.64  12:23:2018:12:38           cash\n",
       "2         Thomas   10.89  0.55  12:23:2018:12:45         charge\n",
       "3      Josephine    4.67  0.24  12:23:2018:12:45           cash\n",
       "1          Steve   11.21  0.46  12:23:2018:12:47         charge\n",
       "2          James    4.00  0.15  12:23:2018:12:49           cash"
      ]
     },
     "execution_count": 24,
     "metadata": {},
     "output_type": "execute_result"
    }
   ],
   "source": [
    "df2"
   ]
  },
  {
   "cell_type": "code",
   "execution_count": 42,
   "metadata": {},
   "outputs": [
    {
     "data": {
      "text/html": [
       "<div>\n",
       "<style scoped>\n",
       "    .dataframe tbody tr th:only-of-type {\n",
       "        vertical-align: middle;\n",
       "    }\n",
       "\n",
       "    .dataframe tbody tr th {\n",
       "        vertical-align: top;\n",
       "    }\n",
       "\n",
       "    .dataframe thead th {\n",
       "        text-align: right;\n",
       "    }\n",
       "</style>\n",
       "<table border=\"1\" class=\"dataframe\">\n",
       "  <thead>\n",
       "    <tr style=\"text-align: right;\">\n",
       "      <th></th>\n",
       "      <th>customer</th>\n",
       "      <th>amount</th>\n",
       "      <th>tax</th>\n",
       "      <th>datetime</th>\n",
       "      <th>payment_method</th>\n",
       "    </tr>\n",
       "    <tr>\n",
       "      <th>store</th>\n",
       "      <th></th>\n",
       "      <th></th>\n",
       "      <th></th>\n",
       "      <th></th>\n",
       "      <th></th>\n",
       "    </tr>\n",
       "  </thead>\n",
       "  <tbody>\n",
       "    <tr>\n",
       "      <th>1</th>\n",
       "      <td>George</td>\n",
       "      <td>12.75</td>\n",
       "      <td>0.64</td>\n",
       "      <td>12:23:2018:12:38</td>\n",
       "      <td>cash</td>\n",
       "    </tr>\n",
       "    <tr>\n",
       "      <th>1</th>\n",
       "      <td>Steve</td>\n",
       "      <td>11.21</td>\n",
       "      <td>0.46</td>\n",
       "      <td>12:23:2018:12:47</td>\n",
       "      <td>charge</td>\n",
       "    </tr>\n",
       "  </tbody>\n",
       "</table>\n",
       "</div>"
      ],
      "text/plain": [
       "      customer  amount   tax          datetime payment_method\n",
       "store                                                        \n",
       "1       George   12.75  0.64  12:23:2018:12:38           cash\n",
       "1        Steve   11.21  0.46  12:23:2018:12:47         charge"
      ]
     },
     "execution_count": 42,
     "metadata": {},
     "output_type": "execute_result"
    }
   ],
   "source": [
    "df2.loc[1]"
   ]
  },
  {
   "cell_type": "code",
   "execution_count": 25,
   "metadata": {
    "tags": []
   },
   "outputs": [
    {
     "data": {
      "text/html": [
       "<div>\n",
       "<style scoped>\n",
       "    .dataframe tbody tr th:only-of-type {\n",
       "        vertical-align: middle;\n",
       "    }\n",
       "\n",
       "    .dataframe tbody tr th {\n",
       "        vertical-align: top;\n",
       "    }\n",
       "\n",
       "    .dataframe thead th {\n",
       "        text-align: right;\n",
       "    }\n",
       "</style>\n",
       "<table border=\"1\" class=\"dataframe\">\n",
       "  <thead>\n",
       "    <tr style=\"text-align: right;\">\n",
       "      <th></th>\n",
       "      <th>customer</th>\n",
       "      <th>amount</th>\n",
       "      <th>tax</th>\n",
       "      <th>datetime</th>\n",
       "      <th>payment_method</th>\n",
       "    </tr>\n",
       "    <tr>\n",
       "      <th>store</th>\n",
       "      <th></th>\n",
       "      <th></th>\n",
       "      <th></th>\n",
       "      <th></th>\n",
       "      <th></th>\n",
       "    </tr>\n",
       "  </thead>\n",
       "  <tbody>\n",
       "    <tr>\n",
       "      <th>1</th>\n",
       "      <td>George</td>\n",
       "      <td>12.75</td>\n",
       "      <td>0.64</td>\n",
       "      <td>12:23:2018:12:38</td>\n",
       "      <td>cash</td>\n",
       "    </tr>\n",
       "    <tr>\n",
       "      <th>1</th>\n",
       "      <td>Steve</td>\n",
       "      <td>11.21</td>\n",
       "      <td>0.46</td>\n",
       "      <td>12:23:2018:12:47</td>\n",
       "      <td>charge</td>\n",
       "    </tr>\n",
       "  </tbody>\n",
       "</table>\n",
       "</div>"
      ],
      "text/plain": [
       "      customer  amount   tax          datetime payment_method\n",
       "store                                                        \n",
       "1       George   12.75  0.64  12:23:2018:12:38           cash\n",
       "1        Steve   11.21  0.46  12:23:2018:12:47         charge"
      ]
     },
     "execution_count": 25,
     "metadata": {},
     "output_type": "execute_result"
    }
   ],
   "source": [
    "df2.loc[df2.index==1]"
   ]
  },
  {
   "cell_type": "code",
   "execution_count": 45,
   "metadata": {},
   "outputs": [
    {
     "data": {
      "text/html": [
       "<div>\n",
       "<style scoped>\n",
       "    .dataframe tbody tr th:only-of-type {\n",
       "        vertical-align: middle;\n",
       "    }\n",
       "\n",
       "    .dataframe tbody tr th {\n",
       "        vertical-align: top;\n",
       "    }\n",
       "\n",
       "    .dataframe thead th {\n",
       "        text-align: right;\n",
       "    }\n",
       "</style>\n",
       "<table border=\"1\" class=\"dataframe\">\n",
       "  <thead>\n",
       "    <tr style=\"text-align: right;\">\n",
       "      <th></th>\n",
       "      <th>customer</th>\n",
       "      <th>amount</th>\n",
       "      <th>tax</th>\n",
       "      <th>datetime</th>\n",
       "      <th>payment_method</th>\n",
       "    </tr>\n",
       "    <tr>\n",
       "      <th>store</th>\n",
       "      <th></th>\n",
       "      <th></th>\n",
       "      <th></th>\n",
       "      <th></th>\n",
       "      <th></th>\n",
       "    </tr>\n",
       "  </thead>\n",
       "  <tbody>\n",
       "    <tr>\n",
       "      <th>1</th>\n",
       "      <td>George</td>\n",
       "      <td>12.75</td>\n",
       "      <td>0.64</td>\n",
       "      <td>12:23:2018:12:38</td>\n",
       "      <td>cash</td>\n",
       "    </tr>\n",
       "    <tr>\n",
       "      <th>1</th>\n",
       "      <td>Steve</td>\n",
       "      <td>11.21</td>\n",
       "      <td>0.46</td>\n",
       "      <td>12:23:2018:12:47</td>\n",
       "      <td>charge</td>\n",
       "    </tr>\n",
       "  </tbody>\n",
       "</table>\n",
       "</div>"
      ],
      "text/plain": [
       "      customer  amount   tax          datetime payment_method\n",
       "store                                                        \n",
       "1       George   12.75  0.64  12:23:2018:12:38           cash\n",
       "1        Steve   11.21  0.46  12:23:2018:12:47         charge"
      ]
     },
     "execution_count": 45,
     "metadata": {},
     "output_type": "execute_result"
    }
   ],
   "source": [
    "df2.iloc[df2.index==1]"
   ]
  },
  {
   "cell_type": "code",
   "execution_count": null,
   "metadata": {},
   "outputs": [],
   "source": []
  }
 ],
 "metadata": {
  "kernelspec": {
   "display_name": "Python 3 (ipykernel)",
   "language": "python",
   "name": "python3"
  },
  "language_info": {
   "codemirror_mode": {
    "name": "ipython",
    "version": 3
   },
   "file_extension": ".py",
   "mimetype": "text/x-python",
   "name": "python",
   "nbconvert_exporter": "python",
   "pygments_lexer": "ipython3",
   "version": "3.11.4"
  }
 },
 "nbformat": 4,
 "nbformat_minor": 4
}
