{
 "cells": [
  {
   "cell_type": "markdown",
   "id": "0992adab-e930-403b-b872-52f21550f26c",
   "metadata": {},
   "source": [
    "**Modifications to classical least squares regression**\n",
    "\n",
    "One way to improve on least squares is via **ridge regression**.\n",
    "\n",
    "One way to understand the motivation behind ridge regression is to think of using Bayesian inference for the model coeffients.\n",
    "\n",
    "Letting the row-vectors of our design matrix be denoted by $x^{(i)}$ for $i=1,\\ldots,N$ our typical regression model assumptions state that\n",
    "\n",
    "$$\n",
    "Y_i = x^{(i)t}\\beta + e_i,~\\mbox{ for } i=1,\\ldots,N,\n",
    "$$\n",
    "\n",
    "where \n",
    "- $\\beta$ is an unknown $k$-vector,\n",
    "- the $e_i$ are independent $N(0,\\sigma^2)$ \n",
    "- $\\sigma>0$ is unknown.\n",
    "\n",
    "The likelihood function then takes the form\n",
    "\n",
    "$$\n",
    "L(\\beta,\\sigma) = \\prod_{i=1}^N {1\\over \\sqrt{2\\pi} \\sigma} \\exp \n",
    "\\left\\{ -\\frac{1}{2} \\left(\\frac{Y_i - x^{(i)t} \\beta}{\\sigma} \\right)^2\\right\\}\n",
    "$$\n",
    "\n",
    "Maximizing in $\\beta$ leads to the least squares criterion for finding $\\beta.$\n",
    "\n",
    "$$\n",
    "\\hat{\\beta} = \\arg\\min_{\\beta} \\sum_{i=1}^N (Y_i - x^{(i)t} \\beta)^2\n",
    "$$\n",
    "\n",
    "On the other hand, if takea Bayesian point of view, maybe we have a prior probability distribution for $\\beta.$\n",
    "A simple example would be to assume that the components of $\\beta$ are iid $N(0,\\tau^2)$ for some value of $\\tau,$ so our prior density takes the form\n",
    "\n",
    "$$\n",
    "\\prod_{j=1}^k {1\\over \\sqrt{2\\pi} \\tau} \\exp \n",
    "\\left\\{ -\\frac{1}{2} \\frac{\\beta_j^2}{\\tau^2} \\right\\}\n",
    "$$\n",
    "Then our posterior distribution would be proportional to \n",
    "\n",
    "$$\n",
    "L(\\beta,\\sigma) = \\prod_{i=1}^N {1\\over \\sqrt{2\\pi} \\sigma} \\exp \n",
    "\\left\\{ -\\frac{1}{2} \\left(\\frac{Y_i - x^{(i)t} \\beta}{\\sigma} \\right)^2\\right\\}\\prod_{j=1}^k {1\\over \\sqrt{2\\pi} \\tau} \\exp \n",
    "\\left\\{ -\\frac{1}{2} \\frac{\\beta_j^2}{\\tau^2} \\right\\}\n",
    "$$\n",
    "\n",
    "and maximizing this with respect to $\\beta$ leads to minimizing an expression of the form\n",
    "\n",
    "$$\n",
    "\\sum_{i=1}^N (Y_i - x^{(i)t} \\beta)^2 +  \\alpha\\parallel \\beta \\parallel^2\n",
    "$$\n",
    "\n",
    "for some constant $\\alpha.$ This is what is done in ridge regression. \n",
    "\n",
    "The second term is called a *penalty* term as it penalizes large values of $\\beta$ in terms of the squared Euclidean norm.\n",
    "\n",
    "A *best* choice of $\\alpha$ can be found using our second training set.\n",
    "\n"
   ]
  },
  {
   "cell_type": "code",
   "execution_count": 5,
   "id": "43fa6f9e-9433-4920-98fe-812894956742",
   "metadata": {},
   "outputs": [],
   "source": [
    "import pandas as pd\n",
    "import numpy as np\n",
    "import datetime\n",
    "import os\n",
    "import mylib as my\n",
    "\n",
    "from sklearn.linear_model import LinearRegression\n",
    "\n",
    "os.chdir(my.onedrive+\"//CurrentCourses/553.688.Spring.2023/Lectures/April/Lecture23/\")\n",
    "\n",
    "df=pd.read_csv(\"TRAFFIC_VOLUME2.csv\")\n",
    "df.drop(columns=[\"Unnamed: 0\",\"index\"],inplace=True)\n",
    "df.drop(columns=[\"snow_1h\",\"holiday\",\"time_diff\"],inplace=True,axis=1)\n",
    "\n",
    "Y=df.traffic_volume\n",
    "df.drop(columns=[\"traffic_volume\"],inplace=True)\n",
    "\n",
    "weekday_dummies=pd.get_dummies(df[\"weekday\"],drop_first=True,prefix=\"wday\")\n",
    "df=pd.concat([df,weekday_dummies],axis=1)\n",
    "df.drop(\"weekday\",axis=1,inplace=True)\n",
    "\n",
    "weather_dummies=pd.get_dummies(df[\"weather_main\"],prefix=\"W\")\n",
    "weather_dummies.drop(\"W_Clear\",axis=1,inplace=True)\n",
    "\n",
    "df=pd.concat([df,weather_dummies],axis=1)\n",
    "df[\"holiday_ind\"]=df.holiday_ind.astype(float)\n",
    "\n",
    "hour_dummies=pd.get_dummies(df[\"hour\"],drop_first=True,prefix=\"Hour\")\n",
    "df=pd.concat([df,hour_dummies],axis=1)\n",
    "\n",
    "pvarnames=[\"temp\",\"lrain\",\"snowind\",\"clouds_all\"]\n",
    "pvarnames+=list(weekday_dummies.columns)\n",
    "pvarnames+=list(weather_dummies.columns)\n",
    "pvarnames+=list(hour_dummies.columns)\n",
    "pvarnames+=[\"holiday_ind\"]\n",
    "\n",
    "X=df.loc[:,pvarnames].values"
   ]
  },
  {
   "cell_type": "code",
   "execution_count": 6,
   "id": "ccd9d5f3-1e93-4e6c-84b0-90d377277b8f",
   "metadata": {},
   "outputs": [],
   "source": [
    "N=df.shape[0] # number of rows\n",
    "perm=np.random.permutation(range(N))\n",
    "Itrain1=perm[0:int(N/3)]\n",
    "Itrain2=perm[int(N/3):int(2*N/3)]\n",
    "Itest=perm[int(2*N/3):N]"
   ]
  },
  {
   "cell_type": "code",
   "execution_count": 7,
   "id": "08b33aa9-8a7f-4850-a432-705f177164ca",
   "metadata": {},
   "outputs": [],
   "source": [
    "Xtrain1=X[Itrain1,:]\n",
    "Ytrain1=Y[Itrain1]\n",
    "Xtrain2=X[Itrain2,:]\n",
    "Ytrain2=Y[Itrain2]\n",
    "Xtest=X[Itest,:]\n",
    "Ytest=Y[Itest]"
   ]
  },
  {
   "cell_type": "code",
   "execution_count": 8,
   "id": "cc34c074-99e1-41e5-abf0-abc1915b8eac",
   "metadata": {},
   "outputs": [
    {
     "data": {
      "text/plain": [
       "580.3721814664287"
      ]
     },
     "execution_count": 8,
     "metadata": {},
     "output_type": "execute_result"
    }
   ],
   "source": [
    "reg3 = LinearRegression().fit(Xtrain1,Ytrain1)\n",
    "Ypred3=reg3.predict(Xtrain2)\n",
    "sum(abs(Ypred3-Ytrain2))/len(Ypred3)"
   ]
  },
  {
   "cell_type": "code",
   "execution_count": 11,
   "id": "2aa12dc8-fdd9-4b26-81ee-41951f4a789e",
   "metadata": {},
   "outputs": [],
   "source": [
    "from sklearn.linear_model import Ridge\n",
    "\n",
    "alpha=np.linspace(-10,10,100)\n",
    "e=np.zeros(100)\n",
    "for i in range(100):\n",
    "    clf = Ridge(alpha[i])\n",
    "    fit = clf.fit(Xtrain1, Ytrain1)\n",
    "    Ypred=fit.predict(Xtrain2)\n",
    "    e[i]=sum(abs(Ypred-Ytrain2))/len(Ypred)\n",
    "    i+=1\n"
   ]
  },
  {
   "cell_type": "code",
   "execution_count": 12,
   "id": "69d2565b-c51d-4caf-b92f-3c0e1cb30987",
   "metadata": {},
   "outputs": [
    {
     "data": {
      "text/plain": [
       "[<matplotlib.lines.Line2D at 0x114ec5c2af0>]"
      ]
     },
     "execution_count": 12,
     "metadata": {},
     "output_type": "execute_result"
    },
    {
     "data": {
      "image/png": "[encoded data removed]",
      "text/plain": [
       "<Figure size 640x480 with 1 Axes>"
      ]
     },
     "metadata": {},
     "output_type": "display_data"
    }
   ],
   "source": [
    "import matplotlib.pyplot as plt\n",
    "plt.plot(alpha,e)"
   ]
  },
  {
   "cell_type": "markdown",
   "id": "e48b80a1-e331-4910-bd85-2a714b7a1b0f",
   "metadata": {},
   "source": [
    "**Lasso regression**\n",
    "\n",
    "Another approach is Lasso regression. Here the penalty term uses the $L_1$ norm instead of the Euclidean norm, so we attempt to minimize\n",
    "\n",
    "\n",
    "$$\n",
    "\\sum_{i=1}^N (Y_i - x^{(i)t} \\beta)^2 +  \\alpha \\parallel \\beta \\parallel_1 \n",
    "$$\n",
    "\n",
    "$$\n",
    "\\parallel \\beta \\parallel_1 = \\sum_{j=1}^k \\vert \\beta_j \\vert.\n",
    "$$\n",
    "\n",
    "One of the benefits of this approach is that it tends to produce many zero entries in the fitted vector, i.e. it can be viewed as leading to elimination of variables under consideration (we call the process of deciding which variables to include *model selection*)."
   ]
  },
  {
   "cell_type": "code",
   "execution_count": 13,
   "id": "5a6aa630-0d84-4e66-822a-fa6440ae0d8d",
   "metadata": {},
   "outputs": [
    {
     "name": "stderr",
     "output_type": "stream",
     "text": [
      "C:\\Users\\dqnai\\AppData\\Local\\Temp\\ipykernel_20804\\1578472654.py:7: UserWarning: With alpha=0, this algorithm does not converge well. You are advised to use the LinearRegression estimator\n",
      "  fit = clf.fit(Xtrain1, Ytrain1)\n",
      "C:\\Users\\dqnai\\anaconda3\\lib\\site-packages\\sklearn\\linear_model\\_coordinate_descent.py:647: UserWarning: Coordinate descent with no regularization may lead to unexpected results and is discouraged.\n",
      "  model = cd_fast.enet_coordinate_descent(\n",
      "C:\\Users\\dqnai\\anaconda3\\lib\\site-packages\\sklearn\\linear_model\\_coordinate_descent.py:647: ConvergenceWarning: Objective did not converge. You might want to increase the number of iterations, check the scale of the features or consider increasing regularisation. Duality gap: 4.317e+09, tolerance: 5.358e+06 Linear regression models with null weight for the l1 regularization term are more efficiently fitted using one of the solvers implemented in sklearn.linear_model.Ridge/RidgeCV instead.\n",
      "  model = cd_fast.enet_coordinate_descent(\n"
     ]
    },
    {
     "data": {
      "text/plain": [
       "[<matplotlib.lines.Line2D at 0x114ec4824f0>]"
      ]
     },
     "execution_count": 13,
     "metadata": {},
     "output_type": "execute_result"
    },
    {
     "data": {
      "image/png": "[encoded data removed]",
      "text/plain": [
       "<Figure size 640x480 with 1 Axes>"
      ]
     },
     "metadata": {},
     "output_type": "display_data"
    }
   ],
   "source": [
    "from sklearn.linear_model import Lasso\n",
    "\n",
    "alpha=np.linspace(0,10,100)\n",
    "e=np.zeros(100)\n",
    "for i in range(100):\n",
    "    clf = Lasso(alpha[i])\n",
    "    fit = clf.fit(Xtrain1, Ytrain1)\n",
    "    Ypred=fit.predict(Xtrain2)\n",
    "    e[i]=sum(abs(Ypred-Ytrain2))/len(Ypred)\n",
    "    i+=1\n",
    "import matplotlib.pyplot as plt\n",
    "plt.plot(alpha,e)"
   ]
  },
  {
   "cell_type": "code",
   "execution_count": null,
   "id": "52c78d41-4466-4a9c-835c-ea9ced5526c3",
   "metadata": {},
   "outputs": [],
   "source": []
  }
 ],
 "metadata": {
  "kernelspec": {
   "display_name": "Python 3 (ipykernel)",
   "language": "python",
   "name": "python3"
  },
  "language_info": {
   "codemirror_mode": {
    "name": "ipython",
    "version": 3
   },
   "file_extension": ".py",
   "mimetype": "text/x-python",
   "name": "python",
   "nbconvert_exporter": "python",
   "pygments_lexer": "ipython3",
   "version": "3.9.12"
  }
 },
 "nbformat": 4,
 "nbformat_minor": 5
}
