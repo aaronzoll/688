{
 "cells": [
  {
   "cell_type": "markdown",
   "metadata": {},
   "source": [
    "**HTML parser**\n",
    "\n",
    "One of the motivations behind introducing the HTML parser is to give you an appreciation for the power of derived classes. Coders provided a class that is customizable to meet many needs.\n",
    "\n",
    "The HTML parser package is used to parse an HTML file.\n",
    "\n",
    "The package provides a class called HTMLParser that has lots of functionality.\n",
    "\n",
    "The parser moves through an HTML file and identifies\n",
    "\n",
    "- opening tags\n",
    "- closing tags\n",
    "- data\n",
    "\n",
    "It has functions which we can refer to as *handlers* \n",
    "\n",
    "- handle_starttag\n",
    "- handle_endtag\n",
    "- handle_data\n",
    "\n",
    "for handling each of these possibilities which we override to accomplish some task.\n",
    "\n",
    "In other words, we write our own versions of these handlers in our derived class.\n",
    "\n",
    "In so doing, we build our own customized parser.\n",
    "\n",
    "In the following example, we \n",
    "\n",
    "- print a message when we encounter a start tag\n",
    "- print a message when we encounter an end tag\n",
    "\n",
    "We'll use the parser to parse the html file from the Minneapolis fed's web site:\n",
    "\n",
    "https://www.minneapolisfed.org/about-us/monetary-policy/inflation-calculator/consumer-price-index-1913-\n",
    "\n",
    "There is a method for the parser called **getpos** that gives the location of a tag (line number,column number) in the file being parsed. "
   ]
  },
  {
   "cell_type": "markdown",
   "metadata": {},
   "source": [
    "First we create our own parser that doesn't do anything."
   ]
  },
  {
   "cell_type": "code",
   "execution_count": 6,
   "metadata": {
    "tags": []
   },
   "outputs": [],
   "source": [
    "from html.parser import HTMLParser\n",
    "import requests as req\n",
    "\n",
    "class MyHTMLParser(HTMLParser):\n",
    "    pass\n",
    "\n",
    "# get the html file\n",
    "url=\"https://www.minneapolisfed.org/about-us/monetary-policy/inflation-calculator/consumer-price-index-1913-\"\n",
    "res=req.get(url)\n",
    "text=res.text\n",
    "\n",
    "# save for later\n",
    "with open(\"fed.html\",\"w\") as fout:\n",
    "    fout.write(text)\n",
    "\n",
    "\n",
    "# instantiate a parser\n",
    "parser = MyHTMLParser()\n",
    "\n",
    "# use feed method\n",
    "parser.feed(text)\n"
   ]
  },
  {
   "cell_type": "markdown",
   "metadata": {},
   "source": [
    "The parser provides methods for handling each type of tag, and by default these methods don't do anything. If we want them to do something, we need to write out our own handlers.\n",
    "\n",
    "Here, we print out to the console every start tag and it's position."
   ]
  },
  {
   "cell_type": "code",
   "execution_count": 12,
   "metadata": {
    "tags": []
   },
   "outputs": [
    {
     "name": "stdout",
     "output_type": "stream",
     "text": [
      "html(13, 0)\n",
      "head(15, 0)\n",
      "meta(19, 0)\n",
      "meta(21, 0)\n",
      "meta(23, 0)\n",
      "link(25, 0)\n",
      "link(27, 0)\n",
      "link(29, 0)\n",
      "link(31, 0)\n",
      "link(35, 0)\n",
      "link(37, 0)\n",
      "script(45, 0)\n",
      "script(55, 0)\n",
      "title(79, 0)\n",
      "meta(85, 0)\n",
      "meta(87, 0)\n",
      "meta(97, 0)\n",
      "meta(99, 0)\n",
      "meta(101, 0)\n",
      "meta(103, 0)\n",
      "meta(105, 0)\n",
      "meta(111, 0)\n",
      "meta(113, 0)\n",
      "meta(115, 0)\n",
      "meta(117, 0)\n",
      "meta(119, 0)\n",
      "script(125, 0)\n",
      "script(167, 0)\n",
      "script(173, 0)\n",
      "script(179, 0)\n",
      "script(185, 0)\n",
      "script(189, 0)\n",
      "script(193, 0)\n",
      "script(195, 0)\n",
      "body(203, 0)\n",
      "noscript(211, 0)\n",
      "iframe(213, 4)\n",
      "header(225, 0)\n",
      "a(231, 2)\n",
      "div(233, 2)\n",
      "div(235, 4)\n",
      "div(237, 6)\n",
      "a(239, 8)\n",
      "svg(241, 0)\n",
      "style(245, 0)\n",
      "defs(263, 0)\n",
      "g(267, 0)\n",
      "circle(269, 0)\n",
      "g(273, 0)\n",
      "g(275, 0)\n",
      "g(277, 0)\n",
      "path(279, 0)\n",
      "path(283, 0)\n",
      "path(287, 0)\n",
      "path(293, 0)\n",
      "path(297, 0)\n",
      "path(303, 0)\n",
      "path(309, 0)\n",
      "path(313, 0)\n",
      "path(319, 0)\n",
      "path(323, 0)\n",
      "path(333, 0)\n",
      "path(337, 0)\n",
      "path(343, 0)\n",
      "path(347, 0)\n",
      "path(351, 0)\n",
      "path(361, 0)\n",
      "path(367, 0)\n",
      "path(371, 0)\n",
      "path(375, 0)\n",
      "path(383, 0)\n",
      "path(387, 0)\n",
      "path(393, 0)\n",
      "path(397, 0)\n",
      "path(401, 0)\n",
      "path(405, 0)\n"
     ]
    }
   ],
   "source": [
    "from html.parser import HTMLParser\n",
    "\n",
    "class MyHTMLParser(HTMLParser):\n",
    "    \n",
    "    # what to do if start tag encountered\n",
    "    def handle_starttag(self, tag, attrs):\n",
    "        print(tag+str(self.getpos()))\n",
    "    # what to do if end tag encountered\n",
    "    def handle_endtag(self, tag):\n",
    "        pass\n",
    "    # how to handle data\n",
    "    def handle_data(self, data):\n",
    "        pass\n",
    "\n",
    "with open(\"fed.html\") as fin:\n",
    "    text=fin.read()\n",
    "\n",
    "# instantiate a parser\n",
    "parser = MyHTMLParser()\n",
    "\n",
    "# use feed method to process a small portion\n",
    "parser.feed(text[0:10000])\n"
   ]
  },
  {
   "cell_type": "markdown",
   "metadata": {
    "tags": []
   },
   "source": [
    "Supppose we want to count how many times a particular tag appears?\n",
    "Here we count the start td (table cell) tags in the entire file."
   ]
  },
  {
   "cell_type": "code",
   "execution_count": 17,
   "metadata": {
    "tags": []
   },
   "outputs": [
    {
     "name": "stdout",
     "output_type": "stream",
     "text": [
      "333\n"
     ]
    }
   ],
   "source": [
    "from html.parser import HTMLParser\n",
    "\n",
    "class MyHTMLParser(HTMLParser):\n",
    "    \n",
    "    td_start_count=0\n",
    "    \n",
    "    # what to do if start tag encountered\n",
    "    def handle_starttag(self, tag, attrs):\n",
    "        if tag==\"td\":\n",
    "            self.td_start_count+=1\n",
    "    # what to do if end tag encountered\n",
    "    def handle_endtag(self, tag):\n",
    "        pass\n",
    "    # how to handle data\n",
    "    def handle_data(self, data):\n",
    "        pass\n",
    "\n",
    "with open(\"fed.html\") as fin:\n",
    "    text=fin.read()\n",
    "\n",
    "# instantiate a parser\n",
    "parser = MyHTMLParser()\n",
    "\n",
    "# use feed method to process a small portion\n",
    "parser.feed(text)\n",
    "\n",
    "print(parser.td_start_count)"
   ]
  },
  {
   "cell_type": "markdown",
   "metadata": {},
   "source": [
    "As a reality check count the end td tags too."
   ]
  },
  {
   "cell_type": "code",
   "execution_count": 18,
   "metadata": {
    "tags": []
   },
   "outputs": [
    {
     "name": "stdout",
     "output_type": "stream",
     "text": [
      "333\n",
      "333\n"
     ]
    }
   ],
   "source": [
    "from html.parser import HTMLParser\n",
    "\n",
    "class MyHTMLParser(HTMLParser):\n",
    "    \n",
    "    td_start_count=0\n",
    "    td_end_count=0\n",
    "    \n",
    "    # what to do if start tag encountered\n",
    "    def handle_starttag(self, tag, attrs):\n",
    "        if tag==\"td\":\n",
    "            self.td_start_count+=1\n",
    "    # what to do if end tag encountered\n",
    "    def handle_endtag(self, tag):\n",
    "        if tag==\"td\":\n",
    "            self.td_end_count+=1\n",
    "    # how to handle data\n",
    "    def handle_data(self, data):\n",
    "        pass\n",
    "\n",
    "with open(\"fed.html\") as fin:\n",
    "    text=fin.read()\n",
    "\n",
    "# instantiate a parser\n",
    "parser = MyHTMLParser()\n",
    "\n",
    "# use feed method to process a small portion\n",
    "parser.feed(text)\n",
    "\n",
    "print(parser.td_start_count)\n",
    "print(parser.td_end_count)"
   ]
  },
  {
   "cell_type": "code",
   "execution_count": null,
   "metadata": {},
   "outputs": [],
   "source": [
    "How many tables are there?"
   ]
  },
  {
   "cell_type": "code",
   "execution_count": 20,
   "metadata": {
    "tags": []
   },
   "outputs": [
    {
     "name": "stdout",
     "output_type": "stream",
     "text": [
      "1\n"
     ]
    }
   ],
   "source": [
    "from html.parser import HTMLParser\n",
    "\n",
    "class MyHTMLParser(HTMLParser):\n",
    "    \n",
    "    table_start_count=0\n",
    "    \n",
    "    # what to do if start tag encountered\n",
    "    def handle_starttag(self, tag, attrs):\n",
    "        if tag==\"table\":\n",
    "            self.table_start_count+=1\n",
    "    # what to do if end tag encountered\n",
    "    def handle_endtag(self, tag):\n",
    "        pass\n",
    "    # how to handle data\n",
    "    def handle_data(self, data):\n",
    "        pass\n",
    "\n",
    "with open(\"fed.html\") as fin:\n",
    "    text=fin.read()\n",
    "    \n",
    "# instantiate a parser\n",
    "parser = MyHTMLParser()\n",
    "\n",
    "# use feed method\n",
    "parser.feed(text)\n",
    "\n",
    "print(parser.table_start_count)"
   ]
  },
  {
   "cell_type": "markdown",
   "metadata": {},
   "source": [
    "**Extracting only certain data**\n",
    "\n",
    "Now suppose we only want to extract data that appears somewhere in a specific context.\n",
    "\n",
    "For example, maybe we only want data in the title i.e. data enclosed in \\<title> ... \\<title/>.\n",
    "\n",
    "We need to do something with the handle_data function. \n",
    "\n",
    "But how does this function know whether data is enclosed in those tags?\n",
    "\n",
    "We need to introduce a *flag* that tell the parser whether it is currently inside a start and end title tag.\n",
    "\n",
    "The flag will be a class attribute."
   ]
  },
  {
   "cell_type": "code",
   "execution_count": 22,
   "metadata": {
    "tags": []
   },
   "outputs": [],
   "source": [
    "from html.parser import HTMLParser\n",
    "\n",
    "class MyHTMLParser(HTMLParser):\n",
    "    in_table=False\n",
    "    # what to do if start tag encountered\n",
    "    def handle_starttag(self, tag, attrs):\n",
    "        if tag==\"table\":\n",
    "            self.in_table=True\n",
    "    # what to do if end tag encountered\n",
    "    def handle_endtag(self, tag):\n",
    "        if tag==\"table\":\n",
    "            self.in_table=False\n",
    "    # how to handle data\n",
    "    def handle_data(self, data):\n",
    "        if self.in_table:\n",
    "            print(data)\n",
    "with open(\"fed.html\") as fin:\n",
    "    text=fin.read()\n",
    "\n",
    "# instantiate a parser\n",
    "parser = MyHTMLParser()\n",
    "\n",
    "# use feed method\n",
    "#parser.feed(text)\n"
   ]
  },
  {
   "cell_type": "markdown",
   "metadata": {},
   "source": [
    "Instead of printing, put the data in a list.."
   ]
  },
  {
   "cell_type": "code",
   "execution_count": 26,
   "metadata": {
    "tags": []
   },
   "outputs": [],
   "source": [
    "from html.parser import HTMLParser\n",
    "\n",
    "class MyHTMLParser(HTMLParser):\n",
    "    in_table=False\n",
    "    table_data=[]\n",
    "    # what to do if start tag encountered\n",
    "    def handle_starttag(self, tag, attrs):\n",
    "        if tag==\"table\":\n",
    "            self.in_table=True\n",
    "    # what to do if end tag encountered\n",
    "    def handle_endtag(self, tag):\n",
    "        if tag==\"table\":\n",
    "            self.in_table=False\n",
    "    # how to handle data\n",
    "    def handle_data(self, data):\n",
    "        if self.in_table:\n",
    "            self.table_data.append(data)\n",
    "\n",
    "with open(\"fed.html\") as fin:\n",
    "    text=fin.read()\n",
    "\n",
    "# instantiate a parser\n",
    "parser = MyHTMLParser()\n",
    "\n",
    "# use feed method\n",
    "parser.feed(text)\n",
    "#parser.table_data"
   ]
  },
  {
   "cell_type": "markdown",
   "metadata": {},
   "source": [
    "Put data in a list of lists, one sub-list for each table row."
   ]
  },
  {
   "cell_type": "code",
   "execution_count": 28,
   "metadata": {
    "tags": []
   },
   "outputs": [],
   "source": [
    "from html.parser import HTMLParser\n",
    "\n",
    "class MyHTMLParser(HTMLParser):\n",
    "    in_table=False\n",
    "    table_data=[]\n",
    "    in_row=False\n",
    "    row_data=[]\n",
    "    # what to do if start tag encountered\n",
    "    def handle_starttag(self, tag, attrs):\n",
    "        if tag==\"table\":\n",
    "            self.in_table=True\n",
    "        if tag==\"tr\":\n",
    "            # start a new row\n",
    "            self.in_row=True\n",
    "            self.row_data=[]\n",
    "    # what to do if end tag encountered\n",
    "    def handle_endtag(self, tag):\n",
    "        if tag==\"table\":\n",
    "            self.in_table=False\n",
    "        if tag==\"tr\":\n",
    "            self.table_data.append(self.row_data)\n",
    "            self.in_row=False\n",
    "    # how to handle data\n",
    "    def handle_data(self, data):\n",
    "        if self.in_table:\n",
    "            if self.in_row:\n",
    "                self.row_data.append(data)\n",
    "\n",
    "with open(\"fed.html\") as fin:\n",
    "    text=fin.read()\n",
    "\n",
    "# instantiate a parser\n",
    "parser = MyHTMLParser()\n",
    "\n",
    "# use feed method\n",
    "parser.feed(text)\n",
    "#parser.table_data"
   ]
  },
  {
   "cell_type": "markdown",
   "metadata": {},
   "source": [
    "Now we save that list and try to clean it up."
   ]
  },
  {
   "cell_type": "code",
   "execution_count": 29,
   "metadata": {
    "tags": []
   },
   "outputs": [],
   "source": [
    "from html.parser import HTMLParser\n",
    "\n",
    "class MyHTMLParser(HTMLParser):\n",
    "    in_table=False\n",
    "    table_data=[]\n",
    "    in_row=False\n",
    "    row_data=[]\n",
    "    # what to do if start tag encountered\n",
    "    def handle_starttag(self, tag, attrs):\n",
    "        if tag==\"table\":\n",
    "            self.in_table=True\n",
    "        if tag==\"tr\":\n",
    "            # start a new row\n",
    "            self.in_row=True\n",
    "            self.row_data=[]\n",
    "    # what to do if end tag encountered\n",
    "    def handle_endtag(self, tag):\n",
    "        if tag==\"table\":\n",
    "            self.in_table=False\n",
    "        if tag==\"tr\":\n",
    "            self.table_data.append(self.row_data)\n",
    "            self.in_row=False\n",
    "    # how to handle data\n",
    "    def handle_data(self, data):\n",
    "        if self.in_table:\n",
    "            if self.in_row:\n",
    "                self.row_data.append(data)\n",
    "\n",
    "with open(\"fed.html\") as fin:\n",
    "    text=fin.read()\n",
    "\n",
    "# instantiate a parser\n",
    "parser = MyHTMLParser()\n",
    "\n",
    "# use feed method\n",
    "parser.feed(text)\n",
    "L=parser.table_data"
   ]
  },
  {
   "cell_type": "markdown",
   "metadata": {
    "tags": []
   },
   "source": [
    "How many cells in each row are there?"
   ]
  },
  {
   "cell_type": "code",
   "execution_count": 32,
   "metadata": {
    "tags": []
   },
   "outputs": [
    {
     "data": {
      "text/plain": [
       "[8,\n",
       " 13,\n",
       " 13,\n",
       " 13,\n",
       " 13,\n",
       " 13,\n",
       " 13,\n",
       " 13,\n",
       " 13,\n",
       " 13,\n",
       " 13,\n",
       " 13,\n",
       " 13,\n",
       " 13,\n",
       " 13,\n",
       " 13,\n",
       " 13,\n",
       " 13,\n",
       " 13,\n",
       " 13,\n",
       " 13,\n",
       " 13,\n",
       " 13,\n",
       " 13,\n",
       " 13,\n",
       " 13,\n",
       " 13,\n",
       " 13,\n",
       " 13,\n",
       " 13,\n",
       " 13,\n",
       " 13,\n",
       " 13,\n",
       " 13,\n",
       " 13,\n",
       " 13,\n",
       " 13,\n",
       " 13,\n",
       " 13,\n",
       " 13,\n",
       " 13,\n",
       " 13,\n",
       " 13,\n",
       " 13,\n",
       " 13,\n",
       " 13,\n",
       " 13,\n",
       " 13,\n",
       " 13,\n",
       " 13,\n",
       " 13,\n",
       " 13,\n",
       " 13,\n",
       " 13,\n",
       " 13,\n",
       " 13,\n",
       " 13,\n",
       " 13,\n",
       " 13,\n",
       " 13,\n",
       " 13,\n",
       " 13,\n",
       " 13,\n",
       " 13,\n",
       " 13,\n",
       " 13,\n",
       " 13,\n",
       " 13,\n",
       " 13,\n",
       " 13,\n",
       " 13,\n",
       " 13,\n",
       " 13,\n",
       " 13,\n",
       " 13,\n",
       " 13,\n",
       " 13,\n",
       " 13,\n",
       " 13,\n",
       " 13,\n",
       " 13,\n",
       " 13,\n",
       " 13,\n",
       " 13,\n",
       " 13,\n",
       " 13,\n",
       " 13,\n",
       " 13,\n",
       " 13,\n",
       " 13,\n",
       " 13,\n",
       " 13,\n",
       " 13,\n",
       " 13,\n",
       " 13,\n",
       " 13,\n",
       " 13,\n",
       " 13,\n",
       " 13,\n",
       " 13,\n",
       " 13,\n",
       " 13,\n",
       " 13,\n",
       " 13,\n",
       " 13,\n",
       " 13,\n",
       " 13,\n",
       " 13,\n",
       " 13,\n",
       " 13,\n",
       " 13,\n",
       " 13]"
      ]
     },
     "execution_count": 32,
     "metadata": {},
     "output_type": "execute_result"
    }
   ],
   "source": [
    "[len(row) for row in L]"
   ]
  },
  {
   "cell_type": "markdown",
   "metadata": {
    "tags": []
   },
   "source": [
    "Look at some rows."
   ]
  },
  {
   "cell_type": "code",
   "execution_count": 36,
   "metadata": {
    "tags": []
   },
   "outputs": [
    {
     "name": "stdout",
     "output_type": "stream",
     "text": [
      "['\\n            ', 'Year', '\\n            ', 'Annual Average CPI(-U)', '\\n            ', 'Annual Percent Change', '\\n            (rate of inflation)', '\\n        ']\n",
      "['\\n            ', '\\n            ', '1913', '\\n            ', '\\n            ', '\\n            ', '9.9', '\\n            ', '\\n            ', '\\n            ', '\\xa0', '\\n            ', '\\n        ']\n",
      "['\\n            ', '\\n            ', '1914', '\\n            ', '\\n            ', '\\n            ', '10.0', '\\n            ', '\\n            ', '\\n            ', '1.3%', '\\n            ', '\\n        ']\n",
      "['\\n            ', '\\n            ', '1915', '\\n            ', '\\n            ', '\\n            ', '10.1', '\\n            ', '\\n            ', '\\n            ', '0.9%', '\\n            ', '\\n        ']\n",
      "['\\n            ', '\\n            ', '1916', '\\n            ', '\\n            ', '\\n            ', '10.9', '\\n            ', '\\n            ', '\\n            ', '7.7%', '\\n            ', '\\n        ']\n"
     ]
    }
   ],
   "source": [
    "for i in range(5):\n",
    "    print(L[i])"
   ]
  },
  {
   "cell_type": "markdown",
   "metadata": {},
   "source": [
    "Use list comprehension to get the rows after the first and leave out all those blank cell entries."
   ]
  },
  {
   "cell_type": "code",
   "execution_count": 83,
   "metadata": {
    "tags": []
   },
   "outputs": [],
   "source": [
    "H=L[0]\n",
    "L=L[1:len(L)]"
   ]
  },
  {
   "cell_type": "code",
   "execution_count": 84,
   "metadata": {
    "tags": []
   },
   "outputs": [
    {
     "data": {
      "text/plain": [
       "[['1914', '10.0', '1.3%'],\n",
       " ['1915', '10.1', '0.9%'],\n",
       " ['1916', '10.9', '7.7%'],\n",
       " ['1917', '12.8', '17.8%'],\n",
       " ['1918', '15.0', '17.3%'],\n",
       " ['1919', '17.3', '15.2%'],\n",
       " ['1920', '20.0', '15.6%'],\n",
       " ['1921', '17.9', '-10.9%'],\n",
       " ['1922', '16.8', '-6.2%'],\n",
       " ['1923', '17.1', '1.8%'],\n",
       " ['1924', '17.1', '0.4%'],\n",
       " ['1925', '17.5', '2.4%'],\n",
       " ['1926', '17.7', '0.9%'],\n",
       " ['1927', '17.4', '-1.9%'],\n",
       " ['1928', '17.2', '-1.2%'],\n",
       " ['1929', '17.2', '0.0%'],\n",
       " ['1930', '16.7', '-2.7%'],\n",
       " ['1931', '15.2', '-8.9%'],\n",
       " ['1932', '13.6', '-10.3%'],\n",
       " ['1933', '12.9', '-5.2%'],\n",
       " ['1934', '13.4', '3.5%'],\n",
       " ['1935', '13.7', '2.6%'],\n",
       " ['1936', '13.9', '1.0%'],\n",
       " ['1937', '14.4', '3.7%'],\n",
       " ['1938', '14.1', '-2.0%'],\n",
       " ['1939', '13.9', '-1.3%'],\n",
       " ['1940', '14.0', '0.7%'],\n",
       " ['1941', '14.7', '5.1%'],\n",
       " ['1942', '16.3', '10.9%'],\n",
       " ['1943', '17.3', '6.0%'],\n",
       " ['1944', '17.6', '1.6%'],\n",
       " ['1945', '18.0', '2.3%'],\n",
       " ['1946', '19.5', '8.5%'],\n",
       " ['1947', '22.3', '14.4%'],\n",
       " ['1948', '24.0', '7.7%'],\n",
       " ['1949', '23.8', '-1.0%'],\n",
       " ['1950', '24.1', '1.1%'],\n",
       " ['1951', '26.0', '7.9%'],\n",
       " ['1952', '26.6', '2.3%'],\n",
       " ['1953', '26.8', '0.8%'],\n",
       " ['1954', '26.9', '0.3%'],\n",
       " ['1955', '26.8', '-0.3%'],\n",
       " ['1956', '27.2', '1.5%'],\n",
       " ['1957', '28.1', '3.3%'],\n",
       " ['1958', '28.9', '2.7%'],\n",
       " ['1959', '29.2', '1.08%'],\n",
       " ['1960', '29.6', '1.5%'],\n",
       " ['1961', '29.9', '1.1%'],\n",
       " ['1962', '30.3', '1.2%'],\n",
       " ['1963', '30.6', '1.2%'],\n",
       " ['1964', '31.0', '1.3%'],\n",
       " ['1965', '31.5', '1.6%'],\n",
       " ['1966', '32.5', '3.0%'],\n",
       " ['1967', '33.4', '2.8%'],\n",
       " ['1968', '34.8', '4.3%'],\n",
       " ['1969', '36.7', '5.5%'],\n",
       " ['1970', '38.8', '5.8%'],\n",
       " ['1971', '40.5', '4.3%'],\n",
       " ['1972', '41.8', '3.3%'],\n",
       " ['1973', '44.4', '6.2%'],\n",
       " ['1974', '49.3', '11.1%'],\n",
       " ['1975', '53.8', '9.1%'],\n",
       " ['1976', '56.9', '5.7%'],\n",
       " ['1977', '60.6', '6.5%'],\n",
       " ['1978', '65.2', '7.6%'],\n",
       " ['1979', '72.6', '11.3%'],\n",
       " ['1980', '82.4', '13.5%'],\n",
       " ['1981', '90.9', '10.3%'],\n",
       " ['1982', '96.5', '6.1%'],\n",
       " ['1983', '99.6', '3.2%'],\n",
       " ['1984', '103.9', '4.3%'],\n",
       " ['1985', '107.6', '3.5%'],\n",
       " ['1986', '109.6', '1.9%'],\n",
       " ['1987', '113.6', '3.7%'],\n",
       " ['1988', '118.3', '4.1%'],\n",
       " ['1989', '124.0', '4.8%'],\n",
       " ['1990', '130.7', '5.4%'],\n",
       " ['1991', '136.2', '4.2%'],\n",
       " ['1992', '140.3', '3.0%'],\n",
       " ['1993', '144.5', '3.0%'],\n",
       " ['1994', '148.2', '2.6%'],\n",
       " ['1995', '152.4', '2.8%'],\n",
       " ['1996', '156.9', '2.9%'],\n",
       " ['1997', '160.5', '2.3%'],\n",
       " ['1998', '163.0', '1.6%'],\n",
       " ['1999', '166.6', '2.2%'],\n",
       " ['2000', '172.2', '3.4%'],\n",
       " ['2001', '177.1', '2.8%'],\n",
       " ['2002', '179.9', '1.6%'],\n",
       " ['2003', '184.0', '2.3%'],\n",
       " ['2004', '188.9', '2.7%'],\n",
       " ['2005', '195.3', '3.4%'],\n",
       " ['2006', '201.6', '3.2%'],\n",
       " ['2007', '207.3', '2.9%'],\n",
       " ['2008', '215.3', '3.8%'],\n",
       " ['2009', '214.5', '-0.4%'],\n",
       " ['2010', '218.1', '1.6%'],\n",
       " ['2011', '224.9', '3.2%'],\n",
       " ['2012', '229.6', '2.1%'],\n",
       " ['\\xa02013', '233.0', '1.5%'],\n",
       " ['\\xa02014', '236.7', '1.6%'],\n",
       " ['\\xa02015', '237.0', '0.1%'],\n",
       " ['\\xa02016', '240.0', '1.3%'],\n",
       " ['\\xa02017', '245.1', '2.1%'],\n",
       " ['\\xa02018', '251.1', '2.4%'],\n",
       " ['\\xa02019', '255.7', '1.8%'],\n",
       " ['\\xa02020', '258.8', '1.2%'],\n",
       " ['\\xa02021', '271.0', '4.7%'],\n",
       " ['\\xa02022', '292.7', '8.0%'],\n",
       " ['\\xa02023*', '304.3', '4.0%']]"
      ]
     },
     "execution_count": 84,
     "metadata": {},
     "output_type": "execute_result"
    }
   ],
   "source": [
    "L2=[[x[2],x[6],x[10]] for x in L]\n",
    "L2"
   ]
  },
  {
   "cell_type": "markdown",
   "metadata": {},
   "source": [
    "What are those \\xa0 characters that appear in strings?\n",
    "And how do we get rid of them?\n",
    "\\xa0 is a non-breaking space and this appears whenever the html file has an &nbsp; character."
   ]
  },
  {
   "cell_type": "code",
   "execution_count": 85,
   "metadata": {
    "tags": []
   },
   "outputs": [
    {
     "data": {
      "text/plain": [
       "['\\nThis is a sentence in a paragraph.\\n', '\\n\\xa0\\n']"
      ]
     },
     "execution_count": 85,
     "metadata": {},
     "output_type": "execute_result"
    }
   ],
   "source": [
    "with open(\"nonbreaking_space.html\",\"r\") as fin:\n",
    "    text=fin.read()\n",
    "#print(text)\n",
    "\n",
    "class MyHTMLParser(HTMLParser):\n",
    "    \n",
    "    in_para=False\n",
    "    data=[]\n",
    "    # what to do if start tag encountered\n",
    "    def handle_starttag(self, tag, attrs):\n",
    "        if tag==\"p\":\n",
    "            self.in_para=True\n",
    "    # what to do if end tag encountered\n",
    "    def handle_endtag(self, tag):\n",
    "        if tag==\"p\":\n",
    "            self.in_para=False\n",
    "    # how to handle data\n",
    "    def handle_data(self, data):\n",
    "        if self.in_para:\n",
    "            self.data.append(data)\n",
    "\n",
    "# instantiate a parser\n",
    "parser = MyHTMLParser()\n",
    "parser.feed(text)\n",
    "parser.data\n"
   ]
  },
  {
   "cell_type": "code",
   "execution_count": 86,
   "metadata": {
    "tags": []
   },
   "outputs": [
    {
     "data": {
      "text/plain": [
       "'\\n\\n'"
      ]
     },
     "execution_count": 86,
     "metadata": {},
     "output_type": "execute_result"
    }
   ],
   "source": [
    "parser.data[1].replace('\\xa0','')"
   ]
  },
  {
   "cell_type": "code",
   "execution_count": null,
   "metadata": {},
   "outputs": [],
   "source": [
    "We can do this."
   ]
  },
  {
   "cell_type": "code",
   "execution_count": 82,
   "metadata": {
    "tags": []
   },
   "outputs": [],
   "source": [
    "L2=[[x[0].replace('\\xa0',''), x[1].replace('\\xa0',''), x[2].replace('\\xa0','')] for x in L2]"
   ]
  },
  {
   "cell_type": "code",
   "execution_count": null,
   "metadata": {},
   "outputs": [],
   "source": [
    "Or this"
   ]
  },
  {
   "cell_type": "code",
   "execution_count": 70,
   "metadata": {
    "tags": []
   },
   "outputs": [],
   "source": [
    "L3=[list(map(lambda x:x.replace('\\xa0',''),x)) for x in L2]"
   ]
  },
  {
   "cell_type": "code",
   "execution_count": null,
   "metadata": {},
   "outputs": [],
   "source": [
    "There are % signs to remove."
   ]
  },
  {
   "cell_type": "code",
   "execution_count": 87,
   "metadata": {
    "tags": []
   },
   "outputs": [],
   "source": [
    "L4=[list(map(lambda x:x.replace('%',''),x)) for x in L3]"
   ]
  },
  {
   "cell_type": "code",
   "execution_count": null,
   "metadata": {},
   "outputs": [],
   "source": [
    "And an asterisk in the last row."
   ]
  },
  {
   "cell_type": "code",
   "execution_count": 88,
   "metadata": {
    "tags": []
   },
   "outputs": [],
   "source": [
    "L5=[list(map(lambda x:x.replace('*',''),x)) for x in L4]"
   ]
  },
  {
   "cell_type": "code",
   "execution_count": 89,
   "metadata": {
    "tags": []
   },
   "outputs": [
    {
     "data": {
      "text/plain": [
       "[['1913', '9.9', ''],\n",
       " ['1914', '10.0', '1.3'],\n",
       " ['1915', '10.1', '0.9'],\n",
       " ['1916', '10.9', '7.7'],\n",
       " ['1917', '12.8', '17.8'],\n",
       " ['1918', '15.0', '17.3'],\n",
       " ['1919', '17.3', '15.2'],\n",
       " ['1920', '20.0', '15.6'],\n",
       " ['1921', '17.9', '-10.9'],\n",
       " ['1922', '16.8', '-6.2'],\n",
       " ['1923', '17.1', '1.8'],\n",
       " ['1924', '17.1', '0.4'],\n",
       " ['1925', '17.5', '2.4'],\n",
       " ['1926', '17.7', '0.9'],\n",
       " ['1927', '17.4', '-1.9'],\n",
       " ['1928', '17.2', '-1.2'],\n",
       " ['1929', '17.2', '0.0'],\n",
       " ['1930', '16.7', '-2.7'],\n",
       " ['1931', '15.2', '-8.9'],\n",
       " ['1932', '13.6', '-10.3'],\n",
       " ['1933', '12.9', '-5.2'],\n",
       " ['1934', '13.4', '3.5'],\n",
       " ['1935', '13.7', '2.6'],\n",
       " ['1936', '13.9', '1.0'],\n",
       " ['1937', '14.4', '3.7'],\n",
       " ['1938', '14.1', '-2.0'],\n",
       " ['1939', '13.9', '-1.3'],\n",
       " ['1940', '14.0', '0.7'],\n",
       " ['1941', '14.7', '5.1'],\n",
       " ['1942', '16.3', '10.9'],\n",
       " ['1943', '17.3', '6.0'],\n",
       " ['1944', '17.6', '1.6'],\n",
       " ['1945', '18.0', '2.3'],\n",
       " ['1946', '19.5', '8.5'],\n",
       " ['1947', '22.3', '14.4'],\n",
       " ['1948', '24.0', '7.7'],\n",
       " ['1949', '23.8', '-1.0'],\n",
       " ['1950', '24.1', '1.1'],\n",
       " ['1951', '26.0', '7.9'],\n",
       " ['1952', '26.6', '2.3'],\n",
       " ['1953', '26.8', '0.8'],\n",
       " ['1954', '26.9', '0.3'],\n",
       " ['1955', '26.8', '-0.3'],\n",
       " ['1956', '27.2', '1.5'],\n",
       " ['1957', '28.1', '3.3'],\n",
       " ['1958', '28.9', '2.7'],\n",
       " ['1959', '29.2', '1.08'],\n",
       " ['1960', '29.6', '1.5'],\n",
       " ['1961', '29.9', '1.1'],\n",
       " ['1962', '30.3', '1.2'],\n",
       " ['1963', '30.6', '1.2'],\n",
       " ['1964', '31.0', '1.3'],\n",
       " ['1965', '31.5', '1.6'],\n",
       " ['1966', '32.5', '3.0'],\n",
       " ['1967', '33.4', '2.8'],\n",
       " ['1968', '34.8', '4.3'],\n",
       " ['1969', '36.7', '5.5'],\n",
       " ['1970', '38.8', '5.8'],\n",
       " ['1971', '40.5', '4.3'],\n",
       " ['1972', '41.8', '3.3'],\n",
       " ['1973', '44.4', '6.2'],\n",
       " ['1974', '49.3', '11.1'],\n",
       " ['1975', '53.8', '9.1'],\n",
       " ['1976', '56.9', '5.7'],\n",
       " ['1977', '60.6', '6.5'],\n",
       " ['1978', '65.2', '7.6'],\n",
       " ['1979', '72.6', '11.3'],\n",
       " ['1980', '82.4', '13.5'],\n",
       " ['1981', '90.9', '10.3'],\n",
       " ['1982', '96.5', '6.1'],\n",
       " ['1983', '99.6', '3.2'],\n",
       " ['1984', '103.9', '4.3'],\n",
       " ['1985', '107.6', '3.5'],\n",
       " ['1986', '109.6', '1.9'],\n",
       " ['1987', '113.6', '3.7'],\n",
       " ['1988', '118.3', '4.1'],\n",
       " ['1989', '124.0', '4.8'],\n",
       " ['1990', '130.7', '5.4'],\n",
       " ['1991', '136.2', '4.2'],\n",
       " ['1992', '140.3', '3.0'],\n",
       " ['1993', '144.5', '3.0'],\n",
       " ['1994', '148.2', '2.6'],\n",
       " ['1995', '152.4', '2.8'],\n",
       " ['1996', '156.9', '2.9'],\n",
       " ['1997', '160.5', '2.3'],\n",
       " ['1998', '163.0', '1.6'],\n",
       " ['1999', '166.6', '2.2'],\n",
       " ['2000', '172.2', '3.4'],\n",
       " ['2001', '177.1', '2.8'],\n",
       " ['2002', '179.9', '1.6'],\n",
       " ['2003', '184.0', '2.3'],\n",
       " ['2004', '188.9', '2.7'],\n",
       " ['2005', '195.3', '3.4'],\n",
       " ['2006', '201.6', '3.2'],\n",
       " ['2007', '207.3', '2.9'],\n",
       " ['2008', '215.3', '3.8'],\n",
       " ['2009', '214.5', '-0.4'],\n",
       " ['2010', '218.1', '1.6'],\n",
       " ['2011', '224.9', '3.2'],\n",
       " ['2012', '229.6', '2.1'],\n",
       " ['2013', '233.0', '1.5'],\n",
       " ['2014', '236.7', '1.6'],\n",
       " ['2015', '237.0', '0.1'],\n",
       " ['2016', '240.0', '1.3'],\n",
       " ['2017', '245.1', '2.1'],\n",
       " ['2018', '251.1', '2.4'],\n",
       " ['2019', '255.7', '1.8'],\n",
       " ['2020', '258.8', '1.2'],\n",
       " ['2021', '271.0', '4.7'],\n",
       " ['2022', '292.7', '8.0'],\n",
       " ['2023', '304.3', '4.0']]"
      ]
     },
     "execution_count": 89,
     "metadata": {},
     "output_type": "execute_result"
    }
   ],
   "source": [
    "L5"
   ]
  },
  {
   "cell_type": "code",
   "execution_count": 90,
   "metadata": {
    "tags": []
   },
   "outputs": [],
   "source": [
    "def myfloat(x):\n",
    "    try:\n",
    "        y=float(x)\n",
    "    except:\n",
    "        y=999.\n",
    "    return(y)"
   ]
  },
  {
   "cell_type": "code",
   "execution_count": 91,
   "metadata": {
    "tags": []
   },
   "outputs": [],
   "source": [
    "L6=[[int(x[0]),myfloat(x[1]),myfloat(x[2])] for x in L5]"
   ]
  },
  {
   "cell_type": "code",
   "execution_count": 92,
   "metadata": {
    "tags": []
   },
   "outputs": [
    {
     "data": {
      "text/plain": [
       "[[1913, 9.9, 999.0],\n",
       " [1914, 10.0, 1.3],\n",
       " [1915, 10.1, 0.9],\n",
       " [1916, 10.9, 7.7],\n",
       " [1917, 12.8, 17.8],\n",
       " [1918, 15.0, 17.3],\n",
       " [1919, 17.3, 15.2],\n",
       " [1920, 20.0, 15.6],\n",
       " [1921, 17.9, -10.9],\n",
       " [1922, 16.8, -6.2],\n",
       " [1923, 17.1, 1.8],\n",
       " [1924, 17.1, 0.4],\n",
       " [1925, 17.5, 2.4],\n",
       " [1926, 17.7, 0.9],\n",
       " [1927, 17.4, -1.9],\n",
       " [1928, 17.2, -1.2],\n",
       " [1929, 17.2, 0.0],\n",
       " [1930, 16.7, -2.7],\n",
       " [1931, 15.2, -8.9],\n",
       " [1932, 13.6, -10.3],\n",
       " [1933, 12.9, -5.2],\n",
       " [1934, 13.4, 3.5],\n",
       " [1935, 13.7, 2.6],\n",
       " [1936, 13.9, 1.0],\n",
       " [1937, 14.4, 3.7],\n",
       " [1938, 14.1, -2.0],\n",
       " [1939, 13.9, -1.3],\n",
       " [1940, 14.0, 0.7],\n",
       " [1941, 14.7, 5.1],\n",
       " [1942, 16.3, 10.9],\n",
       " [1943, 17.3, 6.0],\n",
       " [1944, 17.6, 1.6],\n",
       " [1945, 18.0, 2.3],\n",
       " [1946, 19.5, 8.5],\n",
       " [1947, 22.3, 14.4],\n",
       " [1948, 24.0, 7.7],\n",
       " [1949, 23.8, -1.0],\n",
       " [1950, 24.1, 1.1],\n",
       " [1951, 26.0, 7.9],\n",
       " [1952, 26.6, 2.3],\n",
       " [1953, 26.8, 0.8],\n",
       " [1954, 26.9, 0.3],\n",
       " [1955, 26.8, -0.3],\n",
       " [1956, 27.2, 1.5],\n",
       " [1957, 28.1, 3.3],\n",
       " [1958, 28.9, 2.7],\n",
       " [1959, 29.2, 1.08],\n",
       " [1960, 29.6, 1.5],\n",
       " [1961, 29.9, 1.1],\n",
       " [1962, 30.3, 1.2],\n",
       " [1963, 30.6, 1.2],\n",
       " [1964, 31.0, 1.3],\n",
       " [1965, 31.5, 1.6],\n",
       " [1966, 32.5, 3.0],\n",
       " [1967, 33.4, 2.8],\n",
       " [1968, 34.8, 4.3],\n",
       " [1969, 36.7, 5.5],\n",
       " [1970, 38.8, 5.8],\n",
       " [1971, 40.5, 4.3],\n",
       " [1972, 41.8, 3.3],\n",
       " [1973, 44.4, 6.2],\n",
       " [1974, 49.3, 11.1],\n",
       " [1975, 53.8, 9.1],\n",
       " [1976, 56.9, 5.7],\n",
       " [1977, 60.6, 6.5],\n",
       " [1978, 65.2, 7.6],\n",
       " [1979, 72.6, 11.3],\n",
       " [1980, 82.4, 13.5],\n",
       " [1981, 90.9, 10.3],\n",
       " [1982, 96.5, 6.1],\n",
       " [1983, 99.6, 3.2],\n",
       " [1984, 103.9, 4.3],\n",
       " [1985, 107.6, 3.5],\n",
       " [1986, 109.6, 1.9],\n",
       " [1987, 113.6, 3.7],\n",
       " [1988, 118.3, 4.1],\n",
       " [1989, 124.0, 4.8],\n",
       " [1990, 130.7, 5.4],\n",
       " [1991, 136.2, 4.2],\n",
       " [1992, 140.3, 3.0],\n",
       " [1993, 144.5, 3.0],\n",
       " [1994, 148.2, 2.6],\n",
       " [1995, 152.4, 2.8],\n",
       " [1996, 156.9, 2.9],\n",
       " [1997, 160.5, 2.3],\n",
       " [1998, 163.0, 1.6],\n",
       " [1999, 166.6, 2.2],\n",
       " [2000, 172.2, 3.4],\n",
       " [2001, 177.1, 2.8],\n",
       " [2002, 179.9, 1.6],\n",
       " [2003, 184.0, 2.3],\n",
       " [2004, 188.9, 2.7],\n",
       " [2005, 195.3, 3.4],\n",
       " [2006, 201.6, 3.2],\n",
       " [2007, 207.3, 2.9],\n",
       " [2008, 215.3, 3.8],\n",
       " [2009, 214.5, -0.4],\n",
       " [2010, 218.1, 1.6],\n",
       " [2011, 224.9, 3.2],\n",
       " [2012, 229.6, 2.1],\n",
       " [2013, 233.0, 1.5],\n",
       " [2014, 236.7, 1.6],\n",
       " [2015, 237.0, 0.1],\n",
       " [2016, 240.0, 1.3],\n",
       " [2017, 245.1, 2.1],\n",
       " [2018, 251.1, 2.4],\n",
       " [2019, 255.7, 1.8],\n",
       " [2020, 258.8, 1.2],\n",
       " [2021, 271.0, 4.7],\n",
       " [2022, 292.7, 8.0],\n",
       " [2023, 304.3, 4.0]]"
      ]
     },
     "execution_count": 92,
     "metadata": {},
     "output_type": "execute_result"
    }
   ],
   "source": [
    "L6"
   ]
  },
  {
   "cell_type": "code",
   "execution_count": 96,
   "metadata": {
    "tags": []
   },
   "outputs": [
    {
     "data": {
      "text/plain": [
       "[<matplotlib.lines.Line2D at 0x22979117fd0>]"
      ]
     },
     "execution_count": 96,
     "metadata": {},
     "output_type": "execute_result"
    },
    {
     "data": {
      "image/png": "[encoded data removed]",
      "text/plain": [
       "<Figure size 640x480 with 1 Axes>"
      ]
     },
     "metadata": {},
     "output_type": "display_data"
    }
   ],
   "source": [
    "import matplotlib.pyplot as plt\n",
    "col1=[x[2] for x in L6[1:]]\n",
    "plt.plot(col1)"
   ]
  },
  {
   "cell_type": "code",
   "execution_count": null,
   "metadata": {},
   "outputs": [],
   "source": []
  }
 ],
 "metadata": {
  "kernelspec": {
   "display_name": "Python 3 (ipykernel)",
   "language": "python",
   "name": "python3"
  },
  "language_info": {
   "codemirror_mode": {
    "name": "ipython",
    "version": 3
   },
   "file_extension": ".py",
   "mimetype": "text/x-python",
   "name": "python",
   "nbconvert_exporter": "python",
   "pygments_lexer": "ipython3",
   "version": "3.11.5"
  }
 },
 "nbformat": 4,
 "nbformat_minor": 4
}
