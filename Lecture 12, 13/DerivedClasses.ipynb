{
 "cells": [
  {
   "cell_type": "markdown",
   "metadata": {},
   "source": [
    "**Derived Classes**\n",
    "\n",
    "Once we have an existing class, we can derive a new class from it. \n",
    "\n",
    "Then we can over-ride methods or use a base method. \n",
    "\n",
    "So in the following example in which we create \n",
    "\n",
    "- a derived class (mytrade) \n",
    "\n",
    "from \n",
    "\n",
    "- the base class (trade), \n",
    "\n",
    "The \n",
    "\n",
    "- constructor (\\_\\_init\\_\\_) is not over-ridden \n",
    "\n",
    "but \n",
    "\n",
    "- \\_\\_str\\_\\_ method is over-ridden\n",
    "\n",
    "Here is the code for the base class."
   ]
  },
  {
   "cell_type": "code",
   "execution_count": 1,
   "metadata": {},
   "outputs": [],
   "source": [
    "import datetime\n",
    "class trade:\n",
    "    __slots__=('timestamp','symbol','buyerid','sellerid','price','quantity')\n",
    "    ntrades=0\n",
    "    def __init__(self,timestamp, symbol,buyerid,sellerid,price,quantity):\n",
    "        self.timestamp=timestamp\n",
    "        self.symbol=symbol\n",
    "        self.buyerid=buyerid\n",
    "        self.sellerid=sellerid\n",
    "        self.price=price\n",
    "        self.quantity=quantity\n",
    "        trade.ntrades=trade.ntrades+1\n",
    "    def __str__(self):\n",
    "        timestr=self.timestamp.strftime(\"%m/%d/%Y %H:%M:%S:%f\")[:-3]\n",
    "        s=\"TimeStamp: \" + timestr + \"\\n\"\n",
    "        s+=\"Symbol: \" + self.symbol + \"\\n\"\n",
    "        s+=\"BuyerId: = \" + self.buyerid + \"\\n\"\n",
    "        s+=\"SellerId: \" + self.sellerid + \"\\n\"\n",
    "        s+=\"Price: \" + str(self.price) + \"\\n\"\n",
    "        s+=\"Quantity \" + str(self.quantity) + \"\\n\"\n",
    "        return(s)  "
   ]
  },
  {
   "cell_type": "markdown",
   "metadata": {},
   "source": [
    "And here is the code for the derived class. \n",
    "\n",
    "Observe that\n",
    "\n",
    "- in the class line, we put the name of the new class (mytrade) and the class that it is derived from (trade) in parentheses\n",
    "\n",
    "- there is no constructor, just a *stringify* method.\n",
    "\n",
    "- the stringify method has a different syntax"
   ]
  },
  {
   "cell_type": "code",
   "execution_count": 2,
   "metadata": {},
   "outputs": [],
   "source": [
    "class mytrade(trade): \n",
    "    def __str__(self):\n",
    "        timestr=self.timestamp.strftime(\"%m/%d/%Y %H:%M:%S:%f\")[:-3]\n",
    "        s=\"TimeStamp =  \" + timestr + \"\\n\"\n",
    "        s+=\"Buyer = \" + self.buyerid + \" \" + \"Seller = \"+self.sellerid+\"\\n\"\n",
    "        s+=\"Symbol = \" + self.symbol + \"\\n\"\n",
    "        s+=\"Price = \" + str(self.price) + \" \"+\"Quantity =\" + str(self.quantity) + \"\\n\"\n",
    "        return(s) "
   ]
  },
  {
   "cell_type": "markdown",
   "metadata": {},
   "source": [
    "Now we create \n",
    "\n",
    "- trade1, an instance of the mytrade class\n",
    "- trade2, an instance of the trade class"
   ]
  },
  {
   "cell_type": "code",
   "execution_count": 3,
   "metadata": {},
   "outputs": [
    {
     "name": "stdout",
     "output_type": "stream",
     "text": [
      "TimeStamp =  03/07/2023 15:35:02:028\n",
      "Buyer = AJU8A9 Seller = HYT4T2\n",
      "Symbol = MSFT\n",
      "Price = 67.454 Quantity =1200\n",
      "\n",
      "TimeStamp: 03/07/2023 15:35:02:028\n",
      "Symbol: MSFT\n",
      "BuyerId: = AJU8A9\n",
      "SellerId: HYT4T2\n",
      "Price: 67.454\n",
      "Quantity 1200\n",
      "\n"
     ]
    }
   ],
   "source": [
    "trade1=mytrade(datetime.datetime.today(),\"MSFT\", \"AJU8A9\", \"HYT4T2\", 67.454, 1200)\n",
    "print(trade1)\n",
    "\n",
    "trade2=trade(datetime.datetime.today(),\"MSFT\", \"AJU8A9\", \"HYT4T2\", 67.454, 1200)\n",
    "print(trade2)"
   ]
  },
  {
   "cell_type": "markdown",
   "metadata": {},
   "source": [
    "**Accessing methods from the base class**\n",
    "\n",
    "We over-rode the base class method, but we can still call the base class method if we want it. We simply need to prefix the method name with the name of the base class.\n",
    "\n",
    "In the example below, even though trade1 is an instance of the *mytrade* class, we can use the stringify method from the base class."
   ]
  },
  {
   "cell_type": "code",
   "execution_count": 4,
   "metadata": {},
   "outputs": [
    {
     "name": "stdout",
     "output_type": "stream",
     "text": [
      "TimeStamp: 03/07/2023 15:35:02:028\n",
      "Symbol: MSFT\n",
      "BuyerId: = AJU8A9\n",
      "SellerId: HYT4T2\n",
      "Price: 67.454\n",
      "Quantity 1200\n",
      "\n"
     ]
    }
   ],
   "source": [
    "print(trade.__str__(trade1))"
   ]
  },
  {
   "cell_type": "markdown",
   "metadata": {},
   "source": [
    "**Creating a derived class from the list class**\n",
    "\n",
    "We can create derive a class from a built-in one e.g. list.\n",
    "\n",
    "Here we do that and create our own version of __str__. \n",
    "\n",
    "This version calls the \\_\\_str\\_\\_ method from the base list class."
   ]
  },
  {
   "cell_type": "code",
   "execution_count": 13,
   "metadata": {
    "tags": []
   },
   "outputs": [
    {
     "name": "stdout",
     "output_type": "stream",
     "text": [
      "The list is [1, 2, 3]\n"
     ]
    },
    {
     "data": {
      "text/plain": [
       "'The list is [1, 2, 3]'"
      ]
     },
     "execution_count": 13,
     "metadata": {},
     "output_type": "execute_result"
    }
   ],
   "source": [
    "class mylist(list):\n",
    "    def __str__(self):\n",
    "        return(\"The list is \"+list.__str__(self))\n",
    "L=mylist([1,2,3])\n",
    "print(L)\n",
    "str(L)"
   ]
  },
  {
   "cell_type": "code",
   "execution_count": 14,
   "metadata": {},
   "outputs": [
    {
     "name": "stdout",
     "output_type": "stream",
     "text": [
      "[1, 2, 3]\n"
     ]
    }
   ],
   "source": [
    "L=list([1,2,3])\n",
    "print(L)"
   ]
  },
  {
   "cell_type": "markdown",
   "metadata": {},
   "source": [
    "As above, we can stringify a mylist instance using the base class's \\_\\_str\\_\\_ method."
   ]
  },
  {
   "cell_type": "code",
   "execution_count": null,
   "metadata": {},
   "outputs": [],
   "source": [
    "list.__str__(L)"
   ]
  },
  {
   "cell_type": "code",
   "execution_count": null,
   "metadata": {},
   "outputs": [],
   "source": []
  }
 ],
 "metadata": {
  "kernelspec": {
   "display_name": "Python 3 (ipykernel)",
   "language": "python",
   "name": "python3"
  },
  "language_info": {
   "codemirror_mode": {
    "name": "ipython",
    "version": 3
   },
   "file_extension": ".py",
   "mimetype": "text/x-python",
   "name": "python",
   "nbconvert_exporter": "python",
   "pygments_lexer": "ipython3",
   "version": "3.11.4"
  }
 },
 "nbformat": 4,
 "nbformat_minor": 4
}
