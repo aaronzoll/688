{
 "cells": [
  {
   "cell_type": "markdown",
   "metadata": {},
   "source": [
    "**Reading text files**\n",
    "\n",
    "**Special characters and the ASCII table**\n",
    "\n",
    "Before we get into the subject of reading text files, we need to talk about strings with special characters.\n",
    "\n",
    "The standard ascii character set consists of 128 characters whose codes (expressed in decimal, hexadecimal, and octal) are shown in this table\n",
    "\n",
    "http://www.asciitable.com/\n",
    "\n",
    "Note that some of the characters, such as _space_, _line feed_, and _tab_, are what we call _whitespace_ characters.\n",
    "\n",
    "\n",
    "The table also provides the additional what are referred to as 128 _extended ascii_ character codes. The term *extended ascii* is outdated and additional characters are included using what is referred to as Unicode encodings, something we will discuss later.\n",
    "\n",
    "When we talk about *text* files, we'll mean a file whose characters are among the standard ASCII characters.\n",
    "\n",
    "To represent one of these 256 characters in a file, we need 8 bits that is, a single byte. Your computer stores data in files as a series of bytes.\n",
    "\n",
    "When we create a string, some special ASCII characters (e.g. tab, newline, backslash) are specified using an escape character. "
   ]
  },
  {
   "cell_type": "code",
   "execution_count": 1,
   "metadata": {
    "tags": []
   },
   "outputs": [
    {
     "name": "stdout",
     "output_type": "stream",
     "text": [
      "this is \tsome text\n",
      "andsome more\\text\n"
     ]
    }
   ],
   "source": [
    "text=\"this is \\tsome text\\nandsome more\\\\text\"\n",
    "print(text)"
   ]
  },
  {
   "cell_type": "markdown",
   "metadata": {},
   "source": [
    "**Reading from a text file**\n",
    "\n",
    "In Python (like for most programming languages) to read from a text file, we open it, read from it and close it when we're done.\n",
    "\n",
    "We can \n",
    "\n",
    "- read the entire file as a text string\n",
    "- read the file line by line\n",
    "- read the file character by character"
   ]
  },
  {
   "cell_type": "markdown",
   "metadata": {},
   "source": [
    "In Jupyter, we can create a text file to play around with.\n",
    "\n",
    "When opening a file, if a full path is not given, the assumption is that the file is in the current working directory.\n",
    "\n",
    "We can \n",
    "\n",
    "- determine what the current working directory is\n",
    "- change the current working directory, and\n",
    "- list  what's in the currend working directory"
   ]
  },
  {
   "cell_type": "code",
   "execution_count": 2,
   "metadata": {
    "tags": []
   },
   "outputs": [
    {
     "name": "stdout",
     "output_type": "stream",
     "text": [
      "C:\\Users\\aaron\\OneDrive\\Desktop\\Grad School\\Semester 3\\688\\Lecture 9\n"
     ]
    }
   ],
   "source": [
    "import os\n",
    "folder=os.getcwd()\n",
    "print(folder)"
   ]
  },
  {
   "cell_type": "code",
   "execution_count": 3,
   "metadata": {
    "tags": []
   },
   "outputs": [
    {
     "ename": "FileNotFoundError",
     "evalue": "[WinError 3] The system cannot find the path specified: 'C:\\\\Users\\\\dan\\\\OneDrive - Johns Hopkins\\\\CurrentCourses\\\\553.688.Fall.2023\\\\Lectures - Sept\\\\Lecture8'",
     "output_type": "error",
     "traceback": [
      "\u001b[1;31m---------------------------------------------------------------------------\u001b[0m",
      "\u001b[1;31mFileNotFoundError\u001b[0m                         Traceback (most recent call last)",
      "Cell \u001b[1;32mIn[3], line 1\u001b[0m\n\u001b[1;32m----> 1\u001b[0m os\u001b[38;5;241m.\u001b[39mchdir(\u001b[38;5;124m\"\u001b[39m\u001b[38;5;124mC:\u001b[39m\u001b[38;5;130;01m\\\\\u001b[39;00m\u001b[38;5;124mUsers\u001b[39m\u001b[38;5;130;01m\\\\\u001b[39;00m\u001b[38;5;124mdan\u001b[39m\u001b[38;5;130;01m\\\\\u001b[39;00m\u001b[38;5;124mOneDrive - Johns Hopkins\u001b[39m\u001b[38;5;130;01m\\\\\u001b[39;00m\u001b[38;5;124mCurrentCourses\u001b[39m\u001b[38;5;130;01m\\\\\u001b[39;00m\u001b[38;5;124m553.688.Fall.2023\u001b[39m\u001b[38;5;130;01m\\\\\u001b[39;00m\u001b[38;5;124mLectures - Sept\u001b[39m\u001b[38;5;130;01m\\\\\u001b[39;00m\u001b[38;5;124mLecture8\u001b[39m\u001b[38;5;124m\"\u001b[39m)\n\u001b[0;32m      2\u001b[0m os\u001b[38;5;241m.\u001b[39mlistdir()\n",
      "\u001b[1;31mFileNotFoundError\u001b[0m: [WinError 3] The system cannot find the path specified: 'C:\\\\Users\\\\dan\\\\OneDrive - Johns Hopkins\\\\CurrentCourses\\\\553.688.Fall.2023\\\\Lectures - Sept\\\\Lecture8'"
     ]
    }
   ],
   "source": [
    "os.chdir(\"C:\\\\Users\\\\dan\\\\OneDrive - Johns Hopkins\\\\CurrentCourses\\\\553.688.Fall.2023\\\\Lectures - Sept\\\\Lecture8\")\n",
    "os.listdir()"
   ]
  },
  {
   "cell_type": "markdown",
   "metadata": {},
   "source": [
    "To open a file for reading, we need to specify an identifier (fileid) for the file to be opened. This fileid can be\n",
    "\n",
    "- the filename if it is in the current working directory, or\n",
    "- a relative path to the file, or\n",
    "- an absolute path to the file\n",
    "\n",
    "The **open** function also has an argument which is the *mode*.\n",
    "The defaut mode is \"rt\" meaning that the *mode* is to be\n",
    "\n",
    "- read only\n",
    "- text (later in the course we'll talk about binary files)\n"
   ]
  },
  {
   "cell_type": "markdown",
   "metadata": {},
   "source": [
    "**Filename only**\n",
    "\n",
    "We open the file and assign to a variable (**fin** is used below) a *file handle*.\n",
    "\n",
    "Read the entire file into a string **text** and close the file."
   ]
  },
  {
   "cell_type": "code",
   "execution_count": 4,
   "metadata": {
    "tags": []
   },
   "outputs": [
    {
     "name": "stdout",
     "output_type": "stream",
     "text": [
      "This is some text\n",
      "Next line of text\n",
      "Last line of text\n"
     ]
    }
   ],
   "source": [
    "fileid=\"text.txt\"\n",
    "fin=open(fileid)\n",
    "# Note: the following give the same results because\n",
    "# by default:\n",
    "#\n",
    "#   file is opened by for reading\n",
    "#   file is assumed to be text\n",
    "#\n",
    "# unless specified otherwise\n",
    "#\n",
    "# fin=open(fileid,\"r\")\n",
    "# fin=open(fileid,\"rt\")\n",
    "#\n",
    "# but this is not allowed since the first character\n",
    "# must be \"r\" or \"w\" or \"a\" \n",
    "#\n",
    "# fin=open(fileid,\"t\")\n",
    "#\n",
    "text=fin.read()\n",
    "print(text)\n",
    "fin.close()"
   ]
  },
  {
   "cell_type": "markdown",
   "metadata": {},
   "source": [
    "**Relative path**\n",
    "\n",
    "In the example below, a file (text2.txt) resides in a folder above the current working directory and we give a *relative* path to that file."
   ]
  },
  {
   "cell_type": "code",
   "execution_count": 5,
   "metadata": {
    "tags": []
   },
   "outputs": [
    {
     "ename": "FileNotFoundError",
     "evalue": "[Errno 2] No such file or directory: '../text2.txt'",
     "output_type": "error",
     "traceback": [
      "\u001b[1;31m---------------------------------------------------------------------------\u001b[0m",
      "\u001b[1;31mFileNotFoundError\u001b[0m                         Traceback (most recent call last)",
      "Cell \u001b[1;32mIn[5], line 2\u001b[0m\n\u001b[0;32m      1\u001b[0m fileid\u001b[38;5;241m=\u001b[39m\u001b[38;5;124m\"\u001b[39m\u001b[38;5;124m../text2.txt\u001b[39m\u001b[38;5;124m\"\u001b[39m\n\u001b[1;32m----> 2\u001b[0m fin\u001b[38;5;241m=\u001b[39m\u001b[38;5;28mopen\u001b[39m(fileid)\n\u001b[0;32m      3\u001b[0m text\u001b[38;5;241m=\u001b[39mfin\u001b[38;5;241m.\u001b[39mread()\n\u001b[0;32m      4\u001b[0m \u001b[38;5;28mprint\u001b[39m(text)\n",
      "File \u001b[1;32m~\\anaconda3\\Lib\\site-packages\\IPython\\core\\interactiveshell.py:284\u001b[0m, in \u001b[0;36m_modified_open\u001b[1;34m(file, *args, **kwargs)\u001b[0m\n\u001b[0;32m    277\u001b[0m \u001b[38;5;28;01mif\u001b[39;00m file \u001b[38;5;129;01min\u001b[39;00m {\u001b[38;5;241m0\u001b[39m, \u001b[38;5;241m1\u001b[39m, \u001b[38;5;241m2\u001b[39m}:\n\u001b[0;32m    278\u001b[0m     \u001b[38;5;28;01mraise\u001b[39;00m \u001b[38;5;167;01mValueError\u001b[39;00m(\n\u001b[0;32m    279\u001b[0m         \u001b[38;5;124mf\u001b[39m\u001b[38;5;124m\"\u001b[39m\u001b[38;5;124mIPython won\u001b[39m\u001b[38;5;124m'\u001b[39m\u001b[38;5;124mt let you open fd=\u001b[39m\u001b[38;5;132;01m{\u001b[39;00mfile\u001b[38;5;132;01m}\u001b[39;00m\u001b[38;5;124m by default \u001b[39m\u001b[38;5;124m\"\u001b[39m\n\u001b[0;32m    280\u001b[0m         \u001b[38;5;124m\"\u001b[39m\u001b[38;5;124mas it is likely to crash IPython. If you know what you are doing, \u001b[39m\u001b[38;5;124m\"\u001b[39m\n\u001b[0;32m    281\u001b[0m         \u001b[38;5;124m\"\u001b[39m\u001b[38;5;124myou can use builtins\u001b[39m\u001b[38;5;124m'\u001b[39m\u001b[38;5;124m open.\u001b[39m\u001b[38;5;124m\"\u001b[39m\n\u001b[0;32m    282\u001b[0m     )\n\u001b[1;32m--> 284\u001b[0m \u001b[38;5;28;01mreturn\u001b[39;00m io_open(file, \u001b[38;5;241m*\u001b[39margs, \u001b[38;5;241m*\u001b[39m\u001b[38;5;241m*\u001b[39mkwargs)\n",
      "\u001b[1;31mFileNotFoundError\u001b[0m: [Errno 2] No such file or directory: '../text2.txt'"
     ]
    }
   ],
   "source": [
    "fileid=\"../text2.txt\"\n",
    "fin=open(fileid)\n",
    "text=fin.read()\n",
    "print(text)\n",
    "fin.close()"
   ]
  },
  {
   "cell_type": "markdown",
   "metadata": {},
   "source": [
    "**Absolute path**\n",
    "\n",
    "Here we specify the full path to the file."
   ]
  },
  {
   "cell_type": "code",
   "execution_count": 6,
   "metadata": {
    "tags": []
   },
   "outputs": [
    {
     "ename": "FileNotFoundError",
     "evalue": "[Errno 2] No such file or directory: 'C:\\\\Users\\\\dan\\\\OneDrive - Johns Hopkins\\\\CurrentCourses\\\\553.688.Fall.2023\\\\Lectures - Sept\\\\text2.txt'",
     "output_type": "error",
     "traceback": [
      "\u001b[1;31m---------------------------------------------------------------------------\u001b[0m",
      "\u001b[1;31mFileNotFoundError\u001b[0m                         Traceback (most recent call last)",
      "Cell \u001b[1;32mIn[6], line 3\u001b[0m\n\u001b[0;32m      1\u001b[0m fileid\u001b[38;5;241m=\u001b[39m\u001b[38;5;124m\"\u001b[39m\u001b[38;5;124mC:\u001b[39m\u001b[38;5;130;01m\\\\\u001b[39;00m\u001b[38;5;124mUsers\u001b[39m\u001b[38;5;124m\\\u001b[39m\u001b[38;5;124mdan\u001b[39m\u001b[38;5;130;01m\\\\\u001b[39;00m\u001b[38;5;124mOneDrive - Johns Hopkins\u001b[39m\u001b[38;5;130;01m\\\\\u001b[39;00m\u001b[38;5;124mCurrentCourses\u001b[39m\u001b[38;5;130;01m\\\\\u001b[39;00m\u001b[38;5;124m\"\u001b[39m\n\u001b[0;32m      2\u001b[0m fileid\u001b[38;5;241m+\u001b[39m\u001b[38;5;241m=\u001b[39m\u001b[38;5;124m\"\u001b[39m\u001b[38;5;124m553.688.Fall.2023\u001b[39m\u001b[38;5;130;01m\\\\\u001b[39;00m\u001b[38;5;124mLectures - Sept\u001b[39m\u001b[38;5;130;01m\\\\\u001b[39;00m\u001b[38;5;124mtext2.txt\u001b[39m\u001b[38;5;124m\"\u001b[39m\n\u001b[1;32m----> 3\u001b[0m fin\u001b[38;5;241m=\u001b[39m\u001b[38;5;28mopen\u001b[39m(fileid)\n\u001b[0;32m      4\u001b[0m text\u001b[38;5;241m=\u001b[39mfin\u001b[38;5;241m.\u001b[39mread()\n\u001b[0;32m      5\u001b[0m \u001b[38;5;28mprint\u001b[39m(text)\n",
      "File \u001b[1;32m~\\anaconda3\\Lib\\site-packages\\IPython\\core\\interactiveshell.py:284\u001b[0m, in \u001b[0;36m_modified_open\u001b[1;34m(file, *args, **kwargs)\u001b[0m\n\u001b[0;32m    277\u001b[0m \u001b[38;5;28;01mif\u001b[39;00m file \u001b[38;5;129;01min\u001b[39;00m {\u001b[38;5;241m0\u001b[39m, \u001b[38;5;241m1\u001b[39m, \u001b[38;5;241m2\u001b[39m}:\n\u001b[0;32m    278\u001b[0m     \u001b[38;5;28;01mraise\u001b[39;00m \u001b[38;5;167;01mValueError\u001b[39;00m(\n\u001b[0;32m    279\u001b[0m         \u001b[38;5;124mf\u001b[39m\u001b[38;5;124m\"\u001b[39m\u001b[38;5;124mIPython won\u001b[39m\u001b[38;5;124m'\u001b[39m\u001b[38;5;124mt let you open fd=\u001b[39m\u001b[38;5;132;01m{\u001b[39;00mfile\u001b[38;5;132;01m}\u001b[39;00m\u001b[38;5;124m by default \u001b[39m\u001b[38;5;124m\"\u001b[39m\n\u001b[0;32m    280\u001b[0m         \u001b[38;5;124m\"\u001b[39m\u001b[38;5;124mas it is likely to crash IPython. If you know what you are doing, \u001b[39m\u001b[38;5;124m\"\u001b[39m\n\u001b[0;32m    281\u001b[0m         \u001b[38;5;124m\"\u001b[39m\u001b[38;5;124myou can use builtins\u001b[39m\u001b[38;5;124m'\u001b[39m\u001b[38;5;124m open.\u001b[39m\u001b[38;5;124m\"\u001b[39m\n\u001b[0;32m    282\u001b[0m     )\n\u001b[1;32m--> 284\u001b[0m \u001b[38;5;28;01mreturn\u001b[39;00m io_open(file, \u001b[38;5;241m*\u001b[39margs, \u001b[38;5;241m*\u001b[39m\u001b[38;5;241m*\u001b[39mkwargs)\n",
      "\u001b[1;31mFileNotFoundError\u001b[0m: [Errno 2] No such file or directory: 'C:\\\\Users\\\\dan\\\\OneDrive - Johns Hopkins\\\\CurrentCourses\\\\553.688.Fall.2023\\\\Lectures - Sept\\\\text2.txt'"
     ]
    }
   ],
   "source": [
    "fileid=\"C:\\\\Users\\dan\\\\OneDrive - Johns Hopkins\\\\CurrentCourses\\\\\"\n",
    "fileid+=\"553.688.Fall.2023\\\\Lectures - Sept\\\\text2.txt\"\n",
    "fin=open(fileid)\n",
    "text=fin.read()\n",
    "print(text)\n",
    "fin.close()"
   ]
  },
  {
   "cell_type": "markdown",
   "metadata": {},
   "source": [
    "**Why double backslashes?**\n",
    "\n",
    "Above, we used double backslashes so that a literal backslash was put in the string.\n",
    "\n",
    "If we didn't do that we can get an error if some backslash preceding a character has some special meaning. For example, \n",
    "\n",
    "\\\\\" means a literal double quotation mark\n",
    "\n",
    "\\t means a tab character\n",
    "\n",
    "\\U has special meaning as defining a unicode string literal - more on unicode later"
   ]
  },
  {
   "cell_type": "code",
   "execution_count": 7,
   "metadata": {
    "tags": []
   },
   "outputs": [
    {
     "ename": "SyntaxError",
     "evalue": "(unicode error) 'unicodeescape' codec can't decode bytes in position 2-3: truncated \\UXXXXXXXX escape (695059075.py, line 1)",
     "output_type": "error",
     "traceback": [
      "\u001b[1;36m  Cell \u001b[1;32mIn[7], line 1\u001b[1;36m\u001b[0m\n\u001b[1;33m    fileid=\"C:\\Users\\dan\\OneDrive - Johns Hopkins\\CurrentCourses\\\\\"\u001b[0m\n\u001b[1;37m                                                                   ^\u001b[0m\n\u001b[1;31mSyntaxError\u001b[0m\u001b[1;31m:\u001b[0m (unicode error) 'unicodeescape' codec can't decode bytes in position 2-3: truncated \\UXXXXXXXX escape\n"
     ]
    }
   ],
   "source": [
    "fileid=\"C:\\Users\\dan\\OneDrive - Johns Hopkins\\CurrentCourses\\\\\"\n",
    "fileid+=\"553.488.Fall.2022\\JupyterNotebooks\\text.txt\""
   ]
  },
  {
   "cell_type": "markdown",
   "metadata": {},
   "source": [
    "**Files containing non-ASCII characters**\n",
    "\n",
    "If a file contains characters in that are part of the extended ASCII set, we typically get an error if we try to read this in as a text file.\n",
    "\n",
    "The file \"bad.txt\" contains all of the characters corresponding to bytes decimal 128 through 255 in the ASCII table. \n",
    "\n",
    "We can inspect the file using a hex editor and here we see the bytes of the file in hexadecimal (base 16) notation, where the digits are\n",
    "\n",
    "    0,1,2,3,4,5,6,7,8,9,A,B,C,D,E,F\n",
    "\n",
    "so that A=10, B=11, C=12, D=13, E=14 and F=15.\n",
    "\n",
    "The byte range for those extended ASCII characters is hexadecimal 80 through FF.\n",
    "\n",
    "For example, the character whose hexadecimal representation is EA has decimal representation\n",
    "\n",
    "$$ 14 \\times 16 + 10 = 224 $$\n",
    "\n",
    "In any case, when we try to read this file we get an error. \n",
    "\n",
    "We'll talk later about how to properly read the bytes of such a file when we discuss *binary files*."
   ]
  },
  {
   "cell_type": "code",
   "execution_count": 8,
   "metadata": {
    "tags": []
   },
   "outputs": [
    {
     "ename": "UnicodeDecodeError",
     "evalue": "'charmap' codec can't decode byte 0x81 in position 47: character maps to <undefined>",
     "output_type": "error",
     "traceback": [
      "\u001b[1;31m---------------------------------------------------------------------------\u001b[0m",
      "\u001b[1;31mUnicodeDecodeError\u001b[0m                        Traceback (most recent call last)",
      "Cell \u001b[1;32mIn[8], line 2\u001b[0m\n\u001b[0;32m      1\u001b[0m fin\u001b[38;5;241m=\u001b[39m\u001b[38;5;28mopen\u001b[39m(\u001b[38;5;124m\"\u001b[39m\u001b[38;5;124mbad.txt\u001b[39m\u001b[38;5;124m\"\u001b[39m)\n\u001b[1;32m----> 2\u001b[0m text\u001b[38;5;241m=\u001b[39mfin\u001b[38;5;241m.\u001b[39mread()\n\u001b[0;32m      3\u001b[0m fin\u001b[38;5;241m.\u001b[39mclose()\n\u001b[0;32m      4\u001b[0m \u001b[38;5;28mprint\u001b[39m(text)\n",
      "File \u001b[1;32m~\\anaconda3\\Lib\\encodings\\cp1252.py:23\u001b[0m, in \u001b[0;36mIncrementalDecoder.decode\u001b[1;34m(self, input, final)\u001b[0m\n\u001b[0;32m     22\u001b[0m \u001b[38;5;28;01mdef\u001b[39;00m \u001b[38;5;21mdecode\u001b[39m(\u001b[38;5;28mself\u001b[39m, \u001b[38;5;28minput\u001b[39m, final\u001b[38;5;241m=\u001b[39m\u001b[38;5;28;01mFalse\u001b[39;00m):\n\u001b[1;32m---> 23\u001b[0m     \u001b[38;5;28;01mreturn\u001b[39;00m codecs\u001b[38;5;241m.\u001b[39mcharmap_decode(\u001b[38;5;28minput\u001b[39m,\u001b[38;5;28mself\u001b[39m\u001b[38;5;241m.\u001b[39merrors,decoding_table)[\u001b[38;5;241m0\u001b[39m]\n",
      "\u001b[1;31mUnicodeDecodeError\u001b[0m: 'charmap' codec can't decode byte 0x81 in position 47: character maps to <undefined>"
     ]
    }
   ],
   "source": [
    "fin=open(\"bad.txt\")\n",
    "text=fin.read()\n",
    "fin.close()\n",
    "print(text)"
   ]
  },
  {
   "cell_type": "markdown",
   "metadata": {},
   "source": [
    "**Reading one line at a time**\n",
    "\n",
    "The readline method allows for reading a line at a time.\n"
   ]
  },
  {
   "cell_type": "code",
   "execution_count": 9,
   "metadata": {
    "tags": []
   },
   "outputs": [
    {
     "name": "stdout",
     "output_type": "stream",
     "text": [
      "This is some text\n",
      "\n",
      "Next line of text\n",
      "\n",
      "Last line of text\n"
     ]
    }
   ],
   "source": [
    "fin=open(\"text.txt\")\n",
    "while True:\n",
    "    s=fin.readline()\n",
    "    if s:\n",
    "        print(s)\n",
    "    else:\n",
    "        break\n",
    "fin.close()"
   ]
  },
  {
   "cell_type": "markdown",
   "metadata": {},
   "source": [
    "**Removing the trailing newline character**\n",
    "\n",
    "Observe that the last character in each line is  a newline character.\n",
    "\n",
    "We can use **strip** to remove it."
   ]
  },
  {
   "cell_type": "code",
   "execution_count": 10,
   "metadata": {
    "tags": []
   },
   "outputs": [
    {
     "data": {
      "text/plain": [
       "'this is a test\\n'"
      ]
     },
     "execution_count": 10,
     "metadata": {},
     "output_type": "execute_result"
    }
   ],
   "source": [
    "text=\"this is a test\\n\"\n",
    "text"
   ]
  },
  {
   "cell_type": "code",
   "execution_count": 11,
   "metadata": {
    "tags": []
   },
   "outputs": [
    {
     "data": {
      "text/plain": [
       "'this is a test'"
      ]
     },
     "execution_count": 11,
     "metadata": {},
     "output_type": "execute_result"
    }
   ],
   "source": [
    "text.strip()"
   ]
  },
  {
   "cell_type": "code",
   "execution_count": 12,
   "metadata": {
    "tags": []
   },
   "outputs": [
    {
     "data": {
      "text/plain": [
       "'this is a test\\n'"
      ]
     },
     "execution_count": 12,
     "metadata": {},
     "output_type": "execute_result"
    }
   ],
   "source": [
    "text"
   ]
  },
  {
   "cell_type": "markdown",
   "metadata": {},
   "source": [
    "**Cleaner method**"
   ]
  },
  {
   "cell_type": "code",
   "execution_count": 13,
   "metadata": {
    "tags": []
   },
   "outputs": [
    {
     "name": "stdout",
     "output_type": "stream",
     "text": [
      "This is some text\n",
      "Next line of text\n",
      "Last line of text\n"
     ]
    }
   ],
   "source": [
    "fin=open(\"text.txt\")\n",
    "while True:\n",
    "    s=fin.readline()\n",
    "    if s:\n",
    "        print(s.strip())\n",
    "    else:\n",
    "        break\n",
    "fin.close()"
   ]
  },
  {
   "cell_type": "markdown",
   "metadata": {},
   "source": [
    "**File handle as iterator**\n",
    "\n",
    "Here is a better way to loop over lines in a file.\n",
    "\n",
    "In the following example, we make a list of strings rather than printing them out."
   ]
  },
  {
   "cell_type": "code",
   "execution_count": 14,
   "metadata": {
    "tags": []
   },
   "outputs": [
    {
     "name": "stdout",
     "output_type": "stream",
     "text": [
      "['This is some text', 'Next line of text', 'Last line of text']\n"
     ]
    }
   ],
   "source": [
    "fin=open('text.txt')\n",
    "lines=[]\n",
    "for x in fin:\n",
    "    lines.append(x.strip())\n",
    "fin.close()\n",
    "print(lines)"
   ]
  },
  {
   "cell_type": "markdown",
   "metadata": {},
   "source": [
    "**with**\n",
    "\n",
    "A more preferred way to proceed uses the *with* keyword. This will automatically close the file after executing the subsequent code block.\n",
    "\n",
    "In the example below, we test at the end whether the file is closed."
   ]
  },
  {
   "cell_type": "code",
   "execution_count": 15,
   "metadata": {
    "tags": []
   },
   "outputs": [
    {
     "name": "stdout",
     "output_type": "stream",
     "text": [
      "['This is some text\\n', 'Next line of text\\n', 'Last line of text']\n",
      "file is closed\n"
     ]
    }
   ],
   "source": [
    "L=[]\n",
    "with open('text.txt') as fin:\n",
    "    for line in fin:\n",
    "        L.append(line)\n",
    "print(L)\n",
    "if fin.closed:\n",
    "    print(\"file is closed\")"
   ]
  },
  {
   "cell_type": "code",
   "execution_count": 16,
   "metadata": {
    "tags": []
   },
   "outputs": [],
   "source": [
    "fin=open(\"text.txt\")\n",
    "line=fin.readline()"
   ]
  },
  {
   "cell_type": "code",
   "execution_count": 17,
   "metadata": {
    "tags": []
   },
   "outputs": [
    {
     "name": "stdout",
     "output_type": "stream",
     "text": [
      "This is some text\n",
      "\n"
     ]
    }
   ],
   "source": [
    "print(line)"
   ]
  },
  {
   "cell_type": "code",
   "execution_count": 18,
   "metadata": {
    "tags": []
   },
   "outputs": [
    {
     "name": "stdout",
     "output_type": "stream",
     "text": [
      "Next line of text\n",
      "\n"
     ]
    }
   ],
   "source": [
    "line=fin.readline()\n",
    "print(line)"
   ]
  },
  {
   "cell_type": "code",
   "execution_count": 19,
   "metadata": {
    "tags": []
   },
   "outputs": [],
   "source": [
    "fin.close()"
   ]
  },
  {
   "cell_type": "markdown",
   "metadata": {},
   "source": [
    "**Enumerate**\n",
    "\n",
    "We can create from an iterable an enumerator, which is a **generator** of 2-tuples."
   ]
  },
  {
   "cell_type": "code",
   "execution_count": 20,
   "metadata": {
    "tags": []
   },
   "outputs": [
    {
     "name": "stdout",
     "output_type": "stream",
     "text": [
      "(0, 'apple')\n",
      "(1, 'orange')\n",
      "(2, 'banana')\n",
      "(3, 'tangerine')\n"
     ]
    }
   ],
   "source": [
    "L=[\"apple\",\"orange\",\"banana\",\"tangerine\"]\n",
    "E=enumerate(L)\n",
    "print(next(E))\n",
    "print(next(E))\n",
    "print(next(E))\n",
    "print(next(E))"
   ]
  },
  {
   "cell_type": "markdown",
   "metadata": {},
   "source": [
    "**Retaining line numbers**\n",
    "\n",
    "When we create a list of lines we might wish to track the line numbers.\n",
    "\n",
    "Enumerate enables us to do this.\n",
    "\n",
    "In this example, we find the line numbers of the lines in the file where the letter \"s\" appears."
   ]
  },
  {
   "cell_type": "code",
   "execution_count": 22,
   "metadata": {
    "tags": []
   },
   "outputs": [
    {
     "name": "stdout",
     "output_type": "stream",
     "text": [
      "(0, 'This is some text\\n')\n",
      "(2, 'Last line of text')\n"
     ]
    }
   ],
   "source": [
    "with open(\"text.txt\") as fin:\n",
    "    E=enumerate(fin)\n",
    "    for e in E:\n",
    "        if e[1].count(\"s\")>=1:\n",
    "            print(e)"
   ]
  },
  {
   "cell_type": "markdown",
   "metadata": {},
   "source": [
    "The enumerator won't work outside of the *with* block.\n",
    "\n",
    "Evidently, the file needs to be open for its enumeration to work."
   ]
  },
  {
   "cell_type": "code",
   "execution_count": 23,
   "metadata": {
    "tags": []
   },
   "outputs": [
    {
     "ename": "ValueError",
     "evalue": "I/O operation on closed file.",
     "output_type": "error",
     "traceback": [
      "\u001b[1;31m---------------------------------------------------------------------------\u001b[0m",
      "\u001b[1;31mValueError\u001b[0m                                Traceback (most recent call last)",
      "Cell \u001b[1;32mIn[23], line 3\u001b[0m\n\u001b[0;32m      1\u001b[0m \u001b[38;5;28;01mwith\u001b[39;00m \u001b[38;5;28mopen\u001b[39m(\u001b[38;5;124m\"\u001b[39m\u001b[38;5;124mtext.txt\u001b[39m\u001b[38;5;124m\"\u001b[39m) \u001b[38;5;28;01mas\u001b[39;00m fin:\n\u001b[0;32m      2\u001b[0m     E\u001b[38;5;241m=\u001b[39m\u001b[38;5;28menumerate\u001b[39m(fin)\n\u001b[1;32m----> 3\u001b[0m \u001b[38;5;28;01mfor\u001b[39;00m e \u001b[38;5;129;01min\u001b[39;00m E:\n\u001b[0;32m      4\u001b[0m     \u001b[38;5;28mprint\u001b[39m(e)\n",
      "\u001b[1;31mValueError\u001b[0m: I/O operation on closed file."
     ]
    }
   ],
   "source": [
    "with open(\"text.txt\") as fin:\n",
    "    E=enumerate(fin)\n",
    "for e in E:\n",
    "    print(e)"
   ]
  },
  {
   "cell_type": "markdown",
   "metadata": {},
   "source": [
    "But we can create a list inside the block."
   ]
  },
  {
   "cell_type": "code",
   "execution_count": 24,
   "metadata": {
    "tags": []
   },
   "outputs": [
    {
     "name": "stdout",
     "output_type": "stream",
     "text": [
      "(0, 'This is some text\\n')\n",
      "(1, 'Next line of text\\n')\n",
      "(2, 'Last line of text')\n"
     ]
    }
   ],
   "source": [
    "with open(\"text.txt\") as fin:\n",
    "    L=list(enumerate(fin))\n",
    "for e in L:\n",
    "    print(e)"
   ]
  },
  {
   "cell_type": "markdown",
   "metadata": {},
   "source": [
    "**File pointers**\n",
    "\n",
    "When we open a file, a file *pointer* is positioned at some location in the file.\n",
    "\n",
    "We can control this positition and read specified number of characters.\n",
    "\n",
    "This gives us the capability of reading characters from a file one by one."
   ]
  },
  {
   "cell_type": "code",
   "execution_count": 25,
   "metadata": {
    "tags": []
   },
   "outputs": [
    {
     "name": "stdout",
     "output_type": "stream",
     "text": [
      " is\n",
      "som\n",
      "This\n"
     ]
    }
   ],
   "source": [
    "fin=open(\"text.txt\")\n",
    "fin.seek(4)\n",
    "txt=fin.read(3)\n",
    "print(txt)\n",
    "\n",
    "fin.seek(8)\n",
    "txt=fin.read(3)\n",
    "print(txt)\n",
    "\n",
    "fin.seek(0)\n",
    "txt=fin.read(4)\n",
    "print(txt)\n",
    "\n",
    "fin.close()"
   ]
  },
  {
   "cell_type": "markdown",
   "metadata": {},
   "source": [
    "In the following, we read a character one at a time until we obtain an empty character."
   ]
  },
  {
   "cell_type": "code",
   "execution_count": 26,
   "metadata": {
    "tags": []
   },
   "outputs": [
    {
     "name": "stdout",
     "output_type": "stream",
     "text": [
      "53\n"
     ]
    }
   ],
   "source": [
    "fin=open(\"text.txt\")\n",
    "ctr=0\n",
    "L=[]\n",
    "while True:\n",
    "    x=fin.read(1)\n",
    "    if not x: # or we could use if x==\"\" here\n",
    "        break\n",
    "    L.append(x)\n",
    "    ctr+=1\n",
    "print(ctr)"
   ]
  },
  {
   "cell_type": "code",
   "execution_count": 27,
   "metadata": {
    "tags": []
   },
   "outputs": [
    {
     "data": {
      "text/plain": [
       "['T',\n",
       " 'h',\n",
       " 'i',\n",
       " 's',\n",
       " ' ',\n",
       " 'i',\n",
       " 's',\n",
       " ' ',\n",
       " 's',\n",
       " 'o',\n",
       " 'm',\n",
       " 'e',\n",
       " ' ',\n",
       " 't',\n",
       " 'e',\n",
       " 'x',\n",
       " 't',\n",
       " '\\n',\n",
       " 'N',\n",
       " 'e',\n",
       " 'x',\n",
       " 't',\n",
       " ' ',\n",
       " 'l',\n",
       " 'i',\n",
       " 'n',\n",
       " 'e',\n",
       " ' ',\n",
       " 'o',\n",
       " 'f',\n",
       " ' ',\n",
       " 't',\n",
       " 'e',\n",
       " 'x',\n",
       " 't',\n",
       " '\\n',\n",
       " 'L',\n",
       " 'a',\n",
       " 's',\n",
       " 't',\n",
       " ' ',\n",
       " 'l',\n",
       " 'i',\n",
       " 'n',\n",
       " 'e',\n",
       " ' ',\n",
       " 'o',\n",
       " 'f',\n",
       " ' ',\n",
       " 't',\n",
       " 'e',\n",
       " 'x',\n",
       " 't']"
      ]
     },
     "execution_count": 27,
     "metadata": {},
     "output_type": "execute_result"
    }
   ],
   "source": [
    "L"
   ]
  },
  {
   "cell_type": "markdown",
   "metadata": {},
   "source": [
    "**Writing to a text file**\n",
    "\n",
    "Writing to a file involves opening a file for writing, writing a string to the file, then closing it.\n",
    "\n",
    "As mentioned earlier, when we open a file and only give the fileid, it opens in reading mode only by default - this is the same as using \"rt\" as the mode.\n",
    "\n",
    "- r stands for read\n",
    "- t stands for text\n",
    "\n",
    "In order to write to a file we must specify a \"w\" in the mode, and again, since the default file type is text we don't need to specify the mode as \"wt\" - but we could.\n",
    "\n",
    "The same rules apply as before in specifying a fileid. The specification can be\n",
    "\n",
    "- a file name if the file is to be written in the current working directory\n",
    "- a relative path specification\n",
    "- an absolute/full path specification"
   ]
  },
  {
   "cell_type": "markdown",
   "metadata": {},
   "source": [
    "In the following we write a string to a file called \"output.txt\" in the current working directory.\n",
    "\n",
    "When such a file does not exist it gets created."
   ]
  },
  {
   "cell_type": "code",
   "execution_count": 28,
   "metadata": {
    "tags": []
   },
   "outputs": [],
   "source": [
    "with open(\"output.txt\",\"w\") as fout:\n",
    "    text=\"This is some text.\"\n",
    "    fout.write(text+\"\\n\")\n",
    "    text=\"And some more.\"\n",
    "    fout.write(text)"
   ]
  },
  {
   "cell_type": "markdown",
   "metadata": {},
   "source": [
    "To test this we read the contents of the file and print it."
   ]
  },
  {
   "cell_type": "code",
   "execution_count": 37,
   "metadata": {
    "tags": []
   },
   "outputs": [
    {
     "name": "stdout",
     "output_type": "stream",
     "text": [
      "Let there be light ... and there was light.3.14159265353.1415926535\n"
     ]
    }
   ],
   "source": [
    "with open(\"output.txt\") as fin:\n",
    "    text=fin.read()\n",
    "print(text)"
   ]
  },
  {
   "cell_type": "markdown",
   "metadata": {},
   "source": [
    "**Opening for writing empties the file**\n",
    "\n",
    "Be careful!!!  If we open an existing file to write to, its current contents get destroyed - the file becomes empty."
   ]
  },
  {
   "cell_type": "code",
   "execution_count": 30,
   "metadata": {
    "tags": []
   },
   "outputs": [],
   "source": [
    "with open(\"output.txt\",\"w\") as fout:\n",
    "    pass"
   ]
  },
  {
   "cell_type": "code",
   "execution_count": 41,
   "metadata": {
    "tags": []
   },
   "outputs": [
    {
     "name": "stdout",
     "output_type": "stream",
     "text": [
      "Let there be light ... and there was light.3.1415926535\n"
     ]
    }
   ],
   "source": [
    "with open(\"output.txt\") as fin:\n",
    "    text=fin.read()\n",
    "print(text)"
   ]
  },
  {
   "cell_type": "markdown",
   "metadata": {},
   "source": [
    "**Append**\n",
    "\n",
    "If want to *append* to a file, i.e. add more text without removing what's already there, we use the \"a\" specification.\n",
    "\n",
    "If the file doesn't exist, it gets created."
   ]
  },
  {
   "cell_type": "code",
   "execution_count": 38,
   "metadata": {
    "tags": []
   },
   "outputs": [],
   "source": [
    "with open(\"output.txt\",\"w\") as fout:\n",
    "    fout.write(\"Let there be light ... \")"
   ]
  },
  {
   "cell_type": "code",
   "execution_count": 39,
   "metadata": {
    "tags": []
   },
   "outputs": [
    {
     "name": "stdout",
     "output_type": "stream",
     "text": [
      "Let there be light ... and there was light.\n"
     ]
    }
   ],
   "source": [
    "with open(\"output.txt\",\"a\") as fout:\n",
    "    fout.write(\"and there was light.\")\n",
    "\n",
    "with open(\"output.txt\",\"r\") as fin:\n",
    "    text=fin.read()\n",
    "    print(text)"
   ]
  },
  {
   "cell_type": "markdown",
   "metadata": {},
   "source": [
    "**Write can only write a string**\n",
    "\n",
    "The following produces an error."
   ]
  },
  {
   "cell_type": "code",
   "execution_count": 35,
   "metadata": {
    "tags": []
   },
   "outputs": [],
   "source": [
    "with open(\"output.txt\",\"a\") as fout:\n",
    "    pi=3.1415926535\n",
    "    fout.write(str(pi))"
   ]
  },
  {
   "cell_type": "markdown",
   "metadata": {},
   "source": [
    "**Stringify**\n",
    "\n",
    "We have to stringify an object in order to write it to a file"
   ]
  },
  {
   "cell_type": "code",
   "execution_count": 40,
   "metadata": {
    "tags": []
   },
   "outputs": [],
   "source": [
    "with open(\"output.txt\",\"a\") as fout:\n",
    "    pi=3.1415926535\n",
    "    fout.write(str(pi))"
   ]
  },
  {
   "cell_type": "markdown",
   "metadata": {},
   "source": [
    "**Mutiple file handles for same file**\n",
    "\n",
    "Python lets us have two different file handles for the same file but this should definitely be avoided if you don't know what you are doing. \n",
    "\n",
    "You can have two different file handles for reading, each with its own file pointer. \n",
    "\n",
    "But if you try to modify the file and have a handle modifying the file and other reading or making modifications, results can be unpredictable and you should definitely avoid this.\n"
   ]
  },
  {
   "cell_type": "code",
   "execution_count": 45,
   "metadata": {
    "tags": []
   },
   "outputs": [
    {
     "name": "stdout",
     "output_type": "stream",
     "text": [
      "['N', 'F', 'O', 'G', 'P', 'H', 'Q', 'I', 'R', 'J', 'S', 'K', 'T', 'L', 'U', 'M', 'V', 'N', 'W', 'O']\n"
     ]
    }
   ],
   "source": [
    "with open(\"output.txt\",\"w\") as fout:\n",
    "    fout.write(\"ABCDEFGHIJKLMNOPQRSTUVWXYZ\")\n",
    "fin1=open(\"output.txt\")\n",
    "fin2=open(\"output.txt\")\n",
    "fin1.seek(13)\n",
    "fin2.seek(5)\n",
    "L=[]\n",
    "for i in range(10):\n",
    "    L.append(fin1.read(1))\n",
    "    L.append(fin2.read(1))\n",
    "print(L)"
   ]
  },
  {
   "cell_type": "code",
   "execution_count": 48,
   "metadata": {
    "tags": []
   },
   "outputs": [
    {
     "name": "stdout",
     "output_type": "stream",
     "text": [
      "This is a test\n",
      "Anothe\tr test\n"
     ]
    }
   ],
   "source": [
    "fout=open(\"output.txt\",\"w\")\n",
    "\n",
    "\n",
    "fout.write(\"This is a test\\n\")\n",
    "\n",
    "fout.write(\"Anothe\\tr test\")\n",
    "\n",
    "fout.close()\n",
    "\n",
    "\n",
    "fin=open(\"output.txt\")\n",
    "text=fin.read()\n",
    "print(text)\n",
    "fin.close()"
   ]
  },
  {
   "cell_type": "code",
   "execution_count": null,
   "metadata": {},
   "outputs": [],
   "source": []
  }
 ],
 "metadata": {
  "kernelspec": {
   "display_name": "Python 3 (ipykernel)",
   "language": "python",
   "name": "python3"
  },
  "language_info": {
   "codemirror_mode": {
    "name": "ipython",
    "version": 3
   },
   "file_extension": ".py",
   "mimetype": "text/x-python",
   "name": "python",
   "nbconvert_exporter": "python",
   "pygments_lexer": "ipython3",
   "version": "3.11.4"
  }
 },
 "nbformat": 4,
 "nbformat_minor": 4
}
