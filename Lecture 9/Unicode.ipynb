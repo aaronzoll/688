{
 "cells": [
  {
   "cell_type": "markdown",
   "metadata": {},
   "source": [
    "**Unicode**\n",
    "\n",
    "Now we consider a file with _very_ special characters. \n",
    "\n",
    "Have a look at the file \"special.txt\"\n",
    "\n",
    "We can open it in jupyter lab.\n",
    "\n",
    "Below is what the file looks like in the free hex editor *HxD* "
   ]
  },
  {
   "attachments": {
    "de7105db-f3bf-4c58-b3fe-3d8b3db97caf.PNG": {
     "image/png": "[encoded data removed]"
    }
   },
   "cell_type": "markdown",
   "metadata": {},
   "source": [
    "![hexedit.PNG](attachment:de7105db-f3bf-4c58-b3fe-3d8b3db97caf.PNG)"
   ]
  },
  {
   "cell_type": "markdown",
   "metadata": {},
   "source": [
    "**Read as a string**\n",
    "\n",
    "Here is what happens when we read the file into a text string."
   ]
  },
  {
   "cell_type": "code",
   "execution_count": null,
   "metadata": {},
   "outputs": [],
   "source": [
    "fin=open(\"special.txt\",\"r\")\n",
    "text=fin.read()\n",
    "fin.close()\n",
    "print(text)"
   ]
  },
  {
   "cell_type": "markdown",
   "metadata": {},
   "source": [
    "**Another example**\n",
    "\n",
    "The file special2.txt also contains special characters."
   ]
  },
  {
   "cell_type": "code",
   "execution_count": null,
   "metadata": {},
   "outputs": [],
   "source": [
    "fin=open(\"special2.txt\",\"r\")\n",
    "text=fin.read()\n",
    "fin.close()\n",
    "print(text)"
   ]
  },
  {
   "cell_type": "markdown",
   "metadata": {},
   "source": [
    "**Identify the non-ASCII bytes**\n",
    "\n",
    "We can read in the file special.txt and special2.txt and store the bytes. And determine which bytes represent ascii characters."
   ]
  },
  {
   "cell_type": "code",
   "execution_count": 1,
   "metadata": {},
   "outputs": [
    {
     "name": "stdout",
     "output_type": "stream",
     "text": [
      "<class 'bytes'>\n",
      "71\n",
      "byte in position    19 value is 240\n",
      "byte in position    20 value is 159\n",
      "byte in position    21 value is 152\n",
      "byte in position    22 value is 184\n",
      "byte in position    44 value is 240\n",
      "byte in position    45 value is 159\n",
      "byte in position    46 value is 152\n",
      "byte in position    47 value is 128\n",
      "byte in position    69 value is 206\n",
      "byte in position    70 value is 168\n"
     ]
    }
   ],
   "source": [
    "fin=open(\"special.txt\",\"rb\")\n",
    "b=fin.read()\n",
    "print(type(b))\n",
    "print(len(b))\n",
    "fin.close()\n",
    "for i in range(len(b)):\n",
    "    if b[i]<128:\n",
    "        pass\n",
    "    else: \n",
    "        st=\"byte in position {:5d} value is {:3d}\".format(i,b[i])\n",
    "        print(st)"
   ]
  },
  {
   "cell_type": "code",
   "execution_count": null,
   "metadata": {},
   "outputs": [],
   "source": [
    "fin=open(\"special2.txt\",\"rb\")\n",
    "b=fin.read()\n",
    "fin.close()\n",
    "for i in range(len(b)):\n",
    "    if b[i]<128:\n",
    "        pass\n",
    "    else: \n",
    "        st=\"byte in position {:5d} value is {:3d}\".format(i,b[i])\n",
    "        print(st)"
   ]
  },
  {
   "cell_type": "markdown",
   "metadata": {},
   "source": [
    "**Unicode characters**\n",
    "\n",
    "The first file looks like a text file and the second does not (jupyter won't even load it!!!).\n",
    "\n",
    "So an issue here is that the one that looks like a text file contains special _unicode_ characters. \n",
    "\n",
    "The Python interpreter doesn't know that we included these in our file until we alert it to this fact. \n",
    "\n",
    "Instead, the interpreter tries to read the file into the string as a collection of 8 bit characters\n"
   ]
  },
  {
   "cell_type": "markdown",
   "metadata": {},
   "source": [
    "The file \"special.txt\" contains bytes that represent _unicode_ characters, using a particular coding referred to as _utf-8_ (More about how this encoding works below.)\n",
    "\n",
    "If we want to read these bytes into a string and have that string represent the characters, we read the file in as a binary file and then decode the string.\n",
    "\n",
    "When we read the file in as a binary file, we obtain a _bytes_ object."
   ]
  },
  {
   "cell_type": "code",
   "execution_count": 2,
   "metadata": {},
   "outputs": [
    {
     "name": "stdout",
     "output_type": "stream",
     "text": [
      "71\n",
      "b'Special character: \\xf0\\x9f\\x98\\xb8\\r\\nSpecial character: \\xf0\\x9f\\x98\\x80\\r\\nSpecial character: \\xce\\xa8'\n",
      "<class 'bytes'>\n"
     ]
    }
   ],
   "source": [
    "fin=open(\"special.txt\",\"rb\")\n",
    "btext=fin.read()\n",
    "print(len(btext))\n",
    "fin.close()\n",
    "print(btext)\n",
    "print(type(btext))"
   ]
  },
  {
   "cell_type": "markdown",
   "metadata": {},
   "source": [
    "**Decoding**\n",
    "\n",
    "When we print a bytes object to the screen, the ascii characters are shown in their usual representation, while the bytes represeneting non-ascii characters are show as \\xhh where hh consists of two hexadecimal characters."
   ]
  },
  {
   "cell_type": "markdown",
   "metadata": {},
   "source": [
    "This can be then *decoded* to produce a text string with <u> unicode </u> characters."
   ]
  },
  {
   "cell_type": "code",
   "execution_count": 3,
   "metadata": {},
   "outputs": [
    {
     "name": "stdout",
     "output_type": "stream",
     "text": [
      "b'Special character: \\xf0\\x9f\\x98\\xb8\\r\\nSpecial character: \\xf0\\x9f\\x98\\x80\\r\\nSpecial character: \\xce\\xa8'\n",
      "71\n",
      "Special character: 😸\n",
      "Special character: 😀\n",
      "Special character: Ψ\n",
      "<class 'str'>\n",
      "64\n"
     ]
    }
   ],
   "source": [
    "fin=open(\"special.txt\",\"rb\")\n",
    "btext=fin.read() # read every byte into btext\n",
    "print(btext)\n",
    "fin.close()\n",
    "print(len(btext))\n",
    "\n",
    "text=btext.decode()\n",
    "print(text)\n",
    "print(type(text))\n",
    "print(len(text))"
   ]
  },
  {
   "cell_type": "markdown",
   "metadata": {},
   "source": [
    "**Single characters in a string**\n",
    "\n",
    "So we see that Python <u> strings </u> can contain these special unicode characters. A string containing a unicode character has length 1, despite the fact that its binary representation can consist of more than 2 bytes."
   ]
  },
  {
   "cell_type": "code",
   "execution_count": 4,
   "metadata": {},
   "outputs": [
    {
     "name": "stdout",
     "output_type": "stream",
     "text": [
      "😸\n",
      "1\n",
      "<class 'str'>\n"
     ]
    }
   ],
   "source": [
    "funnyface=btext[19:23].decode()\n",
    "print(funnyface)\n",
    "print(len(funnyface))\n",
    "print(type(funnyface))"
   ]
  },
  {
   "cell_type": "code",
   "execution_count": 5,
   "metadata": {},
   "outputs": [
    {
     "name": "stdout",
     "output_type": "stream",
     "text": [
      "😸\n",
      "1\n"
     ]
    }
   ],
   "source": [
    "print(text[19])\n",
    "print(len(text[19]))"
   ]
  },
  {
   "cell_type": "code",
   "execution_count": 8,
   "metadata": {},
   "outputs": [
    {
     "data": {
      "text/plain": [
       "'Special character: 😸\\r\\nSpecial character: 😀\\r\\nSpecial character: Ψ'"
      ]
     },
     "execution_count": 8,
     "metadata": {},
     "output_type": "execute_result"
    }
   ],
   "source": [
    "text"
   ]
  },
  {
   "cell_type": "markdown",
   "metadata": {},
   "source": [
    "**Writing to a file**\n",
    "If we try to write our string out to a file we get an error."
   ]
  },
  {
   "cell_type": "code",
   "execution_count": 7,
   "metadata": {},
   "outputs": [
    {
     "ename": "UnicodeEncodeError",
     "evalue": "'charmap' codec can't encode character '\\U0001f638' in position 19: character maps to <undefined>",
     "output_type": "error",
     "traceback": [
      "\u001b[1;31m---------------------------------------------------------------------------\u001b[0m",
      "\u001b[1;31mUnicodeEncodeError\u001b[0m                        Traceback (most recent call last)",
      "Input \u001b[1;32mIn [7]\u001b[0m, in \u001b[0;36m<cell line: 2>\u001b[1;34m()\u001b[0m\n\u001b[0;32m      1\u001b[0m fout\u001b[38;5;241m=\u001b[39m\u001b[38;5;28mopen\u001b[39m(\u001b[38;5;124m\"\u001b[39m\u001b[38;5;124mtry.txt\u001b[39m\u001b[38;5;124m\"\u001b[39m,\u001b[38;5;124m\"\u001b[39m\u001b[38;5;124mw\u001b[39m\u001b[38;5;124m\"\u001b[39m)\n\u001b[1;32m----> 2\u001b[0m \u001b[43mfout\u001b[49m\u001b[38;5;241;43m.\u001b[39;49m\u001b[43mwrite\u001b[49m\u001b[43m(\u001b[49m\u001b[43mtext\u001b[49m\u001b[43m)\u001b[49m\n\u001b[0;32m      3\u001b[0m fout\u001b[38;5;241m.\u001b[39mclose()\n",
      "File \u001b[1;32m~\\anaconda3\\lib\\encodings\\cp1252.py:19\u001b[0m, in \u001b[0;36mIncrementalEncoder.encode\u001b[1;34m(self, input, final)\u001b[0m\n\u001b[0;32m     18\u001b[0m \u001b[38;5;28;01mdef\u001b[39;00m \u001b[38;5;21mencode\u001b[39m(\u001b[38;5;28mself\u001b[39m, \u001b[38;5;28minput\u001b[39m, final\u001b[38;5;241m=\u001b[39m\u001b[38;5;28;01mFalse\u001b[39;00m):\n\u001b[1;32m---> 19\u001b[0m     \u001b[38;5;28;01mreturn\u001b[39;00m \u001b[43mcodecs\u001b[49m\u001b[38;5;241;43m.\u001b[39;49m\u001b[43mcharmap_encode\u001b[49m\u001b[43m(\u001b[49m\u001b[38;5;28;43minput\u001b[39;49m\u001b[43m,\u001b[49m\u001b[38;5;28;43mself\u001b[39;49m\u001b[38;5;241;43m.\u001b[39;49m\u001b[43merrors\u001b[49m\u001b[43m,\u001b[49m\u001b[43mencoding_table\u001b[49m\u001b[43m)\u001b[49m[\u001b[38;5;241m0\u001b[39m]\n",
      "\u001b[1;31mUnicodeEncodeError\u001b[0m: 'charmap' codec can't encode character '\\U0001f638' in position 19: character maps to <undefined>"
     ]
    }
   ],
   "source": [
    "fout=open(\"try.txt\",\"w\")\n",
    "fout.write(text)\n",
    "fout.close()"
   ]
  },
  {
   "cell_type": "markdown",
   "metadata": {},
   "source": [
    "**Encoding**\n",
    "\n",
    "Going in the other direction, if we have a string with unicode characters in it, then to print it out, we need to encode it as a bytes object, and write it as a binary file."
   ]
  },
  {
   "cell_type": "code",
   "execution_count": 9,
   "metadata": {},
   "outputs": [
    {
     "name": "stdout",
     "output_type": "stream",
     "text": [
      "<class 'bytes'>\n"
     ]
    }
   ],
   "source": [
    "fout=open(\"try.txt\",\"wb\")\n",
    "bt=text.encode()\n",
    "print(type(bt))\n",
    "fout.write(bt)\n",
    "fout.close()"
   ]
  },
  {
   "cell_type": "code",
   "execution_count": 10,
   "metadata": {},
   "outputs": [],
   "source": [
    "btext2=text.encode()\n",
    "fout=open(\"output4.txt\",\"wb\")\n",
    "fout.write(btext2)\n",
    "fout.close()\n"
   ]
  },
  {
   "cell_type": "markdown",
   "metadata": {
    "tags": []
   },
   "source": [
    "**How utf-8 encoding works**\n",
    "\n",
    "\n",
    "The encoding method is described enthusiastically in a fun video here recorded in a hotel lobby by Tom Scott \n",
    "\n",
    "https://en.wikipedia.org/wiki/Tom_Scott_(presenter)\n",
    "\n",
    "Here's a link to the video in YouTube:\n",
    "\n",
    "https://www.youtube.com/watch?v=MijmeoH9LT4\n",
    "\n",
    "The basic idea is explained in the following image from the Wikipedia utf-8 page."
   ]
  },
  {
   "attachments": {
    "37c23def-7319-4e09-b430-3f3270dd8586.PNG": {
     "image/png": "[encoded data removed]"
    }
   },
   "cell_type": "markdown",
   "metadata": {},
   "source": [
    "![utf-8.PNG](attachment:37c23def-7319-4e09-b430-3f3270dd8586.PNG)"
   ]
  },
  {
   "cell_type": "markdown",
   "metadata": {},
   "source": [
    "- When a byte appears in the stream whose first bit is 0, this indicates that the next 7 bits give code (0-127) of an ascii character.\n",
    "\n",
    "- When a byte starts with 110xxxxx, this indicates that the next byte will be of the form 10xxxxxx, and the 11 avilaiable bits can be used to encode a character.\n",
    "\n",
    "- When a byte starts with 1110xxxx, this indicates that the next two bytes will be of the form 10xxxxxx, and the 16 avilaiable bits can be used to encode a character.\n",
    "\n",
    "- When a byte starts with 11110xxx, this indicates that the next three bytes will be of the form 10xxxxxx, and the 21 avilaiable bits can be used to encode a character.\n",
    "\n",
    "As a result, we are able to encode 2,164,864 possible characters."
   ]
  },
  {
   "cell_type": "code",
   "execution_count": null,
   "metadata": {},
   "outputs": [],
   "source": [
    "n=2**21 + 2**16 + 2**11 + 2**7\n",
    "print(\"{:,}\".format(n))"
   ]
  },
  {
   "cell_type": "markdown",
   "metadata": {},
   "source": [
    "**Example**\n",
    "Consider the special 3 characters mentioned above \n",
    "\n",
    "😸😀Ψ"
   ]
  },
  {
   "cell_type": "markdown",
   "metadata": {},
   "source": [
    "We look at the binary representations of their bytes."
   ]
  },
  {
   "cell_type": "code",
   "execution_count": 8,
   "metadata": {},
   "outputs": [],
   "source": [
    "b0=b'\\xf0\\x9f\\x98\\xb8'\n",
    "b1=b'\\xf0\\x9f\\x98\\x80'\n",
    "b2=b'\\xce\\xa8'"
   ]
  },
  {
   "cell_type": "code",
   "execution_count": 9,
   "metadata": {},
   "outputs": [
    {
     "name": "stdout",
     "output_type": "stream",
     "text": [
      "😸\n",
      "0b11110000\n",
      "0b10011111\n",
      "0b10011000\n",
      "0b10111000\n"
     ]
    }
   ],
   "source": [
    "c0=b0.decode()\n",
    "print(c0)\n",
    "print(bin(0xf0))\n",
    "print(bin(0x9f))\n",
    "print(bin(0x98))\n",
    "print(bin(0xb8))"
   ]
  },
  {
   "cell_type": "code",
   "execution_count": 10,
   "metadata": {},
   "outputs": [
    {
     "name": "stdout",
     "output_type": "stream",
     "text": [
      "😀\n",
      "0b11110000\n",
      "0b10011111\n",
      "0b10011000\n",
      "0b10000000\n"
     ]
    }
   ],
   "source": [
    "c1=b1.decode()\n",
    "print(c1)\n",
    "print(bin(0xf0))\n",
    "print(bin(0x9f))\n",
    "print(bin(0x98))\n",
    "print(bin(0x80))"
   ]
  },
  {
   "cell_type": "code",
   "execution_count": 11,
   "metadata": {},
   "outputs": [
    {
     "name": "stdout",
     "output_type": "stream",
     "text": [
      "Ψ\n",
      "0b11001110\n",
      "0b10101000\n"
     ]
    }
   ],
   "source": [
    "c2=b2.decode()\n",
    "print(c2)\n",
    "print(bin(0xce))\n",
    "print(bin(0xa8))"
   ]
  },
  {
   "cell_type": "markdown",
   "metadata": {},
   "source": [
    "**Code points**\n",
    "\n",
    "Every Unicode character has a code point, which we can look up in standard unicode tables.\n",
    "\n",
    "The function ord() gives us the code point of a character in decimal."
   ]
  },
  {
   "cell_type": "code",
   "execution_count": 12,
   "metadata": {},
   "outputs": [
    {
     "name": "stdout",
     "output_type": "stream",
     "text": [
      "128568\n",
      "128512\n",
      "936\n",
      "0x1f638\n",
      "0x1f600\n",
      "0x3a8\n"
     ]
    }
   ],
   "source": [
    "print(ord(c0))\n",
    "print(ord(c1))\n",
    "print(ord(c2))\n",
    "print(hex(ord(c0)))\n",
    "print(hex(ord(c1)))\n",
    "print(hex(ord(c2)))"
   ]
  },
  {
   "cell_type": "markdown",
   "metadata": {},
   "source": [
    "Once we have a code point for a character we can go in the other direction and get the character."
   ]
  },
  {
   "cell_type": "code",
   "execution_count": 13,
   "metadata": {},
   "outputs": [
    {
     "name": "stdout",
     "output_type": "stream",
     "text": [
      "😸\n",
      "😀\n",
      "Ψ\n",
      "128568\n",
      "128512\n",
      "936\n"
     ]
    }
   ],
   "source": [
    "print(chr(128568))\n",
    "print(chr(128512))\n",
    "print(chr(936))\n",
    "print(0x1f638)\n",
    "print(0x1f600)\n",
    "print(0x3a8)\n"
   ]
  },
  {
   "cell_type": "markdown",
   "metadata": {},
   "source": [
    "**Online character tables**\n",
    "\n",
    "We can go to our online character table and find the code point for some character. \n",
    "\n",
    "https://www.unicode.org/charts/PDF/U1F600.pdf\n"
   ]
  },
  {
   "cell_type": "code",
   "execution_count": 14,
   "metadata": {},
   "outputs": [
    {
     "name": "stdout",
     "output_type": "stream",
     "text": [
      "😤\n"
     ]
    }
   ],
   "source": [
    "print(chr(0x1f624))"
   ]
  },
  {
   "cell_type": "markdown",
   "metadata": {},
   "source": [
    "**Mal-formed encodings**\n",
    "\n",
    "It is possible to have a binary file with mal-formed utf-8 encoding.\n",
    "\n",
    "For example, consider the second file special2.txt."
   ]
  },
  {
   "cell_type": "code",
   "execution_count": 13,
   "metadata": {},
   "outputs": [
    {
     "ename": "UnicodeDecodeError",
     "evalue": "'utf-8' codec can't decode byte 0x81 in position 0: invalid start byte",
     "output_type": "error",
     "traceback": [
      "\u001b[1;31m---------------------------------------------------------------------------\u001b[0m",
      "\u001b[1;31mUnicodeDecodeError\u001b[0m                        Traceback (most recent call last)",
      "Input \u001b[1;32mIn [13]\u001b[0m, in \u001b[0;36m<cell line: 4>\u001b[1;34m()\u001b[0m\n\u001b[0;32m      2\u001b[0m b\u001b[38;5;241m=\u001b[39mfin\u001b[38;5;241m.\u001b[39mread()\n\u001b[0;32m      3\u001b[0m fin\u001b[38;5;241m.\u001b[39mclose()\n\u001b[1;32m----> 4\u001b[0m text\u001b[38;5;241m=\u001b[39m\u001b[43mb\u001b[49m\u001b[38;5;241;43m.\u001b[39;49m\u001b[43mdecode\u001b[49m\u001b[43m(\u001b[49m\u001b[43m)\u001b[49m\n",
      "\u001b[1;31mUnicodeDecodeError\u001b[0m: 'utf-8' codec can't decode byte 0x81 in position 0: invalid start byte"
     ]
    }
   ],
   "source": [
    "fin=open(\"special2.txt\",\"rb\")\n",
    "b=fin.read()\n",
    "fin.close()\n",
    "text=b.decode()"
   ]
  },
  {
   "cell_type": "code",
   "execution_count": 20,
   "metadata": {},
   "outputs": [
    {
     "name": "stdout",
     "output_type": "stream",
     "text": [
      "0x81 0b10000001\n",
      "0x83 0b10000011\n",
      "0x98 0b10011000\n",
      "0xb8 0b10111000\n",
      "0xd 0b1101\n",
      "0xa 0b1010\n",
      "0x20 0b100000\n",
      "0xf0 0b11110000\n",
      "0x9f 0b10011111\n",
      "0x98 0b10011000\n",
      "0x80 0b10000000\n",
      "0xd 0b1101\n",
      "0xa 0b1010\n",
      "0x3a 0b111010\n",
      "0x20 0b100000\n",
      "0xce 0b11001110\n",
      "0xa8 0b10101000\n"
     ]
    }
   ],
   "source": [
    "for i in range(len(b)):\n",
    "    print(hex(b[i])+\" \"+bin(b[i]))"
   ]
  },
  {
   "cell_type": "markdown",
   "metadata": {},
   "source": [
    "The file contains the two bytes: \\x81\\x83 which are continuation bytes but there is no inititation byte."
   ]
  },
  {
   "cell_type": "code",
   "execution_count": 16,
   "metadata": {},
   "outputs": [
    {
     "name": "stdout",
     "output_type": "stream",
     "text": [
      "0b10000001\n",
      "0b10000010\n"
     ]
    }
   ],
   "source": [
    "print(bin(0x81))\n",
    "print(bin(0x82))"
   ]
  },
  {
   "cell_type": "code",
   "execution_count": null,
   "metadata": {},
   "outputs": [],
   "source": []
  }
 ],
 "metadata": {
  "kernelspec": {
   "display_name": "Python 3 (ipykernel)",
   "language": "python",
   "name": "python3"
  },
  "language_info": {
   "codemirror_mode": {
    "name": "ipython",
    "version": 3
   },
   "file_extension": ".py",
   "mimetype": "text/x-python",
   "name": "python",
   "nbconvert_exporter": "python",
   "pygments_lexer": "ipython3",
   "version": "3.11.4"
  }
 },
 "nbformat": 4,
 "nbformat_minor": 4
}
