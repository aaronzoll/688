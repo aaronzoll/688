{
 "cells": [
  {
   "cell_type": "markdown",
   "metadata": {},
   "source": [
    "**Function Arguments**\n",
    "\n",
    "**Named/Keyword arguments for functions**\n",
    "\n",
    "For clarity it is helpful to allow our function arguments to have names.\n",
    "\n",
    "For example, for solving \n",
    "\n",
    "$$Ax^2 + Bx+ C = 0 $$\n",
    "\n",
    "we usually write the quadratic formula in terms of A, B and C.\n",
    "\n",
    "Here we consider a quadratic formula function.\n",
    "\n",
    "We'll use the cmath package, which provides for mathematical calculations with complex numbers."
   ]
  },
  {
   "cell_type": "code",
   "execution_count": 1,
   "metadata": {
    "tags": []
   },
   "outputs": [],
   "source": [
    "import cmath as c\n",
    "def quadratic_formula(A,B,C):\n",
    "    d=B*B-4*A*C\n",
    "    rtd=c.sqrt(d)\n",
    "    root1=(-B-rtd)/(2*A)\n",
    "    root2=(-B+rtd)/(2*A)\n",
    "    return((root1,root2))"
   ]
  },
  {
   "cell_type": "markdown",
   "metadata": {},
   "source": [
    "**Complex numbers**\n",
    "\n",
    "As an aside, not that Python provides complex numbers and the usual operations."
   ]
  },
  {
   "cell_type": "code",
   "execution_count": 2,
   "metadata": {
    "tags": []
   },
   "outputs": [
    {
     "name": "stdout",
     "output_type": "stream",
     "text": [
      "<class 'complex'>\n",
      "(1.4+2.3j)\n",
      "(-2+7j)\n",
      "(4.8-2.4000000000000004j)\n",
      "(-15.569999999999999-1.2399999999999993j)\n",
      "(0.17979197622585438-0.4279346210995542j)\n"
     ]
    }
   ],
   "source": [
    "z1=1.4+2.3j # literal complex number\n",
    "z2=-3.4+4.7j\n",
    "print(type(z1))\n",
    "print(z1)\n",
    "print(z1+z2)\n",
    "print(z1-z2)\n",
    "print(z1*z2)\n",
    "print(z1/z2)"
   ]
  },
  {
   "cell_type": "markdown",
   "metadata": {},
   "source": [
    "Math's exp doesn't work as we'd like."
   ]
  },
  {
   "cell_type": "code",
   "execution_count": 3,
   "metadata": {
    "tags": []
   },
   "outputs": [
    {
     "ename": "TypeError",
     "evalue": "must be real number, not complex",
     "output_type": "error",
     "traceback": [
      "\u001b[1;31m---------------------------------------------------------------------------\u001b[0m",
      "\u001b[1;31mTypeError\u001b[0m                                 Traceback (most recent call last)",
      "Cell \u001b[1;32mIn[3], line 2\u001b[0m\n\u001b[0;32m      1\u001b[0m \u001b[38;5;28;01mimport\u001b[39;00m \u001b[38;5;21;01mmath\u001b[39;00m \u001b[38;5;28;01mas\u001b[39;00m \u001b[38;5;21;01mm\u001b[39;00m\n\u001b[1;32m----> 2\u001b[0m m\u001b[38;5;241m.\u001b[39mexp(z1)\n",
      "\u001b[1;31mTypeError\u001b[0m: must be real number, not complex"
     ]
    }
   ],
   "source": [
    "import math as m\n",
    "m.exp(z1)"
   ]
  },
  {
   "cell_type": "markdown",
   "metadata": {},
   "source": [
    "But numpy's exp works fine."
   ]
  },
  {
   "cell_type": "code",
   "execution_count": 4,
   "metadata": {
    "tags": []
   },
   "outputs": [
    {
     "data": {
      "text/plain": [
       "(-2.701882499403344+3.023983751694937j)"
      ]
     },
     "execution_count": 4,
     "metadata": {},
     "output_type": "execute_result"
    }
   ],
   "source": [
    "import numpy as np\n",
    "np.exp(z1)"
   ]
  },
  {
   "cell_type": "markdown",
   "metadata": {},
   "source": [
    "And we can get one of the square roots of a given complex number using numpy's sqrt function."
   ]
  },
  {
   "cell_type": "code",
   "execution_count": 5,
   "metadata": {
    "tags": []
   },
   "outputs": [
    {
     "data": {
      "text/plain": [
       "(1.4304863514845663+0.8039223854226388j)"
      ]
     },
     "execution_count": 5,
     "metadata": {},
     "output_type": "execute_result"
    }
   ],
   "source": [
    "np.sqrt(z1)"
   ]
  },
  {
   "cell_type": "code",
   "execution_count": 6,
   "metadata": {
    "tags": []
   },
   "outputs": [
    {
     "data": {
      "text/plain": [
       "(-2.701882499403344+3.023983751694937j)"
      ]
     },
     "execution_count": 6,
     "metadata": {},
     "output_type": "execute_result"
    }
   ],
   "source": [
    "c.exp(z1)"
   ]
  },
  {
   "cell_type": "markdown",
   "metadata": {},
   "source": [
    "**Order of arguments**\n",
    "\n",
    "When we pass arguments to the function, we can use positions of the arguments, and the order of the arguments matters."
   ]
  },
  {
   "cell_type": "code",
   "execution_count": 7,
   "metadata": {
    "tags": []
   },
   "outputs": [
    {
     "name": "stdout",
     "output_type": "stream",
     "text": [
      "((-1-1.4142135623730951j), (-1+1.4142135623730951j))\n",
      "((-0.3333333333333333-0.47140452079103173j), (-0.3333333333333333+0.47140452079103173j))\n"
     ]
    }
   ],
   "source": [
    "print(quadratic_formula(1,2,3))\n",
    "print(quadratic_formula(3,2,1))"
   ]
  },
  {
   "cell_type": "markdown",
   "metadata": {},
   "source": [
    "**Names of arguments**\n",
    "\n",
    "But we implicitly named our arguments (A,B and C) so we can also use names for the arguments, which allows us to pass values in any order."
   ]
  },
  {
   "cell_type": "code",
   "execution_count": 8,
   "metadata": {
    "tags": []
   },
   "outputs": [
    {
     "name": "stdout",
     "output_type": "stream",
     "text": [
      "((-1-1.4142135623730951j), (-1+1.4142135623730951j))\n",
      "((-1-1.4142135623730951j), (-1+1.4142135623730951j))\n"
     ]
    }
   ],
   "source": [
    "print(quadratic_formula(A=1,B=2,C=3))\n",
    "print(quadratic_formula(C=3,A=1,B=2))\n",
    "\n"
   ]
  },
  {
   "cell_type": "markdown",
   "metadata": {},
   "source": [
    "**Default values**\n",
    "\n",
    "We can specify default values for arguments not included when the function is called.\n",
    "\n",
    "When we do this, we must put all arguments without default values first. Then the arguments without defaults are *positional* unless otherwise indicated."
   ]
  },
  {
   "cell_type": "code",
   "execution_count": 13,
   "metadata": {
    "tags": []
   },
   "outputs": [],
   "source": [
    "import cmath as c\n",
    "def quadratic_formula(A,C,B=0): # B is zero by default \n",
    "    d=B*B-4*A*C\n",
    "    rtd=c.sqrt(d)\n",
    "    root1=(-B-rtd)/(2*A)\n",
    "    root2=(-B+rtd)/(2*A)\n",
    "    return((root1,root2))"
   ]
  },
  {
   "cell_type": "code",
   "execution_count": 14,
   "metadata": {
    "tags": []
   },
   "outputs": [
    {
     "name": "stdout",
     "output_type": "stream",
     "text": [
      "(-1.7320508075688772j, 1.7320508075688772j)\n",
      "(-1.7320508075688772j, 1.7320508075688772j)\n",
      "((-4.302775637731995+0j), (-0.6972243622680054+0j))\n",
      "(-1.7320508075688772j, 1.7320508075688772j)\n"
     ]
    }
   ],
   "source": [
    "print(quadratic_formula(A=1,C=3))\n",
    "print(quadratic_formula(1,3))\n",
    "print(quadratic_formula(A=1,B=5,C=3))\n",
    "print(quadratic_formula(A=1,C=3,B=0))"
   ]
  },
  {
   "cell_type": "markdown",
   "metadata": {},
   "source": [
    "**Order restriction**\n",
    "\n",
    "In this case, any positional arguments must appear before named/keyword arguments"
   ]
  },
  {
   "cell_type": "code",
   "execution_count": 15,
   "metadata": {
    "tags": []
   },
   "outputs": [
    {
     "ename": "SyntaxError",
     "evalue": "positional argument follows keyword argument (2348076166.py, line 1)",
     "output_type": "error",
     "traceback": [
      "\u001b[1;36m  Cell \u001b[1;32mIn[15], line 1\u001b[1;36m\u001b[0m\n\u001b[1;33m    print(quadratic_formula(B=2,1,3))\u001b[0m\n\u001b[1;37m                                   ^\u001b[0m\n\u001b[1;31mSyntaxError\u001b[0m\u001b[1;31m:\u001b[0m positional argument follows keyword argument\n"
     ]
    }
   ],
   "source": [
    "print(quadratic_formula(B=2,1,3))\n"
   ]
  },
  {
   "cell_type": "code",
   "execution_count": 12,
   "metadata": {
    "tags": []
   },
   "outputs": [
    {
     "ename": "SyntaxError",
     "evalue": "positional argument follows keyword argument (1431528526.py, line 1)",
     "output_type": "error",
     "traceback": [
      "\u001b[1;36m  Cell \u001b[1;32mIn[12], line 1\u001b[1;36m\u001b[0m\n\u001b[1;33m    print(quadratic_formula(A=1,3,2))\u001b[0m\n\u001b[1;37m                                   ^\u001b[0m\n\u001b[1;31mSyntaxError\u001b[0m\u001b[1;31m:\u001b[0m positional argument follows keyword argument\n"
     ]
    }
   ],
   "source": [
    "print(quadratic_formula(A=1,3,2))"
   ]
  },
  {
   "cell_type": "markdown",
   "metadata": {},
   "source": [
    "**Optional Named Arguments**\n",
    "\n",
    "There are various examples of Python functions that use a variable number of positional arguments together with optional named arguments. Consider the print() function for example."
   ]
  },
  {
   "cell_type": "code",
   "execution_count": 16,
   "metadata": {
    "tags": []
   },
   "outputs": [
    {
     "name": "stdout",
     "output_type": "stream",
     "text": [
      "Help on built-in function print in module builtins:\n",
      "\n",
      "print(*args, sep=' ', end='\\n', file=None, flush=False)\n",
      "    Prints the values to a stream, or to sys.stdout by default.\n",
      "    \n",
      "    sep\n",
      "      string inserted between values, default a space.\n",
      "    end\n",
      "      string appended after the last value, default a newline.\n",
      "    file\n",
      "      a file-like object (stream); defaults to the current sys.stdout.\n",
      "    flush\n",
      "      whether to forcibly flush the stream.\n",
      "\n"
     ]
    }
   ],
   "source": [
    "help(print)"
   ]
  },
  {
   "cell_type": "markdown",
   "metadata": {},
   "source": [
    "**print has variable number of position arguments**"
   ]
  },
  {
   "cell_type": "code",
   "execution_count": 17,
   "metadata": {
    "tags": []
   },
   "outputs": [
    {
     "name": "stdout",
     "output_type": "stream",
     "text": [
      "1 2\n",
      "1 2 3 bob\n"
     ]
    }
   ],
   "source": [
    "x=1\n",
    "y=2\n",
    "z=3\n",
    "print(x,y)\n",
    "print(x,y,z,\"bob\")"
   ]
  },
  {
   "cell_type": "code",
   "execution_count": 18,
   "metadata": {
    "tags": []
   },
   "outputs": [
    {
     "name": "stdout",
     "output_type": "stream",
     "text": [
      "1PPPP2PPPP3PPPPbob\n"
     ]
    }
   ],
   "source": [
    "\n",
    "print(x,y,z,\"bob\",sep=\"PPPP\",end=\"\\n\")"
   ]
  },
  {
   "cell_type": "code",
   "execution_count": 19,
   "metadata": {
    "tags": []
   },
   "outputs": [
    {
     "data": {
      "text/plain": [
       "\u001b[1;31mSignature:\u001b[0m \u001b[0mprint\u001b[0m\u001b[1;33m(\u001b[0m\u001b[1;33m*\u001b[0m\u001b[0margs\u001b[0m\u001b[1;33m,\u001b[0m \u001b[0msep\u001b[0m\u001b[1;33m=\u001b[0m\u001b[1;34m' '\u001b[0m\u001b[1;33m,\u001b[0m \u001b[0mend\u001b[0m\u001b[1;33m=\u001b[0m\u001b[1;34m'\\n'\u001b[0m\u001b[1;33m,\u001b[0m \u001b[0mfile\u001b[0m\u001b[1;33m=\u001b[0m\u001b[1;32mNone\u001b[0m\u001b[1;33m,\u001b[0m \u001b[0mflush\u001b[0m\u001b[1;33m=\u001b[0m\u001b[1;32mFalse\u001b[0m\u001b[1;33m)\u001b[0m\u001b[1;33m\u001b[0m\u001b[1;33m\u001b[0m\u001b[0m\n",
       "\u001b[1;31mDocstring:\u001b[0m\n",
       "Prints the values to a stream, or to sys.stdout by default.\n",
       "\n",
       "sep\n",
       "  string inserted between values, default a space.\n",
       "end\n",
       "  string appended after the last value, default a newline.\n",
       "file\n",
       "  a file-like object (stream); defaults to the current sys.stdout.\n",
       "flush\n",
       "  whether to forcibly flush the stream.\n",
       "\u001b[1;31mType:\u001b[0m      builtin_function_or_method"
      ]
     },
     "metadata": {},
     "output_type": "display_data"
    }
   ],
   "source": [
    "?print"
   ]
  },
  {
   "cell_type": "markdown",
   "metadata": {},
   "source": [
    "**positional arguments must precede optional named/keyword arguments**"
   ]
  },
  {
   "cell_type": "code",
   "execution_count": 20,
   "metadata": {
    "tags": []
   },
   "outputs": [
    {
     "name": "stdout",
     "output_type": "stream",
     "text": [
      "string1_string2_bob\n",
      "\n",
      "\n",
      "string1\n"
     ]
    }
   ],
   "source": [
    "print(\"string1\",\"string2\",\"bob\",sep=\"_\",end='\\n\\n\\n')\n",
    "print(\"string1\")"
   ]
  },
  {
   "cell_type": "markdown",
   "metadata": {},
   "source": [
    "**Another example**\n",
    "\n",
    "Below, **sep** and **end** are optional named/keyword arguments."
   ]
  },
  {
   "cell_type": "code",
   "execution_count": 21,
   "metadata": {
    "tags": []
   },
   "outputs": [
    {
     "name": "stdout",
     "output_type": "stream",
     "text": [
      "my dog ate my homework again\n",
      "my_dog_ate_my_homework\n",
      "my dog ate my homework\n",
      "my_dog_ate_my_homework\n",
      "\n",
      "my,dog,ate,my,homework\n"
     ]
    }
   ],
   "source": [
    "print(\"my\",\"dog\",\"ate\",\"my\",\"homework\",\"again\")\n",
    "print(\"my\",\"dog\",\"ate\",\"my\",\"homework\",sep=\"_\")\n",
    "print(\"my\",\"dog\",\"ate\",\"my\",\"homework\",sep=\" \")\n",
    "print(\"my\",\"dog\",\"ate\",\"my\",\"homework\",sep=\"_\",end=\"\\n\\n\")\n",
    "print(\"my\",\"dog\",\"ate\",\"my\",\"homework\",sep=\",\")"
   ]
  },
  {
   "cell_type": "markdown",
   "metadata": {},
   "source": [
    "**Writing your own functions**\n",
    "\n",
    "Let's write a function that does something similar. It should \n",
    "\n",
    "- output a string obtained concatenating the positional values,\n",
    "- use a separating expression inserted between each string, and\n",
    "- end with a ending string.\n",
    "\n",
    "When we create our code we'll use a certain syntax in the **def** line to indicate that there is a variable number of positional arguments.\n",
    "\n",
    "Note the use of the *asterisk* that tells the intepreter to allow for any number of position arguments.\n",
    "\n",
    "We're going to run this code with arguments to see what the types of the variables in the functions are."
   ]
  },
  {
   "cell_type": "code",
   "execution_count": 22,
   "metadata": {
    "tags": []
   },
   "outputs": [],
   "source": [
    "def concat_strings(*v,sep=\",\",end=\"\"):\n",
    "    print(type(v)) #  The positional arguments get loaded into tuple called values\n",
    "    print(v)\n",
    "    print(len(v))\n",
    "    for i in range(len(v)):\n",
    "        print(v[i])\n",
    "    print(sep)\n",
    "    print(end)"
   ]
  },
  {
   "cell_type": "code",
   "execution_count": 23,
   "metadata": {
    "tags": []
   },
   "outputs": [
    {
     "name": "stdout",
     "output_type": "stream",
     "text": [
      "<class 'tuple'>\n",
      "('dog', 'cat', 'bird')\n",
      "3\n",
      "dog\n",
      "cat\n",
      "bird\n",
      "DAN\n",
      "Q\n"
     ]
    }
   ],
   "source": [
    "concat_strings(\"dog\",\"cat\",\"bird\",sep=\"DAN\",end=\"Q\")"
   ]
  },
  {
   "cell_type": "markdown",
   "metadata": {},
   "source": [
    "We see how optional positional arguments are implemented. The intepreter loads all of the positional arguments into a tuple whose name is the one we used (v) with the asterisk.\n",
    "\n",
    "**Implementing the function**\n",
    "\n",
    "Now we do something with those arguments and create an implementation of our function."
   ]
  },
  {
   "cell_type": "code",
   "execution_count": null,
   "metadata": {},
   "outputs": [],
   "source": [
    "def concat_strings(*values,sep=\",\",end=\"\"):\n",
    "    mystring=\"\"\n",
    "    for v in values[:-1]:\n",
    "        mystring+=v+sep\n",
    "    mystring+=values[-1]+end\n",
    "    return(mystring)  "
   ]
  },
  {
   "cell_type": "code",
   "execution_count": null,
   "metadata": {},
   "outputs": [],
   "source": [
    "print(concat_strings(\"my\",\"dog\",\"ate\",\"my\",\"homework\"))\n",
    "print(concat_strings(\"my\",\"dog\",\"ate\",\"my\",\"homework\",sep=\"_\"))\n",
    "print(concat_strings(\"my\",\"dog\",\"ate\",\"my\",\"homework\",sep=\" \"))\n",
    "print(concat_strings(\"my\",\"dog\",\"ate\",\"my\",\"homework\",sep=\"_\",end=\"++++\"))\n",
    "print(concat_strings(\"my\",\"dog\",\"ate\",\"my\",\"homework\",sep=\",\"))"
   ]
  },
  {
   "cell_type": "markdown",
   "metadata": {},
   "source": [
    "**Enforcing use of only named/keyword arguments**\n",
    "\n",
    "If we want to require that only arguments include their names we can put the asterisk * by itself followed by the named arguments."
   ]
  },
  {
   "cell_type": "code",
   "execution_count": 24,
   "metadata": {
    "tags": []
   },
   "outputs": [],
   "source": [
    "import cmath as c\n",
    "def quadratic_formula(*,A,B,C):\n",
    "    d=B*B-4*A*C\n",
    "    rtd=c.sqrt(d)\n",
    "    root1=(-B-rtd)/(2*A)\n",
    "    root2=(-B+rtd)/(2*A)\n",
    "    return((root1,root2))"
   ]
  },
  {
   "cell_type": "code",
   "execution_count": 25,
   "metadata": {
    "tags": []
   },
   "outputs": [
    {
     "ename": "TypeError",
     "evalue": "quadratic_formula() takes 0 positional arguments but 3 were given",
     "output_type": "error",
     "traceback": [
      "\u001b[1;31m---------------------------------------------------------------------------\u001b[0m",
      "\u001b[1;31mTypeError\u001b[0m                                 Traceback (most recent call last)",
      "Cell \u001b[1;32mIn[25], line 1\u001b[0m\n\u001b[1;32m----> 1\u001b[0m \u001b[38;5;28mprint\u001b[39m(quadratic_formula(\u001b[38;5;241m1\u001b[39m,\u001b[38;5;241m2\u001b[39m,\u001b[38;5;241m3\u001b[39m))\n",
      "\u001b[1;31mTypeError\u001b[0m: quadratic_formula() takes 0 positional arguments but 3 were given"
     ]
    }
   ],
   "source": [
    "print(quadratic_formula(1,2,3))"
   ]
  },
  {
   "cell_type": "code",
   "execution_count": 26,
   "metadata": {
    "tags": []
   },
   "outputs": [
    {
     "name": "stdout",
     "output_type": "stream",
     "text": [
      "((-1-1.4142135623730951j), (-1+1.4142135623730951j))\n"
     ]
    }
   ],
   "source": [
    "print(quadratic_formula(C=3,B=2,A=1))"
   ]
  },
  {
   "cell_type": "markdown",
   "metadata": {},
   "source": [
    "**Combining required positional arguments and optional arbitrary number of positional arguments**\n",
    "\n",
    "We can have required positional arguments followed by a variable with an asterisk meaning that any number of additional optional arguments are allowed.\n",
    "\n",
    "In the code below, we see how the *extra* argument causes arguments to the function to be interpreted - here the **extra** variable becomes a tuple."
   ]
  },
  {
   "cell_type": "code",
   "execution_count": 27,
   "metadata": {
    "tags": []
   },
   "outputs": [],
   "source": [
    "def h(p1,p2,*myextra):\n",
    "    print(\"first required positional argument is \" + str(p1))\n",
    "    print(\"second required positional argument is \" + str(p2))\n",
    "    if len(myextra)>0:\n",
    "        print(\"you supplied \"+str(len(myextra))+\" optional arguments\")\n",
    "        ctr=0\n",
    "        for e in myextra:\n",
    "            print(\"   optional argument \" + str(ctr) + \" is \" + str(e))\n",
    "            ctr+=1\n",
    "    else:\n",
    "        print(\"you did not supply any optional arguments\")\n",
    "    return   "
   ]
  },
  {
   "cell_type": "code",
   "execution_count": 28,
   "metadata": {
    "tags": []
   },
   "outputs": [
    {
     "name": "stdout",
     "output_type": "stream",
     "text": [
      "first required positional argument is 1\n",
      "second required positional argument is 2\n",
      "you supplied 5 optional arguments\n",
      "   optional argument 0 is 3\n",
      "   optional argument 1 is 4\n",
      "   optional argument 2 is 5\n",
      "   optional argument 3 is 7\n",
      "   optional argument 4 is 9\n"
     ]
    }
   ],
   "source": [
    "h(1,2,3,4,5,7,9)"
   ]
  },
  {
   "cell_type": "code",
   "execution_count": 29,
   "metadata": {
    "tags": []
   },
   "outputs": [
    {
     "name": "stdout",
     "output_type": "stream",
     "text": [
      "first required positional argument is 1\n",
      "second required positional argument is 2\n",
      "you did not supply any optional arguments\n"
     ]
    }
   ],
   "source": [
    "h(p2=2,p1=1)"
   ]
  },
  {
   "cell_type": "code",
   "execution_count": 30,
   "metadata": {
    "tags": []
   },
   "outputs": [
    {
     "name": "stdout",
     "output_type": "stream",
     "text": [
      "first required positional argument is 1\n",
      "second required positional argument is 2\n",
      "you did not supply any optional arguments\n"
     ]
    }
   ],
   "source": [
    "h(1,2)"
   ]
  },
  {
   "cell_type": "code",
   "execution_count": 31,
   "metadata": {
    "tags": []
   },
   "outputs": [
    {
     "name": "stdout",
     "output_type": "stream",
     "text": [
      "first required positional argument is 1\n",
      "second required positional argument is 2\n",
      "you did not supply any optional arguments\n"
     ]
    }
   ],
   "source": [
    "h(1,2)"
   ]
  },
  {
   "cell_type": "markdown",
   "metadata": {},
   "source": [
    "**Arbitrary Numbers of Named/Keyword Arguments**\n",
    "\n",
    "We can allow for a function with an arbitary number of keyword arguments using double asterisks. The variable name is then interpreted by the function as a dictionary with the keyword=value pairs as key/value pairs."
   ]
  },
  {
   "cell_type": "code",
   "execution_count": 32,
   "metadata": {
    "tags": []
   },
   "outputs": [],
   "source": [
    "def f(**x):\n",
    "    print(type(x))\n",
    "    print(len(x))\n",
    "    for k in x.keys():\n",
    "        print(\"key = \" + k + \"  value = \" + str(x[k]))"
   ]
  },
  {
   "cell_type": "code",
   "execution_count": 33,
   "metadata": {
    "tags": []
   },
   "outputs": [
    {
     "name": "stdout",
     "output_type": "stream",
     "text": [
      "<class 'dict'>\n",
      "3\n",
      "key = a  value = dog\n",
      "key = b  value = cat\n",
      "key = c  value = 74\n"
     ]
    }
   ],
   "source": [
    "f(a=\"dog\",b=\"cat\",c=74)"
   ]
  },
  {
   "cell_type": "code",
   "execution_count": 34,
   "metadata": {
    "tags": []
   },
   "outputs": [
    {
     "name": "stdout",
     "output_type": "stream",
     "text": [
      "<class 'dict'>\n",
      "0\n"
     ]
    }
   ],
   "source": [
    "f()"
   ]
  },
  {
   "cell_type": "code",
   "execution_count": 35,
   "metadata": {
    "tags": []
   },
   "outputs": [
    {
     "name": "stdout",
     "output_type": "stream",
     "text": [
      "<class 'dict'>\n",
      "1\n",
      "key = u  value = 2\n"
     ]
    }
   ],
   "source": [
    "f(u=2)"
   ]
  },
  {
   "cell_type": "code",
   "execution_count": 36,
   "metadata": {
    "tags": []
   },
   "outputs": [
    {
     "name": "stdout",
     "output_type": "stream",
     "text": [
      "<class 'dict'>\n",
      "1\n",
      "key = j  value = 7\n"
     ]
    }
   ],
   "source": [
    "f(j=7)"
   ]
  },
  {
   "cell_type": "markdown",
   "metadata": {},
   "source": [
    "**Combinations**\n",
    "\n",
    "Arbitrary numbers of positional values and named values can be obtained using the combination of these constructions."
   ]
  },
  {
   "cell_type": "code",
   "execution_count": 37,
   "metadata": {
    "tags": []
   },
   "outputs": [],
   "source": [
    "def g(*pargs,**kwargs):\n",
    "    # here pargs is a tuple kwargs is a dictionary\n",
    "    ctr=0\n",
    "    print(pargs)\n",
    "    for p in pargs:\n",
    "        print(\"positional argument \" + str(ctr) + \" = \" + str(p))\n",
    "        ctr+=1\n",
    "    ctr=0\n",
    "    print(kwargs)\n",
    "    for k in kwargs.keys():\n",
    "        print(\"keyword argument = \" + str(ctr)+ \" key = \" + k + \"  value = \" + str(kwargs[k]))\n",
    "        ctr+=1\n",
    "    "
   ]
  },
  {
   "cell_type": "code",
   "execution_count": 38,
   "metadata": {
    "tags": []
   },
   "outputs": [
    {
     "name": "stdout",
     "output_type": "stream",
     "text": [
      "(6, 7, 4)\n",
      "positional argument 0 = 6\n",
      "positional argument 1 = 7\n",
      "positional argument 2 = 4\n",
      "{'a': 56, 'b': 92, 'c': 'joe'}\n",
      "keyword argument = 0 key = a  value = 56\n",
      "keyword argument = 1 key = b  value = 92\n",
      "keyword argument = 2 key = c  value = joe\n"
     ]
    }
   ],
   "source": [
    "g(6,7,4,a=56,b=92,c=\"joe\")"
   ]
  },
  {
   "cell_type": "code",
   "execution_count": null,
   "metadata": {},
   "outputs": [],
   "source": [
    "g(1,2,3)\n",
    "g(a=25,b=7)"
   ]
  },
  {
   "cell_type": "code",
   "execution_count": null,
   "metadata": {},
   "outputs": [],
   "source": [
    "g(a=56,b=92,c=\"joe\")"
   ]
  },
  {
   "cell_type": "markdown",
   "metadata": {},
   "source": [
    "**Finally, we can also have required arguments**"
   ]
  },
  {
   "cell_type": "code",
   "execution_count": 40,
   "metadata": {
    "tags": []
   },
   "outputs": [],
   "source": [
    "def y(r1, r2=0, *pargs,**kwargs):\n",
    "    print(\"required argument r1 = \"+str(r1))\n",
    "    print(\"required argument r2 = \"+str(r2))\n",
    "    ctr=0\n",
    "    for p in pargs:\n",
    "        print(\"positional argument \" + str(ctr) + \" = \" + str(p))\n",
    "        ctr+=1\n",
    "    ctr=0\n",
    "    for k in kwargs.keys():\n",
    "        print(\"keyword argument = \" + str(ctr)+ \" key = \" + k + \"  value = \" + str(kwargs[k]))\n",
    "        ctr+=1"
   ]
  },
  {
   "cell_type": "code",
   "execution_count": 41,
   "metadata": {
    "tags": []
   },
   "outputs": [
    {
     "name": "stdout",
     "output_type": "stream",
     "text": [
      "required argument r1 = 3\n",
      "required argument r2 = 0\n",
      "keyword argument = 0 key = a  value = 8\n",
      "keyword argument = 1 key = b  value = 11\n"
     ]
    }
   ],
   "source": [
    "y(r1=3,a=8,b=11)"
   ]
  },
  {
   "cell_type": "code",
   "execution_count": null,
   "metadata": {},
   "outputs": [],
   "source": [
    "y(1,2,5,6,7,a=1,b=2,c=4)"
   ]
  },
  {
   "cell_type": "code",
   "execution_count": null,
   "metadata": {},
   "outputs": [],
   "source": [
    "y(1,2,3)"
   ]
  },
  {
   "cell_type": "code",
   "execution_count": null,
   "metadata": {},
   "outputs": [],
   "source": [
    "y(1,2,3,x=8)"
   ]
  },
  {
   "cell_type": "markdown",
   "metadata": {},
   "source": [
    "**Unpacking into function arguments**\n",
    "\n",
    "There may be times when we have a function that takes multiple positional arguments and we want to take the elements of a tuple or list  as those arguments. \n",
    "\n",
    "We can precede a list or tuple appearing as an argument to unpack a list or tuple of arguments into its argument list."
   ]
  },
  {
   "cell_type": "code",
   "execution_count": 42,
   "metadata": {
    "tags": []
   },
   "outputs": [],
   "source": [
    "import cmath as c\n",
    "def quadratic_formula(A,B,C):\n",
    "    print(A,B,C)\n",
    "    d=B*B-4*A*C\n",
    "    rtd=c.sqrt(d)\n",
    "    root1=(-B-rtd)/(2*A)\n",
    "    root2=(-B+rtd)/(2*A)\n",
    "    return((root1,root2))"
   ]
  },
  {
   "cell_type": "code",
   "execution_count": 43,
   "metadata": {
    "tags": []
   },
   "outputs": [],
   "source": [
    "def qformula_wrapper(L):\n",
    "    q=quadratic_formula(L[0],L[1],L[2])\n",
    "    return(q)"
   ]
  },
  {
   "cell_type": "code",
   "execution_count": 44,
   "metadata": {
    "tags": []
   },
   "outputs": [
    {
     "name": "stdout",
     "output_type": "stream",
     "text": [
      "1 2 3\n"
     ]
    },
    {
     "data": {
      "text/plain": [
       "((-1-1.4142135623730951j), (-1+1.4142135623730951j))"
      ]
     },
     "execution_count": 44,
     "metadata": {},
     "output_type": "execute_result"
    }
   ],
   "source": [
    "quadratic_formula(*[1,2,3]) "
   ]
  },
  {
   "cell_type": "code",
   "execution_count": 45,
   "metadata": {
    "tags": []
   },
   "outputs": [
    {
     "name": "stdout",
     "output_type": "stream",
     "text": [
      "1 2 3\n"
     ]
    },
    {
     "data": {
      "text/plain": [
       "((-1-1.4142135623730951j), (-1+1.4142135623730951j))"
      ]
     },
     "execution_count": 45,
     "metadata": {},
     "output_type": "execute_result"
    }
   ],
   "source": [
    "L=[1,2,3]\n",
    "quadratic_formula(*L)"
   ]
  },
  {
   "cell_type": "code",
   "execution_count": 46,
   "metadata": {
    "tags": []
   },
   "outputs": [
    {
     "name": "stdout",
     "output_type": "stream",
     "text": [
      "1 2 3\n"
     ]
    },
    {
     "data": {
      "text/plain": [
       "((-1-1.4142135623730951j), (-1+1.4142135623730951j))"
      ]
     },
     "execution_count": 46,
     "metadata": {},
     "output_type": "execute_result"
    }
   ],
   "source": [
    "quadratic_formula(*(1,2,3))"
   ]
  },
  {
   "cell_type": "markdown",
   "metadata": {},
   "source": [
    "**Correct terminology**\n",
    "\n",
    "I tend to be sloppy about this but Python programmers make a distinction between the terms in \n",
    "\n",
    "> def f( ... )\n",
    "\n",
    "and the terms that appear when the function is invoked\n",
    "\n",
    "> y = f( ...)\n",
    "\n",
    "In the first case, the ... entries are referred to as parameters.\n",
    "\n",
    "In the second case, the ... entries are referred to as arguments."
   ]
  },
  {
   "cell_type": "code",
   "execution_count": null,
   "metadata": {},
   "outputs": [],
   "source": []
  }
 ],
 "metadata": {
  "kernelspec": {
   "display_name": "Python 3 (ipykernel)",
   "language": "python",
   "name": "python3"
  },
  "language_info": {
   "codemirror_mode": {
    "name": "ipython",
    "version": 3
   },
   "file_extension": ".py",
   "mimetype": "text/x-python",
   "name": "python",
   "nbconvert_exporter": "python",
   "pygments_lexer": "ipython3",
   "version": "3.11.4"
  }
 },
 "nbformat": 4,
 "nbformat_minor": 4
}
