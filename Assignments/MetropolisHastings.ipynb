{
 "cells": [
  {
   "cell_type": "markdown",
   "id": "990da998-fca8-4674-924b-5f2758bc0610",
   "metadata": {},
   "source": [
    "**Usual rules apply**"
   ]
  },
  {
   "cell_type": "code",
   "execution_count": 24,
   "id": "52a277c1-6b36-4240-b7ec-764146dd3c62",
   "metadata": {
    "tags": []
   },
   "outputs": [],
   "source": [
    "# Do not modify or delete this cell\n",
    "# Do execute it\n",
    "import numpy as np\n",
    "import matplotlib.pyplot as plt"
   ]
  },
  {
   "cell_type": "markdown",
   "id": "4d35f0d7-7412-43d4-a8db-671bb4f24302",
   "metadata": {},
   "source": [
    "**The Metropolis-Hastings (MH) Algorithm**\n",
    "\n",
    "The MH algorithm is an important tool for sampling a discrete distribution. To motivate its use, we'll use the generation of self-avoiding random paths as an example."
   ]
  },
  {
   "cell_type": "markdown",
   "id": "17f4bbeb-355a-406e-8c84-9115e5af030a",
   "metadata": {},
   "source": [
    "**Self-Avoiding Random Paths** \n",
    "\n",
    "Define paths of length $N$ in $\\mathbb{R}^2$ starting at the origin to be of the form\n",
    "\n",
    "$$\n",
    "p = (p^{(0)},p^{(1)},\\ldots,p^{(N)}),\n",
    "$$\n",
    "where \n",
    "$$\n",
    "p^{(0)}= (0,0),\n",
    "$$\n",
    "$$\n",
    "p^{(1)}=\\delta^{(0)}\n",
    "$$\n",
    "$$\n",
    "p^{(2)} = \\delta^{(0)}+\\delta^{(1)}\n",
    "$$\n",
    "$$\n",
    "p^{(3)} = \\delta^{(0)}+\\delta^{(1)}+\\delta^{(2)} \n",
    "$$\n",
    "$$\n",
    "\\vdots\n",
    "$$\n",
    "$$\n",
    "p^{(N)} = \\delta^{(0)}+\\cdots+\\delta^{(N-1)})\n",
    "$$\n",
    "\n",
    "and where each $\\delta^{(i)}$ is of the form $(-1,0),(1,0),(0,-1)$ or $(0,1).$"
   ]
  },
  {
   "cell_type": "markdown",
   "id": "3decb70d-150a-45ff-b507-acb74e3abe13",
   "metadata": {},
   "source": [
    "**Example:**\n",
    "\n",
    "If $N=25$ and the sequence $\\delta^{(i)},i=1,\\ldots,25$ to be as in the following cell."
   ]
  },
  {
   "cell_type": "code",
   "execution_count": 25,
   "id": "2d03751d-7631-46aa-ac50-60eb00138647",
   "metadata": {
    "tags": []
   },
   "outputs": [],
   "source": [
    "delta=[(1, 0),\n",
    " (0, 1),\n",
    " (1, 0),\n",
    " (0, 1),\n",
    " (1, 0),\n",
    " (0, -1),\n",
    " (1, 0),\n",
    " (1, 0),\n",
    " (1, 0),\n",
    " (1, 0),\n",
    " (0, 1),\n",
    " (1, 0),\n",
    " (0, 1),\n",
    " (0, 1),\n",
    " (1, 0),\n",
    " (0, -1),\n",
    " (0, -1),\n",
    " (1, 0),\n",
    " (1, 0),\n",
    " (0, 1),\n",
    " (-1, 0),\n",
    " (0, 1),\n",
    " (0, 1),\n",
    " (1, 0),\n",
    " (1, 0)]"
   ]
  },
  {
   "cell_type": "markdown",
   "id": "9b7e06e6-be65-446f-87e2-1821e6af592e",
   "metadata": {},
   "source": [
    "Here we compute the path from the list of $\\delta_i$."
   ]
  },
  {
   "cell_type": "code",
   "execution_count": 26,
   "id": "25dec441-2712-47a9-9af5-026b1b0a8d5e",
   "metadata": {
    "tags": []
   },
   "outputs": [
    {
     "name": "stdout",
     "output_type": "stream",
     "text": [
      "[ 0  1  1  2  2  3  3  4  5  6  7  7  8  8  8  9  9  9 10 11 11 10 10 10\n",
      " 11 12]\n",
      "[0 0 1 1 2 2 1 1 1 1 1 2 2 3 4 4 3 2 2 2 3 3 4 5 5 5]\n"
     ]
    }
   ],
   "source": [
    "dx=[x[0] for x in delta]\n",
    "dy=[x[1] for x in delta]\n",
    "px=np.cumsum(dx)\n",
    "py=np.cumsum(dy)\n",
    "px=np.insert(px,0,0)\n",
    "py=np.insert(py,0,0)\n",
    "print(px)\n",
    "print(py)"
   ]
  },
  {
   "cell_type": "markdown",
   "id": "40469c3c-2f42-4574-a6c7-10e4cdfd17e6",
   "metadata": {
    "tags": []
   },
   "source": [
    "And plot the path in the following:"
   ]
  },
  {
   "cell_type": "code",
   "execution_count": 27,
   "id": "1d93ea5a-a67d-40d4-8e3e-c9935762ae4f",
   "metadata": {
    "tags": []
   },
   "outputs": [
    {
     "data": {
      "image/png": "[encoded data removed]",
      "text/plain": [
       "<Figure size 640x480 with 1 Axes>"
      ]
     },
     "metadata": {},
     "output_type": "display_data"
    }
   ],
   "source": [
    "plt.plot(px, py, marker='o', linestyle='-', color='b')\n",
    "plt.xlabel('X-axis')\n",
    "plt.ylabel('Y-axis')\n",
    "plt.title('Self-Avoiding Path')\n",
    "plt.axis('equal')\n",
    "plt.show()"
   ]
  },
  {
   "cell_type": "markdown",
   "id": "d3982ee0-2f9f-47c1-916a-b0e1811fe2d7",
   "metadata": {},
   "source": [
    "**Distribution for Self-Avoiding Path of Length N**\n",
    "\n",
    "Now we can consider *random* self-avoiding paths. How can we specify the distribution of such an object? One possibility is to  require that all possible choices of paths of length $N$ are equally likely.\n",
    "\n",
    "**Acceptance-Rejection Revisited**\n",
    "\n",
    "Not all of the possible $4^N$ choices lead to self-avoiding paths, but each of those choices defines a path and we can sample uniformly from all $4^N$ paths of them until we get one that is a **self-avoiding path.** \n",
    "\n",
    "To sample uniformly from the set of all $4^N$ paths, we can choose the $\\delta^{(i)}$ independently with each $\\delta^{(i)}$ taking one of the four possible values (-1,0), (1,0), (0,-1), and (0,1) equally likely.\n",
    "\n",
    "> Repeat\n",
    "\n",
    "> > Sample uniformly from all choices of $\\delta^{(i)},i=1,\\ldots,N$\n",
    "\n",
    "> > Compute path x and y coordinates\n",
    "\n",
    "> Until \n",
    "\n",
    "> > Self-avoidance condition holds for path\n",
    "\n",
    "> Return path\n",
    "\n",
    "Let's explore the efficiency of this method. First we need a helper function."
   ]
  },
  {
   "cell_type": "markdown",
   "id": "ec5df4aa-9333-4544-81a5-f2e29a3a3691",
   "metadata": {},
   "source": [
    "**Problem 1 (30 points)** \n",
    "\n",
    "Write a function called **CheckSelfAvoiding** that takes as input\n",
    "\n",
    "- a 2d array **D** of **ints** with 2 columns and N rows (N is unspecified) where each row is of one of four possible values  [-1,0], [1,0], [0,-1] and [0,1], i.e. the rows define a sequence of N $\\delta$ values for a path starting at [0,0]. (**I am going to refer to such a matrix as a $\\delta$-array.**)\n",
    "\n",
    "and which calculates returns as output \n",
    "\n",
    "- a Boolean **SelfAvoiding** which takes the value True if the path is self-avoiding and False otherwise.\n",
    "\n",
    "Try to make your function run as efficiently as possible.\n",
    "\n",
    "Use the following code cell for your function.\n",
    "\n",
    "**Note: This function is important for everything that follows, so make sure you get it right.**"
   ]
  },
  {
   "cell_type": "code",
   "execution_count": 145,
   "id": "1363e7f6-8963-4bf0-9a15-5fe5b43dc173",
   "metadata": {
    "tags": []
   },
   "outputs": [],
   "source": [
    "# Code cell for Problem 1 - do not modify or delete this line\n",
    "def CheckSelfAvoiding(D):\n",
    "    pos={-1:(0,0)}\n",
    "    px=0\n",
    "    py=0\n",
    "    for i in range(len(D)):\n",
    "        px+=D[i][0]\n",
    "        py+=D[i][1]\n",
    "        if (px,py) in pos.values():\n",
    "            return False\n",
    "        else:\n",
    "            pos[i]=(px,py)\n",
    "    return True"
   ]
  },
  {
   "cell_type": "code",
   "execution_count": 146,
   "id": "c6aa9817-65d2-4a8b-827f-142396165a53",
   "metadata": {
    "tags": []
   },
   "outputs": [
    {
     "name": "stdout",
     "output_type": "stream",
     "text": [
      "False\n"
     ]
    }
   ],
   "source": [
    "# Test cell 1 for Problem 1 - do not delete or modify this cell\n",
    "# Do excecute it\n",
    "np.random.seed(673) \n",
    "R=np.array([[-1,0],[1,0],[0,-1],[0,1]])\n",
    "I=np.random.choice(range(4),size=25)\n",
    "D=R[I]\n",
    "res=CheckSelfAvoiding(D)\n",
    "print(res)"
   ]
  },
  {
   "cell_type": "code",
   "execution_count": 147,
   "id": "ced949ac-7599-4775-8377-3af019fc6a90",
   "metadata": {
    "tags": []
   },
   "outputs": [
    {
     "name": "stdout",
     "output_type": "stream",
     "text": [
      "True\n"
     ]
    }
   ],
   "source": [
    "# Test cell 1 for Problem 1 - do not delete or modify this cell\n",
    "# Do excecute it\n",
    "np.random.seed(5812)\n",
    "R=np.array([[-1,0],[1,0],[0,-1],[0,1]])\n",
    "I=np.random.choice(range(4),size=25)\n",
    "D=R[I]\n",
    "res=CheckSelfAvoiding(D)\n",
    "print(res)    "
   ]
  },
  {
   "cell_type": "code",
   "execution_count": 35,
   "id": "63b11900-135c-4e11-83c9-9bc134a9e5fb",
   "metadata": {
    "tags": []
   },
   "outputs": [
    {
     "name": "stdout",
     "output_type": "stream",
     "text": [
      "[3099, 8214, 9953, 22683, 22948, 23750, 25200, 26367, 42485, 50632, 54371, 85102, 86138, 88534, 88629, 91193, 91510, 99716]\n"
     ]
    }
   ],
   "source": [
    "# Test cell 2 for Problem 1 - do not delete or modify this cell\n",
    "# Do excecute it\n",
    "np.random.seed(1141341)\n",
    "IndicesOfSelfAvoiding=[]\n",
    "for j in range(100000):\n",
    "    R=np.array([[-1,0],[1,0],[0,-1],[0,1]])\n",
    "    I=np.random.choice(range(4),size=25)\n",
    "    D=R[I]\n",
    "    res=CheckSelfAvoiding(D)\n",
    "    if res:\n",
    "        IndicesOfSelfAvoiding.append(j)\n",
    "print(IndicesOfSelfAvoiding)"
   ]
  },
  {
   "cell_type": "markdown",
   "id": "89616517-3fe3-4d0d-8abe-b415d1fcb29f",
   "metadata": {},
   "source": [
    "**Function to plot the path associated with a given $\\delta$-array**\n",
    "\n",
    "In the following cell, a function is defined that will be used below.\n",
    "Do not modify this function."
   ]
  },
  {
   "cell_type": "code",
   "execution_count": 36,
   "id": "3340ed84-3d98-4a47-8fa8-e4c343b945d0",
   "metadata": {
    "tags": []
   },
   "outputs": [],
   "source": [
    "# Function cell for Problem 1 - do not delete or modify this cell\n",
    "# Do execute it.\n",
    "def PlotSAP(D):\n",
    "    dx=D[:,0]\n",
    "    dy=D[:,1]\n",
    "    px=np.cumsum(dx)\n",
    "    py=np.cumsum(dy)\n",
    "    px=np.insert(px,0,0)\n",
    "    py=np.insert(py,0,0)\n",
    "    plt.plot(px, py, marker='o', linestyle='-', color='b')\n",
    "    plt.xlabel('X-axis')\n",
    "    plt.ylabel('Y-axis')\n",
    "    plt.title('Self-Avoiding Path')\n",
    "    plt.axis('equal')\n",
    "    plt.show()"
   ]
  },
  {
   "cell_type": "code",
   "execution_count": 37,
   "id": "cba52522-375b-442f-a8a9-df3d536897e0",
   "metadata": {
    "tags": []
   },
   "outputs": [
    {
     "name": "stdout",
     "output_type": "stream",
     "text": [
      "Number of trials to produce self-avoiding path = 58654\n"
     ]
    },
    {
     "data": {
      "image/png": "[encoded data removed]",
      "text/plain": [
       "<Figure size 640x480 with 1 Axes>"
      ]
     },
     "metadata": {},
     "output_type": "display_data"
    }
   ],
   "source": [
    "# Test cell 3 for Problem 1 - do not delete or modify this cell\n",
    "# Do execute it\n",
    "np.random.seed(77811411)\n",
    "IndicesOfSelfAvoiding=[]\n",
    "ctr=0\n",
    "while True:\n",
    "    R=np.array([[-1,0],[1,0],[0,-1],[0,1]])\n",
    "    I=np.random.choice(range(4),size=30)\n",
    "    D=R[I]\n",
    "    res=CheckSelfAvoiding(D)\n",
    "    if res:\n",
    "        break\n",
    "    ctr+=1\n",
    "print(\"Number of trials to produce self-avoiding path = \"+str(ctr))\n",
    "PlotSAP(D)"
   ]
  },
  {
   "cell_type": "markdown",
   "id": "e8c39785-bc3f-44a4-9805-16551226c046",
   "metadata": {},
   "source": [
    "**Problem 2 (10 points)**\n",
    "\n",
    "Let $R$ denote the Euclidean distance from the origin of the endpoint of a random self-avoiding path of length 10. Here, if the path has coordinates $(px[i],py[i]),~i=0,\\ldots,10$ then\n",
    "$$\n",
    "R = \\sqrt{px[10]^2+py[10]^2}\n",
    "$$\n",
    "Use Monte-Carlo simulation and the acceptance-rejection method just utilized to estimate $\\mu = E[R]$ the expected value of $R$ based on a sample of 1,000 randomly generated self-avoiding paths and get an approximate 95% confidence interval for $\\mu.$\n",
    "\n",
    "In your code cell, assign to\n",
    "\n",
    "- **muhat** your estimate of $\\mu$ rounded to 2 decimal places\n",
    "- **sigmahat** your estimate of the standard deviation of $R$ rounded to 2 decimal places\n",
    "- **muL** and **muU** lower and upper 95% confidence bounds, rounded to 2 decimal places"
   ]
  },
  {
   "cell_type": "code",
   "execution_count": 38,
   "id": "79976ff2-53b3-469f-9a4c-0c40e877b865",
   "metadata": {
    "tags": []
   },
   "outputs": [],
   "source": [
    "# Code cell for Problem 2 - do not modify or delete this line\n",
    "N=1000\n",
    "R=np.array([[-1,0],[1,0],[0,-1],[0,1]])\n",
    "Euc_dist=[]\n",
    "for i in range(N):\n",
    "    while True:\n",
    "        I=np.random.choice(range(4),size=10)\n",
    "        D=R[I]\n",
    "        res=CheckSelfAvoiding(D)\n",
    "        if res:\n",
    "            dx=D[:,0]\n",
    "            dy=D[:,1]\n",
    "            px=dx.sum()\n",
    "            py=dy.sum()\n",
    "            Euc_dist.append(np.sqrt(px**2+py**2))\n",
    "            break\n",
    "muhat=round(np.mean(Euc_dist),2)\n",
    "sigmahat=round(np.std(Euc_dist),2)\n",
    "muL=round(muhat-1.96*sigmahat/np.sqrt(N),2)\n",
    "muU=round(muhat+1.96*sigmahat/np.sqrt(N),2)"
   ]
  },
  {
   "cell_type": "code",
   "execution_count": 39,
   "id": "2f9ace4e-1786-4bbb-b8e1-cc245f79b865",
   "metadata": {
    "tags": []
   },
   "outputs": [
    {
     "name": "stdout",
     "output_type": "stream",
     "text": [
      "4.54\n",
      "1.64\n",
      "4.44\n",
      "4.64\n"
     ]
    }
   ],
   "source": [
    "# Print cell for Problem 2 - do not modify or delete this cell\n",
    "# Do execute it\n",
    "print(muhat)\n",
    "print(sigmahat)\n",
    "print(muL)\n",
    "print(muU)"
   ]
  },
  {
   "cell_type": "markdown",
   "id": "f5273de3-f536-4b6e-8bef-10fc6884018f",
   "metadata": {
    "tags": []
   },
   "source": [
    "Lots of trials are needed to generate a self-avoiding path using the acceptance-rejection method. We need another method.\n",
    "\n",
    "**The Metropolis-Hastings (MH) Algorithm**\n",
    "\n",
    "The idea of the MH algorithm is to create a Markov chain whose stationary distribution is the one we want to sample, and then in order to sample the disribution we run the chain for several steps starting from some particular state.\n",
    "\n",
    "To explain how this works, let the possible values of our states be denote by $S$ and assume this state space has $K$ elements. Also, assume $\\pi$ is a row vector giving a probability distribution on this state spaces so $\\pi$ is of length $K.$\n",
    "\n",
    "The goal is the define a Markov chain whose stationary distribution is $\\pi.$\n",
    "\n",
    "Suppose we can define a transition matrix $Q = ( q_{ij})$ for a Markov chain moving around in $S,$ with the property that\n",
    "\n",
    "$$\n",
    "\\pi_i q_{ij} = \\pi_j q_{ji}\n",
    "$$\n",
    "\n",
    "for all possible pairs of states $i,j \\in S.$ \n",
    "\n",
    "**Intepretation**\n",
    "\n",
    "Assuming we are in position $i$ at time $t$ with probability $\\pi_i$ the left-hand side of this expression gives \n",
    "\n",
    "$$\n",
    "P[X_t = i] P[X_{t+1}=j \\vert X_t = i] = P[X_{t+1}=j]\n",
    "$$\n",
    "\n",
    "the probability of being in state $j$ at time $t+1.$ On the other hand, the right-hand side gives the probability of being in state $i$ at time $t+1$ assuming the chain starts in state $j$ with probability $\\pi_j.$\n",
    "\n",
    "The condition\n",
    "\n",
    "$$\n",
    "\\pi_i q_{ij} = \\pi_j q_{ji}\n",
    "$$\n",
    "\n",
    "for all states $i$ and $j$ is referred to as the **detailed balance condition (DBC).**\n",
    "\n",
    "**Consequences of the DBC**\n",
    "\n",
    "Assuming the DBC holds, we can sum both sides of the equation over all possible states $i\\in S$ \n",
    "\n",
    "$$\n",
    "\\sum_i \\pi_i q_{ij} = \\sum_i \\pi_j q_{ji} = \\pi_j \\sum_i q_{ji} = \\pi_j\n",
    "$$\n",
    "\n",
    "since $Q$ is a transition matrix (row sums are 1).\n",
    "\n",
    "In other words, if the DBC holds then\n",
    "\n",
    "$$\n",
    "\\pi Q = \\pi.\n",
    "$$\n",
    "\n",
    "i.e. $\\pi$ is the stationary distribution of the Markov chain with transition matrix $Q.$\n",
    "\n",
    "So given $\\pi$ if we can find a $Q$ for which the DBC holds, then this gives us a Markov chain we can run for a long time to generate a sample from $\\pi.$"
   ]
  },
  {
   "cell_type": "markdown",
   "id": "160da7e0-92fd-4a81-b29f-8ebf83b7571f",
   "metadata": {},
   "source": [
    "**Creating a transition matrix Q satisfying the DBC**\n",
    "\n",
    "To create a desired transition matrix, we proceed as follows. \n",
    "\n",
    "They key idea is to think of the states in a graph where each state is only connected to a relatively small collection of other states, then our Markov chain walks around in that graph, always moving from state to neighboring state.\n",
    "\n",
    "(It helps to recall the problem of generating a random permutation by making one transposition at a time. If our permutation is of 0,1,...,N-1 then a given permutation only has ${N \\choose 2}$ neighbors.)\n",
    "\n",
    "For each given state $i$ we determine the set of states $j$ (not including state $i$ itself) that we can get to starting from $i$ in a single step. These are the so-called **neighbors** of state $i.$ Let ${\\cal N}_i$ denote the states that can be reached in one step starting from state $i$ and let $N_i = \\vert {\\cal N}_i \\vert$ denote the number of such states.\n",
    "\n",
    "Assuming we are in state $i$ at some time $t,$ we pick a random state $j$ of ${\\cal N}_i$ with all being equally likely, **we refer to this as nomination of a state to jump to** and then conditionally given that $j$ is selected, we move to that state with probability\n",
    "\n",
    "$$\n",
    "\\min \\left\\{ 1, \\frac{\\pi_j N_i}{\\pi_i N_j} \\right\\} \n",
    "$$\n",
    "\n",
    "(and otherwise we remain in state $i$).\n",
    "So assuming we are currently in state $i$ the probability we move from state $i$ to state $j$ becomes\n",
    "\n",
    "$$\n",
    "q_{ij} = \\frac{1}{N_i} \\min \\left\\{ 1, \\frac{\\pi_j N_i}{\\pi_i N_j} \\right\\}.\n",
    "$$\n",
    "\n",
    "for all $j \\in {\\cal N}_i.$\n",
    "\n",
    "And we check the detailed balance condition\n",
    "\n",
    "$$\n",
    "\\pi_i q_{ij} = \\frac{\\pi_i}{N_i} \\min \\left\\{ 1, \\frac{\\pi_j N_i}{\\pi_i N_j} \\right\\} = \\min \\left\\{ \\frac{\\pi_i}{N_i} ,\\frac{\\pi_j}{N_j} \\right\\}\n",
    "$$\n",
    "\n",
    "which is symmetric in $i$ and $j,$ and we see that this is the same as\n",
    "\n",
    "$$\n",
    "\\pi_j q_{ji}.\n",
    "$$\n",
    "\n",
    "We conclude that this defines a transition matrix $Q$ for a Markov chain with stationary distribution $\\pi.$\n",
    "\n",
    "**Note:** The probability of remaining in state $i$ is not specified directly here, but it could be determined since we know the probability of moving to every possible neighboring state.\n"
   ]
  },
  {
   "cell_type": "markdown",
   "id": "884a4ebe-c530-408c-8ae2-bdfa2a17ec99",
   "metadata": {},
   "source": [
    "**Note (needed for Problem 8)**\n",
    "\n",
    "This is not the only $Q$ that works!!! We could also **nominate** $j \\in {\\cal N}_i$ with probability proportional to $\\pi_j,$ i.e. with probability equal to\n",
    "\n",
    "$$\n",
    "\\frac{\\pi_j}{\\sum_{u \\in {\\cal N}_i}\\pi_u}\n",
    "$$\n",
    "\n",
    "and then move to $j$ with probability\n",
    "\n",
    "$$\n",
    "\\min \\left\\{ 1, \\frac{\\pi_i}{\\pi_j} \n",
    "\\frac{\\sum_{u \\in {\\cal N}_i}\\pi_u}{\\sum_{v \\in {\\cal N}_j}\\pi_v}\\right\\}\n",
    "$$\n",
    "\n",
    "and remain in state $i$ otherwise."
   ]
  },
  {
   "cell_type": "markdown",
   "id": "44e82983-44f6-465f-857f-2a08df2cde19",
   "metadata": {},
   "source": [
    "**Transition Matrix Can be Specified Without Normalization of the Probability Weights**\n",
    "\n",
    "Importantly, in order to run either of the versions of the MH algorithms just described, we only need to know the ratio of probabilities $\\pi_i/\\pi_j$ for states $i$ and $j.$\n",
    "\n",
    "This means we can specify a stationary distribution by giving a weight to each state, but we don't have to normalize the weights by dividing by their sum since that normalizing constant will cancel in the ratio $\\pi_i/\\pi_j.$ \n",
    "\n",
    "This is importnane because normalization would require possibly having to enumerate **all** states, a potentially unwieldy task. "
   ]
  },
  {
   "cell_type": "markdown",
   "id": "f927a88a-81df-49da-bb40-778a35d725fd",
   "metadata": {
    "tags": []
   },
   "source": [
    "**Self-Avoiding Paths of length N**\n",
    "\n",
    "Now we focus on the situation in which our state space consists of all self-avoiding paths of length $N.$ \n",
    "Since each path is defined in terms of a sequence \n",
    "$\\delta=(\\delta^{(0)},\\ldots,\\delta^{(N-1)})$ we will now denote the state (self-avoiding path) associated with $\\delta$ by $p_\\delta.$ \n",
    "\n",
    "Assume that we have a computable probability distribution on the self-avoiding paths, i.e. we can calculate a quantity $\\pi_{p_\\delta}$ for given $\\delta$ (**as pointed out above, these do not need to sum to 1 - all that is needed is relative probability weights)**).\n",
    "\n",
    "Given a self-avoiding path $p_\\delta$ we need to defined a set of possible self-avoiding paths ${\\cal N}_{p_\\delta}$ we can move to from this one. We will call these the **neighboring self-avoiding paths** of $p_\\delta.$\n",
    "\n",
    "A natural thing to try is to consider all paths $p_{\\delta'}$ based on $\\delta'$ that where $\\delta'$ \n",
    "\n",
    "- differs from $\\delta$ in exactly one of the $N$ possible positions, and\n",
    "- where $p_{\\delta'}$ defines a self-avoiding path.\n",
    "\n",
    "So for the Markov chain obtained from the MH algorithm we move to our next state (or stay where we are) by the following steps:\n",
    "\n",
    "**Step 1.** Make a list ${\\cal N}_{p_\\delta}$ of all $\\delta'$ that differ from $\\delta$ in exactly one position (there are $3N$ possibilities) and that define a self-avoiding path.\n",
    "\n",
    "**Step 2.** Determine $N_{p_\\delta} = \\vert {\\cal N}_{p_\\delta}\\vert$ the number of paths that can be moved to starting from $p_{\\delta}.$\n",
    "\n",
    "**Step 3.** Pick a random element $\\delta' \\in {\\cal N}_{p_\\delta}$ with all equally likely.\n",
    "\n",
    "\n",
    "**Step 4.** Determine $\\pi_{p_{\\delta}}$ and $\\pi_{p_{\\delta'}}$ and $N_{p_{\\delta'}}.$ \n",
    "\n",
    "**Step 5.** Calculate the conditional probability of moving to $p_{\\delta'}$ \n",
    "$$\n",
    "\\min \\left\\{ 1, \n",
    "\\frac{\\pi_{p_{\\delta'}}N_{p_\\delta}}\n",
    "{\\pi_{p_{\\delta}}N_{p_{\\delta'}}}\n",
    "\\right\\}\n",
    "$$\n",
    "given that we selected this new path $p_{\\delta'}$ and move to $p_{\\delta'}$ with this conditional probability.\n"
   ]
  },
  {
   "cell_type": "markdown",
   "id": "c72e1ba0-646e-432c-9c5c-ad370fef7a22",
   "metadata": {},
   "source": [
    "**Problem 3 (30 points)**\n",
    "\n",
    "We need a function for Step 1. Write a function called **DSubs** that takes as input \n",
    "\n",
    "- **D** a $\\delta$ -array (see Problem 1 for the definition) that produces a self-avoiding path \n",
    "\n",
    "and which produces as output\n",
    "\n",
    "- a list of all of the $\\delta$ arrays that \n",
    "\n",
    "    - can be obtained from **D** by modifying exactly one of its rows\n",
    "    - and defines a self-avoiding path\n",
    "\n",
    "Your function can call your previous CheckSelfAvoiding function from Problem 1 but otherwise it should be self-contained. Any functions other than CheckSelfAvoiding or variables needed should be defined in the body of your function.\n",
    "\n",
    "Use the following cell for your code.\n",
    "\n",
    "**Warning: This function is important for all that follows so make sure you get it right.**"
   ]
  },
  {
   "cell_type": "code",
   "execution_count": 60,
   "id": "fe7b696e-049a-4e03-bfe8-c0c2b179a827",
   "metadata": {
    "tags": []
   },
   "outputs": [],
   "source": [
    "# Code cell for Problem 3 - do not delete or modifiy this line\n",
    "def DSubs(D):\n",
    "    ListOfNeighbors=[]\n",
    "    N=len(D)\n",
    "    Dsave=np.copy(D)\n",
    "    R=np.array([[-1,0],[1,0],[0,-1],[0,1]])\n",
    "    for i in range(N):\n",
    "        px=Dsave[i][0]\n",
    "        py=Dsave[i][1]\n",
    "        for j in range(4):\n",
    "            if px == R[j][0] and py==R[j][1]:\n",
    "                continue\n",
    "            else:\n",
    "                Dchange=np.copy(Dsave)\n",
    "                Dchange[i][0]=R[j][0]\n",
    "                Dchange[i][1]=R[j][1]\n",
    "                if CheckSelfAvoiding(Dchange):\n",
    "                    ListOfNeighbors.append(Dchange)\n",
    "    return ListOfNeighbors"
   ]
  },
  {
   "cell_type": "code",
   "execution_count": 150,
   "id": "030752ef-e672-4062-85e1-b75a671b931b",
   "metadata": {
    "tags": []
   },
   "outputs": [
    {
     "name": "stdout",
     "output_type": "stream",
     "text": [
      "Number of trials to produce self-avoiding path = 58654\n"
     ]
    },
    {
     "data": {
      "image/png": "[encoded data removed]",
      "text/plain": [
       "<Figure size 640x480 with 1 Axes>"
      ]
     },
     "metadata": {},
     "output_type": "display_data"
    }
   ],
   "source": [
    "# Test cell 3 for Problem 1 - do not delete or modify this cell\n",
    "# Do excecute it\n",
    "np.random.seed(77811411)\n",
    "IndicesOfSelfAvoiding=[]\n",
    "ctr=0\n",
    "while True:\n",
    "    R=np.array([[-1,0],[1,0],[0,-1],[0,1]])\n",
    "    I=np.random.choice(range(4),size=30)\n",
    "    D=R[I]\n",
    "    res=CheckSelfAvoiding(D)\n",
    "    if res:\n",
    "        break\n",
    "    ctr+=1\n",
    "print(\"Number of trials to produce self-avoiding path = \"+str(ctr))\n",
    "PlotSAP(D)"
   ]
  },
  {
   "cell_type": "markdown",
   "id": "a5306895-4f2e-43c3-aca8-ebca7dfdb61a",
   "metadata": {},
   "source": [
    "**In the following cells we plot some neighbors of the SAP we generate above**"
   ]
  },
  {
   "cell_type": "code",
   "execution_count": 151,
   "id": "046a5349-ef5c-41aa-9f24-9e4852c21270",
   "metadata": {
    "tags": []
   },
   "outputs": [
    {
     "name": "stdout",
     "output_type": "stream",
     "text": [
      "39\n"
     ]
    }
   ],
   "source": [
    "ListOfNeighbors=DSubs(D)\n",
    "print(len(ListOfNeighbors))"
   ]
  },
  {
   "cell_type": "code",
   "execution_count": 152,
   "id": "8fb38849-8c7e-4165-845f-52b9da820476",
   "metadata": {
    "tags": []
   },
   "outputs": [
    {
     "data": {
      "image/png": "[encoded data removed]",
      "text/plain": [
       "<Figure size 640x480 with 1 Axes>"
      ]
     },
     "metadata": {},
     "output_type": "display_data"
    }
   ],
   "source": [
    "PlotSAP(ListOfNeighbors[6])\n"
   ]
  },
  {
   "cell_type": "code",
   "execution_count": 64,
   "id": "18233bcb-6680-4085-916a-a384ec6b497b",
   "metadata": {
    "tags": []
   },
   "outputs": [
    {
     "data": {
      "image/png": "[encoded data removed]",
      "text/plain": [
       "<Figure size 640x480 with 1 Axes>"
      ]
     },
     "metadata": {},
     "output_type": "display_data"
    }
   ],
   "source": [
    "PlotSAP(ListOfNeighbors[11])"
   ]
  },
  {
   "cell_type": "markdown",
   "id": "62d8482c-8531-4693-8f5f-d21a5ae19d3c",
   "metadata": {},
   "source": [
    "**Problem 4 (10 points)**\n",
    "\n",
    "Write a function called **RandomSAP** that takes the following arguments:\n",
    "\n",
    "- **N** the length of self-avoiding path to generate.\n",
    "- **NSteps** number of times we call DSubs function to generate all possible neighboring states and pick a random one to possibly move to.\n",
    "\n",
    "The function should take the chain's initial state to be the **straight** SAP with the $\\delta$-array consisting of all $N$ rows equal to [1,0], and apply **NSteps** of the Metropolis-Hastings algorithm described above for the case when the desired stationary distribution is the **uniform distribution** on all SAP's of length N, and should return as output:\n",
    "\n",
    "- **D** the delta array of the final self-avoiding path.\n",
    "\n",
    "Use the following code cell for your code. Your function is allowed to call the DSubs function you defined in Problem 3 but should otherwise be fully self-contained.\n",
    "\n",
    "Try to make your code as efficient as possible. In particular, it is possible to write the code so that you when you move to a new state, you can re-use the already calculated list of neighboring states of that state."
   ]
  },
  {
   "cell_type": "code",
   "execution_count": 153,
   "id": "4b1d9645-eed4-4bab-a80a-aef66736367f",
   "metadata": {
    "tags": []
   },
   "outputs": [],
   "source": [
    "# Code cell for Problem 4 - do not modify or delete this line\n",
    "def RandomSAP(N,Nsteps):\n",
    "    Dorig=[[1,0] for i in range(N)]\n",
    "    D=np.copy(Dorig)\n",
    "    Neighbors=DSubs(D)\n",
    "    for i in range(Nsteps):\n",
    "        N_i=len(Neighbors)\n",
    "        j=np.random.choice(range(N_i))\n",
    "        Dnew=Neighbors[j]\n",
    "        Dnew_Neighbors=DSubs(Dnew)\n",
    "        N_j=len(Dnew_Neighbors)\n",
    "        p=min(1,N_i/N_j)\n",
    "        r=np.random.random()\n",
    "        if r < p:\n",
    "            D=np.copy(Dnew)\n",
    "            Neighbors=np.copy(Dnew_Neighbors)\n",
    "    return D"
   ]
  },
  {
   "cell_type": "code",
   "execution_count": 158,
   "id": "84fe0a5b-3c83-4767-a05d-973c590ef796",
   "metadata": {
    "tags": []
   },
   "outputs": [
    {
     "data": {
      "image/png": "[encoded data removed]",
      "text/plain": [
       "<Figure size 640x480 with 1 Axes>"
      ]
     },
     "metadata": {},
     "output_type": "display_data"
    }
   ],
   "source": [
    "# Test code for Problem 4 - do not delete or modify this cell\n",
    "# Do execute it.\n",
    "Dnew=RandomSAP(30,100)\n",
    "PlotSAP(Dnew)"
   ]
  },
  {
   "cell_type": "markdown",
   "id": "1396d841-cc3a-4d1a-85d8-85d973ea7db8",
   "metadata": {},
   "source": [
    "**Problem 5 (10 points)**\n",
    "\n",
    "As in Problem 2, let $R$ denote the Euclidean distance from the end of a random SAP of length 10 with all such SAP's equally likely. Use your function in Problem 4 with 1,000 steps to generate random 100 SAP's of length 10 and use these to estimate $\\mu = E[R],$ \n",
    "$\\sigma = \\mbox{SD}(R)$ and get an approximate 95% confidence interval for $\\mu,$ using a sample of size of 1,000.\n",
    "\n",
    "In your code cell, assign to\n",
    "\n",
    "- **muhat5** your estimate of $\\mu$ rounded to 2 decimal places\n",
    "- **sigmahat5** your estimate of the standard deviation of $R$ rounded to 2 decimal places\n",
    "- **muL5** and **muU5** lower and upper 95% confidence bounds, rounded to 2 decimal places\n",
    "\n",
    "**Note:** your code might take a while to run.  I recommend putting in a print statement like in the following:\n",
    "\n",
    "> for i in range(100):\n",
    "   \n",
    "> > if i+1==10*int((i+1)/10):\n",
    "   \n",
    "> > > print(i+1)\n",
    "        \n",
    "so you can get a sense of how long the code will need to run."
   ]
  },
  {
   "cell_type": "code",
   "execution_count": 159,
   "id": "3ffda226-7acb-499c-bf01-2be2f7b8f123",
   "metadata": {
    "tags": []
   },
   "outputs": [
    {
     "name": "stdout",
     "output_type": "stream",
     "text": [
      "10\n",
      "20\n",
      "30\n",
      "40\n",
      "50\n",
      "60\n",
      "70\n",
      "80\n",
      "90\n",
      "100\n"
     ]
    }
   ],
   "source": [
    "# Code cell for Problem 5 - do not delete or modify this line\n",
    "N=100\n",
    "Euc_dist=[]\n",
    "for i in range(N):\n",
    "    Dnew=RandomSAP(10,1000)\n",
    "    dx=Dnew[:,0]\n",
    "    dy=Dnew[:,1]\n",
    "    px=dx.sum()\n",
    "    py=dy.sum()\n",
    "    Euc_dist.append(np.sqrt(px**2+py**2))\n",
    "    if i+1==10*int((i+1)/10):\n",
    "        print(i+1)\n",
    "muhat5=round(np.mean(Euc_dist),2)\n",
    "sigmahat5=round(np.std(Euc_dist),2)\n",
    "muL5=round(muhat5-1.96*sigmahat5/np.sqrt(N),2)\n",
    "muU5=round(muhat5+1.96*sigmahat5/np.sqrt(N),2)"
   ]
  },
  {
   "cell_type": "code",
   "execution_count": 76,
   "id": "2645e4f6-9ce7-46f0-8785-57e2244d821f",
   "metadata": {
    "tags": []
   },
   "outputs": [
    {
     "name": "stdout",
     "output_type": "stream",
     "text": [
      "4.55\n",
      "1.61\n",
      "4.23\n",
      "4.87\n"
     ]
    }
   ],
   "source": [
    "# Print cell for Problem 5 - do not modify or delete this cell\n",
    "# Do execute it\n",
    "print(muhat5)\n",
    "print(sigmahat5)\n",
    "print(muL5)\n",
    "print(muU5)"
   ]
  },
  {
   "cell_type": "markdown",
   "id": "242f8192-de39-46ca-b7d6-f5f4d3abe078",
   "metadata": {},
   "source": [
    "**Alternative Distributions**\n",
    "\n",
    "In the above example, we generated approximate samples uniformly distributed among SAP's of fixed length $N.$ We can also use the MH algorithm to sample using a specified alternative distribution. Such a distribution can take the form of a function that takes as input a $\\delta$-array of dimension $N \\times 2$ defining a SAP, and outputs a probability weight given to that $\\delta$-array. (These weights do not have to sum to one, but they do define a probability distribution if we were to sum them over all SAP's of length $N.$ As mentioned above, a convenient fact about the MH algorithm is that we do not have to determine the normalizing constant.)\n",
    "\n",
    "Here is an example. Our weight function could *penalize* paths defined from \n",
    "$\\delta = [\\delta_0,\\ldots,\\delta_{N-1}]$ where many $\\delta_i$ and $\\delta_{i+1}$ are differnt by taking\n",
    "\n",
    "$$\n",
    "f(\\delta) = e^{-c {\\cal D}(\\delta)}\n",
    "$$\n",
    "\n",
    "where ${\\cal D}(\\delta)$ denotes the number of times $\\delta_i\\neq \\delta_{i+1}$ for $i=0,\\ldots,N-2$ i.e.\n",
    "\n",
    "$$\n",
    "{\\cal D}(\\delta) = \\sum_{i=0}^{N-2} I_{\\delta_i \\neq \\delta_{i+1}}.\n",
    "$$\n",
    "\n",
    "Here $c$ is a parameter to be specified.\n",
    "\n",
    "The following code cell provides code for such a function when the parameter $c$ is specified globally.\n"
   ]
  },
  {
   "cell_type": "code",
   "execution_count": 77,
   "id": "a4bdf10b-28c6-44de-a183-347127252cfe",
   "metadata": {
    "tags": []
   },
   "outputs": [],
   "source": [
    "# Code cell for probability weight - do not modify or delete this cell.\n",
    "# Do execute it.\n",
    "def wgt(D):\n",
    "    N=D.shape[0]\n",
    "    n=0\n",
    "    for i in range(N-1):\n",
    "        if not np.array_equal(D[i,:],D[i+1,:]):\n",
    "            n+=1\n",
    "    return(np.exp(-c*n))"
   ]
  },
  {
   "cell_type": "markdown",
   "id": "2848a371-90f1-42b7-88ef-559f717cc46e",
   "metadata": {},
   "source": [
    "**Problem 6 (10 points)**\n",
    "\n",
    "Write a function call **RandomSAP2** that takes 3 arguments \n",
    "\n",
    "- **N** the length of self-avoiding path to generate.\n",
    "- **NSteps** number of times we call DSubs function to generate all possible neighboring states and pick a random one to possibly move to.\n",
    "- **pweight** a function (like wgt defined above) that takes as input a $\\delta$ array and outputs a probability weight assigned to it.\n",
    "\n",
    "As in Problem 4, the function should assume a starting **straight** SAP with the $\\delta$-array with all $N$ rows equal to [1,0], and apply the Metropolis-Hastings algorithm described above for the case when the desired distribution is defined from the probabilty weight function, and should return as output:\n",
    "\n",
    "- **D** the delta array of the final self-avoiding path.\n",
    "\n",
    "Use the following code cell for your code. Your function is allowed to call the DSubs function you defined in Problem 3 but should otherwise be fully self-contained.\n",
    "\n",
    "Try to make your code as efficient as possible. "
   ]
  },
  {
   "cell_type": "code",
   "execution_count": 165,
   "id": "8d93bd76-1089-43f4-a385-ffe7d68c75bf",
   "metadata": {
    "tags": []
   },
   "outputs": [],
   "source": [
    "# Code cell for Problem 6\n",
    "def RandomSAP2(N,Nsteps,pweight):\n",
    "    Dorig=[[1,0] for i in range(N)]\n",
    "    D=np.copy(Dorig)\n",
    "    Neighbors=DSubs(D)\n",
    "    for i in range(Nsteps):\n",
    "        N_i=len(Neighbors)\n",
    "        j=np.random.choice(range(N_i))\n",
    "        Dnew=Neighbors[j]\n",
    "        Dnew_Neighbors=DSubs(Dnew)\n",
    "        N_j=len(Dnew_Neighbors)\n",
    "        pi_i=pweight(D)\n",
    "        pi_j=pweight(Dnew)\n",
    "        p=min(1,(pi_j*N_i)/(pi_i*N_j))\n",
    "        r=np.random.random()\n",
    "        if r < p:\n",
    "            D=np.copy(Dnew)\n",
    "            Neighbors=np.copy(Dnew_Neighbors)\n",
    "    return D"
   ]
  },
  {
   "cell_type": "code",
   "execution_count": 185,
   "id": "96b14c5d-b2d0-4291-a8dc-07d7ffd1e9cb",
   "metadata": {
    "tags": []
   },
   "outputs": [
    {
     "data": {
      "image/png": "[encoded data removed]",
      "text/plain": [
       "<Figure size 640x480 with 1 Axes>"
      ]
     },
     "metadata": {},
     "output_type": "display_data"
    }
   ],
   "source": [
    "# Test code for Problem 6 - do not delete or modify this cell\n",
    "# Do execute it.\n",
    "c=0.2\n",
    "Dnew=RandomSAP2(30,100,wgt)\n",
    "PlotSAP(Dnew)"
   ]
  },
  {
   "cell_type": "markdown",
   "id": "785eccc8-9665-468f-8ead-6c5485d17717",
   "metadata": {},
   "source": [
    "**Problem 7 (10 points)**\n",
    "\n",
    "Use your RandomSAP2 function to estimate, using Monte-Carlo simulation, estimate the expected value of $R$ for a random SAP of length 10 assuming the SAP distribution defined by the weight function above with c=.3. Use a Monte-Carlo sample size of 100 trials.\n",
    "\n",
    "Use the following cell for your code.  In that cell, assign values to the following variables:\n",
    "\n",
    "**muhat7** = estimate of the expected **mu = E[R]** under the assumed SAP distribution\n",
    "\n",
    "**sigma7** = estimate of the standard deviation of **STD[R]** under the assumed SAP distribution\n",
    "\n",
    "**muL7** = 95% lower confidence bound for **mu**\n",
    "\n",
    "**muU7** = 95% upper confidence bound for **mu**"
   ]
  },
  {
   "cell_type": "code",
   "execution_count": 197,
   "id": "a53efd1d-9596-4809-87d7-d8039f94582c",
   "metadata": {
    "tags": []
   },
   "outputs": [
    {
     "name": "stdout",
     "output_type": "stream",
     "text": [
      "10\n",
      "20\n"
     ]
    },
    {
     "ename": "KeyboardInterrupt",
     "evalue": "",
     "output_type": "error",
     "traceback": [
      "\u001b[1;31m---------------------------------------------------------------------------\u001b[0m",
      "\u001b[1;31mKeyboardInterrupt\u001b[0m                         Traceback (most recent call last)",
      "Cell \u001b[1;32mIn[197], line 6\u001b[0m\n\u001b[0;32m      4\u001b[0m c\u001b[38;5;241m=\u001b[39m\u001b[38;5;241m0.3\u001b[39m\n\u001b[0;32m      5\u001b[0m \u001b[38;5;28;01mfor\u001b[39;00m i \u001b[38;5;129;01min\u001b[39;00m \u001b[38;5;28mrange\u001b[39m(N):\n\u001b[1;32m----> 6\u001b[0m     Dnew\u001b[38;5;241m=\u001b[39m\u001b[43mRandomSAP2\u001b[49m\u001b[43m(\u001b[49m\u001b[38;5;241;43m10\u001b[39;49m\u001b[43m,\u001b[49m\u001b[38;5;241;43m1000\u001b[39;49m\u001b[43m,\u001b[49m\u001b[43mwgt\u001b[49m\u001b[43m)\u001b[49m\n\u001b[0;32m      7\u001b[0m     dx\u001b[38;5;241m=\u001b[39mDnew[:,\u001b[38;5;241m0\u001b[39m]\n\u001b[0;32m      8\u001b[0m     dy\u001b[38;5;241m=\u001b[39mDnew[:,\u001b[38;5;241m1\u001b[39m]\n",
      "Cell \u001b[1;32mIn[165], line 18\u001b[0m, in \u001b[0;36mRandomSAP2\u001b[1;34m(N, Nsteps, pweight)\u001b[0m\n\u001b[0;32m     16\u001b[0m     \u001b[38;5;28;01mif\u001b[39;00m r \u001b[38;5;241m<\u001b[39m p:\n\u001b[0;32m     17\u001b[0m         D\u001b[38;5;241m=\u001b[39mnp\u001b[38;5;241m.\u001b[39mcopy(Dnew)\n\u001b[1;32m---> 18\u001b[0m         Neighbors\u001b[38;5;241m=\u001b[39m\u001b[43mnp\u001b[49m\u001b[38;5;241;43m.\u001b[39;49m\u001b[43mcopy\u001b[49m\u001b[43m(\u001b[49m\u001b[43mDnew_Neighbors\u001b[49m\u001b[43m)\u001b[49m\n\u001b[0;32m     19\u001b[0m \u001b[38;5;28;01mreturn\u001b[39;00m D\n",
      "File \u001b[1;32m<__array_function__ internals>:180\u001b[0m, in \u001b[0;36mcopy\u001b[1;34m(*args, **kwargs)\u001b[0m\n",
      "File \u001b[1;32m~\\anaconda3\\lib\\site-packages\\numpy\\lib\\function_base.py:959\u001b[0m, in \u001b[0;36mcopy\u001b[1;34m(a, order, subok)\u001b[0m\n\u001b[0;32m    870\u001b[0m \u001b[38;5;129m@array_function_dispatch\u001b[39m(_copy_dispatcher)\n\u001b[0;32m    871\u001b[0m \u001b[38;5;28;01mdef\u001b[39;00m \u001b[38;5;21mcopy\u001b[39m(a, order\u001b[38;5;241m=\u001b[39m\u001b[38;5;124m'\u001b[39m\u001b[38;5;124mK\u001b[39m\u001b[38;5;124m'\u001b[39m, subok\u001b[38;5;241m=\u001b[39m\u001b[38;5;28;01mFalse\u001b[39;00m):\n\u001b[0;32m    872\u001b[0m     \u001b[38;5;124;03m\"\"\"\u001b[39;00m\n\u001b[0;32m    873\u001b[0m \u001b[38;5;124;03m    Return an array copy of the given object.\u001b[39;00m\n\u001b[0;32m    874\u001b[0m \n\u001b[1;32m   (...)\u001b[0m\n\u001b[0;32m    957\u001b[0m \n\u001b[0;32m    958\u001b[0m \u001b[38;5;124;03m    \"\"\"\u001b[39;00m\n\u001b[1;32m--> 959\u001b[0m     \u001b[38;5;28;01mreturn\u001b[39;00m \u001b[43marray\u001b[49m\u001b[43m(\u001b[49m\u001b[43ma\u001b[49m\u001b[43m,\u001b[49m\u001b[43m \u001b[49m\u001b[43morder\u001b[49m\u001b[38;5;241;43m=\u001b[39;49m\u001b[43morder\u001b[49m\u001b[43m,\u001b[49m\u001b[43m \u001b[49m\u001b[43msubok\u001b[49m\u001b[38;5;241;43m=\u001b[39;49m\u001b[43msubok\u001b[49m\u001b[43m,\u001b[49m\u001b[43m \u001b[49m\u001b[43mcopy\u001b[49m\u001b[38;5;241;43m=\u001b[39;49m\u001b[38;5;28;43;01mTrue\u001b[39;49;00m\u001b[43m)\u001b[49m\n",
      "\u001b[1;31mKeyboardInterrupt\u001b[0m: "
     ]
    }
   ],
   "source": [
    "# Code cell for Problem 7 - do not delete or modify this line\n",
    "N=1000\n",
    "Euc_dist=[]\n",
    "c=0.3\n",
    "for i in range(N):\n",
    "    Dnew=RandomSAP2(10,1000,wgt)\n",
    "    dx=Dnew[:,0]\n",
    "    dy=Dnew[:,1]\n",
    "    px=dx.sum()\n",
    "    py=dy.sum()\n",
    "    Euc_dist.append(np.sqrt(px**2+py**2))\n",
    "    if i+1==10*int((i+1)/10):\n",
    "        print(i+1)\n",
    "muhat7=round(np.mean(Euc_dist),2)\n",
    "sigmahat7=round(np.std(Euc_dist),2)\n",
    "muL7=round(muhat7-1.96*sigmahat7/np.sqrt(N),2)\n",
    "muU7=round(muhat7+1.96*sigmahat7/np.sqrt(N),2)"
   ]
  },
  {
   "cell_type": "code",
   "execution_count": 196,
   "id": "ef3f75a4-60dd-48cd-b029-4a224b7023d9",
   "metadata": {
    "tags": []
   },
   "outputs": [
    {
     "name": "stdout",
     "output_type": "stream",
     "text": [
      "9.77\n",
      "0.62\n",
      "9.65\n",
      "9.89\n"
     ]
    }
   ],
   "source": [
    "# Print cell for Problem 7 - do not remove or modify this cell\n",
    "# Do execute it\n",
    "print(muhat7)\n",
    "print(sigmahat7)\n",
    "print(muL7)\n",
    "print(muU7)"
   ]
  },
  {
   "cell_type": "markdown",
   "id": "29d6cdf2-5663-4f6c-9899-d3aa8fda044f",
   "metadata": {
    "tags": []
   },
   "source": [
    "**Problem 8 (10 points)**\n",
    "\n",
    "Write a function call **RandomSAP3** that takes 3 arguments \n",
    "\n",
    "- **N** the length of self-avoiding path to generate.\n",
    "- **NSteps** number of times we call DSubs function to generate all possible neighboring states and pick a random one to possibly move to.\n",
    "- **pweight** a function (like wgt defined above) that takes as input a $\\delta$ array and outputs a probability weight assigned to it.\n",
    "\n",
    "and which implements the **alternative formulation of the MH algorithm** described above (see **Note (needed for Problem 8)**).\n",
    "\n",
    "As in Problem 6, the function should assume a starting **straight** SAP with the $\\delta$-array with all $N$ rows equal to [1,0], and apply the alternative formulation of the Metropolis-Hastings algorithm described above for the case when the desired distribution is defined from the probabilty weight function, and should return as output:\n",
    "\n",
    "- **D** the delta array of the final self-avoiding path.\n",
    "\n",
    "Use the following code cell for your code. Your function is allowed to call the DSubs function you defined in Problem 3 but should otherwise be fully self-contained.\n",
    "\n",
    "Try to make your code as efficient as possible. "
   ]
  },
  {
   "cell_type": "code",
   "execution_count": 178,
   "id": "ebe5de61-1ebe-49b3-8d29-835a87d14e89",
   "metadata": {
    "tags": []
   },
   "outputs": [],
   "source": [
    "# Code cell for Problem 8\n",
    "def RandomSAP3(N,Nsteps,pweight):\n",
    "    Dorig=[[1,0] for i in range(N)]\n",
    "    D=np.copy(Dorig)\n",
    "    Neighbors=DSubs(D)\n",
    "    for i in range(Nsteps):\n",
    "        N_i=len(Neighbors)\n",
    "        j=np.random.choice(range(N_i))\n",
    "        Dnew=Neighbors[j]\n",
    "        Dnew_Neighbors=DSubs(Dnew)\n",
    "        N_j=len(Dnew_Neighbors)\n",
    "        Sum_i=0\n",
    "        Sum_j=0\n",
    "        for L_i in Neighbors:\n",
    "            Sum_i+=pweight(L_i)\n",
    "        for L_j in Dnew_Neighbors:\n",
    "            Sum_j+=pweight(L_j)\n",
    "        pi_i=wgt(D)\n",
    "        pi_j=wgt(Dnew)\n",
    "        p=min(1,(pi_j*Sum_i)/(pi_i*Sum_j))\n",
    "        r=np.random.random()\n",
    "        if r < p:\n",
    "            D=np.copy(Dnew)\n",
    "            Neighbors=np.copy(Dnew_Neighbors)\n",
    "    return D"
   ]
  },
  {
   "cell_type": "markdown",
   "id": "96cb7fd2-c832-4f0b-8eea-ac37e1005ac3",
   "metadata": {},
   "source": [
    "**Problem 9 (10 points)**\n",
    "\n",
    "Use your RandomSAP3 function to estimate, using Monte-Carlo simulation, estimate the expected value of $R$ for a random SAP of length 10 assuming the SAP distribution defined by the weight function above with c=.3.\n",
    "\n",
    "\n",
    "Use a Monte-Carlo sample size of 100 trials.\n",
    "\n",
    "Use the following cell for your code.  In that cell, assign values to the following variables:\n",
    "\n",
    "**muhat9** = estimate of the expected **mu = E[R]** under the assumed SAP distribution\n",
    "\n",
    "**sigma9** = estimate of the standard deviation of **STD[R]** under the assumed SAP distribution\n",
    "\n",
    "**muL9** = 95% lower confidence bound for **mu**\n",
    "\n",
    "**muU9** = 95% upper confidence bound for **mu**"
   ]
  },
  {
   "cell_type": "code",
   "execution_count": 198,
   "id": "dd9d41ee-db41-485e-8f5d-4e48200a6999",
   "metadata": {
    "tags": []
   },
   "outputs": [
    {
     "name": "stdout",
     "output_type": "stream",
     "text": [
      "10\n"
     ]
    },
    {
     "ename": "KeyboardInterrupt",
     "evalue": "",
     "output_type": "error",
     "traceback": [
      "\u001b[1;31m---------------------------------------------------------------------------\u001b[0m",
      "\u001b[1;31mKeyboardInterrupt\u001b[0m                         Traceback (most recent call last)",
      "Cell \u001b[1;32mIn[198], line 6\u001b[0m\n\u001b[0;32m      4\u001b[0m c\u001b[38;5;241m=\u001b[39m\u001b[38;5;241m4\u001b[39m\n\u001b[0;32m      5\u001b[0m \u001b[38;5;28;01mfor\u001b[39;00m i \u001b[38;5;129;01min\u001b[39;00m \u001b[38;5;28mrange\u001b[39m(N):\n\u001b[1;32m----> 6\u001b[0m     Dnew\u001b[38;5;241m=\u001b[39m\u001b[43mRandomSAP3\u001b[49m\u001b[43m(\u001b[49m\u001b[38;5;241;43m10\u001b[39;49m\u001b[43m,\u001b[49m\u001b[38;5;241;43m1000\u001b[39;49m\u001b[43m,\u001b[49m\u001b[43mwgt\u001b[49m\u001b[43m)\u001b[49m\n\u001b[0;32m      7\u001b[0m     dx\u001b[38;5;241m=\u001b[39mDnew[:,\u001b[38;5;241m0\u001b[39m]\n\u001b[0;32m      8\u001b[0m     dy\u001b[38;5;241m=\u001b[39mDnew[:,\u001b[38;5;241m1\u001b[39m]\n",
      "Cell \u001b[1;32mIn[178], line 17\u001b[0m, in \u001b[0;36mRandomSAP3\u001b[1;34m(N, Nsteps, pweight)\u001b[0m\n\u001b[0;32m     15\u001b[0m     Sum_i\u001b[38;5;241m+\u001b[39m\u001b[38;5;241m=\u001b[39mpweight(L_i)\n\u001b[0;32m     16\u001b[0m \u001b[38;5;28;01mfor\u001b[39;00m L_j \u001b[38;5;129;01min\u001b[39;00m Dnew_Neighbors:\n\u001b[1;32m---> 17\u001b[0m     Sum_j\u001b[38;5;241m+\u001b[39m\u001b[38;5;241m=\u001b[39m\u001b[43mpweight\u001b[49m\u001b[43m(\u001b[49m\u001b[43mL_j\u001b[49m\u001b[43m)\u001b[49m\n\u001b[0;32m     18\u001b[0m pi_i\u001b[38;5;241m=\u001b[39mwgt(D)\n\u001b[0;32m     19\u001b[0m pi_j\u001b[38;5;241m=\u001b[39mwgt(Dnew)\n",
      "Cell \u001b[1;32mIn[77], line 7\u001b[0m, in \u001b[0;36mwgt\u001b[1;34m(D)\u001b[0m\n\u001b[0;32m      5\u001b[0m n\u001b[38;5;241m=\u001b[39m\u001b[38;5;241m0\u001b[39m\n\u001b[0;32m      6\u001b[0m \u001b[38;5;28;01mfor\u001b[39;00m i \u001b[38;5;129;01min\u001b[39;00m \u001b[38;5;28mrange\u001b[39m(N\u001b[38;5;241m-\u001b[39m\u001b[38;5;241m1\u001b[39m):\n\u001b[1;32m----> 7\u001b[0m     \u001b[38;5;28;01mif\u001b[39;00m \u001b[38;5;129;01mnot\u001b[39;00m \u001b[43mnp\u001b[49m\u001b[38;5;241;43m.\u001b[39;49m\u001b[43marray_equal\u001b[49m\u001b[43m(\u001b[49m\u001b[43mD\u001b[49m\u001b[43m[\u001b[49m\u001b[43mi\u001b[49m\u001b[43m,\u001b[49m\u001b[43m:\u001b[49m\u001b[43m]\u001b[49m\u001b[43m,\u001b[49m\u001b[43mD\u001b[49m\u001b[43m[\u001b[49m\u001b[43mi\u001b[49m\u001b[38;5;241;43m+\u001b[39;49m\u001b[38;5;241;43m1\u001b[39;49m\u001b[43m,\u001b[49m\u001b[43m:\u001b[49m\u001b[43m]\u001b[49m\u001b[43m)\u001b[49m:\n\u001b[0;32m      8\u001b[0m         n\u001b[38;5;241m+\u001b[39m\u001b[38;5;241m=\u001b[39m\u001b[38;5;241m1\u001b[39m\n\u001b[0;32m      9\u001b[0m \u001b[38;5;28;01mreturn\u001b[39;00m(np\u001b[38;5;241m.\u001b[39mexp(\u001b[38;5;241m-\u001b[39mc\u001b[38;5;241m*\u001b[39mn))\n",
      "File \u001b[1;32m<__array_function__ internals>:179\u001b[0m, in \u001b[0;36marray_equal\u001b[1;34m(*args, **kwargs)\u001b[0m\n",
      "File \u001b[1;32m~\\anaconda3\\lib\\site-packages\\numpy\\core\\numeric.py:2398\u001b[0m, in \u001b[0;36m_array_equal_dispatcher\u001b[1;34m(a1, a2, equal_nan)\u001b[0m\n\u001b[0;32m   2393\u001b[0m             cond[both_nan] \u001b[38;5;241m=\u001b[39m both_nan[both_nan]\n\u001b[0;32m   2395\u001b[0m         \u001b[38;5;28;01mreturn\u001b[39;00m cond[()]  \u001b[38;5;66;03m# Flatten 0d arrays to scalars\u001b[39;00m\n\u001b[1;32m-> 2398\u001b[0m \u001b[38;5;28;01mdef\u001b[39;00m \u001b[38;5;21m_array_equal_dispatcher\u001b[39m(a1, a2, equal_nan\u001b[38;5;241m=\u001b[39m\u001b[38;5;28;01mNone\u001b[39;00m):\n\u001b[0;32m   2399\u001b[0m     \u001b[38;5;28;01mreturn\u001b[39;00m (a1, a2)\n\u001b[0;32m   2402\u001b[0m \u001b[38;5;129m@array_function_dispatch\u001b[39m(_array_equal_dispatcher)\n\u001b[0;32m   2403\u001b[0m \u001b[38;5;28;01mdef\u001b[39;00m \u001b[38;5;21marray_equal\u001b[39m(a1, a2, equal_nan\u001b[38;5;241m=\u001b[39m\u001b[38;5;28;01mFalse\u001b[39;00m):\n",
      "\u001b[1;31mKeyboardInterrupt\u001b[0m: "
     ]
    }
   ],
   "source": [
    "# Code cell for Problem 9 - do not delete or modify this line\n",
    "N=100\n",
    "Euc_dist=[]\n",
    "c=4\n",
    "for i in range(N):\n",
    "    Dnew=RandomSAP3(10,1000,wgt)\n",
    "    dx=Dnew[:,0]\n",
    "    dy=Dnew[:,1]\n",
    "    px=dx.sum()\n",
    "    py=dy.sum()\n",
    "    Euc_dist.append(np.sqrt(px**2+py**2))\n",
    "    if i+1==10*int((i+1)/10):\n",
    "        print(i+1)\n",
    "muhat9=round(np.mean(Euc_dist),2)\n",
    "sigmahat9=round(np.std(Euc_dist),2)\n",
    "muL9=round(muhat9-1.96*sigmahat9/np.sqrt(N),2)\n",
    "muU9=round(muhat9+1.96*sigmaha97/np.sqrt(N),2)"
   ]
  },
  {
   "cell_type": "code",
   "execution_count": null,
   "id": "4cc526e0-4163-4b53-8ebc-36254187734c",
   "metadata": {
    "tags": []
   },
   "outputs": [],
   "source": [
    "# Print cell for Problem 9 - do not remove or modify this cell\n",
    "# Do execute it\n",
    "print(muhat9)\n",
    "print(sigmahat9)\n",
    "print(muL9)\n",
    "print(muU9)"
   ]
  },
  {
   "cell_type": "markdown",
   "id": "8c608c9c-5611-4cd0-aa6c-0dbcef2c5901",
   "metadata": {},
   "source": [
    "**Make sure that**\n",
    "\n",
    "- all cells run without error\n",
    "- you save your notebook before submitting it"
   ]
  },
  {
   "cell_type": "code",
   "execution_count": null,
   "id": "e31fe731-4e94-49e7-ad8a-c0ad5f6138b2",
   "metadata": {},
   "outputs": [],
   "source": []
  }
 ],
 "metadata": {
  "kernelspec": {
   "display_name": "Python 3 (ipykernel)",
   "language": "python",
   "name": "python3"
  },
  "language_info": {
   "codemirror_mode": {
    "name": "ipython",
    "version": 3
   },
   "file_extension": ".py",
   "mimetype": "text/x-python",
   "name": "python",
   "nbconvert_exporter": "python",
   "pygments_lexer": "ipython3",
   "version": "3.10.9"
  }
 },
 "nbformat": 4,
 "nbformat_minor": 5
}
