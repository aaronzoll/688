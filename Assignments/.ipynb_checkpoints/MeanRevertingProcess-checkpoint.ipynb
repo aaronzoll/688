{
 "cells": [
  {
   "cell_type": "markdown",
   "id": "131e1a4c-6fd7-4579-9101-c54aeea39a55",
   "metadata": {},
   "source": [
    "**Mean Reverting Process Assignment**"
   ]
  },
  {
   "cell_type": "markdown",
   "id": "fe8b0986-35cd-4df5-87e3-a476110ec6d5",
   "metadata": {},
   "source": [
    "**Execute the following cell.**"
   ]
  },
  {
   "cell_type": "code",
   "execution_count": null,
   "id": "bdbfbb0b-3cf7-46ac-8f8d-b68cd2d92a38",
   "metadata": {
    "tags": []
   },
   "outputs": [],
   "source": [
    "import numpy as np"
   ]
  },
  {
   "cell_type": "markdown",
   "id": "5c929219-b8f4-4c0b-a932-0dc2368e48c5",
   "metadata": {},
   "source": [
    "**Stochastic differential equations (SDE's)**\n",
    "\n",
    "An accomanying pdf file introducing SDE's has been posted in Canvas (see the Notes on Special Topics Module).\n",
    "\n",
    "For our purposes, a stochastic differential equation is an expression of the form\n",
    "\n",
    "$$\n",
    "(*) ~~~~~~dX_t = f(t,X_t) dt + g(t,X_t) dB_t\n",
    "$$\n",
    "\n",
    "which describes how a random function $X_t$ evolves in time. Here $B_t$ represents a standard Brownian motion process, and we can interpret this equation as saying that, approximately speaking, in an infinitesimal time increment $\\Delta$ the change in $X_t$ from time $t$ to time $t+\\Delta$ is given by\n",
    "\n",
    "$$\n",
    "X_{t+\\Delta} - X_t \\approx f(t,X_t) \\Delta + g(t,X_t) (B_{t+\\Delta} - B_t)\n",
    "$$\n",
    "\n",
    "and given how Brownian motion paths, we can write the right hand side as \n",
    "\n",
    "$$\n",
    "f(t,X_t) \\Delta + g(t,X_t) \\delta\n",
    "$$\n",
    "\n",
    "where $\\delta \\sim N(0,\\Delta)$ or equivalently $\\delta = \\sqrt{\\Delta} Z$ where $Z \\sim N(0,1).$\n",
    "\n",
    "We see that this change has\n",
    "\n",
    "- a *deterministic/drift* component $f(t,X_t) dt$ which can be interpreted as saying that the rate of change per unit time of this component depends via a function $f$ on the current time $t$ and current position $X_t,$ and\n",
    "\n",
    "- a *stochastic/volatility* component $g(t,X_t) \\delta$ which is normally distributed with mean 0 and variance $\\Delta g(t,X_t)^2$ so is dependent via a function $g$ on the current time $t$ and current position $X_t.$\n",
    "\n",
    "So, here $f$ and $g$ are real-valued functions of two variables (time and position).\n",
    "\n",
    "**Generating Realizations (first method)**\n",
    "\n",
    "Given these two functions (assuming they satisfy certain technical properties not mentioned here) and a starting position $X_0$ of the process at time $t=0$ we can *generate* approximate realizations of the process $X$ at times $0,\\Delta,2\\Delta,3\\Delta,\\ldots,$ using the following iterative procedure:\n",
    "\n",
    "$$\n",
    "X_\\Delta = X_0 + f(0,X_0)\\Delta + g(0,X_0)\\sqrt{\\Delta} \\delta_0\n",
    "$$\n",
    "\n",
    "$$\n",
    "X_{2\\Delta} = X_{\\Delta}+ f(\\Delta,X_{\\Delta})\\Delta + g(\\Delta,X_{\\Delta})\\sqrt{\\Delta} \\delta_1\n",
    "$$\n",
    "\n",
    "$$\n",
    "X_{3\\Delta} = X_{2\\Delta}+ f(2\\Delta,X_{2\\Delta})\\Delta + g(2\\Delta,X_{2\\Delta})\\sqrt{\\Delta} \\delta_2\n",
    "$$\n",
    "\n",
    "$$\n",
    "\\vdots\n",
    "$$\n",
    "\n",
    "where $\\delta_0,\\delta_1,\\delta_2,\\ldots$ is a sequence of (pseudo-random) iid $N(0,1)$ random variables.\n",
    "Observe that we can't calculate $X_{j\\Delta}$ using this iterative procedure until we know $X_{(j-1)\\Delta}.$\n",
    "\n",
    "\n",
    "**Examples**\n",
    "\n",
    "**Brownian motion with drift**\n",
    "\n",
    "Here \n",
    "\n",
    "$$\n",
    "dX_t = \\mu dt + \\sigma dB_t\n",
    "$$\n",
    "\n",
    "so $f$ and $g$ are constant functions $f(t,x) \\equiv \\mu$ and $g(t,x) \\equiv \\sigma.$\n",
    "\n",
    "**Geometric Brownian motion**\n",
    "\n",
    "When we first introduced this process we wrote it as\n",
    "\n",
    "$$\n",
    "X_t = e^{\\mu t + \\sigma B_t}\n",
    "$$\n",
    "\n",
    "but thanks to Ito's lemma we can express this process using the SDE in the form described above\n",
    "\n",
    "$$\n",
    "dX_t = \\mu X_t  dt + \\sigma X_t dB_t\n",
    "$$\n",
    "\n",
    "so here \n",
    "\n",
    "$$f(t,x)= \\mu x$$ \n",
    "\n",
    "(not dependent on $t$) and \n",
    "\n",
    "$$g(t,x) = \\sigma x$$ \n",
    "\n",
    "(also not dependent on $t$).\n",
    "\n",
    "\n",
    "**Mean-Reverting Process (MRP)**\n",
    "\n",
    "An accompanying pdf file devoted to MRP's has been posted in Canvas.\n",
    "\n",
    "In this homework assignment we'll consider this important and useful example. This is the so-called mean-reverting or Ornstein-Uhlenbeck process, defined by the SDE:\n",
    "\n",
    "$$\n",
    "(**)~~~~~~~~~~~~~dX_t = \\theta(\\mu - X_t)dt + \\sigma dB_t\n",
    "$$\n",
    "\n",
    "where $\\theta,\\sigma>0$ and $\\mu \\in \\mathbb{R}.$\n",
    "So here we see that this is also a special case of the general form $(*)$ with\n",
    "\n",
    "$$\n",
    "f(t,x) = \\theta(\\mu - x)\n",
    "$$\n",
    "\n",
    "and \n",
    "\n",
    "$$\n",
    "g(t,x)\\equiv \\sigma\n",
    "$$\n",
    "\n",
    "\n",
    "(again, neither function depending on time $t.$)\n",
    "\n",
    "**Generating Realizations for an MRP (second method)**\n",
    "\n",
    "As described in the above-mentioned  MRP notes, the MRP is special in that there is an iterative way to generate a realization of the process at specific time points $t_0 < t_1 < ... < t_k$ assuming we know the position at time $t_0$ to be $X_0$ (the time points do not have to be equally spaced!). This comes as another application of Ito's lemma.\n",
    "\n",
    "Once we know the position $X_t$ at times $t=t_0,\\ldots,t_{i-1}$ we can \n",
    "use the fact that the conditional distribution of $X_{t_i}$ given $X_{t_0},\\ldots,X_{t_{i-1}}$ has a normal distribution with mean\n",
    "\n",
    "$$\n",
    "e^{-\\theta \\Delta t_i} X_{t_{i-1}} + (1-e^{-\\theta \\Delta t_i})\\mu\n",
    "$$\n",
    "\n",
    "and variance\n",
    "\n",
    "$$\n",
    "v = \\sigma^2(1-e^{-2\\theta \\Delta t_i})/(2\\theta)\n",
    "$$\n",
    "\n",
    "where $\\Delta t_i = t_i - t_{i-1}.$\n",
    "\n",
    "It is worth mentioning that \n",
    "\n",
    "- the fact that the distribution conditioned on past times only depends on the most recent time makes this a *Markov process,* or we say that the process is *Markovian*, and\n",
    "- the conditional mean of the future position $X_{t_i}$ is a *convex combination* of the current position and the  value $\\mu$ i.e. we can write this conditional mean as $\\lambda X_{t_{i-1}}+(1-\\lambda)\\mu$ where $\\lambda \\in (0,1),$ and $\\lambda$ gets closer to 0 the for larger and larger values of $\\Delta t_i,$ so in this sense the process has a tendency to *revert back to the mean* $\\mu.$"
   ]
  },
  {
   "cell_type": "markdown",
   "id": "0ab9b43c-613f-4112-b95e-8013dd746d5a",
   "metadata": {},
   "source": [
    "**Problem 1 (20 points) - Generating MRP realizations**\n",
    "\n",
    "Write a program called function called **MRPRealization** that takes as inputs the following:\n",
    "\n",
    "- **X0** = a starting value for the process at time T[0]=0 (T defined below)\n",
    "- **theta**\n",
    "- **mu**\n",
    "- **sigma**\n",
    "- **T** a numpy 1-d array of increasing sequence of times at \n",
    "which to generate process values (with T[0]=0)\n",
    "\n",
    "and outputs two 1-d numpy arrays \n",
    "\n",
    "- **T** the input array T (with T[0]=0) i.e. the same as the input array\n",
    "- **X** the values of $X$ for the realization at those times in T.\n",
    "\n",
    "**Important:** \n",
    "\n",
    "- You should try to make your code as efficient as possible. \n",
    "- Your code should use the second method described above.\n",
    "\n",
    "Make your function **fully self-contained.** You should not use functions except those found in the numpy package.\n",
    "\n",
    "Use the following cell for your code."
   ]
  },
  {
   "cell_type": "code",
   "execution_count": null,
   "id": "9f771113-bd1d-47d3-8d6a-e51c6e2fce4b",
   "metadata": {
    "tags": []
   },
   "outputs": [],
   "source": [
    "# Code cell for Problem 1 - do not modify or delete this line\n",
    "import numpy as np\n",
    "def MRPRealization(X0,theta,mu,sigma,T):\n",
    "    ..."
   ]
  },
  {
   "cell_type": "markdown",
   "id": "09766d08-31dd-4bb5-b23d-a7c06919d42d",
   "metadata": {},
   "source": [
    "If your code works properly, you should be able to execute the following code and visualize 5 different realizations of the process with parameters:\n",
    "\n",
    "- X0=100\n",
    "- theta=.8\n",
    "- mu=80\n",
    "- sigma=1\n",
    "- T a time vector of length 10,001 taking values 0,$\\Delta,$ $2\\Delta,\\ldots 10000\\Delta=25$\n",
    "\n"
   ]
  },
  {
   "cell_type": "code",
   "execution_count": null,
   "id": "dbbcc836-307c-4b0b-bf68-3e92010fd1d6",
   "metadata": {
    "tags": []
   },
   "outputs": [],
   "source": [
    "# First plot cell for Problem 1 - do not modify or delete this line.\n",
    "# Execute this cell after running the Code cell for Problem 1\n",
    "import matplotlib.pyplot as plt\n",
    "theta=.8\n",
    "mu=80\n",
    "T,X1=MRPRealization(100,theta=theta,mu=mu,sigma=1,T=np.linspace(0,25,10001))\n",
    "T,X2=MRPRealization(100,theta=theta,mu=mu,sigma=1,T=np.linspace(0,25,10001))\n",
    "T,X3=MRPRealization(100,theta=theta,mu=mu,sigma=1,T=np.linspace(0,25,10001))\n",
    "T,X4=MRPRealization(100,theta=theta,mu=mu,sigma=1,T=np.linspace(0,25,10001))\n",
    "T,X5=MRPRealization(100,theta=theta,mu=mu,sigma=1,T=np.linspace(0,25,10001))\n",
    "T,X6=MRPRealization(100,theta=theta,mu=mu,sigma=1,T=np.linspace(0,25,10001))\n",
    "T,X7=MRPRealization(100,theta=theta,mu=mu,sigma=1,T=np.linspace(0,25,10001))\n",
    "\n",
    "lw=.2\n",
    "plt.plot(T,X1,linewidth=lw)\n",
    "plt.plot(T,X2,linewidth=lw)\n",
    "plt.plot(T,X3,linewidth=lw)\n",
    "plt.plot(T,X4,linewidth=lw)\n",
    "plt.plot(T,X5,linewidth=lw)\n",
    "plt.plot(T,X6,linewidth=lw)\n",
    "plt.plot(T,X7,linewidth=lw)\n"
   ]
  },
  {
   "cell_type": "markdown",
   "id": "24a946f5-ec5c-4e33-8476-30cb07e5df85",
   "metadata": {},
   "source": [
    "And you should be able to execute the following cell and visualize the effect of making the parameter $\\theta$ smaller.\n",
    "You should observe that the time to reach the value $\\mu = 80$ tends to increase."
   ]
  },
  {
   "cell_type": "code",
   "execution_count": null,
   "id": "878340dd-5a74-488f-8d07-8dcb33bc8b1f",
   "metadata": {
    "tags": []
   },
   "outputs": [],
   "source": [
    "# Second plot cell for Problem 1 - do not modify or delete this line.\n",
    "# Execute this cell after running the Code cell for Problem 1\n",
    "import matplotlib.pyplot as plt\n",
    "theta=.2\n",
    "mu=80\n",
    "T,X1=MRPRealization(100,theta=theta,mu=mu,sigma=1,T=np.linspace(0,25,10001))\n",
    "T,X2=MRPRealization(100,theta=theta,mu=mu,sigma=1,T=np.linspace(0,25,10001))\n",
    "T,X3=MRPRealization(100,theta=theta,mu=mu,sigma=1,T=np.linspace(0,25,10001))\n",
    "T,X4=MRPRealization(100,theta=theta,mu=mu,sigma=1,T=np.linspace(0,25,10001))\n",
    "T,X5=MRPRealization(100,theta=theta,mu=mu,sigma=1,T=np.linspace(0,25,10001))\n",
    "T,X6=MRPRealization(100,theta=theta,mu=mu,sigma=1,T=np.linspace(0,25,10001))\n",
    "T,X7=MRPRealization(100,theta=theta,mu=mu,sigma=1,T=np.linspace(0,25,10001))\n",
    "\n",
    "lw=.2\n",
    "plt.plot(T,X1,linewidth=lw)\n",
    "plt.plot(T,X2,linewidth=lw)\n",
    "plt.plot(T,X3,linewidth=lw)\n",
    "plt.plot(T,X4,linewidth=lw)\n",
    "plt.plot(T,X5,linewidth=lw)\n",
    "plt.plot(T,X6,linewidth=lw)\n",
    "plt.plot(T,X7,linewidth=lw)\n"
   ]
  },
  {
   "cell_type": "markdown",
   "id": "21ef4035-40b0-49da-8a50-028f53d62553",
   "metadata": {},
   "source": [
    "We're interested in time intervals in which an MRP remains above some threshold $\\tau,$ and we might ask questions such as\n",
    "\n",
    "- what is expected value of the longest time interval in which the threshold is exceeded between time 0 and $T,$\n",
    "- how likely are we to see a time interval of length at least some value $v$ between time 0 and $T$ \n",
    "\n",
    "Before we do some simulations we'll need a couple of functions.\n",
    "\n",
    "**Problem 2 (20 points)**\n",
    "\n",
    "In a sequence $x_0,x_1,\\ldots,x_n$ of 0's and 1's, a run of 1's of length $j$ is a subsequence $x_i,x_{i+1},\\ldots,x_{i+j-1}$ with all values equal to 1.\n",
    "\n",
    "Write a function called **longest_run_of_ones** that takes as input \n",
    "\n",
    "- a list Y or 1-d numpy array Y of positive length consisting only of 0's and 1's.\n",
    "\n",
    "and that outputs \n",
    "\n",
    "- N = the number of 1's in the longest run of 1's in Y\n",
    "- P = the starting position where the first occurence of the longest run starts\n",
    "\n",
    "For example\n",
    "\n",
    "- in the list [0,1,0,1,1,0,1,1,1,0,1,0,1,1,1] the longest run of 1's is 3 and the starting position of the first run of size 3 is 6.\n",
    "- in the list [0,0,1,0,1] the longest run of 1's is 1 and the starting position of the first run of 1's is 2\n",
    "- in the list [1,1,1,1,1] the longest run of 1's is 5 and its starting position is 0.\n",
    "\n",
    "If there are no runs in Y, your code should return 0,-1.\n",
    "\n",
    "Use the following cell for your code. Your code should be completely self-contained."
   ]
  },
  {
   "cell_type": "code",
   "execution_count": null,
   "id": "f7878a7a-aead-4a66-8d7f-9515656f850e",
   "metadata": {
    "tags": []
   },
   "outputs": [],
   "source": [
    "# Code cell for Problem 2 - do not modify or remove this line\n",
    "def longest_run_of_ones(Y):\n",
    "    ..."
   ]
  },
  {
   "cell_type": "code",
   "execution_count": null,
   "id": "2c982e99-02a7-4339-b7a4-c97c142f4d7b",
   "metadata": {
    "tags": []
   },
   "outputs": [],
   "source": [
    "# Test cell1 for Problem 2- do not modify this cell\n",
    "# Do execute it\n",
    "print(longest_run_of_ones([0,1,0,1,1,0,1,1,1,0,1,0,1,1,1]))\n",
    "print(longest_run_of_ones([0,0,1,0,1]))\n",
    "print(longest_run_of_ones([1,1,1,1,1]))\n",
    "print(longest_run_of_ones([0,1,0,1,1,0,0,0,1,1,1,1,1]))\n",
    "print(longest_run_of_ones([0,0,0,0,0]))\n"
   ]
  },
  {
   "cell_type": "code",
   "execution_count": null,
   "id": "c2599197-5e48-458d-8908-c11bacdb5e01",
   "metadata": {
    "tags": []
   },
   "outputs": [],
   "source": [
    "# Test cell2 for Problem 2 - do not modify this cell\n",
    "# Do execute it\n",
    "np.random.seed(1234)\n",
    "L=np.random.choice([0,1],size=10000)\n",
    "N,P=longest_run_of_ones(L)\n",
    "print(N)\n",
    "print(L[(P-1):(P+N+1)])"
   ]
  },
  {
   "cell_type": "markdown",
   "id": "9fafe418-3735-4caa-8250-04d78feed4d1",
   "metadata": {
    "tags": []
   },
   "source": [
    "**Problem 3 (10 points)**\n",
    "\n",
    "Write a function called **longest_interval_above_threshold** that takes as inputs MRP parameters\n",
    "\n",
    "- X0\n",
    "- theta \n",
    "- mu \n",
    "- sigma  \n",
    "- T (array of times)\n",
    "\n",
    "and a threshold\n",
    "\n",
    "- tau\n",
    "\n",
    "generates a realization of the MRP with the given MRP parameters, and returns as output \n",
    "\n",
    "- the duration of the longest time interval in which the threshold tau is exceeded.\n",
    "\n",
    "**Notes:** \n",
    "\n",
    "- If the threshold is exceeded at times $T[i],T[i+1],...,T[i+j-1]$ and not at times $T[i-1]$ and $T[i+j]$ you should take the length of the corresponding time interval to be $T[i+j-1]-T[i].$\n",
    "\n",
    "- If the threshold is exceed at times $T[i],T[i+1],...,T[N-1]$ where $N$ is the length of $T$ then you should take the length of the corresponing time interval to be $T[N-1]-T[i].$\n",
    "\n",
    "- Your code should use the functions in Problems 1 and 2.\n",
    "\n",
    "Use the following cell for your code."
   ]
  },
  {
   "cell_type": "code",
   "execution_count": null,
   "id": "c5be7cc8-cfb5-420f-b2ce-86d2f6743be0",
   "metadata": {
    "tags": []
   },
   "outputs": [],
   "source": [
    "# Code cell for Problem 3 - do not modify or delete this line\n",
    "def duration_of_longest_interval_above_threshold(X0,theta,mu,sigma,T,tau):\n",
    "    ..."
   ]
  },
  {
   "cell_type": "markdown",
   "id": "1db06f49-23a4-4a0a-8395-f7f0c2e43f26",
   "metadata": {},
   "source": [
    "**Problem 4 (5 points)**\n",
    "\n",
    "Suppose an MRP has the parameter values\n",
    "\n",
    "- X0 = 80\n",
    "- theta = .2\n",
    "- mu = 80\n",
    "- sigma = 1\n",
    "\n",
    "use your code in Problem 3 to estimate the expected length of the longest interval above the threshold of 81 that occurs during\n",
    "the time period $[0,25].$\n",
    "\n",
    "To estimate this, use 1,000 trials. In each trial, take your time vector to consist ot 10,000 equally spaced times between 0 and 25.\n",
    "\n",
    "In the code cell, assign a values to the following variables:\n",
    "\n",
    "- **mu4** = estimate of $\\mu,$ the expected duration of the longest time interval\n",
    "\n",
    "- **sd4** = estimated standard deviation of the duration of the longest time interval\n",
    "\n",
    "- **muL** = lower 95% confidence interval for the expected duration\n",
    "\n",
    "- **muU** = upper 95% confidence interval for the expected duration "
   ]
  },
  {
   "cell_type": "code",
   "execution_count": null,
   "id": "2830c2d5-5ed8-4535-a29d-9af7fe9efb94",
   "metadata": {
    "tags": []
   },
   "outputs": [],
   "source": [
    "# Code cell for Problem 4 - do not modify or delete this line\n"
   ]
  },
  {
   "cell_type": "code",
   "execution_count": null,
   "id": "e021ee77-7ba4-4a72-920a-7598e3ddc935",
   "metadata": {
    "tags": []
   },
   "outputs": [],
   "source": [
    "# Print cell for Problem 4 - do not modify this cell\n",
    "# Do execute it\n",
    "print(np.round(mu4,3))\n",
    "print(np.round(sd4,3))\n",
    "print(np.round(muL4,3))\n",
    "print(np.round(muU4,3))"
   ]
  },
  {
   "cell_type": "code",
   "execution_count": null,
   "id": "6677d5c7-f2dd-4a47-8b75-6aa9b006e3cd",
   "metadata": {},
   "outputs": [],
   "source": [
    "**Problem 5 (5 points)**\n",
    "\n",
    "Repeat what you did in Problem 4 but this time take the theta parameter to be .1 and leave the rest of the parameters unchanged.\n",
    "\n",
    "In the code cell, assign a values to the following variables:\n",
    "\n",
    "- **mu5** = estimate of expected duration of the longest time interval\n",
    "\n",
    "- **sd5** = estimated standard deviation of the duration of the longest time interval\n",
    "\n",
    "- **mu5L** = lower 95% confidence interval for the expected duration\n",
    "\n",
    "- **mu5U** = upper 95% confidence interval for the expected duration \n"
   ]
  },
  {
   "cell_type": "code",
   "execution_count": null,
   "id": "ee9c64ee-5d9a-49f2-835a-77c324f35481",
   "metadata": {
    "tags": []
   },
   "outputs": [],
   "source": [
    "# Code cell for Problem 5 - do not modify or delete this line\n"
   ]
  },
  {
   "cell_type": "code",
   "execution_count": null,
   "id": "20eeaf7a-02b1-491c-b4cb-03a03efbe020",
   "metadata": {
    "tags": []
   },
   "outputs": [],
   "source": [
    "# Print cell for Problem 5 - do not modify this cell\n",
    "# Do execute it\n",
    "print(np.round(mu5,3))\n",
    "print(np.round(sd5,3))\n",
    "print(np.round(mu5L,3))\n",
    "print(np.round(mu5U,3))"
   ]
  },
  {
   "cell_type": "code",
   "execution_count": null,
   "id": "dba11840-d4b7-4e2e-a86e-861bd9bfe3a6",
   "metadata": {},
   "outputs": [],
   "source": [
    "Do you understand how, qualitativelty, the answers in Problem 4 and Problem 5 make sense?"
   ]
  },
  {
   "cell_type": "markdown",
   "id": "4708b8e9-d659-4a2f-9685-5c60925d90f8",
   "metadata": {
    "tags": []
   },
   "source": [
    "**Problem 6 (10 points)**\n",
    "\n",
    "Write a function called **interval_above_threshold** that takes as inputs MRP parameters\n",
    "\n",
    "- X0\n",
    "- theta \n",
    "- mu \n",
    "- sigma  \n",
    "- T\n",
    "\n",
    "and in addition\n",
    "\n",
    "- tau = a threshold\n",
    "- dur = a time duration\n",
    "\n",
    "generates a realization of the MRP with the given MRP parameters, and returns as output a Boolean value\n",
    "\n",
    "- True - if there is a time interval (based on times in time vector T) whose duration is at least dur in which the threshold tau is always exceeded\n",
    "- False - otherwise\n",
    "\n",
    "Use the following cell for your code. "
   ]
  },
  {
   "cell_type": "code",
   "execution_count": null,
   "id": "31d5d2ce-59d7-4c52-8614-4d47c7935528",
   "metadata": {
    "tags": []
   },
   "outputs": [],
   "source": [
    "# Code cell for Problem 6 - do not modify or delete this line\n",
    "def interval_above_threshold(X0,theta,mu,sigma,T,tau,dur):\n",
    "    ..."
   ]
  },
  {
   "cell_type": "markdown",
   "id": "f3679fdf-85fc-413a-b789-83f94859b2a3",
   "metadata": {
    "tags": []
   },
   "source": [
    "**Problem 7 (5 points)**\n",
    "\n",
    "Suppose an MRP has the parameter values\n",
    "\n",
    "- X0 = 80\n",
    "- theta = .2\n",
    "- mu = 80\n",
    "- sigma = 1\n",
    "\n",
    "use your code in Problem 6 to estimate the probability that there is an interval above the threshold of 81 whose duration is at least 2. that occurs during\n",
    "the time period $[0,25]$\n",
    "\n",
    "To estimate this, use 1,000 trials. In each trial, take your time vector to consist ot 10,000 equally spaced times between 0 and 25.\n",
    "\n",
    "In the code cell, assign a values to the following variables:\n",
    "\n",
    "- **Pest7** = estimated probability \n",
    "\n",
    "- **PL7** = lower 95% confidence interval for the probability \n",
    "\n",
    "- **PU7** = upper 95% confidence interval for the probability  "
   ]
  },
  {
   "cell_type": "code",
   "execution_count": null,
   "id": "c807b9e4-dddd-4364-a196-2efe6c19f3ea",
   "metadata": {
    "tags": []
   },
   "outputs": [],
   "source": [
    "# Code cell for Problem 7 - do not modify or delete this line\n"
   ]
  },
  {
   "cell_type": "code",
   "execution_count": null,
   "id": "4d3bc929-f559-4ed9-9dc6-f91e67b10590",
   "metadata": {
    "tags": []
   },
   "outputs": [],
   "source": [
    "# Print cell for Problem 7 - do not modify this cell\n",
    "# Do execute it\n",
    "print(np.round(Pest7,3))\n",
    "print(np.round(PL7,3))\n",
    "print(np.round(PU7,3))"
   ]
  },
  {
   "cell_type": "markdown",
   "id": "b59a06d0-a87e-4bce-8ea3-a612540c59c3",
   "metadata": {
    "tags": []
   },
   "source": [
    "**Problem 8 (5 points)**\n",
    "\n",
    "Repeat what you did in Problem 7 but this time take theta=.1\n",
    "\n",
    "In the following code cell, assign a values to the following variables:\n",
    "\n",
    "- **Pest8** = estimated probability \n",
    "\n",
    "- **PL8** = lower 95% confidence interval for the probability \n",
    "\n",
    "- **PU8** = upper 95% confidence interval for the probability  "
   ]
  },
  {
   "cell_type": "code",
   "execution_count": null,
   "id": "c0dfcaac-fd10-43ac-90db-4f40bbdaab53",
   "metadata": {
    "tags": []
   },
   "outputs": [],
   "source": [
    "# Code cell for Problem 8 - do not modify or delete this line\n"
   ]
  },
  {
   "cell_type": "code",
   "execution_count": null,
   "id": "43a0f612-7e8d-4e05-9fdc-9085abab31a8",
   "metadata": {
    "tags": []
   },
   "outputs": [],
   "source": [
    "# Print cell for Problem 8 - do not modify this cell\n",
    "# Do execute it\n",
    "print(np.round(Pest8,3))\n",
    "print(np.round(PL8,3))\n",
    "print(np.round(PU8,3))"
   ]
  },
  {
   "cell_type": "markdown",
   "id": "d8a0cedb-6c69-4d54-9364-c9b825fb4ba0",
   "metadata": {},
   "source": [
    "Again, do you understand why there is a difference, qualitatively, between your answers in Problems 7 and 8?"
   ]
  },
  {
   "cell_type": "markdown",
   "id": "cf0a7857-db9f-4a81-a82c-e20480a7153a",
   "metadata": {
    "tags": []
   },
   "source": [
    "**Make sure that**\n",
    "\n",
    "- all cells run without error\n",
    "- you save your notebook"
   ]
  },
  {
   "cell_type": "code",
   "execution_count": null,
   "id": "d932c6bf-adc4-4523-990b-0cde33e64dec",
   "metadata": {},
   "outputs": [],
   "source": []
  }
 ],
 "metadata": {
  "kernelspec": {
   "display_name": "Python 3 (ipykernel)",
   "language": "python",
   "name": "python3"
  },
  "language_info": {
   "codemirror_mode": {
    "name": "ipython",
    "version": 3
   },
   "file_extension": ".py",
   "mimetype": "text/x-python",
   "name": "python",
   "nbconvert_exporter": "python",
   "pygments_lexer": "ipython3",
   "version": "3.11.4"
  }
 },
 "nbformat": 4,
 "nbformat_minor": 5
}
