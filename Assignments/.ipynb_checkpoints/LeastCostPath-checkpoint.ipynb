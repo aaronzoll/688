{
 "cells": [
  {
   "cell_type": "markdown",
   "id": "abcbea11-5527-40b6-a69b-57d1d99ad4e4",
   "metadata": {},
   "source": [
    "**Least Cost Path Assignment**\n",
    "\n",
    "**Important instructions**\n",
    "\n",
    "- Read the notes **LeastCostPathInRectangularGrid.pdf** file carefully. I spent a lot of time writing these. Understanding what is contained in these notes is critical to getting on top of this assignment.\n",
    "\n",
    "- There is also a **video** that goes over the dynamic programming approach in an example. If you are confused about how dynamic programming is supposed to work, **watch the video.**\n",
    "\n",
    "- When asked to provide a function, your code will be tested on examples and so it is important that you follow the specifications exactly.\n",
    "\n",
    "    - the **input** parameters should have the types specified \n",
    "    - the **outputs** should have the types specified\n",
    "\n"
   ]
  },
  {
   "cell_type": "code",
   "execution_count": 1,
   "id": "5b00055e-e72d-433c-9976-e8d211a7d464",
   "metadata": {
    "tags": []
   },
   "outputs": [],
   "source": [
    "import numpy as np\n",
    "import pandas as pd\n",
    "from sympy.utilities.iterables import multiset_permutations"
   ]
  },
  {
   "cell_type": "markdown",
   "id": "32f596b6-c0a3-44a7-9bcb-91b3f62a11f8",
   "metadata": {},
   "source": [
    "**Sympy**\n",
    "\n",
    "We will use the **sympy** package to since it allows us to generate all possible permutations of the elements of a list. The list can consist of identical values, hence the term *multiset*. As you are hopefully all aware, the number of permutations of aaabb is Binomal(5,3) = 10."
   ]
  },
  {
   "cell_type": "code",
   "execution_count": 2,
   "id": "299aaa90-e197-44df-9aa0-81d890ad254e",
   "metadata": {
    "tags": []
   },
   "outputs": [
    {
     "name": "stdout",
     "output_type": "stream",
     "text": [
      "['a', 'a', 'a', 'b', 'b']\n",
      "['a', 'a', 'b', 'a', 'b']\n",
      "['a', 'a', 'b', 'b', 'a']\n",
      "['a', 'b', 'a', 'a', 'b']\n",
      "['a', 'b', 'a', 'b', 'a']\n",
      "['a', 'b', 'b', 'a', 'a']\n",
      "['b', 'a', 'a', 'a', 'b']\n",
      "['b', 'a', 'a', 'b', 'a']\n",
      "['b', 'a', 'b', 'a', 'a']\n",
      "['b', 'b', 'a', 'a', 'a']\n"
     ]
    }
   ],
   "source": [
    "perms=multiset_permutations([\"a\",\"a\",\"a\",\"b\",\"b\"])\n",
    "for p in perms:\n",
    "    print(p)"
   ]
  },
  {
   "cell_type": "markdown",
   "id": "fde3adda-5846-4e32-8490-4db1e2739b01",
   "metadata": {},
   "source": [
    "**Saving and Loading Numpy Arrays**\n",
    "\n",
    "H and V arrays for sample problems have been created using code in the **ProblemFiles.ipynb** file. You can see there that these arrays are created using a numpy random number generator. The numpy **save** command is used to save the files. Whatever file name is used as an argument, by default the suffix *\".npy\"*  is appended to the file name, and the file is saved in a format that can be rea using **in any platform** using the numpy **load** command.\n",
    "\n",
    "In the code below several numpy arrays are loaded. **You should not modify these arrays anywhere in the notebook.**\n",
    "\n",
    "You will need to run the following code in order to store these arrays."
   ]
  },
  {
   "cell_type": "code",
   "execution_count": 3,
   "id": "074628ee-c9b7-4194-8fbf-8d90f32e3c6a",
   "metadata": {
    "tags": []
   },
   "outputs": [
    {
     "name": "stdout",
     "output_type": "stream",
     "text": [
      "[[0.27223497 0.37107017 0.0615633 ]\n",
      " [0.52189173 0.64237414 0.25185655]\n",
      " [0.69765257 0.41819083 0.87060541]\n",
      " [0.07185002 0.25671929 0.75904716]\n",
      " [0.93844977 0.8359802  0.0891893 ]]\n",
      "\n",
      "\n",
      "[[0.17712688 0.44517639 0.48319163 0.88850449]\n",
      " [0.903064   0.45611378 0.2187896  0.5370547 ]\n",
      " [0.9064702  0.3652126  0.62288606 0.7077785 ]\n",
      " [0.52447404 0.98297599 0.3645919  0.7418832 ]]\n"
     ]
    }
   ],
   "source": [
    "# Do no modify or delete this cell\n",
    "# Do execute it.\n",
    "H1=np.load(\"H1.npy\")\n",
    "V1=np.load(\"V1.npy\")\n",
    "print(H1)\n",
    "print(\"\\n\")\n",
    "print(V1)\n",
    "H2=np.load(\"H2.npy\")\n",
    "V2=np.load(\"V2.npy\")\n",
    "H3=np.load(\"H3.npy\")\n",
    "V3=np.load(\"V3.npy\")\n",
    "H4=np.load(\"H4.npy\")\n",
    "V4=np.load(\"V4.npy\")\n",
    "H5=np.load(\"H5.npy\")\n",
    "V5=np.load(\"V5.npy\")"
   ]
  },
  {
   "cell_type": "markdown",
   "id": "9be398e0-77a1-420d-b3c6-e5832de27c59",
   "metadata": {},
   "source": [
    "**Problem 1 (10 points)**\n",
    "\n",
    "Write a function called **GetIndicesOfPath** that takes as input a \n",
    "\n",
    "\n",
    "- **path**, which is **list** of individual characters in the set {\"H\",\"V\"} \n",
    "\n",
    "and outputs \n",
    "\n",
    "- a **list** of **2-tuples** giving the pairs of indices $(I,J)$ corresponding to positions in a matrix starting from $(0,0)$ and ending with $(m,n)$ where $m$ is the number of V's in the path, and $n$ is the number of H's in the path.\n",
    "\n",
    "So for example, if $m=2$ and $n=3$ the path ['H','H','V','V','H'] should give as output the *list*\n",
    "[(0,0),(0,1),(0,2),(1,2),(2,2),(2,3)]\n",
    "\n",
    "Use the following cell for you code."
   ]
  },
  {
   "cell_type": "code",
   "execution_count": 11,
   "id": "b692fee9-3f46-467f-a515-458bfdc05785",
   "metadata": {
    "tags": []
   },
   "outputs": [],
   "source": [
    "# Code cell for Problem 1 - do not remove or modify this line\n",
    "def GetIndicesOfPath(path):\n",
    "    L=[]\n",
    "    L.append((0,0))\n",
    "    k=0\n",
    "    for i in path:\n",
    "        if i=='H':\n",
    "            L.append(tuple(map(lambda i,j: i+j, (0,1), L[k])))\n",
    "        else:\n",
    "            L.append(tuple(map(lambda i,j: i+j, (1,0), L[k])))\n",
    "        k+=1\n",
    "    return L"
   ]
  },
  {
   "cell_type": "code",
   "execution_count": 12,
   "id": "1a113725-e141-4acd-bf6f-e837c719a374",
   "metadata": {
    "tags": []
   },
   "outputs": [
    {
     "name": "stdout",
     "output_type": "stream",
     "text": [
      "[(0, 0), (0, 1), (0, 2), (1, 2), (2, 2), (2, 3)]\n"
     ]
    }
   ],
   "source": [
    "# Test cell1 for Problem 1 - do not delete or modify this cell\n",
    "# Do execute it\n",
    "path=['H','H','V','V','H']\n",
    "print(GetIndicesOfPath(path))"
   ]
  },
  {
   "cell_type": "code",
   "execution_count": 13,
   "id": "dd123af2-4c19-4128-8d29-4581e86ae339",
   "metadata": {
    "tags": []
   },
   "outputs": [
    {
     "name": "stdout",
     "output_type": "stream",
     "text": [
      "['V', 'V', 'H', 'V', 'V', 'H', 'V', 'H', 'V', 'H', 'H', 'V', 'V', 'H', 'V', 'V', 'H', 'V', 'V', 'H', 'H', 'V', 'V', 'V', 'V']\n"
     ]
    },
    {
     "data": {
      "text/plain": [
       "[(0, 0),\n",
       " (1, 0),\n",
       " (2, 0),\n",
       " (2, 1),\n",
       " (3, 1),\n",
       " (4, 1),\n",
       " (4, 2),\n",
       " (5, 2),\n",
       " (5, 3),\n",
       " (6, 3),\n",
       " (6, 4),\n",
       " (6, 5),\n",
       " (7, 5),\n",
       " (8, 5),\n",
       " (8, 6),\n",
       " (9, 6),\n",
       " (10, 6),\n",
       " (10, 7),\n",
       " (11, 7),\n",
       " (12, 7),\n",
       " (12, 8),\n",
       " (12, 9),\n",
       " (13, 9),\n",
       " (14, 9),\n",
       " (15, 9),\n",
       " (16, 9)]"
      ]
     },
     "execution_count": 13,
     "metadata": {},
     "output_type": "execute_result"
    }
   ],
   "source": [
    "# Test cell2 for Problem 1 - do not delete or modify this cell\n",
    "# Do execute it\n",
    "np.random.seed(1418941)\n",
    "m=16\n",
    "n=9\n",
    "HVlist=[\"V\" for i in range(m)]+[\"H\" for i in range(n)]\n",
    "path=list(np.random.permutation(HVlist))\n",
    "print(path)\n",
    "GetIndicesOfPath(path)"
   ]
  },
  {
   "cell_type": "markdown",
   "id": "48e4576a-0997-40de-9807-3b0603778ff3",
   "metadata": {},
   "source": [
    "**Problem 2 (10 points)**\n",
    "\n",
    "Write a function called **PathCost** that takes as inputs the following:\n",
    "\n",
    "- two positive integers **m** and **n**, giving grid dimenssions, \n",
    "- a numpy array **H** ($m+1 \\times n$) giving, in position $(i,j)$ the cost of a horizontal move from $(i,j)$ to $(i,j+1),$ and\n",
    "- a numpy array **V** ($m \\times n+1)$ giving, in postion $(i,j)$ the cost of a vertical move from $(i,j)$ to $(i+1,j)$\n",
    "- a **path**, which is a list of characters of size $m+n$ consisting of $m$ V's and $n$ H's. \n",
    "\n",
    "and as output the cost of moving from $(0,0)$ to $(m,n)$ defined by the horizontal and vertical moves in path.\n",
    "\n",
    "Use the following cell for your code."
   ]
  },
  {
   "cell_type": "code",
   "execution_count": 31,
   "id": "392b4459-7026-4baf-a746-6b619ba39cb0",
   "metadata": {
    "tags": []
   },
   "outputs": [],
   "source": [
    "# Code cell for Problem 2 - do not remove or modify this line\n",
    "def PathCost(m,n,H,V,path): \n",
    "    ind = GetIndicesOfPath(path)\n",
    "    cost=0\n",
    "    k=0\n",
    "    for i in path:\n",
    "        t0=ind[k][0]\n",
    "        t1=ind[k][1]\n",
    "        if i=='H':\n",
    "            cost+=H[t0][t1]\n",
    "        else:\n",
    "            cost+=V[t0][t1]\n",
    "        k+=1\n",
    "    return cost"
   ]
  },
  {
   "cell_type": "code",
   "execution_count": 36,
   "id": "010c67d0-fa01-480d-ac15-08cd15af4c2e",
   "metadata": {
    "tags": []
   },
   "outputs": [
    {
     "name": "stdout",
     "output_type": "stream",
     "text": [
      "[[2 2]\n",
      " [1 2]\n",
      " [4 1]]\n",
      "[[1 3 4]\n",
      " [4 3 4]]\n",
      "['V', 'H', 'V', 'H']\n",
      "6\n",
      "['H', 'V', 'V', 'H']\n",
      "9\n"
     ]
    }
   ],
   "source": [
    "# Test cell1 for Problem 2 - do not delete or modify this cell\n",
    "# Do execute it\n",
    "np.random.seed(114183491)\n",
    "m=2\n",
    "n=2\n",
    "H=np.random.choice(range(1,5),size=(m+1,n))\n",
    "V=np.random.choice(range(1,5),size=(m,n+1))\n",
    "HVlist=['V' for i in range(m)]+['H' for i in range(n)]\n",
    "print(H)\n",
    "print(V)\n",
    "path1=list(np.random.permutation(HVlist))\n",
    "print(path1)\n",
    "print(PathCost(m,n,H,V,path1))\n",
    "path2=list(np.random.permutation(HVlist))\n",
    "print(path2)\n",
    "print(PathCost(m,n,H,V,path2))\n"
   ]
  },
  {
   "cell_type": "code",
   "execution_count": 37,
   "id": "b0c4e8e2-0278-4ca1-88b3-05dbf146bc88",
   "metadata": {
    "tags": []
   },
   "outputs": [
    {
     "name": "stdout",
     "output_type": "stream",
     "text": [
      "['V', 'H', 'H', 'H', 'H', 'H', 'H', 'H', 'H', 'H', 'H', 'H', 'H', 'H', 'H', 'H', 'H', 'H', 'H', 'V', 'V', 'H', 'H', 'H', 'H', 'H', 'H', 'H', 'V', 'H', 'H', 'H', 'H', 'V', 'H', 'H', 'V', 'H', 'H', 'H', 'H', 'V', 'H', 'H', 'V', 'H', 'H', 'H', 'H', 'H', 'H', 'H', 'H', 'H', 'H', 'H', 'H', 'V', 'H', 'H', 'H', 'H', 'H', 'H', 'V', 'H', 'V', 'H', 'H', 'V', 'V', 'H', 'H', 'H', 'V', 'H', 'V', 'H', 'H', 'H', 'H', 'H', 'H', 'H', 'H', 'H', 'H', 'H']\n",
      "[[4 4 1 ... 4 4 2]\n",
      " [3 1 3 ... 3 2 4]\n",
      " [1 4 4 ... 4 1 2]\n",
      " ...\n",
      " [4 3 1 ... 4 3 3]\n",
      " [1 2 2 ... 3 4 4]\n",
      " [3 3 4 ... 2 2 2]]\n",
      "[[3 1 2 ... 1 4 2]\n",
      " [4 4 3 ... 3 4 1]\n",
      " [4 2 4 ... 4 3 3]\n",
      " ...\n",
      " [2 3 3 ... 2 3 1]\n",
      " [1 2 2 ... 4 4 1]\n",
      " [1 3 2 ... 3 1 2]]\n",
      "231\n"
     ]
    }
   ],
   "source": [
    "# Test cell for Problem 2 - do not delete or modify this cell\n",
    "# Do execute it\n",
    "np.random.seed(1183491)\n",
    "m=15\n",
    "n=73\n",
    "H=np.random.choice(range(1,5),size=(m+1,n))\n",
    "V=np.random.choice(range(1,5),size=(m,n+1))\n",
    "HVlist=['V' for i in range(m)]+['H' for i in range(n)]\n",
    "path=list(np.random.permutation(HVlist))\n",
    "print(path)\n",
    "print(H)\n",
    "print(V)\n",
    "print(PathCost(m,n,H,V,path))"
   ]
  },
  {
   "cell_type": "markdown",
   "id": "b420cbdd-41a1-48e9-8f4a-878eccad0bc7",
   "metadata": {},
   "source": [
    "**Problem 3 (10 points)**\n",
    "\n",
    "Write a function called **LeastCostPathBruteForce** that takes as input\n",
    "\n",
    "- two positive integers **m** and **n**, giving grid dimensions, \n",
    "- a numpy array **H** ($m \\times (n+1)$) giving, in position $(i,j)$ the cost of a horizontal move from $(i,j)$ to $(i,j+1),$ and\n",
    "- a numpy array **V** ($m+1 \\times n)$ giving, in postion $(i,j)$ the cost of a vertical move from $(i,j)$ to $(i+1,j)$\n",
    "\n",
    "and as output gives a 2-tuple containing (in the following order):\n",
    "\n",
    "- the **cost** (a number) of a least cost path from $(0,0)$ to $(m,n)$ **rounded to 3 decimal places,** and \n",
    "- an optimal path, which should be a list of 2-tuples [(0,0),....,(m,n)] giving nodes visited along an optimal path *in order*.\n",
    "\n",
    "Your function should solve the problem using the **brute-force** approach of iterating over all possible paths.\n",
    "\n",
    "It is always a good idea to test your code problems where a brute-force solution can be found. This code will not be useful practically for large values of $m$ and $n$ but you **can** use it for testing purposes. \n",
    "\n",
    "It would be wise to test your code on some small examples. You can use this notebook for that purpose. Please do not use any of the cell headings I created in this notebook.\n",
    "\n",
    "Use the following cell for your code."
   ]
  },
  {
   "cell_type": "code",
   "execution_count": 54,
   "id": "7476e5f3-cb5f-4419-8aa9-e537b1856cb0",
   "metadata": {
    "tags": []
   },
   "outputs": [],
   "source": [
    "# Code cell for Problem 3 - do not delete or modify this line\n",
    "def LeastCostPathBruteForce(m,n,H,V):\n",
    "    HVlist=['V' for i in range(m)]+['H' for i in range(n)]\n",
    "    paths=multiset_permutations(HVlist)\n",
    "    cost=10**100\n",
    "    path_opt=[]\n",
    "    for path in paths:\n",
    "        c = PathCost(m,n,H,V,path)\n",
    "        if c < cost:\n",
    "            cost = c\n",
    "            path_opt = path\n",
    "    return np.round(cost,3), path_opt"
   ]
  },
  {
   "cell_type": "markdown",
   "id": "30e81edc-af7c-49b5-b95a-3105c6288b6b",
   "metadata": {},
   "source": [
    "**Problem 4 (2 points)**\n",
    "\n",
    "Run the code in the following cell to determine the optimal cost and optimal path in the H1, V1 example. "
   ]
  },
  {
   "cell_type": "code",
   "execution_count": 91,
   "id": "0378f4b5-3dab-4ed1-9ecc-3119550442ce",
   "metadata": {
    "tags": []
   },
   "outputs": [
    {
     "data": {
      "text/plain": [
       "(2.231, ['V', 'H', 'V', 'V', 'H', 'V', 'H'])"
      ]
     },
     "execution_count": 91,
     "metadata": {},
     "output_type": "execute_result"
    }
   ],
   "source": [
    "# Test cell for Problem 4 - do not delete or modify this cell\n",
    "# Do execute it.\n",
    "np.random.seed(114183491)\n",
    "LeastCostPathBruteForce(4,3,H1,V1)"
   ]
  },
  {
   "cell_type": "markdown",
   "id": "33feeb71-39e5-40ad-a78f-9b3d8f52f09d",
   "metadata": {},
   "source": [
    "**Problem 5 (2 points)**\n",
    "\n",
    "Run the code in the following cell to determine the optimal cost and optimal path in the H2, V2 example. "
   ]
  },
  {
   "cell_type": "code",
   "execution_count": 214,
   "id": "7f8cef41-9f24-43a4-b66f-f260dc143233",
   "metadata": {
    "tags": []
   },
   "outputs": [
    {
     "data": {
      "text/plain": [
       "(4.606, ['H', 'H', 'H', 'H', 'H', 'H', 'V', 'V', 'V', 'V', 'H', 'V', 'H'])"
      ]
     },
     "execution_count": 214,
     "metadata": {},
     "output_type": "execute_result"
    }
   ],
   "source": [
    "# Test cell for Problem 5 - do not delete or modify this cell\n",
    "# Do execute it.\n",
    "LeastCostPathBruteForce(5,8,H2,V2)"
   ]
  },
  {
   "cell_type": "markdown",
   "id": "64a28843-a60c-46aa-89dd-04d87987b5ae",
   "metadata": {},
   "source": [
    "**Problem 6 (26 points)**\n",
    "\n",
    "Write code that takes the **same inputs** and gives the **same outputs** as in the **LeastCostPathBruteForce** function, but this time solving the problem using dynamic programming as described in the *LeastCostPathInRectangularGrid.pdf* document. Call this function **LeastCostPathDynamicProgramming**.\n",
    "\n",
    "**Make sure** you round your least cost solution to 3 decimal places.\n",
    "\n",
    "You should test your code on random cases when m and n are small enough so that the brute-force method can be applied and you should get the same answers using the two methods provided that there is no possibility of multiple optimal paths. (This will have a **very small probability** if you take V and H to be random with uniformly distributed entries.)\n",
    "\n",
    "Again, if you add your own test cells, do not use any of the cell headers that have been used in this notebook.\n",
    "\n",
    "Use the following cell for your function. "
   ]
  },
  {
   "cell_type": "code",
   "execution_count": 215,
   "id": "f91f0a3d-9e3c-497c-ab43-96f14e93abfa",
   "metadata": {
    "tags": []
   },
   "outputs": [],
   "source": [
    "# Code cell for Problem 6 - do not delete or modify this line\n",
    "def LeastCostPathDynamicProgramming(m,n,H,V):\n",
    "    C=np.zeros((m+1,n+1))\n",
    "    D=[['' for i in range(n+1)] for j in range(m+1)]\n",
    "    for i in range(1,m+1):\n",
    "        C[i][0]=np.sum([V[c][0] for c in range(i)])\n",
    "        D[i][0]='V'\n",
    "    for j in range(1,n+1):\n",
    "        C[0][j]=np.sum(H[0][0:j])\n",
    "        D[0][j]='H'\n",
    "    for i in range(1,m+1):\n",
    "        for j in range(1,n+1):\n",
    "            if C[i-1][j]+V[i-1][j] <= C[i][j-1]+H[i][j-1]:\n",
    "                C[i][j]=C[i-1][j]+V[i-1][j]\n",
    "                D[i][j]='V'\n",
    "            else:\n",
    "                C[i][j]=C[i][j-1]+H[i][j-1]\n",
    "                D[i][j]='H'\n",
    "    path=[(m,n)]\n",
    "    Path=[]\n",
    "    cost=C[m,n]\n",
    "    while len(path) < m+n+1:\n",
    "        t = path[len(path)-1]\n",
    "        indx=t[0]\n",
    "        indy=t[1]\n",
    "        if D[indx][indy] == 'V':\n",
    "            path.append((indx-1,indy))\n",
    "            Path.append('V')\n",
    "        else:\n",
    "            path.append((indx,indy-1))\n",
    "            Path.append('H')\n",
    "    return np.round(cost,3), Path[::-1]"
   ]
  },
  {
   "cell_type": "markdown",
   "id": "a90b1f3b-8784-4cb5-942f-e0dbfd8d9fd5",
   "metadata": {},
   "source": [
    "**Problem 7 (2 points)**\n",
    "\n",
    "Run the code in the following cell to determine the optimal cost and optimal path in the H1, V1 example. "
   ]
  },
  {
   "cell_type": "code",
   "execution_count": 213,
   "id": "30ff5077-1bac-434c-8486-2ed2268f0383",
   "metadata": {
    "tags": []
   },
   "outputs": [
    {
     "data": {
      "text/plain": [
       "(2.231, ['V', 'H', 'V', 'V', 'H', 'V', 'H'])"
      ]
     },
     "execution_count": 213,
     "metadata": {},
     "output_type": "execute_result"
    }
   ],
   "source": [
    "# Test cell for Problem 7 - do not delete or modify this cell\n",
    "# Do execute it.\n",
    "LeastCostPathDynamicProgramming(4,3,H1,V1)"
   ]
  },
  {
   "cell_type": "markdown",
   "id": "aea32ae5-a260-4ba2-8343-2283fc264340",
   "metadata": {},
   "source": [
    "**Problem 8 (2 points)**\n",
    "\n",
    "Run the code in the following cell to determine the optimal cost and optimal path in the H2, V2 example. \n"
   ]
  },
  {
   "cell_type": "code",
   "execution_count": 222,
   "id": "e8788a6d-65d2-47f5-9442-e2b2953cda6f",
   "metadata": {
    "tags": []
   },
   "outputs": [
    {
     "data": {
      "text/plain": [
       "(4.606, ['H', 'H', 'H', 'H', 'H', 'H', 'V', 'V', 'V', 'V', 'H', 'V', 'H'])"
      ]
     },
     "execution_count": 222,
     "metadata": {},
     "output_type": "execute_result"
    }
   ],
   "source": [
    "# Test cell for Problem 8 - do not delete or modify this cell\n",
    "# Do execute it.\n",
    "\n",
    "LeastCostPathDynamicProgramming(5,8,H2,V2)"
   ]
  },
  {
   "cell_type": "markdown",
   "id": "54ebb5bc-b5c9-4169-8713-ea33c082dcd6",
   "metadata": {},
   "source": [
    "**Problem 9 (2 points)**\n",
    "\n",
    "Run the code in the following cell to determine the optimal cost and optimal path in the H3, V3 example. "
   ]
  },
  {
   "cell_type": "code",
   "execution_count": 218,
   "id": "11282638-99da-4dfc-877c-6027a520ed04",
   "metadata": {
    "tags": []
   },
   "outputs": [
    {
     "data": {
      "text/plain": [
       "(18.138,\n",
       " ['V',\n",
       "  'V',\n",
       "  'V',\n",
       "  'V',\n",
       "  'V',\n",
       "  'H',\n",
       "  'V',\n",
       "  'V',\n",
       "  'H',\n",
       "  'H',\n",
       "  'H',\n",
       "  'H',\n",
       "  'V',\n",
       "  'H',\n",
       "  'V',\n",
       "  'V',\n",
       "  'V',\n",
       "  'V',\n",
       "  'V',\n",
       "  'V',\n",
       "  'V',\n",
       "  'H',\n",
       "  'V',\n",
       "  'V',\n",
       "  'V',\n",
       "  'V',\n",
       "  'H',\n",
       "  'V',\n",
       "  'V',\n",
       "  'H',\n",
       "  'H',\n",
       "  'V',\n",
       "  'H',\n",
       "  'H',\n",
       "  'V',\n",
       "  'V',\n",
       "  'H',\n",
       "  'H',\n",
       "  'V',\n",
       "  'V',\n",
       "  'H',\n",
       "  'H',\n",
       "  'V',\n",
       "  'H',\n",
       "  'V',\n",
       "  'H',\n",
       "  'H',\n",
       "  'H',\n",
       "  'H',\n",
       "  'V',\n",
       "  'V',\n",
       "  'V',\n",
       "  'H',\n",
       "  'H',\n",
       "  'H',\n",
       "  'H',\n",
       "  'H',\n",
       "  'V',\n",
       "  'H',\n",
       "  'V',\n",
       "  'H',\n",
       "  'V',\n",
       "  'V',\n",
       "  'V',\n",
       "  'V',\n",
       "  'H',\n",
       "  'V',\n",
       "  'H',\n",
       "  'V',\n",
       "  'V'])"
      ]
     },
     "execution_count": 218,
     "metadata": {},
     "output_type": "execute_result"
    }
   ],
   "source": [
    "# Test cell for Problem 9 - do not delete or modify this cell\n",
    "# Do execute it.\n",
    "LeastCostPathDynamicProgramming(40,30,H3,V3)"
   ]
  },
  {
   "cell_type": "markdown",
   "id": "b3e32387-5408-4775-b60a-ba5b0a886a20",
   "metadata": {},
   "source": [
    "**Problem 10 (2 points)**\n",
    "\n",
    "Run the code in the following cell to determine the optimal cost in the H4, V4 example. \n",
    "\n",
    "**You should not modify the cell - just run it.**"
   ]
  },
  {
   "cell_type": "code",
   "execution_count": 219,
   "id": "0871d8d0-1ed2-42ad-98ef-85a07c789ec0",
   "metadata": {
    "tags": []
   },
   "outputs": [
    {
     "data": {
      "text/plain": [
       "167.42"
      ]
     },
     "execution_count": 219,
     "metadata": {},
     "output_type": "execute_result"
    }
   ],
   "source": [
    "# Test cell for Problem 10 - do not delete or modify this cell\n",
    "# Do execute it.\n",
    "LeastCostPathDynamicProgramming(400,300,H4,V4)[0]"
   ]
  },
  {
   "cell_type": "markdown",
   "id": "cc482252-0395-496b-b7e6-0035eac10dc8",
   "metadata": {},
   "source": [
    "**Problem 11 (2 points)**\n",
    "\n",
    "Run the code in the following cell to determine the optimal cost in the H5, V5 example. \n",
    "\n",
    "**You should not modify the cell - just run it.**"
   ]
  },
  {
   "cell_type": "code",
   "execution_count": 220,
   "id": "dd854caf-1079-4dc1-b51e-a5bf51e16773",
   "metadata": {
    "tags": []
   },
   "outputs": [
    {
     "data": {
      "text/plain": [
       "419.763"
      ]
     },
     "execution_count": 220,
     "metadata": {},
     "output_type": "execute_result"
    }
   ],
   "source": [
    "# Test cell for Problem 11 - do not delete or modify this cell\n",
    "# Do execute it.\n",
    "LeastCostPathDynamicProgramming(800,1000,H5,V5)[0]"
   ]
  },
  {
   "cell_type": "code",
   "execution_count": null,
   "id": "0ea39dc1-4f22-4ad9-abbe-b5dbadcbaef7",
   "metadata": {},
   "outputs": [],
   "source": []
  }
 ],
 "metadata": {
  "kernelspec": {
   "display_name": "Python 3 (ipykernel)",
   "language": "python",
   "name": "python3"
  },
  "language_info": {
   "codemirror_mode": {
    "name": "ipython",
    "version": 3
   },
   "file_extension": ".py",
   "mimetype": "text/x-python",
   "name": "python",
   "nbconvert_exporter": "python",
   "pygments_lexer": "ipython3",
   "version": "3.10.9"
  }
 },
 "nbformat": 4,
 "nbformat_minor": 5
}
