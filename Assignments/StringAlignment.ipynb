{
 "cells": [
  {
   "cell_type": "markdown",
   "id": "20a8463f-eddf-4eca-8ffb-69af335bd183",
   "metadata": {},
   "source": [
    "**String Alignment as a Maximum Scoring Path Problem**\n",
    "\n",
    "Make sure you read the supplementary pdf document in Canvas.\n",
    "\n",
    "In the previous homework, you learned about the use of dynamic programming to solve the least cost path problem. In this assignment we explore how the same method can be used to align strings. The string alignment problem is very useful in a variety of contexts in including but certainly not limited to\n",
    "\n",
    "- bioinformatics - comparing DNA or RNA strings\n",
    "- plagiarism detection - comparing two documents for similarity\n",
    "\n",
    "We will focus on the following problem. We start with \n",
    "\n",
    "- a fixed alphabet of available characters, all assumed to be non-white space characters for simplicity.\n",
    "- a special non-white space character that is not in the alphabet that we will use for a special purpose to be described below.\n",
    "\n",
    "In the following example, we take the alphabet to be the four character set {A,C,G, T} and the special character to be the equal sign character (=).\n",
    "\n",
    "When are given a pair of strings formed from the alphabet to be aligned. For example\n",
    "\n",
    "string1 = AAAGTCCAGCTA\n",
    "\n",
    "and\n",
    "\n",
    "string2 = AAGTCCCGGGCTA\n",
    "\n",
    "These strings **do not** have to be of the same length.\n",
    "\n",
    "An alignment will refer to a new pair of strings astring1 and astring 2 with the following rules:\n",
    "\n",
    "\n",
    "- astring1 is obtained from string1 by *possibly* inserting the special character in some position(s) (possibly at the beginning or end of string1).\n",
    "- astring2 is obtained from string2 by *possibly* inserting the special character in some position(s)(possibly at the beginning or end of string1).\n",
    "- astring1 and astring2 are the same length\n",
    "- if the special character character appears in positon i of astring1 then it cannot appear in position i of astring2\n",
    "- if the special character character appears in positon i of astring2 then it cannot appear in position i of astring1\n",
    "\n",
    "For the above example, a possible alignment could be\n",
    "\n",
    "$\\verb+astring1: AAA=GTCCAG==CTA+$ <br>\n",
    "$\\verb+astring2: AAGT==CCCGGGCTA+$"
   ]
  },
  {
   "cell_type": "markdown",
   "id": "78b34ae3-e02e-42de-ac3e-f0629cbbee0b",
   "metadata": {},
   "source": [
    "**Problem 1 (5 points)**\n",
    "\n",
    "If we have an alignment (astring1 and astring2) of two strings (string1 and string1) that satisfies the rules of an alignment based on a special insertion character, there is a simple way to determine string1 from astring1 (and string1 from astring2).\n",
    "\n",
    "Write a function called **GetStringFromAlignmentString** that takes as input \n",
    "\n",
    "- **Ichar** = the insertion character\n",
    "- **astring** = a string that has some non special insertion characters and possibly some occurences of the special insertion character,\n",
    "\n",
    "and which gives as output\n",
    "\n",
    "- **string** = the string obtained by removing all occurences of the special insertion character from astring.\n",
    "\n",
    "**Your function can be written using a single line of code after the def line - full credit will only be given if you give a version with this property.**\n",
    "\n",
    "**You are not allowed to use semicolons to get the code into one line.**\n",
    "\n",
    "Use the following cell for your code."
   ]
  },
  {
   "cell_type": "code",
   "execution_count": 1,
   "id": "c6e339de-57ba-4e48-bb74-b88aab5df650",
   "metadata": {
    "tags": []
   },
   "outputs": [],
   "source": [
    "# Code cell for Problem 1 - do not delete or modify this line\n",
    "def GetStringFromAlignmentString(Ichar,astring):\n",
    "    #return ''.join(astring.split(Ichar))\n",
    "    return astring.replace(Ichar,'')"
   ]
  },
  {
   "cell_type": "code",
   "execution_count": 2,
   "id": "ec05a19c-56c3-4023-a032-bdfef9a2acc4",
   "metadata": {
    "tags": []
   },
   "outputs": [
    {
     "data": {
      "text/plain": [
       "'ABCDEFGHIJ'"
      ]
     },
     "execution_count": 2,
     "metadata": {},
     "output_type": "execute_result"
    }
   ],
   "source": [
    "# Test cell for Problem 1 - do not modify this cell\n",
    "# Do execute it.\n",
    "GetStringFromAlignmentString(\"_\",\"_AB_CDE_FGH_IJ_\")"
   ]
  },
  {
   "cell_type": "markdown",
   "id": "dcc90532-9719-46af-9eae-f3164ec27701",
   "metadata": {},
   "source": [
    "**Problem 2 (15 points)**\n",
    "\n",
    "Write a function called **CheckAlignment** that takes as input\n",
    "\n",
    "- **string1** = first input string \n",
    "- **string2** = second input string\n",
    "- **Ichar** = special insertion character (not in the string alphabet)\n",
    "- **astring1** = an alignment string obtained from string 1\n",
    "- **astring2** = an alignment string obtained from string 2\n",
    "\n",
    "and which checks whether or not the alignment strings satisfy the alignment rules given above.\n",
    "\n",
    "This function assumes that the input strings \n",
    "\n",
    "- have positive length, and \n",
    "- use characters only from the alphabet and no insertion characters.\n",
    "\n",
    "**result** = a dictionary with the the following key/value pairs\n",
    "\n",
    "> (\"rules_satisfied\", True/False), where True means the rules are satisfied and False means they are not satisfied\n",
    "\n",
    "> (\"same_length\",True/False), where True means the alignment strings are the same length and False means they are not\n",
    "\n",
    "> (\"correct1\",True/False), where True means that astring1 is obtained from string1 by possibly (but not necesarily) adding an insertion character in some position(s) of string1, and False means it is not.\n",
    "\n",
    "> (\"correct2\",True/False), where True means that astring2 is obtained from string2 by possibly (but not necesarily) adding an insertion character in some position(s) of string2, and False means it is not.\n",
    "\n",
    "> (\"no_insertion_violations\",True/False), where True means that  there are no instances in which both alignment strings have an insertion character in the same position. Note - if the alignment strings are of different lengths, you should only check the positions in which comparison of characters is possible. In other words, only check positions  from 0 to the minimum of the two alignment string lengths.\n",
    "\n",
    "**This function will be used in Problem 3 so make sure you get it right.**\n",
    "\n",
    "Your function **should be completely self-contained** meaning that no packages can be imported, and no variables or functions can be defined outside of your function.\n",
    "\n",
    "In particular, your function **is not allowed to use a call of the function in Problem 1.** \n",
    "\n",
    "Use the following cell for your code.\n"
   ]
  },
  {
   "cell_type": "code",
   "execution_count": 3,
   "id": "90f03c74-7e9d-487f-8b54-c58362874ca3",
   "metadata": {
    "tags": []
   },
   "outputs": [],
   "source": [
    "# Code cell for Problem 2 - do not modify or delete this line\n",
    "def CheckAlignment(string1, string2,  Ichar, astring1, astring2):\n",
    "    dict={}\n",
    "    dict[\"same_length\"]=(len(astring1)==len(astring2))\n",
    "    dict[\"correct1\"]=(astring1.replace(Ichar,'')==string1)\n",
    "    dict[\"correct2\"]=(astring2.replace(Ichar,'')==string2)\n",
    "    m=min(len(astring1),len(astring2))\n",
    "    dict[\"no_insertion_violations\"]=True\n",
    "    #for i in range(m):\n",
    "    #     if astring1[i]==astring2[i] and astring1[i]==Ichar:\n",
    "    #        dict[\"no_insertion_violations\"]=False\n",
    "            \n",
    "    l1=set([i for i, c in enumerate(astring1) if c == Ichar])\n",
    "    l2=set([i for i, c in enumerate(astring2) if c == Ichar])\n",
    "    dict[\"no_insertion_violations\"]=len(l1.intersection(l2)) == 0\n",
    "    dict[\"rules_satisfied\"]=not False in dict.values()\n",
    "    return dict"
   ]
  },
  {
   "cell_type": "code",
   "execution_count": 4,
   "id": "0e76f0fe-010d-4afd-a4da-2c317bfe1266",
   "metadata": {
    "tags": []
   },
   "outputs": [
    {
     "name": "stdout",
     "output_type": "stream",
     "text": [
      "AVTHPDZTKZ\n",
      "TTZQIUCBYHGG\n",
      "AVTH_PD__Z_TK_Z\n",
      "TTZQIUC__BY_HGG\n",
      "{'same_length': True, 'correct1': True, 'correct2': True, 'no_insertion_violations': False, 'rules_satisfied': False}\n"
     ]
    }
   ],
   "source": [
    "# Test cell1 for Problem 2 - do not delete or modify this cell\n",
    "# Do execute it.\n",
    "import numpy as np\n",
    "np.random.seed(189)\n",
    "alphabet=[chr(i) for i in range(65,91)]\n",
    "n1=10\n",
    "n2=12\n",
    "m=15\n",
    "Ichar=\"_\"\n",
    "string1=\"\".join(list(np.random.choice(alphabet,size=n1)))\n",
    "string2=\"\".join(list(np.random.choice(alphabet,size=n2)))\n",
    "print(string1)\n",
    "print(string2)\n",
    "astring1=[string1[i] for i in range(len(string1))]\n",
    "astring2=[string2[i] for i in range(len(string2))]\n",
    "for i in range(m-n1):\n",
    "    pos=np.random.choice(range(len(astring1)+1))\n",
    "    astring1.insert(pos,Ichar)\n",
    "for i in range(m-n2):\n",
    "    pos=np.random.choice(range(len(astring2)+1))\n",
    "    astring2.insert(pos,Ichar)\n",
    "astring1=\"\".join(astring1)\n",
    "astring2=\"\".join(astring2)\n",
    "print(astring1)\n",
    "print(astring2)\n",
    "res=CheckAlignment(string1, string2, Ichar, astring1, astring2)\n",
    "print(res)\n"
   ]
  },
  {
   "cell_type": "code",
   "execution_count": 5,
   "id": "40041b7e-5a4c-4676-a4d1-149b95071fa7",
   "metadata": {
    "tags": []
   },
   "outputs": [
    {
     "name": "stdout",
     "output_type": "stream",
     "text": [
      "CHZWLIZIXZUU\n",
      "YGZRBCHIAVXWN\n",
      "CHZWLIZIX__ZUU\n",
      "YGZRBCH_IAV_XWN\n",
      "{'same_length': False, 'correct1': True, 'correct2': True, 'no_insertion_violations': True, 'rules_satisfied': False}\n"
     ]
    }
   ],
   "source": [
    "# Test cell2 for Problem 2 - do not delete or modify this cell\n",
    "# Do execute it.\n",
    "import numpy as np\n",
    "np.random.seed(192)\n",
    "alphabet=[chr(i) for i in range(65,91)]\n",
    "n1=12\n",
    "n2=13\n",
    "m1=14\n",
    "m2=15\n",
    "Ichar=\"_\"\n",
    "string1=\"\".join(list(np.random.choice(alphabet,size=n1)))\n",
    "string2=\"\".join(list(np.random.choice(alphabet,size=n2)))\n",
    "print(string1)\n",
    "print(string2)\n",
    "astring1=[string1[i] for i in range(len(string1))]\n",
    "astring2=[string2[i] for i in range(len(string2))]\n",
    "for i in range(m1-n1):\n",
    "    pos=np.random.choice(range(len(astring1)+1))\n",
    "    astring1.insert(pos,Ichar)\n",
    "for i in range(m2-n2):\n",
    "    pos=np.random.choice(range(len(astring2)+1))\n",
    "    astring2.insert(pos,Ichar)\n",
    "astring1=\"\".join(astring1)\n",
    "astring2=\"\".join(astring2)\n",
    "print(astring1)\n",
    "print(astring2)\n",
    "res=CheckAlignment(string1, string2, Ichar, astring1, astring2)\n",
    "print(res)"
   ]
  },
  {
   "cell_type": "code",
   "execution_count": 6,
   "id": "a60da765-aa79-4116-aa70-8e99b715bd59",
   "metadata": {
    "tags": []
   },
   "outputs": [
    {
     "name": "stdout",
     "output_type": "stream",
     "text": [
      "RDGFBEO_UYTMUHPDCIYCMTPQFVDTMSXEOBNA_JDAAXVGUQ_NJFKRNAFJTAKWN_GWGWFDKKEBLYDGPRBWQXVTQADGRWBWYSIYSDVZPQLCK_ZPKEJWF_C_SJZJEVFKDIGFMUQSYUEIZ_MCZD_BYG_H_S_OIARAAIKOUSTQFTZJGSHRMWLSQSSKKYVZ_TMBKMQOKIHEPHP_XKXARNYNYRLBEU_AWNFVJKNHRCEOUHEAERARJBYWYUWGGASMEINCTLZUJGUCVRDWMNNRDHF_HSPWPCVBVCQSGSGPHANABGXBEEDUH_NJRMFODBKAAKKIS_JTXWPNWCISUACRPUCDGCFSFZIXZJGZZZTPOWRMCXAVBTDDNSDYQSTKCRDAFROPQNSZSINZ_Z_WAKWW_XPYZLVYDXA_ZXMNGETLLIPRSFHXVUQMAGJVNJGM_TL_GBILGXXOOATKFPENDUXUFYWPLNEOUQDGZG_ICLCOTN_MMMVKQ_EJIFAJRGRSLIMFYVMPVYNNRZRDSMRH_FBDUWYDBPEDX_GKTQJJTSCOGXTH_AMCTNZUN_TMWOOR_LBQSRYTLRXPJOWFLRYNVHAAUUYLK_IOQSLUJOJYZUHQCWTMDULBCDJBGYDAWUR_NKPB_BTNR_OTAHGIQDFZHXBQPTFEDGBFVAHMJTUNZVXYYRJ_MRWLONKHCKOKBTFLV_OYFTJYSTOJRZKLVPAWEDGTHGWHHBJSXBEFUFDTFFCRT__TQPWMPA_WJN_SBQMMZGY_XKGALLVVNKWI_NN_ZHLDAUVZZMK_FRMIOIA_DGPALU_PEWY_QVMVQINIKCAQWSYMDXEWTTRJ__LGPBII_ITOLH_COCPDA_QC_DEIPPDKTVLBYATNFAFMRNMDUBS_ZYUO_KRUHTAXVAFWJVYG_UEZZCYT_OERZETHGAQ_EB_SVLDGBNRKVE_WYKPHHVP_DYXEU_JGOMOGEPA_JYPXJPECMFDMWSMEMDPPKS_JOAESDZJQ_YVPTRJSZFXY_OAAATTQPE_OFDHSQNGGST_RMPIOVAENSKYGGZWRICZGWPS_JXHMCNN___KIRDWVDU_\n",
      "KN_SYHJMFYULUATCBJPXOAS_NOUFIQWULWDDZZWXQVIKHTBENPCWYRE_SONPJLWIZOLVVRBXTWNYWZCOFCNUWHDDSZKEUQFBBMTFRDLADFGAWJCENUHVTCEKLKLUYDRZNYGEIURZMJMCEOMPPTQYGDMQOCQPPEZVNMYTIPVCQUEENHMTBADSRLVURZQNDFXKEX_LSUUIDCTBAUZYMXVGANIHSYXFEYOKEHGEWTRIAVBTGDISGITMDOHHMMJVMRTZMWPCAPGSOBCZFLDHNVBNCDZLVPPTJDMEWDSZNHRQIGTWBYOZCDZNWGLLJQGKJDFXUWVUCQTTSINQYPSJVDAGMVYBXLREMDZ_UNCKCVAFQESVIRBRYN_CWDFLRPKJKHEYUJDWEAKLECIBIOAQAOAWLNAADEWCS_XDWZGQUUCAXHDV_IEXESBBXLAWL_STXUKOMJALAK_YYHXMSTCWJRUO_OCWUUJFQH_RXLMMENEINGTAONYSUVBGQIARDBGDTGKQQVWUOROIBHGPVCYWHRPWRKUQHBVUHII_YFVNRLBTCNDJXDHGKANJPHTUNJZXNJIGAAPSDPPFJIFWENVQTGJDTTZTOXDQBOOOIY_BCWOEUVFLDBBTSDGVADNTBGDUYSJASUJMZKMND_APDAGLMWUQCQDFAMWUSMVAWWWRKMGLOZPK_JPTTIWJUBAIUFXIG__BOBJRWMXWQEXQKJYPYUXXEELOBEJKMIDUTVEQZFOREUNUSFOHTQGMOZMXOLRGCIINZHOWWQEY_KGKJHHOSUCQQWLRQCWUFUCXRTRUQUAPCIGCYMXZMCPFONNLDAGXRFJLPXJWKEARWGBBNCPONDYEGVSSQYPDGQAFZZYTCDBMFRLRBNLPYMFAE_OKEDIPTQX_ETQISORXVPYKEZGNXKTL_PFSPCSPRIFIS_HYMKZBHLOOUHDC_AOBHNKSIMMHVVINRQYMHYRQSMBRYKCZKYCTRNOJSGTNKVOTULBYEGZBYAVAXIDMXIUXSVOGVWIDAIZNFLCWPWCVBRTAGPYJCXTBXWVWFCT_JPDGYEMCJLRSEKOFSDEQFMD\n",
      "{'same_length': True, 'correct1': True, 'correct2': True, 'no_insertion_violations': True, 'rules_satisfied': True}\n"
     ]
    }
   ],
   "source": [
    "# Test cell3 for Problem 2 - do not delete or modify this cell\n",
    "# Do execute it.\n",
    "import numpy as np\n",
    "np.random.seed(191)\n",
    "alphabet=[chr(i) for i in range(65,91)]\n",
    "\n",
    "n1=1000\n",
    "n2=1050\n",
    "m=1075\n",
    "Ichar=\"_\"\n",
    "string1=\"\".join(list(np.random.choice(alphabet,size=n1)))\n",
    "string2=\"\".join(list(np.random.choice(alphabet,size=n2)))\n",
    "astring1=[string1[i] for i in range(len(string1))]\n",
    "astring2=[string2[i] for i in range(len(string2))]\n",
    "for i in range(m-n1):\n",
    "    pos=np.random.choice(range(len(astring1)+1))\n",
    "    astring1.insert(pos,Ichar)\n",
    "for i in range(m-n2):\n",
    "    pos=np.random.choice(range(len(astring2)+1))\n",
    "    astring2.insert(pos,Ichar)\n",
    "astring1=\"\".join(astring1)\n",
    "astring2=\"\".join(astring2)\n",
    "print(astring1)\n",
    "print(astring2)\n",
    "res=CheckAlignment(string1, string2, Ichar, astring1, astring2)\n",
    "print(res)\n"
   ]
  },
  {
   "cell_type": "code",
   "execution_count": 7,
   "id": "fd9ee1cd-3eb0-4b2a-bf53-74c883b409d4",
   "metadata": {
    "tags": []
   },
   "outputs": [
    {
     "name": "stdout",
     "output_type": "stream",
     "text": [
      "RDGFBEOUYTMUHPDCIYCMTPQFVDTMSXEOBNAJDAAXVGUQNJFKRNAFJTAKWNGWGWFDKKEBLYDGPRBWQXVTQADGRWBWYSIYSDVZPQLCKZPKEJWFCSJZJEVFKDIGFMUQSYUEIZMCZDBYGHSOIARAAIKO_USTQFTZJGSHRMWLSQSSKKYVZTMBKMQOKIHEPHPXKXARNYNYRL_BEUAWNFVJKNHRCEOUHEAERARJBYWYUWGGASMEINCTLZUJGUCVRDWMNNRDHFHSPWPCVBVCQSGSGPHANABGXBEEDUHNJRMFODBKAA_KKISJTXWPNWCISUACRPUCDGCFSFZIXZJGZZZTPOWRMCXAVBTDDNSDYQSTKCRDAFROPQNSZSINZZWAKWWXPYZLVTYDXAZXM_NGETLLIPRSFHXVUQMAGJVNJGMTLGBILGXXOOA__TKFPENDUXUFYWPLNEOUQDGZGICLCOTNMMMVKQEJIFAJ_RGRSLIMFYV_MPVYNNRZRDSMRHFBDUWYDBPEDX_GKTQJJTSCOGXTHAMCTNZUNTMWOORLBQSRYTLRXPJOWFLRYNVHAAUUYLKIOQSLUJOJYZUHQCWTMDULBCDJBGYDAWURNKPBBTNROTAHGIQDFZHXBQPTFEDGBFVAHMJTUNZVXYYRJMRWLONKHCKOKBTFLVOYFTJYSTOJRZKLVPAWEDGTHGWHHBJSXBEFUFDTFFCRTTQPWMPAWJNSBQMMZGYXKGALLVVNKWINNZHLDAUVZZMKFRMIOIADGPALUPEWYQVMVQINIKCAQWSYMD_XEWTTRJL_GPBI_IITOLHCOCPDAQCDEI_PPDKTVLBYATNFAFMRNMDUBSZYUOKRUHTA_XVAFWJVYGUEZZCYTOERZETHGAQEBSVLDGB_NRKVEWYKPHHVPDYXEUJGOM_OGEPAJYPXJPECMFDMWSMEMDPPKSJOAESDZJQYVPTRJSZFXYOAAATTQPEOFDHSQNGGSTRMPIOVAENSKYGGZWRICZGWPSJXHM_CNNKIRDWV_DUKNSYHJMFYULUATCBJPXOASNOUFIQWULWDDZZWXQV_\n",
      "IKHTBENPCWYRESONPJLWIZ_OLVVRBXTWNYWZCOFCNUWHDDSZKEUQFBBMTFRDLADFGAWJCENUHVTCEKLKLUYDRZNYGEIURZMJMCEOMPPTQYGDMQOCQPPEZVNMYTIPVCQUEENHMTBADS_RLVURZQNDFXKEXLSUUIDCTBAUZYMXVGANIHSYXFEYOKEHGEWTRIAV_BTGDISGITMDOHHMMJVMRTZMWPCAPGSOBCZFLDHNVBNCDZLVPPTJDMEWDSZNHRQIGTWBYOZCDZNWGLLJQGKJDFXUWVUCQTTSINQYPSJVDAGMVYBXLREMDZUNCKCVAFQESVIRBRYNCWDFLRPKJKHEYUJDWEAKL_ECIBIOAQAOAWLNAADEWCSXDWZGQUUCAXHDVIEXESBBXLAWLSTXUKOMJALAKYYHXMSTCWJRUOOC_WUUJFQHRXLMMENEINGTAONYS_UVBGQIARDBGDTGKQQVWUOROIBHGPVCYWHRPWRKUQHBVUHIIYFVNRLBTCNDJXDHGKANJPHTUNJZXNJIGAAPSDPP_FJIFWENVQTGJDTTZTOXDQBOOOIYBCWOEUVFLDBBTSDGVADNTBGDUYSJASUJMZKMNDAPDAGLMWUQCQDFAMWUSMVAWWWRKMGLOZPKJPTTI_WJUBAIUFXIGBOBJRWMXWQEXQKJYPYUXXEELOBEJKMIDUTVEQZFOREUNUSFOHTQGMOZMXOLRGCIINZHOWWQEYKGKJHHOSUCQQWLRQCWUFUCXRTRUQUAPCIGCYMXZMCPFONNLDAGXRFJLPXJWKEARWGBBNCPONDYEGVSSQYPDGQAFZZYTCDBMFRLRBNLPYMFAEOKEDIPTQXETQISORXVPYKEZGNXKTLPFSPCSPRIFISHYMKZBHLOOUHDCAOBHNKSIMMHVVINRQYMHYRQSM_BRYKCZKYCTRNOJ_SGTNKVOTULBYEGZBYAVAXIDMXIUXSVOGVWIDAIZNFLCWPWCVBRTAGPYJCXTBXWVWFCTJPDGYEMCJLRSEKOFSDEQFMDGYHEUXVCFLWMZTMDKONZQXMSFOJNDKJRTPKYVDJS\n",
      "{'same_length': True, 'correct1': False, 'correct2': True, 'no_insertion_violations': True, 'rules_satisfied': False}\n"
     ]
    }
   ],
   "source": [
    "# Test cell4 for Problem 2 - do not delete or modify this cell\n",
    "# Do execute it.\n",
    "import numpy as np\n",
    "np.random.seed(191)\n",
    "alphabet=[chr(i) for i in range(65,91)]\n",
    "n1=1040\n",
    "n2=1050\n",
    "m=1060\n",
    "Ichar=\"_\"\n",
    "string1=\"\".join(list(np.random.choice(alphabet,size=n1)))\n",
    "string2=\"\".join(list(np.random.choice(alphabet,size=n2)))\n",
    "astring1=[string1[i] for i in range(len(string1))]\n",
    "astring2=[string2[i] for i in range(len(string2))]\n",
    "for i in range(m-n1):\n",
    "    u=np.random.uniform(0,1)\n",
    "    pos=np.random.choice(range(len(astring1)+1))\n",
    "    if u>.1:\n",
    "        astring1.insert(pos,Ichar)\n",
    "    else:\n",
    "        astring1.insert(pos,\"T\")\n",
    "for i in range(m-n2):\n",
    "    pos=np.random.choice(range(len(astring2)+1))\n",
    "    astring2.insert(pos,Ichar)\n",
    "astring1=\"\".join(astring1)\n",
    "astring2=\"\".join(astring2)\n",
    "print(astring1)\n",
    "print(astring2)\n",
    "res=CheckAlignment(string1, string2, Ichar, astring1, astring2)\n",
    "print(res)"
   ]
  },
  {
   "cell_type": "markdown",
   "id": "066f1bc2-64ba-4b4e-86f7-81d0ef5a6f5b",
   "metadata": {},
   "source": [
    "**Scoring an Alignment**\n",
    "\n",
    "We're interested in finding a best alignment and for this we need to start with a **scoring system** which is a score obtained by summing over all positions of astring1 and astring2 of \n",
    "\n",
    "- the score $s_M$  of a mismatch i.e. when the character in astring1 and astring2 are from the alphabet but are different characters \n",
    "\n",
    "- the score of $s_I$ an insertion, i.e. when the character in one of the strings is the special character and the character in the other string is from the alphabet \n",
    "\n",
    "- the score $s_P$ the score of a perfect match, i.e. when the characters in the position are the same alphabetic character \n",
    "\n",
    "For example, if we assume $s_M=-2,$ $s_I=-1,$ and $s_P=3.$ In the alignment \n",
    "\n",
    "$\\verb+astring1: AAA=GTCCAG==CTA+$ <br>\n",
    "$\\verb+astring2: AAGT==CCCGGGCTA+$\n",
    "\n",
    "we have the following\n",
    "\n",
    "$$\n",
    "\\begin{array}{ccccc}\n",
    "\\mbox{position} & \\mbox{astring1} & \\mbox{astring2} & \\mbox{property} & \\mbox{score} \\\\ \\hline\n",
    "0 & A & A & \\mbox{perfect match} & 3 \\\\\n",
    "1 & A & A& \\mbox{perfect match} & 3 \\\\\n",
    "2 & A & G & \\mbox{mismatch} & -2 \\\\\n",
    "3 & = & T & \\mbox{insertion} & -1 \\\\\n",
    "4 & G & = & \\mbox{insertion} & -1 \\\\\n",
    "5 & T & = & \\mbox{insertion} & -1 \\\\\n",
    "6 & C & C & \\mbox{perfect match} & 3 \\\\\n",
    "7 & C & C& \\mbox{perfect match} & 3 \\\\\n",
    "8 & A & C& \\mbox{mismatch} & -2 \\\\\n",
    "9 & G & G& \\mbox{perfect match} & 3 \\\\\n",
    "10 &= & G& \\mbox{insertion} & -1 \\\\\n",
    "11 &= & G& \\mbox{insertion} & -1 \\\\\n",
    "12 & C& C & \\mbox{perfect match} & 3 \\\\\n",
    "13 &T & T &\\mbox{perfect match} & 3 \\\\\n",
    "14 &A & A& \\mbox{perfect match} & 3 \\\\ \\hline\n",
    "\\end{array} \n",
    "$$\n",
    "\n",
    "There are 8 perfect matches, 2 mismatches and 5 insertions making the total score \n",
    "\n",
    "$$\n",
    "8 \\times 3+ 2\\times (-2) + 5 \\times (-1) = 24 - 4 -5 = 15.\n",
    "$$"
   ]
  },
  {
   "cell_type": "markdown",
   "id": "64428245-4c33-4b92-86c6-7319084f4cac",
   "metadata": {},
   "source": [
    "**Problem 3 (15 points)**\n",
    "\n",
    "We need a function to compute scores. Write a function called **AlignmentScore** that takes as input:\n",
    "\n",
    "- **sM** = score of a mismatch\n",
    "- **sI** = score of an insertion\n",
    "- **sP** = score of a perfect match\n",
    "- **Ichar** = special character (not in the alphabet used for input strings) for representing insertions in an alignment\n",
    "- **astring1** = alignment string 1 \n",
    "- **astring2** = alignment string 2\n",
    "\n",
    "and gives as output **result**, which is a tuple of size 1 or 5.\n",
    "\n",
    "If astring1 and astring2 do not satisfy the rules for the alignment of a pair of strings then \n",
    "result should be the 1-tuple **(False,).**\n",
    "\n",
    "If astring1 and astring2 do satisfy the rules for the alignment of a pair of strings then \n",
    "result should be the 5-tuple **(False, nM, nI, nP, score)** where\n",
    "\n",
    "- **nM** = the number of mismatches of non special characters\n",
    "- **nI** = the number of times a non special character in one string is matched with the special insertion character\n",
    "- **nP** = the number of perfect matches\n",
    "- **score** = the score of the alignment\n",
    "\n",
    "**Your function should make use of the function in Problem 2, but otherwise should be self-contained**\n",
    "\n",
    "Use the following cell for your code."
   ]
  },
  {
   "cell_type": "code",
   "execution_count": 8,
   "id": "1f1c1924-bb69-43c8-a5ea-b94de0e1e3a8",
   "metadata": {
    "tags": []
   },
   "outputs": [],
   "source": [
    "# Code cell for Problem 3 - do not remove or modify this line.\n",
    "def AlignmentScore(sM,sI,sP,Ichar,astring1,astring2):\n",
    "    str1 = GetStringFromAlignmentString(Ichar,astring1)\n",
    "    str2 = GetStringFromAlignmentString(Ichar,astring2)\n",
    "    res=CheckAlignment(str1, str2, Ichar, astring1, astring2)\n",
    "    if not res['rules_satisfied']:\n",
    "        return (False,)\n",
    "    k=len(astring1)\n",
    "    nM=0\n",
    "    nI=0\n",
    "    nP=0\n",
    "    for i in range(k):\n",
    "        if astring1[i]==astring2[i]:\n",
    "            nP += 1\n",
    "        elif Ichar in [astring1[i], astring2[i]]:\n",
    "            nI += 1\n",
    "        else:\n",
    "            nM += 1\n",
    "    score = sM*nM+sI*nI+sP*nP\n",
    "    return (True, nM, nI, nP, score)"
   ]
  },
  {
   "cell_type": "code",
   "execution_count": 10,
   "id": "17e02e6b-956d-4e84-a836-38dc8bc5b26e",
   "metadata": {
    "tags": []
   },
   "outputs": [
    {
     "name": "stdout",
     "output_type": "stream",
     "text": [
      "CCTG_GGGG_\n",
      "_CCTAGG__T\n",
      "(True, 2, 5, 3, 6)\n"
     ]
    }
   ],
   "source": [
    "# Test cell1 for Problem 3 - do not delete or modify this cell\n",
    "# Do execute it.\n",
    "import numpy as np\n",
    "np.random.seed(18391)\n",
    "sM=-2\n",
    "sI=-1\n",
    "sP=5\n",
    "Ichar=\"_\"\n",
    "n=10\n",
    "astring1=np.random.choice([\"A\",\"C\",\"G\",\"T\"],size=n)\n",
    "astring2=np.random.choice([\"A\",\"C\",\"G\",\"T\"],size=n)\n",
    "p=np.random.choice(range(n),size=5)\n",
    "for i in p[0:2]:\n",
    "    astring1[i]=\"_\"\n",
    "for i in p[2:5]:\n",
    "    astring2[i]=\"_\"\n",
    "astring1=\"\".join(astring1)\n",
    "astring2=\"\".join(astring2)\n",
    "res=AlignmentScore(sM,sI,sP,Ichar,astring1,astring2)\n",
    "print(astring1)\n",
    "print(astring2)\n",
    "print(res)\n"
   ]
  },
  {
   "cell_type": "code",
   "execution_count": 11,
   "id": "78bf26d8-a141-41af-894a-51fc7771086e",
   "metadata": {
    "tags": []
   },
   "outputs": [
    {
     "name": "stdout",
     "output_type": "stream",
     "text": [
      "AATAA_GCAACAGGAAAGACTCAAGAACAAT_CTTAG_CAGTACAAGTACGAGAAATGCCAGCCTGGACGACCCACAATACATTAAAAAACCCAAGGGAGCACCGACAACGCAAACACGACC_ACGGGGCCAA__AGAAAGTCGCACGCTGGAGAATGCCATGAGACCAACCCAAGAACCCATGACCAGGCCGCACACACCTCGCCGAATCAAAGCCGCAACCCGGAATAATAATCGAAGGAAATACAATAACACGGCCCCTAGCGACAGCAACGGAGAAAACGTACGAGTCCAATGCCA\n",
      "ATCACTGACTGAGGGCCCTCGACACAATGAAAAGCAAATTGAGGGACCGCGA_GCCGTAATCCTTACGCCGTCTGATGCTATCCCACCTGACGAAGGAAACAGAAATAACACACCAGAGGATGCAACTATCC_ACGAGACACAAGCGCAAACCAACCATACATCATACA_ACACGAGCGAGCAAGACGAAATTCAAGCCAACCAATAACCGCAGACCACCGATCAACCGCACAGCACGAGAAAGACCACATGGAAAAAAACGCCCCGACTTAATG_CGAAAGCGAGGCATGTTGCGACCA\n",
      "(True, 212, 10, 78, 112)\n"
     ]
    }
   ],
   "source": [
    "# Test cell2 for Problem 3 - do not delete or modify this cell\n",
    "# Do execute it.\n",
    "import numpy as np\n",
    "np.random.seed(18391)\n",
    "sM=-2\n",
    "sI=-1\n",
    "sP=7\n",
    "Ichar=\"_\"\n",
    "n=300\n",
    "astring1=np.random.choice([\"A\",\"C\",\"G\",\"T\"],size=n,p=[.4,.3,.2,.1])\n",
    "astring2=np.random.choice([\"A\",\"C\",\"G\",\"T\"],size=n,p=[.4,.3,.2,.1])\n",
    "p=np.random.choice(range(n),size=10)\n",
    "for i in p[0:6]:\n",
    "    astring1[i]=\"_\"\n",
    "for i in p[6:10]:\n",
    "    astring2[i]=\"_\"\n",
    "astring1=\"\".join(astring1)\n",
    "astring2=\"\".join(astring2)\n",
    "print(astring1)\n",
    "print(astring2)\n",
    "res=AlignmentScore(sM,sI,sP,Ichar,astring1,astring2)\n",
    "print(res)\n"
   ]
  },
  {
   "cell_type": "markdown",
   "id": "32aa5a68-996c-4337-b9f9-c1dc60eeba46",
   "metadata": {},
   "source": [
    "**Distinct Permutations**\n",
    "\n",
    "Recall the function from the Least Cost Path assignment for iterating over all distinct permutations of lists containing some identical elements. For example, we might want to list all permutations of the list [\"a\",\"a\",\"b\"]. The following code gives such a list:"
   ]
  },
  {
   "cell_type": "code",
   "execution_count": 12,
   "id": "d5a96909-d8ef-4ead-b5ae-2d48740072e9",
   "metadata": {
    "tags": []
   },
   "outputs": [
    {
     "data": {
      "text/plain": [
       "[['a', 'a', 'b'], ['a', 'b', 'a'], ['b', 'a', 'a']]"
      ]
     },
     "execution_count": 12,
     "metadata": {},
     "output_type": "execute_result"
    }
   ],
   "source": [
    "from sympy.utilities.iterables import multiset_permutations as mp\n",
    "list(mp([\"a\",\"a\",\"b\"]))"
   ]
  },
  {
   "cell_type": "markdown",
   "id": "860cca1d-dd69-4c4e-a563-52d6f79ea043",
   "metadata": {},
   "source": [
    "**Brute Force Approach**\n",
    "\n",
    "For short strings it is feasible to try all possible alignments. Given string1 has length m and string2 has length n, as described in the pdf document, the possible alignments correspond to the possible paths from (0,0) to (m,n) in which the only allowable moves are:\n",
    "\n",
    "- H (horizontal) : (i,j)->(i,j+1) \n",
    "- V (vertical) : (i,j)->(i+1,j) \n",
    "- D (diagonal): (i,j)->(i+1,j+1) \n",
    "\n",
    "Here:\n",
    "\n",
    "- a V move corresponds to appending the next available character from string1 to astring1 and appending the insertion character to astring2,\n",
    "\n",
    "- an H move corresponds to appending the next available character from string2 to astring2 and appending the insertion character to astring1, and\n",
    "\n",
    "- a D move corresponds to appending the next available character from string1 to astring1 and appending the next available character in string 2 to astring2.\n",
    "\n",
    "\n",
    "\n",
    "The number of diagonal moves can be any value from the set {0,1...,min(m,n)} and if we fix the number of diagonal moves at $n_D,$ there must be $m-n_D$ vertical moves and $n-n_D$ horizontal moves. \n",
    "Thus, collection of all possible paths corresponds to the permutations of lists consisting of\n",
    "\n",
    "- $n_D$ D's for some $n_D=0,1,...,\\min(m,n)$ (including $\\min(m,n)$).\n",
    "- $m-n_D$ V's, and\n",
    "- $n-n_D$ H's. \n",
    "\n",
    "**Problem 4 (25 points)** Write a program called **AllPaths** that takes as input\n",
    "\n",
    "- **m** = a positive integer\n",
    "- **n** = a positive integer\n",
    "\n",
    "and that outputs a \n",
    "\n",
    "- a list of all permutations of $m-n_D$ V's, $n-n_D$ H's and $n_D$ D's for $n_D=0,1,...,\\min(m,n).$ Each permutation should be a list.\n",
    "\n",
    "Use the following cell for your code."
   ]
  },
  {
   "cell_type": "code",
   "execution_count": 13,
   "id": "4fbd928b-0871-41e7-9143-dd57cc557add",
   "metadata": {
    "tags": []
   },
   "outputs": [],
   "source": [
    "# Code cell for Problem 4 - do not modify or delete this line\n",
    "from sympy.utilities.iterables import multiset_permutations as mp\n",
    "def AllPaths(m,n):\n",
    "    LH = ['H' for i in range(n)]\n",
    "    LV = ['V' for i in range(m)]\n",
    "    LD = []\n",
    "    paths=[]\n",
    "    for nD in range(min(m,n)+1):\n",
    "        L=LH+LV+LD\n",
    "        paths += (list(mp(L)))\n",
    "        LD.append('D')\n",
    "        if len(LH)>0:\n",
    "            LH.pop(0)\n",
    "        if len(LV)>0:\n",
    "            LV.pop(0)\n",
    "    return paths"
   ]
  },
  {
   "cell_type": "code",
   "execution_count": 14,
   "id": "12b406d4-7d77-48d9-9c00-7ce8cee56de6",
   "metadata": {
    "tags": []
   },
   "outputs": [
    {
     "name": "stdout",
     "output_type": "stream",
     "text": [
      "63\n",
      "{'H', 'V', 'D'}\n",
      "False\n"
     ]
    }
   ],
   "source": [
    "# Test cell1 for Problem 4  - do not delete or modify this cell\n",
    "# Do execute it\n",
    "m=3\n",
    "n=3\n",
    "Paths=AllPaths(m,n)\n",
    "print(len(Paths))\n",
    "Symbols=[]\n",
    "Error=False\n",
    "for p in Paths:\n",
    "    Symbols.extend(set(p))\n",
    "    nD=p.count(\"D\")\n",
    "    nH=p.count(\"H\")\n",
    "    nV=p.count(\"V\")\n",
    "    if nD+nV!=m or nD+nH!=n:\n",
    "        Error=True\n",
    "Symbols=set(Symbols)\n",
    "print(Symbols)\n",
    "print(Error)"
   ]
  },
  {
   "cell_type": "code",
   "execution_count": 15,
   "id": "8d987b42-0b99-4dd9-97f6-d86841fc4a85",
   "metadata": {
    "tags": []
   },
   "outputs": [
    {
     "name": "stdout",
     "output_type": "stream",
     "text": [
      "129\n",
      "{'H', 'V', 'D'}\n",
      "False\n"
     ]
    }
   ],
   "source": [
    "# Test cell2 for Problem 4 - do not delete or modify this cell\n",
    "# Do execute it\n",
    "m=4\n",
    "n=3\n",
    "Paths=AllPaths(m,n)\n",
    "print(len(Paths))\n",
    "Symbols=[]\n",
    "Error=False\n",
    "for p in Paths:\n",
    "    Symbols.extend(set(p))\n",
    "    nD=p.count(\"D\")\n",
    "    nH=p.count(\"H\")\n",
    "    nV=p.count(\"V\")\n",
    "    if nD+nV!=m or nD+nH!=n:\n",
    "        Error=True\n",
    "Symbols=set(Symbols)\n",
    "print(Symbols)\n",
    "print(Error)"
   ]
  },
  {
   "cell_type": "code",
   "execution_count": 16,
   "id": "ed8f4caf-668a-4ae1-933b-6d8a7164b9df",
   "metadata": {
    "tags": []
   },
   "outputs": [
    {
     "name": "stdout",
     "output_type": "stream",
     "text": [
      "7183\n",
      "{'H', 'V', 'D'}\n",
      "False\n"
     ]
    }
   ],
   "source": [
    "# Test cell3 for Problem 4 - do not delete or modify this cell\n",
    "# Do execute it\n",
    "m=5\n",
    "n=7\n",
    "Paths=AllPaths(m,n)\n",
    "print(len(Paths))\n",
    "Symbols=[]\n",
    "Error=False\n",
    "for p in Paths:\n",
    "    Symbols.extend(set(p))\n",
    "    nD=p.count(\"D\")\n",
    "    nH=p.count(\"H\")\n",
    "    nV=p.count(\"V\")\n",
    "    if nD+nV!=m or nD+nH!=n:\n",
    "        Error=True\n",
    "Symbols=set(Symbols)\n",
    "print(Symbols)\n",
    "print(Error)"
   ]
  },
  {
   "cell_type": "markdown",
   "id": "dbf41fbf-58fc-49a2-b73e-46552f52928b",
   "metadata": {},
   "source": [
    "**Problem 5 (25 points)**\n",
    "\n",
    "Write a function called **AlignmentFromPath** that takes as input\n",
    "\n",
    "- **string1** = first string to be aligned\n",
    "- **string2** = second string to be aligned\n",
    "- **path** = a tuple consisting of H's, V's and D' where the number of D's is some number $n_D$ from $\\{0,...,\\min(m,n)\\}$, the number of H's is $m-n_D$ and the number of V's is $n-n_D.$\n",
    "- **Ichar** = special insertion character\n",
    "\n",
    "and which returns \n",
    "\n",
    "- **astring1** = alignment string associated with string1 based on path\n",
    "- **astring2** = alignment string associated with string2 based on path\n",
    "\n",
    "\n",
    "Use the following cell for your code."
   ]
  },
  {
   "cell_type": "code",
   "execution_count": 17,
   "id": "23b82852-2d82-4886-9a84-afac710cd96b",
   "metadata": {
    "tags": []
   },
   "outputs": [],
   "source": [
    "# Code cell for Problem 5 - do not delete or modify this line\n",
    "def AlignmentFromPath(string1,string2,path,Ichar):\n",
    "    astring1=\"\"\n",
    "    astring2=\"\"\n",
    "    k = len(path)\n",
    "    cnt1=0\n",
    "    cnt2=0\n",
    "    for i in range(k):\n",
    "        if path[i]=='H':\n",
    "            astring1 += Ichar\n",
    "            astring2 += string2[cnt2]\n",
    "            cnt2 += 1\n",
    "        elif path[i]=='V':\n",
    "            astring1 += string1[cnt1]\n",
    "            cnt1 += 1\n",
    "            astring2 += Ichar\n",
    "        else:\n",
    "            astring1 += string1[cnt1]\n",
    "            astring2 += string2[cnt2]\n",
    "            cnt1 += 1\n",
    "            cnt2 += 1\n",
    "    return astring1, astring2\n",
    "        "
   ]
  },
  {
   "cell_type": "code",
   "execution_count": 18,
   "id": "0db896f1-419b-4156-98cf-54094ee11697",
   "metadata": {
    "tags": []
   },
   "outputs": [
    {
     "name": "stdout",
     "output_type": "stream",
     "text": [
      "AAAAT\n",
      "AAAGCCA\n",
      "['D' 'H' 'H' 'D' 'H' 'D' 'V' 'V' 'H']\n",
      "A__A_AAT_\n",
      "AAAGCC__A\n"
     ]
    }
   ],
   "source": [
    "# Test cell1 for Problem 5 - do not delete or modify this cell\n",
    "# Do execute it\n",
    "import numpy as np\n",
    "np.random.seed(18492)\n",
    "m=5\n",
    "n=7\n",
    "string1=\"\".join(np.random.choice([\"A\",\"C\",\"G\",\"T\"],size=m,p=[.5,.3,.1,.1]))\n",
    "string2=\"\".join(np.random.choice([\"A\",\"C\",\"G\",\"T\"],size=n,p=[.5,.3,.1,.1]))\n",
    "print(string1)\n",
    "print(string2)\n",
    "nD=np.random.choice(range(min(m,n)))\n",
    "nV=m-nD\n",
    "nH=n-nD\n",
    "path=[\"D\" for i in range(nD)]+[\"V\" for i in range(nV)]+[\"H\" for i in range(nH)]\n",
    "path=np.random.permutation(path)\n",
    "print(path)\n",
    "astring1,astring2=AlignmentFromPath(string1,string2,path,\"_\")\n",
    "print(astring1)\n",
    "print(astring2)"
   ]
  },
  {
   "cell_type": "code",
   "execution_count": 19,
   "id": "b81f220b-3bd1-46d9-b68d-30f7893b4ea3",
   "metadata": {
    "tags": []
   },
   "outputs": [
    {
     "name": "stdout",
     "output_type": "stream",
     "text": [
      "AAAATAAAGCCAAAACAAATCCAACGCTACCACGACTTAGTATTAAGAATTCAAAAGAACCAAACAAAACGAAGCGCCATTCTACGACAGAAGAAGCGTAAAAAAAAAAATAACACGAAG\n",
      "AAAAAAAAAACAGCTAAGAAACATCGACAACATCGGAAGCCAAAAACATAGCAGAACCACAACCAACCAAAATAAAAGCCTAACCACACCTGATCCCAAAACCAAAAATACCGGCCTGCCTACCATGAAAACACAAACCCAAACAAACAA\n",
      "['H' 'D' 'D' 'D' 'D' 'V' 'H' 'H' 'D' 'D' 'H' 'D' 'H' 'H' 'D' 'H' 'D' 'H'\n",
      " 'D' 'H' 'H' 'D' 'D' 'H' 'H' 'V' 'D' 'D' 'D' 'H' 'H' 'D' 'H' 'D' 'V' 'D'\n",
      " 'H' 'D' 'H' 'H' 'V' 'H' 'V' 'H' 'V' 'D' 'V' 'D' 'H' 'V' 'H' 'D' 'D' 'H'\n",
      " 'D' 'V' 'D' 'H' 'D' 'D' 'D' 'H' 'D' 'H' 'D' 'D' 'D' 'H' 'H' 'H' 'D' 'V'\n",
      " 'D' 'V' 'D' 'H' 'V' 'V' 'V' 'D' 'H' 'H' 'D' 'H' 'H' 'H' 'H' 'D' 'D' 'H'\n",
      " 'V' 'D' 'H' 'H' 'H' 'D' 'V' 'D' 'H' 'H' 'D' 'D' 'D' 'D' 'D' 'V' 'D' 'V'\n",
      " 'D' 'D' 'D' 'H' 'D' 'D' 'D' 'D' 'D' 'D' 'D' 'D' 'D' 'D' 'D' 'D' 'H' 'D'\n",
      " 'D' 'H' 'D' 'D' 'D' 'D' 'D' 'D' 'H' 'D' 'H' 'H' 'D' 'H' 'H' 'H' 'H' 'D'\n",
      " 'D' 'D' 'D' 'V' 'D' 'H' 'V' 'V' 'V' 'D' 'V' 'D' 'H' 'D' 'V' 'V' 'H' 'H'\n",
      " 'H' 'D' 'D' 'V' 'D' 'D' 'D' 'H' 'V' 'H' 'D' 'V' 'D' 'V' 'D' 'D' 'D']\n",
      "_AAAAT__AA_A__G_C_C__AA__AACA__A_ATC_C__A_A_CGCT_A_CC_ACG_ACT_T_AGT___ATTAA_GAAT__T____CA_AA___AGA__ACCAAACAAAA_CGAAGCGCCATT_CT_ACGACA_G__A____AGAAGC_GTAAAA_AAA___AAAATA_A_CACGAAG\n",
      "AAAAA_AAAAACAGCTAAGAAACAT_CGACAACA_TCGGA_A_G_C_CA_AAAAC_ATAGCAGAACCACAA_C_CA___ACCAAAATAAA_AGCCT_AACCACAC_C_TGATCCCAAAACCAAAAATACCGGCCTGCCTACCATGAA_AA___C_ACA__AACCC_AAAC_AA_A_CAA\n"
     ]
    }
   ],
   "source": [
    "# Test cell2 for Problem 5 - do not delete or modify this cell\n",
    "# Do execute it\n",
    "import numpy as np\n",
    "np.random.seed(18492)\n",
    "m=120\n",
    "n=150\n",
    "string1=\"\".join(np.random.choice([\"A\",\"C\",\"G\",\"T\"],size=m,p=[.5,.3,.1,.1]))\n",
    "string2=\"\".join(np.random.choice([\"A\",\"C\",\"G\",\"T\"],size=n,p=[.5,.3,.1,.1]))\n",
    "print(string1)\n",
    "print(string2)\n",
    "nD=np.random.choice(range(min(m,n)))\n",
    "nV=m-nD\n",
    "nH=n-nD\n",
    "path=[\"D\" for i in range(nD)]+[\"V\" for i in range(nV)]+[\"H\" for i in range(nH)]\n",
    "path=np.random.permutation(path)\n",
    "print(path)\n",
    "astring1,astring2=AlignmentFromPath(string1,string2,path,\"_\")\n",
    "print(astring1)\n",
    "print(astring2)"
   ]
  },
  {
   "cell_type": "markdown",
   "id": "8ec1042b-6f9a-4294-a728-5be810de09bd",
   "metadata": {},
   "source": [
    "**Problem 6 (15 points)**\n",
    "\n",
    "Create a function that takes as input\n",
    "\n",
    "- **string1** = first string to be aligned\n",
    "- **string2** = second string to be aligned\n",
    "- **Ichar** = insertion character\n",
    "- **sM** = score for a mismatch\n",
    "- **sI** = score for an insertion\n",
    "- **sP** = score for a match\n",
    "\n",
    "and that goes through every possible path that is associated with an alignment of the two strings\n",
    "using your **AllPaths** function from Problem 4, and your **AlignmentFromPath** function in Problem 5, and returns as ouput:\n",
    "\n",
    "- **maxscore** = the score of a best alignment\n",
    "- **astring1** = alignment string corresponding to string1 of a best alignment\n",
    "- **astring2** = alignment string corresponding to string2 of a best alignment\n",
    "\n",
    "**Notes:** \n",
    "\n",
    "- There may be multiple alignments leading to the same optimal score. Your function need only return one of them\n",
    "- This code should only be used for strings that are small in size.\n",
    "\n",
    "Use the following cell for your code"
   ]
  },
  {
   "cell_type": "code",
   "execution_count": 20,
   "id": "53d1e570-0ed6-4a5b-b8a6-5219ed107cdc",
   "metadata": {
    "tags": []
   },
   "outputs": [],
   "source": [
    "# Code cell for Problem 6 - do not delete or modify this line\n",
    "def OptimalAlignmentBruteForce(string1,string2,Ichar,sM,sI,sP):\n",
    "    m=len(string1)\n",
    "    n=len(string2)\n",
    "    Paths = AllPaths(m,n)\n",
    "    maxscore = -100*100\n",
    "    ASTRING1 = \"\"\n",
    "    ASTRING2 = \"\"\n",
    "    for path in Paths:\n",
    "        astring1, astring2 = AlignmentFromPath(string1,string2,path,Ichar)\n",
    "        res = AlignmentScore(sM,sI,sP,Ichar,astring1,astring2)\n",
    "        score = res[4]    \n",
    "        if score > maxscore:\n",
    "            maxscore = score\n",
    "            ASTRING1 = astring1\n",
    "            ASTRING2 = astring2\n",
    "    return maxscore, ASTRING1, ASTRING2"
   ]
  },
  {
   "cell_type": "code",
   "execution_count": 21,
   "id": "3482239f-fdef-4839-b25e-c22709b82007",
   "metadata": {},
   "outputs": [],
   "source": [
    "#OptimalAlignmentBruteForce(\"𝙰𝙰𝙰𝙶𝚃𝙲𝙲𝙰\",\"𝙰𝙰𝙶𝚃𝙲𝙲𝙲𝙶𝙰\",\"_\",-2,-1,3)"
   ]
  },
  {
   "cell_type": "markdown",
   "id": "5d2f2681-04a8-4515-a4e2-272926f91671",
   "metadata": {},
   "source": [
    "For the test cells below, you will need to excecute the code in the following cell."
   ]
  },
  {
   "cell_type": "code",
   "execution_count": 22,
   "id": "bc1fe617-9d08-43d5-81e8-ac104092ab8d",
   "metadata": {
    "tags": []
   },
   "outputs": [
    {
     "name": "stdout",
     "output_type": "stream",
     "text": [
      "ATGCATGC\n",
      "ATTGCATGA\n",
      "ATGCATA\n"
     ]
    }
   ],
   "source": [
    "# Execution cell - do not remove or modify this cell\n",
    "# Do execute it.\n",
    "np.random.seed(1842)\n",
    "clist=[\"A\",\"C\",\"G\",\"T\"]\n",
    "def replace_random_char(s,clist):\n",
    "    pos=np.random.choice(len(s))\n",
    "    c=np.random.choice(clist)\n",
    "    s=s[0:pos]+c+s[pos+1:]\n",
    "    return(s)\n",
    "print(replace_random_char(\"ATGCATGA\",clist))\n",
    "def insert_random_char(s,clist):\n",
    "    pos=np.random.choice(len(s))\n",
    "    c=np.random.choice(clist)\n",
    "    s=s[0:pos]+c+s[pos:]\n",
    "    return(s)\n",
    "print(insert_random_char(\"ATGCATGA\",clist))\n",
    "def delete_random_char(s):\n",
    "    pos=np.random.choice(len(s))\n",
    "    c=np.random.choice(clist)\n",
    "    s=s[0:pos]+s[pos+1:]\n",
    "    return(s)\n",
    "print(delete_random_char(\"ATGCATGA\"))\n"
   ]
  },
  {
   "cell_type": "code",
   "execution_count": 23,
   "id": "0a5eb385-cb30-4b77-a450-b051895208c2",
   "metadata": {
    "tags": []
   },
   "outputs": [
    {
     "name": "stdout",
     "output_type": "stream",
     "text": [
      "GCAGTTC\n",
      "GCTACGTC\n",
      "-2 -1 2\n"
     ]
    },
    {
     "name": "stdout",
     "output_type": "stream",
     "text": [
      "9\n",
      "GC_A_GTTC\n",
      "GCTACGT_C\n",
      "\n",
      "\n",
      "TGATTTG\n",
      "TGAATTGTG\n",
      "-3 -2 1\n",
      "3\n",
      "TGA_TT_TG\n",
      "TGAATTGTG\n",
      "\n",
      "\n",
      "CCTGGTC\n",
      "CCGGAG\n",
      "-2 -1 1\n",
      "-1\n",
      "CC_TG_GTC\n",
      "CCG_GAG__\n",
      "\n",
      "\n",
      "TCGACCT\n",
      "TCGATCGT\n",
      "-2 -1 2\n",
      "9\n",
      "TCGA_C_CT\n",
      "TCGATCG_T\n",
      "\n",
      "\n",
      "GGGTTCA\n",
      "GTGTCA\n",
      "-3 -2 2\n",
      "5\n",
      "GGGTTCA\n",
      "GTGT_CA\n",
      "\n",
      "\n",
      "TGTACTC\n",
      "GTGTACTCGC\n",
      "-1 0 2\n",
      "14\n",
      "_TGTACTC__\n",
      "GTGTACTCGC\n",
      "\n",
      "\n",
      "CTCATAA\n",
      "CTCCATGA\n",
      "-3 -2 2\n",
      "7\n",
      "CTC_ATAA\n",
      "CTCCATGA\n",
      "\n",
      "\n",
      "GGCCATC\n",
      "GCCAC\n",
      "-1 0 1\n",
      "5\n",
      "GGCCATC\n",
      "G_CCA_C\n",
      "\n",
      "\n",
      "TATGTAA\n",
      "ATGTAA\n",
      "-2 -1 1\n",
      "5\n",
      "TATGTAA\n",
      "_ATGTAA\n",
      "\n",
      "\n",
      "CCACCTG\n",
      "CTCCCCG\n",
      "-1 0 2\n",
      "10\n",
      "C_C_ACCTG\n",
      "CTCC_CC_G\n",
      "\n",
      "\n"
     ]
    }
   ],
   "source": [
    "# Test cell for Problem 6 - do not delete or modify this cell\n",
    "# Do execute it.\n",
    "import numpy as np\n",
    "np.random.seed(14891)\n",
    "for trial in range(10):\n",
    "    m=7\n",
    "    string1=\"\".join(np.random.choice(clist,size=m))\n",
    "    k=np.random.choice(range(2,5))\n",
    "    string2=string1\n",
    "    for i in range(k):\n",
    "        u=np.random.uniform(0,1)\n",
    "        if u<.5:\n",
    "            string2=replace_random_char(string2,[\"A\",\"C\",\"G\",\"T\"])\n",
    "        elif u<.7:\n",
    "            string2=insert_random_char(string2,[\"A\",\"C\",\"G\",\"T\"])\n",
    "        else:\n",
    "            string2=delete_random_char(string2)\n",
    "    print(string1)\n",
    "    print(string2)\n",
    "\n",
    "    sM=np.random.choice(range(-3,0))\n",
    "    sI=sM+1\n",
    "    sP=np.random.choice(range(1,3))\n",
    "    print(sM,sI,sP)\n",
    "    score,astring1,astring2=OptimalAlignmentBruteForce(string1,string2,Ichar,sM,sI,sP)\n",
    "    print(score)\n",
    "    print(astring1)\n",
    "    print(astring2)\n",
    "    print(\"\\n\")"
   ]
  },
  {
   "cell_type": "markdown",
   "id": "1d4421dc-9256-4a48-ade8-9d6762fe9e4c",
   "metadata": {},
   "source": [
    "**Optimal String Alignment Using Dynamic Programming**\n",
    "\n",
    "As described in the above-mentioned pdf document, the optimal alignment problem can be solved using\n",
    "dynamic programming. \n",
    "\n",
    "**Problem 7 (30 points)**\n",
    "\n",
    "Write a program called **OptimalAlignmentDynamicProgramming** that takes as input:\n",
    "\n",
    "- **string1** = input string of some positive length (call this **m**)\n",
    "- **string2** = input string of some positive length (call this **n**)\n",
    "- **Ichar** = character to be used as the special insertion character\n",
    "- **sM** = score for a mismatch\n",
    "- **sI** = score for an insertion\n",
    "- **sP** = score for a perfect match \n",
    "\n",
    "and computes an optimal alignment (one maximizing the alignment score) **using dynamic programming** (not an algorithm that uses brute force trying every possible alignment) and outputs the following:\n",
    "\n",
    "- **astring1** = alignment string corresponding to string1\n",
    "- **astring2** = alignment string corresponding to string2\n",
    "- **score** = total score for the alignment\n",
    "\n",
    "Use the following cell for you code. Your code should be completely self-contained.\n",
    "\n",
    "**Try to make your code as efficient as possible.**"
   ]
  },
  {
   "cell_type": "code",
   "execution_count": 24,
   "id": "2f9e6b0d-487a-43ea-a625-9aadb96ac4fc",
   "metadata": {
    "tags": []
   },
   "outputs": [],
   "source": [
    "# Code cell for Problem 7 - do not delete or modify this line\n",
    "def OptimalAlignmentDynamicProgramming(string1,string2,Ichar,sM,sI,sP):\n",
    "    m=len(string1)\n",
    "    n=len(string2)\n",
    "    C=np.zeros((m+1,n+1))\n",
    "    D=[['' for i in range(n+1)] for j in range(m+1)]\n",
    "    for i in range(1,m+1):\n",
    "        C[i][0]=sI*i\n",
    "        D[i][0]='V'\n",
    "    for j in range(1,n+1):\n",
    "        C[0][j]=sI*j\n",
    "        D[0][j]='H'\n",
    "    \n",
    "    C[0][0]=0\n",
    "\n",
    "    for i in range(1,m+1):\n",
    "        for j in range(1,n+1):\n",
    "            if string1[i-1]==string2[j-1]:\n",
    "                cost = sP\n",
    "            else: \n",
    "                cost = sM\n",
    "            if C[i-1][j-1] + cost >= C[i][j-1] + sI and C[i-1][j-1] + cost >= C[i-1][j] + sI:\n",
    "                C[i][j]=C[i-1][j-1]+cost\n",
    "                D[i][j]='D'\n",
    "            elif C[i][j-1] + sI >= C[i-1][j-1] + cost and C[i][j-1] >= C[i-1][j]:\n",
    "                C[i][j]=C[i][j-1] + sI\n",
    "                D[i][j]='H'\n",
    "            elif C[i-1][j] + sI >= C[i-1][j-1] + cost and C[i-1][j] >= C[i][j-1]:\n",
    "                C[i][j]=C[i-1][j]+sI\n",
    "                D[i][j]='V'\n",
    "    \n",
    "    path=[(m,n)]\n",
    "    Path=[]\n",
    "    cost=C[m,n]\n",
    "    indx=m\n",
    "    indy=n\n",
    "    k=m+n+1\n",
    "    while k > 1:\n",
    "        t = path[len(path)-1]\n",
    "        indx=t[0]\n",
    "        indy=t[1]\n",
    "        if D[indx][indy] == 'V':\n",
    "            path.append((indx-1,indy))\n",
    "            Path.append('V')\n",
    "            k -= 1\n",
    "        elif D[indx][indy] == 'H':\n",
    "            path.append((indx,indy-1))\n",
    "            Path.append('H')\n",
    "            k -= 1\n",
    "        else:\n",
    "            path.append((indx-1,indy-1))\n",
    "            Path.append('D')\n",
    "            k -= 2\n",
    "    Path = Path[::-1]\n",
    "    astring1, astring2 = AlignmentFromPath(string1,string2,Path,Ichar)\n",
    "    return cost, astring1, astring2\n",
    "    "
   ]
  },
  {
   "cell_type": "code",
   "execution_count": 26,
   "id": "c422f8f5-101c-4db2-8bf8-9635f40c837d",
   "metadata": {
    "tags": []
   },
   "outputs": [
    {
     "name": "stdout",
     "output_type": "stream",
     "text": [
      "GC_A_GTTC\n",
      "GCTACGT_C\n",
      "GC_A_GTTC\n",
      "GCTACG_TC\n",
      "0.0\n",
      "TGA_TT_TG\n",
      "TGAATTGTG\n",
      "TG_ATT_TG\n",
      "TGAATTGTG\n",
      "0.0\n",
      "CC_TG_GTC\n",
      "CCG_GAG__\n",
      "CCTGGTC\n",
      "CC_GGAG\n",
      "0.0\n",
      "TCGA_C_CT\n",
      "TCGATCG_T\n",
      "TCGA_CCT\n",
      "TCGATCGT\n",
      "0.0\n",
      "GGGTTCA\n",
      "GTGT_CA\n",
      "GGGTTCA\n",
      "GTG_TCA\n",
      "0.0\n",
      "_TGTACTC__\n",
      "GTGTACTCGC\n",
      "_TGTACT__C\n",
      "GTGTACTCGC\n",
      "0.0\n",
      "CTC_ATAA\n",
      "CTCCATGA\n",
      "CT_CATAA\n",
      "CTCCATGA\n",
      "0.0\n",
      "GGCCATC\n",
      "G_CCA_C\n",
      "GGCCATC\n",
      "_GCCA_C\n",
      "0.0\n",
      "TATGTAA\n",
      "_ATGTAA\n",
      "TATGTAA\n",
      "_ATGTAA\n",
      "0.0\n",
      "C_C_ACCTG\n",
      "CTCC_CC_G\n",
      "C_CACCT_G\n",
      "CTC_CC_CG\n",
      "0.0\n"
     ]
    }
   ],
   "source": [
    "# Test cell1 for Problem 7 - do not delete or modify this cell\n",
    "# Do execute it.\n",
    "\n",
    "import numpy as np\n",
    "np.random.seed(14891)\n",
    "for trial in range(10):\n",
    "    m=7\n",
    "    string1=\"\".join(np.random.choice(clist,size=m))\n",
    "    k=np.random.choice(range(2,5))\n",
    "    string2=string1\n",
    "    for i in range(k):\n",
    "        u=np.random.uniform(0,1)\n",
    "        if u<.5:\n",
    "            string2=replace_random_char(string2,[\"A\",\"C\",\"G\",\"T\"])\n",
    "        elif u<.7:\n",
    "            string2=insert_random_char(string2,[\"A\",\"C\",\"G\",\"T\"])\n",
    "        else:\n",
    "            string2=delete_random_char(string2)\n",
    "\n",
    "    sM=np.random.choice(range(-3,0))\n",
    "    sI=sM+1\n",
    "    sP=np.random.choice(range(1,3))\n",
    "    bf_score,astring1,astring2=OptimalAlignmentBruteForce(string1,string2,Ichar,sM,sI,sP)\n",
    "    print(astring1)\n",
    "    print(astring2)\n",
    "    dp_score,astring1,astring2=OptimalAlignmentDynamicProgramming(string1,string2,\"_\",sM,sI,sP)\n",
    "    print(bf_score-dp_score)"
   ]
  },
  {
   "cell_type": "code",
   "execution_count": 27,
   "id": "d48a0791-a0cb-4fe4-b690-08c0417f5306",
   "metadata": {
    "tags": []
   },
   "outputs": [
    {
     "name": "stdout",
     "output_type": "stream",
     "text": [
      "-7.0\n",
      "10.0\n",
      "27.0\n",
      "44.0\n",
      "61.0\n",
      "-9.0\n",
      "8.0\n",
      "25.0\n",
      "42.0\n",
      "59.0\n",
      "-9.0\n",
      "8.0\n",
      "25.0\n",
      "42.0\n",
      "59.0\n"
     ]
    }
   ],
   "source": [
    "# Test cell2 for Problem 7 - do not delete or modify this cell\n",
    "# Do execute it.\n",
    "string1=\"AAGCTATCCATTAATCTCT\"\n",
    "string2=\"ATGCTGCATCCATATTTCAGTCAGCTCT\"\n",
    "score_tuples=[(-3,-2,1),(-3,-2,2),(-3,-2,3),(-3,-2,4),(-3,-2,5),\n",
    "              (-4,-2,1),(-4,-2,2),(-4,-2,3),(-4,-2,4),(-4,-2,5),\n",
    "              (-5,-2,1),(-5,-2,2),(-5,-2,3),(-5,-2,4),(-5,-2,5)]\n",
    "for st in score_tuples:\n",
    "    sM,sI,sP=st\n",
    "    dp_score,astring1,astring2=OptimalAlignmentDynamicProgramming(string1,string2,\"_\",sM,sI,sP)\n",
    "    print(dp_score)\n",
    "\n"
   ]
  },
  {
   "cell_type": "code",
   "execution_count": 28,
   "id": "b39a3cf3-c75a-40da-bb16-f780cf28cfce",
   "metadata": {
    "tags": []
   },
   "outputs": [
    {
     "name": "stdout",
     "output_type": "stream",
     "text": [
      "ACTACCTTCTCTAAAAAGCGTGAGTCCATTCCATGCATGATGACTACGTTCGGCACTTTGCCTGCGTCACCTAGAAACTGCTATCGTGCTAATTGTCATC\n",
      "ACTACTTGCTAAAAGAGTGAGTCCATCTCCAATAGCTATGTATGACGACGTTCGGCAGTTGCCCTGCGTCACTCTAGAAACTGACTATCGATGCTAATTGTCATC\n",
      "ACTACCTTCTCTAAAAAGCGTGAGTCCAT_TCC_AT_GC_ATG_ATGACTACGTTCGGCACTTTG_CCTGCGTCAC_CTAGAAACTG_CTATCG_TGCTAATTGTCATC\n",
      "ACTA_CTT_GCT_AAAAGAGTGAGTCCATCTCCAATAGCTATGTATGACGACGTTCGGCA_GTTGCCCTGCGTCACTCTAGAAACTGACTATCGATGCTAATTGTCATC\n",
      "204.0\n"
     ]
    }
   ],
   "source": [
    "# Test cell3 for Problem 7 - do not delete or modify this cell\n",
    "# Do execute it.\n",
    "import numpy as np\n",
    "\n",
    "m=100\n",
    "string1=\"\".join(np.random.choice(clist,size=m))\n",
    "k=np.random.choice(range(2,5))\n",
    "string2=string1\n",
    "for i in range(5):\n",
    "    string2=replace_random_char(string2,[\"A\",\"C\",\"G\",\"T\"])\n",
    "for i in range(10):\n",
    "    string2=insert_random_char(string2,[\"A\",\"C\",\"G\",\"T\"])\n",
    "for i in range(5):\n",
    "    string2=delete_random_char(string2)\n",
    "sM=-5\n",
    "sI=-4\n",
    "sP=3\n",
    "print(string1)\n",
    "print(string2)\n",
    "dp_score,astring1,astring2=OptimalAlignmentDynamicProgramming(string1,string2,\"_\",sM,sI,sP)\n",
    "print(astring1)\n",
    "print(astring2)\n",
    "print(dp_score)"
   ]
  },
  {
   "cell_type": "code",
   "execution_count": 30,
   "id": "a042f570-36cc-4b83-bc17-10977bdd676a",
   "metadata": {
    "tags": []
   },
   "outputs": [
    {
     "name": "stdout",
     "output_type": "stream",
     "text": [
      "2893.0\n"
     ]
    }
   ],
   "source": [
    "# Test cell3 for Problem 7 - do not delete or modify this cell\n",
    "# Do execute it.\n",
    "import numpy as np\n",
    "\n",
    "m=1000\n",
    "string1=\"\".join(np.random.choice(clist,size=m))\n",
    "k=np.random.choice(range(2,5))\n",
    "string2=string1\n",
    "for i in range(5):\n",
    "    string2=replace_random_char(string2,[\"A\",\"C\",\"G\",\"T\"])\n",
    "for i in range(10):\n",
    "    string2=insert_random_char(string2,[\"A\",\"C\",\"G\",\"T\"])\n",
    "for i in range(5):\n",
    "    string2=delete_random_char(string2)\n",
    "sM=-5\n",
    "sI=-4\n",
    "sP=3\n",
    "dp_score,astring1,astring2=OptimalAlignmentDynamicProgramming(string1,string2,\"_\",sM,sI,sP)\n",
    "print(dp_score)\n"
   ]
  },
  {
   "cell_type": "markdown",
   "id": "0b571d76-6ef8-468c-8d80-17367501424c",
   "metadata": {},
   "source": [
    "Before you upload your notebook, make sure that\n",
    "\n",
    "- every cell is executed without any errors\n",
    "- you save it."
   ]
  },
  {
   "cell_type": "code",
   "execution_count": null,
   "id": "2466c840-be98-4cff-8ac7-2e7b9f7b884f",
   "metadata": {},
   "outputs": [],
   "source": []
  }
 ],
 "metadata": {
  "kernelspec": {
   "display_name": "Python 3 (ipykernel)",
   "language": "python",
   "name": "python3"
  },
  "language_info": {
   "codemirror_mode": {
    "name": "ipython",
    "version": 3
   },
   "file_extension": ".py",
   "mimetype": "text/x-python",
   "name": "python",
   "nbconvert_exporter": "python",
   "pygments_lexer": "ipython3",
   "version": "3.11.5"
  }
 },
 "nbformat": 4,
 "nbformat_minor": 5
}
