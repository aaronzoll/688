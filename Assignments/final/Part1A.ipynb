{
 "cells": [
  {
   "cell_type": "markdown",
   "id": "b828a245-5302-4eb9-8bad-cb6bbbb37896",
   "metadata": {},
   "source": [
    "**Form4 filings Part 1**\n",
    "\n",
    "In the following code cell, provide the code for your function."
   ]
  },
  {
   "cell_type": "code",
   "execution_count": 16,
   "id": "85796db2-bb56-4ac9-b810-aabe741995ae",
   "metadata": {},
   "outputs": [],
   "source": [
    "# Code cell for part 1 - do not delete or modify this line\n",
    "def CreateDataFrame(basefolder):\n",
    "    import pandas as pd\n",
    "    import numpy as np\n",
    "    import os\n",
    "    import re\n",
    "    import xml.etree.ElementTree as ET\n",
    "\n",
    "    #initialize subfolders and data\n",
    "    path1=basefolder+\"\\\\4\"\n",
    "    L=list(os.listdir(path1))\n",
    "    k=0\n",
    "    data=[]\n",
    "    \n",
    "    for Folder in L:\n",
    "        k+=1\n",
    "        if k % 500 == 0:\n",
    "            print(k)\n",
    "            \n",
    "        #enter folder, extract XML file\n",
    "        path=path1+\"\\\\\"+Folder\n",
    "        files=list(os.listdir(path))\n",
    "        sub_text = open(path+\"\\\\\"+\"full-submission.txt\")\n",
    "        text=sub_text.read()\n",
    "        pattern=\"\\<ownershipDocument\\>(\\n|.)*\\<\\/ownershipDocument\\>\"\n",
    "        m=re.search(pattern,text)\n",
    "        if m:\n",
    "            XML_file=text[m.start():m.end()]\n",
    "        else: \n",
    "            continue\n",
    "        root = ET.fromstring(XML_file)\n",
    "        tags = [e.tag for e in root.iter()]\n",
    "        \n",
    "        #collect data from \"good\" files\n",
    "        if 'rptOwnerName' in tags and 'nonDerivativeTransaction' in tags:\n",
    "            #get ownership info\n",
    "            it=root.findall(\"./*/*/rptOwnerName\")\n",
    "            for x in it:\n",
    "                OwnerName=x.text\n",
    "                \n",
    "            it=root.findall(\"./*/reportingOwnerRelationship/isDirector\")\n",
    "            for x in it:\n",
    "                isDir=x.text\n",
    "                \n",
    "            it=root.findall(\"./*/reportingOwnerRelationship/isOfficer\")\n",
    "            for x in it:\n",
    "                isOff=x.text\n",
    "                \n",
    "            it=root.findall(\"./*/reportingOwnerRelationship/isTenPercentOwner\")\n",
    "            for x in it:\n",
    "                isTen=x.text\n",
    "\n",
    "            #transaction info\n",
    "            for e in root.iter(\"nonDerivativeTransaction\"):\n",
    "                for x in e.iter(\"securityTitle\"):\n",
    "                    for t in x:\n",
    "                        if t.tag=='value':\n",
    "                            SecTitle=t.text\n",
    "\n",
    "                for x in e.findall(\"./transactionDate/\"):\n",
    "                    if x.tag=='value':\n",
    "                        TransDate=x.text\n",
    "\n",
    "                for x in e.findall(\"./*/transactionShares/\"):\n",
    "                    if x.tag=='value':\n",
    "                        Shares=x.text\n",
    "\n",
    "                for x in e.findall(\"./*/transactionPricePerShare/\"):\n",
    "                    if x.tag=='value':\n",
    "                        PPS=x.text\n",
    "\n",
    "                for x in e.findall(\"./*/transactionAcquiredDisposedCode/\"):\n",
    "                    if x.tag=='value':\n",
    "                        ADCode=x.text\n",
    "\n",
    "                for x in e.findall(\"./postTransactionAmounts/sharesOwnedFollowingTransaction/\"):\n",
    "                    if x.tag=='value':\n",
    "                        SharesAfter=x.text\n",
    "\n",
    "                for x in e.findall(\"./ownershipNature/directOrIndirectOwnership/\"):\n",
    "                    if x.tag=='value':\n",
    "                        DIOwner=x.text\n",
    "\n",
    "                indiv_data=[Folder, OwnerName, isDir, isOff, isTen, SecTitle,TransDate,Shares,PPS,ADCode,SharesAfter,DIOwner]\n",
    "                data.append(indiv_data)\n",
    "\n",
    "    df=pd.DataFrame(data,columns=['Folder', 'OwnerName', 'isDir', 'isOff', 'isTen', \n",
    "                      'SecTitle','TransDate','Shares','PPS','ADCode','SharesAfter','DIOwner'])\n",
    "    df.to_csv(\"final_data.csv\",index=False) \n",
    "    return df\n",
    "    "
   ]
  },
  {
   "cell_type": "code",
   "execution_count": 20,
   "id": "150c3808-8941-4e2d-9d97-738d5aa35489",
   "metadata": {},
   "outputs": [
    {
     "name": "stdout",
     "output_type": "stream",
     "text": [
      "500\n",
      "1000\n",
      "1500\n",
      "2000\n",
      "2500\n",
      "3000\n",
      "3500\n",
      "4000\n",
      "4500\n"
     ]
    }
   ],
   "source": [
    "df=CreateDataFrame('C:\\\\Users\\\\Aaron Zoll\\\\Desktop\\\\Grad School\\\\Semester 3\\\\688\\\\Assignments\\\\final\\\\PFE')"
   ]
  },
  {
   "cell_type": "code",
   "execution_count": null,
   "id": "73cd7dcf-7710-4fa6-96d7-8b5279c7422b",
   "metadata": {},
   "outputs": [],
   "source": []
  }
 ],
 "metadata": {
  "kernelspec": {
   "display_name": "Python 3 (ipykernel)",
   "language": "python",
   "name": "python3"
  },
  "language_info": {
   "codemirror_mode": {
    "name": "ipython",
    "version": 3
   },
   "file_extension": ".py",
   "mimetype": "text/x-python",
   "name": "python",
   "nbconvert_exporter": "python",
   "pygments_lexer": "ipython3",
   "version": "3.10.9"
  }
 },
 "nbformat": 4,
 "nbformat_minor": 5
}
