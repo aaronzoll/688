{
 "cells": [
  {
   "cell_type": "markdown",
   "id": "45f72e0b-e265-4a53-a218-c0e85d08481a",
   "metadata": {},
   "source": [
    "**All 19 problems are given equal weight but if you mess up a problem that is needed to be done correctly for some later problem you may lose points on both - so be careful!!**\n",
    "\n",
    "**Execute the following cell so that you don't have to import any packages later**"
   ]
  },
  {
   "cell_type": "code",
   "execution_count": null,
   "id": "f88f383a-ae99-4833-81be-f93e84c94289",
   "metadata": {
    "tags": []
   },
   "outputs": [],
   "source": [
    "# Do not delete or modify this cell\n",
    "# Do execute it\n",
    "import numpy as np\n",
    "import pandas as pd\n",
    "import datetime\n",
    "import re"
   ]
  },
  {
   "cell_type": "markdown",
   "id": "6bde68bc-e869-4ebb-820b-3a31f15d92ec",
   "metadata": {},
   "source": [
    "**Problem 1.**\n",
    "\n",
    "In the following cell, create a pandas data frame called **df** using the data in the PFE.csv file and convert the data type of the TransDate column to pandas datetimes."
   ]
  },
  {
   "cell_type": "code",
   "execution_count": null,
   "id": "4ff52df7-0788-43c9-a7b7-03463757af2b",
   "metadata": {
    "tags": []
   },
   "outputs": [],
   "source": [
    "# Code cell for Problem 1 - do not delete or modify this line"
   ]
  },
  {
   "cell_type": "markdown",
   "id": "70085f2d-362a-4dce-b020-a021ecbbf0cb",
   "metadata": {},
   "source": [
    "**Problem 2**\n",
    "\n",
    "In the following cell create a histogram of the Shares column"
   ]
  },
  {
   "cell_type": "code",
   "execution_count": null,
   "id": "cce09f89-003c-4ff0-8978-ed1c88e9c86a",
   "metadata": {
    "tags": []
   },
   "outputs": [],
   "source": [
    "# Code cell for Problem 2 - do not delete or modify this line.\n"
   ]
  },
  {
   "cell_type": "markdown",
   "id": "03107a6f-2876-4091-b535-c2710bb47604",
   "metadata": {},
   "source": [
    "**Problem 3** \n",
    "\n",
    "The last histogram is problematic. Make a histogram of log(1+Shares) in the following cell."
   ]
  },
  {
   "cell_type": "code",
   "execution_count": null,
   "id": "8815cc40-6aa0-4b0e-b386-768161d941eb",
   "metadata": {
    "tags": []
   },
   "outputs": [],
   "source": [
    "# Code cell for Problem 3 - do not delete or modify this line.\n"
   ]
  },
  {
   "cell_type": "markdown",
   "id": "a4f0c1d9-27d3-456f-be54-9b6851270df1",
   "metadata": {},
   "source": [
    "**Problem 4**\n",
    "\n",
    "In the following code cell, print a pandas series with the OwnerName corresponding to the 25 largest values of Shares in the data frame."
   ]
  },
  {
   "cell_type": "code",
   "execution_count": null,
   "id": "8db2894d-8c8a-468b-80aa-51422947a429",
   "metadata": {
    "tags": []
   },
   "outputs": [],
   "source": [
    "# Code cell for Problem 4 - do not remove or modify this line\n"
   ]
  },
  {
   "cell_type": "markdown",
   "id": "2919440e-f175-4321-9e34-c842de1d9317",
   "metadata": {},
   "source": [
    "**Problem 5**\n",
    "\n",
    "We're only interested in transactions corresponding to a person. Write a function **pfizer_substring** that takes as input a string and outputs True if the input string contains \"pfizer\" as a substring (without the quotation marks). **You should make your test case insensitive.**"
   ]
  },
  {
   "cell_type": "code",
   "execution_count": null,
   "id": "12aad4fa-aaa0-43b7-8293-d7dbc04d8cbd",
   "metadata": {
    "tags": []
   },
   "outputs": [],
   "source": [
    "# Code cell for Problem 5 - do not delete or modify this line\n",
    "def pfizer_substring(x):\n",
    "    ..."
   ]
  },
  {
   "cell_type": "code",
   "execution_count": null,
   "id": "ea9d9d5b-a13c-4a83-b976-3c1307cf694f",
   "metadata": {
    "tags": []
   },
   "outputs": [],
   "source": [
    "# Test cell for Problem 5 - do not delete or modify this cell\n",
    "# Do execute it\n",
    "print(pfizer_substring(\"JOE PFIZER SMITH\"))\n",
    "print(pfizer_substring(\"PFEIZER\"))\n",
    "print(pfizer_substring(\"PfIZER\"))\n",
    "\n"
   ]
  },
  {
   "cell_type": "markdown",
   "id": "6489ec38-fa53-4f1e-a952-37f87c6709eb",
   "metadata": {},
   "source": [
    "**Problem 6**\n",
    "\n",
    "Use the function you created in Problem 5 to create a new data frame that contains all rows in the previous data frame whose OwnerName does not contain \"pfizer\" as a substring (case insensitive).\n",
    "\n",
    "Call your new dataframe **df2.**"
   ]
  },
  {
   "cell_type": "code",
   "execution_count": null,
   "id": "a3c51ffa-cab2-4287-8ccb-721da666847a",
   "metadata": {
    "tags": []
   },
   "outputs": [],
   "source": [
    "# Code cell for Problem 6 - do not delete or modify this line\n"
   ]
  },
  {
   "cell_type": "code",
   "execution_count": null,
   "id": "4963ff2f-f52d-483b-b6b4-497fe4dfdc6e",
   "metadata": {
    "tags": []
   },
   "outputs": [],
   "source": [
    "# Test cell for Problem 6 - do not delete or modify this cell\n",
    "# Do execute it\n",
    "print(df2.shape)"
   ]
  },
  {
   "cell_type": "markdown",
   "id": "06342579-7e86-47d3-94ae-725a14c5afe3",
   "metadata": {},
   "source": [
    "**From this point on, all questions will be based on the data in df2 i.e. all transactions in which Pfizer is the owner should be ignored**"
   ]
  },
  {
   "cell_type": "markdown",
   "id": "20e34dbd-e750-4280-aace-723528236285",
   "metadata": {},
   "source": [
    "**Problem 7**\n",
    "\n",
    "Write a function called **df_summary** that takes as input \n",
    "\n",
    "- a **data frame** all of whose transaction dates are identical and having the same columns as df2 (think of this as the result of selecting all rows in df2 with a  particular TransDate) \n",
    "\n",
    "and that outputs \n",
    "\n",
    "- a **dictionary** whose keys correspond to the owner names appearing in the input data frame, and whose value for some key is a 3-tuple with \n",
    "> - the 0th entry of the 3-tuple should be a list of the Shares for transactions for that owner on that date\n",
    "> - the 1th entry of the 3-tuple should be a list containing the price per share for each transaction in the list making up the 0th entry list (using the same order)\n",
    "> - the 2-th entry of the 3-tuple should be a list of the ADCodes corresponding to each transaction in the 0th entry list (using the same order)\n"
   ]
  },
  {
   "cell_type": "code",
   "execution_count": null,
   "id": "bc839cfd-2d1b-4469-a3c7-0537e0b9907f",
   "metadata": {
    "tags": []
   },
   "outputs": [],
   "source": [
    "# Code cell for Problem 7 - do not delete or modify this line \n",
    "def df_summary(dt):\n",
    "    ..."
   ]
  },
  {
   "cell_type": "code",
   "execution_count": null,
   "id": "a14a0ee5-8795-4987-a192-ea766b1336e0",
   "metadata": {},
   "outputs": [],
   "source": [
    "# Test cell for Problem 7 - do not delete or modify this cell\n",
    "# Do execute it\n",
    "g=df2.groupby(\"TransDate\")\n",
    "dt=g.get_group(\"2004-02-26\")\n",
    "df_summary(dt)"
   ]
  },
  {
   "cell_type": "markdown",
   "id": "a0fb6a34-c82e-4d92-bd51-1060bede0e8a",
   "metadata": {},
   "source": [
    "**Problem 8**\n",
    "\n",
    "Use the function in Problem 7 to create a series **df2** called **TransDateSummary** that has a row for each date in which there is at least one non-derivative transaction, whose index consists of the transaction dates and whose values are the dictionaries produced by the function in Problem 7 for every transaction date.\n",
    "Try to make your code use as few lines as possible. (Aim for at most 2!!!)"
   ]
  },
  {
   "cell_type": "code",
   "execution_count": null,
   "id": "342f7247-1126-4920-a6e2-f2c6a4e38285",
   "metadata": {
    "tags": []
   },
   "outputs": [],
   "source": [
    "# Code cell for Problem 8 - do not delete or modify this line \n"
   ]
  },
  {
   "cell_type": "markdown",
   "id": "2837c6de-88c3-48a3-b799-1747c1700162",
   "metadata": {},
   "source": [
    "**Problem 9**\n",
    "\n",
    "Use your series in Problem 8 to create a data frame called **TransDateSummaryDF** \n",
    "with\n",
    "\n",
    "- 0,1,2,.... and has two columns:\n",
    "- a column called **TDate** with the transaction dates in the TransDateSummary index, **converted to datetime** using the pd.to_datetime function, ordered from first to last date\n",
    "- a column of values called **TDSummary** that consists of the corresponding dictionaries in the series."
   ]
  },
  {
   "cell_type": "code",
   "execution_count": null,
   "id": "269cd324-a77b-4762-8338-7f6f16630611",
   "metadata": {
    "tags": []
   },
   "outputs": [],
   "source": [
    "# Code cell for Problem 9 - do not delete or modify this line \n"
   ]
  },
  {
   "cell_type": "code",
   "execution_count": null,
   "id": "dc0fcc8a-6901-4597-adbe-f90871f979dd",
   "metadata": {
    "tags": []
   },
   "outputs": [],
   "source": [
    "# Test cell1 for Problem 9 - do not delete or modify this cell\n",
    "# Do execute it\n",
    "print(TransDateSummaryDF.iloc[123])\n",
    "print(TransDateSummaryDF.iloc[78])\n",
    "print(TransDateSummaryDF.iloc[234])\n",
    "print(TransDateSummaryDF.iloc[319])"
   ]
  },
  {
   "cell_type": "markdown",
   "id": "48a8637d-9deb-4267-be6f-b6101b4c1355",
   "metadata": {
    "tags": []
   },
   "source": [
    "**Problem 10**\n",
    "\n",
    "Do any of the owners status (director, officer, ten percent owner) every change?\n",
    "\n",
    "Make a list called ***SummaryOfChanges** that summarizes all such changes. \n",
    "\n",
    "Your list should contain a 4-tuple for each instance in which, for some owner the status variable that changed on some transaction date and differs for that owner from the status on the most recent preceding transaction date.\n",
    "The tuple should contain:\n",
    "\n",
    "- owner name\n",
    "- transaction date when status changed\n",
    "- name of status (\"IsDir\",\"IsOff\",\"IsTen\") that changed\n",
    "- value of status on the date when the change took place\n",
    "\n",
    "You should do this with the data frame for which PFIZER is not the owner.\n",
    "\n",
    "Use the following cell for your code."
   ]
  },
  {
   "cell_type": "code",
   "execution_count": null,
   "id": "04247015-b325-47dc-9981-d615af4b418c",
   "metadata": {
    "tags": []
   },
   "outputs": [],
   "source": [
    "# Code cell for Problem 10 - do not delete or modify this line\n"
   ]
  },
  {
   "cell_type": "code",
   "execution_count": null,
   "id": "e3820035-84ae-41f8-b777-8fa05298805f",
   "metadata": {
    "tags": []
   },
   "outputs": [],
   "source": [
    "# Test cell for Problem 10 - do not delete or modify this cell\n",
    "# Do execute it\n",
    "print(len(SummaryOfChanges))\n",
    "for x in SummaryOfChanges:\n",
    "    print(x)"
   ]
  },
  {
   "cell_type": "markdown",
   "id": "503214cc-044b-43d0-963c-df78d5cdb23f",
   "metadata": {},
   "source": [
    "**Problem 11**\n",
    "\n",
    "Create a dataframe called **df3** containing a row for each date on which a transaction took place with the following columns:\n",
    "\n",
    "- **tdate** = transaction date\\\n",
    "- **dayoweek** = which day of the week did the transaction take place on (\"Mon\",\"Tue\",\"Wed\",\"Thu\",\"Fri\",\"Sat\",\"Sun\")\n",
    "- **month** = month in which transaction took place \n",
    "(\"Jan\",\"Feb\",\"Mar\",\"Apr\",\"May\",\"Jun\",\"Jul\",\"Aug\",\"Sep\",\"Oct\",\"Nov\",\"Dec\")\n",
    "- **day** = day number in which transaction took place e.g. for July 23, 2003 the day would be 23\n",
    "- **year** = year of transaction date \n",
    "- **ntrans** = number of transactions on that date i.e. number of rows in df2 with this transaction date\n",
    "- **ashares** = total number of shares acquired on that date\n",
    "- **atrans** = total number of transactions on that date that in which shares were acquired\n",
    "- **dshares** = total number of shares disposed of on that date\n",
    "- **dtrans** total number of transactions on that date in which shares were disposed of\n",
    "- **nowners** total number of owners who had transactions on that date\n",
    "\n",
    "Make your dataframe sorted by tdate, and make the index 0,1,2,..."
   ]
  },
  {
   "cell_type": "code",
   "execution_count": null,
   "id": "563eb679-27d4-4a74-a152-19ec141b4ac7",
   "metadata": {
    "tags": []
   },
   "outputs": [],
   "source": [
    "# Code cell for Problem 11 - do not delete or modify this line\n",
    "def summarize_date(dt):\n"
   ]
  },
  {
   "cell_type": "code",
   "execution_count": null,
   "id": "03cb5776-ecb1-4ebd-acc2-c7dae0ec0835",
   "metadata": {
    "tags": []
   },
   "outputs": [],
   "source": [
    "# Test cell for Problem 11 - do not delete or modify this cell\n",
    "# Do execute it\n",
    "print(df3.shape)\n",
    "I=[25,50,75,100, 125,150,175, 200, 225,250,275,300]\n",
    "print(df3.iloc[I])\n",
    "df3.dtypes"
   ]
  },
  {
   "cell_type": "markdown",
   "id": "dba66dae-6fe6-4a1f-94ac-cb1bd5910458",
   "metadata": {},
   "source": [
    "**Problem 12**\n",
    "\n",
    "Consider 10 year period defined by years 2013,...,2022. Use df3 to determine \n",
    "\n",
    "- the total number of days in which transactions took place \n",
    "during the entire period (assign this to a variable called **NTransactionDays**),\n",
    "\n",
    "- the year during this period with the most transaction days (assign this to **YearOfMaxTransactionDays**), and\n",
    "\n",
    "- the number of transaction days during the year with the most transaction days (assign this to a variable called **MaxTransactionDays**).\n",
    "\n",
    "Use the following cell for your code."
   ]
  },
  {
   "cell_type": "code",
   "execution_count": null,
   "id": "550b20b5-13b3-4d81-b912-541b029c0adc",
   "metadata": {
    "tags": []
   },
   "outputs": [],
   "source": [
    "# Code cell for Problem 12 - do not delete or modify this line\n"
   ]
  },
  {
   "cell_type": "code",
   "execution_count": null,
   "id": "ec284936-23b2-4a68-9531-bbdf84e8261e",
   "metadata": {
    "tags": []
   },
   "outputs": [],
   "source": [
    "# Test cell for Problem 12 - do not delete or modify this cell\n",
    "# Do execute it\n",
    "print(NTransactionDays)\n",
    "print(YearOfMaxTransactionDays)\n",
    "print(MaxTransactionDays)\n"
   ]
  },
  {
   "cell_type": "markdown",
   "id": "0f1384b2-d68c-49d5-a0f4-1d5311e6f7bb",
   "metadata": {
    "tags": []
   },
   "source": [
    "**Problem 13**\n",
    "\n",
    "Is the maximum number of transaction days in a year during the 10 year period found in the Problem 12 explainable by chance alone? To answer this, take the total number of transactions (NTransactionDays) in the 10 year period and randomly assign them to years by sampling a year with replacement for each transaction and determine in 10,000 Monte-Carlo trials the proportion of trials that occur in which the maximun number of transactions in a year is at least the maximum obtained from the actual data (MaxTransactionDays).\n",
    "\n",
    "Use the following cell for your code and in that cell assign the proportion to a variable called **ProportionOfTrials**."
   ]
  },
  {
   "cell_type": "code",
   "execution_count": null,
   "id": "dc3b88ce-1f27-4b31-a5c1-6defb758e0b0",
   "metadata": {
    "tags": []
   },
   "outputs": [],
   "source": [
    "# Code cell for Problem 13 - do not delete or modify this line\n"
   ]
  },
  {
   "cell_type": "code",
   "execution_count": null,
   "id": "5de8107f-ad45-4c09-8a35-3eb11caf88cc",
   "metadata": {
    "tags": []
   },
   "outputs": [],
   "source": [
    "# Test cell for Problem 13 - do not delete or modify this cell\n",
    "# Do execute it\n",
    "print(ProportionOfTrials)"
   ]
  },
  {
   "cell_type": "markdown",
   "id": "a2ed06d7-6e22-4ccb-a600-d1701d5879bb",
   "metadata": {},
   "source": [
    "**Problem 14**\n",
    "\n",
    "Use the data frame df3 to create a new dataframe called **FebruaryDF** that contains a single row for every year (2004-2023) that has year as an index and contains the following columns:\n",
    "\n",
    "- **ntrans** = total number of transactions that took place in February of the year \n",
    "- **ashares** = number of shares acquired in February of the year\n",
    "- **atrans** = number of transactions in February of the year that were acquisitions\n",
    "- **dshares** = number of shares disposed of in February of the year\n",
    "- **dtrans** = number of transactions in February of the year in which shares were disposed of\n",
    "\n",
    "\n",
    "**Make sure these are the only columns.**\n",
    "\n",
    "Use the following cell for your code."
   ]
  },
  {
   "cell_type": "code",
   "execution_count": null,
   "id": "88cc32d8-0b97-44e9-b60b-24e904bef96d",
   "metadata": {
    "tags": []
   },
   "outputs": [],
   "source": [
    "# Code cell for Problem 14 - do not delete or modify this line\n"
   ]
  },
  {
   "cell_type": "code",
   "execution_count": null,
   "id": "86e73283-407a-4b80-8142-4415bdb9aef7",
   "metadata": {
    "tags": []
   },
   "outputs": [],
   "source": [
    "# Test cell for Problem 14 - do not delete or modify this cell\n",
    "# Do execute it\n",
    "print(FebruaryDF.shape)\n",
    "print(FebruaryDF.columns)\n",
    "print(FebruaryDF)"
   ]
  },
  {
   "cell_type": "markdown",
   "id": "a564b40b-43eb-40cc-917d-7bfec3a931bd",
   "metadata": {
    "tags": []
   },
   "source": [
    "Note that in every February of the years from 2004 to 2014 more transitions involving acqusitions occured than disposals, and from 2015 on the opposite was true. Still, in every February except 2004 and 2023\n",
    "more shares were acquired than disposed of."
   ]
  },
  {
   "cell_type": "markdown",
   "id": "21501d39-aec4-484c-850d-c7bc4bac41af",
   "metadata": {
    "tags": []
   },
   "source": [
    "**Problem 15**\n",
    "\n",
    "Go back to df2 from Problem 6 and make a dataframe called **OwnerSummary** with two columns. \n",
    "\n",
    "- **OwnerName** = owner name\n",
    "- **NTransactions** = total number of transactions for that owner\n",
    "\n",
    "Your dataframe should have index 0,1,2,... and the rows should be ordered by NTransactions in decreasing order.\n",
    "\n",
    "Use the following cell for your code."
   ]
  },
  {
   "cell_type": "code",
   "execution_count": null,
   "id": "095412e8-a607-40be-aa0f-e5d5e7589565",
   "metadata": {
    "tags": []
   },
   "outputs": [],
   "source": [
    "# Code cell for Problem 15 - do not delete or modify this line\n"
   ]
  },
  {
   "cell_type": "code",
   "execution_count": null,
   "id": "0301445c-4e10-4de7-855f-684dd81c3851",
   "metadata": {
    "tags": []
   },
   "outputs": [],
   "source": [
    "# Test cell for Problem 15 - do not delete or modify this cell\n",
    "# Do execute it\n",
    "print(OwnerSummary.shape)\n",
    "print(OwnerSummary.index)\n",
    "print(OwnerSummary.columns)\n",
    "print(OwnerSummary.loc[0:10])"
   ]
  },
  {
   "cell_type": "markdown",
   "id": "f1935cc3-1cbf-42b8-9954-14d791136154",
   "metadata": {},
   "source": [
    "**Problem 16**\n",
    "\n",
    "We're interested in investigating instances for an owner in which, during some date windows,  \n",
    "\n",
    "- the owner acquired some shares and not dispose of any shares, or\n",
    "- the owner disposed of some shares but did not acquire any.\n",
    "\n",
    "\n",
    "Write a function called **OwnerSharesInWindow** that takes as inputs the following:\n",
    "\n",
    "- **oname** = owner name\n",
    "- **date** = start date for window (a datetime object)\n",
    "- **wdays** = number of days in window\n",
    "\n",
    "and that outputs \n",
    "\n",
    "- **nshares** = the total shares acquired by the owner during the period from the input date until up to and including wdays days after the input date, minus the share disposed of during that time period.\n",
    "\n",
    "Your function should use the data from the df2 dataframe.\n",
    "\n",
    "Use the following code for your solution."
   ]
  },
  {
   "cell_type": "code",
   "execution_count": null,
   "id": "65971609-7eb3-4bd9-bee9-a678d5f136f9",
   "metadata": {
    "tags": []
   },
   "outputs": [],
   "source": [
    "# Code cell for Problem 16 - do not delete or modify this line\n",
    "def OwnerSharesInWindow(oname,date,wdays):\n",
    "    ..."
   ]
  },
  {
   "cell_type": "code",
   "execution_count": null,
   "id": "50791f2b-122f-4e1a-9484-94557d361101",
   "metadata": {
    "tags": []
   },
   "outputs": [],
   "source": [
    "# Test cell for Problem 16 - do not delete or modify this cell\n",
    "# Do execute it\n",
    "oname=\"READ IAN C\"\n",
    "date=datetime.datetime(2007,2,7)\n",
    "print(date)\n",
    "OwnerSharesInWindow(oname,date,1)"
   ]
  },
  {
   "cell_type": "markdown",
   "id": "df204191-a095-44c1-b53b-a3053e5905ea",
   "metadata": {},
   "source": [
    "**Problem 17**\n",
    "\n",
    "Read in the data from the file \"PFESharePriceHistory.csv\" and plot the \"Close\" price (y-axis) vs Date (x-axis) in a **scatter plot**\n",
    "for the period from 2/1/2009 to 12/31/2105.  Use s=1 for the size of the points. You should see price rise overall during this period.\n",
    "\n",
    "Use the following cell for your code."
   ]
  },
  {
   "cell_type": "code",
   "execution_count": null,
   "id": "bbff4281-6ffd-4f33-a4cd-5bde19596d24",
   "metadata": {
    "tags": []
   },
   "outputs": [],
   "source": [
    "# Code cell for Problem 17 - do not modify or delete this line\n"
   ]
  },
  {
   "cell_type": "markdown",
   "id": "22005116-558a-4694-93a4-605295bc7fd6",
   "metadata": {},
   "source": [
    "**Problem 18**\n",
    "\n",
    "Plot the \"Close\" price (y-axis) vs Date (x-axis) in a **scatter plot** for the period from 6/1/2007 to 3/5/2009.  Use s=1 for the size of the points. You should see price drop overall during this period.\n",
    "\n",
    "Use the following cell for your code."
   ]
  },
  {
   "cell_type": "code",
   "execution_count": null,
   "id": "ebca570a-2602-4d4c-b3c6-f36189ca04d3",
   "metadata": {
    "tags": []
   },
   "outputs": [],
   "source": [
    "# Code cell for Problem 18 - do not modify or delete this line\n"
   ]
  },
  {
   "cell_type": "markdown",
   "id": "c18f28bf-d98f-414a-bf44-a3dd2d129b10",
   "metadata": {},
   "source": [
    "**Problem 19**\n",
    "\n",
    "We would like to determine whether there is a tendency to acquire shares before a rise in price or to dispose of shares before a drop in price, which may constiture evidence of insider trading.\n",
    "\n",
    "Write a function called **SummarizeTransactionsDuringPeriod** that takes as inputs:\n",
    "\n",
    "- **date1** = a datetime \n",
    "- **date2** = a date time after date1 \n",
    "\n",
    "and returns as output a data frame consisting of two columns\n",
    "\n",
    "- **OwnerName** = name of owner\n",
    "- **NShares** = number of acquired minus shares disposed of for all transactions for the owner from date1 up to and including date2.\n",
    "\n",
    "with the data frame sorted by NShares from smallest to largest.\n",
    "\n",
    "**Your solution should be based on data in df2 and should have a row for every owner in df2 whose NShares value is non-zero.**\n",
    "\n",
    "Use the following function for your code."
   ]
  },
  {
   "cell_type": "code",
   "execution_count": null,
   "id": "60e8888f-32cb-45ca-a186-fe1fca9247d4",
   "metadata": {
    "tags": []
   },
   "outputs": [],
   "source": [
    "# Code cell for Problem 19 - do not modify or delete this line\n",
    "def SummarizeTransactionsDuringPeriod(date1,date2):\n",
    "    ..."
   ]
  },
  {
   "cell_type": "code",
   "execution_count": null,
   "id": "39327391-901a-4f2c-8e2a-e778c390122c",
   "metadata": {
    "tags": []
   },
   "outputs": [],
   "source": [
    "# Test cell for Problem 19 - do not modify or delete this cell\n",
    "# Do execute it\n",
    "date1=datetime.datetime(2005,3,1)\n",
    "date2=datetime.datetime(2007,6,1)\n",
    "dt=SummarizeTransactionsDuringPeriod(date1,date2)\n",
    "print(dt.to_string())"
   ]
  },
  {
   "cell_type": "markdown",
   "id": "5a38f996-a8b5-4b00-a522-a46436a2b950",
   "metadata": {},
   "source": [
    "**Make sure all cells can be executed without errors.**\n",
    "\n",
    "**Make sure to save the notebook before you submit it.**"
   ]
  },
  {
   "cell_type": "code",
   "execution_count": null,
   "id": "f9d9d3c2-d767-4b49-992a-b5d1c0403e2a",
   "metadata": {},
   "outputs": [],
   "source": []
  }
 ],
 "metadata": {
  "kernelspec": {
   "display_name": "Python 3 (ipykernel)",
   "language": "python",
   "name": "python3"
  },
  "language_info": {
   "codemirror_mode": {
    "name": "ipython",
    "version": 3
   },
   "file_extension": ".py",
   "mimetype": "text/x-python",
   "name": "python",
   "nbconvert_exporter": "python",
   "pygments_lexer": "ipython3",
   "version": "3.11.4"
  }
 },
 "nbformat": 4,
 "nbformat_minor": 5
}
