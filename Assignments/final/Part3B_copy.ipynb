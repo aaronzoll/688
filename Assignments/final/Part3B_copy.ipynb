{
 "cells": [
  {
   "cell_type": "markdown",
   "id": "9fbfd2ee-db2f-4a87-a0ef-6cb7a372d49a",
   "metadata": {
    "tags": []
   },
   "source": [
    "**Part 3B**\n",
    "\n",
    "**Instructions:**\n",
    "\n",
    "See the instructions in the pdf file provided in **Instructions and details for all parts**\n",
    "\n",
    "- Use this notebook to \n",
    "> - show the work you carried out to produce a prediction model and comma delimited file with your predictions of DSHARES in the test dataset.\n",
    "> - show the work you carried out to produce your estimate of M, the mean absolute error in predicting log(1+DSHARES)\n",
    "> - provide your estimate of M in the cell provided\n",
    "- You need to upload the comma delimited file for part 3A \n",
    "- You need to upload this notebook or part 3B.\n",
    "\n",
    "Use any number of cells you need to for your work. \n",
    "Make sure you assign a value to M and print it in the last (print) cell provided."
   ]
  },
  {
   "cell_type": "markdown",
   "id": "24cecfe7-3fbb-4249-8eab-47a8c0dc744d",
   "metadata": {},
   "source": []
  },
  {
   "cell_type": "code",
   "execution_count": null,
   "id": "d943ceee-f573-4c90-a61d-e77faa77d5da",
   "metadata": {},
   "outputs": [],
   "source": []
  },
  {
   "cell_type": "code",
   "execution_count": null,
   "id": "9fc0a251-186e-4ba1-bf5c-2e0255d400b3",
   "metadata": {},
   "outputs": [],
   "source": []
  },
  {
   "cell_type": "markdown",
   "id": "35afb6aa-f8e3-47c3-bbf8-b49e93ed6606",
   "metadata": {},
   "source": [
    "In the following cell assign a value to the variable **M**."
   ]
  },
  {
   "cell_type": "code",
   "execution_count": null,
   "id": "015020fa-1a24-460d-ae11-b7767dd90a91",
   "metadata": {},
   "outputs": [],
   "source": []
  },
  {
   "cell_type": "code",
   "execution_count": null,
   "id": "b892cf7e-65f8-4ba5-895b-ae4f05db4a41",
   "metadata": {
    "tags": []
   },
   "outputs": [],
   "source": [
    "# Print cell for M - do not modify or delete this line\n",
    "# Do execute it\n",
    "print(M)"
   ]
  },
  {
   "cell_type": "markdown",
   "id": "06158f3a-8730-4def-9d7b-1e755197e5fd",
   "metadata": {},
   "source": [
    "**Make sure you successfully print the value of M in the cell above**\n",
    "\n",
    "**Make sure you save your notebook before submitting it**"
   ]
  }
 ],
 "metadata": {
  "kernelspec": {
   "display_name": "Python 3 (ipykernel)",
   "language": "python",
   "name": "python3"
  },
  "language_info": {
   "codemirror_mode": {
    "name": "ipython",
    "version": 3
   },
   "file_extension": ".py",
   "mimetype": "text/x-python",
   "name": "python",
   "nbconvert_exporter": "python",
   "pygments_lexer": "ipython3",
   "version": "3.11.4"
  }
 },
 "nbformat": 4,
 "nbformat_minor": 5
}
