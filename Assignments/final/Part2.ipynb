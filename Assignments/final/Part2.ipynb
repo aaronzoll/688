{
 "cells": [
  {
   "cell_type": "markdown",
   "id": "45f72e0b-e265-4a53-a218-c0e85d08481a",
   "metadata": {},
   "source": [
    "**All 19 problems are given equal weight but if you mess up a problem that is needed to be done correctly for some later problem you may lose points on both - so be careful!!**\n",
    "\n",
    "**Execute the following cell so that you don't have to import any packages later**"
   ]
  },
  {
   "cell_type": "code",
   "execution_count": 817,
   "id": "f88f383a-ae99-4833-81be-f93e84c94289",
   "metadata": {
    "tags": []
   },
   "outputs": [],
   "source": [
    "# Do not delete or modify this cell\n",
    "# Do execute it\n",
    "import numpy as np\n",
    "import pandas as pd\n",
    "import datetime\n",
    "import re"
   ]
  },
  {
   "cell_type": "markdown",
   "id": "6bde68bc-e869-4ebb-820b-3a31f15d92ec",
   "metadata": {},
   "source": [
    "**Problem 1.**\n",
    "\n",
    "In the following cell, create a pandas data frame called **df** using the data in the PFE.csv file and convert the data type of the TransDate column to pandas datetimes."
   ]
  },
  {
   "cell_type": "code",
   "execution_count": 818,
   "id": "4ff52df7-0788-43c9-a7b7-03463757af2b",
   "metadata": {
    "tags": []
   },
   "outputs": [],
   "source": [
    "# Code cell for Problem 1 - do not delete or modify this line\n",
    "df=pd.read_csv(\"final_data.csv\")\n",
    "df[\"TransDate\"] = pd.to_datetime(df[\"TransDate\"])\n"
   ]
  },
  {
   "cell_type": "markdown",
   "id": "70085f2d-362a-4dce-b020-a021ecbbf0cb",
   "metadata": {},
   "source": [
    "**Problem 2**\n",
    "\n",
    "In the following cell create a histogram of the Shares column"
   ]
  },
  {
   "cell_type": "code",
   "execution_count": 819,
   "id": "cce09f89-003c-4ff0-8978-ed1c88e9c86a",
   "metadata": {
    "tags": []
   },
   "outputs": [
    {
     "data": {
      "text/plain": [
       "<Axes: >"
      ]
     },
     "execution_count": 819,
     "metadata": {},
     "output_type": "execute_result"
    },
    {
     "data": {
      "image/png": "[encoded data removed]",
      "text/plain": [
       "<Figure size 640x480 with 1 Axes>"
      ]
     },
     "metadata": {},
     "output_type": "display_data"
    }
   ],
   "source": [
    "# Code cell for Problem 2 - do not delete or modify this line.\n",
    "df['Shares'].hist(bins=250)"
   ]
  },
  {
   "cell_type": "markdown",
   "id": "03107a6f-2876-4091-b535-c2710bb47604",
   "metadata": {},
   "source": [
    "**Problem 3** \n",
    "\n",
    "The last histogram is problematic. Make a histogram of log(1+Shares) in the following cell."
   ]
  },
  {
   "cell_type": "code",
   "execution_count": 820,
   "id": "8815cc40-6aa0-4b0e-b386-768161d941eb",
   "metadata": {
    "tags": []
   },
   "outputs": [
    {
     "data": {
      "text/plain": [
       "<Axes: >"
      ]
     },
     "execution_count": 820,
     "metadata": {},
     "output_type": "execute_result"
    },
    {
     "data": {
      "image/png": "[encoded data removed]",
      "text/plain": [
       "<Figure size 640x480 with 1 Axes>"
      ]
     },
     "metadata": {},
     "output_type": "display_data"
    }
   ],
   "source": [
    "# Code cell for Problem 3 - do not delete or modify this line.\n",
    "x=np.log(1+df['Shares'])\n",
    "x.hist(bins=250)"
   ]
  },
  {
   "cell_type": "markdown",
   "id": "a4f0c1d9-27d3-456f-be54-9b6851270df1",
   "metadata": {},
   "source": [
    "**Problem 4**\n",
    "\n",
    "In the following code cell, print a pandas series with the OwnerName corresponding to the 25 largest values of Shares in the data frame."
   ]
  },
  {
   "cell_type": "code",
   "execution_count": 821,
   "id": "8db2894d-8c8a-468b-80aa-51422947a429",
   "metadata": {
    "tags": []
   },
   "outputs": [
    {
     "data": {
      "text/plain": [
       "411                                   PFIZER INC\n",
       "410                                   PFIZER INC\n",
       "388                                   PFIZER INC\n",
       "389                                   PFIZER INC\n",
       "426                                   PFIZER INC\n",
       "391                                   PFIZER INC\n",
       "425                                   PFIZER INC\n",
       "380                                   PFIZER INC\n",
       "399                     Pfizer Ventures (US) LLC\n",
       "387                    Eclipse Acquisition Corp.\n",
       "393                     Pfizer Manufacturing LLC\n",
       "394     Pfizer Strategic Investment Holdings LLC\n",
       "408                     Pfizer Ventures (US) LLC\n",
       "416                                   PFIZER INC\n",
       "409                     Pfizer Ventures (US) LLC\n",
       "414                                   PFIZER INC\n",
       "427                                   PFIZER INC\n",
       "1205                                  PFIZER INC\n",
       "430                                   PFIZER INC\n",
       "421                                   PFIZER INC\n",
       "407                                   PFIZER INC\n",
       "398                     Pfizer Ventures (US) LLC\n",
       "170                          STEERE WILLIAM C JR\n",
       "432                                   PFIZER INC\n",
       "1386                                  READ IAN C\n",
       "Name: OwnerName, dtype: object"
      ]
     },
     "execution_count": 821,
     "metadata": {},
     "output_type": "execute_result"
    }
   ],
   "source": [
    "# Code cell for Problem 4 - do not remove or modify this line\n",
    "s=df['Shares']\n",
    "L=list(s.nlargest(25).index)\n",
    "names=df['OwnerName']\n",
    "names.iloc[L]"
   ]
  },
  {
   "cell_type": "markdown",
   "id": "2919440e-f175-4321-9e34-c842de1d9317",
   "metadata": {},
   "source": [
    "**Problem 5**\n",
    "\n",
    "We're only interested in transactions corresponding to a person. Write a function **pfizer_substring** that takes as input a string and outputs True if the input string contains \"pfizer\" as a substring (without the quotation marks). **You should make your test case insensitive.**"
   ]
  },
  {
   "cell_type": "code",
   "execution_count": 822,
   "id": "12aad4fa-aaa0-43b7-8293-d7dbc04d8cbd",
   "metadata": {
    "tags": []
   },
   "outputs": [],
   "source": [
    "# Code cell for Problem 5 - do not delete or modify this line\n",
    "def pfizer_substring(x):\n",
    "    text=x.lower()\n",
    "    pattern=\"pfizer\"\n",
    "    m=re.search(pattern,text)\n",
    "    if m:\n",
    "        return True\n",
    "    else:\n",
    "        return False"
   ]
  },
  {
   "cell_type": "code",
   "execution_count": 823,
   "id": "ea9d9d5b-a13c-4a83-b976-3c1307cf694f",
   "metadata": {
    "tags": []
   },
   "outputs": [
    {
     "name": "stdout",
     "output_type": "stream",
     "text": [
      "True\n",
      "False\n",
      "True\n"
     ]
    }
   ],
   "source": [
    "# Test cell for Problem 5 - do not delete or modify this cell\n",
    "# Do execute it\n",
    "print(pfizer_substring(\"JOE PFIZER SMITH\"))\n",
    "print(pfizer_substring(\"PFEIZER\"))\n",
    "print(pfizer_substring(\"PfIZER\"))\n",
    "\n"
   ]
  },
  {
   "cell_type": "markdown",
   "id": "6489ec38-fa53-4f1e-a952-37f87c6709eb",
   "metadata": {},
   "source": [
    "**Problem 6**\n",
    "\n",
    "Use the function you created in Problem 5 to create a new data frame that contains all rows in the previous data frame whose OwnerName does not contain \"pfizer\" as a substring (case insensitive).\n",
    "\n",
    "Call your new dataframe **df2.**"
   ]
  },
  {
   "cell_type": "code",
   "execution_count": 824,
   "id": "a3c51ffa-cab2-4287-8ccb-721da666847a",
   "metadata": {
    "tags": []
   },
   "outputs": [],
   "source": [
    "# Code cell for Problem 6 - do not delete or modify this line\n",
    "bools = [not pfizer_substring(x) for x in df['OwnerName']]\n",
    "df2=df[bools]\n"
   ]
  },
  {
   "cell_type": "code",
   "execution_count": 825,
   "id": "4963ff2f-f52d-483b-b6b4-497fe4dfdc6e",
   "metadata": {
    "tags": []
   },
   "outputs": [
    {
     "name": "stdout",
     "output_type": "stream",
     "text": [
      "(2377, 12)\n"
     ]
    }
   ],
   "source": [
    "# Test cell for Problem 6 - do not delete or modify this cell\n",
    "# Do execute it\n",
    "print(df2.shape)"
   ]
  },
  {
   "cell_type": "markdown",
   "id": "06342579-7e86-47d3-94ae-725a14c5afe3",
   "metadata": {},
   "source": [
    "**From this point on, all questions will be based on the data in df2 i.e. all transactions in which Pfizer is the owner should be ignored**"
   ]
  },
  {
   "cell_type": "markdown",
   "id": "20e34dbd-e750-4280-aace-723528236285",
   "metadata": {},
   "source": [
    "**Problem 7**\n",
    "\n",
    "Write a function called **df_summary** that takes as input \n",
    "\n",
    "- a **data frame** all of whose transaction dates are identical and having the same columns as df2 (think of this as the result of selecting all rows in df2 with a  particular TransDate) \n",
    "\n",
    "and that outputs \n",
    "\n",
    "- a **dictionary** whose keys correspond to the owner names appearing in the input data frame, and whose value for some key is a 3-tuple with \n",
    "> - the 0th entry of the 3-tuple should be a list of the Shares for transactions for that owner on that date\n",
    "> - the 1th entry of the 3-tuple should be a list containing the price per share for each transaction in the list making up the 0th entry list (using the same order)\n",
    "> - the 2-th entry of the 3-tuple should be a list of the ADCodes corresponding to each transaction in the 0th entry list (using the same order)\n"
   ]
  },
  {
   "cell_type": "code",
   "execution_count": 826,
   "id": "bc839cfd-2d1b-4469-a3c7-0537e0b9907f",
   "metadata": {
    "tags": []
   },
   "outputs": [],
   "source": [
    "# Code cell for Problem 7 - do not delete or modify this line \n",
    "def df_summary(dt):\n",
    "    dict={}\n",
    "    names = [x for x in dt.OwnerName]\n",
    "    g1 = dt.groupby(\"OwnerName\")\n",
    "    for name in names:\n",
    "        if name in dict.keys():\n",
    "            continue\n",
    "        else:\n",
    "            dt1 = g1.get_group(name)\n",
    "            shares = [x for x in dt1.Shares]\n",
    "            pps = [x for x in dt1.PPS]\n",
    "            adcodes = [x for x in dt1.ADCode] \n",
    "            dict[name] = (shares,pps,adcodes)\n",
    "    return dict"
   ]
  },
  {
   "cell_type": "code",
   "execution_count": 827,
   "id": "a14a0ee5-8795-4987-a192-ea766b1336e0",
   "metadata": {},
   "outputs": [
    {
     "name": "stdout",
     "output_type": "stream",
     "text": [
      "                  Folder             OwnerName  isDir  isOff  isTen  \\\n",
      "36  0000078003-04-000033  CANGIALOSI LORETTA V      0      1      0   \n",
      "37  0000078003-04-000033  CANGIALOSI LORETTA V      0      1      0   \n",
      "38  0000078003-04-000034          CORR PETER B      0      1      0   \n",
      "39  0000078003-04-000035    HARDWICK CHARLES L      0      1      0   \n",
      "40  0000078003-04-000037         KATEN KAREN L      0      1      0   \n",
      "41  0000078003-04-000037         KATEN KAREN L      0      1      0   \n",
      "42  0000078003-04-000038     KINDLER JEFFREY B      0      1      0   \n",
      "43  0000078003-04-000039     MCKINNELL HENRY A      1      1      0   \n",
      "44  0000078003-04-000040       MITCHELL JOHN W      0      1      0   \n",
      "45  0000078003-04-000041      SHEDLARZ DAVID L      0      1      0   \n",
      "46  0000078003-04-000041      SHEDLARZ DAVID L      0      1      0   \n",
      "47  0000078003-04-000043      LAMATTINA JOHN L      0      1      0   \n",
      "48  0000078003-04-000043      LAMATTINA JOHN L      0      1      0   \n",
      "\n",
      "        SecTitle  TransDate   Shares    PPS ADCode  SharesAfter DIOwner  \n",
      "36  Common Stock 2004-02-26  13560.0   0.00      A      61696.0       D  \n",
      "37  Common Stock 2004-02-26   1175.0  37.15      D      60521.0       D  \n",
      "38  Common Stock 2004-02-26  35460.0   0.00      A      80743.0       D  \n",
      "39  Common Stock 2004-02-26  15480.0   0.00      A      36131.0       D  \n",
      "40  Common Stock 2004-02-26  40680.0   0.00      A     682146.0       D  \n",
      "41  Common Stock 2004-02-26  16049.0  37.15      D     666097.0       D  \n",
      "42  Common Stock 2004-02-26  23100.0   0.00      A      48600.0       D  \n",
      "43  Common Stock 2004-02-26  75060.0   0.00      A    1224147.0       D  \n",
      "44  Common Stock 2004-02-26  18810.0   0.00      A     694677.0       D  \n",
      "45  Common Stock 2004-02-26  32760.0   0.00      A     486531.0       D  \n",
      "46  Common Stock 2004-02-26  12924.0  37.15      D     473607.0       D  \n",
      "47  Common Stock 2004-02-26  17910.0   0.00      A     299121.0       D  \n",
      "48  Common Stock 2004-02-26   5633.0  37.15      D     293488.0       D  \n"
     ]
    },
    {
     "data": {
      "text/plain": [
       "{'CANGIALOSI LORETTA V': ([13560.0, 1175.0], [0.0, 37.15], ['A', 'D']),\n",
       " 'CORR PETER B': ([35460.0], [0.0], ['A']),\n",
       " 'HARDWICK CHARLES L': ([15480.0], [0.0], ['A']),\n",
       " 'KATEN KAREN L': ([40680.0, 16049.0], [0.0, 37.15], ['A', 'D']),\n",
       " 'KINDLER JEFFREY B': ([23100.0], [0.0], ['A']),\n",
       " 'MCKINNELL HENRY A': ([75060.0], [0.0], ['A']),\n",
       " 'MITCHELL JOHN W': ([18810.0], [0.0], ['A']),\n",
       " 'SHEDLARZ DAVID L': ([32760.0, 12924.0], [0.0, 37.15], ['A', 'D']),\n",
       " 'LAMATTINA JOHN L': ([17910.0, 5633.0], [0.0, 37.15], ['A', 'D'])}"
      ]
     },
     "execution_count": 827,
     "metadata": {},
     "output_type": "execute_result"
    }
   ],
   "source": [
    "# Test cell for Problem 7 - do not delete or modify this cell\n",
    "# Do execute it\n",
    "g=df2.groupby(\"TransDate\")\n",
    "dt=g.get_group(\"2004-02-26\")\n",
    "print(dt)\n",
    "df_summary(dt)"
   ]
  },
  {
   "cell_type": "markdown",
   "id": "a0fb6a34-c82e-4d92-bd51-1060bede0e8a",
   "metadata": {},
   "source": [
    "**Problem 8**\n",
    "\n",
    "Use the function in Problem 7 to create a series **df2** called **TransDateSummary** that has a row for each date in which there is at least one non-derivative transaction, whose index consists of the transaction dates and whose values are the dictionaries produced by the function in Problem 7 for every transaction date.\n",
    "Try to make your code use as few lines as possible. (Aim for at most 2!!!)"
   ]
  },
  {
   "cell_type": "code",
   "execution_count": 828,
   "id": "342f7247-1126-4920-a6e2-f2c6a4e38285",
   "metadata": {
    "tags": []
   },
   "outputs": [],
   "source": [
    "# Code cell for Problem 8 - do not delete or modify this line \n",
    "TransDateVals= [df_summary(df2.groupby(\"TransDate\").get_group(df2.TransDate.unique()[i])) for i in range(len(df2.TransDate.unique()))]\n",
    "TransDateSummary = pd.Series(TransDateVals, index=df2.TransDate.unique())"
   ]
  },
  {
   "cell_type": "markdown",
   "id": "2837c6de-88c3-48a3-b799-1747c1700162",
   "metadata": {},
   "source": [
    "**Problem 9**\n",
    "\n",
    "Use your series in Problem 8 to create a data frame called **TransDateSummaryDF** \n",
    "with\n",
    "\n",
    "- 0,1,2,.... and has two columns:\n",
    "- a column called **TDate** with the transaction dates in the TransDateSummary index, **converted to datetime** using the pd.to_datetime function, ordered from first to last date\n",
    "- a column of values called **TDSummary** that consists of the corresponding dictionaries in the series."
   ]
  },
  {
   "cell_type": "code",
   "execution_count": 829,
   "id": "269cd324-a77b-4762-8338-7f6f16630611",
   "metadata": {
    "tags": []
   },
   "outputs": [
    {
     "data": {
      "text/html": [
       "<div>\n",
       "<style scoped>\n",
       "    .dataframe tbody tr th:only-of-type {\n",
       "        vertical-align: middle;\n",
       "    }\n",
       "\n",
       "    .dataframe tbody tr th {\n",
       "        vertical-align: top;\n",
       "    }\n",
       "\n",
       "    .dataframe thead th {\n",
       "        text-align: right;\n",
       "    }\n",
       "</style>\n",
       "<table border=\"1\" class=\"dataframe\">\n",
       "  <thead>\n",
       "    <tr style=\"text-align: right;\">\n",
       "      <th></th>\n",
       "      <th>TDate</th>\n",
       "      <th>TDSummary</th>\n",
       "    </tr>\n",
       "  </thead>\n",
       "  <tbody>\n",
       "    <tr>\n",
       "      <th>0</th>\n",
       "      <td>2003-07-30</td>\n",
       "      <td>{'MITCHELL JOHN W': ([19044.0], [5.25], ['A'])}</td>\n",
       "    </tr>\n",
       "    <tr>\n",
       "      <th>1</th>\n",
       "      <td>2003-08-27</td>\n",
       "      <td>{'CANGIALOSI LORETTA V': ([3600.0, 682.0], [5....</td>\n",
       "    </tr>\n",
       "    <tr>\n",
       "      <th>2</th>\n",
       "      <td>2003-10-02</td>\n",
       "      <td>{'CORR PETER B': ([17731.0, 5000.0, 32763.0, 1...</td>\n",
       "    </tr>\n",
       "    <tr>\n",
       "      <th>3</th>\n",
       "      <td>2003-10-06</td>\n",
       "      <td>{'CORR PETER B': ([20109.0, 1597.0], [22.77, 3...</td>\n",
       "    </tr>\n",
       "    <tr>\n",
       "      <th>4</th>\n",
       "      <td>2003-10-15</td>\n",
       "      <td>{'NORTON ROBERT W': ([1800.0], [0.0], ['D'])}</td>\n",
       "    </tr>\n",
       "    <tr>\n",
       "      <th>...</th>\n",
       "      <td>...</td>\n",
       "      <td>...</td>\n",
       "    </tr>\n",
       "    <tr>\n",
       "      <th>378</th>\n",
       "      <td>2023-03-15</td>\n",
       "      <td>{'DAMICO JENNIFER B.': ([9912.0], [40.02], ['D...</td>\n",
       "    </tr>\n",
       "    <tr>\n",
       "      <th>379</th>\n",
       "      <td>2023-03-31</td>\n",
       "      <td>{'Pao William': ([22095.0], [40.8], ['D'])}</td>\n",
       "    </tr>\n",
       "    <tr>\n",
       "      <th>380</th>\n",
       "      <td>2023-05-05</td>\n",
       "      <td>{'Gottlieb Scott': ([1000.0], [38.425], ['A'])}</td>\n",
       "    </tr>\n",
       "    <tr>\n",
       "      <th>381</th>\n",
       "      <td>2023-05-08</td>\n",
       "      <td>{'Gottlieb Scott': ([1000.0], [38.58], ['A'])}</td>\n",
       "    </tr>\n",
       "    <tr>\n",
       "      <th>382</th>\n",
       "      <td>2023-05-31</td>\n",
       "      <td>{'Denton David M': ([16223.0], [38.02], ['D'])}</td>\n",
       "    </tr>\n",
       "  </tbody>\n",
       "</table>\n",
       "<p>383 rows × 2 columns</p>\n",
       "</div>"
      ],
      "text/plain": [
       "         TDate                                          TDSummary\n",
       "0   2003-07-30    {'MITCHELL JOHN W': ([19044.0], [5.25], ['A'])}\n",
       "1   2003-08-27  {'CANGIALOSI LORETTA V': ([3600.0, 682.0], [5....\n",
       "2   2003-10-02  {'CORR PETER B': ([17731.0, 5000.0, 32763.0, 1...\n",
       "3   2003-10-06  {'CORR PETER B': ([20109.0, 1597.0], [22.77, 3...\n",
       "4   2003-10-15      {'NORTON ROBERT W': ([1800.0], [0.0], ['D'])}\n",
       "..         ...                                                ...\n",
       "378 2023-03-15  {'DAMICO JENNIFER B.': ([9912.0], [40.02], ['D...\n",
       "379 2023-03-31        {'Pao William': ([22095.0], [40.8], ['D'])}\n",
       "380 2023-05-05    {'Gottlieb Scott': ([1000.0], [38.425], ['A'])}\n",
       "381 2023-05-08     {'Gottlieb Scott': ([1000.0], [38.58], ['A'])}\n",
       "382 2023-05-31    {'Denton David M': ([16223.0], [38.02], ['D'])}\n",
       "\n",
       "[383 rows x 2 columns]"
      ]
     },
     "execution_count": 829,
     "metadata": {},
     "output_type": "execute_result"
    }
   ],
   "source": [
    "# Code cell for Problem 9 - do not delete or modify this line \n",
    "\n",
    "TransDateSummaryDF = pd.DataFrame(TransDateSummary)\n",
    "TransDateSummaryDF.reset_index(inplace=True)\n",
    "TransDateSummaryDF.rename(columns={'index':'TDate',0:'TDSummary'},inplace=True)\n",
    "TransDateSummaryDF['TDate'] = pd.to_datetime(TransDateSummaryDF['TDate'])\n",
    "TransDateSummaryDF"
   ]
  },
  {
   "cell_type": "code",
   "execution_count": 830,
   "id": "dc0fcc8a-6901-4597-adbe-f90871f979dd",
   "metadata": {
    "tags": []
   },
   "outputs": [
    {
     "name": "stdout",
     "output_type": "stream",
     "text": [
      "TDate                                  2009-02-27 00:00:00\n",
      "TDSummary    {'SUSMAN SALLY': ([10835.0], [12.31], ['D'])}\n",
      "Name: 123, dtype: object\n",
      "TDate                                      2007-01-31 00:00:00\n",
      "TDSummary    {'KINDLER JEFFREY B': ([7660.0], [0.0], ['D'])...\n",
      "Name: 78, dtype: object\n",
      "TDate                                      2015-05-29 00:00:00\n",
      "TDSummary    {'HILL CHARLES H': ([42870.0, 7489.0], [34.92,...\n",
      "Name: 234, dtype: object\n",
      "TDate                                2019-04-29 00:00:00\n",
      "TDSummary    {'ROGERS DAWN': ([4255.0], [39.59], ['D'])}\n",
      "Name: 319, dtype: object\n"
     ]
    }
   ],
   "source": [
    "# Test cell1 for Problem 9 - do not delete or modify this cell\n",
    "# Do execute it\n",
    "print(TransDateSummaryDF.iloc[123])\n",
    "print(TransDateSummaryDF.iloc[78])\n",
    "print(TransDateSummaryDF.iloc[234])\n",
    "print(TransDateSummaryDF.iloc[319])"
   ]
  },
  {
   "cell_type": "markdown",
   "id": "48a8637d-9deb-4267-be6f-b6101b4c1355",
   "metadata": {
    "tags": []
   },
   "source": [
    "**Problem 10**\n",
    "\n",
    "Do any of the owners status (director, officer, ten percent owner) every change?\n",
    "\n",
    "Make a list called ***SummaryOfChanges** that summarizes all such changes. \n",
    "\n",
    "Your list should contain a 4-tuple for each instance in which, for some owner the status variable that changed on some transaction date and differs for that owner from the status on the most recent preceding transaction date.\n",
    "The tuple should contain:\n",
    "\n",
    "- owner name\n",
    "- transaction date when status changed\n",
    "- name of status (\"IsDir\",\"IsOff\",\"IsTen\") that changed\n",
    "- value of status on the date when the change took place\n",
    "\n",
    "You should do this with the data frame for which PFIZER is not the owner.\n",
    "\n",
    "Use the following cell for your code."
   ]
  },
  {
   "cell_type": "code",
   "execution_count": 831,
   "id": "d5b74064-d2e3-4550-9de7-33e6ed91393e",
   "metadata": {},
   "outputs": [
    {
     "data": {
      "text/plain": [
       "'August'"
      ]
     },
     "execution_count": 831,
     "metadata": {},
     "output_type": "execute_result"
    }
   ],
   "source": [
    "str(df2.TransDate.dt.month_name().iloc[1])\n"
   ]
  },
  {
   "cell_type": "code",
   "execution_count": 832,
   "id": "04247015-b325-47dc-9981-d615af4b418c",
   "metadata": {
    "tags": []
   },
   "outputs": [],
   "source": [
    "# Code cell for Problem 10 - do not delete or modify this line\n",
    "dict10={}\n",
    "SummaryOfChanges=[]\n",
    "for i in range(len(df2)):\n",
    "    ps=df2.iloc[i]\n",
    "    tup=(ps.isDir,ps.isOff,ps.isTen)\n",
    "    if ps.OwnerName in dict10.keys():\n",
    "        if tup != dict10[ps.OwnerName]:\n",
    "            status=\"\"\n",
    "            stat_val=0\n",
    "            if tup[0] != dict10[ps.OwnerName][0]:\n",
    "                status = \"isDir\"\n",
    "                stat_val = ps.isDir \n",
    "            if tup[1] != dict10[ps.OwnerName][1]:\n",
    "                status = \"isOff\"\n",
    "                stat_val = ps.isOff\n",
    "            if tup[2] != dict10[ps.OwnerName][2]:\n",
    "                status = \"isTen\"\n",
    "                stat_val = ps.isTen\n",
    "            date=str(df2.TransDate.dt.day.iloc[i])+\"-\"+str(df2.TransDate.dt.month_name().iloc[i])+\"-\"+str(df2.TransDate.dt.year.iloc[i])\n",
    "            sumTup = (ps.OwnerName,date,status,stat_val)\n",
    "            SummaryOfChanges.append(sumTup)\n",
    "        \n",
    "        \n",
    "    dict10[ps.OwnerName]=(ps.isDir,ps.isOff,ps.isTen)\n"
   ]
  },
  {
   "cell_type": "code",
   "execution_count": 833,
   "id": "e3820035-84ae-41f8-b777-8fa05298805f",
   "metadata": {
    "tags": []
   },
   "outputs": [
    {
     "name": "stdout",
     "output_type": "stream",
     "text": [
      "34\n",
      "('MCKINNELL HENRY A', '2-August-2006', 'isOff', 0)\n",
      "('KINDLER JEFFREY B', '5-September-2006', 'isDir', 1)\n",
      "('STEERE WILLIAM C JR', '13-November-2009', 'isOff', 1)\n",
      "('CANGIALOSI LORETTA V', '31-December-2009', 'isDir', 1)\n",
      "('RICCIARDI NATALE S', '22-February-2010', 'isDir', 1)\n",
      "('MCLEOD MARY S', '25-February-2010', 'isDir', 1)\n",
      "('READ IAN C', '25-February-2010', 'isDir', 1)\n",
      "('SUSMAN SALLY', '25-February-2010', 'isDir', 1)\n",
      "('DAMELIO FRANK A', '25-February-2010', 'isDir', 1)\n",
      "('Dolsten Mikael', '25-February-2010', 'isDir', 1)\n",
      "('MACKAY MARTIN', '25-February-2010', 'isDir', 1)\n",
      "('Lewis-Hall Freda C', '25-February-2010', 'isDir', 1)\n",
      "('Redmond Cavan M.', '25-February-2010', 'isDir', 1)\n",
      "('SCHULMAN AMY W', '25-February-2010', 'isDir', 1)\n",
      "('RINGO WILLIAM R', '25-February-2010', 'isDir', 1)\n",
      "('KILTS JAMES M', '9-February-2010', 'isOff', 1)\n",
      "('SIMMONS DAVID S', '31-January-2011', 'isDir', 1)\n",
      "('CORNWELL W DON', '8-February-2011', 'isOff', 1)\n",
      "('BURNS M ANTHONY', '15-March-2011', 'isOff', 1)\n",
      "('SANGER STEPHEN W', '2-July-2015', 'isTen', 1)\n",
      "('MADDALUNA ANTHONY J', '1-December-2015', 'isTen', 1)\n",
      "('CANGIALOSI LORETTA V', '3-December-2015', 'isTen', 1)\n",
      "('BOURLA ALBERT', '15-December-2015', 'isTen', 1)\n",
      "('YOUNG JOHN D', '14-December-2015', 'isTen', 1)\n",
      "('DAMELIO FRANK A', '24-February-2016', 'isTen', 1)\n",
      "('Dolsten Mikael', '24-February-2016', 'isTen', 1)\n",
      "('HILL CHARLES H', '24-February-2016', 'isTen', 1)\n",
      "('JOHNSON RADY A', '24-February-2016', 'isTen', 1)\n",
      "('LANKLER DOUGLAS M', '24-February-2016', 'isTen', 1)\n",
      "('Lewis-Hall Freda C', '24-February-2016', 'isTen', 1)\n",
      "('OLSON LAURIE J', '24-February-2016', 'isTen', 1)\n",
      "('READ IAN C', '24-February-2016', 'isTen', 1)\n",
      "('SUSMAN SALLY', '24-February-2016', 'isTen', 1)\n",
      "('CORNWELL W DON', '26-February-2018', 'isTen', 1)\n"
     ]
    }
   ],
   "source": [
    "# Test cell for Problem 10 - do not delete or modify this cell\n",
    "# Do execute it\n",
    "print(len(SummaryOfChanges))\n",
    "for x in SummaryOfChanges:\n",
    "    print(x)"
   ]
  },
  {
   "cell_type": "markdown",
   "id": "503214cc-044b-43d0-963c-df78d5cdb23f",
   "metadata": {},
   "source": [
    "**Problem 11**\n",
    "\n",
    "Create a dataframe called **df3** containing a row for each date on which a transaction took place with the following columns:\n",
    "\n",
    "- **tdate** = transaction date\\\n",
    "- **dayoweek** = which day of the week did the transaction take place on (\"Mon\",\"Tue\",\"Wed\",\"Thu\",\"Fri\",\"Sat\",\"Sun\")\n",
    "- **month** = month in which transaction took place \n",
    "(\"Jan\",\"Feb\",\"Mar\",\"Apr\",\"May\",\"Jun\",\"Jul\",\"Aug\",\"Sep\",\"Oct\",\"Nov\",\"Dec\")\n",
    "- **day** = day number in which transaction took place e.g. for July 23, 2003 the day would be 23\n",
    "- **year** = year of transaction date \n",
    "- **ntrans** = number of transactions on that date i.e. number of rows in df2 with this transaction date\n",
    "- **ashares** = total number of shares acquired on that date\n",
    "- **atrans** = total number of transactions on that date that in which shares were acquired\n",
    "- **dshares** = total number of shares disposed of on that date\n",
    "- **dtrans** total number of transactions on that date in which shares were disposed of\n",
    "- **nowners** total number of owners who had transactions on that date\n",
    "\n",
    "Make your dataframe sorted by tdate, and make the index 0,1,2,..."
   ]
  },
  {
   "cell_type": "code",
   "execution_count": 834,
   "id": "563eb679-27d4-4a74-a152-19ec141b4ac7",
   "metadata": {
    "tags": []
   },
   "outputs": [
    {
     "data": {
      "text/html": [
       "<div>\n",
       "<style scoped>\n",
       "    .dataframe tbody tr th:only-of-type {\n",
       "        vertical-align: middle;\n",
       "    }\n",
       "\n",
       "    .dataframe tbody tr th {\n",
       "        vertical-align: top;\n",
       "    }\n",
       "\n",
       "    .dataframe thead th {\n",
       "        text-align: right;\n",
       "    }\n",
       "</style>\n",
       "<table border=\"1\" class=\"dataframe\">\n",
       "  <thead>\n",
       "    <tr style=\"text-align: right;\">\n",
       "      <th></th>\n",
       "      <th>tdate</th>\n",
       "      <th>dayoweek</th>\n",
       "      <th>month</th>\n",
       "      <th>day</th>\n",
       "      <th>year</th>\n",
       "      <th>ntrans</th>\n",
       "      <th>ashares</th>\n",
       "      <th>atrans</th>\n",
       "      <th>dshares</th>\n",
       "      <th>dtrans</th>\n",
       "      <th>nowners</th>\n",
       "    </tr>\n",
       "  </thead>\n",
       "  <tbody>\n",
       "    <tr>\n",
       "      <th>0</th>\n",
       "      <td>2003-07-30</td>\n",
       "      <td>Wednesday</td>\n",
       "      <td>July</td>\n",
       "      <td>30</td>\n",
       "      <td>2003</td>\n",
       "      <td>1</td>\n",
       "      <td>19044.0</td>\n",
       "      <td>1</td>\n",
       "      <td>0.0</td>\n",
       "      <td>0</td>\n",
       "      <td>1</td>\n",
       "    </tr>\n",
       "    <tr>\n",
       "      <th>1</th>\n",
       "      <td>2003-08-27</td>\n",
       "      <td>Wednesday</td>\n",
       "      <td>August</td>\n",
       "      <td>27</td>\n",
       "      <td>2003</td>\n",
       "      <td>2</td>\n",
       "      <td>3600.0</td>\n",
       "      <td>1</td>\n",
       "      <td>682.0</td>\n",
       "      <td>1</td>\n",
       "      <td>1</td>\n",
       "    </tr>\n",
       "    <tr>\n",
       "      <th>2</th>\n",
       "      <td>2003-10-02</td>\n",
       "      <td>Thursday</td>\n",
       "      <td>October</td>\n",
       "      <td>2</td>\n",
       "      <td>2003</td>\n",
       "      <td>8</td>\n",
       "      <td>73225.0</td>\n",
       "      <td>4</td>\n",
       "      <td>18793.0</td>\n",
       "      <td>4</td>\n",
       "      <td>1</td>\n",
       "    </tr>\n",
       "    <tr>\n",
       "      <th>3</th>\n",
       "      <td>2003-10-06</td>\n",
       "      <td>Monday</td>\n",
       "      <td>October</td>\n",
       "      <td>6</td>\n",
       "      <td>2003</td>\n",
       "      <td>2</td>\n",
       "      <td>20109.0</td>\n",
       "      <td>1</td>\n",
       "      <td>1597.0</td>\n",
       "      <td>1</td>\n",
       "      <td>1</td>\n",
       "    </tr>\n",
       "    <tr>\n",
       "      <th>4</th>\n",
       "      <td>2003-10-15</td>\n",
       "      <td>Wednesday</td>\n",
       "      <td>October</td>\n",
       "      <td>15</td>\n",
       "      <td>2003</td>\n",
       "      <td>1</td>\n",
       "      <td>0.0</td>\n",
       "      <td>0</td>\n",
       "      <td>1800.0</td>\n",
       "      <td>1</td>\n",
       "      <td>1</td>\n",
       "    </tr>\n",
       "    <tr>\n",
       "      <th>...</th>\n",
       "      <td>...</td>\n",
       "      <td>...</td>\n",
       "      <td>...</td>\n",
       "      <td>...</td>\n",
       "      <td>...</td>\n",
       "      <td>...</td>\n",
       "      <td>...</td>\n",
       "      <td>...</td>\n",
       "      <td>...</td>\n",
       "      <td>...</td>\n",
       "      <td>...</td>\n",
       "    </tr>\n",
       "    <tr>\n",
       "      <th>378</th>\n",
       "      <td>2023-03-15</td>\n",
       "      <td>Wednesday</td>\n",
       "      <td>March</td>\n",
       "      <td>15</td>\n",
       "      <td>2023</td>\n",
       "      <td>1</td>\n",
       "      <td>0.0</td>\n",
       "      <td>0</td>\n",
       "      <td>9912.0</td>\n",
       "      <td>1</td>\n",
       "      <td>1</td>\n",
       "    </tr>\n",
       "    <tr>\n",
       "      <th>379</th>\n",
       "      <td>2023-03-31</td>\n",
       "      <td>Friday</td>\n",
       "      <td>March</td>\n",
       "      <td>31</td>\n",
       "      <td>2023</td>\n",
       "      <td>1</td>\n",
       "      <td>0.0</td>\n",
       "      <td>0</td>\n",
       "      <td>22095.0</td>\n",
       "      <td>1</td>\n",
       "      <td>1</td>\n",
       "    </tr>\n",
       "    <tr>\n",
       "      <th>380</th>\n",
       "      <td>2023-05-05</td>\n",
       "      <td>Friday</td>\n",
       "      <td>May</td>\n",
       "      <td>5</td>\n",
       "      <td>2023</td>\n",
       "      <td>1</td>\n",
       "      <td>1000.0</td>\n",
       "      <td>1</td>\n",
       "      <td>0.0</td>\n",
       "      <td>0</td>\n",
       "      <td>1</td>\n",
       "    </tr>\n",
       "    <tr>\n",
       "      <th>381</th>\n",
       "      <td>2023-05-08</td>\n",
       "      <td>Monday</td>\n",
       "      <td>May</td>\n",
       "      <td>8</td>\n",
       "      <td>2023</td>\n",
       "      <td>1</td>\n",
       "      <td>1000.0</td>\n",
       "      <td>1</td>\n",
       "      <td>0.0</td>\n",
       "      <td>0</td>\n",
       "      <td>1</td>\n",
       "    </tr>\n",
       "    <tr>\n",
       "      <th>382</th>\n",
       "      <td>2023-05-31</td>\n",
       "      <td>Wednesday</td>\n",
       "      <td>May</td>\n",
       "      <td>31</td>\n",
       "      <td>2023</td>\n",
       "      <td>1</td>\n",
       "      <td>0.0</td>\n",
       "      <td>0</td>\n",
       "      <td>16223.0</td>\n",
       "      <td>1</td>\n",
       "      <td>1</td>\n",
       "    </tr>\n",
       "  </tbody>\n",
       "</table>\n",
       "<p>383 rows × 11 columns</p>\n",
       "</div>"
      ],
      "text/plain": [
       "         tdate   dayoweek    month  day  year  ntrans  ashares  atrans  \\\n",
       "0   2003-07-30  Wednesday     July   30  2003       1  19044.0       1   \n",
       "1   2003-08-27  Wednesday   August   27  2003       2   3600.0       1   \n",
       "2   2003-10-02   Thursday  October    2  2003       8  73225.0       4   \n",
       "3   2003-10-06     Monday  October    6  2003       2  20109.0       1   \n",
       "4   2003-10-15  Wednesday  October   15  2003       1      0.0       0   \n",
       "..         ...        ...      ...  ...   ...     ...      ...     ...   \n",
       "378 2023-03-15  Wednesday    March   15  2023       1      0.0       0   \n",
       "379 2023-03-31     Friday    March   31  2023       1      0.0       0   \n",
       "380 2023-05-05     Friday      May    5  2023       1   1000.0       1   \n",
       "381 2023-05-08     Monday      May    8  2023       1   1000.0       1   \n",
       "382 2023-05-31  Wednesday      May   31  2023       1      0.0       0   \n",
       "\n",
       "     dshares  dtrans  nowners  \n",
       "0        0.0       0        1  \n",
       "1      682.0       1        1  \n",
       "2    18793.0       4        1  \n",
       "3     1597.0       1        1  \n",
       "4     1800.0       1        1  \n",
       "..       ...     ...      ...  \n",
       "378   9912.0       1        1  \n",
       "379  22095.0       1        1  \n",
       "380      0.0       0        1  \n",
       "381      0.0       0        1  \n",
       "382  16223.0       1        1  \n",
       "\n",
       "[383 rows x 11 columns]"
      ]
     },
     "execution_count": 834,
     "metadata": {},
     "output_type": "execute_result"
    }
   ],
   "source": [
    "# Code cell for Problem 11 - do not delete or modify this line\n",
    "\n",
    "tdate=list(TransDateSummaryDF.TDate)\n",
    "dayoweek=list(TransDateSummaryDF.TDate.dt.day_name())\n",
    "month=list(TransDateSummaryDF.TDate.dt.month_name())\n",
    "day=list(TransDateSummaryDF.TDate.dt.day)\n",
    "year=list(TransDateSummaryDF.TDate.dt.year)\n",
    "ntransList=[]\n",
    "asharesList=[]\n",
    "atransList=[]\n",
    "dsharesList=[]\n",
    "dtransList=[]\n",
    "nownersList=[]\n",
    "for i in range(len(TransDateSummaryDF.TDSummary)):\n",
    "    L=list(TransDateSummaryDF.TDSummary[i].values())\n",
    "    ntrans=0\n",
    "    ashares=0\n",
    "    atrans=0\n",
    "    dshares=0\n",
    "    dtrans=0\n",
    "    nowners=len(L)\n",
    "    for ell in L:\n",
    "        ntrans+=len(ell[0])\n",
    "        for j in range(len(ell[2])):\n",
    "            if ell[2][j]=='A':\n",
    "                atrans+=1\n",
    "                ashares+=ell[0][j]\n",
    "            else:\n",
    "                dtrans+=1\n",
    "                dshares+=ell[0][j]\n",
    "    ntransList.append(ntrans)\n",
    "    asharesList.append(ashares)\n",
    "    atransList.append(atrans)\n",
    "    dsharesList.append(dshares)\n",
    "    dtransList.append(dtrans)\n",
    "    nownersList.append(nowners)\n",
    "DATA=zip(tdate,dayoweek,month,day,year,ntransList,asharesList,atransList,dsharesList,dtransList,nownersList)\n",
    "df3=pd.DataFrame(DATA, columns=['tdate','dayoweek','month','day','year','ntrans','ashares','atrans','dshares','dtrans','nowners'])\n",
    "df3\n"
   ]
  },
  {
   "cell_type": "code",
   "execution_count": 835,
   "id": "03cb5776-ecb1-4ebd-acc2-c7dae0ec0835",
   "metadata": {
    "tags": []
   },
   "outputs": [
    {
     "name": "stdout",
     "output_type": "stream",
     "text": [
      "(383, 11)\n",
      "         tdate   dayoweek     month  day  year  ntrans  ashares  atrans  \\\n",
      "25  2004-06-09  Wednesday      June    9  2004       4   1216.0       2   \n",
      "50  2005-12-15   Thursday  December   15  2005       1      0.0       0   \n",
      "75  2006-12-22     Friday  December   22  2006       1      0.0       0   \n",
      "100 2007-12-31     Monday  December   31  2007       1      0.0       0   \n",
      "125 2009-05-11     Monday       May   11  2009       1      0.0       0   \n",
      "150 2010-02-26     Friday  February   26  2010       1      0.0       0   \n",
      "175 2012-03-08   Thursday     March    8  2012       1      0.0       0   \n",
      "200 2013-11-01     Friday  November    1  2013       6  43500.0       1   \n",
      "225 2015-02-10    Tuesday  February   10  2015       1      0.0       0   \n",
      "250 2016-05-04  Wednesday       May    4  2016      18  20100.0       1   \n",
      "275 2017-08-31   Thursday    August   31  2017       4      0.0       0   \n",
      "300 2018-07-20     Friday      July   20  2018      18      0.0       0   \n",
      "\n",
      "      dshares  dtrans  nowners  \n",
      "25     1824.0       2        1  \n",
      "50     1334.0       1        1  \n",
      "75    99998.0       1        1  \n",
      "100    3659.0       1        1  \n",
      "125   21411.0       1        1  \n",
      "150   12004.0       1        1  \n",
      "175   10400.0       1        1  \n",
      "200   53500.0       5        2  \n",
      "225    9000.0       1        1  \n",
      "250  117388.0      17        3  \n",
      "275  298927.0       4        3  \n",
      "300   40381.0      18        1  \n"
     ]
    },
    {
     "data": {
      "text/plain": [
       "tdate       datetime64[ns]\n",
       "dayoweek            object\n",
       "month               object\n",
       "day                  int64\n",
       "year                 int64\n",
       "ntrans               int64\n",
       "ashares            float64\n",
       "atrans               int64\n",
       "dshares            float64\n",
       "dtrans               int64\n",
       "nowners              int64\n",
       "dtype: object"
      ]
     },
     "execution_count": 835,
     "metadata": {},
     "output_type": "execute_result"
    }
   ],
   "source": [
    "# Test cell for Problem 11 - do not delete or modify this cell\n",
    "# Do execute it\n",
    "print(df3.shape)\n",
    "I=[25,50,75,100, 125,150,175, 200, 225,250,275,300]\n",
    "print(df3.iloc[I])\n",
    "df3.dtypes"
   ]
  },
  {
   "cell_type": "markdown",
   "id": "dba66dae-6fe6-4a1f-94ac-cb1bd5910458",
   "metadata": {},
   "source": [
    "**Problem 12**\n",
    "\n",
    "Consider 10 year period defined by years 2013,...,2022. Use df3 to determine \n",
    "\n",
    "- the total number of days in which transactions took place \n",
    "during the entire period (assign this to a variable called **NTransactionDays**),\n",
    "\n",
    "- the year during this period with the most transaction days (assign this to **YearOfMaxTransactionDays**), and\n",
    "\n",
    "- the number of transaction days during the year with the most transaction days (assign this to a variable called **MaxTransactionDays**).\n",
    "\n",
    "Use the following cell for your code."
   ]
  },
  {
   "cell_type": "code",
   "execution_count": 836,
   "id": "550b20b5-13b3-4d81-b912-541b029c0adc",
   "metadata": {
    "tags": []
   },
   "outputs": [],
   "source": [
    "# Code cell for Problem 12 - do not delete or modify this line\n",
    "bool12=[y >= 2013 and y <= 2022 for y in df3.year]\n",
    "df12=df3.iloc[bool12]\n",
    "NTransactionDays=df12.shape[0]\n",
    "year_list=list(df12.year)\n",
    "YearOfMaxTransactionDays=max(set(year_list), key=year_list.count)\n",
    "bool12_2=[y == YearOfMaxTransactionDays for y in df3.year]\n",
    "df12_2=df3.iloc[bool12_2]\n",
    "MaxTransactionDays=df12_2.shape[0]\n"
   ]
  },
  {
   "cell_type": "code",
   "execution_count": 837,
   "id": "ec284936-23b2-4a68-9531-bbdf84e8261e",
   "metadata": {
    "tags": []
   },
   "outputs": [
    {
     "name": "stdout",
     "output_type": "stream",
     "text": [
      "190\n",
      "2016\n",
      "23\n"
     ]
    }
   ],
   "source": [
    "# Test cell for Problem 12 - do not delete or modify this cell\n",
    "# Do execute it\n",
    "print(NTransactionDays)\n",
    "print(YearOfMaxTransactionDays)\n",
    "print(MaxTransactionDays)\n"
   ]
  },
  {
   "cell_type": "markdown",
   "id": "0f1384b2-d68c-49d5-a0f4-1d5311e6f7bb",
   "metadata": {
    "tags": []
   },
   "source": [
    "**Problem 13**\n",
    "\n",
    "Is the maximum number of transaction days in a year during the 10 year period found in the Problem 12 explainable by chance alone? To answer this, take the total number of transactions (NTransactionDays) in the 10 year period and randomly assign them to years by sampling a year with replacement for each transaction and determine in 10,000 Monte-Carlo trials the proportion of trials that occur in which the maximun number of transactions in a year is at least the maximum obtained from the actual data (MaxTransactionDays).\n",
    "\n",
    "Use the following cell for your code and in that cell assign the proportion to a variable called **ProportionOfTrials**."
   ]
  },
  {
   "cell_type": "code",
   "execution_count": 838,
   "id": "dc3b88ce-1f27-4b31-a5c1-6defb758e0b0",
   "metadata": {
    "tags": []
   },
   "outputs": [
    {
     "name": "stdout",
     "output_type": "stream",
     "text": [
      "0.9636\n"
     ]
    }
   ],
   "source": [
    "# Code cell for Problem 13 - do not delete or modify this line\n",
    "p=0\n",
    "N=10000\n",
    "year_list=range(2013,2023)\n",
    "for i in range(N):\n",
    "    trial=list(np.random.choice(year_list,NTransactionDays))\n",
    "    max_t=max(set(trial), key=trial.count)\n",
    "    sum=0\n",
    "    for t in trial:\n",
    "        if t==max_t:\n",
    "            sum+=1\n",
    "    if sum >= MaxTransactionDays:\n",
    "        p+=1\n",
    "ProportionOfTrials = p/N\n",
    "print(ProportionOfTrials)"
   ]
  },
  {
   "cell_type": "code",
   "execution_count": 839,
   "id": "5de8107f-ad45-4c09-8a35-3eb11caf88cc",
   "metadata": {
    "tags": []
   },
   "outputs": [
    {
     "name": "stdout",
     "output_type": "stream",
     "text": [
      "0.9636\n"
     ]
    }
   ],
   "source": [
    "# Test cell for Problem 13 - do not delete or modify this cell\n",
    "# Do execute it\n",
    "print(ProportionOfTrials)"
   ]
  },
  {
   "cell_type": "markdown",
   "id": "a2ed06d7-6e22-4ccb-a600-d1701d5879bb",
   "metadata": {},
   "source": [
    "**Problem 14**\n",
    "\n",
    "Use the data frame df3 to create a new dataframe called **FebruaryDF** that contains a single row for every year (2004-2023) that has year as an index and contains the following columns:\n",
    "\n",
    "- **ntrans** = total number of transactions that took place in February of the year \n",
    "- **ashares** = number of shares acquired in February of the year\n",
    "- **atrans** = number of transactions in February of the year that were acquisitions\n",
    "- **dshares** = number of shares disposed of in February of the year\n",
    "- **dtrans** = number of transactions in February of the year in which shares were disposed of\n",
    "\n",
    "\n",
    "**Make sure these are the only columns.**\n",
    "\n",
    "Use the following cell for your code."
   ]
  },
  {
   "cell_type": "code",
   "execution_count": 840,
   "id": "88cc32d8-0b97-44e9-b60b-24e904bef96d",
   "metadata": {
    "tags": []
   },
   "outputs": [],
   "source": [
    "# Code cell for Problem 14 - do not delete or modify this line\n",
    "dict14ntrans={}\n",
    "dict14ashares={}\n",
    "dict14atrans={}\n",
    "dict14dshares={}\n",
    "dict14dtrans={}\n",
    "year_list=range(2004,2024)\n",
    "for y in year_list:\n",
    "    dict14ntrans[y]=0\n",
    "    dict14ashares[y]=0\n",
    "    dict14atrans[y]=0\n",
    "    dict14dshares[y]=0\n",
    "    dict14dtrans[y]=0\n",
    "for i in range(df3.shape[0]):\n",
    "    if df3.month.iloc[i] == \"February\":\n",
    "        dict14ntrans[df3.year.iloc[i]]+=df3.ntrans.iloc[i]\n",
    "        dict14ashares[df3.year.iloc[i]]+=df3.ashares.iloc[i]\n",
    "        dict14atrans[df3.year.iloc[i]]+=df3.atrans.iloc[i]\n",
    "        dict14dshares[df3.year.iloc[i]]+=df3.dshares.iloc[i]\n",
    "        dict14dtrans[df3.year.iloc[i]]+=df3.dtrans.iloc[i]\n",
    "FebruaryDF=pd.DataFrame({'ntrans':dict14ntrans,'ashares':dict14ashares,'atrans':dict14atrans,'dshares':dict14dshares,'dtrans':dict14dtrans})\n"
   ]
  },
  {
   "cell_type": "code",
   "execution_count": 841,
   "id": "86e73283-407a-4b80-8142-4415bdb9aef7",
   "metadata": {
    "tags": []
   },
   "outputs": [
    {
     "name": "stdout",
     "output_type": "stream",
     "text": [
      "(20, 5)\n",
      "Index(['ntrans', 'ashares', 'atrans', 'dshares', 'dtrans'], dtype='object')\n",
      "      ntrans    ashares  atrans    dshares  dtrans\n",
      "2004      18   274920.0      10   341662.0       8\n",
      "2005      18   703560.0      10   160290.0       8\n",
      "2006      30   916830.0      18    47871.0      12\n",
      "2007      31   850344.0      21   274825.0      10\n",
      "2008      26   450531.0      19    14326.0       7\n",
      "2009      26  1107341.0      17    90480.0       9\n",
      "2010      25   738394.0      18    24053.0       7\n",
      "2011      51   683578.0      26    84229.0      25\n",
      "2012      40   784059.0      24   241714.0      16\n",
      "2013      72  1538424.0      38   914017.0      34\n",
      "2014      74  1920837.0      39  1153048.0      35\n",
      "2015     145  1354161.0      30  1097276.0     115\n",
      "2016      75  1725982.0      27  1257680.0      48\n",
      "2017      81  2037940.0      27  1618969.0      54\n",
      "2018     136  4215327.0      43  2937775.0      93\n",
      "2019     105  2379200.0      38  1769561.0      67\n",
      "2020      86  1455796.0      30  1142471.0      56\n",
      "2021      68  1370189.0      22  1163045.0      46\n",
      "2022      60   825679.0      18   723464.0      42\n",
      "2023      47   367868.0      13   497309.0      34\n"
     ]
    }
   ],
   "source": [
    "# Test cell for Problem 14 - do not delete or modify this cell\n",
    "# Do execute it\n",
    "print(FebruaryDF.shape)\n",
    "print(FebruaryDF.columns)\n",
    "print(FebruaryDF)"
   ]
  },
  {
   "cell_type": "markdown",
   "id": "a564b40b-43eb-40cc-917d-7bfec3a931bd",
   "metadata": {
    "tags": []
   },
   "source": [
    "Note that in every February of the years from 2004 to 2014 more transitions involving acqusitions occured than disposals, and from 2015 on the opposite was true. Still, in every February except 2004 and 2023\n",
    "more shares were acquired than disposed of."
   ]
  },
  {
   "cell_type": "markdown",
   "id": "21501d39-aec4-484c-850d-c7bc4bac41af",
   "metadata": {
    "tags": []
   },
   "source": [
    "**Problem 15**\n",
    "\n",
    "Go back to df2 from Problem 6 and make a dataframe called **OwnerSummary** with two columns. \n",
    "\n",
    "- **OwnerName** = owner name\n",
    "- **NTransactions** = total number of transactions for that owner\n",
    "\n",
    "Your dataframe should have index 0,1,2,... and the rows should be ordered by NTransactions in decreasing order.\n",
    "\n",
    "Use the following cell for your code."
   ]
  },
  {
   "cell_type": "code",
   "execution_count": 842,
   "id": "095412e8-a607-40be-aa0f-e5d5e7589565",
   "metadata": {
    "tags": []
   },
   "outputs": [],
   "source": [
    "# Code cell for Problem 15 - do not delete or modify this line\n",
    "df2\n",
    "names=df2.OwnerName.unique()\n",
    "g=df2.groupby(\"OwnerName\")\n",
    "NTransactions = [len(g.get_group(df2.OwnerName.unique()[i])) for i in range(len(names))]\n",
    "DATA15=list(zip(names,NTransactions))\n",
    "OwnerSummary = pd.DataFrame(DATA15,columns=['OwnerName','NTransactions'])\n"
   ]
  },
  {
   "cell_type": "code",
   "execution_count": 843,
   "id": "0301445c-4e10-4de7-855f-684dd81c3851",
   "metadata": {
    "tags": []
   },
   "outputs": [
    {
     "name": "stdout",
     "output_type": "stream",
     "text": [
      "(69, 2)\n",
      "RangeIndex(start=0, stop=69, step=1)\n",
      "Index(['OwnerName', 'NTransactions'], dtype='object')\n",
      "               OwnerName  NTransactions\n",
      "0        MITCHELL JOHN W              4\n",
      "1   CANGIALOSI LORETTA V            179\n",
      "2           CORR PETER B             16\n",
      "3        NORTON ROBERT W              2\n",
      "4          KATEN KAREN L             20\n",
      "5       SHEDLARZ DAVID L             27\n",
      "6    STEERE WILLIAM C JR             33\n",
      "7     HARDWICK CHARLES L              6\n",
      "8      MCKINNELL HENRY A             17\n",
      "9      KINDLER JEFFREY B             33\n",
      "10      LAMATTINA JOHN L             29\n"
     ]
    }
   ],
   "source": [
    "# Test cell for Problem 15 - do not delete or modify this cell\n",
    "# Do execute it\n",
    "print(OwnerSummary.shape)\n",
    "print(OwnerSummary.index)\n",
    "print(OwnerSummary.columns)\n",
    "print(OwnerSummary.loc[0:10])"
   ]
  },
  {
   "cell_type": "markdown",
   "id": "f1935cc3-1cbf-42b8-9954-14d791136154",
   "metadata": {},
   "source": [
    "**Problem 16**\n",
    "\n",
    "We're interested in investigating instances for an owner in which, during some date windows,  \n",
    "\n",
    "- the owner acquired some shares and not dispose of any shares, or\n",
    "- the owner disposed of some shares but did not acquire any.\n",
    "\n",
    "\n",
    "Write a function called **OwnerSharesInWindow** that takes as inputs the following:\n",
    "\n",
    "- **oname** = owner name\n",
    "- **date** = start date for window (a datetime object)\n",
    "- **wdays** = number of days in window\n",
    "\n",
    "and that outputs \n",
    "\n",
    "- **nshares** = the total shares acquired by the owner during the period from the input date until up to and including wdays days after the input date, minus the share disposed of during that time period.\n",
    "\n",
    "Your function should use the data from the df2 dataframe.\n",
    "\n",
    "Use the following code for your solution."
   ]
  },
  {
   "cell_type": "code",
   "execution_count": 844,
   "id": "65971609-7eb3-4bd9-bee9-a678d5f136f9",
   "metadata": {
    "tags": []
   },
   "outputs": [],
   "source": [
    "# Code cell for Problem 16 - do not delete or modify this line\n",
    "def OwnerSharesInWindow(oname,date,wdays):\n",
    "    ashares=0\n",
    "    dshares=0\n",
    "    i=0\n",
    "    g=df2.groupby(\"OwnerName\")\n",
    "    df15=g.get_group(oname)\n",
    "    k=df15.shape[0]\n",
    "    while df15.TransDate.iloc[i] < date:\n",
    "        i=i+1\n",
    "    while df15.TransDate.iloc[i] <= date+datetime.timedelta(days=wdays) and i < k-1:\n",
    "        if df15.ADCode.iloc[i]=='A':\n",
    "            ashares+=df15.Shares.iloc[i]\n",
    "        else:\n",
    "            dshares+=df15.Shares.iloc[i]\n",
    "        i=i+1\n",
    "    nshares=ashares-dshares\n",
    "    return nshares\n",
    "    \n",
    "        \n",
    "    \n",
    "        "
   ]
  },
  {
   "cell_type": "code",
   "execution_count": 845,
   "id": "50791f2b-122f-4e1a-9484-94557d361101",
   "metadata": {
    "tags": []
   },
   "outputs": [
    {
     "name": "stdout",
     "output_type": "stream",
     "text": [
      "2007-02-07 00:00:00\n"
     ]
    },
    {
     "data": {
      "text/plain": [
       "0.0"
      ]
     },
     "execution_count": 845,
     "metadata": {},
     "output_type": "execute_result"
    }
   ],
   "source": [
    "# Test cell for Problem 16 - do not delete or modify this cell\n",
    "# Do execute it\n",
    "oname=\"READ IAN C\"\n",
    "date=datetime.datetime(2007,2,7)\n",
    "print(date)\n",
    "OwnerSharesInWindow(oname,date,1)"
   ]
  },
  {
   "cell_type": "markdown",
   "id": "df204191-a095-44c1-b53b-a3053e5905ea",
   "metadata": {},
   "source": [
    "**Problem 17**\n",
    "\n",
    "Read in the data from the file \"PFESharePriceHistory.csv\" and plot the \"Close\" price (y-axis) vs Date (x-axis) in a **scatter plot**\n",
    "for the period from 2/1/2009 to 12/31/2105.  Use s=1 for the size of the points. You should see price rise overall during this period.\n",
    "\n",
    "Use the following cell for your code."
   ]
  },
  {
   "cell_type": "code",
   "execution_count": 846,
   "id": "c9d721d2-8578-480e-8b33-d027982b4ea0",
   "metadata": {},
   "outputs": [
    {
     "data": {
      "text/html": [
       "<div>\n",
       "<style scoped>\n",
       "    .dataframe tbody tr th:only-of-type {\n",
       "        vertical-align: middle;\n",
       "    }\n",
       "\n",
       "    .dataframe tbody tr th {\n",
       "        vertical-align: top;\n",
       "    }\n",
       "\n",
       "    .dataframe thead th {\n",
       "        text-align: right;\n",
       "    }\n",
       "</style>\n",
       "<table border=\"1\" class=\"dataframe\">\n",
       "  <thead>\n",
       "    <tr style=\"text-align: right;\">\n",
       "      <th></th>\n",
       "      <th>Date</th>\n",
       "      <th>Open</th>\n",
       "      <th>High</th>\n",
       "      <th>Low</th>\n",
       "      <th>Close</th>\n",
       "      <th>Adj Close</th>\n",
       "      <th>Volume</th>\n",
       "    </tr>\n",
       "  </thead>\n",
       "  <tbody>\n",
       "    <tr>\n",
       "      <th>2283</th>\n",
       "      <td>2009-02-02</td>\n",
       "      <td>13.880455</td>\n",
       "      <td>14.383302</td>\n",
       "      <td>13.776091</td>\n",
       "      <td>14.127135</td>\n",
       "      <td>7.948379</td>\n",
       "      <td>72927314</td>\n",
       "    </tr>\n",
       "    <tr>\n",
       "      <th>2284</th>\n",
       "      <td>2009-02-03</td>\n",
       "      <td>13.662239</td>\n",
       "      <td>14.592030</td>\n",
       "      <td>13.662239</td>\n",
       "      <td>14.421252</td>\n",
       "      <td>8.113860</td>\n",
       "      <td>66814746</td>\n",
       "    </tr>\n",
       "    <tr>\n",
       "      <th>2285</th>\n",
       "      <td>2009-02-04</td>\n",
       "      <td>14.269450</td>\n",
       "      <td>14.392789</td>\n",
       "      <td>13.785579</td>\n",
       "      <td>13.823529</td>\n",
       "      <td>7.944819</td>\n",
       "      <td>69193308</td>\n",
       "    </tr>\n",
       "    <tr>\n",
       "      <th>2286</th>\n",
       "      <td>2009-02-05</td>\n",
       "      <td>13.795066</td>\n",
       "      <td>14.003795</td>\n",
       "      <td>13.595825</td>\n",
       "      <td>13.757116</td>\n",
       "      <td>7.906650</td>\n",
       "      <td>81293544</td>\n",
       "    </tr>\n",
       "    <tr>\n",
       "      <th>2287</th>\n",
       "      <td>2009-02-06</td>\n",
       "      <td>13.795066</td>\n",
       "      <td>14.250474</td>\n",
       "      <td>13.709677</td>\n",
       "      <td>14.079696</td>\n",
       "      <td>8.092052</td>\n",
       "      <td>67264910</td>\n",
       "    </tr>\n",
       "    <tr>\n",
       "      <th>...</th>\n",
       "      <td>...</td>\n",
       "      <td>...</td>\n",
       "      <td>...</td>\n",
       "      <td>...</td>\n",
       "      <td>...</td>\n",
       "      <td>...</td>\n",
       "      <td>...</td>\n",
       "    </tr>\n",
       "    <tr>\n",
       "      <th>4020</th>\n",
       "      <td>2015-12-24</td>\n",
       "      <td>30.834915</td>\n",
       "      <td>31.043644</td>\n",
       "      <td>30.834915</td>\n",
       "      <td>30.948767</td>\n",
       "      <td>22.881218</td>\n",
       "      <td>8355690</td>\n",
       "    </tr>\n",
       "    <tr>\n",
       "      <th>4021</th>\n",
       "      <td>2015-12-28</td>\n",
       "      <td>30.929790</td>\n",
       "      <td>30.977230</td>\n",
       "      <td>30.711575</td>\n",
       "      <td>30.759012</td>\n",
       "      <td>22.740932</td>\n",
       "      <td>27757828</td>\n",
       "    </tr>\n",
       "    <tr>\n",
       "      <th>4022</th>\n",
       "      <td>2015-12-29</td>\n",
       "      <td>30.901327</td>\n",
       "      <td>31.223909</td>\n",
       "      <td>30.863379</td>\n",
       "      <td>31.148008</td>\n",
       "      <td>23.028521</td>\n",
       "      <td>17956155</td>\n",
       "    </tr>\n",
       "    <tr>\n",
       "      <th>4023</th>\n",
       "      <td>2015-12-30</td>\n",
       "      <td>31.062618</td>\n",
       "      <td>31.204933</td>\n",
       "      <td>30.977230</td>\n",
       "      <td>31.072105</td>\n",
       "      <td>22.972403</td>\n",
       "      <td>17217512</td>\n",
       "    </tr>\n",
       "    <tr>\n",
       "      <th>4024</th>\n",
       "      <td>2015-12-31</td>\n",
       "      <td>30.806452</td>\n",
       "      <td>30.910816</td>\n",
       "      <td>30.616697</td>\n",
       "      <td>30.626186</td>\n",
       "      <td>22.642723</td>\n",
       "      <td>22243511</td>\n",
       "    </tr>\n",
       "  </tbody>\n",
       "</table>\n",
       "<p>1742 rows × 7 columns</p>\n",
       "</div>"
      ],
      "text/plain": [
       "           Date       Open       High        Low      Close  Adj Close  \\\n",
       "2283 2009-02-02  13.880455  14.383302  13.776091  14.127135   7.948379   \n",
       "2284 2009-02-03  13.662239  14.592030  13.662239  14.421252   8.113860   \n",
       "2285 2009-02-04  14.269450  14.392789  13.785579  13.823529   7.944819   \n",
       "2286 2009-02-05  13.795066  14.003795  13.595825  13.757116   7.906650   \n",
       "2287 2009-02-06  13.795066  14.250474  13.709677  14.079696   8.092052   \n",
       "...         ...        ...        ...        ...        ...        ...   \n",
       "4020 2015-12-24  30.834915  31.043644  30.834915  30.948767  22.881218   \n",
       "4021 2015-12-28  30.929790  30.977230  30.711575  30.759012  22.740932   \n",
       "4022 2015-12-29  30.901327  31.223909  30.863379  31.148008  23.028521   \n",
       "4023 2015-12-30  31.062618  31.204933  30.977230  31.072105  22.972403   \n",
       "4024 2015-12-31  30.806452  30.910816  30.616697  30.626186  22.642723   \n",
       "\n",
       "        Volume  \n",
       "2283  72927314  \n",
       "2284  66814746  \n",
       "2285  69193308  \n",
       "2286  81293544  \n",
       "2287  67264910  \n",
       "...        ...  \n",
       "4020   8355690  \n",
       "4021  27757828  \n",
       "4022  17956155  \n",
       "4023  17217512  \n",
       "4024  22243511  \n",
       "\n",
       "[1742 rows x 7 columns]"
      ]
     },
     "execution_count": 846,
     "metadata": {},
     "output_type": "execute_result"
    }
   ],
   "source": [
    "df17_post"
   ]
  },
  {
   "cell_type": "code",
   "execution_count": 847,
   "id": "bbff4281-6ffd-4f33-a4cd-5bde19596d24",
   "metadata": {
    "tags": []
   },
   "outputs": [
    {
     "data": {
      "image/png": "[encoded data removed]",
      "text/plain": [
       "<Figure size 640x480 with 1 Axes>"
      ]
     },
     "metadata": {},
     "output_type": "display_data"
    }
   ],
   "source": [
    "# Code cell for Problem 17 - do not modify or delete this line\n",
    "df17=pd.read_csv('PFESharePriceHistory.csv')\n",
    "df17[\"Date\"] = pd.to_datetime(df17[\"Date\"])\n",
    "\n",
    "date_int=datetime.datetime(2009,2,1)\n",
    "date_final=datetime.datetime(2015,12,31)\n",
    "bool17=[pd.to_datetime(x) >= date_int and pd.to_datetime(x)<= date_final for x in df17.Date]\n",
    "df17_post=df17[bool17]\n",
    "\n",
    "ax17=df17_post.plot(x='Date', y='Close', kind='scatter',color='blue',s=1)\n",
    "plt.show()"
   ]
  },
  {
   "cell_type": "markdown",
   "id": "22005116-558a-4694-93a4-605295bc7fd6",
   "metadata": {},
   "source": [
    "**Problem 18**\n",
    "\n",
    "Plot the \"Close\" price (y-axis) vs Date (x-axis) in a **scatter plot** for the period from 6/1/2007 to 3/5/2009.  Use s=1 for the size of the points. You should see price drop overall during this period.\n",
    "\n",
    "Use the following cell for your code."
   ]
  },
  {
   "cell_type": "code",
   "execution_count": 848,
   "id": "ebca570a-2602-4d4c-b3c6-f36189ca04d3",
   "metadata": {
    "tags": []
   },
   "outputs": [
    {
     "data": {
      "image/png": "[encoded data removed]",
      "text/plain": [
       "<Figure size 640x480 with 1 Axes>"
      ]
     },
     "metadata": {},
     "output_type": "display_data"
    }
   ],
   "source": [
    "# Code cell for Problem 18 - do not modify or delete this line\n",
    "\n",
    "date_int=datetime.datetime(2007,6,1)\n",
    "date_final=datetime.datetime(2009,3,5)\n",
    "bool18=[pd.to_datetime(x) >= date_int and pd.to_datetime(x)<= date_final for x in df17.Date]\n",
    "df18_post=df17[bool18]\n",
    "\n",
    "ax18=df18_post.plot(x='Date', y='Close', kind='scatter',color='red',s=1)\n",
    "plt.show()"
   ]
  },
  {
   "cell_type": "markdown",
   "id": "c18f28bf-d98f-414a-bf44-a3dd2d129b10",
   "metadata": {},
   "source": [
    "**Problem 19**\n",
    "\n",
    "We would like to determine whether there is a tendency to acquire shares before a rise in price or to dispose of shares before a drop in price, which may constiture evidence of insider trading.\n",
    "\n",
    "Write a function called **SummarizeTransactionsDuringPeriod** that takes as inputs:\n",
    "\n",
    "- **date1** = a datetime \n",
    "- **date2** = a date time after date1 \n",
    "\n",
    "and returns as output a data frame consisting of two columns\n",
    "\n",
    "- **OwnerName** = name of owner\n",
    "- **NShares** = number of acquired minus shares disposed of for all transactions for the owner from date1 up to and including date2.\n",
    "\n",
    "with the data frame sorted by NShares from smallest to largest.\n",
    "\n",
    "**Your solution should be based on data in df2 and should have a row for every owner in df2 whose NShares value is non-zero.**\n",
    "\n",
    "Use the following function for your code."
   ]
  },
  {
   "cell_type": "code",
   "execution_count": 849,
   "id": "60e8888f-32cb-45ca-a186-fe1fca9247d4",
   "metadata": {
    "tags": []
   },
   "outputs": [],
   "source": [
    "# Code cell for Problem 19 - do not modify or delete this line\n",
    "def SummarizeTransactionsDuringPeriod(date1,date2):\n",
    "    dict={}\n",
    "    for i in range(df2.shape[0]):\n",
    "        if df2.TransDate.iloc[i] < date1 or df2.TransDate.iloc[i] > date2:\n",
    "            continue\n",
    "        if df2.OwnerName[i] in dict.keys():\n",
    "            if df2.ADCode[i]=='A':\n",
    "                dict[df2.OwnerName[i]] += df2.Shares[i]\n",
    "            elif df2.ADCode[i]=='D':\n",
    "                dict[df2.OwnerName[i]] -= df2.Shares[i]\n",
    "        else:\n",
    "            dict[df2.OwnerName[i]]=0\n",
    "    DATA=zip(dict.keys(),dict.values())\n",
    "    df=pd.DataFrame(DATA, columns=['OwnerName','NShares'])\n",
    "    return df"
   ]
  },
  {
   "cell_type": "code",
   "execution_count": 850,
   "id": "39327391-901a-4f2c-8e2a-e778c390122c",
   "metadata": {
    "tags": []
   },
   "outputs": [
    {
     "name": "stdout",
     "output_type": "stream",
     "text": [
      "               OwnerName   NShares\n",
      "0       SHEDLARZ DAVID L   36789.0\n",
      "1   CANGIALOSI LORETTA V   13122.0\n",
      "2       LAMATTINA JOHN L  111623.0\n",
      "3          KATEN KAREN L  114627.0\n",
      "4      KINDLER JEFFREY B   97491.0\n",
      "5      MCKINNELL HENRY A  252747.0\n",
      "6          BURT ROBERT N       0.0\n",
      "7           LEVIN ALAN G   34728.0\n",
      "8    STEERE WILLIAM C JR -416927.0\n",
      "9        FECZKO JOSEPH M   61915.0\n",
      "10            READ IAN C  -25341.0\n",
      "11    GRAY III WILLIAM H       0.0\n",
      "12      BAGGER RICHARD H   12300.0\n",
      "13        WAXMAN ALLEN P    8275.0\n",
      "14         MCLEOD MARY S       0.0\n"
     ]
    }
   ],
   "source": [
    "# Test cell for Problem 19 - do not modify or delete this cell\n",
    "# Do execute it\n",
    "date1=datetime.datetime(2005,3,1)\n",
    "date2=datetime.datetime(2007,6,1)\n",
    "dt=SummarizeTransactionsDuringPeriod(date1,date2)\n",
    "print(dt.to_string())"
   ]
  },
  {
   "cell_type": "markdown",
   "id": "5a38f996-a8b5-4b00-a522-a46436a2b950",
   "metadata": {},
   "source": [
    "**Make sure all cells can be executed without errors.**\n",
    "\n",
    "**Make sure to save the notebook before you submit it.**"
   ]
  },
  {
   "cell_type": "code",
   "execution_count": null,
   "id": "f9d9d3c2-d767-4b49-992a-b5d1c0403e2a",
   "metadata": {},
   "outputs": [],
   "source": []
  }
 ],
 "metadata": {
  "kernelspec": {
   "display_name": "Python 3 (ipykernel)",
   "language": "python",
   "name": "python3"
  },
  "language_info": {
   "codemirror_mode": {
    "name": "ipython",
    "version": 3
   },
   "file_extension": ".py",
   "mimetype": "text/x-python",
   "name": "python",
   "nbconvert_exporter": "python",
   "pygments_lexer": "ipython3",
   "version": "3.10.9"
  }
 },
 "nbformat": 4,
 "nbformat_minor": 5
}
