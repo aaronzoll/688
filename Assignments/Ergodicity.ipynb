{
 "cells": [
  {
   "cell_type": "markdown",
   "id": "25a3b0f8-d558-48a1-b9fa-c888828ae3a4",
   "metadata": {},
   "source": [
    "**The usual rules apply to this notebook**"
   ]
  },
  {
   "cell_type": "code",
   "execution_count": 1,
   "id": "a9a75606-83e8-40ba-8221-d0f0a82242e4",
   "metadata": {
    "tags": []
   },
   "outputs": [],
   "source": [
    "# Do not delete this cell\n",
    "# Do execute it\n",
    "import numpy as np"
   ]
  },
  {
   "cell_type": "markdown",
   "id": "1e456bd3-fae8-4d70-8419-7749b39f9434",
   "metadata": {},
   "source": [
    "**Ergodicity for Markov Chains**\n",
    "\n",
    "In this assignment we focus on stationary Markov chains $X_0,X_1,\\ldots,$ with a finite state space\n",
    "i.e. Markov chains that\n",
    "\n",
    "- can only take values in a set $\\{ 0,1,\\ldots,K-1\\}$ for some positive integer $K,$ and\n",
    "- that have a single transition matrix $Q = \\left(q_{i,j}\\right)_{i,j=0,\\ldots,K-1}$ that is valid at all time steps, i.e.\n",
    "\n",
    "$$\n",
    "P[ X_{t+1}=j \\vert X_t = i] = q_{ij}, \\mbox{ for } t=0,1,\\ldots, \\mbox { and } i,j=0,\\ldots,K-1.\n",
    "$$\n",
    "\n",
    "Given such a Markov chain, consider a probability distribution \n",
    "\n",
    "$$\n",
    "\\pi = (\\pi_0,\\ldots,\\pi_{K-1})\n",
    "$$ \n",
    "\n",
    "on the states, so $\\pi_i\\geq 0,i=0,\\ldots,K-1$ and $\\sum_{i=0}^{K-1} \\pi_i = 1.$\n",
    "We say that $\\pi$ is a *stationary distribution* for the Markov chain if, given that \n",
    "the Markov chain at time $t$ is distributed according to $\\pi$ then the same is true at time $t+1,$ i.e. given that\n",
    "\n",
    "$$\n",
    "P[X_t = i] = \\pi_i, \\mbox{ for } i=0,\\ldots,K-1,\n",
    "$$\n",
    "\n",
    "then \n",
    "\n",
    "$$\n",
    "P[X_{t+1} = i] = \\pi_i, \\mbox{ for } i=0,\\ldots,K-1.\n",
    "$$\n",
    "\n",
    "Recall from the previous assignment, if the distribution of $X_t$ is the row-vector $\\pi$ then the distribution of $X_{t+1}$  is given by \n",
    "\n",
    "$$\n",
    "\\pi Q.\n",
    "$$\n",
    "\n",
    "So $\\pi$ to a stationary distribution for the Markov chain if and only if \n",
    "\n",
    "$$\n",
    "\\pi Q = \\pi.\n",
    "$$\n",
    "\n",
    "In other words, $\\pi^t$ is an eigenvector of $Q^t$ with eigenvalue 1. (Here the $Q^t$ refers to the *transpose* of $Q$ and $\\pi^t$ refers to the transpose of $\\pi.$)\n",
    "\n"
   ]
  },
  {
   "cell_type": "markdown",
   "id": "1db71f34-3866-4d70-a33a-3e8868b1ef64",
   "metadata": {},
   "source": [
    "**Problem 1 (5 points)** \n",
    "\n",
    "Consider the 4 state Markov chain with the following properties.\n",
    "\n",
    "- Starting in state 0 the chain can move to state 1 with probability 1/2 and to state 3 with probability 1/2,\n",
    "- Starting in state 1 the chain can stay in state 1 with probability 1/2 and to state 2 with probability 1/2,\n",
    "- Starting in state 2 the chain can move to state 1 with probability 1/2 and to state 3 with probability 1/2,\n",
    "- Starting in state 3 the chain can move to state 0 with probability 1/2 and to state 3 with probability 1/2\n",
    "\n",
    "In the following cell, create a 2d numpy array with the transition matrix for this chain and assign a variable called **Q1** to this array."
   ]
  },
  {
   "cell_type": "code",
   "execution_count": 2,
   "id": "50ad9153-dd46-4f1b-83b4-519d8ac40875",
   "metadata": {
    "tags": []
   },
   "outputs": [],
   "source": [
    "# Code cell for Problem 1 - do not modify or delete this line\n",
    "Q1=[[0, 0.5, 0, 0.5],[0, 0.5, 0.5, 0],[0, 0.5, 0, 0.5],[0.5, 0, 0, 0.5]]"
   ]
  },
  {
   "cell_type": "code",
   "execution_count": 3,
   "id": "6df160c2-e0ce-47d5-82f1-286d4e4c104d",
   "metadata": {
    "tags": []
   },
   "outputs": [
    {
     "name": "stdout",
     "output_type": "stream",
     "text": [
      "[[0, 0.5, 0, 0.5], [0, 0.5, 0.5, 0], [0, 0.5, 0, 0.5], [0.5, 0, 0, 0.5]]\n"
     ]
    }
   ],
   "source": [
    "# Print cell for Problem 1 - do not modify or delete this cell\n",
    "# Do execute it\n",
    "print(Q1)"
   ]
  },
  {
   "cell_type": "markdown",
   "id": "5c0ee4a9-82c9-4058-a976-44996ed5d7b0",
   "metadata": {
    "tags": []
   },
   "source": [
    "**Problem 2 (5 points)**\n",
    "\n",
    "Find the stationary distribution for the Markov chain whose transition matrix is defined in Problem 1 and assign this to a 1d numpy array called **pi1** in the code cell below.\n",
    "\n",
    "Note: You can use numpy's np.linalg.eig to get eigenvalues and eigenvectors but you can also try to get the answer by hand.\n"
   ]
  },
  {
   "cell_type": "code",
   "execution_count": 4,
   "id": "f87d96d7-720c-4acd-baf8-2bb1ffe5b1d1",
   "metadata": {
    "tags": []
   },
   "outputs": [],
   "source": [
    "# Code cell for Problem 2 - do not modify or delete this line\n",
    "b=np.sqrt(10)/10\n",
    "pi1=[b, 2*b,b,2*b]"
   ]
  },
  {
   "cell_type": "code",
   "execution_count": 5,
   "id": "52f25046-7e8b-4578-b395-bb9867f077cf",
   "metadata": {
    "tags": []
   },
   "outputs": [
    {
     "name": "stdout",
     "output_type": "stream",
     "text": [
      "[0.31623 0.63246 0.31623 0.63246]\n",
      "[0.31623 0.63246 0.31623 0.63246]\n"
     ]
    }
   ],
   "source": [
    "# Print cell for Problem 2 - do not modify or delete this cell\n",
    "# Do execute it\n",
    "print(np.round(pi1,5))\n",
    "print(np.round(np.matmul(pi1,Q1),5))"
   ]
  },
  {
   "cell_type": "markdown",
   "id": "a75f814f-18c5-44de-963c-3a32a073a3ce",
   "metadata": {},
   "source": [
    "**Remaining stationary**\n",
    "\n",
    "Observe that when we have\n",
    "\n",
    "$$\n",
    "\\pi Q = \\pi,\n",
    "$$\n",
    "\n",
    "and at some time $t$ we have\n",
    "\n",
    "$$\n",
    "P[X_t = i] = \\pi_i, \\mbox{ for } i=0,\\ldots,K-1,\n",
    "$$\n",
    "\n",
    "then it is the case that \n",
    "\n",
    "$$\n",
    "P[X_s = i] = \\pi_i, \\mbox{ for } i=0,\\ldots,K-1,\n",
    "$$\n",
    "\n",
    "for all $s>t.$ To see this, recall that we can get the distribution of $X_s$ from that of $X_t$ using matrix multiplication. \n",
    "\n",
    "$$\n",
    "P[X_s = i] = \\pi Q^{s-t}\n",
    "$$\n",
    "\n",
    "and since $\\pi Q = \\pi$ the right hand side equals\n",
    "\n",
    "$$\n",
    "\\pi Q Q^{s-t-1} = \\pi Q^{s-t-1} = \\pi Q Q^{s-t-2} = \\pi Q^{s-t-2} = \\ldots = \\pi Q = \\pi \n",
    "$$\n",
    "\n",
    "so we get the desired conclusion, i.e. once stationary, we remain stationary.\n",
    "\n",
    "It is possible to reach stationarity at a future time, even if we don't have stationarity at the current time."
   ]
  },
  {
   "cell_type": "markdown",
   "id": "fcca983f-b788-4f65-b01b-efa4ff047f7a",
   "metadata": {},
   "source": [
    "**Problem 3 (5 points)**\n",
    "\n",
    "For the Markov chain defined in Problem 1, find a probability distribution \n",
    "\n",
    "$$\n",
    "\\tau = [\\tau_0,\\tau_1,\\tau_2,\\tau_3]\n",
    "$$ \n",
    "\n",
    "(a row vector) that is **not** equal to the stationary distribution found\n",
    "in Problem 2, but which as the property that if\n",
    "\n",
    "$$\n",
    "P[X_t = i] = \\tau_i, \\mbox{ for } i=0,1,2,3,\n",
    "$$\n",
    "\n",
    "then\n",
    "\n",
    "$$\n",
    "P[X_{t+1} = i] = \\pi_i, \\mbox{ for } i=0,1,2,3.\n",
    "$$\n",
    "\n",
    "It is recommended that you try to solve this problem by hand.\n",
    "\n",
    "In the following cell, assign a 1d numpy array to a variable called **tau3**."
   ]
  },
  {
   "cell_type": "code",
   "execution_count": 6,
   "id": "2ac258cc-6f66-48e4-b39f-8b5b94907257",
   "metadata": {
    "tags": []
   },
   "outputs": [],
   "source": [
    "# Code cell for Problem 3 - do not modify or delete this line\n",
    "tau3 = [0, 2*b, 2*b, 2*b]"
   ]
  },
  {
   "cell_type": "code",
   "execution_count": 7,
   "id": "f6281523-87ab-4097-a187-16435f722ea0",
   "metadata": {
    "tags": []
   },
   "outputs": [
    {
     "name": "stdout",
     "output_type": "stream",
     "text": [
      "[0.      0.63246 0.63246 0.63246]\n"
     ]
    }
   ],
   "source": [
    "# Print cell for Problem 3 - do not modify or delete this cell\n",
    "# Do execute it\n",
    "print(np.round(tau3,5))"
   ]
  },
  {
   "cell_type": "markdown",
   "id": "7f2d14aa-d00b-41e2-b2f7-0642c5525cf3",
   "metadata": {},
   "source": [
    "**Ergodicity for Markov Chains**\n",
    "\n",
    "Given a stationary Markov chain $X_0,X_1,\\ldots,$ with transition matrix $Q,$ and state space $\\{ 0,1,\\ldots,K-1\\}$ under appropriate conditions there exists a stationary distribution $\\pi$ and the limiting distribution of $X_t$ is the stationary distribution, i.e. \n",
    "\n",
    "$$\n",
    "\\lim_{t\\rightarrow \\infty} P[ X_t = i ] = \\pi_i, \\mbox{ for all } i=0,1,\\ldots,K-1.\n",
    "$$\n",
    "\n",
    "no matter what the distribution of $X_0$ happens to be.\n",
    "If the Markov chain starts in state $i$ then we know that the probability distribution of the process at ime $n$ is given by\n",
    "\n",
    "$$\n",
    "\\nu  Q^n.\n",
    "$$\n",
    "\n",
    "where\n",
    "\n",
    "$$\n",
    "\\nu = [0,0,\\ldots,0,1,0,\\ldots,0]\n",
    "$$\n",
    "\n",
    "(the 1 being in position $i$).\n",
    "\n",
    "But then\n",
    "\n",
    "$$\n",
    "\\nu  Q^n.\n",
    "$$\n",
    "\n",
    "is the $i$-th row of $Q^n$ so ergodicity states that the\n",
    "limit of $Q^n$ is a matrix all of whose rows are equal to $\\pi.$"
   ]
  },
  {
   "cell_type": "markdown",
   "id": "4746e1d9-7a74-469a-85e2-7d3eb8135e1f",
   "metadata": {},
   "source": [
    "**Sufficient conditions for ergodicity**\n",
    "\n",
    "Here is a necessry and sufficient condition for ergodicity: there exists a positive integer $n>0$ such that every entry of $Q^n$ is positive.\n",
    "\n",
    "Recall that the $i,j$ entry of the matrix $Q^n$ is \n",
    "\n",
    "$$\n",
    "P[ X_{t+n}=j \\vert X_t = i] \n",
    "$$\n",
    "\n",
    "so our condition states that there exists a value of $n$ such that for every pair of states $i,j,$ starting in any state $i$ we can reach state $j$ with positive probability.\n",
    "\n",
    "**Some definitions**\n",
    "\n",
    "A Markov chain is said to be **recurrent** if for all states $i$ and $j,$ starting in state $i$ it is always possible to reach state $j$ in a finite number of steps. In other words, for all states $i$ and $j$ there exists $n>0$ such that $(Q^n)_{i,j}>0.$\n",
    "\n",
    "It is easy to given an example of a Markov chain that is not recurrent. Consider the chain with the following transition matrix:\n",
    "\n",
    "$$\n",
    "\\left[\n",
    "\\begin{array}{cccc}\n",
    "1/3 & 2/3 & 0 & 0 \\\\\n",
    "2/3 & 1/3 & 0 & 0 \\\\\n",
    "0 & 0 & 1/4 & 3/4 \\\\\n",
    "0 & 0 & 2/3 & 1/3 \\\\\n",
    "\\end{array}\n",
    "\\right]\n",
    "$$\n",
    "\n",
    "Starting in state 0 or state 1 we can never reach state 2 or state 3.\n",
    "\n",
    "**Periodicity**\n",
    "\n",
    "For a Markov chain with transition matrix $Q,$ and starting in state $i,$ define $H_i$ to be the set of positive times $n$ such that it is possible to reach state $i$ again in the future, i.e.\n",
    "\n",
    "$$\n",
    "H_i = \\{ n ~:~ (Q^n)_{i,i}>0 \\}\n",
    "$$\n",
    "\n",
    "and define the **period** $d(i)$ of state $i$ to be the greatest common diviser of the values in $H_i.$\n",
    "\n",
    "A chain is said to be **aperiodic** if $d(i)=1$ for every state $i.$\n",
    "\n",
    "For example, consider the chain with the following transition matrix.\n",
    "\n",
    "\n",
    "$$\n",
    "\\left[\n",
    "\\begin{array}{cccc}\n",
    "0 & 2/3 & 1/3 & 0 \\\\\n",
    "2/3 & 0 & 0 & 1/3 \\\\\n",
    "0 & 1/4 & 3/4 & 0 \\\\\n",
    "1/4 & 0 & 0 & 3/4 \\\\\n",
    "\\end{array}\n",
    "\\right]\n",
    "$$\n",
    "\n",
    "So we can only move from state 0 or state 2 to state 1 or 3 in one step or from state 1 or 3 to state 0 or 2 in one step. So for every state $i$ we have \n",
    "\n",
    "$$\n",
    "H_0 = \\{ 2,4,6,\\ldots \\}\n",
    "$$\n",
    "\n",
    "and $d(i)=2.$  This chain not aperiodic.\n",
    "\n",
    "The condition that $d(i)=1$ is the same as saying that there exists $n>0$ such that $(Q^m)_{i,i}>0$ for all $m \\geq n.$\n",
    "\n",
    "**Theorem. If a Markov chain with finite state space is irreducible and aperiodic then it is ergodic.**"
   ]
  },
  {
   "cell_type": "markdown",
   "id": "54639d92-c9cf-47d5-a231-4e6e290173ae",
   "metadata": {},
   "source": [
    "**Problem 4 (5 points)**\n",
    "\n",
    "In the following code cell, compute the tenth power of the transition matrix Q1 from Problem 1, and assign it to a variable called **Q1power10**."
   ]
  },
  {
   "cell_type": "code",
   "execution_count": 8,
   "id": "639e18a2-4e83-4a03-90e6-522e9b7ff079",
   "metadata": {
    "tags": []
   },
   "outputs": [],
   "source": [
    "# Code cell for Problem 4 - do not modify or delete this line\n",
    "Q1power10=np.linalg.matrix_power(Q1, 10)"
   ]
  },
  {
   "cell_type": "code",
   "execution_count": 9,
   "id": "93e2718b-b932-4da1-b6cd-d33b7bc85965",
   "metadata": {
    "tags": []
   },
   "outputs": [
    {
     "name": "stdout",
     "output_type": "stream",
     "text": [
      "[[0.16699219 0.33300781 0.16699219 0.33300781]\n",
      " [0.16601562 0.33398438 0.16699219 0.33300781]\n",
      " [0.16699219 0.33300781 0.16699219 0.33300781]\n",
      " [0.16699219 0.33300781 0.16601562 0.33398438]]\n"
     ]
    }
   ],
   "source": [
    "# Print cell for Problem 4 - do not modify or delete this cell\n",
    "# Do execute it\n",
    "print(Q1power10)\n"
   ]
  },
  {
   "cell_type": "markdown",
   "id": "64ba7a2f-d7b8-4218-aa55-ba93a198651d",
   "metadata": {},
   "source": [
    "**Make sure you examine the matrix in the previous problem and understand the importance of what you observe qualitatively.**"
   ]
  },
  {
   "cell_type": "markdown",
   "id": "1fba55f0-57e5-4ecc-bbe3-5403fa5ac43d",
   "metadata": {},
   "source": [
    "**Problem 5 (5 points)**\n",
    "\n",
    "The range of column $j$ of a matrix $Q=(q_{ij})$ is defined to be \n",
    "\n",
    "$$\n",
    "\\mbox{Range}(Q,j) = \\max_i q_{i,j}-\\min_i q_{i,j}.\n",
    "$$\n",
    "\n",
    "This measures how close the elements in that column are to one another.\n",
    "We can measure how close a matrix $Q$ is to having constant rows by the maximum of all of the column's ranges:\n",
    "\n",
    "$$\n",
    "\\max_j \\mbox{Range}(Q,j)\n",
    "$$\n",
    "\n",
    "\n",
    "Write a function called **max_column_range** that takes as input \n",
    "\n",
    "- a (square) matrix **Q**,\n",
    "\n",
    "and returns as outputs \n",
    "\n",
    "- the maximum of the ranges of all of the columns of the \n",
    "\n",
    "Your function should be fully self-contained i.e. all variables and functions used (except numpy constants and functions) should be defined in the body of your function.\n",
    "\n",
    "Use the following code cell for your solution."
   ]
  },
  {
   "cell_type": "code",
   "execution_count": 10,
   "id": "e79ec212-3a8f-43f8-b787-10d4b2cc0538",
   "metadata": {
    "tags": []
   },
   "outputs": [],
   "source": [
    "# Code cell for Problem 5 - do not modify or delete this line\n",
    "def max_column_range(Q):\n",
    "    L=[]\n",
    "    n=len(Q)\n",
    "    for j in range(n):\n",
    "        q=Q[:,j]\n",
    "        qmax=np.max(q)\n",
    "        qmin=np.min(q)\n",
    "        L.append(qmax-qmin)\n",
    "    return np.max(L)"
   ]
  },
  {
   "cell_type": "markdown",
   "id": "9b17ab04-414f-48a9-875b-7b63922db571",
   "metadata": {},
   "source": [
    "In the following test cell, we create a random transition 25 x 25 matrix and compute the maximum column range of its powers. To create that random matrix, we take each row to consist of independent exponential random variables, and we normalize each row by dividing it by its sum. (This gives each row a *Dirichlet* distribution.)"
   ]
  },
  {
   "cell_type": "code",
   "execution_count": 11,
   "id": "e04057a8-073e-4430-9208-c5e71e40e560",
   "metadata": {
    "tags": []
   },
   "outputs": [
    {
     "name": "stdout",
     "output_type": "stream",
     "text": [
      "    i            max range        log max range\n",
      "    1         0.1987124097        -1.6158966771\n",
      "    2         0.0530224606        -2.9370396707\n",
      "    3         0.0110762546        -4.5029516866\n",
      "    4         0.0027821447        -5.8845331720\n",
      "    5         0.0005916500        -7.4325953270\n",
      "    6         0.0001443841        -8.8430331467\n",
      "    7         0.0000324561       -10.3356220689\n",
      "    8         0.0000076300       -11.7834213782\n",
      "    9         0.0000017830       -13.2372124633\n",
      "   10         0.0000004154       -14.6939779375\n",
      "   11         0.0000000959       -16.1595306758\n",
      "   12         0.0000000221       -17.6260339857\n",
      "   13         0.0000000052       -19.0806017549\n",
      "   14         0.0000000012       -20.5546759629\n",
      "   15         0.0000000003       -22.0128916680\n",
      "   16         0.0000000001       -23.4746028612\n",
      "   17         0.0000000000       -24.9337338710\n",
      "   18         0.0000000000       -26.3991551775\n",
      "   19         0.0000000000       -27.8563975830\n",
      "   20         0.0000000000       -29.3194829646\n"
     ]
    },
    {
     "data": {
      "text/plain": [
       "[<matplotlib.lines.Line2D at 0x2047d6ce7d0>]"
      ]
     },
     "execution_count": 11,
     "metadata": {},
     "output_type": "execute_result"
    },
    {
     "data": {
      "image/png": "[encoded data removed]",
      "text/plain": [
       "<Figure size 640x480 with 1 Axes>"
      ]
     },
     "metadata": {},
     "output_type": "display_data"
    }
   ],
   "source": [
    "# Test cell1  for Problem 5 - do not modify or delete this cell\n",
    "# Do execute it\n",
    "import matplotlib.pyplot as plt\n",
    "\n",
    "K=25\n",
    "A=np.zeros((K,K))\n",
    "for i in range(K):\n",
    "    x=np.random.exponential(1,(1,K))\n",
    "    x=x/np.sum(x)\n",
    "    A[i:,]=x\n",
    "\n",
    "s=\"{0:>5s} {1:>20s} {2:>20s}\".format(\"i\",\"max range\",\"log max range\")\n",
    "print(s)\n",
    "log_mrange=[]\n",
    "for i in range(1,21):\n",
    "    M=max_column_range(np.linalg.matrix_power(A,i))\n",
    "    s=\"{0:5d} {1:20.10f} {2:20.10f}\".format(i,M,np.log(M))\n",
    "    print(s)\n",
    "    log_mrange.append(np.log(M))\n",
    "plt.plot(range(1,21),log_mrange)"
   ]
  },
  {
   "cell_type": "markdown",
   "id": "6201187c-70a0-4f69-9d31-2e4c3e33a12c",
   "metadata": {
    "tags": []
   },
   "source": [
    "This illustrates how, under ergodicity, convergence to the stationary distribution happens exponentially fast!**\n",
    "\n",
    "**Problem 6 (10 points)**\n",
    "\n",
    "Consider a Markov chain whose state space consists of the permutations of 0,1,...,N-1 for some choice of $N,$ where if our current state at time $t$ is the permutation\n",
    "\n",
    "$$\n",
    "X_t=(k_0,k_1,\\ldots,k_{N-1})\n",
    "$$\n",
    "\n",
    "we can move to another permutation that differs from the current one in only two positions, or **we remain at the same permutation.** The move is obtained \n",
    "\n",
    "- by sampling  two positions $I$ and $J$ uniformly and *with* replacement from $\\{ 0,1,\\ldots,N-1\\},$ \n",
    "\n",
    "- swapping what is in position $I$ with what is in position $J.$ \n",
    "\n",
    "So that at time $t+1$ the state becomes \n",
    "\n",
    "$$\n",
    "(k'_0,k'_1,\\ldots,k'_{N-1})\n",
    "$$\n",
    "\n",
    "where \n",
    "\n",
    "- $k'_i$ is the same as $k_i$ for $i\\neq I,J$ and \n",
    "- $k'_I = k_J,$ and \n",
    "- $k'_J = k_I.$\n",
    "\n",
    "When $I\\neq J$ the function that swaps the values in the two position is referred to as a *transposition.* \n",
    "\n",
    "**To be clear, in the function to be written below we allow no swapping to  place i.e. we allow for $I=J$**\n",
    "\n",
    "Write a function called **transposition** that takes as input \n",
    "\n",
    "- **N** a positive integer, and \n",
    "- **k** a **list** of size N defining a permutation of $0,1,\\ldots,N-1.$\n",
    "\n",
    "and that outputs \n",
    "\n",
    "- **kprime** a **list** of size N defining a permutation of $0,1,\\ldots,N-1$ that is obtained by implementing a random transposition as described above.\n",
    "\n",
    "Your function should be fully self-contained.\n",
    "\n",
    "Use the following cell for your code."
   ]
  },
  {
   "cell_type": "code",
   "execution_count": 12,
   "id": "f1340512-c126-4a92-831c-5cdd8142e174",
   "metadata": {
    "tags": []
   },
   "outputs": [],
   "source": [
    "# Code cell for Problem 6 - do not modify or delete this line\n",
    "def transposition(N,k):\n",
    "    R=np.random.randint(N,size=2)\n",
    "    I=R[0]\n",
    "    J=R[1]\n",
    "    Isave=k[I]\n",
    "    k[I]=k[J]\n",
    "    k[J]=Isave\n",
    "    return k"
   ]
  },
  {
   "cell_type": "code",
   "execution_count": 13,
   "id": "344480ca-27c2-434c-af17-cc6efa114fce",
   "metadata": {
    "tags": []
   },
   "outputs": [
    {
     "name": "stdout",
     "output_type": "stream",
     "text": [
      "[6, 1, 2, 3, 4, 5, 0, 7, 8, 9]\n",
      "[6, 1, 2, 3, 4, 5, 0, 7, 9, 8]\n",
      "[6, 1, 2, 3, 4, 5, 0, 7, 9, 8]\n",
      "[6, 9, 2, 3, 4, 5, 0, 7, 1, 8]\n",
      "[6, 9, 2, 3, 4, 5, 1, 7, 0, 8]\n",
      "[6, 9, 2, 3, 7, 5, 1, 4, 0, 8]\n",
      "[6, 0, 2, 3, 7, 5, 1, 4, 9, 8]\n",
      "[6, 0, 2, 3, 7, 1, 5, 4, 9, 8]\n",
      "[6, 0, 4, 3, 7, 1, 5, 2, 9, 8]\n",
      "[9, 0, 4, 3, 7, 1, 5, 2, 6, 8]\n",
      "[9, 0, 6, 3, 7, 1, 5, 2, 4, 8]\n",
      "[5, 0, 6, 3, 7, 1, 9, 2, 4, 8]\n",
      "[2, 0, 6, 3, 7, 1, 9, 5, 4, 8]\n",
      "[2, 0, 6, 3, 7, 1, 9, 5, 4, 8]\n",
      "[2, 0, 7, 3, 6, 1, 9, 5, 4, 8]\n",
      "[2, 0, 7, 3, 6, 1, 9, 4, 5, 8]\n",
      "[2, 0, 7, 5, 6, 1, 9, 4, 3, 8]\n",
      "[2, 0, 4, 5, 6, 1, 9, 7, 3, 8]\n",
      "[2, 0, 4, 5, 3, 1, 9, 7, 6, 8]\n",
      "[2, 0, 4, 5, 3, 7, 9, 1, 6, 8]\n",
      "[2, 0, 7, 5, 3, 4, 9, 1, 6, 8]\n",
      "[2, 0, 7, 5, 3, 8, 9, 1, 6, 4]\n",
      "[2, 5, 7, 0, 3, 8, 9, 1, 6, 4]\n",
      "[2, 5, 7, 4, 3, 8, 9, 1, 6, 0]\n",
      "[2, 5, 1, 4, 3, 8, 9, 7, 6, 0]\n",
      "[2, 5, 1, 4, 8, 3, 9, 7, 6, 0]\n",
      "[2, 5, 1, 4, 8, 3, 9, 7, 6, 0]\n",
      "[2, 5, 1, 9, 8, 3, 4, 7, 6, 0]\n",
      "[2, 5, 1, 9, 8, 3, 4, 0, 6, 7]\n",
      "[2, 5, 8, 9, 1, 3, 4, 0, 6, 7]\n",
      "[2, 5, 8, 9, 6, 3, 4, 0, 1, 7]\n",
      "[2, 5, 8, 9, 6, 3, 4, 0, 7, 1]\n",
      "[2, 5, 8, 9, 6, 3, 7, 0, 4, 1]\n",
      "[2, 9, 8, 5, 6, 3, 7, 0, 4, 1]\n",
      "[2, 9, 6, 5, 8, 3, 7, 0, 4, 1]\n",
      "[5, 9, 6, 2, 8, 3, 7, 0, 4, 1]\n",
      "[5, 9, 6, 2, 8, 3, 7, 0, 4, 1]\n",
      "[5, 9, 6, 2, 0, 3, 7, 8, 4, 1]\n",
      "[5, 9, 6, 2, 0, 3, 7, 8, 4, 1]\n",
      "[5, 3, 6, 2, 0, 9, 7, 8, 4, 1]\n",
      "[5, 3, 6, 2, 0, 9, 7, 1, 4, 8]\n",
      "[5, 3, 6, 8, 0, 9, 7, 1, 4, 2]\n",
      "[5, 3, 6, 8, 2, 9, 7, 1, 4, 0]\n",
      "[5, 3, 6, 8, 2, 9, 7, 1, 4, 0]\n",
      "[9, 3, 6, 8, 2, 5, 7, 1, 4, 0]\n",
      "[9, 3, 5, 8, 2, 6, 7, 1, 4, 0]\n",
      "[9, 3, 5, 8, 2, 6, 7, 1, 4, 0]\n",
      "[2, 3, 5, 8, 9, 6, 7, 1, 4, 0]\n",
      "[2, 3, 9, 8, 5, 6, 7, 1, 4, 0]\n",
      "[2, 3, 9, 8, 5, 6, 0, 1, 4, 7]\n",
      "[2, 3, 9, 8, 5, 6, 0, 1, 4, 7]\n",
      "[2, 3, 9, 8, 5, 6, 0, 1, 4, 7]\n",
      "[2, 3, 9, 8, 5, 0, 6, 1, 4, 7]\n",
      "[2, 1, 9, 8, 5, 0, 6, 3, 4, 7]\n",
      "[2, 1, 9, 8, 5, 0, 4, 3, 6, 7]\n",
      "[2, 1, 9, 8, 5, 0, 4, 3, 6, 7]\n",
      "[6, 1, 9, 8, 5, 0, 4, 3, 2, 7]\n",
      "[4, 1, 9, 8, 5, 0, 6, 3, 2, 7]\n",
      "[4, 1, 9, 8, 2, 0, 6, 3, 5, 7]\n",
      "[0, 1, 9, 8, 2, 4, 6, 3, 5, 7]\n",
      "[0, 1, 9, 8, 2, 4, 3, 6, 5, 7]\n",
      "[0, 1, 9, 8, 5, 4, 3, 6, 2, 7]\n",
      "[5, 1, 9, 8, 0, 4, 3, 6, 2, 7]\n",
      "[5, 1, 9, 8, 7, 4, 3, 6, 2, 0]\n",
      "[5, 1, 9, 3, 7, 4, 8, 6, 2, 0]\n",
      "[5, 1, 9, 6, 7, 4, 8, 3, 2, 0]\n",
      "[5, 1, 9, 6, 7, 4, 8, 3, 2, 0]\n",
      "[5, 1, 9, 6, 7, 4, 8, 3, 2, 0]\n",
      "[5, 1, 9, 6, 7, 4, 8, 2, 3, 0]\n",
      "[5, 1, 9, 0, 7, 4, 8, 2, 3, 6]\n",
      "[5, 1, 9, 0, 7, 3, 8, 2, 4, 6]\n",
      "[5, 1, 9, 0, 8, 3, 7, 2, 4, 6]\n",
      "[5, 1, 9, 0, 8, 3, 7, 2, 4, 6]\n",
      "[7, 1, 9, 0, 8, 3, 5, 2, 4, 6]\n",
      "[7, 1, 4, 0, 8, 3, 5, 2, 9, 6]\n",
      "[7, 1, 4, 0, 8, 3, 5, 6, 9, 2]\n",
      "[7, 1, 4, 0, 8, 3, 5, 6, 9, 2]\n",
      "[7, 5, 4, 0, 8, 3, 1, 6, 9, 2]\n",
      "[7, 5, 4, 9, 8, 3, 1, 6, 0, 2]\n",
      "[7, 8, 4, 9, 5, 3, 1, 6, 0, 2]\n",
      "[2, 8, 4, 9, 5, 3, 1, 6, 0, 7]\n",
      "[2, 4, 8, 9, 5, 3, 1, 6, 0, 7]\n",
      "[2, 5, 8, 9, 4, 3, 1, 6, 0, 7]\n",
      "[2, 7, 8, 9, 4, 3, 1, 6, 0, 5]\n",
      "[0, 7, 8, 9, 4, 3, 1, 6, 2, 5]\n",
      "[0, 7, 8, 9, 4, 3, 1, 6, 2, 5]\n",
      "[0, 7, 8, 9, 4, 3, 1, 6, 2, 5]\n",
      "[2, 7, 8, 9, 4, 3, 1, 6, 0, 5]\n",
      "[2, 7, 8, 9, 4, 0, 1, 6, 3, 5]\n",
      "[2, 7, 8, 9, 4, 0, 5, 6, 3, 1]\n",
      "[2, 7, 8, 9, 4, 0, 5, 6, 3, 1]\n",
      "[2, 6, 8, 9, 4, 0, 5, 7, 3, 1]\n",
      "[3, 6, 8, 9, 4, 0, 5, 7, 2, 1]\n",
      "[3, 6, 0, 9, 4, 8, 5, 7, 2, 1]\n",
      "[3, 6, 0, 8, 4, 9, 5, 7, 2, 1]\n",
      "[3, 2, 0, 8, 4, 9, 5, 7, 6, 1]\n",
      "[3, 2, 0, 8, 6, 9, 5, 7, 4, 1]\n",
      "[3, 2, 0, 8, 7, 9, 5, 6, 4, 1]\n",
      "[3, 6, 0, 8, 7, 9, 5, 2, 4, 1]\n",
      "[3, 6, 0, 8, 7, 9, 4, 2, 5, 1]\n"
     ]
    }
   ],
   "source": [
    "# Test cell for Problem 6 - do not modify or delete this cell\n",
    "# Do execute it\n",
    "N=10\n",
    "k=list(range(N))\n",
    "for i in range(100):\n",
    "    k=transposition(N,k)\n",
    "    print(k)"
   ]
  },
  {
   "cell_type": "markdown",
   "id": "cf97be51-26b9-4bf4-b670-5f5ce5827b81",
   "metadata": {},
   "source": [
    "**Problem 7 (10 points)**\n",
    "\n",
    "Now we want to run our Markov chain on the permutations of 0,1,...,N-1 many steps to produce a pseudo-random permutation.\n",
    "\n",
    "Write a function called **generate_permuation** that takes as inputs\n",
    "\n",
    "- **N** a positive integer\n",
    "- **Ntranspositions** a positive integer\n",
    "\n",
    "and returns as output\n",
    "\n",
    "- **k** a list defining a permutation of the numbers 0,1,...,N-1 that results from starting with the list [0,1,,...,N-1] and making Ntranspositions randiom transpositions of that list.\n",
    "\n",
    "Your code should call the function you created in problem 6 so **should not** include it below.\n",
    "\n",
    "Use the following code cell for your code"
   ]
  },
  {
   "cell_type": "code",
   "execution_count": 14,
   "id": "d1331575-128d-47c7-93a6-ca075be2b13d",
   "metadata": {
    "tags": []
   },
   "outputs": [],
   "source": [
    "# Code cell for Problem 7 - do not delete or modify this line\n",
    "def generate_permutation(N,Ntranspositions):\n",
    "    k=list(range(N))\n",
    "    for i in range(Ntranspositions):\n",
    "        k=transposition(N,k)\n",
    "    return k"
   ]
  },
  {
   "cell_type": "code",
   "execution_count": 15,
   "id": "367692b8-948f-4c94-b4ed-16f5d3c75697",
   "metadata": {
    "tags": []
   },
   "outputs": [
    {
     "name": "stdout",
     "output_type": "stream",
     "text": [
      "[83, 39, 28, 27, 56, 60, 29, 69, 94, 8, 74, 11, 61, 45, 51, 24, 34, 35, 84, 88, 68, 21, 17, 2, 37, 90, 26, 70, 77, 30, 67, 16, 32, 81, 89, 57, 0, 71, 14, 23, 40, 92, 42, 38, 20, 13, 46, 66, 12, 91, 1, 98, 52, 53, 25, 4, 47, 82, 58, 49, 73, 95, 7, 36, 64, 59, 41, 79, 43, 75, 22, 72, 62, 44, 3, 50, 99, 85, 87, 18, 80, 55, 33, 97, 15, 6, 86, 78, 31, 63, 65, 5, 48, 93, 54, 76, 96, 9, 10, 19]\n"
     ]
    }
   ],
   "source": [
    "# Test cell for Problem 7 - do not modify this cell\n",
    "# Do execute it\n",
    "k=generate_permutation(100,100)\n",
    "print(k)"
   ]
  },
  {
   "cell_type": "markdown",
   "id": "6a8e6fff-7e3a-4aa5-9332-10755892cf35",
   "metadata": {
    "tags": []
   },
   "source": [
    "**How many transpositions are needed to reach \"randomness\"?**\n",
    "\n",
    "Let's compare using the permutation generator you created in Problem 7 with numpy's random permutation function. To do this, we choose some statistic, i.e. a function that takes a permutation and outputs a real number, and see how many tranpositions it takes to get the permutation generator based on transpositions to produce statistics whose mean and standard deviation resemble what we get when we use \"truly random\" permutations (i.e. those give by numpy's random.permutation function).  \n",
    "\n",
    "Here are some examples of functions taking a permutation $(k_0,\\ldots,k_{N-1})$ as input and outputting a real number:\n",
    "\n",
    "- the value of $k_0+k_1+k_2+k_3$ \n",
    "- the number of times we have $k_i < k_{i+1}$\n",
    "- the length of the longest contiguous increasing subsequence\n",
    "- the average absolute difference between neighboring values of the permutation (defined below)."
   ]
  },
  {
   "cell_type": "markdown",
   "id": "9f2f2930-040a-40ee-a27c-7d1cea3d7817",
   "metadata": {
    "tags": []
   },
   "source": [
    "**Problem 8 (25 points)**\n",
    "\n",
    "**Longest contiguous increasing subsequence**\n",
    "\n",
    "Here is an example of a permutation of 0,1,...,9:\n",
    "\n",
    "6,5,1,0,2,3,8,9,4,7\n",
    "\n",
    "the longest increasing contiguous subsequence in this case is\n",
    "\n",
    "0,2,3,8,9\n",
    "\n",
    "and it's length is 5. *Contiguous* means the values appear in succession in the permutation.\n",
    "\n",
    "For another example, the permutation\n",
    "\n",
    "0,1,2,3,4,5,6,7,8,9\n",
    "\n",
    "has a longest increasing contiguous subsequence\n",
    "\n",
    "\n",
    "0,1,2,3,4,5,6,7,8,9,\n",
    "\n",
    "which is of length 10.\n",
    "\n",
    "For \n",
    "\n",
    "9,8,7,6,5,4,3,2,1,0\n",
    "\n",
    "there are multiple longest increasing contiguous sequences, and they all\n",
    "have length 1.\n",
    "\n",
    "Write a function called **LICS** that takes as input \n",
    "\n",
    "- **N** a positive integer, and\n",
    "- **k** a list defining a permutation of 0,1,...,N-1. \n",
    "\n",
    "and outputs \n",
    "\n",
    "- **L** the length (**an integer**) of the longest contiguous increasing subsequence of $k.$\n",
    "\n",
    "Your function should be fully self-contained."
   ]
  },
  {
   "cell_type": "code",
   "execution_count": 16,
   "id": "a8330629-a29b-432c-a721-c5451243cc73",
   "metadata": {
    "tags": []
   },
   "outputs": [],
   "source": [
    "# Code cell for Problem 8 - do not delete or modify this line\n",
    "def LICS(N,k):\n",
    "    L=1\n",
    "    Lbest=0\n",
    "    for i in range(N-1):\n",
    "        if k[i+1] > k[i]:\n",
    "            L+=1\n",
    "        else:\n",
    "            if L > Lbest:\n",
    "                Lbest=L\n",
    "            L=1\n",
    "            \n",
    "    return Lbest"
   ]
  },
  {
   "cell_type": "markdown",
   "id": "3ccf1f3f-1b8c-4a23-b894-f0ab2a02609e",
   "metadata": {},
   "source": [
    "**Expected  LICS using numpy's permutation generator**\n",
    "\n",
    "In the following cell, we repeat the process of using numpy to generate a random permutation of 0,1,...,9, for 1,000,000 trials and use the LICS of the  \n",
    "generated permutations to estimate the expected value $\\mu = E[LICS(K)]$ and standard deviation $\\sigma = SD[LICS(K)]$ of the LICS of a random permutation $K$ of 0,1,...,9."
   ]
  },
  {
   "cell_type": "code",
   "execution_count": 17,
   "id": "cdd81f2b-e27a-46af-97ef-a480b36a1cdc",
   "metadata": {
    "tags": []
   },
   "outputs": [
    {
     "name": "stdout",
     "output_type": "stream",
     "text": [
      "2.94\n",
      "0.79\n"
     ]
    }
   ],
   "source": [
    "# Test cell for Problem 8 - do not delete or modify this cell\n",
    "# Do execute it\n",
    "np.random.seed(103)\n",
    "N=10\n",
    "ntrials=1000000\n",
    "LICS_samples=np.zeros(ntrials)\n",
    "for i in range(ntrials):\n",
    "    k=list(np.random.permutation(range(N)))\n",
    "    LICS_samples[i]=LICS(N,k)\n",
    "mu=LICS_samples.mean()\n",
    "sd=LICS_samples.std()\n",
    "print(round(mu,2))\n",
    "print(round(sd,2))"
   ]
  },
  {
   "cell_type": "markdown",
   "id": "824fe954-e982-4699-856a-6c7191a53160",
   "metadata": {},
   "source": [
    "**Problem 9 (5 points)**\n",
    "\n",
    "Think of the mu and signa produced in the test cell in Problem 8 as producing the *ground truth* $\\mu = E[LICS(K)]$ and standard deviation $\\sigma = SD[LICS(K)]$ of the LICS for a random permutation $K$, so we are making two key assumptions:\n",
    "\n",
    "- the numpy random permutation function really produces random permutations, and \n",
    "- the Monte-Carlo sample size of 1,000,000 is so large that the sampling error is very small\n",
    "\n",
    "Now we test your random permutation generator based on various values of **T** the number of transpositions used.\n",
    "\n",
    "For each choice of $T$ from 1 to 25 (including 25) do the following.\n",
    "Generate a sample of 10,000 permutations of 0,1,...,9 each based on **T** transpositions starting from the permutation 0,1,...,9, and use the sample to arrive at an estimate of $\\mu = E[LICS(K)]$ and $\\sigma = \\mbox{SD}[LICS(K)].$ Put these in lists  called **muhat** and **sigmahat** each of length 25 with the estimate based on 1 tranposition first, 2 transpositions second, and so on.\n",
    "\n",
    "Use the following cell for your code."
   ]
  },
  {
   "cell_type": "code",
   "execution_count": 18,
   "id": "b7a246a2-5929-41da-a4ff-ef9c3285ad50",
   "metadata": {
    "tags": []
   },
   "outputs": [],
   "source": [
    "# Code cell for Problem 9 - do not delete or modify this line\n",
    "N=25\n",
    "ntrials=10000\n",
    "muhat=np.zeros(N)\n",
    "sigmahat=np.zeros(N)\n",
    "for T in range(N):\n",
    "    LICS_samples=np.zeros(ntrials)\n",
    "    for j in range(ntrials):\n",
    "        k=generate_permutation(10,T+1)\n",
    "        LICS_samples[j]=LICS(10,k)\n",
    "    muhat[T]=LICS_samples.mean()\n",
    "    sigmahat[T]=LICS_samples.std()\n",
    "        \n"
   ]
  },
  {
   "cell_type": "code",
   "execution_count": 19,
   "id": "42fd4f1b-445b-47a0-9d23-8ae8f1bb5d51",
   "metadata": {
    "tags": []
   },
   "outputs": [
    {
     "name": "stdout",
     "output_type": "stream",
     "text": [
      "1 4.264 2.306\n",
      "2 4.096 1.599\n",
      "3 3.767 1.297\n",
      "4 3.483 1.148\n",
      "5 3.312 1.021\n",
      "6 3.196 0.952\n",
      "7 3.132 0.912\n",
      "8 3.071 0.885\n",
      "9 3.033 0.851\n",
      "10 3.017 0.819\n",
      "11 3.003 0.834\n",
      "12 2.975 0.795\n",
      "13 2.985 0.825\n",
      "14 2.966 0.814\n",
      "15 2.958 0.804\n",
      "16 2.954 0.802\n",
      "17 2.954 0.796\n",
      "18 2.953 0.791\n",
      "19 2.945 0.786\n",
      "20 2.951 0.787\n",
      "21 2.938 0.779\n",
      "22 2.953 0.795\n",
      "23 2.943 0.783\n",
      "24 2.944 0.789\n",
      "25 2.956 0.793\n"
     ]
    }
   ],
   "source": [
    "# Print cell for Problem 9 - do not delete or modify this cell\n",
    "# Do execute it.\n",
    "for T in range(25):\n",
    "    print(T+1,round(muhat[T],3),round(sigmahat[T],3))"
   ]
  },
  {
   "cell_type": "markdown",
   "id": "7cd4dfb7-08c3-45bb-9863-352e2b44d268",
   "metadata": {},
   "source": [
    "**Problem 10 (5 points)** \n",
    "\n",
    "Here we do the same thing as in Problem 8, except we use a different statistic.\n",
    "This time we take as our statistic the mean absolute difference between each entry in the permutation and its sucessor, that is, for the permutation \n",
    "$k=(k_0,\\ldots,k_{N-1})$ we define \n",
    "\n",
    "$$\n",
    "MAD = \\frac{1}{N-1} \\sum_{i=0}^{N-2} \\vert k_i - k_{i+1} \\vert \n",
    "$$\n",
    "\n",
    "In the following code cell, define a function called **MAD** that takes as arguments:\n",
    "\n",
    "- **N** a positive integer, and\n",
    "\n",
    "- **k** a list defining a permutation of 0,1,...,N-1 \n",
    "\n",
    "and that returns \n",
    "\n",
    "- **MAD** for the permutation k as defined above.\n",
    "\n"
   ]
  },
  {
   "cell_type": "code",
   "execution_count": 20,
   "id": "8b04f791-2a21-4529-8e2f-d896ab28cb55",
   "metadata": {
    "tags": []
   },
   "outputs": [],
   "source": [
    "# Code cell for Problem 10 - do not delete or modify this line\n",
    "def MAD(N,k):\n",
    "    sum=0\n",
    "    for i in range(N-1):\n",
    "        sum+=abs(k[i]-k[i+1])\n",
    "    return sum/(N-1)"
   ]
  },
  {
   "cell_type": "markdown",
   "id": "02dbd305-2149-43b9-8929-2704ae01dca2",
   "metadata": {},
   "source": [
    "**Expected  MAD using numpy's permutation generator**\n",
    "\n",
    "In the following cell, we repeat the process of using numpy to generate a random permutation of 0,1,...,9, for 1,000,000 trials and use this to approximate the \n",
    "expected value $\\mu=E[MAD(K)]$ and standard deviation $\\sigma = SD[MAD(K)]$ of the MAD of a random permutation $K$ of 0,1,2,3,4,5,6,7,8,9."
   ]
  },
  {
   "cell_type": "code",
   "execution_count": 21,
   "id": "fe489292-2841-4652-972f-d994a6a6e994",
   "metadata": {
    "tags": []
   },
   "outputs": [
    {
     "name": "stdout",
     "output_type": "stream",
     "text": [
      "3.67\n",
      "0.63\n"
     ]
    }
   ],
   "source": [
    "# Test cell for Problem 10 - do not delete or modify this cell\n",
    "# Do execute it\n",
    "np.random.seed(103)\n",
    "N=10\n",
    "ntrials=1000000\n",
    "MAD_samples=np.zeros(ntrials)\n",
    "for i in range(ntrials):\n",
    "    k=list(np.random.permutation(range(N)))\n",
    "    MAD_samples[i]=MAD(N,k)\n",
    "mu=MAD_samples.mean()\n",
    "sd=MAD_samples.std()\n",
    "se=sd/np.sqrt(ntrials)\n",
    "print(round(mu,2))\n",
    "print(round(sd,2))"
   ]
  },
  {
   "cell_type": "markdown",
   "id": "4ff1519f-fd33-42bf-9da4-0b102db384fa",
   "metadata": {},
   "source": [
    "**Problem 11 (5 points)**\n",
    "\n",
    "Again think of the mu produced in the test cell in Problem 10 as producing the *ground truth* mean of the MAD for a random permutation. For each choice of $T$ from 1 to 25 (including 25) do the following. Generate a sample of 10,000 permutations of 0,1,...,9 each based on T transpositions of 0,1,...,9, and use this sample to arrive at an estimate of $mu = E[MAD(K)]$ and $\\sigma = \\mbox{SD}[MAD(K)]$ for a random permutation of 0,1,\\...,9. Put these in lists called **muhat** and **sigmahat** each of length 25 with the estimate based on 1 tranposition first, 2 transpositions second, and so on.\n",
    "\n",
    "Use the following cell for your code."
   ]
  },
  {
   "cell_type": "code",
   "execution_count": 35,
   "id": "54265f0c-b8fc-4691-aa6b-169b518b8f1f",
   "metadata": {
    "tags": []
   },
   "outputs": [],
   "source": [
    "# Code cell for Problem 11 - do not delete or modify this line\n",
    "N=25\n",
    "ntrials=10000\n",
    "muhat=np.zeros(N)\n",
    "sigmahat=np.zeros(N)\n",
    "for T in range(N):\n",
    "    MAD_samples=np.zeros(ntrials)\n",
    "    for j in range(ntrials):\n",
    "        k=generate_permutation(10,T+1)\n",
    "        MAD_samples[j]=MAD(10,k)\n",
    "    muhat[T]=MAD_samples.mean()\n",
    "    sigmahat[T]=MAD_samples.std()"
   ]
  },
  {
   "cell_type": "code",
   "execution_count": 36,
   "id": "f46360e1-d44c-4f38-9f8c-874ca21f9802",
   "metadata": {
    "tags": []
   },
   "outputs": [
    {
     "name": "stdout",
     "output_type": "stream",
     "text": [
      "1 1.918 0.748\n",
      "2 2.491 0.834\n",
      "3 2.887 0.812\n",
      "4 3.134 0.777\n",
      "5 3.303 0.739\n",
      "6 3.426 0.705\n",
      "7 3.491 0.682\n",
      "8 3.547 0.672\n",
      "9 3.571 0.655\n",
      "10 3.601 0.643\n",
      "11 3.607 0.646\n",
      "12 3.639 0.632\n",
      "13 3.644 0.631\n",
      "14 3.651 0.632\n",
      "15 3.658 0.627\n",
      "16 3.655 0.636\n",
      "17 3.66 0.636\n",
      "18 3.659 0.636\n",
      "19 3.654 0.634\n",
      "20 3.665 0.632\n",
      "21 3.661 0.63\n",
      "22 3.676 0.638\n",
      "23 3.66 0.639\n",
      "24 3.679 0.631\n",
      "25 3.661 0.627\n"
     ]
    }
   ],
   "source": [
    "# Print cell for Problem 11 - do not delete or modify this cell\n",
    "# Do execute it.\n",
    "for T in range(25):\n",
    "    print(T+1,round(muhat[T],3),round(sigmahat[T],3))"
   ]
  },
  {
   "cell_type": "markdown",
   "id": "b56ba993-c16e-4fc2-b03b-041160d9dc30",
   "metadata": {},
   "source": [
    "**An important application of these ideas**\n",
    "\n",
    "There are many applications in which we need to draw samples from finite set according to some known probability distribution $\\pi$. The following idea is commonly used. Create an ergodic Markov chain $X_0,X_1,\\ldots$ whose state space consists of that finite set, and whose stationary distribution is $\\pi.$ To generate samples, we start at some initial state, run the Markov chain for a long time $T$ and take $X_T$ to be the sampled value.\n",
    "\n",
    "We'll see more about this in the next homework assignment."
   ]
  },
  {
   "cell_type": "markdown",
   "id": "ca29e315-3698-473e-a4e4-402f5d0b641a",
   "metadata": {
    "tags": []
   },
   "source": [
    "**Important**\n",
    "\n",
    "- Make sure all cells run without errors.\n",
    "- Make sure you save your notebook before submitting it."
   ]
  },
  {
   "cell_type": "code",
   "execution_count": null,
   "id": "641afbf1-0d8e-4d06-b2fa-397c04a031e2",
   "metadata": {},
   "outputs": [],
   "source": []
  }
 ],
 "metadata": {
  "kernelspec": {
   "display_name": "Python 3 (ipykernel)",
   "language": "python",
   "name": "python3"
  },
  "language_info": {
   "codemirror_mode": {
    "name": "ipython",
    "version": 3
   },
   "file_extension": ".py",
   "mimetype": "text/x-python",
   "name": "python",
   "nbconvert_exporter": "python",
   "pygments_lexer": "ipython3",
   "version": "3.11.4"
  }
 },
 "nbformat": 4,
 "nbformat_minor": 5
}
