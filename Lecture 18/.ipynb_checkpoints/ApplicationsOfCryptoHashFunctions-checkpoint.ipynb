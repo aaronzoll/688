{
 "cells": [
  {
   "cell_type": "markdown",
   "metadata": {},
   "source": [
    "**Checking File Integrety**\n",
    "\n",
    "You download a piece of software. How do you know that is hasn't been corrupted in the downloading process. \n",
    "\n",
    "If you hash the file you receive you can match it to what was obtained when the file was hashed at the source.\n",
    "\n",
    "It should be extremely unlikely to have a corrupted version of the file produce the correct hash. The probability of a 256 bit hash match by chance alone should be around $1/2^{256}$\n",
    "\n",
    "In the following example, we hash a large byte string, and sequentially modify the string one byte at a time, hash it and print out the digest.\n",
    "\n",
    "We determine how many bits of the hash give a match to the original one."
   ]
  },
  {
   "cell_type": "markdown",
   "metadata": {},
   "source": [
    "**Notes**\n",
    "\n",
    "**bitwise and**\n",
    "\n",
    "In Python, if m and n are ints, m&n gives the result of **bitwise and operation** e.g."
   ]
  },
  {
   "cell_type": "code",
   "execution_count": 47,
   "metadata": {},
   "outputs": [
    {
     "name": "stdout",
     "output_type": "stream",
     "text": [
      "0b10101\n",
      "0b10111\n",
      "0b10101\n"
     ]
    }
   ],
   "source": [
    "m=21\n",
    "n=23\n",
    "print(bin(m))\n",
    "print(bin(n))\n",
    "print(bin(m&n))"
   ]
  },
  {
   "cell_type": "code",
   "execution_count": 1,
   "metadata": {},
   "outputs": [
    {
     "name": "stdout",
     "output_type": "stream",
     "text": [
      "0b10101\n",
      "0b10111\n",
      "0b10\n"
     ]
    }
   ],
   "source": [
    "m=21\n",
    "n=23\n",
    "print(bin(m))\n",
    "print(bin(n))\n",
    "print(bin(m^n))"
   ]
  },
  {
   "cell_type": "markdown",
   "metadata": {},
   "source": [
    "**bitwise right shift**\n",
    "\n",
    "n>>p shifts the bits of an int n by p positions to the right."
   ]
  },
  {
   "cell_type": "code",
   "execution_count": 60,
   "metadata": {},
   "outputs": [
    {
     "name": "stdout",
     "output_type": "stream",
     "text": [
      "0b10101\n",
      "0b1010\n",
      "0b101\n",
      "0b10\n",
      "0b1\n",
      "0b0\n"
     ]
    }
   ],
   "source": [
    "print(bin(21))\n",
    "print(bin(21>>1))\n",
    "print(bin(21>>2))\n",
    "print(bin(21>>3))\n",
    "print(bin(21>>4))\n",
    "print(bin(21>>5))"
   ]
  },
  {
   "cell_type": "markdown",
   "metadata": {},
   "source": [
    "**bitwise left shift**\n",
    "\n",
    "n<<p shifts the bits of an int n by p positions to the left."
   ]
  },
  {
   "cell_type": "code",
   "execution_count": 2,
   "metadata": {},
   "outputs": [
    {
     "name": "stdout",
     "output_type": "stream",
     "text": [
      "0b1\n",
      "0b10\n",
      "0b100\n",
      "0b1000\n",
      "0b10000\n",
      "0b100000\n"
     ]
    }
   ],
   "source": [
    "print(bin(1))\n",
    "print(bin(1<<1))\n",
    "print(bin(1<<2))\n",
    "print(bin(1<<3))\n",
    "print(bin(1<<4))\n",
    "print(bin(1<<5))"
   ]
  },
  {
   "cell_type": "markdown",
   "metadata": {},
   "source": [
    "**Count number of common bits in a pair of bytes**"
   ]
  },
  {
   "cell_type": "code",
   "execution_count": 4,
   "metadata": {},
   "outputs": [],
   "source": [
    "import pandas as pd\n",
    "import numpy as np\n",
    "def ncommon_bits_in_pair_of_bytes(b1,b2):\n",
    "    s=0\n",
    "    p=b1^b2\n",
    "    t=1\n",
    "    for j in range(8):\n",
    "        nbits=(p&t)>>j\n",
    "        t=t<<1\n",
    "        s+=nbits\n",
    "    return(8-s)"
   ]
  },
  {
   "cell_type": "markdown",
   "metadata": {},
   "source": [
    "**Count number of common bits in a 32 byte (256 bits) string**"
   ]
  },
  {
   "cell_type": "code",
   "execution_count": 5,
   "metadata": {},
   "outputs": [],
   "source": [
    "def ncommon_bits(bs1,bs2):\n",
    "    s=0\n",
    "    for i in range(32):\n",
    "        m=bs1[i]\n",
    "        n=bs2[i]\n",
    "        s+=ncommon_bits_in_pair_of_bytes(m,n)\n",
    "    return(s)"
   ]
  },
  {
   "cell_type": "code",
   "execution_count": 6,
   "metadata": {},
   "outputs": [
    {
     "name": "stdout",
     "output_type": "stream",
     "text": [
      "704872\n",
      "b']\\xb1\\xce2\\xa0\\x11NX\\xad\\x9e1OU\\xf2+\\xf7\\\\\\xf5\\x80h#\\xa9_\\x0c\\x86\\xffg,\\xc6\\xf9\\x10\\xff'\n"
     ]
    }
   ],
   "source": [
    "import hashlib\n",
    "import numpy as np\n",
    "with open(\"PrideAndPredjudice.txt\",\"rb\") as fin:\n",
    "    bs=bytearray(fin.read()) # for mutability need byte array\n",
    "print(len(bs))\n",
    "m= hashlib.sha256()\n",
    "m.update(bs)\n",
    "d0=m.digest()\n",
    "print(d0)"
   ]
  },
  {
   "cell_type": "code",
   "execution_count": 7,
   "metadata": {},
   "outputs": [],
   "source": [
    "import pandas as pd\n",
    "#\n",
    "# modify a collection of random bytes of a string and determine how many bits of the resulting hash match\n",
    "#\n",
    "ntrials=10000\n",
    "res=[]\n",
    "for i in range(ntrials):\n",
    "    loc=np.random.choice(len(bs))\n",
    "    oldchar=bs[loc]\n",
    "    # find a new char to replace this one\n",
    "    while True:\n",
    "        newchar=np.random.choice(range(256))\n",
    "        if newchar!=oldchar:\n",
    "            break\n",
    "    bs[loc]=newchar\n",
    "    m=hashlib.sha256()\n",
    "    m.update(bs)\n",
    "    d1=m.digest()\n",
    "    ncommon=ncommon_bits(d0,d1)\n",
    "    res.append(ncommon)"
   ]
  },
  {
   "cell_type": "code",
   "execution_count": 8,
   "metadata": {},
   "outputs": [
    {
     "name": "stdout",
     "output_type": "stream",
     "text": [
      "128.0123\n",
      "8.022330365202341\n"
     ]
    },
    {
     "data": {
      "image/png": "[encoded data removed]",
      "text/plain": [
       "<Figure size 432x288 with 1 Axes>"
      ]
     },
     "metadata": {
      "needs_background": "light"
     },
     "output_type": "display_data"
    }
   ],
   "source": [
    "pd.Series(res).hist(bins=120)\n",
    "print(pd.Series(res).mean())\n",
    "print(pd.Series(res).std())"
   ]
  },
  {
   "cell_type": "markdown",
   "metadata": {},
   "source": [
    "This should be compared with the distribution of the number of successes in 256 Bernoulli trials where the success probability is 1/2. The distribution should be roughly normal with a mean of 128\n",
    "and standard deviation \n",
    "$$\n",
    "\\sqrt{{\\frac{1}{2}\\left(1- \\frac{1}{2}\\right)\\over 256}} = 8.\n",
    "$$"
   ]
  },
  {
   "cell_type": "markdown",
   "metadata": {
    "jp-MarkdownHeadingCollapsed": true,
    "tags": []
   },
   "source": [
    "**The Nonce Problem**\n",
    "\n",
    "Below, we'll see how bitcoin works (special case of block chain) with one of the aspects of this being that \"miners\" try to add to strings something called a \"nonce\" to get their hashes to look a certain way. This is meant to be a hard problem because we want to ensure that multiple miners tend not to find solutions at the same time.\n",
    "\n",
    "So imagine you have to add some bytes to a string to get the hash to have some special properties - say make the first ten hexadecimal digits be zero. How hard is this problem?\n",
    "\n",
    "To understand the complexity of the problem, assuming the digest were truly random, the bytes of a digest would behave like iid random bytes with all $2^8=256$ possibilities for each 8-bit byte beinq equally likely.\n",
    "\n",
    "Assuming we can't use the structure of the hash function in any meaningful way, we only have the brute force of random guessing approach at our disposal.\n",
    "\n",
    "If we start with a byte array add a random byte array to it, until we get some pre-determined number of zeros in its hash, on average how many trials should it take?"
   ]
  },
  {
   "cell_type": "code",
   "execution_count": 6,
   "metadata": {},
   "outputs": [
    {
     "name": "stdout",
     "output_type": "stream",
     "text": [
      "65536\n"
     ]
    },
    {
     "data": {
      "text/plain": [
       "79309.0"
      ]
     },
     "execution_count": 6,
     "metadata": {},
     "output_type": "execute_result"
    }
   ],
   "source": [
    "import hashlib\n",
    "import numpy as np\n",
    "\n",
    "initial_string=b\"my starting string\"\n",
    "m= hashlib.sha256()\n",
    "m.update(initial_string)\n",
    "d=m.digest()\n",
    "\n",
    "nzeros=4\n",
    "print(16**nzeros)\n",
    "st=\"\".join([\"0\" for i in range(nzeros)])\n",
    "\n",
    "ntrials=2\n",
    "nsteps=[]\n",
    "for trial in range(ntrials):\n",
    "    steps=0\n",
    "    while True:\n",
    "        steps+=1\n",
    "        initial_string=b\"my starting string\"\n",
    "        m=hashlib.sha256()\n",
    "        nonce=bytearray(initial_string)\n",
    "        for i in range(25):\n",
    "            c= chr(np.random.choice(range(256))).encode()\n",
    "            nonce+=c\n",
    "        m.update(initial_string+nonce)\n",
    "        if m.digest().hex()[0:nzeros]==st:\n",
    "            #print(ctr)\n",
    "            break\n",
    "    #print(steps)\n",
    "    nsteps.append(steps)\n",
    "np.mean(np.array(nsteps))"
   ]
  },
  {
   "cell_type": "code",
   "execution_count": 53,
   "metadata": {},
   "outputs": [
    {
     "data": {
      "text/plain": [
       "b'\\x0e\\x9c,\\x1b\\xf0i\\xb8\\x1ei\\x07\\xa4\\xc9\\xdd\\xf2\\x01QR\\x7f\"\\x8f\\xf7O\\xfas\\xea\\x10\\xf9V\\xd94n\\xf6'"
      ]
     },
     "execution_count": 53,
     "metadata": {},
     "output_type": "execute_result"
    }
   ],
   "source": [
    "m.digest()"
   ]
  },
  {
   "cell_type": "markdown",
   "metadata": {},
   "source": [
    "**Blockchain**\n",
    "\n",
    "Here is a link to a nice overview of blockchain\n",
    "\n",
    "https://blog.goodaudience.com/blockchain-for-beginners-what-is-blockchain-519db8c6677a?gi=c7ca387cf33a\n",
    "\n",
    "In blockchain, a new block in the chain is constructed using \n",
    "\n",
    "1) new transaction data\n",
    "2) a hash of the previous block\n",
    "3) an extra string, referrred to as a nonce, which is found by a miner\n",
    "\n",
    "Bitcoin mining is nicely described here.\n",
    "\n",
    "https://www.buybitcoinworldwide.com/mining/#what-is-bitcoin-mining\n",
    "\n",
    "Very simply put, a miner's job is to find a nonce so that the hash of the concatenation of the above satisfies certain properties. Miners compete to find one. The task of finding a nonce is meant to be complex and takes minutes to complete with considerable computational power. Importantly, it would be highly unlikely for two *solutions* to be found at around the same time, so collisions are avoided.\n",
    "\n",
    "Miners are rewarded for their efforts with bitcoins.\n",
    "\n",
    "Once a miner is successful, the information is shared with the community and when suffucient agreement is reached that the nonce works, the new block is added to the chain, and the hash of that new block is available to add to the next chain.\n",
    "\n",
    "The series of blocks is made available to everyone in the community, so the entire history of all transactions is available to everyone. Anyone in the community can check the series of blocks to ensure that its integrity has been maintained."
   ]
  },
  {
   "cell_type": "markdown",
   "metadata": {},
   "source": [
    "**Password Protection**\n",
    "\n",
    "Here is a link to a nice explanation of password file attacks and password file protection:\n",
    "\n",
    "https://crackstation.net/hashing-security.htm\n",
    "\n",
    "When you log in to an account, the password you type can be checked against a password file. \n",
    "\n",
    "Maintaining a password file as a plain text file is a security risk. If somebody gets a hold of that file, they can steal everyone's password on the system. If they had knowledge of a particular user and their password, and if that user uses the same password on some other systems (e.g. a bank account) this could have serious repurcusions.\n",
    "\n",
    "Instead, plain text passwords are never stored, rather, the hashes of the passwords can be stored. When the user enters a password, the hash of that password entered is compared with the hashed correct password, and if it matches the user is allowed in.\n",
    "\n",
    "This method can also be weak. If some user happens to pick as a password, a dictionary word, or a word with a small number of characters, the attacker can try entering the hash of every possibility and break-in.\n",
    "\n",
    "To protect against this possibility, a system can attach an additional _random_ string  called a _salt_ to each password and is that on the system together with the hashed salted password. \n",
    "\n",
    "Here is a relevant article:\n",
    "\n",
    "https://auth0.com/blog/adding-salt-to-hashing-a-better-way-to-store-passwords/"
   ]
  },
  {
   "cell_type": "markdown",
   "metadata": {},
   "source": [
    "**A Little Bit on Asymmetric Cryptography**\n",
    "\n",
    "Since many of the applications of cryptographic hash functions use asymmetric cryptyography, we review this briefly.\n",
    "\n",
    "Asymmetric crytography is based on public and private keys. Putting aside the technical details, the basic idea is this. You have a private key that you don't share with others, and a public key that you do share. The public key can be used to encrypt a file which only the private key can decrypt. \n",
    "\n",
    "If I want to send a message to you, I need your public key. I use your public key to encrypt the message, and since you are the only one holding your  private key, only you can decrypt it. \n",
    "\n",
    "So we are talking about a pair of functions that can be applied to a message:\n",
    "\n",
    "> pr(message) = a function only available to you\n",
    "\n",
    "> pu(message) = a function you are willing to share with others\n",
    "\n",
    "such that \n",
    "\n",
    "> pu(pr(message))=message \n",
    "\n",
    "or perhaps \n",
    "\n",
    "> pr(pu(message))=message \n",
    "\n",
    "depending on the application.\n",
    "\n",
    "If you want to send a message to me, you need my public key. You use that to encrypt the message and then only I can decrypt it with my private key.\n",
    "\n",
    "One model (RSA) for this is that you, the holder of a private key, pick a number pq that is a product of two prime numbers p and q. To encrypt using your public key only requires knowledge of pq, and the descryption algorithm requires knowledge of p and q. Thus, unless an attacker has an efficient way of factoring large numbers, encrypted messages are safe from decryption.\n",
    "\n",
    "It is also possible to do things in reverse. I can maintain a private key that can only encrypt a message and provide a public key to others that can decrypt."
   ]
  },
  {
   "cell_type": "markdown",
   "metadata": {},
   "source": [
    "**E-Signed Documents**\n",
    "\n",
    "Documents can be electronically signed, with the purpose of memorializing that \n",
    "\n",
    "> a) a signer actually signed the document, \n",
    "\n",
    "and \n",
    "\n",
    "> b) the document that is supposed to have been signed wasn't modified.\n",
    " \n",
    "To electronically sign a document, assuming I have a private key and the individual receiving the document has my public key I can proceed as follows. \n",
    "\n",
    "> 1) hash the original document O to produce a digest D, i.e. D=h(O) \n",
    "then\n",
    "\n",
    "> 2) encrypt the digest with my private key i.e. E=pr(D)\n",
    "\n",
    "> 3) bundle the orginal document, the encrypted digest, and my public key (O,E,pu)\n",
    "\n",
    "> 4) send the bundle to the receiver\n",
    "\n",
    "With the received document, the receiver\n",
    "\n",
    "> 1) decodes the encrypted digest using my public key so they now have O and D\n",
    "\n",
    "> 2) hashes the original document to get D'=h(O)\n",
    "\n",
    "> 3) checks agreement between calculated D' hash and the sent hash D.\n",
    "\n",
    "Importantly, for someone to forge my signature on a document, they would need to have my private key.\n",
    "\n",
    "\n",
    "\n",
    "\n",
    "\n"
   ]
  },
  {
   "cell_type": "code",
   "execution_count": null,
   "metadata": {},
   "outputs": [],
   "source": []
  }
 ],
 "metadata": {
  "kernelspec": {
   "display_name": "Python 3 (ipykernel)",
   "language": "python",
   "name": "python3"
  },
  "language_info": {
   "codemirror_mode": {
    "name": "ipython",
    "version": 3
   },
   "file_extension": ".py",
   "mimetype": "text/x-python",
   "name": "python",
   "nbconvert_exporter": "python",
   "pygments_lexer": "ipython3",
   "version": "3.9.12"
  }
 },
 "nbformat": 4,
 "nbformat_minor": 4
}
