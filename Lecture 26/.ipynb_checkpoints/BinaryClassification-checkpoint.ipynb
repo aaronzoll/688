{
 "cells": [
  {
   "cell_type": "markdown",
   "metadata": {},
   "source": [
    "## Binary Classification\n",
    "\n",
    "Consider the prediction of a binary outcome (0,1)/(failure,success) $Y$ using predictor variables $x=(x_1,\\ldots,x_k).$ \n",
    "\n",
    "We will try to use data consisting of pairs $(x^{(i)},Y^{(i)})$ to build a prediction modelP which we can take to be a map from $C: \\mathbb{R}^k \\rightarrow \\{0,1\\},$ so that when we observe $x$ we can take $C(x)$ as outhat is a map r predictor of the corresponding $Y.$ \n",
    "\n",
    "Alternatively, we can build a predictor that is a map $P: \\mathbb{R}^k \\rightarrow [0,1],$ with the interpretation that when we observe $x$ we take $P(x)$ to be the probability of $Y=1,$ or at least we can think of $P(x)$ as telling us the strength of evidence that $Y=1.$ Similarly, we can view $1-P(x)$ as the probability that $Y=0,$ or the strength of the evidence in favor of $Y=0.$\n",
    "\n",
    "In this latter situation, we obtain a classifier in the former sense, by picking a threshold $\\tau$ and taking $C(x)=1$ if $P(x)\\geq \\tau$ and $C(x)=0$ otherwise.  Thus, $P$ can be viewed as defining a family of classifiers indexed by $\\tau.$\n"
   ]
  },
  {
   "cell_type": "markdown",
   "metadata": {},
   "source": [
    "## Logistic Regression\n",
    "\n",
    "The logistic regression model is an example of a _generalized linear model_ where we assume that, given the covariate values, the expected value of the response variable and its variance are both functions of a specific linear function of covariates.\n",
    "\n",
    "Assume we have sample data consisting of pairs $(x^{(i)},y^{(i)}),$ for $i=1,\\ldots,n,$ where each $x^{(i)} = (x^{(i)}_1,x^{(i)}_2,\\ldots,x^{(i)}_k)$ is a vector of $k$ covariates and $y^{(i)}$ is 0/1-valued.\n",
    "\n",
    "We think of our observations as distributed as pairs $(X,Y)$ sampled from some joint distribution. In other words, we can think of there being a conditional distribution of $X$ given $Y=0$ and conditional distribution of $X$ given $Y=1$ and a marginal distribution of $Y.$\n",
    "\n",
    "We let $p_1(x)$ denote the conditional probability of $Y=1$ given $X=x,$ and let $p_0(x)=1-p_1(x)$ denote the conditional probability that $Y=0$ given $X=x.$\n",
    "\n",
    "The logistic regression model says that the log odds ratio is a linear function of the predictors\n",
    "$$ \\log(p_1(x)/p_0(x)) = L(x_1,\\ldots,x_k),$$\n",
    "where $$ L( x_1 , \\ldots , x_k) = \\beta_0 + \\beta_1 x_1 + \\ldots + \\beta_k x_k $$\n",
    "\n",
    "Since p1=1-p0, we can re-write this equation as saying that \n",
    "$$ \\log(p_1(x)/(1-p_1(x)) = L(x_1,\\ldots,x_k),$$\n",
    "and we can solve for p_1(x):\n",
    "$$ p_1(x)/(1-p_1(x) = \\exp \\{ L(x_1,\\ldots,x_k)\\},$$\n",
    "or\n",
    "$$ (1-p_1(x))/p_1(x) = \\exp \\{ -L(x_1,\\ldots,x_k)\\},$$\n",
    "so that\n",
    "$$ 1/p_1(x)= 1+\\exp \\{ -L(x_1,\\ldots,x_k)\\},$$\n",
    "hence we arrive at\n",
    "$$ E[Y|x] = p_1(x) = 1/\\left[1+\\exp \\{ -L(x_1,\\ldots,x_k)\\}\\right]$$\n",
    "and "
   ]
  },
  {
   "cell_type": "markdown",
   "metadata": {},
   "source": [
    "$$ p_0(x) =1- 1/\\left[1+\\exp \\{ -L(x_1,\\ldots,x_k)\\right] $$\n",
    "$$ =\\exp \\{ -L(x_1,\\ldots,x_k)\\}/\\left[1+\\exp \\{ -L(x_1,\\ldots,x_k)\\}\\right]$$"
   ]
  },
  {
   "cell_type": "markdown",
   "metadata": {},
   "source": [
    "Since the conditional distribution of $Y$ given the covariates is Bernoulli with success probability $p_1(x)$ its conditional variance is given by\n",
    "$$ p_1(x)*(1-p_1(x))$$\n",
    "$$= \\exp \\{ -L(x_1,\\ldots,x_k)\\}/\\left[1+\\exp \\{ -L(x_1,\\ldots,x_k)\\}\\right]^2$$\n",
    "\n",
    "The $\\beta_0,\\ldots,\\beta_k$ are taken to be unknown, and using training data, we produce estimates of these parameters $\\hat{\\beta}_0,\\ldots,\\hat{\\beta}_k$\n",
    "\n",
    "The parameter estimates can be obtained using maximum likelihood estimation. The likelihood function is ## the probablity of the observed data (as a function of the unknown $\\beta_j$. \n",
    "If we had a single observation $y(i)$ taking the value 1 with probability $p_1(x^{(i)})$ and 0  with probability $p_0(x^{(i)})$, we can write the probability of observing $y(i)$ as \n",
    "$$p_1(x^{(i)})^{y(i)}p_0(x^{(i)})^{1-y(i)}.$$\n",
    "So the log-likelihood for a single observation is given by \n",
    "$$ y^{(i)} \\log(p_1(x^{(i)})) + (1-y^{(i)}) \\log(p_0(x^{(i)}))$$"
   ]
  },
  {
   "cell_type": "markdown",
   "metadata": {},
   "source": [
    "It will be helpful below to consider the derivatives of this expression with respect to the $\\beta_j$'s.\n",
    "To simplify the notation, we take $y=y^{(i)}$ and $x=x^{(i)}$ so that \n",
    "$$ loglike_1 = y \\log(p_1(x)) + (1-y) \\log(p_0(x))$$"
   ]
  },
  {
   "cell_type": "markdown",
   "metadata": {},
   "source": [
    "Then using the chain rule\n",
    "$$ {\\partial~\\over \\partial \\beta_j} loglike_1= {y \\over p_1(x)} {\\partial~\\over \\partial L} (1/(1+\\exp(-L)) \\times{\\partial~\\over \\partial \\beta_j}L(x) $$\n",
    "$$+{1-y \\over p_0(x)}{\\partial~\\over \\partial L} (exp(-L)/(1+\\exp(-L)) \\times {\\partial~\\over \\partial \\beta_j} (L(x))$$\n",
    "$$ = {y \\over p_1(x)} {e^{-L}\\over (1+e^{-L})^2}x_j $$\n",
    "$$ -{(1-y) \\over p_0(x)} {e^{-L}\\over (1+e^{-L})^2}x_j $$\n",
    "Since \n",
    "$$ {e^{-L}\\over (1+e^{L})^2} = p_1(x)*p_0(x) $$\n",
    "we obtain\n",
    "$$ {\\partial~\\over \\partial \\beta_j} loglike_1 = x_j(y - p_1(x))$$"
   ]
  },
  {
   "cell_type": "markdown",
   "metadata": {},
   "source": [
    "For the second derivatives we have\n",
    "$$ {\\partial^2~\\over \\partial \\beta_r \\partial \\beta_j} loglike_1 =  {\\partial~\\over \\partial \\beta_r}x_j(y - p_1(x)) =- x_j{\\partial~\\over \\partial \\beta_r}p_1(x)$$ \n",
    "$$ = -x_j {\\partial~\\over \\partial L}{1 \\over 1+e^{-L(x)}} \\times {\\partial~\\over \\partial \\beta_r}L(x)$$ \n",
    "$$ = -x_j {e^{-L(x)}/(1+e^{-L(x)})^2} x_r = -x_j x_r p_0(x)p_1(x)$$"
   ]
  },
  {
   "cell_type": "markdown",
   "metadata": {},
   "source": [
    "Since we assume that, conditional on the covariates the $Y$'s are independent, the probability of all of the observed data takes the form of a product:\n",
    "$$ \\prod_{i=1}^n y^{(i)} \\log(p_1(x^{(i)})) + (1-y^{(i)}) \\log(p_0(x^{(i)}))$$\n",
    "so the log-likelihood function takes the form\n",
    "$$ \\mbox{log-like}(\\beta) = \\sum_{i=1}^n \\left\\{ y^{(i)} \\log p_1(x) + (1-y^{(i)})\\log p_0(x)\\right\\}$$ \n",
    "which can be re-written as\n",
    "$$ \\mbox{log-like}(\\beta) = \\sum_{i=1}^n \\left\\{ y^{(i)} \\log p_1(x) + (1-y^{(i)})\\log p_0(x)\\right\\}$$ "
   ]
  },
  {
   "cell_type": "markdown",
   "metadata": {},
   "source": [
    "$$ =\\sum_{i=1}^n \\log \\left[ {1 \\over 1+\\exp(-L(x^{(i)}))}\\right]^{y^{(i)}}$$\n",
    "$$ + \\log \\left[ {\\exp(-L(x^{(i)})) \\over 1+\\exp(-L(x^{(i)}))}\\right]^{1-y^{(i)}}$$\n",
    "$$ = \\sum_{i=1}^n \\log \\left[ {1 \\over 1+\\exp(-L(x^{(i)}))}\\right]^{y^{(i)}} $$\n",
    "$$ +\\sum_{i=1}^n \\log \\left[ {\\exp(-L(x^{(i)})) \\over 1+\\exp(-L(x^{(i)}))}\\right]^{1-y^{(i)}}$$\n",
    "\n",
    "Differenting with respect to $\\beta_j$ and equating to zero (using the work we did above) we need to solve the system of equations\n",
    "$$ \\sum_{i=1}^n x^{(i)}_j (y(i) - p_1(x_j^{(i)}) = 0, ~~j=0,\\ldots,k$$\n",
    "for $\\beta_0,\\ldots,\\beta_k.$\n",
    "This is a nonlinear system of equations since $p_1$ is a function of the $\\beta_j$ terms and maybe, on the face if, this seems a miserable task, however, the second derivative of the log-likelihood takes the form"
   ]
  },
  {
   "cell_type": "markdown",
   "metadata": {},
   "source": [
    "$$ {\\partial~ \\over \\beta_r \\beta_j} loglike = -\\sum_{i=1}^n p_0(x^{(i)})p_1(x^{(i)})x^{(i)}_r x^{(i)}_j$$"
   ]
  },
  {
   "cell_type": "markdown",
   "metadata": {},
   "source": [
    "These terms define the Hessian matrix of second partial derivatives, and this marix is of the form \n",
    "$$\n",
    "\\tilde{X}^t \\tilde{X},\n",
    "$$\n",
    "where $\\tilde{X}$ is the $n \\times k$ matrix whose $i$-th row is a multiple of the $i$-th row of the data matrix\n",
    "$$\n",
    "\\sqrt{p_0(x^{(i)})p_1(x^{(i)})}(x^{(i)}_1,\\ldots,x^{(i)}_k)\n",
    "$$\n",
    "with $x^{(i)}$ being the $i$-th row of our data matrix. Under mild conditions, the matrix $\\tilde{X}$ has linearly independent columns and consequently the matrix\n",
    "$$\n",
    "\\tilde{X}^t \\tilde{X},\n",
    "$$\n",
    "is positive definite, making the negative Hession a positive definite and hence making the log-likelihood a strictly concave function. That is, optimization of the log-likelihood becomes a convex optimization problem."
   ]
  },
  {
   "cell_type": "markdown",
   "metadata": {},
   "source": [
    "Using these estimates, we obtain for each observation in our test set an estimate of the linear term\n",
    "$$ \\hat{L} = \\hat{\\beta}_0 + \\hat{\\beta_1}x_1 + \\ldots + \\hat{\\beta}_k x_k $$\n",
    "which leads to an estimate of the probability\n",
    "$$ \\hat{p}_1 = 1/(1+exp(-\\hat{L})).$$\n",
    "\n",
    "\n",
    "To evaluate performance of our classifiers we first pretend we don't know the classes ($Y$'s) in our test set, use the covariates and the fitted model to do prediction, which gives us a prediction $\\hat{Y}$ for observation in our test set.  Then we compare the predicted values $\\hat{Y}$ to the actual values and quantify how well these predictions do.\n",
    "\n",
    "We typically *classify* an observation in our test set by picking a threshold $\\tau$ and predict the observation as a 1 if $\\hat{p}_1 > \\tau.$"
   ]
  },
  {
   "cell_type": "markdown",
   "metadata": {},
   "source": [
    "##  Classification in scikitlearn\n",
    "\n",
    "As an example we look at the data from this uri:\n",
    "\n",
    "https://archive.ics.uci.edu/ml/datasets/banknote+authentication#\n",
    "\n",
    "Banknote features are analyzed using imaging techniques leading to 4 features:\n",
    "\n",
    "Data were extracted from images that were taken from genuine and forged banknote-like specimens. For digitization, an industrial camera usually used for print inspection was used. The final images have 400x 400 pixels. Due to the object lens and distance to the investigated object gray-scale pictures with a resolution of about 660 dpi were gained. Wavelet Transform tool were used to extract features from images.\n",
    "\n",
    "Variables:\n",
    "\n",
    "1. variance of Wavelet Transformed image (continuous)\n",
    "2. skewness of Wavelet Transformed image (continuous)\n",
    "3. curtosis of Wavelet Transformed image (continuous)\n",
    "4. entropy of image (continuous)\n",
    "5. class (integer)"
   ]
  },
  {
   "cell_type": "code",
   "execution_count": 1,
   "metadata": {
    "tags": []
   },
   "outputs": [
    {
     "name": "stdout",
     "output_type": "stream",
     "text": [
      "N=1372 K=5\n",
      "0    762\n",
      "1    610\n",
      "Name: Y, dtype: int64\n"
     ]
    },
    {
     "data": {
      "text/html": [
       "<div>\n",
       "<style scoped>\n",
       "    .dataframe tbody tr th:only-of-type {\n",
       "        vertical-align: middle;\n",
       "    }\n",
       "\n",
       "    .dataframe tbody tr th {\n",
       "        vertical-align: top;\n",
       "    }\n",
       "\n",
       "    .dataframe thead th {\n",
       "        text-align: right;\n",
       "    }\n",
       "</style>\n",
       "<table border=\"1\" class=\"dataframe\">\n",
       "  <thead>\n",
       "    <tr style=\"text-align: right;\">\n",
       "      <th></th>\n",
       "      <th>var</th>\n",
       "      <th>skew</th>\n",
       "      <th>kurt</th>\n",
       "      <th>ent</th>\n",
       "      <th>Y</th>\n",
       "    </tr>\n",
       "  </thead>\n",
       "  <tbody>\n",
       "    <tr>\n",
       "      <th>0</th>\n",
       "      <td>3.62160</td>\n",
       "      <td>8.6661</td>\n",
       "      <td>-2.8073</td>\n",
       "      <td>-0.44699</td>\n",
       "      <td>0</td>\n",
       "    </tr>\n",
       "    <tr>\n",
       "      <th>1</th>\n",
       "      <td>4.54590</td>\n",
       "      <td>8.1674</td>\n",
       "      <td>-2.4586</td>\n",
       "      <td>-1.46210</td>\n",
       "      <td>0</td>\n",
       "    </tr>\n",
       "    <tr>\n",
       "      <th>2</th>\n",
       "      <td>3.86600</td>\n",
       "      <td>-2.6383</td>\n",
       "      <td>1.9242</td>\n",
       "      <td>0.10645</td>\n",
       "      <td>0</td>\n",
       "    </tr>\n",
       "    <tr>\n",
       "      <th>3</th>\n",
       "      <td>3.45660</td>\n",
       "      <td>9.5228</td>\n",
       "      <td>-4.0112</td>\n",
       "      <td>-3.59440</td>\n",
       "      <td>0</td>\n",
       "    </tr>\n",
       "    <tr>\n",
       "      <th>4</th>\n",
       "      <td>0.32924</td>\n",
       "      <td>-4.4552</td>\n",
       "      <td>4.5718</td>\n",
       "      <td>-0.98880</td>\n",
       "      <td>0</td>\n",
       "    </tr>\n",
       "  </tbody>\n",
       "</table>\n",
       "</div>"
      ],
      "text/plain": [
       "       var    skew    kurt      ent  Y\n",
       "0  3.62160  8.6661 -2.8073 -0.44699  0\n",
       "1  4.54590  8.1674 -2.4586 -1.46210  0\n",
       "2  3.86600 -2.6383  1.9242  0.10645  0\n",
       "3  3.45660  9.5228 -4.0112 -3.59440  0\n",
       "4  0.32924 -4.4552  4.5718 -0.98880  0"
      ]
     },
     "execution_count": 1,
     "metadata": {},
     "output_type": "execute_result"
    }
   ],
   "source": [
    "import pandas as pd\n",
    "import numpy as np\n",
    "import patsy as ps\n",
    "import os\n",
    "\n",
    "\n",
    "cnames=[\"var\",\"skew\",\"kurt\",\"ent\",\"Y\"]\n",
    "df=pd.read_csv(\"data_banknote_authentication.txt\",header=None,names=cnames)\n",
    "N,K=df.shape\n",
    "print(\"N=\"+str(N)+\" K=\"+str(K))\n",
    "print(df.Y.value_counts())\n",
    "df.head()"
   ]
  },
  {
   "cell_type": "code",
   "execution_count": 2,
   "metadata": {
    "tags": []
   },
   "outputs": [
    {
     "name": "stdout",
     "output_type": "stream",
     "text": [
      "(1304, 5)\n",
      "Index(['var', 'skew', 'kurt', 'ent', 'Y'], dtype='object')\n"
     ]
    }
   ],
   "source": [
    "I=np.random.permutation(range(N))\n",
    "Itest=I[0:int(N/20)]\n",
    "Itrain=I[int(N/20):N]\n",
    "dftrain=df.iloc[Itrain]\n",
    "dftest=df.iloc[Itest]\n",
    "print(dftrain.shape)\n",
    "print(dftrain.columns)"
   ]
  },
  {
   "cell_type": "code",
   "execution_count": null,
   "metadata": {},
   "outputs": [],
   "source": [
    "import numpy as np\n",
    "np.squeeze(np.array([1.,2.,3.]).reshape((3,1))).shape"
   ]
  },
  {
   "cell_type": "code",
   "execution_count": null,
   "metadata": {},
   "outputs": [],
   "source": [
    "dftest.shape"
   ]
  },
  {
   "cell_type": "code",
   "execution_count": 3,
   "metadata": {
    "tags": []
   },
   "outputs": [],
   "source": [
    "from sklearn.linear_model import LogisticRegression\n",
    "\n",
    "formula=\"Y~var+skew\"\n",
    "\n",
    "Ytrain,Xtrain=ps.dmatrices(formula,dftrain)\n",
    "Ytest,Xtest=ps.dmatrices(formula,dftest)\n",
    "\n",
    "Ytrain=np.squeeze(Ytrain)\n",
    "Ytest=np.squeeze(Ytest)\n",
    "\n",
    "clf = LogisticRegression().fit(Xtrain,Ytrain)"
   ]
  },
  {
   "cell_type": "markdown",
   "metadata": {},
   "source": [
    "We can use this to preduce probabilities (or log probabilities) of membership in class 1."
   ]
  },
  {
   "cell_type": "code",
   "execution_count": 4,
   "metadata": {
    "tags": []
   },
   "outputs": [],
   "source": [
    "Ypred_prob=clf.predict_proba(Xtest)\n",
    "Ypred_lprob=clf.predict_log_proba(Xtest)"
   ]
  },
  {
   "cell_type": "code",
   "execution_count": 5,
   "metadata": {
    "tags": []
   },
   "outputs": [
    {
     "data": {
      "text/plain": [
       "array([[6.04317348e-01, 3.95682652e-01],\n",
       "       [3.07564679e-03, 9.96924353e-01],\n",
       "       [3.77215730e-01, 6.22784270e-01],\n",
       "       [9.19834068e-04, 9.99080166e-01],\n",
       "       [9.03472306e-02, 9.09652769e-01],\n",
       "       [8.82749639e-01, 1.17250361e-01],\n",
       "       [9.74504301e-01, 2.54956988e-02],\n",
       "       [6.91908424e-04, 9.99308092e-01],\n",
       "       [9.92447817e-01, 7.55218303e-03],\n",
       "       [9.90706447e-01, 9.29355342e-03],\n",
       "       [8.49270436e-01, 1.50729564e-01],\n",
       "       [9.93336734e-01, 6.66326605e-03],\n",
       "       [9.91554350e-01, 8.44564981e-03],\n",
       "       [8.49644707e-01, 1.50355293e-01],\n",
       "       [9.45994974e-01, 5.40050259e-02],\n",
       "       [7.56674542e-01, 2.43325458e-01],\n",
       "       [1.10239503e-01, 8.89760497e-01],\n",
       "       [9.21943826e-01, 7.80561739e-02],\n",
       "       [2.05899775e-01, 7.94100225e-01],\n",
       "       [6.67303654e-02, 9.33269635e-01],\n",
       "       [9.94656732e-01, 5.34326805e-03],\n",
       "       [9.13329664e-01, 8.66703363e-02],\n",
       "       [9.93718502e-01, 6.28149808e-03],\n",
       "       [9.93692671e-01, 6.30732900e-03],\n",
       "       [9.34012467e-01, 6.59875332e-02],\n",
       "       [7.75769865e-01, 2.24230135e-01],\n",
       "       [5.71688656e-01, 4.28311344e-01],\n",
       "       [9.43886980e-01, 5.61130204e-02],\n",
       "       [9.78099022e-01, 2.19009780e-02],\n",
       "       [9.58844436e-01, 4.11555638e-02],\n",
       "       [8.75454143e-01, 1.24545857e-01],\n",
       "       [7.37314638e-01, 2.62685362e-01],\n",
       "       [2.82246618e-01, 7.17753382e-01],\n",
       "       [5.00540532e-01, 4.99459468e-01],\n",
       "       [2.42781726e-02, 9.75721827e-01],\n",
       "       [8.37448362e-01, 1.62551638e-01],\n",
       "       [1.82574887e-01, 8.17425113e-01],\n",
       "       [1.17515895e-02, 9.88248410e-01],\n",
       "       [7.55645928e-01, 2.44354072e-01],\n",
       "       [2.39956197e-01, 7.60043803e-01],\n",
       "       [9.98962874e-01, 1.03712552e-03],\n",
       "       [3.73606268e-01, 6.26393732e-01],\n",
       "       [7.52924058e-01, 2.47075942e-01],\n",
       "       [9.67738839e-01, 3.22611614e-02],\n",
       "       [2.12239260e-01, 7.87760740e-01],\n",
       "       [1.50867792e-04, 9.99849132e-01],\n",
       "       [9.99371391e-01, 6.28609242e-04],\n",
       "       [1.53140064e-03, 9.98468599e-01],\n",
       "       [9.31511687e-01, 6.84883132e-02],\n",
       "       [9.98615849e-01, 1.38415063e-03],\n",
       "       [1.44926086e-02, 9.85507391e-01],\n",
       "       [1.91102711e-01, 8.08897289e-01],\n",
       "       [5.03299506e-01, 4.96700494e-01],\n",
       "       [1.40431044e-03, 9.98595690e-01],\n",
       "       [7.71765189e-01, 2.28234811e-01],\n",
       "       [7.85962756e-01, 2.14037244e-01],\n",
       "       [3.14495804e-01, 6.85504196e-01],\n",
       "       [1.35939277e-02, 9.86406072e-01],\n",
       "       [3.78587660e-01, 6.21412340e-01],\n",
       "       [9.93554979e-01, 6.44502061e-03],\n",
       "       [5.34727173e-01, 4.65272827e-01],\n",
       "       [8.78738964e-04, 9.99121261e-01],\n",
       "       [8.64090465e-01, 1.35909535e-01],\n",
       "       [2.27669366e-03, 9.97723306e-01],\n",
       "       [5.03299506e-01, 4.96700494e-01],\n",
       "       [3.93559276e-01, 6.06440724e-01],\n",
       "       [7.38483901e-01, 2.61516099e-01],\n",
       "       [5.60924326e-01, 4.39075674e-01]])"
      ]
     },
     "execution_count": 5,
     "metadata": {},
     "output_type": "execute_result"
    }
   ],
   "source": [
    "Ypred_prob"
   ]
  },
  {
   "cell_type": "markdown",
   "metadata": {},
   "source": [
    "To use these to make a decision we need to pick a threshold for deciding the class."
   ]
  },
  {
   "cell_type": "code",
   "execution_count": 6,
   "metadata": {
    "tags": []
   },
   "outputs": [
    {
     "data": {
      "text/html": [
       "<div>\n",
       "<style scoped>\n",
       "    .dataframe tbody tr th:only-of-type {\n",
       "        vertical-align: middle;\n",
       "    }\n",
       "\n",
       "    .dataframe tbody tr th {\n",
       "        vertical-align: top;\n",
       "    }\n",
       "\n",
       "    .dataframe thead th {\n",
       "        text-align: right;\n",
       "    }\n",
       "</style>\n",
       "<table border=\"1\" class=\"dataframe\">\n",
       "  <thead>\n",
       "    <tr style=\"text-align: right;\">\n",
       "      <th>col_0</th>\n",
       "      <th>False</th>\n",
       "      <th>True</th>\n",
       "    </tr>\n",
       "    <tr>\n",
       "      <th>row_0</th>\n",
       "      <th></th>\n",
       "      <th></th>\n",
       "    </tr>\n",
       "  </thead>\n",
       "  <tbody>\n",
       "    <tr>\n",
       "      <th>0.0</th>\n",
       "      <td>38</td>\n",
       "      <td>4</td>\n",
       "    </tr>\n",
       "    <tr>\n",
       "      <th>1.0</th>\n",
       "      <td>4</td>\n",
       "      <td>22</td>\n",
       "    </tr>\n",
       "  </tbody>\n",
       "</table>\n",
       "</div>"
      ],
      "text/plain": [
       "col_0  False  True \n",
       "row_0              \n",
       "0.0       38      4\n",
       "1.0        4     22"
      ]
     },
     "execution_count": 6,
     "metadata": {},
     "output_type": "execute_result"
    }
   ],
   "source": [
    "threshold=.5\n",
    "\n",
    "Ypred=pd.Series(Ypred_prob[:,1]>threshold)\n",
    "Ytest=pd.Series(Ytest)\n",
    "\n",
    "pd.crosstab(Ytest,Ypred)"
   ]
  },
  {
   "cell_type": "code",
   "execution_count": 8,
   "metadata": {
    "tags": []
   },
   "outputs": [
    {
     "name": "stdout",
     "output_type": "stream",
     "text": [
      "(68, 4)\n"
     ]
    }
   ],
   "source": [
    "from sklearn.linear_model import LogisticRegression\n",
    "\n",
    "formula=\"Y~var+skew+var*skew**2\"\n",
    "Ytrain,Xtrain=ps.dmatrices(formula,dftrain)\n",
    "Ytest,Xtest=ps.dmatrices(formula,dftest)\n",
    "\n",
    "Ytrain=np.squeeze(Ytrain)\n",
    "Ytest=np.squeeze(Ytest)\n",
    "\n",
    "clf = LogisticRegression().fit(Xtrain,Ytrain)\n",
    "Ypred_prob=clf.predict_proba(Xtest)\n",
    "print(Xtest.shape)\n",
    "#print(Ypred_prob)"
   ]
  },
  {
   "cell_type": "markdown",
   "metadata": {},
   "source": [
    "The prob array gives estimates of $(p_0(x),p_1(x))$ for the rows of the test data set."
   ]
  },
  {
   "cell_type": "code",
   "execution_count": null,
   "metadata": {},
   "outputs": [],
   "source": [
    "Ypred_prob[0:10,:]"
   ]
  },
  {
   "cell_type": "code",
   "execution_count": null,
   "metadata": {},
   "outputs": [],
   "source": [
    "pd.Series(Ypred_prob[:,0]).hist()"
   ]
  },
  {
   "cell_type": "markdown",
   "metadata": {},
   "source": [
    "Pick a threshold and use that to classify."
   ]
  },
  {
   "cell_type": "code",
   "execution_count": 9,
   "metadata": {
    "tags": []
   },
   "outputs": [
    {
     "data": {
      "text/html": [
       "<div>\n",
       "<style scoped>\n",
       "    .dataframe tbody tr th:only-of-type {\n",
       "        vertical-align: middle;\n",
       "    }\n",
       "\n",
       "    .dataframe tbody tr th {\n",
       "        vertical-align: top;\n",
       "    }\n",
       "\n",
       "    .dataframe thead th {\n",
       "        text-align: right;\n",
       "    }\n",
       "</style>\n",
       "<table border=\"1\" class=\"dataframe\">\n",
       "  <thead>\n",
       "    <tr style=\"text-align: right;\">\n",
       "      <th>col_0</th>\n",
       "      <th>False</th>\n",
       "      <th>True</th>\n",
       "    </tr>\n",
       "    <tr>\n",
       "      <th>row_0</th>\n",
       "      <th></th>\n",
       "      <th></th>\n",
       "    </tr>\n",
       "  </thead>\n",
       "  <tbody>\n",
       "    <tr>\n",
       "      <th>0.0</th>\n",
       "      <td>36</td>\n",
       "      <td>6</td>\n",
       "    </tr>\n",
       "    <tr>\n",
       "      <th>1.0</th>\n",
       "      <td>3</td>\n",
       "      <td>23</td>\n",
       "    </tr>\n",
       "  </tbody>\n",
       "</table>\n",
       "</div>"
      ],
      "text/plain": [
       "col_0  False  True \n",
       "row_0              \n",
       "0.0       36      6\n",
       "1.0        3     23"
      ]
     },
     "execution_count": 9,
     "metadata": {},
     "output_type": "execute_result"
    }
   ],
   "source": [
    "threshold=.5\n",
    "\n",
    "Ypred=pd.Series(Ypred_prob[:,1]>=threshold)\n",
    "Ytest=pd.Series(Ytest)\n",
    "\n",
    "#for i in range(25):\n",
    "#    print(Ytest[i],Ypred[i])\n",
    "\n",
    "pd.crosstab(Ytest,Ypred)"
   ]
  },
  {
   "cell_type": "markdown",
   "metadata": {},
   "source": [
    "We can make predictions based on any threshold for the probability.  We can estimate the error rates associated with use of .5 as a threshold."
   ]
  },
  {
   "cell_type": "code",
   "execution_count": 11,
   "metadata": {
    "tags": []
   },
   "outputs": [
    {
     "name": "stdout",
     "output_type": "stream",
     "text": [
      "sklearn confusion matrix\n",
      "[[36  6]\n",
      " [ 3 23]]\n",
      "\n",
      "\n",
      "my confusion matrix\n",
      "    0   1\n",
      "0  36   6\n",
      "1   3  23\n",
      "\n",
      "\n",
      "false positive rate = 0.143\n",
      "true positive rate = 0.885\n"
     ]
    }
   ],
   "source": [
    "import numpy as np\n",
    "from sklearn.metrics import confusion_matrix\n",
    "\n",
    "threshold=.5\n",
    "Ypred=Ypred_prob[:,1]>threshold\n",
    "\n",
    "\n",
    "print(\"sklearn confusion matrix\")\n",
    "print(confusion_matrix(Ytest,Ypred))\n",
    "print(\"\\n\")\n",
    "\n",
    "ActualNeg=sum(Ytest==0)\n",
    "ActualPos=sum(Ytest==1)\n",
    "\n",
    "TN=sum((Ytest==0)&(Ypred==False))\n",
    "FP=sum((Ytest==0)&(Ypred==True))\n",
    "TP=sum((Ytest==1)&(Ypred==True))\n",
    "FN=sum((Ytest==1)&(Ypred==False))\n",
    "\n",
    "d=pd.DataFrame(np.matrix([[TN,FP],[FN,TP]]))\n",
    "print(\"my confusion matrix\")\n",
    "print(d)\n",
    "FPR = FP/(FP+TN)\n",
    "TPR = TP/(TP+FN)\n",
    "print(\"\\n\")\n",
    "\n",
    "print(\"false positive rate = {:5.3f}\".format(FPR))\n",
    "print(\"true positive rate = {:5.3f}\".format(TPR))"
   ]
  },
  {
   "cell_type": "markdown",
   "metadata": {},
   "source": [
    "Try a different threshold."
   ]
  },
  {
   "cell_type": "code",
   "execution_count": 12,
   "metadata": {
    "tags": []
   },
   "outputs": [
    {
     "name": "stdout",
     "output_type": "stream",
     "text": [
      "sklearn confusion matrix\n",
      "[[ 0 42]\n",
      " [15 11]]\n",
      "\n",
      "\n",
      "my confusion matrix\n",
      "    0   1\n",
      "0   0  42\n",
      "1  15  11\n",
      "\n",
      "\n",
      "false positive rate = 1.000\n",
      "true positive rate = 0.423\n"
     ]
    }
   ],
   "source": [
    "import numpy as np\n",
    "from sklearn.metrics import confusion_matrix\n",
    "\n",
    "\n",
    "threshold=.1\n",
    "Ypred=Ypred_prob[:,0]>threshold\n",
    "ActualNeg=sum(Ytest==0)\n",
    "ActualPos=sum(Ytest==1)\n",
    "\n",
    "print(\"sklearn confusion matrix\")\n",
    "print(confusion_matrix(Ytest,Ypred))\n",
    "print(\"\\n\")\n",
    "\n",
    "TN=sum((Ytest==0)&(Ypred==False))\n",
    "FP=sum((Ytest==0)&(Ypred==True))\n",
    "TP=sum((Ytest==1)&(Ypred==True))\n",
    "FN=sum((Ytest==1)&(Ypred==False))\n",
    "\n",
    "d=pd.DataFrame(np.matrix([[TN,FP],[FN,TP]]))\n",
    "print(\"my confusion matrix\")\n",
    "print(d)\n",
    "FPR = FP/(FP+TN)\n",
    "TPR = TP/(TP+FN)\n",
    "print(\"\\n\")\n",
    "\n",
    "print(\"false positive rate = {:5.3f}\".format(FPR))\n",
    "print(\"true positive rate = {:5.3f}\".format(TPR))"
   ]
  },
  {
   "cell_type": "markdown",
   "metadata": {},
   "source": [
    "Note that as we increase our threshold for predicting $Y=1,$ both rates do not decrease."
   ]
  },
  {
   "cell_type": "markdown",
   "metadata": {},
   "source": [
    "## ROC Curves\n",
    "\n",
    "When we build a classifier that gives a probability of success for each $x,$ the performance of the classifier depends on the choice of a threshold for deciding to predict success. In this situation it is common to summarize the performance of the classifier by plotting its true positive rate as a function of its false positive rate.\n"
   ]
  },
  {
   "cell_type": "markdown",
   "metadata": {},
   "source": [
    "Plot an ROC curve (true positive vs false positive rate)"
   ]
  },
  {
   "cell_type": "code",
   "execution_count": 13,
   "metadata": {
    "tags": []
   },
   "outputs": [],
   "source": [
    "import numpy as np\n",
    "from sklearn import metrics\n",
    "fpr, tpr, thresholds = metrics.roc_curve(list(Ytest), list(Ypred_prob[:,1]))"
   ]
  },
  {
   "cell_type": "code",
   "execution_count": 14,
   "metadata": {
    "tags": []
   },
   "outputs": [
    {
     "data": {
      "text/plain": [
       "array([       inf, 0.99999999, 0.88467812, 0.85692699, 0.69098167,\n",
       "       0.55886677, 0.55149243, 0.52769618, 0.49467062, 0.30268193])"
      ]
     },
     "execution_count": 14,
     "metadata": {},
     "output_type": "execute_result"
    }
   ],
   "source": [
    "thresholds[0:10]"
   ]
  },
  {
   "cell_type": "code",
   "execution_count": 15,
   "metadata": {
    "tags": []
   },
   "outputs": [
    {
     "name": "stderr",
     "output_type": "stream",
     "text": [
      "C:\\Users\\dan\\AppData\\Local\\Temp\\ipykernel_15540\\2400154434.py:10: UserWarning: color is redundantly defined by the 'color' keyword argument and the fmt string \"k-\" (-> color='k'). The keyword argument will take precedence.\n",
      "  plt.plot([lineStart, lineEnd], [lineStart, lineEnd], 'k-', color = 'r')\n"
     ]
    },
    {
     "data": {
      "image/png": "[encoded data removed]",
      "text/plain": [
       "<Figure size 640x480 with 1 Axes>"
      ]
     },
     "metadata": {},
     "output_type": "display_data"
    }
   ],
   "source": [
    "%matplotlib inline\n",
    "import matplotlib.pyplot as plt\n",
    "\n",
    "lineStart,lineEnd=0,1\n",
    "\n",
    "plt.plot(fpr,tpr)\n",
    "plt.title('ROC Curve')\n",
    "plt.xlabel('False Positive Rate')\n",
    "plt.ylabel('True Positive Rate')\n",
    "plt.plot([lineStart, lineEnd], [lineStart, lineEnd], 'k-', color = 'r')\n",
    "plt.xlim(lineStart, lineEnd)\n",
    "plt.ylim(lineStart, lineEnd)\n",
    "plt.show()"
   ]
  },
  {
   "cell_type": "markdown",
   "metadata": {},
   "source": [
    "ROC curves with higher values are preferred. \n",
    "\n",
    "What happens if we simply flip a biased coin (independently of the true $Y$) with probability of success $p$ to come up with $\\hat{Y}$ to predict $Y$?\n",
    "\n",
    "By independence, \n",
    "\n",
    "$$ \\mbox{fpr} = P[\\hat{Y}=1\\vert Y=0] = P[\\hat{Y}=1] = p $$\n",
    "\n",
    "and\n",
    "\n",
    "$$ \\mbox{tpr} = P[\\hat{Y}=1\\vert Y=1] = P[\\hat{Y}=1] = p. $$\n",
    "\n",
    "So as we vary $p$ the _random guessing_ classifier gives rise to the $\\mbox{tpr}=\\mbox{fpr}$ ROC curve, shown in red above."
   ]
  },
  {
   "cell_type": "markdown",
   "metadata": {},
   "source": [
    "## Area under the ROC curve (AUC)\n",
    "\n",
    "The area under the ROC curve gives a single number desribing the performance of a classifier."
   ]
  },
  {
   "cell_type": "code",
   "execution_count": null,
   "metadata": {},
   "outputs": [],
   "source": [
    "from sklearn.metrics import roc_auc_score\n",
    "\n",
    "roc_auc_score(Ytest,Ypred_prob[:,1])"
   ]
  },
  {
   "cell_type": "markdown",
   "metadata": {},
   "source": [
    "## Decision Trees in Sklearn"
   ]
  },
  {
   "cell_type": "code",
   "execution_count": null,
   "metadata": {},
   "outputs": [],
   "source": [
    "from sklearn import tree\n",
    "clf = tree.DecisionTreeClassifier(min_samples_split=25,min_samples_leaf=25)\n",
    "clf = clf.fit(Xtrain,Ytrain)"
   ]
  },
  {
   "cell_type": "code",
   "execution_count": null,
   "metadata": {},
   "outputs": [],
   "source": [
    "ptrain=clf.predict_proba(Xtrain)[:,1] # in sample data\n",
    "ptest=clf.predict_proba(Xtest)[:,1] # out of sample data"
   ]
  },
  {
   "cell_type": "code",
   "execution_count": null,
   "metadata": {},
   "outputs": [],
   "source": [
    "import numpy as np\n",
    "from sklearn import metrics\n",
    "fpr1, tpr1, thresholds = metrics.roc_curve(list(Ytrain), list(ptrain))\n",
    "fpr2, tpr2, thresholds = metrics.roc_curve(list(Ytest), list(ptest))"
   ]
  },
  {
   "cell_type": "markdown",
   "metadata": {},
   "source": [
    "We plot the ROC curve obtained on the training data and the test data.\n",
    "So the same data are used to train and produce an ROC curve!"
   ]
  },
  {
   "cell_type": "code",
   "execution_count": null,
   "metadata": {},
   "outputs": [],
   "source": [
    "%matplotlib inline\n",
    "import matplotlib.pyplot as plt\n",
    "\n",
    "lineStart,lineEnd=0,1\n",
    "plt.plot(fpr1,tpr1,color=\"b\")\n",
    "plt.plot(fpr2,tpr2,color=\"g\")\n",
    "plt.title('ROC Curves')\n",
    "plt.xlabel('False Positive Rate')\n",
    "plt.ylabel('True Positive Rate')\n",
    "plt.plot([lineStart, lineEnd], [lineStart, lineEnd], 'k-', color = 'r')\n",
    "plt.xlim(lineStart, lineEnd)\n",
    "plt.ylim(lineStart, lineEnd)\n",
    "plt.show()"
   ]
  },
  {
   "cell_type": "markdown",
   "metadata": {},
   "source": [
    "# Random Forest Classifier\n",
    "\n",
    "This is an *ensemble* method in which we repeatedly\n",
    "\n",
    "- draw a random subset of features\n",
    "- build a low depth decision tree classifier based on the observations & features\n",
    "\n",
    "then the individual classifies *vote* to make a classification decision.\n",
    "\n",
    "If we use the *bootstrap=True* option, in each repetition we draw a sample of observations with replacement to give a dataset whose sample size is the same as the dataset used to train the classifier."
   ]
  },
  {
   "cell_type": "code",
   "execution_count": null,
   "metadata": {},
   "outputs": [],
   "source": [
    "import pandas as pd\n",
    "import numpy as np\n",
    "import patsy as ps\n",
    "import os\n",
    "from sklearn.model_selection import train_test_split\n",
    "\n",
    "cnames=[\"var\",\"skew\",\"kurt\",\"ent\",\"Y\"]\n",
    "df=pd.read_csv(\"data_banknote_authentication.txt\",header=None,names=cnames)\n",
    "N,K=df.shape\n",
    "print(\"N=\"+str(N)+\" K=\"+str(K))\n",
    "print(df.Y.value_counts())\n",
    "\n",
    "X=df.loc[:,cnames[0:4]]\n",
    "Y=df.loc[:,\"Y\"]\n",
    "\n",
    "Xtrain, Xtest, Ytrain, Ytest = train_test_split(X, Y, train_size=.8,random_state=0)\n",
    "print(Xtrain.shape[0])\n",
    "print(Xtest.shape[0])"
   ]
  },
  {
   "cell_type": "code",
   "execution_count": null,
   "metadata": {},
   "outputs": [],
   "source": [
    "from sklearn.ensemble import RandomForestClassifier\n",
    "from sklearn.datasets import make_classification\n",
    "clf = RandomForestClassifier(max_depth=3, max_features=2,random_state=0,n_estimators=100)\n",
    "fit=clf.fit(Xtrain, Ytrain)\n",
    "Ypred=fit.predict(Xtest)\n",
    "pd.crosstab(Ytest,Ypred)"
   ]
  },
  {
   "cell_type": "code",
   "execution_count": null,
   "metadata": {},
   "outputs": [],
   "source": []
  }
 ],
 "metadata": {
  "kernelspec": {
   "display_name": "Python 3 (ipykernel)",
   "language": "python",
   "name": "python3"
  },
  "language_info": {
   "codemirror_mode": {
    "name": "ipython",
    "version": 3
   },
   "file_extension": ".py",
   "mimetype": "text/x-python",
   "name": "python",
   "nbconvert_exporter": "python",
   "pygments_lexer": "ipython3",
   "version": "3.11.4"
  }
 },
 "nbformat": 4,
 "nbformat_minor": 4
}
